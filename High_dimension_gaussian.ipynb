{
 "cells": [
  {
   "cell_type": "code",
   "execution_count": 1,
   "id": "677345ba-c8f1-40ce-ba7d-9fd298af2ea3",
   "metadata": {},
   "outputs": [],
   "source": [
    "import numpy as np\n",
    "import matplotlib.pyplot as plt\n",
    "from scipy.stats import multivariate_normal\n",
    "import pandas as pd"
   ]
  },
  {
   "cell_type": "code",
   "execution_count": 2,
   "id": "5af37c6a-8504-46c7-9ccb-5c35ad905095",
   "metadata": {},
   "outputs": [],
   "source": [
    "N=100"
   ]
  },
  {
   "cell_type": "code",
   "execution_count": 3,
   "id": "314cefaf-9913-4c74-b69f-bbf36a3b9d3f",
   "metadata": {},
   "outputs": [],
   "source": [
    "mean_0 = np.zeros(5)\n",
    "mean_1 = np.ones(5)\n",
    "mean_2 = np.array((-2,2,-2,2,-2))\n",
    "mean_3 = np.array((1/2,1,2,3,4))\n",
    "cov_0 = np.eye(5)\n",
    "cov_1 = np.eye(5)*1/2\n",
    "cov_2 = np.eye(5)\n",
    "cov_3 = np.eye(5)\n",
    "for i in range(5):\n",
    "    cov_2[i,i] = 1/(i+1)\n",
    "    cov_3[i,i] = 0.5*(i+0.01)\n",
    "\n",
    "mean_list = [mean_0,mean_1,mean_2,mean_3]\n",
    "cov_list = [cov_0,cov_1,cov_2,cov_3]"
   ]
  },
  {
   "cell_type": "code",
   "execution_count": 4,
   "id": "84ffa32e-3117-4ca0-95fd-c84868a93abb",
   "metadata": {},
   "outputs": [],
   "source": [
    "dict_gaussian = {}\n",
    "for i in range(4):\n",
    "    dict_gaussian['gaussian_{0}'.format(i)] = np.random.multivariate_normal(mean=mean_list[i], cov=cov_list[i], size=N)"
   ]
  },
  {
   "cell_type": "code",
   "execution_count": 5,
   "id": "254f3b69-fce4-46eb-8abc-6fec38245d16",
   "metadata": {},
   "outputs": [],
   "source": [
    "whole_data = np.empty((0,5))"
   ]
  },
  {
   "cell_type": "code",
   "execution_count": 6,
   "id": "878225be-c1f8-48bc-aeb9-ec8338994e56",
   "metadata": {},
   "outputs": [],
   "source": [
    "for i in dict_gaussian:\n",
    "    whole_data = np.vstack((whole_data,dict_gaussian[i]))"
   ]
  },
  {
   "cell_type": "code",
   "execution_count": 7,
   "id": "9679000d-2db7-4b8a-aaeb-57bff6733f23",
   "metadata": {},
   "outputs": [],
   "source": [
    "true_labels = np.ones((4*N,1))\n",
    "observed_labels = np.ones((4*N,1))"
   ]
  },
  {
   "cell_type": "code",
   "execution_count": 8,
   "id": "670e9805-07be-40da-9f41-ab2b5b02615a",
   "metadata": {},
   "outputs": [],
   "source": [
    "for i in range(N):\n",
    "    true_labels[i,0] = 0\n",
    "    true_labels[N+i,0] = 1\n",
    "    true_labels[2*N+i,0] = 2\n",
    "    true_labels[3*N+i,0] = 3"
   ]
  },
  {
   "cell_type": "code",
   "execution_count": 9,
   "id": "640312d8-5e2c-413f-b5ae-87155710da14",
   "metadata": {},
   "outputs": [],
   "source": [
    "whole_data = np.hstack((whole_data,true_labels,observed_labels))"
   ]
  },
  {
   "cell_type": "code",
   "execution_count": 10,
   "id": "3abfc9af-0fee-4cff-8878-1d21c5d2936d",
   "metadata": {},
   "outputs": [],
   "source": [
    "for i in range(int((4*N)/2)):\n",
    "    whole_data[2*i,6] = 99\n",
    "    whole_data[2*i+1,6] = whole_data[2*i+1,5]"
   ]
  },
  {
   "cell_type": "markdown",
   "id": "3d921800-1465-4d64-b198-6711288f3f01",
   "metadata": {},
   "source": [
    "So now, half of the dataset is unlabeled.\n",
    "We will thus try to predict the most probable category."
   ]
  },
  {
   "cell_type": "code",
   "execution_count": 11,
   "id": "80a0ba8f-f0e5-44a6-957e-f3cab5277445",
   "metadata": {},
   "outputs": [],
   "source": [
    "df_whole_data = pd.DataFrame(whole_data)"
   ]
  },
  {
   "cell_type": "code",
   "execution_count": 12,
   "id": "1b2b8644-c702-46c4-9bfb-6217644ac47a",
   "metadata": {},
   "outputs": [],
   "source": [
    "df_whole_data.columns = ['x_1','x_2','x_3','x_4','x_5','true_label','observed_label']"
   ]
  },
  {
   "cell_type": "code",
   "execution_count": 13,
   "id": "8a092342-f067-4704-a970-2b88e8636c3d",
   "metadata": {},
   "outputs": [],
   "source": [
    "estimation_mean = df_whole_data.drop(['true_label'],axis=1).groupby('observed_label').mean().to_numpy()"
   ]
  },
  {
   "cell_type": "code",
   "execution_count": 14,
   "id": "21c105c2-d529-4e2d-b84b-b80beb49f398",
   "metadata": {},
   "outputs": [],
   "source": [
    "estimation_cov = {}\n",
    "for i in range(4):\n",
    "    partial_data_cov = np.cov(df_whole_data[df_whole_data['observed_label'] == i].drop(['true_label','observed_label'],axis=1).to_numpy(),\n",
    "                             rowvar=False)\n",
    "    estimation_cov[str(i)] = partial_data_cov"
   ]
  },
  {
   "cell_type": "code",
   "execution_count": 15,
   "id": "c36aad26-75cc-46f5-8772-cadcf594eed4",
   "metadata": {},
   "outputs": [],
   "source": [
    "dict_pi = {}\n",
    "for i in range(4):\n",
    "    dict_pi['pi_{0}'.format(i)] = 1/4"
   ]
  },
  {
   "cell_type": "code",
   "execution_count": 16,
   "id": "31a16273-dfb4-4e40-963e-bf07d791d0eb",
   "metadata": {},
   "outputs": [],
   "source": [
    "iterations = 1000"
   ]
  },
  {
   "cell_type": "code",
   "execution_count": 17,
   "id": "533e41ba-4e02-4d98-a188-9aaadcd4041f",
   "metadata": {},
   "outputs": [],
   "source": [
    "weights = np.ones((4*N,4))    "
   ]
  },
  {
   "cell_type": "code",
   "execution_count": 18,
   "id": "20dec92e-fd50-488c-a430-586c4cc3b61d",
   "metadata": {},
   "outputs": [],
   "source": [
    "def update_cov_4(X,mean,weights,group):\n",
    "    \"\"\"a function to estimate the covariance with a new mean\n",
    "    Parameter\n",
    "    -------------------------------\n",
    "    X : array-like\n",
    "    the data with which we want to estimate the new covariance\n",
    "\n",
    "    mean : array-like\n",
    "    the new mean that doesn't correspond to the 'true mean'\n",
    "\n",
    "    weights : arrar-like \n",
    "    the matrix of weights of the whole data\n",
    "\n",
    "    group : int\n",
    "    the group in which we want to update\n",
    "    --------------------------------\n",
    "    \"\"\"\n",
    "    sum_of_mat = np.zeros((X.shape[1],X.shape[1]))\n",
    "    for i in range(X.shape[0]):\n",
    "        temporal_cov = weights[i,group]*np.matmul((X[i,:]-mean).reshape((X.shape[1],1)),\n",
    "                                                      (X[i,:]-mean).reshape((1,X.shape[1])))\n",
    "        sum_of_mat += temporal_cov\n",
    "    sum_of_weights = np.sum(weights[:,group])\n",
    "    weighted_sigma = sum_of_mat/sum_of_weights\n",
    "    return weighted_sigma"
   ]
  },
  {
   "cell_type": "code",
   "execution_count": 19,
   "id": "48b1abc1-c387-4a18-a761-52235de763b4",
   "metadata": {
    "scrolled": true
   },
   "outputs": [],
   "source": [
    "n=0\n",
    "while n<=iterations:\n",
    "    n+=1\n",
    "    for component in range(4):\n",
    "        #update of weights\n",
    "        for i in range(whole_data.shape[0]):\n",
    "            if whole_data[i,6] == 99:\n",
    "                x_test = whole_data[i,0:5]\n",
    "                numerator = dict_pi['pi_{0}'.format(component)]*multivariate_normal.pdf(mean=estimation_mean[component,:],\n",
    "                                                                                        cov=estimation_cov[str(component)],\n",
    "                                                                                        x=x_test)\n",
    "                denom = dict_pi['pi_0']*multivariate_normal.pdf(mean=estimation_mean[0,:],cov=estimation_cov['0'],x=x_test)+dict_pi['pi_1']*multivariate_normal.pdf(mean=estimation_mean[1,:],cov=estimation_cov['1'],x=x_test)+dict_pi['pi_2']*multivariate_normal.pdf(mean=estimation_mean[2,:],cov=estimation_cov['2'],x=x_test)+dict_pi['pi_3']*multivariate_normal.pdf(mean=estimation_mean[3,:],cov=estimation_cov['3'],x=x_test)\n",
    "                data_point_w = numerator/denom\n",
    "                weights[i,component] = data_point_w\n",
    "            elif whole_data[i,6] == component:\n",
    "                weights[i,component] = 1\n",
    "            else:\n",
    "                weights[i,component] = 0\n",
    "        #update of parameters\n",
    "        dict_pi['pi_{0}'.format(component)] = np.sum(weights[:,component])\n",
    "        estimation_mean[component,:] = np.sum(whole_data[:,0:5]*(weights[:,component].reshape(whole_data.shape[0],1)))/np.sum(weights[:,component])\n",
    "        estimation_cov[str(component)] = update_cov_4(X=whole_data[:,0:5],group=component,\n",
    "                                                      mean=estimation_mean[component,:],weights=weights)\n",
    "        \n",
    "                                              \n",
    "        \n",
    "        \n",
    "        "
   ]
  },
  {
   "cell_type": "code",
   "execution_count": 20,
   "id": "3a7ac7f2-9085-4ac2-b9b5-8dd29c302dc2",
   "metadata": {},
   "outputs": [],
   "source": [
    "predicted_label = np.zeros((4*N,1))\n",
    "for i in range(4*N):\n",
    "    predicted_label[i,0] = np.where(weights[i,:] == np.max(weights[i,:]))[0][0]"
   ]
  },
  {
   "cell_type": "code",
   "execution_count": 21,
   "id": "8aef2fa6-1483-469b-b68b-e015a6f0836d",
   "metadata": {},
   "outputs": [],
   "source": [
    "well_labeled = 0\n",
    "wrongly_labeled = 0\n",
    "for i in range(4*N):\n",
    "    if predicted_label[i,0] == whole_data[i,5]:\n",
    "        well_labeled += 1\n",
    "    else:\n",
    "        wrongly_labeled += 1\n",
    "\n",
    "percentage_well_labeled = well_labeled/4\n",
    "error_percentage = wrongly_labeled/4"
   ]
  },
  {
   "cell_type": "code",
   "execution_count": 22,
   "id": "7f8c3bc1-994b-43ce-b6ec-6fd785e398c4",
   "metadata": {},
   "outputs": [
    {
     "name": "stdout",
     "output_type": "stream",
     "text": [
      "good prediction : 82.75 \n",
      " error rate : 17.25\n"
     ]
    }
   ],
   "source": [
    "print('good prediction :', percentage_well_labeled, '\\n', 'error rate :', error_percentage)"
   ]
  },
  {
   "cell_type": "markdown",
   "id": "ace93f4c-d43a-41e5-adf3-3b5e47e05bdf",
   "metadata": {},
   "source": [
    "## For a hundred iterations, the well labeled points corresponded to 83.25% of the dataset, the error rate was thus 16.75%\n",
    "\n",
    "With 1000 iterations it is worse : good prediction : 82.75 \n",
    " error rate : 17.25"
   ]
  },
  {
   "cell_type": "code",
   "execution_count": null,
   "id": "2d9c3cc1-bea0-4ffa-8578-405aba1a5a0e",
   "metadata": {},
   "outputs": [],
   "source": []
  }
 ],
 "metadata": {
  "kernelspec": {
   "display_name": "Python 3 (ipykernel)",
   "language": "python",
   "name": "python3"
  },
  "language_info": {
   "codemirror_mode": {
    "name": "ipython",
    "version": 3
   },
   "file_extension": ".py",
   "mimetype": "text/x-python",
   "name": "python",
   "nbconvert_exporter": "python",
   "pygments_lexer": "ipython3",
   "version": "3.12.3"
  }
 },
 "nbformat": 4,
 "nbformat_minor": 5
}
