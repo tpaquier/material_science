{
 "cells": [
  {
   "cell_type": "code",
   "execution_count": 1,
   "id": "880dd005-4207-4496-ab14-48f8c86acb00",
   "metadata": {},
   "outputs": [],
   "source": [
    "import numpy as np\n",
    "import matplotlib.pyplot as plt\n",
    "import pandas as pd"
   ]
  },
  {
   "cell_type": "code",
   "execution_count": 19,
   "id": "8b602589-7790-49c6-9b0b-1aa1035b958d",
   "metadata": {},
   "outputs": [],
   "source": [
    "cov_blue = np.vstack(([1/8,0],[0,1/4]))\n",
    "mean_blue = np.array(([0,0]))"
   ]
  },
  {
   "cell_type": "code",
   "execution_count": 20,
   "id": "e1a17669-eca5-4083-a8aa-8e34955d4ec1",
   "metadata": {},
   "outputs": [],
   "source": [
    "cov_red = np.vstack(([2,0],[0,1/2]))\n",
    "mean_red = np.array(([1,2]))"
   ]
  },
  {
   "cell_type": "code",
   "execution_count": 21,
   "id": "1f970da1-33e3-4967-88fd-7e2a9a70d65a",
   "metadata": {},
   "outputs": [],
   "source": [
    "gaussian_red = np.random.multivariate_normal(mean=mean_red, cov=cov_red, size=100)"
   ]
  },
  {
   "cell_type": "code",
   "execution_count": 22,
   "id": "3f260022-df04-4ce4-b581-ba7e8b3b5d14",
   "metadata": {},
   "outputs": [],
   "source": [
    "gaussian_blue = np.random.multivariate_normal(mean=mean_blue, cov=cov_blue, size=100)"
   ]
  },
  {
   "cell_type": "code",
   "execution_count": 23,
   "id": "cb1301fe-c93a-44c1-bc3f-194b8627fbc4",
   "metadata": {},
   "outputs": [
    {
     "name": "stderr",
     "output_type": "stream",
     "text": [
      "/tmp/ipykernel_295/1150308781.py:1: UserWarning: marker is redundantly defined by the 'marker' keyword argument and the fmt string \"bo\" (-> marker='o'). The keyword argument will take precedence.\n",
      "  plt.plot(gaussian_red[:,0], gaussian_red[:,1], 'bo', color='red', marker='.', markersize=10)\n",
      "/tmp/ipykernel_295/1150308781.py:1: UserWarning: color is redundantly defined by the 'color' keyword argument and the fmt string \"bo\" (-> color='b'). The keyword argument will take precedence.\n",
      "  plt.plot(gaussian_red[:,0], gaussian_red[:,1], 'bo', color='red', marker='.', markersize=10)\n",
      "/tmp/ipykernel_295/1150308781.py:2: UserWarning: marker is redundantly defined by the 'marker' keyword argument and the fmt string \"bo\" (-> marker='o'). The keyword argument will take precedence.\n",
      "  plt.plot(gaussian_blue[:,0], gaussian_blue[:,1], 'bo', color='blue', marker='.', markersize=10)\n",
      "/tmp/ipykernel_295/1150308781.py:2: UserWarning: color is redundantly defined by the 'color' keyword argument and the fmt string \"bo\" (-> color='b'). The keyword argument will take precedence.\n",
      "  plt.plot(gaussian_blue[:,0], gaussian_blue[:,1], 'bo', color='blue', marker='.', markersize=10)\n"
     ]
    },
    {
     "data": {
      "text/plain": [
       "[<matplotlib.lines.Line2D at 0x7f4381188710>]"
      ]
     },
     "execution_count": 23,
     "metadata": {},
     "output_type": "execute_result"
    },
    {
     "data": {
      "image/png": "[encoded data removed]",
      "text/plain": [
       "<Figure size 640x480 with 1 Axes>"
      ]
     },
     "metadata": {},
     "output_type": "display_data"
    }
   ],
   "source": [
    "plt.plot(gaussian_red[:,0], gaussian_red[:,1], 'bo', color='red', marker='.', markersize=10)\n",
    "plt.plot(gaussian_blue[:,0], gaussian_blue[:,1], 'bo', color='blue', marker='.', markersize=10)"
   ]
  },
  {
   "cell_type": "code",
   "execution_count": 33,
   "id": "7df75629-e8fb-49db-81fb-12d85bd79a19",
   "metadata": {},
   "outputs": [],
   "source": [
    "label_1 = np.ones(100)\n",
    "label_0 = np.zeros(100)\n",
    "label_1 = label_1[:,np.newaxis]\n",
    "label_0 = label_0[:,np.newaxis]"
   ]
  },
  {
   "cell_type": "code",
   "execution_count": null,
   "id": "560be783-d30d-4c61-8bf8-86bb6f461800",
   "metadata": {},
   "outputs": [],
   "source": []
  }
 ],
 "metadata": {
  "kernelspec": {
   "display_name": "Python 3 (ipykernel)",
   "language": "python",
   "name": "python3"
  },
  "language_info": {
   "codemirror_mode": {
    "name": "ipython",
    "version": 3
   },
   "file_extension": ".py",
   "mimetype": "text/x-python",
   "name": "python",
   "nbconvert_exporter": "python",
   "pygments_lexer": "ipython3",
   "version": "3.12.3"
  }
 },
 "nbformat": 4,
 "nbformat_minor": 5
}
