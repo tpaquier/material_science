{
 "cells": [
  {
   "cell_type": "code",
   "execution_count": null,
   "id": "880dd005-4207-4496-ab14-48f8c86acb00",
   "metadata": {},
   "outputs": [],
   "source": [
    "import numpy as np\n",
    "import matplotlib.pyplot as plt\n",
    "import pandas as pd\n",
    "from matplotlib.patches import Ellipse"
   ]
  },
  {
   "cell_type": "code",
   "execution_count": null,
   "id": "8b602589-7790-49c6-9b0b-1aa1035b958d",
   "metadata": {},
   "outputs": [],
   "source": [
    "cov_blue = np.vstack(([1/8,0],[0,1/4]))\n",
    "mean_blue = np.array(([0,0]))"
   ]
  },
  {
   "cell_type": "code",
   "execution_count": null,
   "id": "e1a17669-eca5-4083-a8aa-8e34955d4ec1",
   "metadata": {},
   "outputs": [],
   "source": [
    "cov_red = np.vstack(([2,0],[0,1/2]))\n",
    "mean_red = np.array(([1,2]))"
   ]
  },
  {
   "cell_type": "code",
   "execution_count": null,
   "id": "1f970da1-33e3-4967-88fd-7e2a9a70d65a",
   "metadata": {},
   "outputs": [],
   "source": [
    "gaussian_red = np.random.multivariate_normal(mean=mean_red, cov=cov_red, size=100)"
   ]
  },
  {
   "cell_type": "code",
   "execution_count": null,
   "id": "3f260022-df04-4ce4-b581-ba7e8b3b5d14",
   "metadata": {},
   "outputs": [],
   "source": [
    "gaussian_blue = np.random.multivariate_normal(mean=mean_blue, cov=cov_blue, size=100)"
   ]
  },
  {
   "cell_type": "code",
   "execution_count": null,
   "id": "d443f66c-70a6-4514-ba03-e6be598c6914",
   "metadata": {},
   "outputs": [],
   "source": [
    "ellipse_red = Ellipse(xy=(1,2), width=2*np.sqrt(2), height=2*np.sqrt(1/2),\n",
    "                      edgecolor='r', fc='None', lw=1)\n",
    "ellipse_blue=Ellipse(xy=(0,0), width=2*np.sqrt(1/8), height=2*np.sqrt(1/4),\n",
    "                     edgecolor='b', fc='None', lw=1)"
   ]
  },
  {
   "cell_type": "code",
   "execution_count": null,
   "id": "cb1301fe-c93a-44c1-bc3f-194b8627fbc4",
   "metadata": {},
   "outputs": [],
   "source": [
    "plt.figure()\n",
    "plt.plot(gaussian_red[:,0], gaussian_red[:,1], 'bo', color='red', marker='.', markersize=10)\n",
    "plt.plot(gaussian_blue[:,0], gaussian_blue[:,1], 'bo', color='blue', marker='.', markersize=10)\n",
    "ax = plt.gca()\n",
    "ax.add_patch(ellipse_blue)\n",
    "ax.add_patch(ellipse_red)"
   ]
  },
  {
   "cell_type": "code",
   "execution_count": null,
   "id": "7df75629-e8fb-49db-81fb-12d85bd79a19",
   "metadata": {},
   "outputs": [],
   "source": [
    "label_1 = np.ones(100)\n",
    "label_0 = np.zeros(100)\n",
    "label_1 = label_1[:,np.newaxis]\n",
    "label_0 = label_0[:,np.newaxis]"
   ]
  },
  {
   "cell_type": "code",
   "execution_count": null,
   "id": "d8fdd389-35b4-43a6-bd0c-3faee3e81475",
   "metadata": {},
   "outputs": [],
   "source": [
    "red_data = np.concatenate((gaussian_red, label_1), axis=1)"
   ]
  },
  {
   "cell_type": "code",
   "execution_count": null,
   "id": "2e9fffcd-c124-4a57-b75f-b12c5a1cfdf1",
   "metadata": {},
   "outputs": [],
   "source": [
    "blue_data = np.concatenate((gaussian_blue, label_0), axis=1)"
   ]
  },
  {
   "cell_type": "code",
   "execution_count": null,
   "id": "26cdf60b-87ec-4180-87b9-0887f43fe490",
   "metadata": {},
   "outputs": [],
   "source": [
    "whole_data = np.vstack((red_data, blue_data))"
   ]
  },
  {
   "cell_type": "code",
   "execution_count": null,
   "id": "2e916825-7fff-4ed0-b28c-4316d44612cd",
   "metadata": {},
   "outputs": [],
   "source": [
    "whole_data = pd.DataFrame(whole_data) #in order to be able to order later or select sepcific columns and values"
   ]
  },
  {
   "cell_type": "code",
   "execution_count": null,
   "id": "2971b226-e464-4046-ad42-2df3a2cdd3b7",
   "metadata": {},
   "outputs": [],
   "source": [
    "mean_blue = np.mean(blue_data[:,:2], axis=0)\n",
    "mean_red = np.mean(red_data[:,:2], axis=0)"
   ]
  },
  {
   "cell_type": "code",
   "execution_count": null,
   "id": "91c8f91a-6ab8-4a86-a909-b598c9ed7e07",
   "metadata": {},
   "outputs": [],
   "source": [
    "cov_blue = np.cov(blue_data[:,:2], rowvar=False)\n",
    "cov_red = np.cov(red_data[:,:2], rowvar=False)"
   ]
  },
  {
   "cell_type": "code",
   "execution_count": null,
   "id": "aea6c548-134f-4809-abac-785ea55c776f",
   "metadata": {
    "scrolled": true
   },
   "outputs": [],
   "source": []
  },
  {
   "cell_type": "code",
   "execution_count": null,
   "id": "aff9b90d-ee92-4a0e-ad27-b84d962528db",
   "metadata": {},
   "outputs": [],
   "source": [
    "mean_blue"
   ]
  },
  {
   "cell_type": "code",
   "execution_count": null,
   "id": "0fbdcee8-24b6-4c65-b4db-1a2baa2b66c6",
   "metadata": {},
   "outputs": [],
   "source": []
  },
  {
   "cell_type": "code",
   "execution_count": null,
   "id": "923feaaa-c468-4e76-ace2-025c96da5f89",
   "metadata": {},
   "outputs": [],
   "source": []
  },
  {
   "cell_type": "code",
   "execution_count": null,
   "id": "f5fe917f-5675-42d8-8978-91064a272551",
   "metadata": {},
   "outputs": [],
   "source": []
  },
  {
   "cell_type": "code",
   "execution_count": null,
   "id": "bb0cb827-781c-4394-91a0-ad5580c033d1",
   "metadata": {},
   "outputs": [],
   "source": []
  },
  {
   "cell_type": "code",
   "execution_count": null,
   "id": "be16f314-31aa-4fe9-8677-ffe18d67e3b5",
   "metadata": {},
   "outputs": [],
   "source": []
  },
  {
   "cell_type": "code",
   "execution_count": null,
   "id": "060f0c7f-5814-419b-b271-3c8b95afa9e5",
   "metadata": {},
   "outputs": [],
   "source": []
  },
  {
   "cell_type": "code",
   "execution_count": null,
   "id": "81e810f1-956c-4af5-a0f9-3130057c68f9",
   "metadata": {},
   "outputs": [],
   "source": []
  },
  {
   "cell_type": "code",
   "execution_count": null,
   "id": "4839a4fc-e527-4a5a-abfc-36524ccc459b",
   "metadata": {},
   "outputs": [],
   "source": []
  },
  {
   "cell_type": "code",
   "execution_count": null,
   "id": "8ba15fb9-afa1-4299-9f4f-34be8699aa37",
   "metadata": {},
   "outputs": [],
   "source": []
  },
  {
   "cell_type": "code",
   "execution_count": null,
   "id": "da553f8b-c2da-40ce-9079-233a4ebc5f21",
   "metadata": {},
   "outputs": [],
   "source": []
  },
  {
   "cell_type": "code",
   "execution_count": null,
   "id": "49a32957-278f-42fc-8f6a-4cc2859ade10",
   "metadata": {},
   "outputs": [],
   "source": []
  },
  {
   "cell_type": "code",
   "execution_count": null,
   "id": "49286a6c-4b14-401b-8229-9ca9e16579e2",
   "metadata": {},
   "outputs": [],
   "source": []
  },
  {
   "cell_type": "code",
   "execution_count": null,
   "id": "140d4bd6-0d43-411c-9136-a1a8c7461203",
   "metadata": {},
   "outputs": [],
   "source": []
  }
 ],
 "metadata": {
  "kernelspec": {
   "display_name": "Python 3 (ipykernel)",
   "language": "python",
   "name": "python3"
  },
  "language_info": {
   "codemirror_mode": {
    "name": "ipython",
    "version": 3
   },
   "file_extension": ".py",
   "mimetype": "text/x-python",
   "name": "python",
   "nbconvert_exporter": "python",
   "pygments_lexer": "ipython3",
   "version": "3.12.3"
  }
 },
 "nbformat": 4,
 "nbformat_minor": 5
}
