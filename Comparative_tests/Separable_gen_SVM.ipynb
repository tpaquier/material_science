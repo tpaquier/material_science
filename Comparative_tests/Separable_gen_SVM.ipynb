{
 "cells": [
  {
   "cell_type": "code",
   "execution_count": 1,
   "id": "94b15cad-d88e-436f-80c8-68188b502d38",
   "metadata": {},
   "outputs": [],
   "source": [
    "import numpy as np\n",
    "import pandas as pd\n",
    "from sklearn.svm import SVC\n",
    "from sklearn.cluster import KMeans"
   ]
  },
  {
   "cell_type": "code",
   "execution_count": 2,
   "id": "28e2b717-3fb2-4c4c-ae2f-9e666e0b8d88",
   "metadata": {},
   "outputs": [],
   "source": [
    "np.random.seed(1457065)\n",
    "n_gen = 50\n",
    "n_samples = 4*n_gen\n",
    "data_red_1 = np.random.multivariate_normal(mean=np.array([2,2]),\n",
    "                                             cov=np.array(([1,-0.25],[-0.25,1])),\n",
    "                                             size=n_gen)\n",
    "data_red_2 = np.random.uniform(low=1.0, high=3.0, size=(n_gen,2))\n",
    "\n",
    "data_blue_1 = np.random.multivariate_normal(mean=np.array([-1,-1]),\n",
    "                                            cov=np.eye(2)*0.5,\n",
    "                                            size=n_gen)\n",
    "data_blue_2 = np.random.uniform(low=-2, high=-1, size=(n_gen,2))\n",
    "\n",
    "data_red = np.vstack((data_red_1,data_red_2))\n",
    "labels_red = (np.ones(2*n_gen)*-1).reshape(2*n_gen,1)\n",
    "data_red = np.hstack((data_red,labels_red))\n",
    "\n",
    "data_blue = np.vstack((data_blue_1, data_blue_2))\n",
    "labels_blue = (np.ones(2*n_gen)).reshape(2*n_gen,1)\n",
    "data_blue = np.hstack((data_blue,labels_blue))\n",
    "\n",
    "whole_data = np.vstack((data_blue, data_red))"
   ]
  },
  {
   "cell_type": "code",
   "execution_count": 3,
   "id": "f10e1b8c-9e16-41bc-bb96-3448e56090c6",
   "metadata": {},
   "outputs": [],
   "source": [
    "data_df = pd.DataFrame(whole_data)\n",
    "data_df.columns = ['x1','x2','label']\n",
    "\n",
    "train_data = data_df.sample(frac=0.8)\n",
    "list_train = train_data.index\n",
    "list_test = []\n",
    "for i in data_df.index:\n",
    "    if i not in list_train:\n",
    "        list_test.append(i)\n",
    "test_data = data_df.filter(items=list_test, axis=0)\n",
    "\n",
    "test_data = test_data.reset_index(drop=True)\n",
    "train_data = train_data.reset_index(drop=True)\n",
    "\n",
    "n_samples = train_data.shape[0]\n",
    "n_samples_test = test_data.shape[0]"
   ]
  },
  {
   "cell_type": "code",
   "execution_count": 4,
   "id": "c828d3a2-d3eb-47e8-8dbb-58a99a6184cd",
   "metadata": {},
   "outputs": [],
   "source": [
    "clf = SVC().fit(X=train_data.to_numpy()[:,:-1],y=train_data['label'].to_numpy())"
   ]
  },
  {
   "cell_type": "code",
   "execution_count": 5,
   "id": "af0198a5-8b69-4e76-af13-1ed959089ec2",
   "metadata": {},
   "outputs": [],
   "source": [
    "predictions = clf.predict(X=test_data.to_numpy()[:,:-1])"
   ]
  },
  {
   "cell_type": "code",
   "execution_count": 6,
   "id": "fe5ff600-5078-4943-bd26-2f46d5e465c1",
   "metadata": {},
   "outputs": [
    {
     "name": "stdout",
     "output_type": "stream",
     "text": [
      "precision : 1.0 \n",
      " recall :  1.0 \n",
      " f_1_score : 1.0 \n",
      " weird thing : 2.5\n"
     ]
    }
   ],
   "source": [
    "positives = 0\n",
    "true_positives = 0\n",
    "for i in range(n_samples_test):\n",
    "    if predictions[i] == 1:\n",
    "        positives += 1\n",
    "        if test_data.loc[i,'label'] == 1:\n",
    "            true_positives += 1\n",
    "\n",
    "precision = true_positives/positives\n",
    "recall = true_positives/test_data[test_data['label'] == 1].shape[0]\n",
    "f_1_score = (2*precision*recall)/(precision+recall)\n",
    "weird_metric = (recall**2)/(positives/test_data.shape[0])\n",
    "print('precision :', precision, '\\n',\n",
    "      'recall : ', recall, '\\n', \n",
    "      'f_1_score :', f_1_score, '\\n', \n",
    "      'weird thing :', weird_metric)"
   ]
  },
  {
   "cell_type": "code",
   "execution_count": null,
   "id": "21321291-f492-4809-96d5-5ccbe986c3bb",
   "metadata": {},
   "outputs": [],
   "source": []
  }
 ],
 "metadata": {
  "kernelspec": {
   "display_name": "Python 3 (ipykernel)",
   "language": "python",
   "name": "python3"
  },
  "language_info": {
   "codemirror_mode": {
    "name": "ipython",
    "version": 3
   },
   "file_extension": ".py",
   "mimetype": "text/x-python",
   "name": "python",
   "nbconvert_exporter": "python",
   "pygments_lexer": "ipython3",
   "version": "3.12.4"
  }
 },
 "nbformat": 4,
 "nbformat_minor": 5
}
