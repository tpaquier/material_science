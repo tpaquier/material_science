{
 "cells": [
  {
   "cell_type": "code",
   "execution_count": 1,
   "id": "efd5d5c5-0e6a-475d-90b5-0e08450f7d3b",
   "metadata": {},
   "outputs": [],
   "source": [
    "%%capture\n",
    "import numpy as np\n",
    "import pandas as pd\n",
    "import matplotlib.pyplot as plt\n",
    "from sklearn.preprocessing import StandardScaler\n",
    "from sklearn.decomposition import PCA\n",
    "from sklearn.cluster import KMeans\n",
    "from sklearn.tree import DecisionTreeClassifier\n",
    "from sklearn.ensemble import BaggingClassifier\n",
    "from sklearn.model_selection import KFold\n",
    "from tqdm import tqdm\n",
    "from sklearn.svm import SVC\n",
    "!pip install openpyxl"
   ]
  },
  {
   "cell_type": "code",
   "execution_count": 2,
   "id": "a4bd7978-219a-4192-bf7b-ce26142dc3df",
   "metadata": {},
   "outputs": [],
   "source": [
    "def rbf(x,y,l=1):\n",
    "    \"\"\"Gaussian kernel\n",
    "\n",
    "    Parameters\n",
    "    -------------------------------\n",
    "    x : float\n",
    "    a real number\n",
    "\n",
    "    y : float\n",
    "    a real number\n",
    "\n",
    "    l: float, non zero\n",
    "    a scale parameter\n",
    "    -------------------------------\n",
    "    \"\"\"\n",
    "    dim = x.shape[0]\n",
    "    vect = np.empty(dim)\n",
    "    if dim == y.shape[0]  :\n",
    "        d = np.exp(-((np.linalg.norm(x-y))**2)/(2*(l**2)))\n",
    "        return d\n",
    "    else :\n",
    "        for i in range(dim):\n",
    "            vect[i] = np.exp(-((np.linalg.norm(x[i] - y))**2)/(2*(l**2)))\n",
    "        return vect"
   ]
  },
  {
   "cell_type": "code",
   "execution_count": 3,
   "id": "b0b915cd-e3e6-4976-a727-e46fe4d4c5a4",
   "metadata": {},
   "outputs": [],
   "source": [
    "max_calculated = pd.read_csv('max_calculated.csv')\n",
    "max_elemental = pd.read_csv('max_elemental.csv')\n",
    "list_mxene = pd.read_excel('synthesized-MXenes-MAX.xlsx',sheet_name=0)\n",
    "list_failed = pd.read_excel('synthesized-MXenes-MAX.xlsx', sheet_name=2)\n",
    "n_samples = max_elemental.shape[0]"
   ]
  },
  {
   "cell_type": "code",
   "execution_count": 4,
   "id": "d23631e5-46e8-4b66-a981-b22b0f44e0bd",
   "metadata": {},
   "outputs": [],
   "source": [
    "synth_list = pd.unique(list_mxene['MXene'])[:-1]\n",
    "to_drop = list(range(167,173))\n",
    "mx_ene_df = list_mxene.drop(labels = to_drop, axis='index')\n",
    "mx_ene_df = mx_ene_df.drop(['Unnamed: 9','Unnamed: 12','Notes','status','Reference method'],axis=1)\n",
    "max_elemental['class'] = np.zeros(max_elemental.shape[0])\n",
    "parents = mx_ene_df['Parent material'].unique()\n",
    "banned_words = ['+','Mxene','topochemical','reaction', 'or',\n",
    "               'synthesis','MXene','direct']\n",
    "complete_parents = []\n",
    "for i in range(len(parents)):\n",
    "    inter = parents[i].split()\n",
    "    for word in range(len(inter)):\n",
    "        if inter[word] not in banned_words:\n",
    "            complete_parents.append(inter[word])\n",
    "\n",
    "\n",
    "for i in range(max_elemental.shape[0]):\n",
    "    if max_elemental.loc[i,'compound_formula'] in complete_parents:\n",
    "        max_elemental.loc[i,'class'] = 1\n",
    "\n",
    "max_elemental = max_elemental.set_index('compound_formula',drop=True)\n",
    "max_elemental = max_elemental.drop(['M_element', 'A_element', 'X_element'],axis=1)\n",
    "test_tree = DecisionTreeClassifier().fit(X=max_elemental.drop(['class'],axis=1),\n",
    "                                          y=max_elemental['class'])\n",
    "\n",
    "imp_feat = test_tree.feature_importances_\n",
    "names_feat = test_tree.feature_names_in_\n",
    "df_imp_feat = pd.DataFrame(np.hstack((imp_feat.reshape(imp_feat.shape[0],1),names_feat.reshape(imp_feat.shape[0],1))))\n",
    "df_imp_feat.columns = ['features', 'name']\n",
    "df_imp_feat = df_imp_feat.sort_values('features', ascending=False)\n",
    "\n",
    "df_diff_z = df_imp_feat[df_imp_feat['features'] != 0]\n",
    "\n",
    "\n",
    "failed = list_failed['MAX']\n",
    "failed = list(failed)\n",
    "\n",
    "for i in max_elemental.index:\n",
    "    if i in failed:\n",
    "        max_elemental.loc[i,'class'] = -1\n",
    "\n",
    "\n",
    "number_of_atoms = np.empty(n_samples)\n",
    "compteur = 0\n",
    "for element in max_elemental.index:\n",
    "    inter = []\n",
    "    for cara in element:\n",
    "        if cara in list(str(1234567890)):\n",
    "            inter.append(cara)\n",
    "    if len(inter) == 1:\n",
    "        number_of_atoms[compteur] = int(inter[0]) + 2\n",
    "    elif len(inter) == 2:\n",
    "        number_of_atoms[compteur] = int(inter[0]) + int(inter[1]) + 1\n",
    "    elif len(inter) == 3:\n",
    "        number_of_atoms[compteur] = int(inter[0]) + int(inter[1]) + int(inter[2])\n",
    "    compteur += 1\n",
    "\n",
    "columns_name = max_elemental.columns.copy()\n",
    "normalized = max_elemental.drop(['class'],axis=1).to_numpy()/number_of_atoms.reshape(n_samples,1)\n",
    "max_elem_norm = pd.DataFrame(normalized)\n",
    "max_elem_norm['class'] = max_elemental['class'].copy()\n",
    "max_elem_norm.columns = columns_name\n",
    "max_elem_norm['compound_name'] = max_elemental.index\n",
    "max_elem_norm = max_elem_norm.set_index('compound_name',drop=True)\n",
    "\n",
    "max_elem_norm['class'] = max_elemental['class'].copy()\n",
    "list_of_imp_names = list(df_diff_z['name'])\n",
    "list_of_imp_names.append('label')\n",
    "list_of_imp_names.append('class')\n",
    "max_elem_norm = max_elem_norm.filter(items=list_of_imp_names, axis=1)\n",
    "\n"
   ]
  },
  {
   "cell_type": "code",
   "execution_count": 5,
   "id": "72bbd656-1a97-44e8-8815-d2c1079d52dc",
   "metadata": {},
   "outputs": [
    {
     "data": {
      "text/plain": [
       "[<matplotlib.lines.Line2D at 0x7f929d240fb0>]"
      ]
     },
     "execution_count": 5,
     "metadata": {},
     "output_type": "execute_result"
    },
    {
     "data": {
      "image/png": "[encoded data removed]",
      "text/plain": [
       "<Figure size 640x480 with 1 Axes>"
      ]
     },
     "metadata": {},
     "output_type": "display_data"
    }
   ],
   "source": [
    "list_inertia = np.zeros(10)\n",
    "for i in range(1,11):\n",
    "    det_n_clusters = KMeans(n_clusters=i).fit(X=max_elem_norm.drop(['class'],axis=1).to_numpy())\n",
    "    list_inertia[i-1] = det_n_clusters.inertia_\n",
    "\n",
    "plt.plot(list_inertia)"
   ]
  },
  {
   "cell_type": "code",
   "execution_count": 6,
   "id": "9bcf0630-5309-4524-b2ec-130f6e1c984c",
   "metadata": {},
   "outputs": [],
   "source": [
    "#probably 5 clusters will do the trick, maybe"
   ]
  },
  {
   "cell_type": "code",
   "execution_count": 7,
   "id": "346150e7-a93f-410d-b988-7b299f77dac5",
   "metadata": {},
   "outputs": [
    {
     "name": "stdout",
     "output_type": "stream",
     "text": [
      "the cluster containing positive values is :  1 \n",
      " the one containing negative exampels is :  2\n"
     ]
    }
   ],
   "source": [
    "max_elem_norm['label'] = np.empty(n_samples)\n",
    "for i in max_elem_norm.index:\n",
    "    if max_elem_norm.loc[i,'class'] == 1:\n",
    "        max_elem_norm.loc[i,'label'] = 1\n",
    "    else:\n",
    "        max_elem_norm.loc[i,'label'] = -1\n",
    "\n",
    "positive_samples = max_elem_norm[max_elem_norm['label'] == 1]\n",
    "unlabelled_samples = max_elem_norm[max_elem_norm['label'] == -1]\n",
    "\n",
    "n_cluster = 5\n",
    "clusterized_data = KMeans(n_clusters=n_cluster, init='random').fit(max_elem_norm.to_numpy()[:,:-2])\n",
    "max_elem_norm['cluster'] = clusterized_data.labels_\n",
    "\n",
    "list_of_ratio = []\n",
    "for i in range(n_cluster):\n",
    "    list_of_ratio.append(max_elem_norm[max_elem_norm['cluster'] == i]['label'].sum()/max_elem_norm[max_elem_norm['cluster'] == i]['class'].shape[0])\n",
    "list_of_ratio = np.array(list_of_ratio)\n",
    "positive_cluster = np.argmax(list_of_ratio)\n",
    "negative_cluster = np.argmin(list_of_ratio)\n",
    "print('the cluster containing positive values is : ', positive_cluster, '\\n', \n",
    "      'the one containing negative exampels is : ', negative_cluster)\n",
    "\n",
    "reliable_positives = max_elem_norm[max_elem_norm['cluster'] == positive_cluster]\n",
    "reliable_positives = reliable_positives[reliable_positives['label'] == 1]\n",
    "reliable_negatives = max_elem_norm[max_elem_norm['cluster'] == negative_cluster]\n",
    "reliable_negatives = reliable_negatives[reliable_negatives['label'] == -1]\n",
    "reliable_negatives = reliable_negatives.sample(n=reliable_positives.shape[0]) #to adjust the class balance ratio"
   ]
  },
  {
   "cell_type": "code",
   "execution_count": 8,
   "id": "8da878d0-a77a-49de-9530-f62551586508",
   "metadata": {},
   "outputs": [
    {
     "name": "stderr",
     "output_type": "stream",
     "text": [
      "100%|██████████| 2262/2262 [00:00<00:00, 7645.98it/s]\n"
     ]
    }
   ],
   "source": [
    "#first svm part\n",
    "gamma = 1\n",
    "positives_array = reliable_positives.drop(['class','cluster'], axis=1)\n",
    "negatives_array = reliable_negatives.drop(['class', 'cluster'], axis=1)\n",
    "data_svm = np.vstack((positives_array,negatives_array))\n",
    "n_reliable = data_svm.shape[0]\n",
    "outcome = data_svm[:,-1]\n",
    "data_svm = data_svm[:,:-1]\n",
    "omega = np.zeros((n_reliable,n_reliable))\n",
    "for k in range(n_reliable):\n",
    "    for i in range(k,n_reliable):\n",
    "        omega[k,i] = outcome[k]*outcome[i]*rbf(x=data_svm[k,:],y=data_svm[i,:],l=10)\n",
    "omega_t = np.transpose(omega)\n",
    "omega = omega_t + omega\n",
    "for i in range(n_reliable):\n",
    "    omega[i,i] = 1\n",
    "\n",
    "\n",
    "#now, computation of the rest of the matrix\n",
    "first_row = np.hstack((0,-np.transpose(outcome)))\n",
    "first_row = first_row.reshape(1,first_row.shape[0])\n",
    "bot_of_mat_right = omega + (1/gamma)*np.eye(n_reliable)\n",
    "bot_of_mat = np.hstack((outcome.reshape(n_reliable,1), bot_of_mat_right))\n",
    "whole_mat = np.vstack((first_row, bot_of_mat))\n",
    "right_hand = np.ones(n_reliable+1)\n",
    "right_hand[0] = 0\n",
    "\n",
    "#we get the coefficients\n",
    "coeffs = np.linalg.solve(a=whole_mat,b=right_hand)\n",
    "b = coeffs[0]\n",
    "alpha = coeffs[1:coeffs.shape[0]]\n",
    "\n",
    "#now we compute the wt \\phi(x) and then we order them \n",
    "test_data = max_elem_norm.drop(['class','label','cluster'], axis=1).to_numpy()\n",
    "results = np.empty(n_samples)\n",
    "for i in tqdm(range(n_samples)):\n",
    "    results[i] = np.sum(alpha*outcome*rbf(x=data_svm,y=test_data[i,:],l=10))\n",
    "sorted_results = np.sort(results)\n",
    "good_ratio = int(n_samples/2)\n",
    "b = sorted_results[good_ratio]\n",
    "\n",
    "last_results = np.empty(n_samples)\n",
    "for i in range(n_samples):\n",
    "    last_results[i] = np.sign(results[i] - b)\n",
    "\n",
    "max_elem_norm['it_results'] = last_results\n",
    "correct_with_b = 0\n",
    "for i in range(reliable_positives.shape[0]):\n",
    "    if max_elem_norm.loc[reliable_positives.index[i],'it_results'] == 1:\n",
    "        correct_with_b += 1\n",
    "missclass = reliable_positives.shape[0] - correct_with_b"
   ]
  },
  {
   "cell_type": "code",
   "execution_count": 9,
   "id": "e1b32727-e711-4273-a8c4-0bc191216b8a",
   "metadata": {},
   "outputs": [],
   "source": [
    "compteur = 0\n",
    "max_iter = 500\n",
    "while missclass!=0 and compteur<max_iter:\n",
    "    compteur += 1\n",
    "    b = (1+0.05)*b\n",
    "    last_results = np.empty(n_samples)\n",
    "    for i in range(n_samples):\n",
    "        last_results[i] = np.sign(results[i] - b)\n",
    "\n",
    "    max_elem_norm['it_results'] = last_results\n",
    "    correct_with_b = 0\n",
    "    for i in range(reliable_positives.shape[0]):\n",
    "        if max_elem_norm.loc[reliable_positives.index[i],'it_results'] == 1:\n",
    "            correct_with_b += 1\n",
    "    missclass = reliable_positives.shape[0] - correct_with_b"
   ]
  },
  {
   "cell_type": "code",
   "execution_count": 10,
   "id": "74c50110-d529-4410-a2b1-3273868bab2d",
   "metadata": {},
   "outputs": [],
   "source": [
    "max_elem_norm_it = max_elem_norm"
   ]
  },
  {
   "cell_type": "code",
   "execution_count": 11,
   "id": "24927834-07ba-4b12-9514-be12ab589c12",
   "metadata": {},
   "outputs": [],
   "source": [
    "compteur=0\n",
    "max_iter=10\n",
    "good_ratio = int(n_samples/2)\n",
    "while True and compteur<max_iter:\n",
    "    compteur+=1\n",
    "    for i in range(n_samples):\n",
    "        if max_elem_norm_it.loc[max_elem_norm.index[i],'it_results'] == 0:\n",
    "            max_elem_norm_it.loc[max_elem_norm.index[i],'it_results'] = -1\n",
    "    positives_new = max_elem_norm_it[max_elem_norm_it['it_results'] == 1]\n",
    "    positives_new = positives_new[positives_new['label'] == 1]\n",
    "    negatives_new = max_elem_norm_it[max_elem_norm_it['it_results'] == -1]\n",
    "    negatives_new = negatives_new[negatives_new['label'] == -1]\n",
    "    negatives_new = negatives_new.sample(n=positives_new.shape[0])\n",
    "    #first svm part\n",
    "    gamma = 1\n",
    "    positives_array_new = positives_new.drop(['class','cluster','label'], axis=1)\n",
    "    negatives_array_new = negatives_new.drop(['class', 'cluster','label'], axis=1)\n",
    "    data_svm_it = np.vstack((positives_array_new,negatives_array_new))\n",
    "    n_reliable = data_svm_it.shape[0]\n",
    "    outcome_it = data_svm_it[:,-1].copy()\n",
    "    data_svm_it = data_svm_it[:,:-1].copy()\n",
    "    #compute omega\n",
    "    omega_it = np.zeros((n_reliable,n_reliable))\n",
    "    for k in range(n_reliable):\n",
    "        for i in range(k,n_reliable):\n",
    "            omega_it[k,i] = outcome_it[k]*outcome_it[i]*rbf(x=data_svm_it[k,:],y=data_svm_it[i,:],l=10)\n",
    "    omega_it_t = np.transpose(omega_it)\n",
    "    omega_it = omega_it+omega_it_t\n",
    "    for i in range(n_reliable):\n",
    "        omega_it[i,i] = 1\n",
    "    \n",
    "    first_row_it = np.hstack((0,-np.transpose(outcome_it)))\n",
    "    first_row_it = first_row_it.reshape(1,first_row_it.shape[0])\n",
    "    bot_of_mat_right_it = omega_it + (1/gamma)*np.eye(n_reliable)\n",
    "    bot_of_mat_it = np.hstack((outcome_it.reshape(n_reliable,1), bot_of_mat_right_it))\n",
    "    whole_mat_it = np.vstack((first_row_it, bot_of_mat_it))\n",
    "    right_hand_it = np.ones(n_reliable+1)\n",
    "    right_hand_it[0] = 0\n",
    "    coeffs_it = np.linalg.solve(a=whole_mat_it,b=right_hand_it)\n",
    "    b_it = coeffs_it[0]\n",
    "    alpha_it = coeffs_it[1:coeffs_it.shape[0]]\n",
    "    test_data_it = max_elem_norm_it.drop(['class','label','cluster','it_results'], axis=1).to_numpy()\n",
    "    results_new = np.empty(n_samples)\n",
    "    #the results in the previous algo is now 'new_results'\n",
    "\n",
    "    \n",
    "    for i in range(n_samples):\n",
    "        results_new[i] = np.sum(alpha_it*outcome_it*rbf(x=data_svm_it,y=test_data_it[i,:],l=10))\n",
    "    sorted_results_it = np.sort(results_new)\n",
    "    b_it = sorted_results_it[good_ratio]\n",
    "    last_results_it = np.empty(n_samples)\n",
    "    for i in range(n_samples):\n",
    "        last_results_it[i] = np.sign(results_new[i] - b)\n",
    "    correct_with_b_it = 0 \n",
    "    for i in range(max_elem_norm_it[max_elem_norm['label'] == 1].shape[0]):\n",
    "        if last_results_it[i] == 1:\n",
    "            correct_with_b_it += 1\n",
    "    missclass_it = positives_new.shape[0] - correct_with_b_it\n",
    "    compteur_bis = 0\n",
    "    max_iter_bis = 200\n",
    "    ### MODIFICATION HERE TO GET A SCORE\n",
    "    score = np.empty(n_samples)\n",
    "    while missclass_it!=0 and compteur_bis<max_iter_bis:\n",
    "        compteur_bis += 1\n",
    "        b_it = (1-0.05)*b_it\n",
    "        last_results_bis = np.empty(n_samples)\n",
    "        for i in range(n_samples):\n",
    "            last_results_bis[i] = np.sign(results_new[i] - b_it)\n",
    "            score[i] = results_new[i] - b_it\n",
    "        correct_with_b_bis = 0\n",
    "\n",
    "        for i in range(max_elem_norm_it[max_elem_norm['label'] == 1].shape[0]):\n",
    "            if last_results_bis[i] == 1:\n",
    "                correct_with_b_bis += 1\n",
    "        missclass_it = positives_new.shape[0] - correct_with_b_bis\n",
    "    stop_counter = 0\n",
    "    for i in range(n_samples):\n",
    "        if max_elem_norm_it.loc[max_elem_norm.index[i],'it_results'] != last_results_bis[i]:\n",
    "            stop_counter += 1\n",
    "    if stop_counter == 0:\n",
    "        break\n",
    "        compteur = max_iter\n",
    "    else:\n",
    "        max_elem_norm_it['it_results'] = last_results_bis\n",
    "max_elem_norm_it['score'] = score\n",
    "alpha_it_final = alpha_it.copy()\n",
    "outcome_it_final = outcome_it.copy()"
   ]
  },
  {
   "cell_type": "code",
   "execution_count": 12,
   "id": "421c3666-f246-4fad-88c2-f603ef6bf026",
   "metadata": {},
   "outputs": [],
   "source": [
    "positives = 0\n",
    "true_positives = 0\n",
    "for i in range(n_samples):\n",
    "    if last_results_bis[i] == 1:\n",
    "        positives += 1\n",
    "        if max_elem_norm_it.loc[max_elem_norm.index[i],'class'] == 1:\n",
    "            true_positives += 1\n",
    "\n",
    "\n",
    "recall_train = true_positives/max_elem_norm[max_elem_norm['class'] == 1].shape[0]\n",
    "weird_thing_train = (recall_train**2)/(positives/n_samples)"
   ]
  },
  {
   "cell_type": "code",
   "execution_count": 13,
   "id": "3b2f32eb-831e-44a2-8ab2-bcbd9f4fec7c",
   "metadata": {},
   "outputs": [
    {
     "name": "stdout",
     "output_type": "stream",
     "text": [
      "0.9333333333333333 \n",
      " 1.8983172768143868\n"
     ]
    }
   ],
   "source": [
    "print(recall_train, '\\n',\n",
    "      weird_thing_train)"
   ]
  },
  {
   "cell_type": "code",
   "execution_count": 30,
   "id": "c4fa5604-5b09-48fd-a5be-afac83c74a16",
   "metadata": {},
   "outputs": [],
   "source": [
    "ordered_df_pred = max_elem_norm[max_elem_norm['it_results'] == 1].sort_values(by='score',ascending=False)"
   ]
  },
  {
   "cell_type": "code",
   "execution_count": 32,
   "id": "8a38f73d-36e0-40f3-8627-b0852e0deaf6",
   "metadata": {},
   "outputs": [],
   "source": [
    "ordered_df_pred = ordered_df_pred.head(20)"
   ]
  },
  {
   "cell_type": "code",
   "execution_count": 33,
   "id": "3a5a90de-ccd1-441a-9e59-9c26d6821247",
   "metadata": {},
   "outputs": [],
   "source": [
    "ordered_df_pred = pd.DataFrame(ordered_df_pred['score'])"
   ]
  },
  {
   "cell_type": "code",
   "execution_count": 34,
   "id": "f09e6302-8c1d-403a-ae07-6e1a388999db",
   "metadata": {},
   "outputs": [],
   "source": [
    "ordered_df_pred.columns = ['score_pseudo_it_svm']"
   ]
  },
  {
   "cell_type": "code",
   "execution_count": 36,
   "id": "5fb43875-233c-4073-8125-589051349613",
   "metadata": {},
   "outputs": [],
   "source": [
    "ordered_df_pred = ordered_df_pred.reset_index()\n",
    "ordered_df_pred['rank_pseudo_it_svm'] = ordered_df_pred.index\n",
    "ordered_df_pred = ordered_df_pred.set_index(keys='compound_name')"
   ]
  },
  {
   "cell_type": "code",
   "execution_count": 38,
   "id": "c938765c-7820-4f2a-bade-66207e88405a",
   "metadata": {},
   "outputs": [],
   "source": [
    "ordered_df_pred.to_csv(path_or_buf='ordered_predictions_pseudo_it_svm.csv')"
   ]
  },
  {
   "cell_type": "code",
   "execution_count": null,
   "id": "0788519a-d49b-40f6-9587-e9c06e407dfc",
   "metadata": {},
   "outputs": [],
   "source": []
  }
 ],
 "metadata": {
  "kernelspec": {
   "display_name": "Python 3 (ipykernel)",
   "language": "python",
   "name": "python3"
  },
  "language_info": {
   "codemirror_mode": {
    "name": "ipython",
    "version": 3
   },
   "file_extension": ".py",
   "mimetype": "text/x-python",
   "name": "python",
   "nbconvert_exporter": "python",
   "pygments_lexer": "ipython3",
   "version": "3.12.4"
  }
 },
 "nbformat": 4,
 "nbformat_minor": 5
}
