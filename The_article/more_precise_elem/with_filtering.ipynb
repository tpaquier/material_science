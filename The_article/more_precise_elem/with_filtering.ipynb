{
 "cells": [
  {
   "cell_type": "code",
   "execution_count": 1,
   "id": "37bf0a87-596c-4b2e-8da7-8666a98426c9",
   "metadata": {},
   "outputs": [],
   "source": [
    "%%capture\n",
    "!pip install openpyxl\n",
    "import numpy as np\n",
    "import pandas as pd\n",
    "from sklearn.tree import DecisionTreeClassifier\n",
    "from sklearn.cluster import KMeans\n",
    "from sklearn.svm import SVC\n",
    "import os\n",
    "import matplotlib.pyplot as plt"
   ]
  },
  {
   "cell_type": "code",
   "execution_count": 2,
   "id": "179c77bb-7fb5-462c-bf9b-90389ef1b093",
   "metadata": {},
   "outputs": [],
   "source": [
    "actual_path = os.getcwd()\n",
    "os.chdir('/home/onyxia/work/material_science/Spetral_clustering')\n",
    "%run rbf.ipynb\n",
    "os.chdir(actual_path)"
   ]
  },
  {
   "cell_type": "code",
   "execution_count": 3,
   "id": "9d4b6985-8055-48fe-926a-7ee4c5332729",
   "metadata": {},
   "outputs": [],
   "source": [
    "max_calculated = pd.read_csv('max_calculated.csv')\n",
    "max_elemental = pd.read_csv('max_elemental.csv')\n",
    "list_mxene = pd.read_excel('synthesized-MXenes-MAX.xlsx',sheet_name=0)\n",
    "list_failed = pd.read_excel('synthesized-MXenes-MAX.xlsx', sheet_name=2)\n",
    "n_samples = max_elemental.shape[0]\n",
    "synth_list = pd.unique(list_mxene['MXene'])[:-1]\n",
    "to_drop = list(range(167,173))\n",
    "mx_ene_df = list_mxene.drop(labels = to_drop, axis='index')\n",
    "mx_ene_df = mx_ene_df.drop(['Unnamed: 9','Unnamed: 12','Notes','status','Reference method'],axis=1)\n",
    "max_elemental['class'] = np.zeros(max_elemental.shape[0])\n",
    "parents = mx_ene_df['Parent material'].unique()\n",
    "banned_words = ['+','Mxene','topochemical','reaction', 'or',\n",
    "               'synthesis','MXene','direct']\n",
    "complete_parents = []\n",
    "for i in range(len(parents)):\n",
    "    inter = parents[i].split()\n",
    "    for word in range(len(inter)):\n",
    "        if inter[word] not in banned_words:\n",
    "            complete_parents.append(inter[word])\n",
    "\n",
    "\n",
    "for i in range(max_elemental.shape[0]):\n",
    "    if max_elemental.loc[i,'compound_formula'] in complete_parents:\n",
    "        max_elemental.loc[i,'class'] = 1"
   ]
  },
  {
   "cell_type": "code",
   "execution_count": 4,
   "id": "2a07680f-f131-4753-ad7a-ed46fa301eea",
   "metadata": {},
   "outputs": [],
   "source": [
    "max_elemental = max_elemental.set_index('compound_formula',drop=True)\n",
    "max_elemental = max_elemental.drop(['M_element', 'A_element', 'X_element'],axis=1)\n",
    "max_calculated = max_calculated.set_index('prettyformula',drop=True)\n",
    "max_calculated_for_merge = max_calculated[max_calculated['dEf'] <= 0]\n",
    "max_calculated_for_merge = max_calculated_for_merge[max_calculated_for_merge['dH'] <= 200]\n",
    "whole_data = max_elemental.merge(max_calculated_for_merge,how='inner',\n",
    "                                 left_index=True,right_index=True)\n",
    "whole_data = whole_data.drop(['PU_label','year'],axis=1)\n",
    "M_elements = pd.get_dummies(whole_data['M'],prefix='M',dtype=float)\n",
    "A_elements = pd.get_dummies(whole_data['A'],prefix='A',dtype=float)\n",
    "X_elements = pd.get_dummies(whole_data['X'],prefix='X',dtype=float)\n",
    "whole_data = whole_data.drop(['M','A','X'],axis=1)\n",
    "x_group = pd.get_dummies(whole_data['X_X_group'],prefix='x_g',dtype=float)\n",
    "a_group = pd.get_dummies(whole_data['A_A_group'],prefix='a_g',dtype=float)\n",
    "m_group = pd.get_dummies(whole_data['M_M_group'],prefix='m_g',dtype=float)\n",
    "whole_data = whole_data.drop(['X_X_group','A_A_group','M_M_group'],axis=1)\n",
    "whole_data = pd.concat([whole_data,M_elements,A_elements,X_elements,x_group,\n",
    "                       a_group,m_group],axis=1)"
   ]
  },
  {
   "cell_type": "code",
   "execution_count": 5,
   "id": "6796f135-5d13-4b39-8e07-8e6e3c2c1990",
   "metadata": {},
   "outputs": [],
   "source": [
    "del n_samples\n",
    "n_samples = whole_data.shape[0]\n",
    "number_of_atoms = np.zeros(n_samples)\n",
    "compteur = 0\n",
    "for element in whole_data.index:\n",
    "    inter = []\n",
    "    for cara in element:\n",
    "        if cara in list(str(1234567890)):\n",
    "            inter.append(cara)\n",
    "    if len(inter) == 1:\n",
    "        number_of_atoms[compteur] = int(inter[0]) + 2\n",
    "    elif len(inter) == 2:\n",
    "        number_of_atoms[compteur] = int(inter[0]) + int(inter[1]) + 1\n",
    "    elif len(inter) == 3:\n",
    "        number_of_atoms[compteur] = int(inter[0]) + int(inter[1]) + int(inter[2])\n",
    "    compteur += 1\n",
    "\n",
    "columns_name = whole_data.drop(['class'],axis=1).columns.copy()\n",
    "normalized = whole_data.drop(['class'],axis=1).to_numpy()/number_of_atoms.reshape(-1,1)\n",
    "\n",
    "data_norm = pd.DataFrame(normalized)\n",
    "data_norm.columns = columns_name\n",
    "data_norm['compound_name'] = whole_data.index\n",
    "data_norm = data_norm.set_index('compound_name',drop=True)\n",
    "\n",
    "data_norm['class'] = whole_data['class'].copy()\n",
    "\n",
    "retained_features = list(columns_name).copy()\n",
    "diff_z = list(columns_name).copy()\n",
    "\n",
    "for feat in diff_z:\n",
    "    if len(feat) > 6:\n",
    "        retained_features.remove(feat)\n",
    "\n",
    "list_dummies = []\n",
    "\n",
    "for i in retained_features:\n",
    "    if 'M_' in i:\n",
    "        list_dummies.append(i)\n",
    "    elif 'A_' in i:\n",
    "        list_dummies.append(i)\n",
    "    elif 'X_' in i:\n",
    "        list_dummies.append(i)\n",
    "    elif 'x_g_' in i:\n",
    "        list_dummies.append(i)\n",
    "    elif 'm_g_' in i:\n",
    "        list_dummies.append(i)\n",
    "    elif 'a_g_' in i:\n",
    "        list_dummies.append(i)\n",
    "\n",
    "for col in list_dummies:\n",
    "    for row in data_norm.index:\n",
    "        if data_norm.loc[row,col] != 0:\n",
    "            data_norm.loc[row,col] = 1"
   ]
  },
  {
   "cell_type": "code",
   "execution_count": 6,
   "id": "2f44b51d-28f2-4f77-8e09-b7553f807b57",
   "metadata": {},
   "outputs": [],
   "source": [
    "data_norm['label'] = np.zeros(n_samples)\n",
    "for i in data_norm.index:\n",
    "    if data_norm.loc[i,'class'] == 1:\n",
    "        data_norm.loc[i,'label'] = 1\n",
    "    else:\n",
    "        data_norm.loc[i,'label'] = -1\n",
    "\n",
    "positive_samples = data_norm[data_norm['label'] == 1]\n",
    "unlabelled_samples = data_norm[data_norm['label'] == -1]\n",
    "\n",
    "#random_state=1871687, with this random state we only get one misclassified instance\n",
    "\n",
    "n_cluster = 8\n",
    "clusterized_data = KMeans(n_clusters=n_cluster).fit(data_norm.to_numpy()[:,:-2])\n",
    "data_norm['cluster'] = clusterized_data.labels_\n",
    "\n",
    "list_of_ratio = np.zeros(n_cluster)\n",
    "for i in range(n_cluster):\n",
    "    list_of_ratio[i] = data_norm[data_norm['cluster'] == i]['class'].sum()/data_norm[data_norm['cluster'] == i].shape[0]\n",
    "#same code as before but here we use the class because it is 0 or 1\n",
    "positive_cluster = np.argmax(list_of_ratio)\n",
    "    \n",
    "#we cannot exactly compute the ratios because the classes are so unbalanced that in any cases the number of positive\n",
    "#instances will be very small compared to the ones of unlabelled instances\n",
    "\n",
    "list_of_dist = np.zeros(n_cluster)\n",
    "for i in range(n_cluster):\n",
    "    list_of_dist[i] = np.linalg.norm(clusterized_data.cluster_centers_[positive_cluster,:] - clusterized_data.cluster_centers_[i,:])\n",
    "\n",
    "negative_cluster = np.argmax(list_of_dist)"
   ]
  },
  {
   "cell_type": "code",
   "execution_count": 7,
   "id": "a0b9d531-faea-4795-ab46-9fae0679604b",
   "metadata": {},
   "outputs": [],
   "source": [
    "df_unlab_pop = data_norm[data_norm['label'] == -1]\n",
    "list_of_pop = pd.DataFrame(df_unlab_pop.groupby('cluster')['label'].count())\n",
    "list_of_pop.columns = ['pop']\n",
    "list_of_pop['dist'] = list_of_dist #distance to the positive cluster\n",
    "list_of_pop = list_of_pop.sort_values('dist',ascending=False)\n",
    "list_of_pop['cumsum'] = np.cumsum(list_of_pop['pop'])"
   ]
  },
  {
   "cell_type": "code",
   "execution_count": 8,
   "id": "f25269d8-9916-46ac-9079-637538b3982e",
   "metadata": {},
   "outputs": [],
   "source": [
    "reliable_positives = data_norm[data_norm['label'] == 1]\n",
    "n_positives = reliable_positives.shape[0]\n",
    "last_step = np.where(np.array(list_of_pop['cumsum'])>n_positives*35)[0][0]\n",
    "index_ordered_distance = list(list_of_pop.index)\n",
    "if last_step == 0:\n",
    "    reliable_negatives = data_norm[data_norm['cluster'] == negative_cluster]\n",
    "    reliable_negatives = reliable_negatives[reliable_negatives['label'] == -1]\n",
    "else:\n",
    "    compteur=0\n",
    "    reliable_negatives = data_norm[data_norm['cluster'] == negative_cluster]\n",
    "    reliable_negatives = reliable_negatives[reliable_negatives['label'] == -1]\n",
    "    while compteur<last_step:\n",
    "        interm_negatives = data_norm[data_norm['cluster'] == index_ordered_distance[compteur+1]]\n",
    "        interm_negatives = interm_negatives[interm_negatives['label'] == -1]\n",
    "        reliable_negatives = pd.concat([reliable_negatives,interm_negatives])\n",
    "        compteur += 1\n",
    "    del interm_negatives, compteur"
   ]
  },
  {
   "cell_type": "code",
   "execution_count": 9,
   "id": "fb523a09-a8b6-4bb5-8028-6493c7bb8dd3",
   "metadata": {},
   "outputs": [],
   "source": [
    "reliable_negatives = reliable_negatives.head(n=n_positives*35)"
   ]
  },
  {
   "cell_type": "code",
   "execution_count": 10,
   "id": "20645bc6-fb08-47da-9736-1b46fd625b8c",
   "metadata": {},
   "outputs": [],
   "source": [
    "#Step of initialization of labels\n",
    "train_clf_data = pd.concat([reliable_positives,reliable_negatives])\n",
    "index_of_labels = list(train_clf_data.index)\n",
    "unlabelled_data = data_norm.drop(labels=index_of_labels,axis=0)\n",
    "index_of_unlabelled = list(unlabelled_data.index)\n",
    "first_step_clf = SVC().fit(X=train_clf_data.drop(['class','label','cluster'],axis=1).to_numpy(),\n",
    "                          y=train_clf_data['label'].to_numpy())\n",
    "unlabelled_data['relab'] = first_step_clf.predict(unlabelled_data.drop(['class','label','cluster'],axis=1).to_numpy())\n"
   ]
  },
  {
   "cell_type": "code",
   "execution_count": 11,
   "id": "21a0efec-bec6-4d88-9ea1-c734b90c785d",
   "metadata": {},
   "outputs": [],
   "source": [
    "gamma = 1\n",
    "good_ratio = 1/35\n",
    "max_iter = 10\n",
    "compteur = 0\n",
    "train_clf_data['relab'] = train_clf_data['label'].copy()\n",
    "updated_data = pd.concat([train_clf_data,unlabelled_data])\n",
    "up_data_np = updated_data.to_numpy()[:,:-4].copy()\n",
    "positive_index_list = list(data_norm[data_norm['class'] == 1].index)"
   ]
  },
  {
   "cell_type": "code",
   "execution_count": 12,
   "id": "68e79986-1871-4fa6-8e51-662e6e9d04d0",
   "metadata": {},
   "outputs": [],
   "source": [
    "right_side = np.vstack((np.zeros(1).reshape(1,1),np.ones(n_samples).reshape(n_samples,1))) #its for the \n",
    "#computation of the matrix to det the coeffs so put it here to avoid doing it each time\n",
    "while compteur<max_iter:\n",
    "    compteur += 1\n",
    "    labels = updated_data['relab'].to_numpy().reshape(1,-1)\n",
    "    first_row = np.hstack((np.array(0).reshape(1,1),(-1)*labels))\n",
    "    \n",
    "    #computation of omega and the coefficients\n",
    "    omega = np.zeros((n_samples,n_samples))\n",
    "    for i in range(n_samples):\n",
    "        for k in range(i,n_samples):\n",
    "            omega[i,k] = rbf(x=up_data_np[i,:],y=up_data_np[k,:],l_squared=1)*labels[0,i]*labels[0,k]\n",
    "            omega[k,i] = omega[i,k]\n",
    "        omega[i,i] = 1\n",
    "\n",
    "    bot_right = omega + gamma*np.eye(n_samples)\n",
    "    bot = np.hstack((updated_data['relab'].to_numpy().reshape(n_samples,1), bot_right))\n",
    "    whole_mat = np.vstack((first_row, bot))\n",
    "    \n",
    "    del bot_right, bot, first_row\n",
    "\n",
    "    coeffs = np.linalg.solve(a=whole_mat,b=right_side)\n",
    "\n",
    "\n",
    "    alpha = coeffs[1:]\n",
    "\n",
    "    #once we have the coefficients, we can compute the labels of the unlabelled instances\n",
    "\n",
    "    updated_data['to_det_b'] = np.zeros(n_samples)\n",
    "    count_for_loop = 0\n",
    "    for i in updated_data.index:\n",
    "        updated_data.loc[i,'to_det_b'] = np.sum(alpha*labels.reshape(-1,1)*rbf(x=up_data_np,y=up_data_np[count_for_loop,:],l_squared=1).reshape(-1,1))\n",
    "        count_for_loop += 1\n",
    "    to_det_b_arr = np.array(updated_data['to_det_b']).copy()\n",
    "    b = np.sort(to_det_b_arr)[int((1-good_ratio)*n_samples)]\n",
    "    \n",
    "    updated_data['check_array'] = np.zeros(n_samples)\n",
    "    count_diff = 0\n",
    "    \n",
    "    for i in updated_data.index:\n",
    "        if i in positive_index_list:\n",
    "            updated_data.loc[i,'check_array'] = 1\n",
    "        else:\n",
    "            updated_data.loc[i,'check_array'] = np.sign(updated_data.loc[i,'to_det_b']-b)\n",
    "            if updated_data.loc[i,'check_array'] != updated_data.loc[i,'relab']:\n",
    "                count_diff += 1\n",
    "    \n",
    "    if count_diff == 0:\n",
    "        break\n",
    "    else:\n",
    "        updated_data['relab'] = updated_data['check_array'].copy()"
   ]
  },
  {
   "cell_type": "code",
   "execution_count": 13,
   "id": "9a2a7646-2b70-4314-8a44-dc4808df66b8",
   "metadata": {},
   "outputs": [],
   "source": [
    "pred_pos_wo_feat = updated_data[updated_data['check_array'] == 1].copy()"
   ]
  },
  {
   "cell_type": "code",
   "execution_count": 14,
   "id": "1366fc22-a49c-43b6-ba80-61385e4c6f94",
   "metadata": {},
   "outputs": [],
   "source": [
    "pred_pos_wo_feat['final_relab'] = np.sign(pred_pos_wo_feat['to_det_b'].to_numpy()-b)"
   ]
  },
  {
   "cell_type": "code",
   "execution_count": 15,
   "id": "8df39f33-c6d4-4aef-afb7-e86c35ab54e2",
   "metadata": {},
   "outputs": [],
   "source": [
    "pred_pos_wo_feat = pred_pos_wo_feat[pred_pos_wo_feat['final_relab'] == 1]"
   ]
  },
  {
   "cell_type": "code",
   "execution_count": 16,
   "id": "d98236b8-d450-4417-b42c-bf46c7788aed",
   "metadata": {},
   "outputs": [],
   "source": [
    "list_correct_predict = list(pred_pos_wo_feat[pred_pos_wo_feat['class'] == 1].index)\n",
    "list_pos = list(pred_pos_wo_feat.index)"
   ]
  },
  {
   "cell_type": "code",
   "execution_count": 17,
   "id": "940c12b9-8b84-4bf3-b420-f2d4ae9f7ea4",
   "metadata": {},
   "outputs": [],
   "source": [
    "corr_pred = max_calculated.filter(items=list_correct_predict,axis=0)\n",
    "new_ones = max_calculated.filter(items=list_pos,axis=0)\n",
    "new_ones = new_ones.drop(list_correct_predict,axis=0)\n",
    "other_ones = max_calculated.drop(list(pred_pos_wo_feat.index),axis=0)\n",
    "positives_to_plot = max_calculated.filter(items=positive_index_list,axis=0)\n",
    "positives_to_plot = positives_to_plot.drop(list_correct_predict,axis=0)"
   ]
  },
  {
   "cell_type": "code",
   "execution_count": 42,
   "id": "23a86067-a242-4817-a5d9-8ee839228a96",
   "metadata": {},
   "outputs": [
    {
     "data": {
      "text/plain": [
       "<matplotlib.legend.Legend at 0x7fc2205f38f0>"
      ]
     },
     "execution_count": 42,
     "metadata": {},
     "output_type": "execute_result"
    },
    {
     "data": {
      "image/png": "[encoded data removed]",
      "text/plain": [
       "<Figure size 640x480 with 1 Axes>"
      ]
     },
     "metadata": {},
     "output_type": "display_data"
    }
   ],
   "source": [
    "fig, ax = plt.subplots()\n",
    "ax.grid(alpha=0.5)\n",
    "ax.plot(other_ones['dEf'],other_ones['dH'],'o',color='lightgrey',label='predicted negatives',\n",
    "        alpha=0.3)\n",
    "ax.plot(new_ones['dEf'],new_ones['dH'],'x',color='gold',label='predicted positive')\n",
    "ax.plot(corr_pred['dEf'],corr_pred['dH'],'x',color='mediumblue',label='true positive pred')\n",
    "if positives_to_plot.shape[0]>0:\n",
    "    ax.plot(positives_to_plot['dEf'],positives_to_plot['dH'],'.',color='orange',label='positive max phases')\n",
    "    ax.set_title('predictions with filter')\n",
    "else:\n",
    "    ax.set_title('predicitons with filter (recall=1)')\n",
    "ax.plot(np.linspace(-2000,1200,2,endpoint=True),np.zeros(2),'k--',alpha=0.3)\n",
    "ax.plot(np.zeros(2),np.linspace(-200,1200,2,endpoint=True),'k--',alpha=0.3)\n",
    "ax.fill_between(np.linspace(-2000,0,2,endpoint=True),y1=-200,y2=0,color='forestgreen',alpha=0.5)\n",
    "ax.legend()\n",
    "#plt.savefig('pred_filtered_elem.png')"
   ]
  },
  {
   "cell_type": "code",
   "execution_count": 19,
   "id": "36e77096-0a89-4232-b919-694333f6ae71",
   "metadata": {},
   "outputs": [
    {
     "data": {
      "text/plain": [
       "15"
      ]
     },
     "execution_count": 19,
     "metadata": {},
     "output_type": "execute_result"
    }
   ],
   "source": [
    "len(list_correct_predict)"
   ]
  },
  {
   "cell_type": "code",
   "execution_count": 20,
   "id": "510c7d81-3f4f-4665-8185-73e4018809d6",
   "metadata": {},
   "outputs": [],
   "source": [
    "#if we train test on the same data, we have one missclassified positive instance"
   ]
  },
  {
   "cell_type": "code",
   "execution_count": 21,
   "id": "c0e2bd18-d59c-4835-8bda-151acad6a672",
   "metadata": {},
   "outputs": [],
   "source": [
    "new_ones_plausible = new_ones[new_ones['dEf'] < 30]\n",
    "new_ones_plausible = new_ones_plausible[new_ones_plausible['dH'] < 30]"
   ]
  },
  {
   "cell_type": "code",
   "execution_count": 22,
   "id": "73f104dd-db4d-442b-807c-adbd8d16112c",
   "metadata": {},
   "outputs": [
    {
     "data": {
      "text/plain": [
       "Index(['Ti2GeC', 'Ti2SeC', 'Ti2SbC', 'Ti2AuC', 'V2GaC', 'Ta2AsC'], dtype='object')"
      ]
     },
     "execution_count": 22,
     "metadata": {},
     "output_type": "execute_result"
    }
   ],
   "source": [
    "new_ones_plausible.index"
   ]
  },
  {
   "cell_type": "code",
   "execution_count": 23,
   "id": "5ccaed20-f2ea-480d-9fb6-105564eaa38c",
   "metadata": {},
   "outputs": [
    {
     "data": {
      "text/plain": [
       "\"\\nfig, ax = plt.subplots()\\nax.grid(alpha=0.5)\\nax.plot(new_ones_plausible['dEf'], new_ones_plausible['dH'],'go', alpha=0.3, label='most plausible predicted positives') \\nax.plot(np.linspace(-2000,1200,2,endpoint=True),np.zeros(2),'k--',alpha=0.3)\\nax.plot(np.zeros(2),np.linspace(-200,1200,2,endpoint=True),'k--',alpha=0.3)\\nax.fill_between(np.linspace(-2000,0,2,endpoint=True),y1=-200,y2=0,color='forestgreen',alpha=0.5)\\nax.set_title('predictions without a decision tree for imp features')\\nax.legend()\\n\""
      ]
     },
     "execution_count": 23,
     "metadata": {},
     "output_type": "execute_result"
    }
   ],
   "source": [
    "\"\"\"\n",
    "fig, ax = plt.subplots()\n",
    "ax.grid(alpha=0.5)\n",
    "ax.plot(new_ones_plausible['dEf'], new_ones_plausible['dH'],'go', alpha=0.3, label='most plausible predicted positives') \n",
    "ax.plot(np.linspace(-2000,1200,2,endpoint=True),np.zeros(2),'k--',alpha=0.3)\n",
    "ax.plot(np.zeros(2),np.linspace(-200,1200,2,endpoint=True),'k--',alpha=0.3)\n",
    "ax.fill_between(np.linspace(-2000,0,2,endpoint=True),y1=-200,y2=0,color='forestgreen',alpha=0.5)\n",
    "ax.set_title('predictions without a decision tree for imp features')\n",
    "ax.legend()\n",
    "\"\"\""
   ]
  },
  {
   "cell_type": "code",
   "execution_count": 24,
   "id": "f9fd50a2-60ab-47e4-8552-057b5f0fdbfd",
   "metadata": {},
   "outputs": [],
   "source": [
    "#it doesn't predict all the ones with dEf<30 and dH<30 as positives,\n",
    "#doesn't seem to overfit on those two features"
   ]
  },
  {
   "cell_type": "code",
   "execution_count": 53,
   "id": "11c09609-32f6-4340-9e1a-973c5ca52aec",
   "metadata": {},
   "outputs": [
    {
     "data": {
      "text/plain": [
       "['Ti2AlC',\n",
       " 'Ti2SC',\n",
       " 'Ti2ZnC',\n",
       " 'V2AlC',\n",
       " 'Nb2AlC',\n",
       " 'Ta2AlC',\n",
       " 'Ti3AlC2',\n",
       " 'Ti3SiC2',\n",
       " 'Ti3ZnC2',\n",
       " 'Ti3SnC2',\n",
       " 'V4AlC3',\n",
       " 'Nb4AlC3',\n",
       " 'Ta4AlC3',\n",
       " 'Ti2AlN',\n",
       " 'Ti4AlN3',\n",
       " 'Sc2PdC',\n",
       " 'Sc2PtC',\n",
       " 'Ti2CoC',\n",
       " 'Ti2CuC',\n",
       " 'Ti2GeC',\n",
       " 'Ti2SeC',\n",
       " 'Ti2SbC',\n",
       " 'Ti2AuC',\n",
       " 'V2GaC',\n",
       " 'V2AgC',\n",
       " 'V2PbC',\n",
       " 'Y2GeC',\n",
       " 'Zr2RhC',\n",
       " 'Nb2RuC',\n",
       " 'Mo2ZnC',\n",
       " 'Ta2CoC',\n",
       " 'Ta2AsC',\n",
       " 'Ta2IrC']"
      ]
     },
     "execution_count": 53,
     "metadata": {},
     "output_type": "execute_result"
    }
   ],
   "source": [
    "list(pred_pos_wo_feat.index)"
   ]
  },
  {
   "cell_type": "code",
   "execution_count": null,
   "id": "7df47d98-40b4-4187-8f8c-0c5b0cadaa59",
   "metadata": {},
   "outputs": [],
   "source": []
  }
 ],
 "metadata": {
  "kernelspec": {
   "display_name": "Python 3 (ipykernel)",
   "language": "python",
   "name": "python3"
  },
  "language_info": {
   "codemirror_mode": {
    "name": "ipython",
    "version": 3
   },
   "file_extension": ".py",
   "mimetype": "text/x-python",
   "name": "python",
   "nbconvert_exporter": "python",
   "pygments_lexer": "ipython3",
   "version": "3.12.4"
  }
 },
 "nbformat": 4,
 "nbformat_minor": 5
}
