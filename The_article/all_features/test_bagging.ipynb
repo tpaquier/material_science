{
 "cells": [
  {
   "cell_type": "code",
   "execution_count": 1,
   "id": "9e6ec96f-333b-4302-80e8-f48611f6b4be",
   "metadata": {},
   "outputs": [],
   "source": [
    "%%capture\n",
    "import numpy as np\n",
    "import pandas as pd\n",
    "!pip install openpyxl\n",
    "from sklearn.cluster import KMeans\n",
    "from sklearn.tree import DecisionTreeClassifier\n",
    "from sklearn.svm import SVC\n",
    "import os"
   ]
  },
  {
   "cell_type": "code",
   "execution_count": 2,
   "id": "017d5410-8dc4-4c69-a223-959dbfec350c",
   "metadata": {},
   "outputs": [],
   "source": [
    "actual_path = os.getcwd()\n",
    "os.chdir('/home/onyxia/work/material_science/Spetral_clustering')\n",
    "%run rbf.ipynb\n",
    "os.chdir(actual_path)"
   ]
  },
  {
   "cell_type": "code",
   "execution_count": 3,
   "id": "e7882760-656b-4574-83d9-e5ed719189b1",
   "metadata": {},
   "outputs": [],
   "source": [
    "max_calculated = pd.read_csv('max_calculated.csv')\n",
    "max_elemental = pd.read_csv('max_elemental.csv')\n",
    "list_mxene = pd.read_excel('synthesized-MXenes-MAX.xlsx',sheet_name=0)\n",
    "list_failed = pd.read_excel('synthesized-MXenes-MAX.xlsx', sheet_name=2)\n",
    "n_samples = max_elemental.shape[0]\n",
    "synth_list = pd.unique(list_mxene['MXene'])[:-1]\n",
    "to_drop = list(range(167,173))\n",
    "mx_ene_df = list_mxene.drop(labels = to_drop, axis='index')\n",
    "mx_ene_df = mx_ene_df.drop(['Unnamed: 9','Unnamed: 12','Notes','status','Reference method'],axis=1)\n",
    "max_elemental['class'] = np.zeros(max_elemental.shape[0])\n",
    "parents = mx_ene_df['Parent material'].unique()\n",
    "banned_words = ['+','Mxene','topochemical','reaction', 'or',\n",
    "               'synthesis','MXene','direct']\n",
    "complete_parents = []\n",
    "for i in range(len(parents)):\n",
    "    inter = parents[i].split()\n",
    "    for word in range(len(inter)):\n",
    "        if inter[word] not in banned_words:\n",
    "            complete_parents.append(inter[word])\n",
    "\n",
    "\n",
    "for i in range(max_elemental.shape[0]):\n",
    "    if max_elemental.loc[i,'compound_formula'] in complete_parents:\n",
    "        max_elemental.loc[i,'class'] = 1\n",
    "\n",
    "max_elemental = max_elemental.set_index('compound_formula',drop=True)\n",
    "max_elemental = max_elemental.drop(['M_element', 'A_element', 'X_element'],axis=1)\n",
    "max_calculated = max_calculated.set_index('prettyformula',drop=True)\n",
    "whole_data = max_elemental.merge(max_calculated,how='inner',\n",
    "                                 left_index=True,right_index=True)\n",
    "whole_data = whole_data.drop(['PU_label','year'],axis=1)\n",
    "M_elements = pd.get_dummies(whole_data['M'],prefix='M',dtype=float)\n",
    "A_elements = pd.get_dummies(whole_data['A'],prefix='A',dtype=float)\n",
    "X_elements = pd.get_dummies(whole_data['X'],prefix='X',dtype=float)\n",
    "whole_data = whole_data.drop(['M','A','X'],axis=1)\n",
    "x_group = pd.get_dummies(whole_data['X_X_group'],prefix='x_g',dtype=float)\n",
    "a_group = pd.get_dummies(whole_data['A_A_group'],prefix='a_g',dtype=float)\n",
    "m_group = pd.get_dummies(whole_data['M_M_group'],prefix='m_g',dtype=float)\n",
    "whole_data = whole_data.drop(['X_X_group','A_A_group','M_M_group'],axis=1)\n",
    "whole_data = pd.concat([whole_data,M_elements,A_elements,X_elements,x_group,\n",
    "                       a_group,m_group],axis=1)\n",
    "\n",
    "test_tree = DecisionTreeClassifier().fit(X=whole_data.drop(['class'],axis=1),\n",
    "                                                              y=whole_data['class'])\n",
    "\n",
    "imp_feat = test_tree.feature_importances_\n",
    "names_feat = test_tree.feature_names_in_\n",
    "\n",
    "imp_feat = imp_feat.reshape(-1,1)\n",
    "names_feat = names_feat.reshape(-1,1)\n",
    "test_df = pd.DataFrame(np.hstack((names_feat,imp_feat)))\n",
    "test_df.columns = ['names_feat','imp_feat']\n",
    "test_df = test_df.set_index('names_feat',drop=True)\n",
    "test_df = test_df[test_df['imp_feat'] > 0]\n",
    "\n",
    "diff_z = list(test_df.index)\n",
    "\n",
    "\n",
    "number_of_atoms = np.zeros(n_samples)\n",
    "compteur = 0\n",
    "for element in whole_data.index:\n",
    "    inter = []\n",
    "    for cara in element:\n",
    "        if cara in list(str(1234567890)):\n",
    "            inter.append(cara)\n",
    "    if len(inter) == 1:\n",
    "        number_of_atoms[compteur] = int(inter[0]) + 2\n",
    "    elif len(inter) == 2:\n",
    "        number_of_atoms[compteur] = int(inter[0]) + int(inter[1]) + 1\n",
    "    elif len(inter) == 3:\n",
    "        number_of_atoms[compteur] = int(inter[0]) + int(inter[1]) + int(inter[2])\n",
    "    compteur += 1\n",
    "\n",
    "columns_name = whole_data.drop(['class'],axis=1).columns.copy()\n",
    "normalized = whole_data.drop(['class'],axis=1).to_numpy()/number_of_atoms.reshape(-1,1)\n",
    "\n",
    "data_norm = pd.DataFrame(normalized)\n",
    "data_norm.columns = columns_name\n",
    "data_norm['compound_name'] = whole_data.index\n",
    "data_norm = data_norm.set_index('compound_name',drop=True)\n",
    "\n",
    "data_norm = data_norm.filter(items=list(diff_z),axis=1)\n",
    "data_norm['class'] = whole_data['class'].copy()\n",
    "\n",
    "retained_features = list(test_df.index)\n",
    "\n",
    "for feat in diff_z:\n",
    "    if len(feat) > 5:\n",
    "        retained_features.remove(feat)\n",
    "\n",
    "list_dummies = []\n",
    "\n",
    "for i in retained_features:\n",
    "    if 'M_' in i:\n",
    "        list_dummies.append(i)\n",
    "    elif 'A_' in i:\n",
    "        list_dummies.append(i)\n",
    "    elif 'X_' in i:\n",
    "        list_dummies.append(i)\n",
    "\n",
    "for col in list_dummies:\n",
    "    for row in data_norm.index:\n",
    "        if data_norm.loc[row,col] != 0:\n",
    "            data_norm.loc[row,col] = 1\n",
    "\n",
    "for i in data_norm.index:\n",
    "    if data_norm.loc[i,'class'] == 0:\n",
    "        data_norm.loc[i,'class'] = -1"
   ]
  },
  {
   "cell_type": "code",
   "execution_count": 4,
   "id": "e770a9ac-45b9-4e13-8ab2-93489d14c5d9",
   "metadata": {},
   "outputs": [],
   "source": [
    "very_positive_instances = data_norm[data_norm['class'] == 1].copy()"
   ]
  },
  {
   "cell_type": "code",
   "execution_count": 5,
   "id": "c73eaced-33e5-4cdf-a0b8-cef5941656f5",
   "metadata": {},
   "outputs": [],
   "source": [
    "very_positive_instances['pred'] = np.zeros(15)"
   ]
  },
  {
   "cell_type": "code",
   "execution_count": 6,
   "id": "fc5cc908-0ae2-454b-8efc-50b50f474024",
   "metadata": {},
   "outputs": [],
   "source": [
    "list_of_positive_part = list(very_positive_instances.index)"
   ]
  },
  {
   "cell_type": "code",
   "execution_count": 7,
   "id": "3d683ac9-a89f-4889-8e12-7bd4876443bd",
   "metadata": {},
   "outputs": [],
   "source": [
    "list_wo_class = list(data_norm.columns)\n",
    "list_wo_class.remove('class')\n",
    "df_whole_results = data_norm.drop(list_wo_class,axis=1)\n",
    "t=15\n",
    "count_elem = 0\n",
    "n_positives = very_positive_instances.shape[0]-1\n",
    "for part_element in list_of_positive_part:\n",
    "    data = data_norm.drop(part_element,axis=0).copy()\n",
    "    df_results = data.drop(list(data.columns),axis=1)\n",
    "    positive_instances = data[data['class'] == 1]\n",
    "    index_of_positive = list(positive_instances.index)\n",
    "    unlabelled_instances = data.drop(labels=index_of_positive,axis=0)\n",
    "    avg_element = np.zeros(t)\n",
    "    for i in range(t):\n",
    "        u_t = unlabelled_instances.sample(n=n_positives)\n",
    "        training_set = pd.concat([positive_instances,u_t])\n",
    "        training_index = list(training_set.index)\n",
    "        clf = SVC().fit(X=training_set.drop(['class'],axis=1).to_numpy(),y=training_set['class'].to_numpy())\n",
    "        interm_df = data.drop(labels=training_index,axis=0)\n",
    "        interm_df['predictions'] = clf.decision_function(X=interm_df.drop(['class'],axis=1).to_numpy())\n",
    "        df_for_merge = pd.DataFrame(interm_df['predictions'])\n",
    "        df_for_merge.columns = [f'score_{i},{count_elem}']\n",
    "        df_results = df_results.merge(df_for_merge, how='left', left_index=True, right_index=True)\n",
    "        avg_element[i] = clf.decision_function(X=data_norm.drop(['class'],axis=1).loc[part_element,:].to_numpy().reshape(1,-1))[0]\n",
    "    very_positive_instances.loc[part_element,'pred'] = np.mean(avg_element)\n",
    "    df_whole_results = df_whole_results.merge(df_results,how='left',left_index=True,right_index=True)\n",
    "    count_elem += 1"
   ]
  },
  {
   "cell_type": "code",
   "execution_count": 8,
   "id": "6ac3e216-4e41-4f06-a519-acaeeeb69fa0",
   "metadata": {},
   "outputs": [],
   "source": [
    "avg_results = df_whole_results.drop(['class'],axis=1).mean(axis=1)"
   ]
  },
  {
   "cell_type": "code",
   "execution_count": 9,
   "id": "0af5b16f-61d8-4160-98a9-221acf9487d4",
   "metadata": {},
   "outputs": [],
   "source": [
    "very_positive_instances['pred_bis'] = np.sign(very_positive_instances['pred'])"
   ]
  },
  {
   "cell_type": "code",
   "execution_count": 10,
   "id": "47e33652-37f5-4e4f-9065-ba6484ec6a23",
   "metadata": {},
   "outputs": [],
   "source": [
    "for_recall = very_positive_instances['pred_bis'].to_numpy()"
   ]
  },
  {
   "cell_type": "code",
   "execution_count": 11,
   "id": "4bfe1adb-4837-422d-a00b-9577c0258054",
   "metadata": {},
   "outputs": [],
   "source": [
    "true_positives = 0\n",
    "for i in range(15):\n",
    "    if for_recall[i] == 1:\n",
    "        true_positives += 1"
   ]
  },
  {
   "cell_type": "code",
   "execution_count": 12,
   "id": "7aff9add-3444-4236-aacb-f8f3fd5f370d",
   "metadata": {},
   "outputs": [],
   "source": [
    "recall = true_positives/15"
   ]
  },
  {
   "cell_type": "code",
   "execution_count": 13,
   "id": "d0f1bda4-a423-4201-b33c-3fdd9be1e884",
   "metadata": {},
   "outputs": [],
   "source": [
    "df_whole_results = df_whole_results.drop(['class'],axis=1)"
   ]
  },
  {
   "cell_type": "code",
   "execution_count": 14,
   "id": "369d01bc-d1ab-40a8-ae3a-c229cbf6e833",
   "metadata": {},
   "outputs": [],
   "source": [
    "df_avg = df_whole_results.mean(axis=1)"
   ]
  },
  {
   "cell_type": "code",
   "execution_count": 15,
   "id": "25f78be1-db6c-43b9-87e1-84d2ed5e8dff",
   "metadata": {},
   "outputs": [],
   "source": [
    "df_avg = pd.DataFrame(df_avg)\n",
    "df_avg.columns = ['avg']\n",
    "df_avg['decision'] = np.sign(df_avg['avg'])"
   ]
  },
  {
   "cell_type": "code",
   "execution_count": 16,
   "id": "839d0496-abba-4693-82b6-c7557cba68ea",
   "metadata": {},
   "outputs": [],
   "source": [
    "predicted_positives = df_avg.groupby('decision').count().loc[1.,'avg']"
   ]
  },
  {
   "cell_type": "code",
   "execution_count": 17,
   "id": "063f492d-3dfe-4f8c-806e-05214145f766",
   "metadata": {},
   "outputs": [],
   "source": [
    "proba_pos_pred = predicted_positives/data_norm.shape[0]"
   ]
  },
  {
   "cell_type": "code",
   "execution_count": 18,
   "id": "0f53a16a-c641-45cb-98af-41164fceda27",
   "metadata": {},
   "outputs": [],
   "source": [
    "weird_metric = (recall**2)/proba_pos_pred"
   ]
  },
  {
   "cell_type": "code",
   "execution_count": 19,
   "id": "88a352d9-4e3f-4ade-8cd0-0fed0a3994ba",
   "metadata": {},
   "outputs": [
    {
     "data": {
      "text/plain": [
       "np.float64(0.5781846635367762)"
      ]
     },
     "execution_count": 19,
     "metadata": {},
     "output_type": "execute_result"
    }
   ],
   "source": [
    "weird_metric"
   ]
  },
  {
   "cell_type": "code",
   "execution_count": 20,
   "id": "7fd61190-a1c5-4823-b2ed-7f2e4c95ae53",
   "metadata": {},
   "outputs": [
    {
     "data": {
      "text/plain": [
       "0.4666666666666667"
      ]
     },
     "execution_count": 20,
     "metadata": {},
     "output_type": "execute_result"
    }
   ],
   "source": [
    "recall"
   ]
  },
  {
   "cell_type": "code",
   "execution_count": 21,
   "id": "642308e9-82a0-4146-bb61-1f52e394fd9a",
   "metadata": {},
   "outputs": [],
   "source": [
    "df_whole_np = df_whole_results.to_numpy()"
   ]
  },
  {
   "cell_type": "code",
   "execution_count": 22,
   "id": "11e998ec-2d99-43ed-a4b7-2154869e4ab9",
   "metadata": {},
   "outputs": [
    {
     "name": "stderr",
     "output_type": "stream",
     "text": [
      "/tmp/ipykernel_1057/2250680610.py:3: RuntimeWarning: Mean of empty slice\n",
      "  avg_df[:,i] = np.nanmean(df_whole_np[:,14*i:14*(i+1)],axis=1)\n"
     ]
    }
   ],
   "source": [
    "avg_df = np.zeros((2262,15))\n",
    "for i in range(15):\n",
    "    avg_df[:,i] = np.nanmean(df_whole_np[:,14*i:14*(i+1)],axis=1)"
   ]
  },
  {
   "cell_type": "code",
   "execution_count": 23,
   "id": "0873d0fa-370f-4dfe-9a22-3f7ebc49d72a",
   "metadata": {},
   "outputs": [],
   "source": [
    "avg_df = (np.sign(avg_df)+1)/2"
   ]
  },
  {
   "cell_type": "code",
   "execution_count": 24,
   "id": "63f2279a-cf88-4233-b52a-efe8a9d6f4a3",
   "metadata": {},
   "outputs": [],
   "source": [
    "avg_proba = np.nanmean(avg_df)"
   ]
  },
  {
   "cell_type": "code",
   "execution_count": 25,
   "id": "09650a22-902b-4b44-bfad-59d0322a0580",
   "metadata": {},
   "outputs": [
    {
     "data": {
      "text/plain": [
       "np.float64(0.37128022548583295)"
      ]
     },
     "execution_count": 25,
     "metadata": {},
     "output_type": "execute_result"
    }
   ],
   "source": [
    "avg_proba"
   ]
  },
  {
   "cell_type": "code",
   "execution_count": 26,
   "id": "ddd4122e-ed44-4cba-ae28-6e7fea5e8d8c",
   "metadata": {},
   "outputs": [],
   "source": [
    "weird_metric = recall/avg_proba"
   ]
  },
  {
   "cell_type": "code",
   "execution_count": 27,
   "id": "1e84a478-563c-4436-a45b-a9c1059667ff",
   "metadata": {},
   "outputs": [
    {
     "data": {
      "text/plain": [
       "np.float64(1.2569122582707368)"
      ]
     },
     "execution_count": 27,
     "metadata": {},
     "output_type": "execute_result"
    }
   ],
   "source": [
    "weird_metric"
   ]
  },
  {
   "cell_type": "code",
   "execution_count": 30,
   "id": "fb6e2b6d-45bb-4b3f-b18a-7ae40fe13a1c",
   "metadata": {},
   "outputs": [
    {
     "data": {
      "text/plain": [
       "compound_name\n",
       "Ti2AlC     1.0\n",
       "Ti2SC      1.0\n",
       "Ti2ZnC     1.0\n",
       "V2AlC      1.0\n",
       "Nb2AlC     1.0\n",
       "Ta2AlC     1.0\n",
       "Ti3AlC2   -1.0\n",
       "Ti3SiC2   -1.0\n",
       "Ti3ZnC2   -1.0\n",
       "Ti3SnC2   -1.0\n",
       "V4AlC3    -1.0\n",
       "Nb4AlC3   -1.0\n",
       "Ta4AlC3   -1.0\n",
       "Ti2AlN     1.0\n",
       "Ti4AlN3   -1.0\n",
       "Name: pred_bis, dtype: float64"
      ]
     },
     "execution_count": 30,
     "metadata": {},
     "output_type": "execute_result"
    }
   ],
   "source": [
    "very_positive_instances['pred_bis']"
   ]
  },
  {
   "cell_type": "code",
   "execution_count": 32,
   "id": "8b4af601-76c9-432a-8922-2d4694fdc989",
   "metadata": {},
   "outputs": [],
   "source": [
    "import matplotlib.pyplot as plt"
   ]
  },
  {
   "cell_type": "code",
   "execution_count": 50,
   "id": "9054e9a4-a718-4956-9c87-9b95625ebc8f",
   "metadata": {},
   "outputs": [],
   "source": [
    "good_classif = max_calculated.filter(items=list(very_positive_instances[very_positive_instances['pred_bis'] == 1].index),axis=0)\n",
    "bad_classif = max_calculated.filter(items=list(very_positive_instances[very_positive_instances['pred_bis'] == -1].index),axis=0)\n",
    "others = max_calculated.drop(list(very_positive_instances.index),axis=0)"
   ]
  },
  {
   "cell_type": "code",
   "execution_count": 63,
   "id": "15c94b60-be6e-47ac-b911-cb8f54fb178a",
   "metadata": {},
   "outputs": [
    {
     "data": {
      "image/png": "[encoded data removed]",
      "text/plain": [
       "<Figure size 640x480 with 1 Axes>"
      ]
     },
     "metadata": {},
     "output_type": "display_data"
    }
   ],
   "source": [
    "fig, ax = plt.subplots()\n",
    "ax.grid(alpha=0.5)\n",
    "ax.plot(others['dEf'],others['dH'],'o',color='lightgrey',label='other points',alpha=0.15)\n",
    "ax.plot(good_classif['dEf'],good_classif['dH'],'x',color='mediumblue',label='true positive')\n",
    "ax.plot(bad_classif['dEf'],bad_classif['dH'],'x',color='gold',label='missclassified')\n",
    "ax.fill_between(x=np.linspace(-2000,0,2,endpoint=True),y1=-200,y2=0,alpha=0.5,color='forestgreen')\n",
    "ax.plot(np.linspace(-2000,2000,2,endpoint=True),np.zeros(2),'k--',alpha=0.35)\n",
    "ax.plot(np.zeros(2),np.linspace(-200,1200,2,endpoint=True),'k--',alpha=0.35)\n",
    "ax.set_xlabel('formation energy')\n",
    "ax.set_ylabel('formation enthalpy')\n",
    "ax.set_title('correctly and incorrectly predicted positives (bagging)')\n",
    "ax.legend()\n",
    "plt.savefig('correct_incorrect_bagging_pred.png')"
   ]
  },
  {
   "cell_type": "code",
   "execution_count": 55,
   "id": "771299be-7996-4aa3-9be8-62c459fd1e6a",
   "metadata": {},
   "outputs": [],
   "source": [
    "very_positive_instances.to_csv('predictions_bagging_on_pos.csv')"
   ]
  },
  {
   "cell_type": "code",
   "execution_count": null,
   "id": "9fceeda7-9903-4b9d-b926-863442453bb6",
   "metadata": {},
   "outputs": [],
   "source": []
  }
 ],
 "metadata": {
  "kernelspec": {
   "display_name": "Python 3 (ipykernel)",
   "language": "python",
   "name": "python3"
  },
  "language_info": {
   "codemirror_mode": {
    "name": "ipython",
    "version": 3
   },
   "file_extension": ".py",
   "mimetype": "text/x-python",
   "name": "python",
   "nbconvert_exporter": "python",
   "pygments_lexer": "ipython3",
   "version": "3.12.4"
  }
 },
 "nbformat": 4,
 "nbformat_minor": 5
}
