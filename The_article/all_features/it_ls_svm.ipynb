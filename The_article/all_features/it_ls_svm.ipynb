{
 "cells": [
  {
   "cell_type": "code",
   "execution_count": 1,
   "id": "f79f7980-7880-4f2d-859b-9d915d618df2",
   "metadata": {},
   "outputs": [],
   "source": [
    "%%capture\n",
    "import numpy as np\n",
    "import pandas as pd\n",
    "!pip install openpyxl\n",
    "from sklearn.cluster import KMeans\n",
    "from sklearn.svm import SVC\n",
    "from sklearn.tree import DecisionTreeClassifier\n",
    "from tqdm import tqdm"
   ]
  },
  {
   "cell_type": "code",
   "execution_count": 2,
   "id": "24556d1b-732e-4ce6-8a17-d828e955b318",
   "metadata": {},
   "outputs": [],
   "source": [
    "max_calculated = pd.read_csv('max_calculated.csv')\n",
    "max_elemental = pd.read_csv('max_elemental.csv')\n",
    "list_mxene = pd.read_excel('synthesized-MXenes-MAX.xlsx',sheet_name=0)\n",
    "list_failed = pd.read_excel('synthesized-MXenes-MAX.xlsx', sheet_name=2)\n",
    "n_samples = max_elemental.shape[0]\n",
    "synth_list = pd.unique(list_mxene['MXene'])[:-1]\n",
    "to_drop = list(range(167,173))\n",
    "mx_ene_df = list_mxene.drop(labels = to_drop, axis='index')\n",
    "mx_ene_df = mx_ene_df.drop(['Unnamed: 9','Unnamed: 12','Notes','status','Reference method'],axis=1)\n",
    "max_elemental['class'] = np.zeros(max_elemental.shape[0])\n",
    "parents = mx_ene_df['Parent material'].unique()\n",
    "banned_words = ['+','Mxene','topochemical','reaction', 'or',\n",
    "               'synthesis','MXene','direct']\n",
    "complete_parents = []\n",
    "for i in range(len(parents)):\n",
    "    inter = parents[i].split()\n",
    "    for word in range(len(inter)):\n",
    "        if inter[word] not in banned_words:\n",
    "            complete_parents.append(inter[word])\n",
    "\n",
    "\n",
    "for i in range(max_elemental.shape[0]):\n",
    "    if max_elemental.loc[i,'compound_formula'] in complete_parents:\n",
    "        max_elemental.loc[i,'class'] = 1\n",
    "\n",
    "max_elemental = max_elemental.set_index('compound_formula',drop=True)\n",
    "max_elemental = max_elemental.drop(['M_element', 'A_element', 'X_element'],axis=1)\n",
    "max_calculated = max_calculated.set_index('prettyformula',drop=True)"
   ]
  },
  {
   "cell_type": "code",
   "execution_count": 3,
   "id": "4f9c14e6-c282-41b8-9ee1-82c57c08a1da",
   "metadata": {},
   "outputs": [],
   "source": [
    "whole_data = max_elemental.merge(max_calculated,how='inner',\n",
    "                                 left_index=True,right_index=True)"
   ]
  },
  {
   "cell_type": "code",
   "execution_count": 4,
   "id": "cc877e61-a3b5-4fa8-85f8-0806fc43e580",
   "metadata": {},
   "outputs": [],
   "source": [
    "whole_data = whole_data.drop(['PU_label','year'],axis=1)"
   ]
  },
  {
   "cell_type": "code",
   "execution_count": 5,
   "id": "464162a3-f6de-4cd7-8f85-d2c28d14cd55",
   "metadata": {},
   "outputs": [],
   "source": [
    "M_elements = pd.get_dummies(whole_data['M'],prefix='M',dtype=float)\n",
    "A_elements = pd.get_dummies(whole_data['A'],prefix='A',dtype=float)\n",
    "X_elements = pd.get_dummies(whole_data['X'],prefix='X',dtype=float)"
   ]
  },
  {
   "cell_type": "code",
   "execution_count": 6,
   "id": "f01b8668-464a-4655-914b-31447f1a424c",
   "metadata": {},
   "outputs": [],
   "source": [
    "whole_data = whole_data.drop(['M','A','X'],axis=1)"
   ]
  },
  {
   "cell_type": "code",
   "execution_count": 7,
   "id": "1353e1fc-7bf8-4be9-9053-bde6aa5a733d",
   "metadata": {},
   "outputs": [],
   "source": [
    "groups = pd.get_dummies(whole_data['X_X_group'],prefix='group',dtype=float)"
   ]
  },
  {
   "cell_type": "code",
   "execution_count": 8,
   "id": "80ee66a1-6e8c-4bf2-a748-2d22327f6f61",
   "metadata": {},
   "outputs": [],
   "source": [
    "whole_data = whole_data.drop(['X_X_group'],axis=1)"
   ]
  },
  {
   "cell_type": "code",
   "execution_count": 9,
   "id": "9a99b3b6-8681-4f24-bd2f-2f10d682f09a",
   "metadata": {},
   "outputs": [],
   "source": [
    "whole_data = pd.concat([whole_data,M_elements,A_elements,X_elements,groups],axis=1)"
   ]
  },
  {
   "cell_type": "code",
   "execution_count": 10,
   "id": "84649a7b-9cc2-4d2b-9ed6-5dee65a8bbcb",
   "metadata": {
    "scrolled": true
   },
   "outputs": [],
   "source": [
    "test_tree = DecisionTreeClassifier().fit(X=whole_data.drop(['class'],axis=1),\n",
    "                                          y=whole_data['class'])"
   ]
  },
  {
   "cell_type": "code",
   "execution_count": 11,
   "id": "a25c45b0-baf6-4ad8-9207-2caeaab5dccc",
   "metadata": {},
   "outputs": [],
   "source": [
    "imp_feat = test_tree.feature_importances_\n",
    "names_feat = test_tree.feature_names_in_"
   ]
  },
  {
   "cell_type": "code",
   "execution_count": 12,
   "id": "27b385a2-3628-4928-98c1-d6f2ae8795ca",
   "metadata": {},
   "outputs": [],
   "source": [
    "imp_feat = imp_feat.reshape(-1,1)\n",
    "names_feat = names_feat.reshape(-1,1)\n",
    "test_df = pd.DataFrame(np.hstack((names_feat,imp_feat)))\n",
    "test_df.columns = ['names_feat','imp_feat']\n",
    "test_df = test_df.set_index('names_feat',drop=True)"
   ]
  },
  {
   "cell_type": "code",
   "execution_count": 13,
   "id": "9e1008c9-17ca-4ff7-b014-c621a6e547d3",
   "metadata": {},
   "outputs": [
    {
     "data": {
      "text/html": [
       "<div>\n",
       "<style scoped>\n",
       "    .dataframe tbody tr th:only-of-type {\n",
       "        vertical-align: middle;\n",
       "    }\n",
       "\n",
       "    .dataframe tbody tr th {\n",
       "        vertical-align: top;\n",
       "    }\n",
       "\n",
       "    .dataframe thead th {\n",
       "        text-align: right;\n",
       "    }\n",
       "</style>\n",
       "<table border=\"1\" class=\"dataframe\">\n",
       "  <thead>\n",
       "    <tr style=\"text-align: right;\">\n",
       "      <th></th>\n",
       "      <th>imp_feat</th>\n",
       "    </tr>\n",
       "    <tr>\n",
       "      <th>names_feat</th>\n",
       "      <th></th>\n",
       "    </tr>\n",
       "  </thead>\n",
       "  <tbody>\n",
       "    <tr>\n",
       "      <th>dH</th>\n",
       "      <td>0.227331</td>\n",
       "    </tr>\n",
       "    <tr>\n",
       "      <th>dMM</th>\n",
       "      <td>0.165796</td>\n",
       "    </tr>\n",
       "    <tr>\n",
       "      <th>dMA</th>\n",
       "      <td>0.152717</td>\n",
       "    </tr>\n",
       "    <tr>\n",
       "      <th>dEc</th>\n",
       "      <td>0.082167</td>\n",
       "    </tr>\n",
       "    <tr>\n",
       "      <th>A_Al</th>\n",
       "      <td>0.07399</td>\n",
       "    </tr>\n",
       "    <tr>\n",
       "      <th>volume.pa</th>\n",
       "      <td>0.058723</td>\n",
       "    </tr>\n",
       "    <tr>\n",
       "      <th>rMA</th>\n",
       "      <td>0.055926</td>\n",
       "    </tr>\n",
       "    <tr>\n",
       "      <th>M_M_average_cationic_radius</th>\n",
       "      <td>0.044741</td>\n",
       "    </tr>\n",
       "    <tr>\n",
       "      <th>A_Zn</th>\n",
       "      <td>0.039549</td>\n",
       "    </tr>\n",
       "    <tr>\n",
       "      <th>c</th>\n",
       "      <td>0.033556</td>\n",
       "    </tr>\n",
       "    <tr>\n",
       "      <th>density</th>\n",
       "      <td>0.032193</td>\n",
       "    </tr>\n",
       "    <tr>\n",
       "      <th>M_V</th>\n",
       "      <td>0.012464</td>\n",
       "    </tr>\n",
       "    <tr>\n",
       "      <th>A_Sn</th>\n",
       "      <td>0.010722</td>\n",
       "    </tr>\n",
       "    <tr>\n",
       "      <th>M_Ti</th>\n",
       "      <td>0.010124</td>\n",
       "    </tr>\n",
       "  </tbody>\n",
       "</table>\n",
       "</div>"
      ],
      "text/plain": [
       "                             imp_feat\n",
       "names_feat                           \n",
       "dH                           0.227331\n",
       "dMM                          0.165796\n",
       "dMA                          0.152717\n",
       "dEc                          0.082167\n",
       "A_Al                          0.07399\n",
       "volume.pa                    0.058723\n",
       "rMA                          0.055926\n",
       "M_M_average_cationic_radius  0.044741\n",
       "A_Zn                         0.039549\n",
       "c                            0.033556\n",
       "density                      0.032193\n",
       "M_V                          0.012464\n",
       "A_Sn                         0.010722\n",
       "M_Ti                         0.010124"
      ]
     },
     "execution_count": 13,
     "metadata": {},
     "output_type": "execute_result"
    }
   ],
   "source": [
    "test_df[test_df['imp_feat'] >0].sort_values(by='imp_feat',ascending=False)"
   ]
  },
  {
   "cell_type": "code",
   "execution_count": 14,
   "id": "02543e87-5fed-4ce8-ac27-0c6627cc8ed6",
   "metadata": {},
   "outputs": [],
   "source": [
    "diff_z = test_df[test_df['imp_feat'] > 0].index"
   ]
  },
  {
   "cell_type": "code",
   "execution_count": 15,
   "id": "ab5e118e-f1b7-46dc-85a5-e4cfcdd05705",
   "metadata": {},
   "outputs": [],
   "source": [
    "number_of_atoms = np.zeros(n_samples)\n",
    "compteur = 0\n",
    "for element in whole_data.index:\n",
    "    inter = []\n",
    "    for cara in element:\n",
    "        if cara in list(str(1234567890)):\n",
    "            inter.append(cara)\n",
    "    if len(inter) == 1:\n",
    "        number_of_atoms[compteur] = int(inter[0]) + 2\n",
    "    elif len(inter) == 2:\n",
    "        number_of_atoms[compteur] = int(inter[0]) + int(inter[1]) + 1\n",
    "    elif len(inter) == 3:\n",
    "        number_of_atoms[compteur] = int(inter[0]) + int(inter[1]) + int(inter[2])\n",
    "    compteur += 1\n"
   ]
  },
  {
   "cell_type": "code",
   "execution_count": 16,
   "id": "11575a6f-a66d-442a-854a-325b978b68a8",
   "metadata": {},
   "outputs": [],
   "source": [
    "columns_name = whole_data.drop(['class'],axis=1).columns.copy()\n",
    "normalized = whole_data.drop(['class'],axis=1).to_numpy()/number_of_atoms.reshape(-1,1)"
   ]
  },
  {
   "cell_type": "code",
   "execution_count": 17,
   "id": "cec023a0-7854-4dea-a56a-100fbd1e8843",
   "metadata": {},
   "outputs": [],
   "source": [
    "data_norm = pd.DataFrame(normalized)\n",
    "data_norm.columns = columns_name\n",
    "data_norm['compound_name'] = whole_data.index\n",
    "data_norm = data_norm.set_index('compound_name',drop=True)"
   ]
  },
  {
   "cell_type": "code",
   "execution_count": 18,
   "id": "71ef9c9d-1048-42c2-9b7b-ea751e67cfc8",
   "metadata": {},
   "outputs": [],
   "source": [
    "data_norm = data_norm.filter(items=list(diff_z),axis=1)\n",
    "data_norm['class'] = whole_data['class'].copy()"
   ]
  },
  {
   "cell_type": "code",
   "execution_count": 23,
   "id": "6f9518fd-fbf6-4706-9626-d73409de6fba",
   "metadata": {},
   "outputs": [],
   "source": [
    "list_dummies = ['M_Ti','M_V','A_Al','A_Sn','A_Zn']"
   ]
  },
  {
   "cell_type": "code",
   "execution_count": 27,
   "id": "d9f46bd6-d89f-4253-b46b-b7b21de85e86",
   "metadata": {},
   "outputs": [],
   "source": [
    "for col in list_dummies:\n",
    "    for row in data_norm.index:\n",
    "        if data_norm.loc[row,col] != 0:\n",
    "            data_norm.loc[row,col] = 1"
   ]
  },
  {
   "cell_type": "code",
   "execution_count": null,
   "id": "6fcfc4d2-04d9-4562-a0e1-12278454adc4",
   "metadata": {},
   "outputs": [],
   "source": []
  }
 ],
 "metadata": {
  "kernelspec": {
   "display_name": "Python 3 (ipykernel)",
   "language": "python",
   "name": "python3"
  },
  "language_info": {
   "codemirror_mode": {
    "name": "ipython",
    "version": 3
   },
   "file_extension": ".py",
   "mimetype": "text/x-python",
   "name": "python",
   "nbconvert_exporter": "python",
   "pygments_lexer": "ipython3",
   "version": "3.12.4"
  }
 },
 "nbformat": 4,
 "nbformat_minor": 5
}
