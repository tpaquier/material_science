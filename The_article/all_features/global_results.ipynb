{
 "cells": [
  {
   "cell_type": "code",
   "execution_count": 1,
   "id": "b040b7f9-13d1-437f-b81c-15b729117389",
   "metadata": {},
   "outputs": [],
   "source": [
    "import pandas as pd\n",
    "import numpy as np"
   ]
  },
  {
   "cell_type": "code",
   "execution_count": 2,
   "id": "7a0a4d8c-ea6a-4e38-b2ff-fdfb9c70ba16",
   "metadata": {},
   "outputs": [],
   "source": [
    "svm = pd.read_csv('it_ls_svm_all_features.csv')\n",
    "bagging = pd.read_csv('ordered_predictions_bagging_svm_15_all_features.csv')"
   ]
  },
  {
   "cell_type": "code",
   "execution_count": 6,
   "id": "a67d6844-c810-441a-9aed-ba6a9683e86b",
   "metadata": {},
   "outputs": [],
   "source": [
    "svm = svm.filter(items=['compound_name'],axis=1)"
   ]
  },
  {
   "cell_type": "code",
   "execution_count": 7,
   "id": "929bedd7-3e52-4f48-ba12-329ca9312e1e",
   "metadata": {},
   "outputs": [],
   "source": [
    "svm['rank_svm'] = svm.index"
   ]
  },
  {
   "cell_type": "code",
   "execution_count": 12,
   "id": "2c83c7fc-261c-4f18-bd53-9502e7723958",
   "metadata": {},
   "outputs": [],
   "source": [
    "bagging = bagging.drop(['score_bagging'],axis=1)\n",
    "#bagging : compound_name\n",
    "#svm : "
   ]
  },
  {
   "cell_type": "code",
   "execution_count": 13,
   "id": "0a335cc0-3b16-494c-8fcc-1759a6fd73b0",
   "metadata": {},
   "outputs": [],
   "source": [
    "list_svm = list(svm['compound_name'])\n",
    "list_bagging = list(bagging['compound_name'])"
   ]
  },
  {
   "cell_type": "code",
   "execution_count": 17,
   "id": "c81611f2-b647-47e1-a5b6-e7866b7b9916",
   "metadata": {},
   "outputs": [],
   "source": [
    "list_common = []\n",
    "common = 0\n",
    "for i in list_svm:\n",
    "    if i in list_bagging:\n",
    "        list_common.append(i)"
   ]
  },
  {
   "cell_type": "code",
   "execution_count": 18,
   "id": "ac0a129c-cefa-4c92-a50c-11f702f6ec5f",
   "metadata": {},
   "outputs": [
    {
     "data": {
      "text/plain": [
       "['Zr2AsC', 'Zr2GeC']"
      ]
     },
     "execution_count": 18,
     "metadata": {},
     "output_type": "execute_result"
    }
   ],
   "source": [
    "list_common"
   ]
  },
  {
   "cell_type": "code",
   "execution_count": null,
   "id": "9572cfc8-6e66-4bcd-a8f1-e7e783919033",
   "metadata": {},
   "outputs": [],
   "source": []
  }
 ],
 "metadata": {
  "kernelspec": {
   "display_name": "Python 3 (ipykernel)",
   "language": "python",
   "name": "python3"
  },
  "language_info": {
   "codemirror_mode": {
    "name": "ipython",
    "version": 3
   },
   "file_extension": ".py",
   "mimetype": "text/x-python",
   "name": "python",
   "nbconvert_exporter": "python",
   "pygments_lexer": "ipython3",
   "version": "3.12.4"
  }
 },
 "nbformat": 4,
 "nbformat_minor": 5
}
