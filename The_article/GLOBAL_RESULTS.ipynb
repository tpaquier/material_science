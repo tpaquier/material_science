{
 "cells": [
  {
   "cell_type": "code",
   "execution_count": 1,
   "id": "5421460a-ced6-42e6-a36d-777916eadf7f",
   "metadata": {},
   "outputs": [],
   "source": [
    "import pandas as pd\n",
    "import numpy as np"
   ]
  },
  {
   "cell_type": "code",
   "execution_count": 2,
   "id": "b26f7d3e-d6a6-40ca-ba3b-6d6699f3a675",
   "metadata": {},
   "outputs": [],
   "source": [
    "it_svm = pd.read_csv('ordered_predictions_it_svm.csv')\n",
    "pgpu = pd.read_csv('ordered_predictions_pgpu.csv')\n",
    "pseudo_it_svm = pd.read_csv('ordered_predictions_pseudo_it_svm.csv')"
   ]
  },
  {
   "cell_type": "code",
   "execution_count": 3,
   "id": "83e6e8bf-62d9-4885-8d0c-b347bc1f8d08",
   "metadata": {},
   "outputs": [],
   "source": [
    "list_svm = list(it_svm['compound_name'])\n",
    "list_pgpu = list(pgpu['compound_name'])\n",
    "list_pseudo = list(pseudo_it_svm['compound_name'])"
   ]
  },
  {
   "cell_type": "code",
   "execution_count": 4,
   "id": "bab29b39-abf3-4d74-8852-d1fcbdafcb01",
   "metadata": {},
   "outputs": [],
   "source": [
    "common = 0\n",
    "for i in list_svm:\n",
    "    if i in list_pgpu or i in list_pseudo:\n",
    "        common += 1"
   ]
  },
  {
   "cell_type": "code",
   "execution_count": 5,
   "id": "7d18a463-9b91-4843-aa6a-3ae70462adad",
   "metadata": {},
   "outputs": [
    {
     "data": {
      "text/plain": [
       "0"
      ]
     },
     "execution_count": 5,
     "metadata": {},
     "output_type": "execute_result"
    }
   ],
   "source": [
    "common"
   ]
  },
  {
   "cell_type": "code",
   "execution_count": 6,
   "id": "c8e91a18-ce96-4517-97b2-34382400a78c",
   "metadata": {},
   "outputs": [],
   "source": [
    "#well, with only 20 there are absolutely no common prediction between the three methods\n",
    "#with 50 there are no predictions in common between pgpu and pseudo it_svm"
   ]
  },
  {
   "cell_type": "code",
   "execution_count": null,
   "id": "1d48184b-02ea-4dd2-973d-f5e3c1efe014",
   "metadata": {},
   "outputs": [],
   "source": []
  }
 ],
 "metadata": {
  "kernelspec": {
   "display_name": "Python 3 (ipykernel)",
   "language": "python",
   "name": "python3"
  },
  "language_info": {
   "codemirror_mode": {
    "name": "ipython",
    "version": 3
   },
   "file_extension": ".py",
   "mimetype": "text/x-python",
   "name": "python",
   "nbconvert_exporter": "python",
   "pygments_lexer": "ipython3",
   "version": "3.12.4"
  }
 },
 "nbformat": 4,
 "nbformat_minor": 5
}
