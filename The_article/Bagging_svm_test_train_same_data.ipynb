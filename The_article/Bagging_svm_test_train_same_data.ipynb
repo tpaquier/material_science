{
 "cells": [
  {
   "cell_type": "code",
   "execution_count": 1,
   "id": "e3fe8feb-e763-4847-878f-a472121f12ca",
   "metadata": {},
   "outputs": [],
   "source": [
    "%%capture\n",
    "import numpy as np\n",
    "import pandas as pd\n",
    "import matplotlib.pyplot as plt\n",
    "from sklearn.cluster import KMeans\n",
    "from sklearn.tree import DecisionTreeClassifier\n",
    "from sklearn.ensemble import BaggingClassifier\n",
    "from tqdm import tqdm\n",
    "from sklearn.svm import SVC\n",
    "!pip install openpyxl"
   ]
  },
  {
   "cell_type": "code",
   "execution_count": 2,
   "id": "88424c5b-8bda-4bbe-9097-08afe806eff4",
   "metadata": {},
   "outputs": [],
   "source": [
    "max_calculated = pd.read_csv('max_calculated.csv')\n",
    "max_elemental = pd.read_csv('max_elemental.csv')\n",
    "list_mxene = pd.read_excel('synthesized-MXenes-MAX.xlsx',sheet_name=0)\n",
    "list_failed = pd.read_excel('synthesized-MXenes-MAX.xlsx', sheet_name=2)\n",
    "n_samples = max_elemental.shape[0]"
   ]
  },
  {
   "cell_type": "code",
   "execution_count": 3,
   "id": "00e269d3-0840-4145-9b1d-e866bae6e1ff",
   "metadata": {},
   "outputs": [],
   "source": [
    "synth_list = pd.unique(list_mxene['MXene'])[:-1]\n",
    "to_drop = list(range(167,173))\n",
    "mx_ene_df = list_mxene.drop(labels = to_drop, axis='index')\n",
    "mx_ene_df = mx_ene_df.drop(['Unnamed: 9','Unnamed: 12','Notes','status','Reference method'],axis=1)\n",
    "max_elemental['class'] = np.zeros(max_elemental.shape[0])\n",
    "parents = mx_ene_df['Parent material'].unique()\n",
    "banned_words = ['+','Mxene','topochemical','reaction', 'or',\n",
    "               'synthesis','MXene','direct']\n",
    "complete_parents = []\n",
    "for i in range(len(parents)):\n",
    "    inter = parents[i].split()\n",
    "    for word in range(len(inter)):\n",
    "        if inter[word] not in banned_words:\n",
    "            complete_parents.append(inter[word])\n",
    "\n",
    "\n",
    "for i in range(max_elemental.shape[0]):\n",
    "    if max_elemental.loc[i,'compound_formula'] in complete_parents:\n",
    "        max_elemental.loc[i,'class'] = 1\n",
    "\n",
    "max_elemental = max_elemental.set_index('compound_formula',drop=True)\n",
    "max_elemental = max_elemental.drop(['M_element', 'A_element', 'X_element'],axis=1)\n",
    "test_tree = DecisionTreeClassifier().fit(X=max_elemental.drop(['class'],axis=1),\n",
    "                                          y=max_elemental['class'])\n",
    "\n",
    "imp_feat = test_tree.feature_importances_\n",
    "names_feat = test_tree.feature_names_in_\n",
    "df_imp_feat = pd.DataFrame(np.hstack((imp_feat.reshape(imp_feat.shape[0],1),names_feat.reshape(imp_feat.shape[0],1))))\n",
    "df_imp_feat.columns = ['features', 'name']\n",
    "df_imp_feat = df_imp_feat.sort_values('features', ascending=False)\n",
    "\n",
    "df_diff_z = df_imp_feat[df_imp_feat['features'] != 0]\n",
    "\n",
    "\n",
    "failed = list_failed['MAX']\n",
    "failed = list(failed)\n",
    "\n",
    "for i in max_elemental.index:\n",
    "    if i in failed:\n",
    "        max_elemental.loc[i,'class'] = -1\n",
    "\n",
    "\n",
    "number_of_atoms = np.empty(n_samples)\n",
    "compteur = 0\n",
    "for element in max_elemental.index:\n",
    "    inter = []\n",
    "    for cara in element:\n",
    "        if cara in list(str(1234567890)):\n",
    "            inter.append(cara)\n",
    "    if len(inter) == 1:\n",
    "        number_of_atoms[compteur] = int(inter[0]) + 2\n",
    "    elif len(inter) == 2:\n",
    "        number_of_atoms[compteur] = int(inter[0]) + int(inter[1]) + 1\n",
    "    elif len(inter) == 3:\n",
    "        number_of_atoms[compteur] = int(inter[0]) + int(inter[1]) + int(inter[2])\n",
    "    compteur += 1\n",
    "\n",
    "columns_name = max_elemental.columns.copy()\n",
    "normalized = max_elemental.drop(['class'],axis=1).to_numpy()/number_of_atoms.reshape(n_samples,1)\n",
    "max_elem_norm = pd.DataFrame(normalized)\n",
    "max_elem_norm['class'] = max_elemental['class'].copy()\n",
    "max_elem_norm.columns = columns_name\n",
    "max_elem_norm['compound_name'] = max_elemental.index\n",
    "max_elem_norm = max_elem_norm.set_index('compound_name',drop=True)\n",
    "\n",
    "max_elem_norm['class'] = max_elemental['class'].copy()\n",
    "list_of_imp_names = list(df_diff_z['name'])\n",
    "list_of_imp_names.append('label')\n",
    "list_of_imp_names.append('class')\n",
    "max_elem_norm = max_elem_norm.filter(items=list_of_imp_names, axis=1)"
   ]
  },
  {
   "cell_type": "code",
   "execution_count": 4,
   "id": "b4d48183-1535-4f25-a66f-3c74f065f0ae",
   "metadata": {},
   "outputs": [],
   "source": [
    "positive_instances = max_elem_norm[max_elem_norm['class'] == 1]\n",
    "index_of_positive = list(positive_instances.index)\n",
    "unlabelled_instances = max_elem_norm.drop(labels=index_of_positive,axis=0)"
   ]
  },
  {
   "cell_type": "code",
   "execution_count": 5,
   "id": "d3430a29-44de-4f48-b5e3-74f0d6a3091f",
   "metadata": {},
   "outputs": [],
   "source": [
    "n_positives = positive_instances.shape[0]"
   ]
  },
  {
   "cell_type": "code",
   "execution_count": 6,
   "id": "9a74f3cb-0175-4fe5-b8c3-669c75917c6b",
   "metadata": {},
   "outputs": [],
   "source": [
    "t=15"
   ]
  },
  {
   "cell_type": "code",
   "execution_count": 7,
   "id": "9e680c40-95d8-4158-887c-d922644c6e34",
   "metadata": {},
   "outputs": [],
   "source": [
    "df_results = max_elem_norm.drop(list(max_elem_norm.columns),axis=1)"
   ]
  },
  {
   "cell_type": "code",
   "execution_count": 8,
   "id": "f64bd8ee-dc90-47e1-a152-65eaf0e12668",
   "metadata": {},
   "outputs": [],
   "source": [
    "for i in range(t):\n",
    "    u_t = unlabelled_instances.sample(n=n_positives)\n",
    "    training_set = pd.concat([positive_instances,u_t])\n",
    "    training_index = list(training_set.index)\n",
    "    clf = SVC().fit(X=training_set.drop(['class'],axis=1).to_numpy(),y=training_set['class'].to_numpy())\n",
    "    interm_df = max_elem_norm.drop(labels=training_index,axis=0)\n",
    "    interm_df['predictions'] = clf.decision_function(X=interm_df.drop(['class'],axis=1).to_numpy())\n",
    "    df_for_merge = pd.DataFrame(interm_df['predictions'])\n",
    "    df_for_merge.columns = [f'score_{i}']\n",
    "    df_results = df_results.merge(df_for_merge, how='left', left_index=True, right_index=True) "
   ]
  },
  {
   "cell_type": "code",
   "execution_count": 9,
   "id": "f1bbaf40-98fc-4dba-8b95-6a3898d9cd31",
   "metadata": {},
   "outputs": [],
   "source": [
    "results_df = pd.DataFrame(df_results.mean(axis=1))"
   ]
  },
  {
   "cell_type": "code",
   "execution_count": 10,
   "id": "1396c139-071a-47da-b7a9-45150d2caaad",
   "metadata": {},
   "outputs": [],
   "source": [
    "results_df.columns = ['score_bagging']"
   ]
  },
  {
   "cell_type": "code",
   "execution_count": 11,
   "id": "5ab34480-7be3-4d3b-b970-6566b36532a2",
   "metadata": {},
   "outputs": [],
   "source": [
    "results_df = results_df.sort_values(by='score_bagging', ascending=False)"
   ]
  },
  {
   "cell_type": "code",
   "execution_count": 12,
   "id": "85bdc8ec-2af4-46a2-adbb-0381417b2c14",
   "metadata": {},
   "outputs": [],
   "source": [
    "results_df = results_df.head(50)\n",
    "results_df = results_df.reset_index()\n",
    "results_df['rank_bagging'] = results_df.index\n",
    "results_df = results_df.set_index(keys='compound_name',drop=True)"
   ]
  },
  {
   "cell_type": "code",
   "execution_count": 15,
   "id": "f8e4bad9-aa49-40a5-9e9a-401f3bd6e5b2",
   "metadata": {},
   "outputs": [],
   "source": [
    "results_df.to_csv('ordered_predictions_bagging_svm_15.csv')"
   ]
  },
  {
   "cell_type": "code",
   "execution_count": null,
   "id": "c6b82209-1411-41a6-b96c-109413b07f66",
   "metadata": {},
   "outputs": [],
   "source": []
  }
 ],
 "metadata": {
  "kernelspec": {
   "display_name": "Python 3 (ipykernel)",
   "language": "python",
   "name": "python3"
  },
  "language_info": {
   "codemirror_mode": {
    "name": "ipython",
    "version": 3
   },
   "file_extension": ".py",
   "mimetype": "text/x-python",
   "name": "python",
   "nbconvert_exporter": "python",
   "pygments_lexer": "ipython3",
   "version": "3.12.4"
  }
 },
 "nbformat": 4,
 "nbformat_minor": 5
}
