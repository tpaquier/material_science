{
 "cells": [
  {
   "cell_type": "code",
   "execution_count": 1,
   "id": "4b94698b-e47f-462f-9db7-197c9355f9ae",
   "metadata": {},
   "outputs": [],
   "source": [
    "import numpy as np\n",
    "import pandas as pd\n",
    "import matplotlib.pyplot as plt\n",
    "from sklearn.preprocessing import StandardScaler\n",
    "from scipy.stats import bernoulli\n",
    "from sklearn.cluster import KMeans\n",
    "from sklearn.tree import DecisionTreeClassifier"
   ]
  },
  {
   "cell_type": "code",
   "execution_count": 14,
   "id": "d8090489-5905-40c6-bb40-76f104a4a9e3",
   "metadata": {},
   "outputs": [],
   "source": [
    "mushrooms = pd.read_csv('mushroom.csv')\n",
    "mushrooms = mushrooms.sample(frac=1)\n",
    "mushrooms = mushrooms.reset_index(drop=True)\n",
    "nb_of_folds = 10 # as in the article but it can be improved if necessary\n",
    "n_samples = mushrooms.shape[0]\n",
    "batch_size = int(mushrooms.shape[0]/nb_of_folds)"
   ]
  },
  {
   "cell_type": "code",
   "execution_count": 17,
   "id": "73fe1260-82d0-4f77-b980-80e6ae06c6c7",
   "metadata": {},
   "outputs": [],
   "source": [
    "mushrooms['label'] = np.ones(n_samples)*(-1)\n",
    "for i in range(n_samples):\n",
    "    random = bernoulli.rvs(p=3/4)\n",
    "    if mushrooms.loc[i,'class'] == 1 and random == 0:\n",
    "        mushrooms.loc[i,'label'] = 1"
   ]
  },
  {
   "cell_type": "code",
   "execution_count": null,
   "id": "5e8e270f-64cb-4fc1-9893-be38189a1f02",
   "metadata": {},
   "outputs": [],
   "source": [
    "list_of_labels = mushrooms['label'].copy()\n",
    "mushrooms['for_train'] = list_of_labels"
   ]
  },
  {
   "cell_type": "code",
   "execution_count": null,
   "id": "f7694583-35f7-4419-972c-f8c5ea368d66",
   "metadata": {},
   "outputs": [],
   "source": []
  }
 ],
 "metadata": {
  "kernelspec": {
   "display_name": "Python 3 (ipykernel)",
   "language": "python",
   "name": "python3"
  },
  "language_info": {
   "codemirror_mode": {
    "name": "ipython",
    "version": 3
   },
   "file_extension": ".py",
   "mimetype": "text/x-python",
   "name": "python",
   "nbconvert_exporter": "python",
   "pygments_lexer": "ipython3",
   "version": "3.12.4"
  }
 },
 "nbformat": 4,
 "nbformat_minor": 5
}
