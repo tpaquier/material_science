{
 "cells": [
  {
   "cell_type": "code",
   "execution_count": 1,
   "id": "dd8de850-7301-4ba1-a342-a33162709b02",
   "metadata": {},
   "outputs": [],
   "source": [
    "%%capture\n",
    "import numpy as np\n",
    "import pandas as pd\n",
    "from sklearn.svm import SVC\n",
    "from sklearn.tree import DecisionTreeClassifier\n",
    "!pip install openpyxl\n",
    "import os"
   ]
  },
  {
   "cell_type": "code",
   "execution_count": 2,
   "id": "2c560370-741f-4044-9027-a07106f62745",
   "metadata": {},
   "outputs": [],
   "source": [
    "actual_path = os.getcwd()\n",
    "os.chdir('/home/onyxia/work/material_science/Spetral_clustering')\n",
    "%run rbf.ipynb\n",
    "os.chdir(actual_path)"
   ]
  },
  {
   "cell_type": "code",
   "execution_count": 3,
   "id": "89e4b403-f118-42d7-8942-2d072bc05af3",
   "metadata": {},
   "outputs": [],
   "source": [
    "max_calculated = pd.read_csv('max_calculated.csv')\n",
    "max_elemental = pd.read_csv('max_elemental.csv')\n",
    "list_mxene = pd.read_excel('synthesized-MXenes-MAX.xlsx',sheet_name=0)\n",
    "list_failed = pd.read_excel('synthesized-MXenes-MAX.xlsx', sheet_name=2)\n",
    "n_samples = max_elemental.shape[0]\n",
    "synth_list = pd.unique(list_mxene['MXene'])[:-1]\n",
    "to_drop = list(range(167,173))\n",
    "mx_ene_df = list_mxene.drop(labels = to_drop, axis='index')\n",
    "mx_ene_df = mx_ene_df.drop(['Unnamed: 9','Unnamed: 12','Notes','status','Reference method'],axis=1)\n",
    "max_elemental['class'] = np.zeros(max_elemental.shape[0])\n",
    "parents = mx_ene_df['Parent material'].unique()\n",
    "banned_words = ['+','Mxene','topochemical','reaction', 'or',\n",
    "               'synthesis','MXene','direct']\n",
    "complete_parents = []\n",
    "for i in range(len(parents)):\n",
    "    inter = parents[i].split()\n",
    "    for word in range(len(inter)):\n",
    "        if inter[word] not in banned_words:\n",
    "            complete_parents.append(inter[word])\n",
    "\n",
    "\n",
    "for i in range(max_elemental.shape[0]):\n",
    "    if max_elemental.loc[i,'compound_formula'] in complete_parents:\n",
    "        max_elemental.loc[i,'class'] = 1\n",
    "\n",
    "max_elemental = max_elemental.set_index('compound_formula',drop=True)\n",
    "max_calculated = max_calculated.set_index('prettyformula',drop=True)\n",
    "whole_data = max_elemental.copy()\n",
    "\n",
    "\n",
    "M_elements = pd.get_dummies(whole_data['M_element'],prefix='M',dtype=float)\n",
    "A_elements = pd.get_dummies(whole_data['A_element'],prefix='A',dtype=float)\n",
    "X_elements = pd.get_dummies(whole_data['X_element'],prefix='X',dtype=float)\n",
    "whole_data = whole_data.drop(['M_element','A_element','X_element'],axis=1)\n",
    "x_group = pd.get_dummies(whole_data['X_X_group'],prefix='x_g',dtype=float)\n",
    "a_group = pd.get_dummies(whole_data['A_A_group'],prefix='a_g',dtype=float)\n",
    "m_group = pd.get_dummies(whole_data['M_M_group'],prefix='m_g',dtype=float)\n",
    "whole_data = whole_data.drop(['X_X_group','A_A_group','M_M_group'],axis=1)\n",
    "whole_data = pd.concat([whole_data,M_elements,A_elements,X_elements,x_group,\n",
    "                       a_group,m_group],axis=1)\n",
    "\n",
    "test_tree = DecisionTreeClassifier().fit(X=whole_data.drop(['class'],axis=1),\n",
    "                                                              y=whole_data['class'])\n",
    "\n",
    "imp_feat = test_tree.feature_importances_\n",
    "names_feat = test_tree.feature_names_in_\n",
    "\n",
    "imp_feat = imp_feat.reshape(-1,1)\n",
    "names_feat = names_feat.reshape(-1,1)\n",
    "test_df = pd.DataFrame(np.hstack((names_feat,imp_feat)))\n",
    "test_df.columns = ['names_feat','imp_feat']\n",
    "test_df = test_df.set_index('names_feat',drop=True)\n",
    "test_df = test_df[test_df['imp_feat'] > 0]\n",
    "\n",
    "diff_z = list(test_df.index)\n",
    "\n",
    "\n",
    "number_of_atoms = np.zeros(n_samples)\n",
    "compteur = 0\n",
    "for element in whole_data.index:\n",
    "    inter = []\n",
    "    for cara in element:\n",
    "        if cara in list(str(1234567890)):\n",
    "            inter.append(cara)\n",
    "    if len(inter) == 1:\n",
    "        number_of_atoms[compteur] = int(inter[0]) + 2\n",
    "    elif len(inter) == 2:\n",
    "        number_of_atoms[compteur] = int(inter[0]) + int(inter[1]) + 1\n",
    "    elif len(inter) == 3:\n",
    "        number_of_atoms[compteur] = int(inter[0]) + int(inter[1]) + int(inter[2])\n",
    "    compteur += 1\n",
    "\n",
    "columns_name = whole_data.drop(['class'],axis=1).columns.copy()\n",
    "normalized = whole_data.drop(['class'],axis=1).to_numpy()/number_of_atoms.reshape(-1,1)\n",
    "\n",
    "data_norm = pd.DataFrame(normalized)\n",
    "data_norm.columns = columns_name\n",
    "data_norm['compound_name'] = whole_data.index\n",
    "data_norm = data_norm.set_index('compound_name',drop=True)\n",
    "\n",
    "data_norm = data_norm.filter(items=list(diff_z),axis=1)\n",
    "data_norm['class'] = whole_data['class'].copy()\n",
    "\n",
    "retained_features = list(test_df.index)\n",
    "\n",
    "for feat in diff_z:\n",
    "    if len(feat) > 5:\n",
    "        retained_features.remove(feat)\n",
    "\n",
    "list_dummies = []\n",
    "\n",
    "for i in retained_features:\n",
    "    if 'M_' in i:\n",
    "        list_dummies.append(i)\n",
    "    elif 'A_' in i:\n",
    "        list_dummies.append(i)\n",
    "    elif 'X_' in i:\n",
    "        list_dummies.append(i)\n",
    "\n",
    "for col in list_dummies:\n",
    "    for row in data_norm.index:\n",
    "        if data_norm.loc[row,col] != 0:\n",
    "            data_norm.loc[row,col] = 1\n",
    "\n",
    "for i in data_norm.index:\n",
    "    if data_norm.loc[i,'class'] == 0:\n",
    "        data_norm.loc[i,'class'] = -1"
   ]
  },
  {
   "cell_type": "code",
   "execution_count": 11,
   "id": "1c1e309b-ef77-453c-a9d8-0015c151135e",
   "metadata": {},
   "outputs": [
    {
     "data": {
      "text/plain": [
       "<Axes: xlabel='names_feat'>"
      ]
     },
     "execution_count": 11,
     "metadata": {},
     "output_type": "execute_result"
    },
    {
     "data": {
      "image/png": "[encoded data removed]",
      "text/plain": [
       "<Figure size 640x480 with 1 Axes>"
      ]
     },
     "metadata": {},
     "output_type": "display_data"
    }
   ],
   "source": [
    "test_df.sort_values(by='imp_feat',ascending=False).plot()"
   ]
  },
  {
   "cell_type": "code",
   "execution_count": 12,
   "id": "741dcafb-60fb-470a-bcbc-0251d71cf3fc",
   "metadata": {},
   "outputs": [
    {
     "data": {
      "text/html": [
       "<div>\n",
       "<style scoped>\n",
       "    .dataframe tbody tr th:only-of-type {\n",
       "        vertical-align: middle;\n",
       "    }\n",
       "\n",
       "    .dataframe tbody tr th {\n",
       "        vertical-align: top;\n",
       "    }\n",
       "\n",
       "    .dataframe thead th {\n",
       "        text-align: right;\n",
       "    }\n",
       "</style>\n",
       "<table border=\"1\" class=\"dataframe\">\n",
       "  <thead>\n",
       "    <tr style=\"text-align: right;\">\n",
       "      <th></th>\n",
       "      <th>imp_feat</th>\n",
       "    </tr>\n",
       "    <tr>\n",
       "      <th>names_feat</th>\n",
       "      <th></th>\n",
       "    </tr>\n",
       "  </thead>\n",
       "  <tbody>\n",
       "    <tr>\n",
       "      <th>M_Ti</th>\n",
       "      <td>0.234659</td>\n",
       "    </tr>\n",
       "    <tr>\n",
       "      <th>X_X_average_ionic_radius</th>\n",
       "      <td>0.224706</td>\n",
       "    </tr>\n",
       "    <tr>\n",
       "      <th>m_g_5</th>\n",
       "      <td>0.172851</td>\n",
       "    </tr>\n",
       "    <tr>\n",
       "      <th>A_A_density</th>\n",
       "      <td>0.123867</td>\n",
       "    </tr>\n",
       "    <tr>\n",
       "      <th>X_N</th>\n",
       "      <td>0.074902</td>\n",
       "    </tr>\n",
       "    <tr>\n",
       "      <th>A_Zn</th>\n",
       "      <td>0.063495</td>\n",
       "    </tr>\n",
       "    <tr>\n",
       "      <th>X_X_electronegativity</th>\n",
       "      <td>0.037451</td>\n",
       "    </tr>\n",
       "    <tr>\n",
       "      <th>A_A_average_cationic_radius</th>\n",
       "      <td>0.031445</td>\n",
       "    </tr>\n",
       "    <tr>\n",
       "      <th>X_X_average_anionic_radius</th>\n",
       "      <td>0.018725</td>\n",
       "    </tr>\n",
       "    <tr>\n",
       "      <th>A_Sn</th>\n",
       "      <td>0.017899</td>\n",
       "    </tr>\n",
       "    <tr>\n",
       "      <th>M_Nb</th>\n",
       "      <td>0.0</td>\n",
       "    </tr>\n",
       "  </tbody>\n",
       "</table>\n",
       "</div>"
      ],
      "text/plain": [
       "                             imp_feat\n",
       "names_feat                           \n",
       "M_Ti                         0.234659\n",
       "X_X_average_ionic_radius     0.224706\n",
       "m_g_5                        0.172851\n",
       "A_A_density                  0.123867\n",
       "X_N                          0.074902\n",
       "A_Zn                         0.063495\n",
       "X_X_electronegativity        0.037451\n",
       "A_A_average_cationic_radius  0.031445\n",
       "X_X_average_anionic_radius   0.018725\n",
       "A_Sn                         0.017899\n",
       "M_Nb                              0.0"
      ]
     },
     "execution_count": 12,
     "metadata": {},
     "output_type": "execute_result"
    }
   ],
   "source": [
    "test_df.sort_values(by='imp_feat',ascending=False)"
   ]
  },
  {
   "cell_type": "code",
   "execution_count": 13,
   "id": "687a9311-1642-44fc-a652-28995f4381a3",
   "metadata": {},
   "outputs": [],
   "source": [
    "very_positive_instances = data_norm[data_norm['class'] == 1].copy()\n",
    "very_positive_instances['pred'] = np.zeros(15)\n",
    "list_of_positive_part = list(very_positive_instances.index)"
   ]
  },
  {
   "cell_type": "code",
   "execution_count": 14,
   "id": "14f454df-fdd8-4fff-a225-8e4825749945",
   "metadata": {},
   "outputs": [],
   "source": [
    "list_wo_class = list(data_norm.columns)\n",
    "list_wo_class.remove('class')\n",
    "df_whole_results = data_norm.drop(list_wo_class,axis=1)\n",
    "t=15\n",
    "count_elem = 0\n",
    "n_positives = very_positive_instances.shape[0]-1\n",
    "for part_element in list_of_positive_part:\n",
    "    data = data_norm.drop(part_element,axis=0).copy()\n",
    "    df_results = data.drop(list(data.columns),axis=1)\n",
    "    positive_instances = data[data['class'] == 1]\n",
    "    index_of_positive = list(positive_instances.index)\n",
    "    unlabelled_instances = data.drop(labels=index_of_positive,axis=0)\n",
    "    avg_element = np.zeros(t)\n",
    "    for i in range(t):\n",
    "        u_t = unlabelled_instances.sample(n=n_positives)\n",
    "        training_set = pd.concat([positive_instances,u_t])\n",
    "        training_index = list(training_set.index)\n",
    "        clf = SVC().fit(X=training_set.drop(['class'],axis=1).to_numpy(),y=training_set['class'].to_numpy())\n",
    "        interm_df = data.drop(labels=training_index,axis=0)\n",
    "        interm_df['predictions'] = clf.decision_function(X=interm_df.drop(['class'],axis=1).to_numpy())\n",
    "        df_for_merge = pd.DataFrame(interm_df['predictions'])\n",
    "        df_for_merge.columns = [f'score_{i},{count_elem}']\n",
    "        df_results = df_results.merge(df_for_merge, how='left', left_index=True, right_index=True)\n",
    "        avg_element[i] = clf.decision_function(X=data_norm.drop(['class'],axis=1).loc[part_element,:].to_numpy().reshape(1,-1))[0]\n",
    "    very_positive_instances.loc[part_element,'pred'] = np.mean(avg_element)\n",
    "    df_whole_results = df_whole_results.merge(df_results,how='left',left_index=True,right_index=True)\n",
    "    count_elem += 1"
   ]
  },
  {
   "cell_type": "code",
   "execution_count": 15,
   "id": "719af40b-7f0e-4e34-b6ce-949db192e193",
   "metadata": {},
   "outputs": [],
   "source": [
    "avg_results = df_whole_results.drop(['class'],axis=1).mean(axis=1)"
   ]
  },
  {
   "cell_type": "code",
   "execution_count": 18,
   "id": "fed0d8a6-fb4a-46cb-bd4c-6051f9f8e4de",
   "metadata": {},
   "outputs": [],
   "source": [
    "very_positive_instances['pred_bis'] = np.sign(very_positive_instances['pred'])"
   ]
  },
  {
   "cell_type": "code",
   "execution_count": 19,
   "id": "dfa59eed-dd2a-4125-a9eb-9f642cd592e3",
   "metadata": {},
   "outputs": [],
   "source": [
    "for_recall = very_positive_instances['pred_bis'].to_numpy()"
   ]
  },
  {
   "cell_type": "code",
   "execution_count": 20,
   "id": "a567d640-7434-4e50-a4a4-6b8d67f9a811",
   "metadata": {},
   "outputs": [],
   "source": [
    "true_positives = 0\n",
    "for i in range(15):\n",
    "    if for_recall[i] == 1:\n",
    "        true_positives += 1"
   ]
  },
  {
   "cell_type": "code",
   "execution_count": 21,
   "id": "21274535-af22-495d-8e75-6b4b78077502",
   "metadata": {},
   "outputs": [],
   "source": [
    "recall = true_positives/15\n",
    "df_whole_results = df_whole_results.drop(['class'],axis=1)\n",
    "df_avg = df_whole_results.mean(axis=1)\n",
    "df_avg = pd.DataFrame(df_avg)\n",
    "df_avg.columns = ['avg']\n",
    "df_avg['decision'] = np.sign(df_avg['avg'])\n",
    "predicted_positives = df_avg.groupby('decision').count().loc[1.,'avg']\n",
    "proba_pos_pred = predicted_positives/data_norm.shape[0]\n",
    "weird_metric = (recall**2)/proba_pos_pred"
   ]
  },
  {
   "cell_type": "code",
   "execution_count": 22,
   "id": "d9d15959-48a7-473a-b391-3fa5536b0efc",
   "metadata": {},
   "outputs": [
    {
     "data": {
      "text/plain": [
       "0.9333333333333333"
      ]
     },
     "execution_count": 22,
     "metadata": {},
     "output_type": "execute_result"
    }
   ],
   "source": [
    "recall"
   ]
  },
  {
   "cell_type": "code",
   "execution_count": 23,
   "id": "97cf050c-c402-4502-8572-f34f9a5a0962",
   "metadata": {},
   "outputs": [
    {
     "data": {
      "text/plain": [
       "np.float64(4.62547730829421)"
      ]
     },
     "execution_count": 23,
     "metadata": {},
     "output_type": "execute_result"
    }
   ],
   "source": [
    "weird_metric"
   ]
  },
  {
   "cell_type": "code",
   "execution_count": 24,
   "id": "578cfde6-3157-4a77-af69-0ac37460ce26",
   "metadata": {},
   "outputs": [
    {
     "data": {
      "text/plain": [
       "np.float64(0.1883289124668435)"
      ]
     },
     "execution_count": 24,
     "metadata": {},
     "output_type": "execute_result"
    }
   ],
   "source": [
    "proba_pos_pred"
   ]
  },
  {
   "cell_type": "code",
   "execution_count": 25,
   "id": "311500f2-f47d-4339-b39b-c8db25766194",
   "metadata": {},
   "outputs": [
    {
     "name": "stderr",
     "output_type": "stream",
     "text": [
      "/tmp/ipykernel_7906/1300291536.py:4: RuntimeWarning: Mean of empty slice\n",
      "  avg_df[:,i] = np.nanmean(df_whole_np[:,14*i:14*(i+1)],axis=1)\n"
     ]
    },
    {
     "data": {
      "text/plain": [
       "np.float64(4.957138354869209)"
      ]
     },
     "execution_count": 25,
     "metadata": {},
     "output_type": "execute_result"
    }
   ],
   "source": [
    "df_whole_np = df_whole_results.to_numpy()\n",
    "avg_df = np.zeros((2262,15))\n",
    "for i in range(15):\n",
    "    avg_df[:,i] = np.nanmean(df_whole_np[:,14*i:14*(i+1)],axis=1)\n",
    "\n",
    "avg_df = (np.sign(avg_df)+1)/2\n",
    "avg_proba = np.nanmean(avg_df)\n",
    "weird_metric = recall/avg_proba\n",
    "weird_metric"
   ]
  },
  {
   "cell_type": "code",
   "execution_count": 26,
   "id": "4506a32f-19ff-4f40-9091-0b00441a4bdd",
   "metadata": {},
   "outputs": [
    {
     "data": {
      "text/plain": [
       "np.float64(0.18828067052366118)"
      ]
     },
     "execution_count": 26,
     "metadata": {},
     "output_type": "execute_result"
    }
   ],
   "source": [
    "avg_proba"
   ]
  },
  {
   "cell_type": "code",
   "execution_count": null,
   "id": "369ca1db-018d-4a0b-b529-5f0d71b81a29",
   "metadata": {},
   "outputs": [],
   "source": []
  }
 ],
 "metadata": {
  "kernelspec": {
   "display_name": "Python 3 (ipykernel)",
   "language": "python",
   "name": "python3"
  },
  "language_info": {
   "codemirror_mode": {
    "name": "ipython",
    "version": 3
   },
   "file_extension": ".py",
   "mimetype": "text/x-python",
   "name": "python",
   "nbconvert_exporter": "python",
   "pygments_lexer": "ipython3",
   "version": "3.12.4"
  }
 },
 "nbformat": 4,
 "nbformat_minor": 5
}
