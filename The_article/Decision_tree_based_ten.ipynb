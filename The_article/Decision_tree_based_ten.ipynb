{
 "cells": [
  {
   "cell_type": "code",
   "execution_count": 1,
   "id": "af611777-bcef-41b8-8b95-204d4592b1b0",
   "metadata": {},
   "outputs": [],
   "source": [
    "%%capture\n",
    "import numpy as np\n",
    "import pandas as pd\n",
    "import matplotlib.pyplot as plt\n",
    "from sklearn.preprocessing import StandardScaler\n",
    "from sklearn.decomposition import PCA\n",
    "from scipy.stats import bernoulli\n",
    "from sklearn.cluster import KMeans\n",
    "from sklearn.tree import DecisionTreeClassifier\n",
    "from sklearn.ensemble import BaggingClassifier\n",
    "from sklearn.model_selection import KFold\n",
    "!pip install openpyxl"
   ]
  },
  {
   "cell_type": "code",
   "execution_count": 2,
   "id": "1162298d-b740-4505-8bc4-88e625508842",
   "metadata": {},
   "outputs": [],
   "source": [
    "max_calculated = pd.read_csv('max_calculated.csv')\n",
    "max_elemental = pd.read_csv('max_elemental.csv')\n",
    "list_mxene = pd.read_excel('synthesized-MXenes-MAX.xlsx',sheet_name=0)\n",
    "list_failed = pd.read_excel('synthesized-MXenes-MAX.xlsx', sheet_name=2)\n",
    "n_samples = max_elemental.shape[0]"
   ]
  },
  {
   "cell_type": "code",
   "execution_count": 3,
   "id": "5d8e8d40-64af-423d-b5f3-1d83aed1cc57",
   "metadata": {},
   "outputs": [],
   "source": [
    "synth_list = pd.unique(list_mxene['MXene'])[:-1]\n",
    "to_drop = list(range(167,173))\n",
    "mx_ene_df = list_mxene.drop(labels = to_drop, axis='index')\n",
    "mx_ene_df = mx_ene_df.drop(['Unnamed: 9','Unnamed: 12','Notes','status','Reference method'],axis=1)\n",
    "max_elemental['class'] = np.zeros(max_elemental.shape[0])\n",
    "parents = mx_ene_df['Parent material'].unique()\n",
    "banned_words = ['+','Mxene','topochemical','reaction', 'or',\n",
    "               'synthesis','MXene','direct']\n",
    "complete_parents = []\n",
    "for i in range(len(parents)):\n",
    "    inter = parents[i].split()\n",
    "    for word in range(len(inter)):\n",
    "        if inter[word] not in banned_words:\n",
    "            complete_parents.append(inter[word])\n",
    "\n",
    "\n",
    "for i in range(max_elemental.shape[0]):\n",
    "    if max_elemental.loc[i,'compound_formula'] in complete_parents:\n",
    "        max_elemental.loc[i,'class'] = 1\n",
    "\n",
    "max_elemental = max_elemental.set_index('compound_formula',drop=True)\n",
    "max_elemental = max_elemental.drop(['M_element', 'A_element', 'X_element'],axis=1)\n",
    "test_tree = DecisionTreeClassifier().fit(X=max_elemental.drop(['class'],axis=1),\n",
    "                                          y=max_elemental['class'])\n",
    "\n",
    "imp_feat = test_tree.feature_importances_\n",
    "names_feat = test_tree.feature_names_in_\n",
    "df_imp_feat = pd.DataFrame(np.hstack((imp_feat.reshape(imp_feat.shape[0],1),names_feat.reshape(imp_feat.shape[0],1))))\n",
    "df_imp_feat.columns = ['features', 'name']\n",
    "df_imp_feat = df_imp_feat.sort_values('features', ascending=False)\n",
    "\n",
    "df_diff_z = df_imp_feat[df_imp_feat['features'] != 0]\n",
    "\n",
    "\n",
    "failed = list_failed['MAX']\n",
    "failed = list(failed)\n",
    "\n",
    "for i in max_elemental.index:\n",
    "    if i in failed:\n",
    "        max_elemental.loc[i,'class'] = -1\n",
    "\n",
    "\n",
    "number_of_atoms = np.empty(n_samples)\n",
    "compteur = 0\n",
    "for element in max_elemental.index:\n",
    "    inter = []\n",
    "    for cara in element:\n",
    "        if cara in list(str(1234567890)):\n",
    "            inter.append(cara)\n",
    "    if len(inter) == 1:\n",
    "        number_of_atoms[compteur] = int(inter[0]) + 2\n",
    "    elif len(inter) == 2:\n",
    "        number_of_atoms[compteur] = int(inter[0]) + int(inter[1]) + 1\n",
    "    elif len(inter) == 3:\n",
    "        number_of_atoms[compteur] = int(inter[0]) + int(inter[1]) + int(inter[2])\n",
    "    compteur += 1\n",
    "\n",
    "\n",
    "columns_name = max_elemental.columns.copy()\n",
    "normalized = max_elemental.drop(['class'],axis=1).to_numpy()/number_of_atoms.reshape(n_samples,1)\n",
    "max_elem_norm = pd.DataFrame(normalized)\n",
    "max_elem_norm['class'] = max_elemental['class'].copy()\n",
    "max_elem_norm.columns = columns_name\n",
    "max_elem_norm['compound_name'] = max_elemental.index\n",
    "max_elem_norm = max_elem_norm.set_index('compound_name',drop=True)\n",
    "\n",
    "max_elem_norm['class'] = max_elemental['class'].copy()\n",
    "\n",
    "\n"
   ]
  },
  {
   "cell_type": "code",
   "execution_count": 4,
   "id": "4304cabf-980c-48fb-9bb4-c74e7b0c9570",
   "metadata": {},
   "outputs": [],
   "source": [
    "max_elem_norm['label'] = np.empty(n_samples)\n",
    "for i in max_elem_norm.index:\n",
    "    if max_elem_norm.loc[i,'class'] == 1:\n",
    "        max_elem_norm.loc[i,'label'] = 1\n",
    "    else:\n",
    "        max_elem_norm.loc[i,'label'] = 0\n",
    "\n",
    "positive_samples = max_elem_norm[max_elem_norm['label'] == 1]\n",
    "unlabelled_samples = max_elem_norm[max_elem_norm['label'] == 0]"
   ]
  },
  {
   "cell_type": "code",
   "execution_count": 5,
   "id": "a5ffc9fa-1ab9-4f6e-b76e-1502c15963af",
   "metadata": {},
   "outputs": [],
   "source": [
    "n_positives = positive_samples.shape[0]"
   ]
  },
  {
   "cell_type": "code",
   "execution_count": 6,
   "id": "07093a7d-676e-4bcd-bf39-4d0f5c68575e",
   "metadata": {},
   "outputs": [],
   "source": [
    "negative_set = unlabelled_samples.sample(n=n_positives,random_state=1)"
   ]
  },
  {
   "cell_type": "code",
   "execution_count": 7,
   "id": "ceee382d-c666-407e-b04b-dc530d78eef5",
   "metadata": {},
   "outputs": [],
   "source": [
    "learning_set = pd.concat([positive_samples,negative_set])"
   ]
  },
  {
   "cell_type": "code",
   "execution_count": 8,
   "id": "bb762138-4a82-4e38-8185-c2371e31839a",
   "metadata": {},
   "outputs": [],
   "source": [
    "clf = DecisionTreeClassifier(random_state=1).fit(X=learning_set.drop(['label','class'],axis=1),\n",
    "                                                       y=learning_set['label'])"
   ]
  },
  {
   "cell_type": "code",
   "execution_count": 9,
   "id": "ff3bfc2f-6cba-4eff-81eb-af8f8caff273",
   "metadata": {},
   "outputs": [],
   "source": [
    "#first try with t=10 estimators, we will try after with t=50\n",
    "compteur = 0\n",
    "error_rate_positive = np.zeros(positive_samples.shape[0])\n",
    "diff_steps = max_elem_norm.filter(items=['class'],axis=1)\n",
    "for element in positive_samples.index:\n",
    "    training_positive = positive_samples.drop(index=element)\n",
    "    training_negative = unlabelled_samples.sample(n=training_positive.shape[0])\n",
    "    whole_training = pd.concat([training_positive,training_negative])\n",
    "    clf = BaggingClassifier(n_estimators=10).fit(X=whole_training.drop(['class', 'label'],axis=1).to_numpy(),\n",
    "                                                y=whole_training['label'].to_numpy())\n",
    "    to_test = positive_samples.loc[element,:].drop(['class','label']).to_numpy().reshape(1,-1)\n",
    "    error_rate_positive[compteur] = clf.predict(to_test)[0]\n",
    "    trained_on = whole_training.index\n",
    "    tested_on = max_elem_norm.drop(index=trained_on)\n",
    "    tested_on[f'score_{compteur}'] = clf.predict(X=tested_on.drop(['class','label'],axis=1).to_numpy())\n",
    "    score_of_it = pd.DataFrame(tested_on[f'score_{compteur}'])\n",
    "    diff_steps = diff_steps.merge(score_of_it, how='left', left_index=True, right_index=True)\n",
    "    compteur += 1"
   ]
  },
  {
   "cell_type": "code",
   "execution_count": 10,
   "id": "62958800-8ab9-4d92-800d-c16b277a21f0",
   "metadata": {},
   "outputs": [],
   "source": [
    "#truc = positive_samples.index[0]\n",
    "#training_positive = positive_samples.drop(index=truc)\n",
    "#training_negative = unlabelled_samples.sample(n=training_positive.shape[0])\n",
    "#whole_training = pd.concat([training_positive,training_negative])"
   ]
  },
  {
   "cell_type": "code",
   "execution_count": 11,
   "id": "06b2aa8d-39dd-4047-8e7d-0e74a9061bb9",
   "metadata": {},
   "outputs": [],
   "source": [
    "#clf.predict(whole_training.drop(['label','class'],axis=1))"
   ]
  },
  {
   "cell_type": "code",
   "execution_count": 12,
   "id": "2ad91dee-b2de-426d-99ac-59ff31e766a0",
   "metadata": {},
   "outputs": [],
   "source": [
    "#whole_training"
   ]
  },
  {
   "cell_type": "code",
   "execution_count": 13,
   "id": "784524ee-76d9-47bb-8239-58580c8026f7",
   "metadata": {},
   "outputs": [
    {
     "data": {
      "text/plain": [
       "compound_name\n",
       "Mn2GaC    0.3125\n",
       "Cr2AlC    0.8750\n",
       "Mo2GaC    0.1250\n",
       "dtype: float64"
      ]
     },
     "execution_count": 13,
     "metadata": {},
     "output_type": "execute_result"
    }
   ],
   "source": [
    "diff_steps.loc[failed,:].mean(axis=1)"
   ]
  },
  {
   "cell_type": "code",
   "execution_count": 14,
   "id": "3a55247c-91d3-4c22-a121-e376679b3807",
   "metadata": {},
   "outputs": [],
   "source": [
    "#pb, it predicts with a very high probability some of the compounds that \n",
    "#have been proved to have failed synthesis"
   ]
  },
  {
   "cell_type": "code",
   "execution_count": 15,
   "id": "af4d5c26-0486-43cb-8715-63c30827166a",
   "metadata": {},
   "outputs": [],
   "source": [
    "recall = np.sum(error_rate_positive)/positive_samples.shape[0]"
   ]
  },
  {
   "cell_type": "code",
   "execution_count": 16,
   "id": "0099fef4-d619-41cc-94ce-998948546d30",
   "metadata": {},
   "outputs": [
    {
     "data": {
      "text/html": [
       "<div>\n",
       "<style scoped>\n",
       "    .dataframe tbody tr th:only-of-type {\n",
       "        vertical-align: middle;\n",
       "    }\n",
       "\n",
       "    .dataframe tbody tr th {\n",
       "        vertical-align: top;\n",
       "    }\n",
       "\n",
       "    .dataframe thead th {\n",
       "        text-align: right;\n",
       "    }\n",
       "</style>\n",
       "<table border=\"1\" class=\"dataframe\">\n",
       "  <thead>\n",
       "    <tr style=\"text-align: right;\">\n",
       "      <th></th>\n",
       "      <th>class</th>\n",
       "      <th>score_0</th>\n",
       "      <th>score_1</th>\n",
       "      <th>score_2</th>\n",
       "      <th>score_3</th>\n",
       "      <th>score_4</th>\n",
       "      <th>score_5</th>\n",
       "      <th>score_6</th>\n",
       "      <th>score_7</th>\n",
       "      <th>score_8</th>\n",
       "      <th>score_9</th>\n",
       "      <th>score_10</th>\n",
       "      <th>score_11</th>\n",
       "      <th>score_12</th>\n",
       "      <th>score_13</th>\n",
       "      <th>score_14</th>\n",
       "    </tr>\n",
       "    <tr>\n",
       "      <th>compound_name</th>\n",
       "      <th></th>\n",
       "      <th></th>\n",
       "      <th></th>\n",
       "      <th></th>\n",
       "      <th></th>\n",
       "      <th></th>\n",
       "      <th></th>\n",
       "      <th></th>\n",
       "      <th></th>\n",
       "      <th></th>\n",
       "      <th></th>\n",
       "      <th></th>\n",
       "      <th></th>\n",
       "      <th></th>\n",
       "      <th></th>\n",
       "      <th></th>\n",
       "    </tr>\n",
       "  </thead>\n",
       "  <tbody>\n",
       "    <tr>\n",
       "      <th>Sc2AlC</th>\n",
       "      <td>0.0</td>\n",
       "      <td>1.0</td>\n",
       "      <td>1.0</td>\n",
       "      <td>1.0</td>\n",
       "      <td>1.0</td>\n",
       "      <td>1.0</td>\n",
       "      <td>1.0</td>\n",
       "      <td>1.0</td>\n",
       "      <td>1.0</td>\n",
       "      <td>1.0</td>\n",
       "      <td>1.0</td>\n",
       "      <td>1.0</td>\n",
       "      <td>1.0</td>\n",
       "      <td>1.0</td>\n",
       "      <td>1.0</td>\n",
       "      <td>1.0</td>\n",
       "    </tr>\n",
       "    <tr>\n",
       "      <th>Sc2SiC</th>\n",
       "      <td>0.0</td>\n",
       "      <td>1.0</td>\n",
       "      <td>1.0</td>\n",
       "      <td>1.0</td>\n",
       "      <td>1.0</td>\n",
       "      <td>1.0</td>\n",
       "      <td>1.0</td>\n",
       "      <td>1.0</td>\n",
       "      <td>1.0</td>\n",
       "      <td>0.0</td>\n",
       "      <td>0.0</td>\n",
       "      <td>1.0</td>\n",
       "      <td>1.0</td>\n",
       "      <td>1.0</td>\n",
       "      <td>1.0</td>\n",
       "      <td>1.0</td>\n",
       "    </tr>\n",
       "    <tr>\n",
       "      <th>Sc2PC</th>\n",
       "      <td>0.0</td>\n",
       "      <td>1.0</td>\n",
       "      <td>1.0</td>\n",
       "      <td>1.0</td>\n",
       "      <td>1.0</td>\n",
       "      <td>0.0</td>\n",
       "      <td>1.0</td>\n",
       "      <td>1.0</td>\n",
       "      <td>1.0</td>\n",
       "      <td>0.0</td>\n",
       "      <td>0.0</td>\n",
       "      <td>1.0</td>\n",
       "      <td>1.0</td>\n",
       "      <td>1.0</td>\n",
       "      <td>1.0</td>\n",
       "      <td>1.0</td>\n",
       "    </tr>\n",
       "    <tr>\n",
       "      <th>Sc2SC</th>\n",
       "      <td>0.0</td>\n",
       "      <td>1.0</td>\n",
       "      <td>1.0</td>\n",
       "      <td>1.0</td>\n",
       "      <td>0.0</td>\n",
       "      <td>0.0</td>\n",
       "      <td>1.0</td>\n",
       "      <td>1.0</td>\n",
       "      <td>1.0</td>\n",
       "      <td>0.0</td>\n",
       "      <td>0.0</td>\n",
       "      <td>1.0</td>\n",
       "      <td>0.0</td>\n",
       "      <td>1.0</td>\n",
       "      <td>1.0</td>\n",
       "      <td>1.0</td>\n",
       "    </tr>\n",
       "    <tr>\n",
       "      <th>Sc2MnC</th>\n",
       "      <td>0.0</td>\n",
       "      <td>0.0</td>\n",
       "      <td>1.0</td>\n",
       "      <td>0.0</td>\n",
       "      <td>1.0</td>\n",
       "      <td>0.0</td>\n",
       "      <td>1.0</td>\n",
       "      <td>1.0</td>\n",
       "      <td>0.0</td>\n",
       "      <td>0.0</td>\n",
       "      <td>0.0</td>\n",
       "      <td>1.0</td>\n",
       "      <td>0.0</td>\n",
       "      <td>0.0</td>\n",
       "      <td>1.0</td>\n",
       "      <td>1.0</td>\n",
       "    </tr>\n",
       "    <tr>\n",
       "      <th>...</th>\n",
       "      <td>...</td>\n",
       "      <td>...</td>\n",
       "      <td>...</td>\n",
       "      <td>...</td>\n",
       "      <td>...</td>\n",
       "      <td>...</td>\n",
       "      <td>...</td>\n",
       "      <td>...</td>\n",
       "      <td>...</td>\n",
       "      <td>...</td>\n",
       "      <td>...</td>\n",
       "      <td>...</td>\n",
       "      <td>...</td>\n",
       "      <td>...</td>\n",
       "      <td>...</td>\n",
       "      <td>...</td>\n",
       "    </tr>\n",
       "    <tr>\n",
       "      <th>W4AuN3</th>\n",
       "      <td>0.0</td>\n",
       "      <td>0.0</td>\n",
       "      <td>0.0</td>\n",
       "      <td>0.0</td>\n",
       "      <td>0.0</td>\n",
       "      <td>0.0</td>\n",
       "      <td>0.0</td>\n",
       "      <td>0.0</td>\n",
       "      <td>0.0</td>\n",
       "      <td>0.0</td>\n",
       "      <td>0.0</td>\n",
       "      <td>0.0</td>\n",
       "      <td>0.0</td>\n",
       "      <td>0.0</td>\n",
       "      <td>0.0</td>\n",
       "      <td>0.0</td>\n",
       "    </tr>\n",
       "    <tr>\n",
       "      <th>W4HgN3</th>\n",
       "      <td>0.0</td>\n",
       "      <td>0.0</td>\n",
       "      <td>0.0</td>\n",
       "      <td>0.0</td>\n",
       "      <td>0.0</td>\n",
       "      <td>0.0</td>\n",
       "      <td>0.0</td>\n",
       "      <td>0.0</td>\n",
       "      <td>0.0</td>\n",
       "      <td>0.0</td>\n",
       "      <td>0.0</td>\n",
       "      <td>0.0</td>\n",
       "      <td>0.0</td>\n",
       "      <td>0.0</td>\n",
       "      <td>0.0</td>\n",
       "      <td>0.0</td>\n",
       "    </tr>\n",
       "    <tr>\n",
       "      <th>W4TlN3</th>\n",
       "      <td>0.0</td>\n",
       "      <td>0.0</td>\n",
       "      <td>0.0</td>\n",
       "      <td>0.0</td>\n",
       "      <td>0.0</td>\n",
       "      <td>0.0</td>\n",
       "      <td>0.0</td>\n",
       "      <td>0.0</td>\n",
       "      <td>0.0</td>\n",
       "      <td>0.0</td>\n",
       "      <td>0.0</td>\n",
       "      <td>0.0</td>\n",
       "      <td>0.0</td>\n",
       "      <td>0.0</td>\n",
       "      <td>0.0</td>\n",
       "      <td>0.0</td>\n",
       "    </tr>\n",
       "    <tr>\n",
       "      <th>W4PbN3</th>\n",
       "      <td>0.0</td>\n",
       "      <td>0.0</td>\n",
       "      <td>0.0</td>\n",
       "      <td>0.0</td>\n",
       "      <td>0.0</td>\n",
       "      <td>0.0</td>\n",
       "      <td>0.0</td>\n",
       "      <td>0.0</td>\n",
       "      <td>0.0</td>\n",
       "      <td>0.0</td>\n",
       "      <td>0.0</td>\n",
       "      <td>0.0</td>\n",
       "      <td>0.0</td>\n",
       "      <td>0.0</td>\n",
       "      <td>0.0</td>\n",
       "      <td>0.0</td>\n",
       "    </tr>\n",
       "    <tr>\n",
       "      <th>W4BiN3</th>\n",
       "      <td>0.0</td>\n",
       "      <td>0.0</td>\n",
       "      <td>0.0</td>\n",
       "      <td>0.0</td>\n",
       "      <td>0.0</td>\n",
       "      <td>0.0</td>\n",
       "      <td>0.0</td>\n",
       "      <td>0.0</td>\n",
       "      <td>0.0</td>\n",
       "      <td>0.0</td>\n",
       "      <td>0.0</td>\n",
       "      <td>0.0</td>\n",
       "      <td>0.0</td>\n",
       "      <td>0.0</td>\n",
       "      <td>0.0</td>\n",
       "      <td>0.0</td>\n",
       "    </tr>\n",
       "  </tbody>\n",
       "</table>\n",
       "<p>2262 rows × 16 columns</p>\n",
       "</div>"
      ],
      "text/plain": [
       "               class  score_0  score_1  score_2  score_3  score_4  score_5  \\\n",
       "compound_name                                                                \n",
       "Sc2AlC           0.0      1.0      1.0      1.0      1.0      1.0      1.0   \n",
       "Sc2SiC           0.0      1.0      1.0      1.0      1.0      1.0      1.0   \n",
       "Sc2PC            0.0      1.0      1.0      1.0      1.0      0.0      1.0   \n",
       "Sc2SC            0.0      1.0      1.0      1.0      0.0      0.0      1.0   \n",
       "Sc2MnC           0.0      0.0      1.0      0.0      1.0      0.0      1.0   \n",
       "...              ...      ...      ...      ...      ...      ...      ...   \n",
       "W4AuN3           0.0      0.0      0.0      0.0      0.0      0.0      0.0   \n",
       "W4HgN3           0.0      0.0      0.0      0.0      0.0      0.0      0.0   \n",
       "W4TlN3           0.0      0.0      0.0      0.0      0.0      0.0      0.0   \n",
       "W4PbN3           0.0      0.0      0.0      0.0      0.0      0.0      0.0   \n",
       "W4BiN3           0.0      0.0      0.0      0.0      0.0      0.0      0.0   \n",
       "\n",
       "               score_6  score_7  score_8  score_9  score_10  score_11  \\\n",
       "compound_name                                                           \n",
       "Sc2AlC             1.0      1.0      1.0      1.0       1.0       1.0   \n",
       "Sc2SiC             1.0      1.0      0.0      0.0       1.0       1.0   \n",
       "Sc2PC              1.0      1.0      0.0      0.0       1.0       1.0   \n",
       "Sc2SC              1.0      1.0      0.0      0.0       1.0       0.0   \n",
       "Sc2MnC             1.0      0.0      0.0      0.0       1.0       0.0   \n",
       "...                ...      ...      ...      ...       ...       ...   \n",
       "W4AuN3             0.0      0.0      0.0      0.0       0.0       0.0   \n",
       "W4HgN3             0.0      0.0      0.0      0.0       0.0       0.0   \n",
       "W4TlN3             0.0      0.0      0.0      0.0       0.0       0.0   \n",
       "W4PbN3             0.0      0.0      0.0      0.0       0.0       0.0   \n",
       "W4BiN3             0.0      0.0      0.0      0.0       0.0       0.0   \n",
       "\n",
       "               score_12  score_13  score_14  \n",
       "compound_name                                \n",
       "Sc2AlC              1.0       1.0       1.0  \n",
       "Sc2SiC              1.0       1.0       1.0  \n",
       "Sc2PC               1.0       1.0       1.0  \n",
       "Sc2SC               1.0       1.0       1.0  \n",
       "Sc2MnC              0.0       1.0       1.0  \n",
       "...                 ...       ...       ...  \n",
       "W4AuN3              0.0       0.0       0.0  \n",
       "W4HgN3              0.0       0.0       0.0  \n",
       "W4TlN3              0.0       0.0       0.0  \n",
       "W4PbN3              0.0       0.0       0.0  \n",
       "W4BiN3              0.0       0.0       0.0  \n",
       "\n",
       "[2262 rows x 16 columns]"
      ]
     },
     "execution_count": 16,
     "metadata": {},
     "output_type": "execute_result"
    }
   ],
   "source": [
    "diff_steps"
   ]
  },
  {
   "cell_type": "code",
   "execution_count": 17,
   "id": "e872a6cb-511d-4c96-855f-feb919852158",
   "metadata": {},
   "outputs": [],
   "source": [
    "results_k_fold = np.empty(15)\n",
    "for i in range(15):\n",
    "    results_k_fold[i] = diff_steps[f'score_{i}'].sum()"
   ]
  },
  {
   "cell_type": "code",
   "execution_count": 18,
   "id": "cb85d874-ab71-4016-9741-65430f822ff8",
   "metadata": {},
   "outputs": [],
   "source": [
    "test_weird_metric = np.ones(positive_samples.shape[0])*recall\n",
    "test_weird_metric = (recall**2)/(results_k_fold/n_samples)"
   ]
  },
  {
   "cell_type": "code",
   "execution_count": 19,
   "id": "3bf7631f-dace-4c65-a196-4a813d96b9a6",
   "metadata": {},
   "outputs": [
    {
     "data": {
      "text/plain": [
       "array([3.03937984, 1.38808279, 3.2926615 , 3.27994852, 3.7096361 ,\n",
       "       3.3710582 , 3.65379211, 4.16424837, 5.1799187 , 5.02666667,\n",
       "       4.77250936, 3.07235684, 2.20651082, 3.19363409, 2.00828999])"
      ]
     },
     "execution_count": 19,
     "metadata": {},
     "output_type": "execute_result"
    }
   ],
   "source": [
    "test_weird_metric"
   ]
  },
  {
   "cell_type": "markdown",
   "id": "16c062bf-4b34-4cd5-8632-5ca8bc11de97",
   "metadata": {},
   "source": [
    "## Testing\n",
    "Problems, because, if we do as it is done in the article, it is quite easy to obtain a very high score as they only validate their estimator by the TPR averaged across the predictions. But it is quite easy to obtain a high TPR as the predictor can be over-optimistic on the positives, misclassify all the negatives and still have a good performance. \n",
    "But if we use the metric presented in the article 'learning with positive and unlabelled examples using weighted logistic regression', that is : $\\frac{r^2}{\\mathbb{P}(f(X)=1)}$ with r the recall, we get the results above. However, as it was discussed before, this metric can easily go above one and hence is difficult to interpret. "
   ]
  },
  {
   "cell_type": "code",
   "execution_count": 20,
   "id": "4b626ecd-096b-453b-a5eb-9564a79708b1",
   "metadata": {},
   "outputs": [],
   "source": [
    "first_results = pd.DataFrame(diff_steps.drop(['class'], axis=1).sum(axis=1).sort_values(ascending=False))"
   ]
  },
  {
   "cell_type": "code",
   "execution_count": 21,
   "id": "fd348b6b-b256-4ef0-9990-5904a38a3f9f",
   "metadata": {},
   "outputs": [],
   "source": [
    "first_results.columns = ['score']"
   ]
  },
  {
   "cell_type": "code",
   "execution_count": 22,
   "id": "f14cf0f8-30c5-492f-bf99-bea8fc9f8664",
   "metadata": {},
   "outputs": [],
   "source": [
    "superior_to_z = first_results[first_results['score'] != 0]"
   ]
  },
  {
   "cell_type": "code",
   "execution_count": 23,
   "id": "0794d6ca-e1a4-447d-bdef-f41154c08fb0",
   "metadata": {},
   "outputs": [
    {
     "data": {
      "text/plain": [
       "1894"
      ]
     },
     "execution_count": 23,
     "metadata": {},
     "output_type": "execute_result"
    }
   ],
   "source": [
    "superior_to_z.shape[0]"
   ]
  },
  {
   "cell_type": "code",
   "execution_count": 24,
   "id": "e47ae908-f5e2-45d5-96ab-6135309f5960",
   "metadata": {},
   "outputs": [],
   "source": [
    "#lots of points predicted positive at least once"
   ]
  },
  {
   "cell_type": "code",
   "execution_count": 25,
   "id": "833fdb75-625b-4712-b51a-5319a980b6c4",
   "metadata": {},
   "outputs": [],
   "source": [
    "#but if we take the points that were predicted at least 8 times >0, we could get a better idea?"
   ]
  },
  {
   "cell_type": "code",
   "execution_count": 26,
   "id": "f9b43b44-3d01-421d-b72e-a86b6295fd45",
   "metadata": {},
   "outputs": [],
   "source": [
    "above_average = first_results[first_results['score'] >=8]"
   ]
  },
  {
   "cell_type": "code",
   "execution_count": 27,
   "id": "68571387-d688-417b-ab40-d83587f64ed1",
   "metadata": {},
   "outputs": [],
   "source": [
    "almost_full_pos_pred = first_results[first_results['score'] >= 14]"
   ]
  },
  {
   "cell_type": "code",
   "execution_count": 28,
   "id": "297eba79-4ff6-4305-8c0a-9b2ca91b54a5",
   "metadata": {},
   "outputs": [],
   "source": [
    "most_probable_ten_pred = list(almost_full_pos_pred.index)"
   ]
  },
  {
   "cell_type": "code",
   "execution_count": 29,
   "id": "0193a3dd-18de-4f8e-88ad-d46209df46f0",
   "metadata": {},
   "outputs": [],
   "source": [
    "max_calculated = max_calculated.set_index(keys='prettyformula',drop=True)"
   ]
  },
  {
   "cell_type": "code",
   "execution_count": 30,
   "id": "7ab79716-d016-4c36-975a-31ea1b9c770d",
   "metadata": {},
   "outputs": [],
   "source": [
    "retained_ones_ten = max_calculated.filter(items=most_probable_ten_pred, axis=0)"
   ]
  },
  {
   "cell_type": "code",
   "execution_count": 31,
   "id": "a93738bc-abba-4dc4-b273-6e34904f70f4",
   "metadata": {},
   "outputs": [],
   "source": [
    "to_plot_ten = retained_ones_ten['dH'].to_numpy()"
   ]
  },
  {
   "cell_type": "code",
   "execution_count": 32,
   "id": "99a24f5f-0300-4abc-9767-f8c5a8df95fe",
   "metadata": {},
   "outputs": [
    {
     "data": {
      "text/plain": [
       "<matplotlib.legend.Legend at 0x7fe5a5aae9f0>"
      ]
     },
     "execution_count": 32,
     "metadata": {},
     "output_type": "execute_result"
    },
    {
     "data": {
      "image/png": "[encoded data removed]",
      "text/plain": [
       "<Figure size 640x480 with 1 Axes>"
      ]
     },
     "metadata": {},
     "output_type": "display_data"
    }
   ],
   "source": [
    "plt.plot(np.sort(to_plot_ten),label='dH')\n",
    "plt.plot(np.zeros(4),np.linspace(-60,1300,4),label='=0')\n",
    "plt.plot(np.ones(2)*30, np.linspace(-60,1300,2),label='=30')\n",
    "plt.legend()"
   ]
  },
  {
   "cell_type": "code",
   "execution_count": 33,
   "id": "4e8a521e-17c0-46d8-bfe9-8cbbb3597447",
   "metadata": {},
   "outputs": [],
   "source": [
    "very_much_probable_ones = retained_ones_ten[retained_ones_ten['dH'] < 0].index"
   ]
  },
  {
   "cell_type": "code",
   "execution_count": 34,
   "id": "bcb7d75a-b164-4052-913f-91d1443b4da9",
   "metadata": {},
   "outputs": [
    {
     "data": {
      "text/plain": [
       "Index(['Ti4AlC3', 'Ti3PC2', 'Hf4AlC3', 'Hf3AlC2', 'Cr2AlC', 'Zr3AlC2',\n",
       "       'Zr4AlN3', 'Nb3AlC2', 'Hf3PC2', 'Ta3AlC2', 'Hf4AlN3'],\n",
       "      dtype='object')"
      ]
     },
     "execution_count": 34,
     "metadata": {},
     "output_type": "execute_result"
    }
   ],
   "source": [
    "very_much_probable_ones"
   ]
  },
  {
   "cell_type": "code",
   "execution_count": 38,
   "id": "9a688248-75c3-4643-8804-1bcd55dfdffb",
   "metadata": {},
   "outputs": [
    {
     "name": "stdout",
     "output_type": "stream",
     "text": [
      "Zr4PC3\n",
      "Hf4PC3\n",
      "Ti3GaC2\n",
      "Ti3GeC2\n"
     ]
    }
   ],
   "source": [
    "retained_fifty = ['Zr4AlN3', 'Cr2AlC', 'Zr3AlC2', 'Ta3AlC2', 'Hf3AlC2', 'Hf4AlN3',\n",
    "       'Zr4PC3', 'Hf4AlC3', 'Hf4PC3', 'Ti4AlC3', 'Nb3AlC2', 'Ti3PC2',\n",
    "       'Ti3GaC2', 'Ti3GeC2']\n",
    "same_pred = 0\n",
    "for i in retained_fifty:\n",
    "    if i in very_much_probable_ones:\n",
    "        same_pred += 1\n",
    "    else:\n",
    "        print(i)"
   ]
  },
  {
   "cell_type": "code",
   "execution_count": 39,
   "id": "3df81fd5-79f4-4e5f-bdd2-7c6c1f522616",
   "metadata": {},
   "outputs": [
    {
     "data": {
      "text/plain": [
       "10"
      ]
     },
     "execution_count": 39,
     "metadata": {},
     "output_type": "execute_result"
    }
   ],
   "source": [
    "same_pred"
   ]
  },
  {
   "cell_type": "code",
   "execution_count": 40,
   "id": "221d5ec9-a66f-4884-b3a7-285a219cfe28",
   "metadata": {},
   "outputs": [
    {
     "data": {
      "text/plain": [
       "11"
      ]
     },
     "execution_count": 40,
     "metadata": {},
     "output_type": "execute_result"
    }
   ],
   "source": [
    "len(very_much_probable_ones)"
   ]
  },
  {
   "cell_type": "code",
   "execution_count": 41,
   "id": "b3005e9d-81ba-420f-936d-08186024070c",
   "metadata": {},
   "outputs": [
    {
     "data": {
      "text/plain": [
       "14"
      ]
     },
     "execution_count": 41,
     "metadata": {},
     "output_type": "execute_result"
    }
   ],
   "source": [
    "len(retained_fifty)"
   ]
  },
  {
   "cell_type": "code",
   "execution_count": 42,
   "id": "c9f62de2-d6a9-4cf4-8946-a73ac966c717",
   "metadata": {},
   "outputs": [
    {
     "name": "stdout",
     "output_type": "stream",
     "text": [
      "1894 390 61\n"
     ]
    }
   ],
   "source": [
    "print(superior_to_z.shape[0],above_average.shape[0],almost_full_pos_pred.shape[0])"
   ]
  },
  {
   "cell_type": "code",
   "execution_count": 43,
   "id": "d3b6866a-6ec1-4b27-a8a2-d9e44c003202",
   "metadata": {},
   "outputs": [],
   "source": [
    "most_probable_fifty = ['Y2AlC','Zr4AlN3','Fe4AlN3', 'Cr2AlC','Fe3SiC2', 'Y3AlC2','Nb2AlN', 'Y2AlN','Zr2AlC', 'Ti3SiN2',\n",
    " 'Zr3AlC2', 'W2AlC','Ta3AlC2', 'Mo2AlC','Sc2AlN', 'Cr2AlN','V2AlN', 'Hf3AlC2','Hf2AlC', 'Mn2AlC','V4PC3', 'Fe4AlC3','Ru2AlC', 'Ti4PN3',\n",
    " 'V4AlN3', 'Ti2PC','Ta4AlN3', 'Sc2AlC','V3AlC2', 'Mn3SiC2','Hf4AlN3', 'Fe2AlC','Sc4AlN3', 'Sc4PN3','Sc3AlC2', 'Sc3SiC2','W4AlN3', 'Os2AlC','Cr3AlC2',\n",
    " 'Cr3SiC2','Mn3AlC2','Mn4AlC3','Zr4AlC3','Ti4SiN3','V4PN3','Cr4AlN3','Zr4PC3','Mo4AlC3','Nb4PC3','Hf4AlC3','Hf4PC3','Hf3SiC2','Sc4PC3',\n",
    " 'Sc4AlC3','Ti4AlC3','Ti4PC3', 'Cr4AlC3', 'W4AlC3', 'Ta4PC3', 'Fe2AlN','Mn2AlN', 'Y3SiC2', 'Nb3AlC2', 'Zr3SiC2',\n",
    " 'Mo3AlC2', 'Ta3SiC2', 'Ta2AlN', 'Hf2AlN', 'Zr2AlN', 'Ti3AlN2', 'Ti3PC2', 'Mn4AlN3', 'Y4AlN3', 'Fe3AlC2', 'Ti3CuC2',\n",
    " 'Ti3GaC2','Ti3GeC2','V3SiC2','Nb4AlN3','Mo4AlN3', 'Re2AlC']"
   ]
  },
  {
   "cell_type": "code",
   "execution_count": 46,
   "id": "77e933b8-aef8-4c11-8183-a413868c64d0",
   "metadata": {},
   "outputs": [
    {
     "name": "stdout",
     "output_type": "stream",
     "text": [
      "81 61\n"
     ]
    }
   ],
   "source": [
    "print(len(most_probable_fifty),len(most_probable_ten_pred))"
   ]
  },
  {
   "cell_type": "code",
   "execution_count": 47,
   "id": "4fb2888a-cd19-42b9-ac31-51347f9d42cf",
   "metadata": {
    "collapsed": true,
    "jupyter": {
     "outputs_hidden": true
    },
    "scrolled": true
   },
   "outputs": [
    {
     "name": "stdout",
     "output_type": "stream",
     "text": [
      "Nb2AlN\n",
      "Y2AlN\n",
      "Ti3SiN2\n",
      "W2AlC\n",
      "Sc2AlN\n",
      "Cr2AlN\n",
      "V2AlN\n",
      "V4PC3\n",
      "Ru2AlC\n",
      "Ti4PN3\n",
      "Sc4PN3\n",
      "W4AlN3\n",
      "Os2AlC\n",
      "Ti4SiN3\n",
      "V4PN3\n",
      "Zr4PC3\n",
      "Nb4PC3\n",
      "Hf4PC3\n",
      "Sc4PC3\n",
      "Ti4PC3\n",
      "Ta4PC3\n",
      "Fe2AlN\n",
      "Mn2AlN\n",
      "Y3SiC2\n",
      "Zr3SiC2\n",
      "Ta2AlN\n",
      "Hf2AlN\n",
      "Zr2AlN\n",
      "Ti3CuC2\n",
      "Ti3GaC2\n",
      "Ti3GeC2\n",
      "V3SiC2\n",
      "Mo4AlN3\n",
      "Re2AlC\n"
     ]
    }
   ],
   "source": [
    "same_pred_longer = 0\n",
    "for i in most_probable_fifty:\n",
    "    if i in most_probable_ten_pred:\n",
    "        same_pred_longer += 1\n",
    "    else:\n",
    "        print(i)"
   ]
  },
  {
   "cell_type": "code",
   "execution_count": 48,
   "id": "4567d387-c6c4-4b6d-b6e4-1961860ef85f",
   "metadata": {},
   "outputs": [
    {
     "name": "stdout",
     "output_type": "stream",
     "text": [
      "47\n"
     ]
    }
   ],
   "source": [
    "print(same_pred_longer)"
   ]
  },
  {
   "cell_type": "code",
   "execution_count": null,
   "id": "406e1e4b-8a06-434d-9fdb-fee4791acf7b",
   "metadata": {},
   "outputs": [],
   "source": []
  }
 ],
 "metadata": {
  "kernelspec": {
   "display_name": "Python 3 (ipykernel)",
   "language": "python",
   "name": "python3"
  },
  "language_info": {
   "codemirror_mode": {
    "name": "ipython",
    "version": 3
   },
   "file_extension": ".py",
   "mimetype": "text/x-python",
   "name": "python",
   "nbconvert_exporter": "python",
   "pygments_lexer": "ipython3",
   "version": "3.12.4"
  }
 },
 "nbformat": 4,
 "nbformat_minor": 5
}
