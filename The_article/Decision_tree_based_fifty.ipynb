{
 "cells": [
  {
   "cell_type": "code",
   "execution_count": 1,
   "id": "b6ceca57-fab1-494c-ac5a-176ad526eee4",
   "metadata": {},
   "outputs": [],
   "source": [
    "%%capture\n",
    "import numpy as np\n",
    "import pandas as pd\n",
    "import matplotlib.pyplot as plt\n",
    "from sklearn.preprocessing import StandardScaler\n",
    "from sklearn.decomposition import PCA\n",
    "from scipy.stats import bernoulli\n",
    "from sklearn.cluster import KMeans\n",
    "from sklearn.tree import DecisionTreeClassifier\n",
    "from sklearn.ensemble import BaggingClassifier\n",
    "from sklearn.model_selection import KFold\n",
    "!pip install openpyxl"
   ]
  },
  {
   "cell_type": "code",
   "execution_count": 2,
   "id": "71e1ab19-7b8b-4a0d-ba81-4bb62ca93c46",
   "metadata": {},
   "outputs": [],
   "source": [
    "max_calculated = pd.read_csv('max_calculated.csv')\n",
    "max_elemental = pd.read_csv('max_elemental.csv')\n",
    "list_mxene = pd.read_excel('synthesized-MXenes-MAX.xlsx',sheet_name=0)\n",
    "list_failed = pd.read_excel('synthesized-MXenes-MAX.xlsx', sheet_name=2)\n",
    "n_samples = max_elemental.shape[0]"
   ]
  },
  {
   "cell_type": "code",
   "execution_count": 3,
   "id": "de338fd4-6733-422c-bda7-417731da0a26",
   "metadata": {},
   "outputs": [],
   "source": [
    "synth_list = pd.unique(list_mxene['MXene'])[:-1]\n",
    "to_drop = list(range(167,173))\n",
    "mx_ene_df = list_mxene.drop(labels = to_drop, axis='index')\n",
    "mx_ene_df = mx_ene_df.drop(['Unnamed: 9','Unnamed: 12','Notes','status','Reference method'],axis=1)\n",
    "max_elemental['class'] = np.zeros(max_elemental.shape[0])\n",
    "parents = mx_ene_df['Parent material'].unique()\n",
    "banned_words = ['+','Mxene','topochemical','reaction', 'or',\n",
    "               'synthesis','MXene','direct']\n",
    "complete_parents = []\n",
    "for i in range(len(parents)):\n",
    "    inter = parents[i].split()\n",
    "    for word in range(len(inter)):\n",
    "        if inter[word] not in banned_words:\n",
    "            complete_parents.append(inter[word])\n",
    "\n",
    "\n",
    "for i in range(max_elemental.shape[0]):\n",
    "    if max_elemental.loc[i,'compound_formula'] in complete_parents:\n",
    "        max_elemental.loc[i,'class'] = 1\n",
    "\n",
    "max_elemental = max_elemental.set_index('compound_formula',drop=True)\n",
    "max_elemental = max_elemental.drop(['M_element', 'A_element', 'X_element'],axis=1)\n",
    "test_tree = DecisionTreeClassifier().fit(X=max_elemental.drop(['class'],axis=1),\n",
    "                                          y=max_elemental['class'])\n",
    "\n",
    "imp_feat = test_tree.feature_importances_\n",
    "names_feat = test_tree.feature_names_in_\n",
    "df_imp_feat = pd.DataFrame(np.hstack((imp_feat.reshape(imp_feat.shape[0],1),names_feat.reshape(imp_feat.shape[0],1))))\n",
    "df_imp_feat.columns = ['features', 'name']\n",
    "df_imp_feat = df_imp_feat.sort_values('features', ascending=False)\n",
    "\n",
    "df_diff_z = df_imp_feat[df_imp_feat['features'] != 0]\n",
    "\n",
    "\n",
    "failed = list_failed['MAX']\n",
    "failed = list(failed)\n",
    "\n",
    "for i in max_elemental.index:\n",
    "    if i in failed:\n",
    "        max_elemental.loc[i,'class'] = -1\n",
    "\n",
    "\n",
    "number_of_atoms = np.empty(n_samples)\n",
    "compteur = 0\n",
    "for element in max_elemental.index:\n",
    "    inter = []\n",
    "    for cara in element:\n",
    "        if cara in list(str(1234567890)):\n",
    "            inter.append(cara)\n",
    "    if len(inter) == 1:\n",
    "        number_of_atoms[compteur] = int(inter[0]) + 2\n",
    "    elif len(inter) == 2:\n",
    "        number_of_atoms[compteur] = int(inter[0]) + int(inter[1]) + 1\n",
    "    elif len(inter) == 3:\n",
    "        number_of_atoms[compteur] = int(inter[0]) + int(inter[1]) + int(inter[2])\n",
    "    compteur += 1\n",
    "\n",
    "\n",
    "columns_name = max_elemental.columns.copy()\n",
    "normalized = max_elemental.drop(['class'],axis=1).to_numpy()/number_of_atoms.reshape(n_samples,1)\n",
    "max_elem_norm = pd.DataFrame(normalized)\n",
    "max_elem_norm['class'] = max_elemental['class'].copy()\n",
    "max_elem_norm.columns = columns_name\n",
    "max_elem_norm['compound_name'] = max_elemental.index\n",
    "max_elem_norm = max_elem_norm.set_index('compound_name',drop=True)\n",
    "\n",
    "max_elem_norm['class'] = max_elemental['class'].copy()\n",
    "\n",
    "\n"
   ]
  },
  {
   "cell_type": "code",
   "execution_count": 4,
   "id": "c2ae56df-17a4-4975-9354-98e9086cb790",
   "metadata": {},
   "outputs": [],
   "source": [
    "max_elem_norm['label'] = np.empty(n_samples)\n",
    "for i in max_elem_norm.index:\n",
    "    if max_elem_norm.loc[i,'class'] == 1:\n",
    "        max_elem_norm.loc[i,'label'] = 1\n",
    "    else:\n",
    "        max_elem_norm.loc[i,'label'] = 0\n",
    "\n",
    "positive_samples = max_elem_norm[max_elem_norm['label'] == 1]\n",
    "unlabelled_samples = max_elem_norm[max_elem_norm['label'] == 0]"
   ]
  },
  {
   "cell_type": "code",
   "execution_count": 5,
   "id": "d40363af-608d-4891-a095-be01b00c1e94",
   "metadata": {},
   "outputs": [],
   "source": [
    "n_positives = positive_samples.shape[0]\n",
    "negative_set = unlabelled_samples.sample(n=n_positives,random_state=1)\n",
    "learning_set = pd.concat([positive_samples,negative_set])\n"
   ]
  },
  {
   "cell_type": "code",
   "execution_count": 6,
   "id": "0fb510d3-e105-4d95-b4dd-d05c58441e79",
   "metadata": {},
   "outputs": [],
   "source": [
    "#try with t=50\n",
    "compteur = 0\n",
    "error_rate_positive = np.zeros(positive_samples.shape[0])\n",
    "diff_steps = max_elem_norm.filter(items=['class'],axis=1)\n",
    "for element in positive_samples.index:\n",
    "    training_positive = positive_samples.drop(index=element)\n",
    "    training_negative = unlabelled_samples.sample(n=training_positive.shape[0])\n",
    "    whole_training = pd.concat([training_positive,training_negative])\n",
    "    clf = BaggingClassifier(n_estimators=50).fit(X=whole_training.drop(['class', 'label'],axis=1).to_numpy(),\n",
    "                                                y=whole_training['label'].to_numpy())\n",
    "    to_test = positive_samples.loc[element,:].drop(['class','label']).to_numpy().reshape(1,-1)\n",
    "    error_rate_positive[compteur] = clf.predict(to_test)[0]\n",
    "    trained_on = whole_training.index\n",
    "    tested_on = max_elem_norm.drop(index=trained_on)\n",
    "    tested_on[f'score_{compteur}'] = clf.predict(X=tested_on.drop(['class','label'],axis=1).to_numpy())\n",
    "    score_of_it = pd.DataFrame(tested_on[f'score_{compteur}'])\n",
    "    diff_steps = diff_steps.merge(score_of_it, how='left', left_index=True, right_index=True)\n",
    "    compteur += 1"
   ]
  },
  {
   "cell_type": "code",
   "execution_count": 7,
   "id": "8bb12a3c-ce4d-44aa-90b5-4657e7e49dda",
   "metadata": {},
   "outputs": [
    {
     "data": {
      "text/plain": [
       "compound_name\n",
       "Mn2GaC    0.5000\n",
       "Cr2AlC    0.8750\n",
       "Mo2GaC    0.1875\n",
       "dtype: float64"
      ]
     },
     "execution_count": 7,
     "metadata": {},
     "output_type": "execute_result"
    }
   ],
   "source": [
    "diff_steps.loc[failed,:].mean(axis=1)"
   ]
  },
  {
   "cell_type": "code",
   "execution_count": 8,
   "id": "95594c54-2879-4cee-ab20-9f6ec8962b67",
   "metadata": {},
   "outputs": [],
   "source": [
    "recall = np.sum(error_rate_positive)/positive_samples.shape[0]"
   ]
  },
  {
   "cell_type": "code",
   "execution_count": 9,
   "id": "cd877b04-c708-4fd8-89bf-4a0bce49e473",
   "metadata": {},
   "outputs": [],
   "source": [
    "results_k_fold = np.empty(15)\n",
    "for i in range(15):\n",
    "    results_k_fold[i] = diff_steps[f'score_{i}'].sum()"
   ]
  },
  {
   "cell_type": "code",
   "execution_count": 10,
   "id": "32745c82-2589-4670-a6c3-09ae0dca9443",
   "metadata": {},
   "outputs": [],
   "source": [
    "test_weird_metric = np.ones(positive_samples.shape[0])*recall\n",
    "test_weird_metric = (recall**2)/(results_k_fold/n_samples)"
   ]
  },
  {
   "cell_type": "code",
   "execution_count": 17,
   "id": "f6a5cda4-6d41-4b7b-8a78-a47ced4a2a8c",
   "metadata": {},
   "outputs": [
    {
     "data": {
      "text/plain": [
       "array([2.87238095, 3.75046632, 3.95540984, 2.97264887, 2.496     ,\n",
       "       1.92766977, 1.48632444, 2.97264887, 5.63299611, 2.90698795,\n",
       "       2.0190795 , 2.67593346, 2.63693989, 2.33120773, 2.17043478])"
      ]
     },
     "execution_count": 17,
     "metadata": {},
     "output_type": "execute_result"
    }
   ],
   "source": [
    "test_weird_metric"
   ]
  },
  {
   "cell_type": "markdown",
   "id": "7b7ef495-946e-4a3f-b959-b42840fdbfca",
   "metadata": {},
   "source": [
    "## Testing"
   ]
  },
  {
   "cell_type": "code",
   "execution_count": 11,
   "id": "34675969-2cb0-413b-afd3-bf1138897e93",
   "metadata": {},
   "outputs": [],
   "source": [
    "first_results = pd.DataFrame(diff_steps.drop(['class'], axis=1).sum(axis=1).sort_values(ascending=False))\n",
    "first_results.columns = ['score']\n",
    "superior_to_z = first_results[first_results['score'] != 0]\n",
    "superior_to_z.shape[0]\n",
    "above_average = first_results[first_results['score'] >=8]\n",
    "almost_full_pos_pred = first_results[first_results['score'] >= 14]\n",
    "most_probable_fifty_pred = list(almost_full_pos_pred.index)\n",
    "max_calculated = max_calculated.set_index(keys='prettyformula',drop=True)\n",
    "retained_ones_fifty = max_calculated.filter(items=most_probable_fifty_pred, axis=0)\n",
    "to_plot_fifty = retained_ones_fifty['dH'].to_numpy()"
   ]
  },
  {
   "cell_type": "code",
   "execution_count": 13,
   "id": "2757f7f4-db0b-49f1-a0f3-008bca13cc53",
   "metadata": {},
   "outputs": [
    {
     "data": {
      "text/plain": [
       "<matplotlib.legend.Legend at 0x7f085c4be1e0>"
      ]
     },
     "execution_count": 13,
     "metadata": {},
     "output_type": "execute_result"
    },
    {
     "data": {
      "image/png": "[encoded data removed]",
      "text/plain": [
       "<Figure size 640x480 with 1 Axes>"
      ]
     },
     "metadata": {},
     "output_type": "display_data"
    }
   ],
   "source": [
    "plt.plot(np.sort(to_plot_fifty),label='dH')\n",
    "plt.plot(np.zeros(4),np.linspace(-60,1300,4),label='=0')\n",
    "plt.plot(np.ones(2)*30, np.linspace(-60,1300,2),label='=30')\n",
    "plt.legend()"
   ]
  },
  {
   "cell_type": "code",
   "execution_count": 15,
   "id": "81565c4d-70a9-4b55-8471-dae6b6050c5e",
   "metadata": {},
   "outputs": [],
   "source": [
    "very_much_probable_ones = retained_ones_fifty[retained_ones_fifty['dH'] < 0].index"
   ]
  },
  {
   "cell_type": "code",
   "execution_count": 16,
   "id": "26a3029e-475f-4a97-8c8e-0f1251571a95",
   "metadata": {},
   "outputs": [
    {
     "data": {
      "text/plain": [
       "Index(['Zr4AlN3', 'Cr2AlC', 'Zr3AlC2', 'Ta3AlC2', 'Hf3AlC2', 'Hf4AlN3',\n",
       "       'Zr4PC3', 'Hf4AlC3', 'Hf4PC3', 'Ti4AlC3', 'Nb3AlC2', 'Ti3PC2',\n",
       "       'Ti3GaC2', 'Ti3GeC2'],\n",
       "      dtype='object')"
      ]
     },
     "execution_count": 16,
     "metadata": {},
     "output_type": "execute_result"
    }
   ],
   "source": [
    "very_much_probable_ones"
   ]
  },
  {
   "cell_type": "code",
   "execution_count": 18,
   "id": "fc824822-9261-4e62-b517-33984bd90978",
   "metadata": {},
   "outputs": [
    {
     "data": {
      "text/plain": [
       "0.8"
      ]
     },
     "execution_count": 18,
     "metadata": {},
     "output_type": "execute_result"
    }
   ],
   "source": [
    "recall"
   ]
  },
  {
   "cell_type": "code",
   "execution_count": 19,
   "id": "e00eda4d-2105-4ef4-a724-cf1b960c1ec8",
   "metadata": {},
   "outputs": [
    {
     "data": {
      "text/plain": [
       "1637"
      ]
     },
     "execution_count": 19,
     "metadata": {},
     "output_type": "execute_result"
    }
   ],
   "source": [
    "superior_to_z.shape[0]"
   ]
  },
  {
   "cell_type": "code",
   "execution_count": 20,
   "id": "11f09e7a-6bbb-445b-8714-f5aaaa5a5c22",
   "metadata": {},
   "outputs": [
    {
     "data": {
      "text/plain": [
       "463"
      ]
     },
     "execution_count": 20,
     "metadata": {},
     "output_type": "execute_result"
    }
   ],
   "source": [
    "above_average.shape[0]"
   ]
  },
  {
   "cell_type": "code",
   "execution_count": 21,
   "id": "0118c71e-6ed5-4c02-afa6-bd104c61050d",
   "metadata": {},
   "outputs": [
    {
     "data": {
      "text/plain": [
       "81"
      ]
     },
     "execution_count": 21,
     "metadata": {},
     "output_type": "execute_result"
    }
   ],
   "source": [
    "almost_full_pos_pred.shape[0]"
   ]
  },
  {
   "cell_type": "code",
   "execution_count": 22,
   "id": "5dc3032f-38c2-44e5-9e26-ca4212a406c5",
   "metadata": {
    "collapsed": true,
    "jupyter": {
     "outputs_hidden": true
    }
   },
   "outputs": [
    {
     "data": {
      "text/plain": [
       "['Y2AlC',\n",
       " 'Zr4AlN3',\n",
       " 'Fe4AlN3',\n",
       " 'Cr2AlC',\n",
       " 'Fe3SiC2',\n",
       " 'Y3AlC2',\n",
       " 'Nb2AlN',\n",
       " 'Y2AlN',\n",
       " 'Zr2AlC',\n",
       " 'Ti3SiN2',\n",
       " 'Zr3AlC2',\n",
       " 'W2AlC',\n",
       " 'Ta3AlC2',\n",
       " 'Mo2AlC',\n",
       " 'Sc2AlN',\n",
       " 'Cr2AlN',\n",
       " 'V2AlN',\n",
       " 'Hf3AlC2',\n",
       " 'Hf2AlC',\n",
       " 'Mn2AlC',\n",
       " 'V4PC3',\n",
       " 'Fe4AlC3',\n",
       " 'Ru2AlC',\n",
       " 'Ti4PN3',\n",
       " 'V4AlN3',\n",
       " 'Ti2PC',\n",
       " 'Ta4AlN3',\n",
       " 'Sc2AlC',\n",
       " 'V3AlC2',\n",
       " 'Mn3SiC2',\n",
       " 'Hf4AlN3',\n",
       " 'Fe2AlC',\n",
       " 'Sc4AlN3',\n",
       " 'Sc4PN3',\n",
       " 'Sc3AlC2',\n",
       " 'Sc3SiC2',\n",
       " 'W4AlN3',\n",
       " 'Os2AlC',\n",
       " 'Cr3AlC2',\n",
       " 'Cr3SiC2',\n",
       " 'Mn3AlC2',\n",
       " 'Mn4AlC3',\n",
       " 'Zr4AlC3',\n",
       " 'Ti4SiN3',\n",
       " 'V4PN3',\n",
       " 'Cr4AlN3',\n",
       " 'Zr4PC3',\n",
       " 'Mo4AlC3',\n",
       " 'Nb4PC3',\n",
       " 'Hf4AlC3',\n",
       " 'Hf4PC3',\n",
       " 'Hf3SiC2',\n",
       " 'Sc4PC3',\n",
       " 'Sc4AlC3',\n",
       " 'Ti4AlC3',\n",
       " 'Ti4PC3',\n",
       " 'Cr4AlC3',\n",
       " 'W4AlC3',\n",
       " 'Ta4PC3',\n",
       " 'Fe2AlN',\n",
       " 'Mn2AlN',\n",
       " 'Y3SiC2',\n",
       " 'Nb3AlC2',\n",
       " 'Zr3SiC2',\n",
       " 'Mo3AlC2',\n",
       " 'Ta3SiC2',\n",
       " 'Ta2AlN',\n",
       " 'Hf2AlN',\n",
       " 'Zr2AlN',\n",
       " 'Ti3AlN2',\n",
       " 'Ti3PC2',\n",
       " 'Mn4AlN3',\n",
       " 'Y4AlN3',\n",
       " 'Fe3AlC2',\n",
       " 'Ti3CuC2',\n",
       " 'Ti3GaC2',\n",
       " 'Ti3GeC2',\n",
       " 'V3SiC2',\n",
       " 'Nb4AlN3',\n",
       " 'Mo4AlN3',\n",
       " 'Re2AlC']"
      ]
     },
     "execution_count": 22,
     "metadata": {},
     "output_type": "execute_result"
    }
   ],
   "source": [
    "most_probable_fifty_pred"
   ]
  },
  {
   "cell_type": "code",
   "execution_count": null,
   "id": "206f8784-1ad6-4663-8ff3-f9f99e9d297f",
   "metadata": {},
   "outputs": [],
   "source": []
  }
 ],
 "metadata": {
  "kernelspec": {
   "display_name": "Python 3 (ipykernel)",
   "language": "python",
   "name": "python3"
  },
  "language_info": {
   "codemirror_mode": {
    "name": "ipython",
    "version": 3
   },
   "file_extension": ".py",
   "mimetype": "text/x-python",
   "name": "python",
   "nbconvert_exporter": "python",
   "pygments_lexer": "ipython3",
   "version": "3.12.4"
  }
 },
 "nbformat": 4,
 "nbformat_minor": 5
}
