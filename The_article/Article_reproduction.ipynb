{
 "cells": [
  {
   "cell_type": "code",
   "execution_count": 1,
   "id": "04ba01eb-930b-41f7-b034-9c47463c9b85",
   "metadata": {},
   "outputs": [],
   "source": [
    "%%capture\n",
    "import numpy as np\n",
    "import pandas as pd\n",
    "import matplotlib.pyplot as plt\n",
    "from sklearn.preprocessing import StandardScaler\n",
    "from sklearn.decomposition import PCA\n",
    "from scipy.stats import bernoulli\n",
    "from sklearn.cluster import KMeans\n",
    "from sklearn.tree import DecisionTreeClassifier\n",
    "!pip install openpyxl"
   ]
  },
  {
   "cell_type": "code",
   "execution_count": 2,
   "id": "1e4d5e18-5375-44da-bdc7-f1665a844442",
   "metadata": {},
   "outputs": [],
   "source": [
    "max_calculated = pd.read_csv('max_calculated.csv')\n",
    "max_elemental = pd.read_csv('max_elemental.csv')\n",
    "list_mxene = pd.read_excel('synthesized-MXenes-MAX.xlsx',sheet_name=0)\n",
    "list_failed = pd.read_excel('synthesized-MXenes-MAX.xlsx', sheet_name=2)\n",
    "n_samples = max_elemental.shape[0]"
   ]
  },
  {
   "cell_type": "code",
   "execution_count": 3,
   "id": "bc7bb269-9ab4-4773-9de8-5d95acca1921",
   "metadata": {},
   "outputs": [],
   "source": [
    "whole_data = max_calculated.merge(max_elemental, left_on='prettyformula',\n",
    "                                  right_on='compound_formula')"
   ]
  },
  {
   "cell_type": "code",
   "execution_count": 4,
   "id": "b40dc818-bca3-4b70-b729-1e67219cb2f3",
   "metadata": {},
   "outputs": [],
   "source": [
    "whole_data = pd.get_dummies(data=whole_data,\n",
    "                            prefix='group', columns=['X_X_group'], prefix_sep='_')"
   ]
  },
  {
   "cell_type": "markdown",
   "id": "e295577a-5f0b-4e10-94f8-d5d2a8be770f",
   "metadata": {},
   "source": [
    "Method k-fold cross validated, evaluated by their true positive rate.\n",
    "Against the 63 synthesized MX_enes."
   ]
  },
  {
   "cell_type": "code",
   "execution_count": 5,
   "id": "aef69a08-c745-4752-a7a3-086746dd6074",
   "metadata": {},
   "outputs": [
    {
     "data": {
      "text/plain": [
       "7.593688362919132"
      ]
     },
     "execution_count": 5,
     "metadata": {},
     "output_type": "execute_result"
    }
   ],
   "source": [
    "(77/1014)*100"
   ]
  },
  {
   "cell_type": "markdown",
   "id": "94408973-c049-4e65-b715-d66ce0216244",
   "metadata": {},
   "source": [
    "Features retained in the article followed by \\\\ the name in the dataframe :\n",
    "\n",
    "n : number of layers \\\\ n\n",
    "\n",
    "a : in plane lattice constant \\\\ a\n",
    "\n",
    "c : out of plane lattice constant \\\\ c\n",
    "\n",
    "d_MM,MX,MA,AA : layer distances \\\\ dMM,MX,MA,AAA\n",
    "\n",
    "r_MX,MA : bonds lengths \\\\ rMX,MA\n",
    "\n",
    "m : mass \\\\ mass\n",
    "\n",
    "V : volume \\\\ volume\n",
    "\n",
    "rho : density \\\\density\n",
    "\n",
    "Energy : total energy\n",
    "\n",
    "E_pa : energy per atom \\\\ E_pa\n",
    "\n",
    "E_form formation energy \\\\ dEf\n",
    "\n",
    "E_coh : cohesive energy\n",
    "\n",
    "e_M,A,X : Bader charges on M,A,X atoms respectively \\\\ e_M,A,X\n",
    "\n",
    "Z : atomic number \n",
    "\n",
    "N_V : number of valence electrons \\\\ i_valence_electron $i \\in {M,A,X}$\n",
    "\n",
    "g_P : group number \\\\ i_group $i \\in {M,A,X}$\n",
    "\n",
    "p_p : period number \\\\ i_row $i \\in {M,A,X}$\n",
    "\n",
    "Xe : electronegativity \\\\ i_electronegativity $i \\in {M,A,X}$\n",
    "\n",
    "EA : electron affinity \\\\ i_electron_affinity\n",
    "$i \\in {M,A,X}$\n",
    "\n",
    "IE1 : 1st ionization potential \\\\ i_first_ionization_energy $i \\in {M,A,X}$\n",
    "\n",
    "IE2 : 2nd ionization potential \\\\ i_second_ionization_energy $i \\in {M,A,X}$\n",
    "\n",
    "E_chem : chemical potential \n",
    "\n",
    "E_atom : atom-in-box potential"
   ]
  },
  {
   "cell_type": "code",
   "execution_count": 6,
   "id": "cc31abad-4d75-4f83-aaed-f798fc8d0bec",
   "metadata": {
    "scrolled": true
   },
   "outputs": [],
   "source": [
    "whole_data = whole_data.set_index(keys='prettyformula',drop=True)"
   ]
  },
  {
   "cell_type": "code",
   "execution_count": 7,
   "id": "514a6be1-026c-4d8a-acb3-680229d4f638",
   "metadata": {},
   "outputs": [
    {
     "name": "stderr",
     "output_type": "stream",
     "text": [
      "/tmp/ipykernel_4516/2182449801.py:2: FutureWarning: Downcasting behavior in `replace` is deprecated and will be removed in a future version. To retain the old behavior, explicitly call `result.infer_objects(copy=False)`. To opt-in to the future behavior, set `pd.set_option('future.no_silent_downcasting', True)`\n",
      "  whole_data = whole_data.replace(to_replace=False,value=15)\n"
     ]
    }
   ],
   "source": [
    "whole_data = whole_data.replace(to_replace=True,value=14)\n",
    "whole_data = whole_data.replace(to_replace=False,value=15)\n",
    "whole_data = whole_data.drop(['M_element','X_element','A_element',\n",
    "                             'M','A','X','year','compound_formula'],axis=1)"
   ]
  },
  {
   "cell_type": "code",
   "execution_count": 8,
   "id": "4967d6eb-1ff0-4d8f-b324-30e9ff42152d",
   "metadata": {},
   "outputs": [],
   "source": [
    "first_tree = DecisionTreeClassifier().fit(X=whole_data.drop(['PU_label'],axis=1), y=whole_data['PU_label'])"
   ]
  },
  {
   "cell_type": "code",
   "execution_count": 9,
   "id": "3a525f2d-7006-4e11-b936-1326234b8c31",
   "metadata": {},
   "outputs": [],
   "source": [
    "list_of_imp = first_tree.feature_importances_\n",
    "list_of_names = np.array(np.delete(whole_data.columns,np.where(whole_data.columns == 'PU_label')))"
   ]
  },
  {
   "cell_type": "code",
   "execution_count": 10,
   "id": "aeb0a544-fa0e-4753-af6b-080b48c1f901",
   "metadata": {},
   "outputs": [],
   "source": [
    "features_importance = np.hstack((list_of_imp.reshape(list_of_imp.shape[0],1),\n",
    "                                 list_of_names.reshape(list_of_names.shape[0],1)))"
   ]
  },
  {
   "cell_type": "code",
   "execution_count": 11,
   "id": "0be65530-5334-4a18-b40c-e40039ede738",
   "metadata": {},
   "outputs": [],
   "source": [
    "features_df = pd.DataFrame(features_importance)\n",
    "features_df.columns = ['value','name']\n",
    "features_df = features_df.sort_values('value',ascending=False)"
   ]
  },
  {
   "cell_type": "code",
   "execution_count": 12,
   "id": "d6a09cbc-839c-4a6e-a961-a10d46c31b74",
   "metadata": {},
   "outputs": [
    {
     "data": {
      "text/html": [
       "<div>\n",
       "<style scoped>\n",
       "    .dataframe tbody tr th:only-of-type {\n",
       "        vertical-align: middle;\n",
       "    }\n",
       "\n",
       "    .dataframe tbody tr th {\n",
       "        vertical-align: top;\n",
       "    }\n",
       "\n",
       "    .dataframe thead th {\n",
       "        text-align: right;\n",
       "    }\n",
       "</style>\n",
       "<table border=\"1\" class=\"dataframe\">\n",
       "  <thead>\n",
       "    <tr style=\"text-align: right;\">\n",
       "      <th></th>\n",
       "      <th>value</th>\n",
       "      <th>name</th>\n",
       "    </tr>\n",
       "  </thead>\n",
       "  <tbody>\n",
       "    <tr>\n",
       "      <th>20</th>\n",
       "      <td>0.372909</td>\n",
       "      <td>dH</td>\n",
       "    </tr>\n",
       "    <tr>\n",
       "      <th>10</th>\n",
       "      <td>0.116049</td>\n",
       "      <td>e_A</td>\n",
       "    </tr>\n",
       "    <tr>\n",
       "      <th>9</th>\n",
       "      <td>0.071255</td>\n",
       "      <td>e_M</td>\n",
       "    </tr>\n",
       "    <tr>\n",
       "      <th>43</th>\n",
       "      <td>0.04472</td>\n",
       "      <td>A_A_atomic_radius_calculated</td>\n",
       "    </tr>\n",
       "    <tr>\n",
       "      <th>3</th>\n",
       "      <td>0.035467</td>\n",
       "      <td>dMX</td>\n",
       "    </tr>\n",
       "  </tbody>\n",
       "</table>\n",
       "</div>"
      ],
      "text/plain": [
       "       value                          name\n",
       "20  0.372909                            dH\n",
       "10  0.116049                           e_A\n",
       "9   0.071255                           e_M\n",
       "43   0.04472  A_A_atomic_radius_calculated\n",
       "3   0.035467                           dMX"
      ]
     },
     "execution_count": 12,
     "metadata": {},
     "output_type": "execute_result"
    }
   ],
   "source": [
    "features_df.head()"
   ]
  },
  {
   "cell_type": "markdown",
   "id": "70a1716e-a912-4332-befc-ffac37019a15",
   "metadata": {},
   "source": [
    "## USING THE SYNTHESIZED MAXENES AS POSITIVES"
   ]
  },
  {
   "cell_type": "code",
   "execution_count": 13,
   "id": "9b9cd1a3-7947-4a09-80f4-2ebdf907befc",
   "metadata": {},
   "outputs": [],
   "source": [
    "synth_list = pd.unique(list_mxene['MXene'])[:-1]\n",
    "to_drop = list(range(167,173))"
   ]
  },
  {
   "cell_type": "code",
   "execution_count": 14,
   "id": "f6b2ed82-3246-4380-b2f0-4aaf990aaf12",
   "metadata": {},
   "outputs": [],
   "source": [
    "mx_ene_df = list_mxene.drop(labels = to_drop, axis='index')"
   ]
  },
  {
   "cell_type": "code",
   "execution_count": 15,
   "id": "3900eb39-0b42-4840-8995-f226547232f2",
   "metadata": {},
   "outputs": [],
   "source": [
    "mx_ene_df = mx_ene_df.drop(['Unnamed: 9','Unnamed: 12','Notes','status','Reference method'],axis=1)"
   ]
  },
  {
   "cell_type": "code",
   "execution_count": 16,
   "id": "d8757961-9163-462c-9055-a6335e23c72a",
   "metadata": {},
   "outputs": [],
   "source": [
    "max_elemental['label'] = np.zeros(max_elemental.shape[0])"
   ]
  },
  {
   "cell_type": "code",
   "execution_count": 17,
   "id": "58361f83-2b14-4872-92f9-bf469f3223fe",
   "metadata": {},
   "outputs": [],
   "source": [
    "parents = mx_ene_df['Parent material'].unique()\n",
    "banned_words = ['+','Mxene','topochemical','reaction', 'or',\n",
    "               'synthesis','MXene','direct']\n",
    "complete_parents = []\n",
    "for i in range(len(parents)):\n",
    "    inter = parents[i].split()\n",
    "    for word in range(len(inter)):\n",
    "        if inter[word] not in banned_words:\n",
    "            complete_parents.append(inter[word])\n",
    "\n",
    "\n",
    "for i in range(max_elemental.shape[0]):\n",
    "    if max_elemental.loc[i,'compound_formula'] in complete_parents:\n",
    "        max_elemental.loc[i,'label'] = 1"
   ]
  },
  {
   "cell_type": "code",
   "execution_count": 18,
   "id": "60e89b51-f16d-430f-9006-0bbb3a95cd39",
   "metadata": {},
   "outputs": [],
   "source": [
    "max_elemental = max_elemental.set_index('compound_formula',drop=True)"
   ]
  },
  {
   "cell_type": "code",
   "execution_count": 19,
   "id": "e2526ec0-991f-4aa2-b1d7-aa19adbc5036",
   "metadata": {
    "scrolled": true
   },
   "outputs": [],
   "source": [
    "max_elemental = max_elemental.drop(['M_element', 'A_element', 'X_element'],axis=1)"
   ]
  },
  {
   "cell_type": "code",
   "execution_count": 20,
   "id": "44a69416-e5fa-4d0b-a248-b0372f0b5f31",
   "metadata": {},
   "outputs": [],
   "source": [
    "test_tree = DecisionTreeClassifier().fit(X=max_elemental.drop(['label'],axis=1),\n",
    "                                          y=max_elemental['label'])"
   ]
  },
  {
   "cell_type": "code",
   "execution_count": 21,
   "id": "0c3cf1e0-a3f9-40f9-afb9-77797c4802da",
   "metadata": {},
   "outputs": [],
   "source": [
    "imp_feat = test_tree.feature_importances_\n",
    "names_feat = test_tree.feature_names_in_\n",
    "df_imp_feat = pd.DataFrame(np.hstack((imp_feat.reshape(imp_feat.shape[0],1),names_feat.reshape(imp_feat.shape[0],1))))\n",
    "df_imp_feat.columns = ['features', 'name']\n",
    "df_imp_feat = df_imp_feat.sort_values('features', ascending=False)"
   ]
  },
  {
   "cell_type": "code",
   "execution_count": 22,
   "id": "13794a0e-d8f7-4b38-bf7d-99a8bf70a1d1",
   "metadata": {},
   "outputs": [],
   "source": [
    "df_diff_z = df_imp_feat[df_imp_feat['features'] != 0]"
   ]
  },
  {
   "cell_type": "code",
   "execution_count": 23,
   "id": "e1971002-2d34-4b33-bbf0-b85d91733d2a",
   "metadata": {},
   "outputs": [
    {
     "data": {
      "text/plain": [
       "(15, 52)"
      ]
     },
     "execution_count": 23,
     "metadata": {},
     "output_type": "execute_result"
    }
   ],
   "source": [
    "max_elemental[max_elemental['label'] == 1].shape"
   ]
  },
  {
   "cell_type": "code",
   "execution_count": 24,
   "id": "e865c277-6855-437c-9d22-eeed9169b337",
   "metadata": {},
   "outputs": [
    {
     "data": {
      "text/plain": [
       "(2262, 52)"
      ]
     },
     "execution_count": 24,
     "metadata": {},
     "output_type": "execute_result"
    }
   ],
   "source": [
    "max_elemental.shape"
   ]
  },
  {
   "cell_type": "code",
   "execution_count": 25,
   "id": "813de571-dc89-4ff9-8cab-598d61c67b80",
   "metadata": {},
   "outputs": [
    {
     "data": {
      "text/plain": [
       "0.6631299734748011"
      ]
     },
     "execution_count": 25,
     "metadata": {},
     "output_type": "execute_result"
    }
   ],
   "source": [
    "(15/2262)*100"
   ]
  },
  {
   "cell_type": "code",
   "execution_count": 26,
   "id": "1d9b08f9-7f1f-4960-ab83-b1598abc1e66",
   "metadata": {},
   "outputs": [],
   "source": [
    "#less than 1% of positive data --> hard"
   ]
  },
  {
   "cell_type": "code",
   "execution_count": 27,
   "id": "4d41495f-0f05-404d-9f52-78def571930a",
   "metadata": {},
   "outputs": [],
   "source": [
    "failed = list_failed['MAX']\n",
    "failed = list(failed)"
   ]
  },
  {
   "cell_type": "code",
   "execution_count": 28,
   "id": "5e136e52-11dc-4aac-be59-99525a55bf5e",
   "metadata": {},
   "outputs": [],
   "source": [
    "for i in max_elemental.index:\n",
    "    if i in failed:\n",
    "        max_elemental.loc[i,'label'] = -1"
   ]
  },
  {
   "cell_type": "code",
   "execution_count": 29,
   "id": "767b3f63-1b33-4c58-84d0-ac336eaed0d6",
   "metadata": {},
   "outputs": [],
   "source": [
    "number_of_atoms = np.empty(n_samples)\n",
    "compteur = 0\n",
    "for element in max_elemental.index:\n",
    "    inter = []\n",
    "    for cara in element:\n",
    "        if cara in list(str(1234567890)):\n",
    "            inter.append(cara)\n",
    "    if len(inter) == 1:\n",
    "        number_of_atoms[compteur] = int(inter[0]) + 2\n",
    "    elif len(inter) == 2:\n",
    "        number_of_atoms[compteur] = int(inter[0]) + int(inter[1]) + 1\n",
    "    elif len(inter) == 3:\n",
    "        number_of_atoms[compteur] = int(inter[0]) + int(inter[1]) + int(inter[2])\n",
    "    compteur += 1"
   ]
  },
  {
   "cell_type": "code",
   "execution_count": 30,
   "id": "2ca691da-8ad2-4d84-bce5-b394d98f76a2",
   "metadata": {},
   "outputs": [],
   "source": [
    "columns_name = max_elemental.columns.copy()"
   ]
  },
  {
   "cell_type": "code",
   "execution_count": 31,
   "id": "8cc7304b-23b8-4a5e-ae93-287ebbdc02a2",
   "metadata": {},
   "outputs": [],
   "source": [
    "normalized = max_elemental.drop(['label'],axis=1).to_numpy()/number_of_atoms.reshape(n_samples,1)"
   ]
  },
  {
   "cell_type": "code",
   "execution_count": 32,
   "id": "a5f90599-372e-4a81-887b-89782f4c19ad",
   "metadata": {},
   "outputs": [],
   "source": [
    "max_elem_norm = pd.DataFrame(normalized)"
   ]
  },
  {
   "cell_type": "code",
   "execution_count": 33,
   "id": "244032f6-2f68-41d9-8389-ff3a8ce1fec9",
   "metadata": {},
   "outputs": [],
   "source": [
    "max_elem_norm['label'] = max_elemental['label'].copy()"
   ]
  },
  {
   "cell_type": "code",
   "execution_count": 34,
   "id": "16d1f32c-893a-4872-b438-32667fb3ea46",
   "metadata": {},
   "outputs": [],
   "source": [
    "max_elem_norm.columns = columns_name\n",
    "max_elem_norm['compound_name'] = max_elemental.index\n",
    "max_elem_norm = max_elem_norm.set_index('compound_name',drop=True)"
   ]
  },
  {
   "cell_type": "code",
   "execution_count": 35,
   "id": "8cc6998c-8c54-4743-9ab1-b577cd801316",
   "metadata": {},
   "outputs": [],
   "source": [
    "max_elem_norm['label'] = max_elemental['label'].copy()"
   ]
  },
  {
   "cell_type": "code",
   "execution_count": 37,
   "id": "9d0c38d3-0946-43a6-b8b1-a08121ee27d5",
   "metadata": {},
   "outputs": [],
   "source": [
    "#repetition of the cell above is because if we don't do that all the labels become NaN"
   ]
  },
  {
   "cell_type": "code",
   "execution_count": null,
   "id": "341e6450-2732-4975-a34b-88856b3890be",
   "metadata": {},
   "outputs": [],
   "source": []
  }
 ],
 "metadata": {
  "kernelspec": {
   "display_name": "Python 3 (ipykernel)",
   "language": "python",
   "name": "python3"
  },
  "language_info": {
   "codemirror_mode": {
    "name": "ipython",
    "version": 3
   },
   "file_extension": ".py",
   "mimetype": "text/x-python",
   "name": "python",
   "nbconvert_exporter": "python",
   "pygments_lexer": "ipython3",
   "version": "3.12.4"
  }
 },
 "nbformat": 4,
 "nbformat_minor": 5
}
