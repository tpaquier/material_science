{
 "cells": [
  {
   "cell_type": "code",
   "execution_count": 1,
   "id": "8c0a6f36-3a78-475e-a2dd-86cd0edf4b6b",
   "metadata": {},
   "outputs": [],
   "source": [
    "%%capture\n",
    "import numpy as np\n",
    "import pandas as pd\n",
    "import matplotlib.pyplot as plt\n",
    "from sklearn.preprocessing import StandardScaler\n",
    "from sklearn.decomposition import PCA\n",
    "from sklearn.cluster import KMeans\n",
    "from sklearn.svm import SVC\n",
    "from sklearn.tree import DecisionTreeClassifier\n",
    "!pip install openpyxl\n",
    "!pip install qpsolvers\n",
    "import qpsolvers\n",
    "!pip install qpsolvers[cvxopt]\n",
    "!pip install qpsolvers[open_source_solvers]\n",
    "!pip install qpsolvers[clarabel]\n",
    "from qpsolvers import solve_qp"
   ]
  },
  {
   "cell_type": "code",
   "execution_count": 2,
   "id": "35cb5bd1-25e3-49c2-9ee5-9421bfc39867",
   "metadata": {},
   "outputs": [],
   "source": [
    "def rbf(x,y,l=1):\n",
    "    \"\"\"Gaussian kernel\n",
    "\n",
    "    Parameters\n",
    "    -------------------------------\n",
    "    x : float\n",
    "    a real number\n",
    "\n",
    "    y : float\n",
    "    a real number\n",
    "\n",
    "    l: float, non zero\n",
    "    a scale parameter\n",
    "    -------------------------------\n",
    "    \"\"\"\n",
    "    dim = x.shape[0]\n",
    "    vect = np.empty(dim)\n",
    "    if dim == y.shape[0]  :\n",
    "        d = np.exp((-1)*((np.linalg.norm(x-y))/(2*(l**2))))\n",
    "        return d\n",
    "    else :\n",
    "        for i in range(dim):\n",
    "            vect[i] = np.exp((-1)*(np.linalg.norm(x[i] - y))/(2*(l**2)))\n",
    "        return vect"
   ]
  },
  {
   "cell_type": "code",
   "execution_count": 3,
   "id": "ff5309ae-b217-4084-af51-a29ccf127ae2",
   "metadata": {},
   "outputs": [],
   "source": [
    "max_calculated = pd.read_csv('max_calculated.csv')\n",
    "max_elemental = pd.read_csv('max_elemental.csv')\n",
    "list_mxene = pd.read_excel('synthesized-MXenes-MAX.xlsx',sheet_name=0)\n",
    "list_failed = pd.read_excel('synthesized-MXenes-MAX.xlsx', sheet_name=2)\n",
    "n_samples = max_elemental.shape[0]"
   ]
  },
  {
   "cell_type": "code",
   "execution_count": 4,
   "id": "7815f220-e314-4490-a6c0-2e89a0fea4cb",
   "metadata": {},
   "outputs": [],
   "source": [
    "synth_list = pd.unique(list_mxene['MXene'])[:-1]\n",
    "to_drop = list(range(167,173))\n",
    "mx_ene_df = list_mxene.drop(labels = to_drop, axis='index')\n",
    "mx_ene_df = mx_ene_df.drop(['Unnamed: 9','Unnamed: 12','Notes','status','Reference method'],axis=1)\n",
    "max_elemental['class'] = np.zeros(max_elemental.shape[0])\n",
    "parents = mx_ene_df['Parent material'].unique()\n",
    "banned_words = ['+','Mxene','topochemical','reaction', 'or',\n",
    "               'synthesis','MXene','direct']\n",
    "complete_parents = []\n",
    "for i in range(len(parents)):\n",
    "    inter = parents[i].split()\n",
    "    for word in range(len(inter)):\n",
    "        if inter[word] not in banned_words:\n",
    "            complete_parents.append(inter[word])\n",
    "\n",
    "\n",
    "for i in range(max_elemental.shape[0]):\n",
    "    if max_elemental.loc[i,'compound_formula'] in complete_parents:\n",
    "        max_elemental.loc[i,'class'] = 1\n",
    "\n",
    "max_elemental = max_elemental.set_index('compound_formula',drop=True)\n",
    "max_elemental = max_elemental.drop(['M_element', 'A_element', 'X_element'],axis=1)\n",
    "test_tree = DecisionTreeClassifier().fit(X=max_elemental.drop(['class'],axis=1),\n",
    "                                          y=max_elemental['class'])\n",
    "\n",
    "imp_feat = test_tree.feature_importances_\n",
    "names_feat = test_tree.feature_names_in_\n",
    "df_imp_feat = pd.DataFrame(np.hstack((imp_feat.reshape(imp_feat.shape[0],1),names_feat.reshape(imp_feat.shape[0],1))))\n",
    "df_imp_feat.columns = ['features', 'name']\n",
    "df_imp_feat = df_imp_feat.sort_values('features', ascending=False)\n",
    "\n",
    "df_diff_z = df_imp_feat[df_imp_feat['features'] != 0]\n",
    "\n",
    "\n",
    "failed = list_failed['MAX']\n",
    "failed = list(failed)\n",
    "\n",
    "for i in max_elemental.index:\n",
    "    if i in failed:\n",
    "        max_elemental.loc[i,'class'] = -1\n",
    "\n",
    "\n",
    "number_of_atoms = np.empty(n_samples)\n",
    "compteur = 0\n",
    "for element in max_elemental.index:\n",
    "    inter = []\n",
    "    for cara in element:\n",
    "        if cara in list(str(1234567890)):\n",
    "            inter.append(cara)\n",
    "    if len(inter) == 1:\n",
    "        number_of_atoms[compteur] = int(inter[0]) + 2\n",
    "    elif len(inter) == 2:\n",
    "        number_of_atoms[compteur] = int(inter[0]) + int(inter[1]) + 1\n",
    "    elif len(inter) == 3:\n",
    "        number_of_atoms[compteur] = int(inter[0]) + int(inter[1]) + int(inter[2])\n",
    "    compteur += 1\n",
    "\n",
    "\n",
    "columns_name = max_elemental.columns.copy()\n",
    "normalized = max_elemental.drop(['class'],axis=1).to_numpy()/number_of_atoms.reshape(n_samples,1)\n",
    "max_elem_norm = pd.DataFrame(normalized)\n",
    "max_elem_norm['class'] = max_elemental['class'].copy()\n",
    "max_elem_norm.columns = columns_name\n",
    "max_elem_norm['compound_name'] = max_elemental.index\n",
    "max_elem_norm = max_elem_norm.set_index('compound_name',drop=True)\n",
    "\n",
    "max_elem_norm['class'] = max_elemental['class'].copy()\n",
    "list_of_imp_names = list(df_diff_z['name'])\n",
    "list_of_imp_names.append('label')\n",
    "list_of_imp_names.append('class')\n",
    "max_elem_norm = max_elem_norm.filter(items=list_of_imp_names, axis=1)\n",
    "max_elem_norm['label'] = np.zeros(n_samples)\n",
    "for i in max_elem_norm.index:\n",
    "    if max_elem_norm.loc[i,'class'] == 1:\n",
    "        max_elem_norm.loc[i,'label'] = 1\n",
    "    else:\n",
    "        max_elem_norm.loc[i,'label'] = -1\n",
    "\n",
    "positive_samples = max_elem_norm[max_elem_norm['label'] == 1]\n",
    "unlabelled_samples = max_elem_norm[max_elem_norm['label'] == -1]\n",
    "\n"
   ]
  },
  {
   "cell_type": "code",
   "execution_count": 5,
   "id": "f5c6dd77-b1ca-468b-9446-8de9d3334391",
   "metadata": {},
   "outputs": [],
   "source": [
    "svm_train = SVC(kernel='sigmoid', probability = True).fit(X=max_elem_norm.to_numpy()[:,:-2],\n",
    "                                                          y=max_elem_norm.to_numpy()[:,-1])\n",
    "probas = svm_train.predict_proba(max_elem_norm.to_numpy()[:,:-2])"
   ]
  },
  {
   "cell_type": "code",
   "execution_count": 6,
   "id": "04542f91-3b70-400f-a376-c65d19da0470",
   "metadata": {},
   "outputs": [],
   "source": [
    "proba_gap = np.zeros(n_samples)\n",
    "for i in range(n_samples):\n",
    "    proba_gap[i] = probas[i,1] - probas[i,0]\n",
    "\n",
    "\n",
    "max_elem_norm['proba_gap'] = proba_gap\n",
    "\n",
    "n_min = 4 #we increase it a bit as the classes are really unbalanced\n",
    "\n",
    "l_boundary = np.mean(np.sort(max_elem_norm[max_elem_norm['label'] == 1]['proba_gap'])[:n_min])\n",
    "\n",
    "\n",
    "relab = np.empty(n_samples)\n",
    "for i in range(n_samples):\n",
    "    if max_elem_norm.loc[max_elem_norm.index[i],'proba_gap'] < l_boundary:\n",
    "        relab[i] = -1\n",
    "    elif max_elem_norm.loc[max_elem_norm.index[i],'label'] == 1 or max_elem_norm.loc[max_elem_norm.index[i],'proba_gap'] >= 0:\n",
    "        relab[i] = 1\n",
    "    else:\n",
    "        relab[i] = 0\n",
    "max_elem_norm['relab'] = relab\n",
    "\n",
    "for i in range(n_samples):\n",
    "    if max_elem_norm.loc[max_elem_norm.index[i],'label'] == 1:\n",
    "        max_elem_norm.loc[max_elem_norm.index[i],'relab'] = 1\n",
    "\n",
    "\n",
    "\n"
   ]
  },
  {
   "cell_type": "code",
   "execution_count": 7,
   "id": "bed4b5f9-a88e-4dc7-9991-fa30fa94b8f3",
   "metadata": {},
   "outputs": [
    {
     "name": "stdout",
     "output_type": "stream",
     "text": [
      "the recall of pgpu on train set is : 0.8666666666666667 \n",
      " the weird metric of pgpu on train set is : 1.8190720913633123\n"
     ]
    }
   ],
   "source": [
    "B=100\n",
    "labeled_data = max_elem_norm[max_elem_norm['relab'] != 0].copy()\n",
    "output_labeled = labeled_data['relab'].to_numpy()\n",
    "list_of_index = labeled_data.index\n",
    "labeled_data = labeled_data.reset_index(drop=True)\n",
    "labeled_data = labeled_data.to_numpy()[:,:-4]\n",
    "unlabeled_data = max_elem_norm.drop(index=list_of_index,axis=0)\n",
    "unlabeled_data = unlabeled_data.to_numpy()[:,:-4]\n",
    "n_unlabeled = unlabeled_data.shape[0]\n",
    "n_labels = labeled_data.shape[0]\n",
    "capital_k = np.zeros((n_labels,n_labels))\n",
    "kappa = np.zeros(n_labels)\n",
    "\n",
    "\n",
    "#construction of capital_k\n",
    "for i in range(n_labels):\n",
    "    for j in range(i,n_labels):\n",
    "        capital_k[i,j] = rbf(x=labeled_data[i,:],y=labeled_data[j,:])\n",
    "\n",
    "capital_k = capital_k + capital_k.T\n",
    "for i in range(n_labels):\n",
    "    capital_k[i,i] = 1\n",
    "\n",
    "capital_k[np.where(np.isnan(capital_k) == True)] = 0\n",
    "\n",
    "#construction of kappa\n",
    "ratio_lab_unlab = n_labels/n_unlabeled\n",
    "\n",
    "for i in range(n_labels):\n",
    "    vector = np.empty(n_unlabeled)\n",
    "    for k in range(n_unlabeled):\n",
    "        vector[k] = rbf(x=labeled_data[i,:],y=unlabeled_data[k,:])    \n",
    "    kappa[i] = ratio_lab_unlab*np.sum(vector)\n",
    "\n",
    "kappa = -kappa\n",
    "\n",
    "\n",
    "\n",
    "ones_transposed = np.ones(n_labels).reshape(1,n_labels)\n",
    "a_mat = np.vstack((ones_transposed,ones_transposed*-1,\n",
    "                   np.eye(n_labels),np.eye(n_labels)*-1))\n",
    "epsilon = (np.sqrt(n_labels)-1)/np.sqrt(n_labels)\n",
    "ub_mat = np.vstack((n_labels*(1+epsilon),n_labels*(epsilon-1),\n",
    "                    np.ones(n_labels).reshape(n_labels,1)*B,\n",
    "                    np.zeros(n_labels).reshape(n_labels,1)))\n",
    "\n",
    "\n",
    "\n",
    "beta_opti = solve_qp(P=capital_k,q=kappa,G=a_mat,h=ub_mat,solver='cvxopt')\n",
    "\n",
    "\n",
    "svm_weighted = SVC().fit(X=labeled_data,y=output_labeled,sample_weight=beta_opti)\n",
    "\n",
    "predictions_weighted = svm_weighted.predict(max_elem_norm.to_numpy()[:,:-4])\n",
    "\n",
    "positive = 0\n",
    "true_positive = 0\n",
    "for i in range(n_samples):\n",
    "    if predictions_weighted[i] == 1:\n",
    "        positive += 1\n",
    "        if max_elem_norm.loc[max_elem_norm.index[i],'class'] == 1:\n",
    "            true_positive += 1\n",
    "\n",
    "\n",
    "recall_pgpu = true_positive/max_elem_norm[max_elem_norm['class'] == 1].shape[0]\n",
    "weird_estim_pgpu = (recall_pgpu**2)/(positive/max_elem_norm.shape[0])\n",
    "print('the recall of pgpu on train set is :', recall_pgpu, '\\n', \n",
    "      'the weird metric of pgpu on train set is :', weird_estim_pgpu)"
   ]
  },
  {
   "cell_type": "code",
   "execution_count": 8,
   "id": "782a450e-6c34-477e-8a6a-c05330e5be04",
   "metadata": {},
   "outputs": [],
   "source": [
    "svm_weighted = SVC(probability=True).fit(X=labeled_data,y=output_labeled,sample_weight=beta_opti)\n",
    "\n",
    "predictions_weighted = svm_weighted.predict_proba(max_elem_norm.to_numpy()[:,:-4])[:,1]"
   ]
  },
  {
   "cell_type": "code",
   "execution_count": 9,
   "id": "cf9e081f-5eac-479a-8549-71604c819f24",
   "metadata": {},
   "outputs": [],
   "source": [
    "max_elem_norm['predictions'] = predictions_weighted"
   ]
  },
  {
   "cell_type": "code",
   "execution_count": 10,
   "id": "d2f223b5-1724-4d11-9b5d-f5977ae6fe72",
   "metadata": {},
   "outputs": [],
   "source": [
    "most_probable_pgpu = list(max_elem_norm.sort_values('predictions', ascending=False).head(200).index)"
   ]
  },
  {
   "cell_type": "code",
   "execution_count": 11,
   "id": "71ac6de1-1ee5-4cf8-a4e3-32a3ded3300f",
   "metadata": {},
   "outputs": [],
   "source": [
    "positive_names = list(positive_samples.index)"
   ]
  },
  {
   "cell_type": "code",
   "execution_count": 12,
   "id": "234b6943-825b-4d80-a8c0-9d45637e9376",
   "metadata": {},
   "outputs": [],
   "source": [
    "same_pred = []\n",
    "for i in positive_names:\n",
    "    if i in most_probable_pgpu:\n",
    "        same_pred.append(i)"
   ]
  },
  {
   "cell_type": "code",
   "execution_count": 13,
   "id": "7824ae0a-becc-4735-bf39-7406739a1eb4",
   "metadata": {},
   "outputs": [
    {
     "data": {
      "text/plain": [
       "Mn2GaC    0.000857\n",
       "Cr2AlC    0.626433\n",
       "Mo2GaC    0.002676\n",
       "Name: predictions, dtype: float64"
      ]
     },
     "execution_count": 13,
     "metadata": {},
     "output_type": "execute_result"
    }
   ],
   "source": [
    "max_elem_norm.filter(items=failed,axis=0)['predictions']"
   ]
  },
  {
   "cell_type": "code",
   "execution_count": 14,
   "id": "b6f31213-f80c-4474-8748-9b652af6cce4",
   "metadata": {},
   "outputs": [],
   "source": [
    "#we achieve better performance with B = 10.000"
   ]
  },
  {
   "cell_type": "code",
   "execution_count": 15,
   "id": "3bb9d17a-9063-4ec7-be0d-186bc00c2955",
   "metadata": {},
   "outputs": [],
   "source": [
    "#Cr2AlC is quite particular because it changes in the opposite direction of Mn2GaC\n",
    "#and Mo2GaC, meaning that depending on the tuning of certain hyperparameters\n",
    "#such as B, the first one will have a higher score whereas the other two will see their score\n",
    "#decrease, and when the two other have a high score, it will have a very low probability"
   ]
  },
  {
   "cell_type": "code",
   "execution_count": 16,
   "id": "0a20ac28-2864-40bd-9b1f-7c61e746b375",
   "metadata": {},
   "outputs": [],
   "source": [
    "max_calculated = max_calculated.set_index('prettyformula',drop=True)"
   ]
  },
  {
   "cell_type": "code",
   "execution_count": 17,
   "id": "b4841089-0be6-405d-81d8-029b21de69e1",
   "metadata": {},
   "outputs": [],
   "source": [
    "to_plot = max_calculated.filter(items=most_probable_pgpu,axis=0)"
   ]
  },
  {
   "cell_type": "code",
   "execution_count": 18,
   "id": "65d573b4-793e-4f3b-9cb7-6fa9412c4fda",
   "metadata": {},
   "outputs": [],
   "source": [
    "feature_to_plot = to_plot['dH']"
   ]
  },
  {
   "cell_type": "code",
   "execution_count": 19,
   "id": "e98c4135-8ca9-4fc1-bbcf-20bb1e444b5e",
   "metadata": {
    "scrolled": true
   },
   "outputs": [
    {
     "data": {
      "text/plain": [
       "<matplotlib.legend.Legend at 0x7f662f7d5fa0>"
      ]
     },
     "execution_count": 19,
     "metadata": {},
     "output_type": "execute_result"
    },
    {
     "data": {
      "image/png": "[encoded data removed]",
      "text/plain": [
       "<Figure size 640x480 with 1 Axes>"
      ]
     },
     "metadata": {},
     "output_type": "display_data"
    }
   ],
   "source": [
    "plt.plot(np.sort(feature_to_plot),label='dH')\n",
    "plt.plot(np.linspace(0,200,3), np.zeros(3),label='=0')\n",
    "plt.plot(np.linspace(0,200,3),np.ones(3)*30,label='=30')\n",
    "plt.legend()"
   ]
  },
  {
   "cell_type": "code",
   "execution_count": 20,
   "id": "89903eb8-fc69-48b3-9df9-a021f40421e8",
   "metadata": {},
   "outputs": [],
   "source": [
    "#seems to be a little less conclusive than the other methods so far"
   ]
  },
  {
   "cell_type": "code",
   "execution_count": 35,
   "id": "d44d7e5e-756e-44a1-b322-6dbc5fe9bb73",
   "metadata": {},
   "outputs": [],
   "source": [
    "df_ordered_pred = pd.DataFrame(max_elem_norm[max_elem_norm['predictions'] > 0.5].sort_values(by='predictions',ascending=False)['predictions'])"
   ]
  },
  {
   "cell_type": "code",
   "execution_count": 36,
   "id": "e42d54b0-3f06-4015-b52b-c98724b8ad91",
   "metadata": {},
   "outputs": [],
   "source": [
    "df_ordered_pred.columns = ['PGPU']\n",
    "df_ordered_pred = df_ordered_pred.reset_index()"
   ]
  },
  {
   "cell_type": "code",
   "execution_count": 37,
   "id": "c4b7360f-4ae1-4436-87ad-76436bb8f9ae",
   "metadata": {},
   "outputs": [],
   "source": [
    "df_ordered_pred['rank_pgpu'] = df_ordered_pred.index"
   ]
  },
  {
   "cell_type": "code",
   "execution_count": 38,
   "id": "91c7810d-2065-4170-94df-a82d1f1f0c08",
   "metadata": {},
   "outputs": [],
   "source": [
    "df_ordered_pred = df_ordered_pred.set_index('compound_name')"
   ]
  },
  {
   "cell_type": "code",
   "execution_count": 39,
   "id": "a273b8e1-6661-4472-bfc1-dde6946309ff",
   "metadata": {},
   "outputs": [],
   "source": [
    "df_ordered_pred = df_ordered_pred.head(50)\n",
    "df_ordered_pred.to_csv(path_or_buf='ordered_predictions_pgpu.csv')"
   ]
  },
  {
   "cell_type": "code",
   "execution_count": null,
   "id": "79a45c88-0c9f-42f7-bb49-7ced99fac3bd",
   "metadata": {},
   "outputs": [],
   "source": []
  }
 ],
 "metadata": {
  "kernelspec": {
   "display_name": "Python 3 (ipykernel)",
   "language": "python",
   "name": "python3"
  },
  "language_info": {
   "codemirror_mode": {
    "name": "ipython",
    "version": 3
   },
   "file_extension": ".py",
   "mimetype": "text/x-python",
   "name": "python",
   "nbconvert_exporter": "python",
   "pygments_lexer": "ipython3",
   "version": "3.12.4"
  }
 },
 "nbformat": 4,
 "nbformat_minor": 5
}
