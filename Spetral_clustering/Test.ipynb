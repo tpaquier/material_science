{
 "cells": [
  {
   "cell_type": "code",
   "execution_count": 1,
   "id": "bae90984-6c9e-4fdc-97b7-25616fdaaa0f",
   "metadata": {},
   "outputs": [],
   "source": [
    "import numpy as np\n",
    "import os"
   ]
  },
  {
   "cell_type": "code",
   "execution_count": 2,
   "id": "249ad1ed-b4b3-4079-b5cf-8419a512cca2",
   "metadata": {},
   "outputs": [],
   "source": [
    "%run rbf.ipynb"
   ]
  },
  {
   "cell_type": "code",
   "execution_count": 3,
   "id": "1194d649-3129-4118-ba44-2c32c9afc005",
   "metadata": {},
   "outputs": [],
   "source": [
    "actual_path = os.getcwd()"
   ]
  },
  {
   "cell_type": "code",
   "execution_count": 4,
   "id": "4cda86d9-7042-4eae-a34d-24b97ef809ee",
   "metadata": {},
   "outputs": [],
   "source": [
    "#%run ~'/home/onyxia/work/material_science/Metrics/3d_plot_weird_estim.ipynb'"
   ]
  },
  {
   "cell_type": "code",
   "execution_count": 5,
   "id": "219473e3-9cec-4518-b09a-b93af3a4d257",
   "metadata": {},
   "outputs": [],
   "source": [
    "#os.chdir('/home/onyxia/work/material_science/Metrics')\n",
    "#%run '3d_plot_weird_estim.ipynb'\n",
    "#os.getcwd()\n",
    "#os.chdir(actual_path)\n",
    "#os.getcwd()"
   ]
  },
  {
   "cell_type": "code",
   "execution_count": null,
   "id": "b69866c1-31c5-4a8c-befd-a286a6ba192b",
   "metadata": {},
   "outputs": [],
   "source": []
  }
 ],
 "metadata": {
  "kernelspec": {
   "display_name": "Python 3 (ipykernel)",
   "language": "python",
   "name": "python3"
  },
  "language_info": {
   "codemirror_mode": {
    "name": "ipython",
    "version": 3
   },
   "file_extension": ".py",
   "mimetype": "text/x-python",
   "name": "python",
   "nbconvert_exporter": "python",
   "pygments_lexer": "ipython3",
   "version": "3.12.4"
  }
 },
 "nbformat": 4,
 "nbformat_minor": 5
}
