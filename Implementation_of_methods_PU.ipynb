{
 "cells": [
  {
   "cell_type": "code",
   "execution_count": 1,
   "id": "c5f9db7f-7a84-44ce-9c59-2b9ab3f9572b",
   "metadata": {},
   "outputs": [],
   "source": [
    "import requests\n",
    "import numpy as np\n",
    "import pandas as pd\n",
    "import matplotlib.pyplot as plt\n",
    "from scipy.stats import multivariate_normal\n",
    "from sklearn.datasets import load_digits\n",
    "from scipy.stats import bernoulli"
   ]
  },
  {
   "cell_type": "markdown",
   "id": "96b0d817-d42d-42cf-9af1-1f984bdcb6c0",
   "metadata": {},
   "source": [
    "Each positive example has the probability $e(x)$ of being selected to be labeled.\n",
    "\n",
    "And $e(x) = \\mathbb{P}(s=1 \\vert y=1,x)$. \n",
    "\n",
    "So we get that : $f_l = \\frac{e(x)}{c}f_+(x)$, which is a biased version of the positive density. c is the normalization constant, the $\\textit{label frequency}$, defined by $c=\\mathbb{P}(s=1 \\vert y=1)$.\n",
    "\n",
    "Class prior : $\\alpha = \\mathbb{P}(y=1)$\n",
    "\n",
    "$c=\\mathbb{P}(s=1 \\vert y=1)=\\frac{\\mathbb{P}(s=1,y=1)}{\\mathbb{P}(y=1)} = \\frac{\\mathbb{P}(s=1)}{\\mathbb{P}(y=1)} \\text{(by definition of PU)}$\n",
    "\n",
    "So in single training set scenario : $c=\\frac{\\mathbb{P}(s=1)}{\\alpha}$\n",
    "\n",
    "\n",
    "### So, first assumption : SCAR \n",
    "$e(x)=c$\n",
    "\n",
    "### Very common other assuption, SAR (selected at random)\n",
    "\n",
    "The probability of being labelled depends on attributes of a datapoint.\n",
    "\n",
    "Def : The labeled sample is a biased sample from the original distribution, and the bias only depends on the attributes and is defined by the propensity score $e(x)$, we have : $e(x) = \\mathbb{P}(s=1 \\vert x,y=1)$\n",
    "\n",
    "### Probabilistic gap : examples that resamble the negative ones are less likely to be labeled.\n",
    "\n",
    "Hence, the probability gap is defined by : $\\Delta \\mathbb{P} = \\mathbb{P}(y=1 \\vert x) - \\mathbb{P}(y=0 \\vert x)$.\n",
    "\n",
    "$\\rightarrow e(x) = f(\\Delta \\mathbb{P}(x)), \\frac{\\partial}{\\partial t}f(t) >0$\n",
    "\n",
    "\n",
    "### Assumption of separability is used in graph frameworks so might be good for material science. \n",
    "\n",
    "\n",
    "\n",
    "## Assumptions for an identifiable class prior $\\alpha$\n",
    "\n",
    "Separable classes, non overlapping distributions\n",
    "\n",
    "Positive subdomain, anchor\n",
    "\n",
    "Positive function separability\n",
    "\n",
    "Irreducibility\n",
    "\n",
    "\n",
    "\n",
    "\n"
   ]
  },
  {
   "cell_type": "code",
   "execution_count": 2,
   "id": "58f6b2bb-0e22-4033-856e-1758af845096",
   "metadata": {},
   "outputs": [],
   "source": [
    "#digits = load_digits(as_frame = True).data"
   ]
  },
  {
   "cell_type": "code",
   "execution_count": 3,
   "id": "1137ae88-c68c-4e02-8656-9e76ac571692",
   "metadata": {},
   "outputs": [],
   "source": [
    "mushroom_data_df = pd.read_csv('data/mushroom.csv', encoding = 'utf-8', engine = 'python')"
   ]
  },
  {
   "cell_type": "code",
   "execution_count": 4,
   "id": "54fc4c51-0590-4f09-8c3f-961096485442",
   "metadata": {},
   "outputs": [],
   "source": [
    "for_class=mushroom_data_df['class']\n",
    "\n",
    "mushroom_data_df = mushroom_data_df.drop(['class'],axis=1)-mushroom_data_df.drop(['class'],axis=1).mean()/mushroom_data_df.drop(['class',],axis=1).std()\n",
    "\n",
    "\n"
   ]
  },
  {
   "cell_type": "code",
   "execution_count": 5,
   "id": "edb6e57a-08f4-4b80-b16a-42fd1d425274",
   "metadata": {},
   "outputs": [],
   "source": [
    "mushroom_data_df['class'] = for_class\n",
    "mushroom_data_df['label'] = mushroom_data_df['class']"
   ]
  },
  {
   "cell_type": "code",
   "execution_count": 6,
   "id": "f1709d26-f8b5-4935-b82f-ea83978d043e",
   "metadata": {},
   "outputs": [],
   "source": [
    "columns_to_use = mushroom_data_df.columns"
   ]
  },
  {
   "cell_type": "code",
   "execution_count": 7,
   "id": "efdea8d2-e622-4931-917b-4cbf23301c05",
   "metadata": {},
   "outputs": [],
   "source": [
    "mushroom_data = mushroom_data_df.to_numpy()"
   ]
  },
  {
   "cell_type": "code",
   "execution_count": 8,
   "id": "25f6b777-10c6-4712-9362-bec07ff6652f",
   "metadata": {},
   "outputs": [],
   "source": [
    "for i in range(mushroom_data.shape[0]):\n",
    "    random = bernoulli.rvs(p=1/2)\n",
    "    if mushroom_data[i,8] == 0:\n",
    "        mushroom_data[i,8] = 99\n",
    "    elif mushroom_data[i,8] == 1 and random == 1:\n",
    "        mushroom_data[i,8] = 99\n",
    "    elif mushroom_data[i,8] == 1 and random == 0:\n",
    "        mushroom_data[i,8] = 1"
   ]
  },
  {
   "cell_type": "markdown",
   "id": "53dfb24c-b720-4819-b51b-d575d46668a4",
   "metadata": {},
   "source": [
    "# First method : two-step method with k-means and iterative LS-SVM"
   ]
  },
  {
   "cell_type": "code",
   "execution_count": 9,
   "id": "364903f2-8a67-4562-9126-b9e6b106a7f3",
   "metadata": {},
   "outputs": [],
   "source": [
    "mushroom_data_kmeans = mushroom_data"
   ]
  },
  {
   "cell_type": "code",
   "execution_count": 10,
   "id": "b5d77797-c93f-4b38-a29c-550b770ee29f",
   "metadata": {},
   "outputs": [],
   "source": [
    "def generalized_euclidian_dist_sq(x,y):\n",
    "    \"\"\"a function to calculate euclidian distance for any dimension\n",
    "\n",
    "    Parameters\n",
    "    ---------------------\n",
    "    x,y : array-like\n",
    "    the two vectors between which we want to calculate the euclidian distance\n",
    "    --------------------\n",
    "    \"\"\"\n",
    "    dimension = x.shape[0]\n",
    "    sum_of_squares = 0\n",
    "    for i in range(dimension):\n",
    "        sum_of_squares += (x[i]-y[i])**2\n",
    "    return sum_of_squares"
   ]
  },
  {
   "cell_type": "code",
   "execution_count": 11,
   "id": "59b8c547-250d-4fe7-8a10-72d9cd7b5939",
   "metadata": {},
   "outputs": [
    {
     "data": {
      "text/plain": [
       "(54035, 10)"
      ]
     },
     "execution_count": 11,
     "metadata": {},
     "output_type": "execute_result"
    }
   ],
   "source": [
    "mushroom_data_kmeans.shape"
   ]
  },
  {
   "cell_type": "code",
   "execution_count": 12,
   "id": "547851c8-248f-497b-a4d0-b48bfe54a00f",
   "metadata": {},
   "outputs": [
    {
     "data": {
      "text/plain": [
       "array([ 1.45942378e+03,  1.48435640e-01,  1.03892854e+00,  7.70971882e+00,\n",
       "        2.64134324e+00,  1.55565600e+03,  8.41941702e+00, -1.31150916e+00])"
      ]
     },
     "execution_count": 12,
     "metadata": {},
     "output_type": "execute_result"
    }
   ],
   "source": [
    "mushroom_data_kmeans[1,:8]"
   ]
  },
  {
   "cell_type": "code",
   "execution_count": 13,
   "id": "41cd503c-4835-4847-a692-4fd9d278c058",
   "metadata": {},
   "outputs": [],
   "source": [
    "iterations = 100\n",
    "k = 4"
   ]
  },
  {
   "cell_type": "code",
   "execution_count": 14,
   "id": "5fef650c-9c2f-40f7-833f-dd7b10848927",
   "metadata": {},
   "outputs": [],
   "source": [
    "centroids = np.random.uniform(low=0., high=3000, size=(k,8))"
   ]
  },
  {
   "cell_type": "code",
   "execution_count": 15,
   "id": "00488336-fddd-4a83-affd-9e1c980f887e",
   "metadata": {},
   "outputs": [
    {
     "data": {
      "text/html": [
       "<div>\n",
       "<style scoped>\n",
       "    .dataframe tbody tr th:only-of-type {\n",
       "        vertical-align: middle;\n",
       "    }\n",
       "\n",
       "    .dataframe tbody tr th {\n",
       "        vertical-align: top;\n",
       "    }\n",
       "\n",
       "    .dataframe thead th {\n",
       "        text-align: right;\n",
       "    }\n",
       "</style>\n",
       "<table border=\"1\" class=\"dataframe\">\n",
       "  <thead>\n",
       "    <tr style=\"text-align: right;\">\n",
       "      <th></th>\n",
       "      <th>cap-diameter</th>\n",
       "      <th>cap-shape</th>\n",
       "      <th>gill-attachment</th>\n",
       "      <th>gill-color</th>\n",
       "      <th>stem-height</th>\n",
       "      <th>stem-width</th>\n",
       "      <th>stem-color</th>\n",
       "      <th>season</th>\n",
       "      <th>class</th>\n",
       "      <th>label</th>\n",
       "    </tr>\n",
       "  </thead>\n",
       "  <tbody>\n",
       "    <tr>\n",
       "      <th>count</th>\n",
       "      <td>54035.000000</td>\n",
       "      <td>54035.000000</td>\n",
       "      <td>54035.000000</td>\n",
       "      <td>54035.000000</td>\n",
       "      <td>54035.000000</td>\n",
       "      <td>54035.000000</td>\n",
       "      <td>54035.000000</td>\n",
       "      <td>54035.000000</td>\n",
       "      <td>54035.000000</td>\n",
       "      <td>54035.000000</td>\n",
       "    </tr>\n",
       "    <tr>\n",
       "      <th>mean</th>\n",
       "      <td>565.680980</td>\n",
       "      <td>2.148750</td>\n",
       "      <td>1.180985</td>\n",
       "      <td>5.039227</td>\n",
       "      <td>-0.407014</td>\n",
       "      <td>1049.737302</td>\n",
       "      <td>5.837479</td>\n",
       "      <td>-2.163619</td>\n",
       "      <td>0.549181</td>\n",
       "      <td>0.549181</td>\n",
       "    </tr>\n",
       "    <tr>\n",
       "      <th>std</th>\n",
       "      <td>359.883763</td>\n",
       "      <td>2.160505</td>\n",
       "      <td>2.228821</td>\n",
       "      <td>3.200266</td>\n",
       "      <td>0.650969</td>\n",
       "      <td>782.056076</td>\n",
       "      <td>3.262078</td>\n",
       "      <td>0.305594</td>\n",
       "      <td>0.497580</td>\n",
       "      <td>0.497580</td>\n",
       "    </tr>\n",
       "    <tr>\n",
       "      <th>min</th>\n",
       "      <td>-1.576223</td>\n",
       "      <td>-1.851564</td>\n",
       "      <td>-0.961071</td>\n",
       "      <td>-2.290281</td>\n",
       "      <td>-1.165698</td>\n",
       "      <td>-1.343997</td>\n",
       "      <td>-2.580583</td>\n",
       "      <td>-3.088410</td>\n",
       "      <td>0.000000</td>\n",
       "      <td>0.000000</td>\n",
       "    </tr>\n",
       "    <tr>\n",
       "      <th>25%</th>\n",
       "      <td>287.423777</td>\n",
       "      <td>0.148436</td>\n",
       "      <td>-0.961071</td>\n",
       "      <td>2.709719</td>\n",
       "      <td>-0.895127</td>\n",
       "      <td>419.656003</td>\n",
       "      <td>3.419417</td>\n",
       "      <td>-2.227332</td>\n",
       "      <td>0.000000</td>\n",
       "      <td>0.000000</td>\n",
       "    </tr>\n",
       "    <tr>\n",
       "      <th>50%</th>\n",
       "      <td>523.423777</td>\n",
       "      <td>3.148436</td>\n",
       "      <td>0.038929</td>\n",
       "      <td>5.709719</td>\n",
       "      <td>-0.572828</td>\n",
       "      <td>921.656003</td>\n",
       "      <td>8.419417</td>\n",
       "      <td>-2.172587</td>\n",
       "      <td>1.000000</td>\n",
       "      <td>1.000000</td>\n",
       "    </tr>\n",
       "    <tr>\n",
       "      <th>75%</th>\n",
       "      <td>779.423777</td>\n",
       "      <td>4.148436</td>\n",
       "      <td>3.038929</td>\n",
       "      <td>7.709719</td>\n",
       "      <td>-0.111266</td>\n",
       "      <td>1521.656003</td>\n",
       "      <td>8.419417</td>\n",
       "      <td>-2.172587</td>\n",
       "      <td>1.000000</td>\n",
       "      <td>1.000000</td>\n",
       "    </tr>\n",
       "    <tr>\n",
       "      <th>max</th>\n",
       "      <td>1889.423777</td>\n",
       "      <td>4.148436</td>\n",
       "      <td>5.038929</td>\n",
       "      <td>8.709719</td>\n",
       "      <td>2.669196</td>\n",
       "      <td>3567.656003</td>\n",
       "      <td>9.419417</td>\n",
       "      <td>-1.311509</td>\n",
       "      <td>1.000000</td>\n",
       "      <td>1.000000</td>\n",
       "    </tr>\n",
       "  </tbody>\n",
       "</table>\n",
       "</div>"
      ],
      "text/plain": [
       "       cap-diameter     cap-shape  gill-attachment    gill-color  \\\n",
       "count  54035.000000  54035.000000     54035.000000  54035.000000   \n",
       "mean     565.680980      2.148750         1.180985      5.039227   \n",
       "std      359.883763      2.160505         2.228821      3.200266   \n",
       "min       -1.576223     -1.851564        -0.961071     -2.290281   \n",
       "25%      287.423777      0.148436        -0.961071      2.709719   \n",
       "50%      523.423777      3.148436         0.038929      5.709719   \n",
       "75%      779.423777      4.148436         3.038929      7.709719   \n",
       "max     1889.423777      4.148436         5.038929      8.709719   \n",
       "\n",
       "        stem-height    stem-width    stem-color        season         class  \\\n",
       "count  54035.000000  54035.000000  54035.000000  54035.000000  54035.000000   \n",
       "mean      -0.407014   1049.737302      5.837479     -2.163619      0.549181   \n",
       "std        0.650969    782.056076      3.262078      0.305594      0.497580   \n",
       "min       -1.165698     -1.343997     -2.580583     -3.088410      0.000000   \n",
       "25%       -0.895127    419.656003      3.419417     -2.227332      0.000000   \n",
       "50%       -0.572828    921.656003      8.419417     -2.172587      1.000000   \n",
       "75%       -0.111266   1521.656003      8.419417     -2.172587      1.000000   \n",
       "max        2.669196   3567.656003      9.419417     -1.311509      1.000000   \n",
       "\n",
       "              label  \n",
       "count  54035.000000  \n",
       "mean       0.549181  \n",
       "std        0.497580  \n",
       "min        0.000000  \n",
       "25%        0.000000  \n",
       "50%        1.000000  \n",
       "75%        1.000000  \n",
       "max        1.000000  "
      ]
     },
     "execution_count": 15,
     "metadata": {},
     "output_type": "execute_result"
    }
   ],
   "source": [
    "mushroom_data_df.describe()"
   ]
  },
  {
   "cell_type": "code",
   "execution_count": 16,
   "id": "90e07720-9a25-447f-97d5-fea90f26aa5b",
   "metadata": {},
   "outputs": [
    {
     "data": {
      "text/plain": [
       "1.0"
      ]
     },
     "execution_count": 16,
     "metadata": {},
     "output_type": "execute_result"
    }
   ],
   "source": [
    "list_of_max = mushroom_data_df.describe().loc['max']\n",
    "list_of_max.pop('label')\n",
    "list_of_max.pop('class')"
   ]
  },
  {
   "cell_type": "code",
   "execution_count": 17,
   "id": "18bcf002-3123-47bd-b96a-2979a8fccd28",
   "metadata": {},
   "outputs": [],
   "source": [
    "centroids = np.empty((k,8))\n",
    "position = 0\n",
    "for i in list_of_max:\n",
    "    component = np.random.uniform(low=0., high = i , size=k)\n",
    "    centroids[:,np.where(list_of_max == i)[0][0]] = component\n",
    "    position += 1\n"
   ]
  },
  {
   "cell_type": "code",
   "execution_count": 18,
   "id": "150a24f0-f897-4b5b-a9bb-522479110d68",
   "metadata": {},
   "outputs": [],
   "source": [
    "mushroom_data_df_algo = mushroom_data_df.drop(['label', 'class'], axis=1)"
   ]
  },
  {
   "cell_type": "code",
   "execution_count": 19,
   "id": "555c94c4-be02-41fd-9c0b-f212b69732cc",
   "metadata": {},
   "outputs": [],
   "source": [
    "mushroom_data_kmeans_train = mushroom_data_kmeans[:,:8]"
   ]
  },
  {
   "cell_type": "code",
   "execution_count": 20,
   "id": "277502a7-b684-4bbc-964f-dd5b26fee5b5",
   "metadata": {},
   "outputs": [],
   "source": [
    "distances = np.empty((mushroom_data_kmeans_train.shape[0], k))\n",
    "cluster_cat = np.empty((mushroom_data_kmeans_train.shape[0],1))"
   ]
  },
  {
   "cell_type": "code",
   "execution_count": 21,
   "id": "97ff0b42-0535-406c-a33b-a4dbcf2b108a",
   "metadata": {},
   "outputs": [],
   "source": [
    "n=0\n",
    "while n<=iterations:\n",
    "    #computation of weights\n",
    "    for cluster in range(k):\n",
    "        for i in range(mushroom_data_kmeans_train.shape[0]):\n",
    "            distances[i,cluster] = generalized_euclidian_dist_sq(x=mushroom_data_kmeans_train[i,:],\n",
    "                                                                 y=centroids[cluster,:])\n",
    "    #defining to which centroid each point is the closest\n",
    "    for i in range((mushroom_data_kmeans_train.shape[0])):\n",
    "        cluster_cat[i,0] = np.where(distances[i,:] == np.min(distances[i,:]))[0][0]\n",
    "    mushroom_data_df_algo['cluster'] = cluster_cat\n",
    "    centroids = mushroom_data_df_algo.groupby('cluster').mean().to_numpy()\n",
    "    n += 1"
   ]
  },
  {
   "cell_type": "code",
   "execution_count": 22,
   "id": "b113af9c-aa39-45dc-806d-749375a6e8fc",
   "metadata": {},
   "outputs": [],
   "source": [
    "distances_inter_clusters = np.empty((4,4))\n",
    "\n",
    "for i in range(4):\n",
    "    for j in range(4):\n",
    "        distances_inter_clusters[i,j] = generalized_euclidian_dist_sq(x=centroids[i,:],\n",
    "                                                                      y=centroids[j,:])\n",
    "\n"
   ]
  },
  {
   "cell_type": "code",
   "execution_count": 23,
   "id": "f475eb8a-e458-424a-a315-cd6b7287a026",
   "metadata": {},
   "outputs": [],
   "source": [
    "distances_inter_clusters_df = pd.DataFrame(distances_inter_clusters)"
   ]
  },
  {
   "cell_type": "code",
   "execution_count": 24,
   "id": "626f01b2-cc6a-4e5d-8527-bf9a610b588e",
   "metadata": {},
   "outputs": [
    {
     "data": {
      "text/html": [
       "<div>\n",
       "<style scoped>\n",
       "    .dataframe tbody tr th:only-of-type {\n",
       "        vertical-align: middle;\n",
       "    }\n",
       "\n",
       "    .dataframe tbody tr th {\n",
       "        vertical-align: top;\n",
       "    }\n",
       "\n",
       "    .dataframe thead th {\n",
       "        text-align: right;\n",
       "    }\n",
       "</style>\n",
       "<table border=\"1\" class=\"dataframe\">\n",
       "  <thead>\n",
       "    <tr style=\"text-align: right;\">\n",
       "      <th></th>\n",
       "      <th>0</th>\n",
       "      <th>1</th>\n",
       "      <th>2</th>\n",
       "      <th>3</th>\n",
       "    </tr>\n",
       "  </thead>\n",
       "  <tbody>\n",
       "    <tr>\n",
       "      <th>0</th>\n",
       "      <td>0.000000e+00</td>\n",
       "      <td>1.063587e+06</td>\n",
       "      <td>6.171473e+06</td>\n",
       "      <td>2.995154e+06</td>\n",
       "    </tr>\n",
       "    <tr>\n",
       "      <th>1</th>\n",
       "      <td>1.063587e+06</td>\n",
       "      <td>0.000000e+00</td>\n",
       "      <td>2.147180e+06</td>\n",
       "      <td>4.993770e+05</td>\n",
       "    </tr>\n",
       "    <tr>\n",
       "      <th>2</th>\n",
       "      <td>6.171473e+06</td>\n",
       "      <td>2.147180e+06</td>\n",
       "      <td>0.000000e+00</td>\n",
       "      <td>5.758150e+05</td>\n",
       "    </tr>\n",
       "    <tr>\n",
       "      <th>3</th>\n",
       "      <td>2.995154e+06</td>\n",
       "      <td>4.993770e+05</td>\n",
       "      <td>5.758150e+05</td>\n",
       "      <td>0.000000e+00</td>\n",
       "    </tr>\n",
       "  </tbody>\n",
       "</table>\n",
       "</div>"
      ],
      "text/plain": [
       "              0             1             2             3\n",
       "0  0.000000e+00  1.063587e+06  6.171473e+06  2.995154e+06\n",
       "1  1.063587e+06  0.000000e+00  2.147180e+06  4.993770e+05\n",
       "2  6.171473e+06  2.147180e+06  0.000000e+00  5.758150e+05\n",
       "3  2.995154e+06  4.993770e+05  5.758150e+05  0.000000e+00"
      ]
     },
     "execution_count": 24,
     "metadata": {},
     "output_type": "execute_result"
    }
   ],
   "source": [
    "distances_inter_clusters_df"
   ]
  },
  {
   "cell_type": "code",
   "execution_count": 25,
   "id": "c2756600-f0a4-41d6-8eef-5302773c68d7",
   "metadata": {},
   "outputs": [],
   "source": [
    "mushroom_data_df_kmeans = mushroom_data_df"
   ]
  },
  {
   "cell_type": "code",
   "execution_count": 26,
   "id": "8646596e-8cd3-4a1c-965c-e21cc0b894f7",
   "metadata": {},
   "outputs": [],
   "source": [
    "mushroom_data_df_kmeans['cluster'] = mushroom_data_df_algo['cluster']"
   ]
  },
  {
   "cell_type": "code",
   "execution_count": 27,
   "id": "c36194f2-2352-4521-824a-9c0864fb575a",
   "metadata": {},
   "outputs": [],
   "source": [
    "mean_per_cluster = mushroom_data_df_kmeans[['class','cluster']].groupby('cluster').mean().to_numpy()"
   ]
  },
  {
   "cell_type": "code",
   "execution_count": 28,
   "id": "cdc60b3b-0ab0-400b-8be9-237462f50c2c",
   "metadata": {
    "scrolled": true
   },
   "outputs": [
    {
     "data": {
      "text/html": [
       "<div>\n",
       "<style scoped>\n",
       "    .dataframe tbody tr th:only-of-type {\n",
       "        vertical-align: middle;\n",
       "    }\n",
       "\n",
       "    .dataframe tbody tr th {\n",
       "        vertical-align: top;\n",
       "    }\n",
       "\n",
       "    .dataframe thead th {\n",
       "        text-align: right;\n",
       "    }\n",
       "</style>\n",
       "<table border=\"1\" class=\"dataframe\">\n",
       "  <thead>\n",
       "    <tr style=\"text-align: right;\">\n",
       "      <th></th>\n",
       "      <th>cap-diameter</th>\n",
       "      <th>cap-shape</th>\n",
       "      <th>gill-attachment</th>\n",
       "      <th>gill-color</th>\n",
       "      <th>stem-height</th>\n",
       "      <th>stem-width</th>\n",
       "      <th>stem-color</th>\n",
       "      <th>season</th>\n",
       "      <th>class</th>\n",
       "      <th>label</th>\n",
       "      <th>cluster</th>\n",
       "    </tr>\n",
       "  </thead>\n",
       "  <tbody>\n",
       "    <tr>\n",
       "      <th>2835</th>\n",
       "      <td>318.423777</td>\n",
       "      <td>-1.851564</td>\n",
       "      <td>1.038929</td>\n",
       "      <td>7.709719</td>\n",
       "      <td>-0.803610</td>\n",
       "      <td>297.656003</td>\n",
       "      <td>8.419417</td>\n",
       "      <td>-2.227332</td>\n",
       "      <td>1</td>\n",
       "      <td>1</td>\n",
       "      <td>2.0</td>\n",
       "    </tr>\n",
       "    <tr>\n",
       "      <th>2836</th>\n",
       "      <td>417.423777</td>\n",
       "      <td>-1.851564</td>\n",
       "      <td>1.038929</td>\n",
       "      <td>7.709719</td>\n",
       "      <td>-0.620576</td>\n",
       "      <td>320.656003</td>\n",
       "      <td>8.419417</td>\n",
       "      <td>-2.172587</td>\n",
       "      <td>1</td>\n",
       "      <td>1</td>\n",
       "      <td>2.0</td>\n",
       "    </tr>\n",
       "    <tr>\n",
       "      <th>2837</th>\n",
       "      <td>374.423777</td>\n",
       "      <td>-1.851564</td>\n",
       "      <td>1.038929</td>\n",
       "      <td>7.709719</td>\n",
       "      <td>-0.640471</td>\n",
       "      <td>322.656003</td>\n",
       "      <td>8.419417</td>\n",
       "      <td>-2.172587</td>\n",
       "      <td>1</td>\n",
       "      <td>1</td>\n",
       "      <td>2.0</td>\n",
       "    </tr>\n",
       "    <tr>\n",
       "      <th>2838</th>\n",
       "      <td>231.423777</td>\n",
       "      <td>-1.851564</td>\n",
       "      <td>1.038929</td>\n",
       "      <td>2.709719</td>\n",
       "      <td>-0.437543</td>\n",
       "      <td>295.656003</td>\n",
       "      <td>8.419417</td>\n",
       "      <td>-2.172587</td>\n",
       "      <td>1</td>\n",
       "      <td>1</td>\n",
       "      <td>2.0</td>\n",
       "    </tr>\n",
       "    <tr>\n",
       "      <th>2839</th>\n",
       "      <td>262.423777</td>\n",
       "      <td>0.148436</td>\n",
       "      <td>1.038929</td>\n",
       "      <td>2.709719</td>\n",
       "      <td>-0.712093</td>\n",
       "      <td>329.656003</td>\n",
       "      <td>8.419417</td>\n",
       "      <td>-2.227332</td>\n",
       "      <td>1</td>\n",
       "      <td>1</td>\n",
       "      <td>2.0</td>\n",
       "    </tr>\n",
       "    <tr>\n",
       "      <th>...</th>\n",
       "      <td>...</td>\n",
       "      <td>...</td>\n",
       "      <td>...</td>\n",
       "      <td>...</td>\n",
       "      <td>...</td>\n",
       "      <td>...</td>\n",
       "      <td>...</td>\n",
       "      <td>...</td>\n",
       "      <td>...</td>\n",
       "      <td>...</td>\n",
       "      <td>...</td>\n",
       "    </tr>\n",
       "    <tr>\n",
       "      <th>54030</th>\n",
       "      <td>71.423777</td>\n",
       "      <td>3.148436</td>\n",
       "      <td>2.038929</td>\n",
       "      <td>-0.290281</td>\n",
       "      <td>-0.278383</td>\n",
       "      <td>567.656003</td>\n",
       "      <td>9.419417</td>\n",
       "      <td>-2.172587</td>\n",
       "      <td>1</td>\n",
       "      <td>1</td>\n",
       "      <td>2.0</td>\n",
       "    </tr>\n",
       "    <tr>\n",
       "      <th>54031</th>\n",
       "      <td>80.423777</td>\n",
       "      <td>0.148436</td>\n",
       "      <td>2.038929</td>\n",
       "      <td>-0.290281</td>\n",
       "      <td>0.020041</td>\n",
       "      <td>488.656003</td>\n",
       "      <td>9.419417</td>\n",
       "      <td>-2.172587</td>\n",
       "      <td>1</td>\n",
       "      <td>1</td>\n",
       "      <td>2.0</td>\n",
       "    </tr>\n",
       "    <tr>\n",
       "      <th>54032</th>\n",
       "      <td>80.423777</td>\n",
       "      <td>3.148436</td>\n",
       "      <td>2.038929</td>\n",
       "      <td>-0.290281</td>\n",
       "      <td>-0.250530</td>\n",
       "      <td>582.656003</td>\n",
       "      <td>9.419417</td>\n",
       "      <td>-2.227332</td>\n",
       "      <td>1</td>\n",
       "      <td>1</td>\n",
       "      <td>2.0</td>\n",
       "    </tr>\n",
       "    <tr>\n",
       "      <th>54033</th>\n",
       "      <td>77.423777</td>\n",
       "      <td>0.148436</td>\n",
       "      <td>2.038929</td>\n",
       "      <td>-0.290281</td>\n",
       "      <td>-0.131161</td>\n",
       "      <td>489.656003</td>\n",
       "      <td>9.419417</td>\n",
       "      <td>-2.227332</td>\n",
       "      <td>1</td>\n",
       "      <td>1</td>\n",
       "      <td>2.0</td>\n",
       "    </tr>\n",
       "    <tr>\n",
       "      <th>54034</th>\n",
       "      <td>70.423777</td>\n",
       "      <td>3.148436</td>\n",
       "      <td>2.038929</td>\n",
       "      <td>-0.290281</td>\n",
       "      <td>-0.007812</td>\n",
       "      <td>490.656003</td>\n",
       "      <td>9.419417</td>\n",
       "      <td>-2.227332</td>\n",
       "      <td>1</td>\n",
       "      <td>1</td>\n",
       "      <td>2.0</td>\n",
       "    </tr>\n",
       "  </tbody>\n",
       "</table>\n",
       "<p>21099 rows × 11 columns</p>\n",
       "</div>"
      ],
      "text/plain": [
       "       cap-diameter  cap-shape  gill-attachment  gill-color  stem-height  \\\n",
       "2835     318.423777  -1.851564         1.038929    7.709719    -0.803610   \n",
       "2836     417.423777  -1.851564         1.038929    7.709719    -0.620576   \n",
       "2837     374.423777  -1.851564         1.038929    7.709719    -0.640471   \n",
       "2838     231.423777  -1.851564         1.038929    2.709719    -0.437543   \n",
       "2839     262.423777   0.148436         1.038929    2.709719    -0.712093   \n",
       "...             ...        ...              ...         ...          ...   \n",
       "54030     71.423777   3.148436         2.038929   -0.290281    -0.278383   \n",
       "54031     80.423777   0.148436         2.038929   -0.290281     0.020041   \n",
       "54032     80.423777   3.148436         2.038929   -0.290281    -0.250530   \n",
       "54033     77.423777   0.148436         2.038929   -0.290281    -0.131161   \n",
       "54034     70.423777   3.148436         2.038929   -0.290281    -0.007812   \n",
       "\n",
       "       stem-width  stem-color    season  class  label  cluster  \n",
       "2835   297.656003    8.419417 -2.227332      1      1      2.0  \n",
       "2836   320.656003    8.419417 -2.172587      1      1      2.0  \n",
       "2837   322.656003    8.419417 -2.172587      1      1      2.0  \n",
       "2838   295.656003    8.419417 -2.172587      1      1      2.0  \n",
       "2839   329.656003    8.419417 -2.227332      1      1      2.0  \n",
       "...           ...         ...       ...    ...    ...      ...  \n",
       "54030  567.656003    9.419417 -2.172587      1      1      2.0  \n",
       "54031  488.656003    9.419417 -2.172587      1      1      2.0  \n",
       "54032  582.656003    9.419417 -2.227332      1      1      2.0  \n",
       "54033  489.656003    9.419417 -2.227332      1      1      2.0  \n",
       "54034  490.656003    9.419417 -2.227332      1      1      2.0  \n",
       "\n",
       "[21099 rows x 11 columns]"
      ]
     },
     "execution_count": 28,
     "metadata": {},
     "output_type": "execute_result"
    }
   ],
   "source": [
    "mushroom_data_df_kmeans[mushroom_data_df_kmeans['cluster'] == 2]"
   ]
  },
  {
   "cell_type": "code",
   "execution_count": 29,
   "id": "ec067a15-2351-4cd2-9891-dc1ab424e838",
   "metadata": {},
   "outputs": [],
   "source": [
    "positive_cluster = np.where(mean_per_cluster == np.max(mean_per_cluster))[0][0]"
   ]
  },
  {
   "cell_type": "code",
   "execution_count": 30,
   "id": "82b768e3-2706-4b69-b0c6-c02afb97a848",
   "metadata": {},
   "outputs": [
    {
     "data": {
      "text/plain": [
       "2"
      ]
     },
     "execution_count": 30,
     "metadata": {},
     "output_type": "execute_result"
    }
   ],
   "source": [
    "positive_cluster"
   ]
  },
  {
   "cell_type": "code",
   "execution_count": null,
   "id": "d5028fc4-85fc-4241-b668-b3912674d973",
   "metadata": {},
   "outputs": [],
   "source": []
  },
  {
   "cell_type": "code",
   "execution_count": null,
   "id": "4d3b4f10-af9d-45c9-ae8b-a0f2347e2d85",
   "metadata": {},
   "outputs": [],
   "source": []
  }
 ],
 "metadata": {
  "kernelspec": {
   "display_name": "Python 3 (ipykernel)",
   "language": "python",
   "name": "python3"
  },
  "language_info": {
   "codemirror_mode": {
    "name": "ipython",
    "version": 3
   },
   "file_extension": ".py",
   "mimetype": "text/x-python",
   "name": "python",
   "nbconvert_exporter": "python",
   "pygments_lexer": "ipython3",
   "version": "3.12.3"
  }
 },
 "nbformat": 4,
 "nbformat_minor": 5
}
