{
 "cells": [
  {
   "cell_type": "code",
   "execution_count": 1,
   "id": "c5f9db7f-7a84-44ce-9c59-2b9ab3f9572b",
   "metadata": {},
   "outputs": [],
   "source": [
    "import requests\n",
    "import numpy as np\n",
    "import pandas as pd\n",
    "import matplotlib.pyplot as plt\n",
    "from scipy.stats import multivariate_normal\n",
    "from sklearn.datasets import load_digits\n",
    "from scipy.stats import bernoulli\n",
    "from sklearn.svm import LinearSVC"
   ]
  },
  {
   "cell_type": "markdown",
   "id": "96b0d817-d42d-42cf-9af1-1f984bdcb6c0",
   "metadata": {},
   "source": [
    "Each positive example has the probability $e(x)$ of being selected to be labeled.\n",
    "\n",
    "And $e(x) = \\mathbb{P}(s=1 \\vert y=1,x)$. \n",
    "\n",
    "So we get that : $f_l = \\frac{e(x)}{c}f_+(x)$, which is a biased version of the positive density. c is the normalization constant, the $\\textit{label frequency}$, defined by $c=\\mathbb{P}(s=1 \\vert y=1)$.\n",
    "\n",
    "Class prior : $\\alpha = \\mathbb{P}(y=1)$\n",
    "\n",
    "$c=\\mathbb{P}(s=1 \\vert y=1)=\\frac{\\mathbb{P}(s=1,y=1)}{\\mathbb{P}(y=1)} = \\frac{\\mathbb{P}(s=1)}{\\mathbb{P}(y=1)} \\text{(by definition of PU)}$\n",
    "\n",
    "So in single training set scenario : $c=\\frac{\\mathbb{P}(s=1)}{\\alpha}$\n",
    "\n",
    "\n",
    "### So, first assumption : SCAR \n",
    "$e(x)=c$\n",
    "\n",
    "### Very common other assuption, SAR (selected at random)\n",
    "\n",
    "The probability of being labelled depends on attributes of a datapoint.\n",
    "\n",
    "Def : The labeled sample is a biased sample from the original distribution, and the bias only depends on the attributes and is defined by the propensity score $e(x)$, we have : $e(x) = \\mathbb{P}(s=1 \\vert x,y=1)$\n",
    "\n",
    "### Probabilistic gap : examples that resamble the negative ones are less likely to be labeled.\n",
    "\n",
    "Hence, the probability gap is defined by : $\\Delta \\mathbb{P} = \\mathbb{P}(y=1 \\vert x) - \\mathbb{P}(y=0 \\vert x)$.\n",
    "\n",
    "$\\rightarrow e(x) = f(\\Delta \\mathbb{P}(x)), \\frac{\\partial}{\\partial t}f(t) >0$\n",
    "\n",
    "\n",
    "### Assumption of separability is used in graph frameworks so might be good for material science. \n",
    "\n",
    "\n",
    "\n",
    "## Assumptions for an identifiable class prior $\\alpha$\n",
    "\n",
    "Separable classes, non overlapping distributions\n",
    "\n",
    "Positive subdomain, anchor\n",
    "\n",
    "Positive function separability\n",
    "\n",
    "Irreducibility\n",
    "\n",
    "\n",
    "\n",
    "\n"
   ]
  },
  {
   "cell_type": "code",
   "execution_count": 2,
   "id": "58f6b2bb-0e22-4033-856e-1758af845096",
   "metadata": {},
   "outputs": [],
   "source": [
    "#digits = load_digits(as_frame = True).data"
   ]
  },
  {
   "cell_type": "code",
   "execution_count": 3,
   "id": "1137ae88-c68c-4e02-8656-9e76ac571692",
   "metadata": {},
   "outputs": [],
   "source": [
    "mushroom_data_df = pd.read_csv('data/mushroom.csv', encoding = 'utf-8', engine = 'python')"
   ]
  },
  {
   "cell_type": "code",
   "execution_count": 4,
   "id": "54fc4c51-0590-4f09-8c3f-961096485442",
   "metadata": {},
   "outputs": [],
   "source": [
    "true_mushroom_data = mushroom_data_df\n",
    "for_class=mushroom_data_df['class']\n",
    "mushroom_data_df = mushroom_data_df.drop(['class'],axis=1)-mushroom_data_df.drop(['class'],axis=1).mean()/mushroom_data_df.drop(['class',],axis=1).std()\n",
    "\n",
    "\n"
   ]
  },
  {
   "cell_type": "code",
   "execution_count": 5,
   "id": "edb6e57a-08f4-4b80-b16a-42fd1d425274",
   "metadata": {},
   "outputs": [],
   "source": [
    "mushroom_data_df['class'] = for_class\n",
    "mushroom_data_df['label'] = mushroom_data_df['class']"
   ]
  },
  {
   "cell_type": "code",
   "execution_count": 6,
   "id": "f1709d26-f8b5-4935-b82f-ea83978d043e",
   "metadata": {},
   "outputs": [],
   "source": [
    "columns_to_use = mushroom_data_df.columns"
   ]
  },
  {
   "cell_type": "code",
   "execution_count": 7,
   "id": "efdea8d2-e622-4931-917b-4cbf23301c05",
   "metadata": {},
   "outputs": [],
   "source": [
    "mushroom_data = mushroom_data_df.to_numpy()"
   ]
  },
  {
   "cell_type": "code",
   "execution_count": 8,
   "id": "25f6b777-10c6-4712-9362-bec07ff6652f",
   "metadata": {},
   "outputs": [],
   "source": [
    "for i in range(mushroom_data.shape[0]):\n",
    "    random = bernoulli.rvs(p=1/2)\n",
    "    if mushroom_data[i,8] == 0:\n",
    "        mushroom_data[i,8] = 99\n",
    "    elif mushroom_data[i,8] == 1 and random == 1:\n",
    "        mushroom_data[i,8] = 99\n",
    "    elif mushroom_data[i,8] == 1 and random == 0:\n",
    "        mushroom_data[i,8] = 1"
   ]
  },
  {
   "cell_type": "markdown",
   "id": "53dfb24c-b720-4819-b51b-d575d46668a4",
   "metadata": {},
   "source": [
    "# First method : two-step method with k-means and iterative Linear-SVM"
   ]
  },
  {
   "cell_type": "code",
   "execution_count": 9,
   "id": "364903f2-8a67-4562-9126-b9e6b106a7f3",
   "metadata": {},
   "outputs": [],
   "source": [
    "mushroom_data_kmeans = mushroom_data"
   ]
  },
  {
   "cell_type": "code",
   "execution_count": 10,
   "id": "b5d77797-c93f-4b38-a29c-550b770ee29f",
   "metadata": {},
   "outputs": [],
   "source": [
    "def generalized_euclidian_dist_sq(x,y):\n",
    "    \"\"\"a function to calculate euclidian distance for any dimension\n",
    "\n",
    "    Parameters\n",
    "    ---------------------\n",
    "    x,y : array-like\n",
    "    the two vectors between which we want to calculate the euclidian distance\n",
    "    --------------------\n",
    "    \"\"\"\n",
    "    dimension = x.shape[0]\n",
    "    sum_of_squares = 0\n",
    "    for i in range(dimension):\n",
    "        sum_of_squares += (x[i]-y[i])**2\n",
    "    return sum_of_squares"
   ]
  },
  {
   "cell_type": "code",
   "execution_count": 11,
   "id": "59b8c547-250d-4fe7-8a10-72d9cd7b5939",
   "metadata": {},
   "outputs": [
    {
     "data": {
      "text/plain": [
       "(54035, 10)"
      ]
     },
     "execution_count": 11,
     "metadata": {},
     "output_type": "execute_result"
    }
   ],
   "source": [
    "mushroom_data_kmeans.shape"
   ]
  },
  {
   "cell_type": "code",
   "execution_count": 12,
   "id": "547851c8-248f-497b-a4d0-b48bfe54a00f",
   "metadata": {},
   "outputs": [
    {
     "data": {
      "text/plain": [
       "array([ 1.45942378e+03,  1.48435640e-01,  1.03892854e+00,  7.70971882e+00,\n",
       "        2.64134324e+00,  1.55565600e+03,  8.41941702e+00, -1.31150916e+00])"
      ]
     },
     "execution_count": 12,
     "metadata": {},
     "output_type": "execute_result"
    }
   ],
   "source": [
    "mushroom_data_kmeans[1,:8]"
   ]
  },
  {
   "cell_type": "code",
   "execution_count": 13,
   "id": "41cd503c-4835-4847-a692-4fd9d278c058",
   "metadata": {},
   "outputs": [],
   "source": [
    "iterations = 100\n",
    "k = 4"
   ]
  },
  {
   "cell_type": "code",
   "execution_count": 14,
   "id": "5fef650c-9c2f-40f7-833f-dd7b10848927",
   "metadata": {},
   "outputs": [],
   "source": [
    "centroids = np.random.uniform(low=0., high=3000, size=(k,8))"
   ]
  },
  {
   "cell_type": "code",
   "execution_count": 15,
   "id": "00488336-fddd-4a83-affd-9e1c980f887e",
   "metadata": {},
   "outputs": [
    {
     "data": {
      "text/html": [
       "<div>\n",
       "<style scoped>\n",
       "    .dataframe tbody tr th:only-of-type {\n",
       "        vertical-align: middle;\n",
       "    }\n",
       "\n",
       "    .dataframe tbody tr th {\n",
       "        vertical-align: top;\n",
       "    }\n",
       "\n",
       "    .dataframe thead th {\n",
       "        text-align: right;\n",
       "    }\n",
       "</style>\n",
       "<table border=\"1\" class=\"dataframe\">\n",
       "  <thead>\n",
       "    <tr style=\"text-align: right;\">\n",
       "      <th></th>\n",
       "      <th>cap-diameter</th>\n",
       "      <th>cap-shape</th>\n",
       "      <th>gill-attachment</th>\n",
       "      <th>gill-color</th>\n",
       "      <th>stem-height</th>\n",
       "      <th>stem-width</th>\n",
       "      <th>stem-color</th>\n",
       "      <th>season</th>\n",
       "      <th>class</th>\n",
       "      <th>label</th>\n",
       "    </tr>\n",
       "  </thead>\n",
       "  <tbody>\n",
       "    <tr>\n",
       "      <th>count</th>\n",
       "      <td>54035.000000</td>\n",
       "      <td>54035.000000</td>\n",
       "      <td>54035.000000</td>\n",
       "      <td>54035.000000</td>\n",
       "      <td>54035.000000</td>\n",
       "      <td>54035.000000</td>\n",
       "      <td>54035.000000</td>\n",
       "      <td>54035.000000</td>\n",
       "      <td>54035.000000</td>\n",
       "      <td>54035.000000</td>\n",
       "    </tr>\n",
       "    <tr>\n",
       "      <th>mean</th>\n",
       "      <td>565.680980</td>\n",
       "      <td>2.148750</td>\n",
       "      <td>1.180985</td>\n",
       "      <td>5.039227</td>\n",
       "      <td>-0.407014</td>\n",
       "      <td>1049.737302</td>\n",
       "      <td>5.837479</td>\n",
       "      <td>-2.163619</td>\n",
       "      <td>0.549181</td>\n",
       "      <td>0.549181</td>\n",
       "    </tr>\n",
       "    <tr>\n",
       "      <th>std</th>\n",
       "      <td>359.883763</td>\n",
       "      <td>2.160505</td>\n",
       "      <td>2.228821</td>\n",
       "      <td>3.200266</td>\n",
       "      <td>0.650969</td>\n",
       "      <td>782.056076</td>\n",
       "      <td>3.262078</td>\n",
       "      <td>0.305594</td>\n",
       "      <td>0.497580</td>\n",
       "      <td>0.497580</td>\n",
       "    </tr>\n",
       "    <tr>\n",
       "      <th>min</th>\n",
       "      <td>-1.576223</td>\n",
       "      <td>-1.851564</td>\n",
       "      <td>-0.961071</td>\n",
       "      <td>-2.290281</td>\n",
       "      <td>-1.165698</td>\n",
       "      <td>-1.343997</td>\n",
       "      <td>-2.580583</td>\n",
       "      <td>-3.088410</td>\n",
       "      <td>0.000000</td>\n",
       "      <td>0.000000</td>\n",
       "    </tr>\n",
       "    <tr>\n",
       "      <th>25%</th>\n",
       "      <td>287.423777</td>\n",
       "      <td>0.148436</td>\n",
       "      <td>-0.961071</td>\n",
       "      <td>2.709719</td>\n",
       "      <td>-0.895127</td>\n",
       "      <td>419.656003</td>\n",
       "      <td>3.419417</td>\n",
       "      <td>-2.227332</td>\n",
       "      <td>0.000000</td>\n",
       "      <td>0.000000</td>\n",
       "    </tr>\n",
       "    <tr>\n",
       "      <th>50%</th>\n",
       "      <td>523.423777</td>\n",
       "      <td>3.148436</td>\n",
       "      <td>0.038929</td>\n",
       "      <td>5.709719</td>\n",
       "      <td>-0.572828</td>\n",
       "      <td>921.656003</td>\n",
       "      <td>8.419417</td>\n",
       "      <td>-2.172587</td>\n",
       "      <td>1.000000</td>\n",
       "      <td>1.000000</td>\n",
       "    </tr>\n",
       "    <tr>\n",
       "      <th>75%</th>\n",
       "      <td>779.423777</td>\n",
       "      <td>4.148436</td>\n",
       "      <td>3.038929</td>\n",
       "      <td>7.709719</td>\n",
       "      <td>-0.111266</td>\n",
       "      <td>1521.656003</td>\n",
       "      <td>8.419417</td>\n",
       "      <td>-2.172587</td>\n",
       "      <td>1.000000</td>\n",
       "      <td>1.000000</td>\n",
       "    </tr>\n",
       "    <tr>\n",
       "      <th>max</th>\n",
       "      <td>1889.423777</td>\n",
       "      <td>4.148436</td>\n",
       "      <td>5.038929</td>\n",
       "      <td>8.709719</td>\n",
       "      <td>2.669196</td>\n",
       "      <td>3567.656003</td>\n",
       "      <td>9.419417</td>\n",
       "      <td>-1.311509</td>\n",
       "      <td>1.000000</td>\n",
       "      <td>1.000000</td>\n",
       "    </tr>\n",
       "  </tbody>\n",
       "</table>\n",
       "</div>"
      ],
      "text/plain": [
       "       cap-diameter     cap-shape  gill-attachment    gill-color  \\\n",
       "count  54035.000000  54035.000000     54035.000000  54035.000000   \n",
       "mean     565.680980      2.148750         1.180985      5.039227   \n",
       "std      359.883763      2.160505         2.228821      3.200266   \n",
       "min       -1.576223     -1.851564        -0.961071     -2.290281   \n",
       "25%      287.423777      0.148436        -0.961071      2.709719   \n",
       "50%      523.423777      3.148436         0.038929      5.709719   \n",
       "75%      779.423777      4.148436         3.038929      7.709719   \n",
       "max     1889.423777      4.148436         5.038929      8.709719   \n",
       "\n",
       "        stem-height    stem-width    stem-color        season         class  \\\n",
       "count  54035.000000  54035.000000  54035.000000  54035.000000  54035.000000   \n",
       "mean      -0.407014   1049.737302      5.837479     -2.163619      0.549181   \n",
       "std        0.650969    782.056076      3.262078      0.305594      0.497580   \n",
       "min       -1.165698     -1.343997     -2.580583     -3.088410      0.000000   \n",
       "25%       -0.895127    419.656003      3.419417     -2.227332      0.000000   \n",
       "50%       -0.572828    921.656003      8.419417     -2.172587      1.000000   \n",
       "75%       -0.111266   1521.656003      8.419417     -2.172587      1.000000   \n",
       "max        2.669196   3567.656003      9.419417     -1.311509      1.000000   \n",
       "\n",
       "              label  \n",
       "count  54035.000000  \n",
       "mean       0.549181  \n",
       "std        0.497580  \n",
       "min        0.000000  \n",
       "25%        0.000000  \n",
       "50%        1.000000  \n",
       "75%        1.000000  \n",
       "max        1.000000  "
      ]
     },
     "execution_count": 15,
     "metadata": {},
     "output_type": "execute_result"
    }
   ],
   "source": [
    "mushroom_data_df.describe()"
   ]
  },
  {
   "cell_type": "code",
   "execution_count": 16,
   "id": "90e07720-9a25-447f-97d5-fea90f26aa5b",
   "metadata": {},
   "outputs": [
    {
     "data": {
      "text/plain": [
       "1.0"
      ]
     },
     "execution_count": 16,
     "metadata": {},
     "output_type": "execute_result"
    }
   ],
   "source": [
    "list_of_max = mushroom_data_df.describe().loc['max']\n",
    "list_of_max.pop('label')\n",
    "list_of_max.pop('class')"
   ]
  },
  {
   "cell_type": "code",
   "execution_count": 17,
   "id": "18bcf002-3123-47bd-b96a-2979a8fccd28",
   "metadata": {},
   "outputs": [],
   "source": [
    "centroids = np.empty((k,8))\n",
    "position = 0\n",
    "for i in list_of_max:\n",
    "    component = np.random.uniform(low=0., high = i , size=k)\n",
    "    centroids[:,np.where(list_of_max == i)[0][0]] = component\n",
    "    position += 1\n"
   ]
  },
  {
   "cell_type": "code",
   "execution_count": 18,
   "id": "150a24f0-f897-4b5b-a9bb-522479110d68",
   "metadata": {},
   "outputs": [],
   "source": [
    "mushroom_data_df_algo = mushroom_data_df.drop(['label', 'class'], axis=1)"
   ]
  },
  {
   "cell_type": "code",
   "execution_count": 19,
   "id": "555c94c4-be02-41fd-9c0b-f212b69732cc",
   "metadata": {},
   "outputs": [],
   "source": [
    "mushroom_data_kmeans_train = mushroom_data_kmeans[:,:8]"
   ]
  },
  {
   "cell_type": "code",
   "execution_count": 20,
   "id": "277502a7-b684-4bbc-964f-dd5b26fee5b5",
   "metadata": {},
   "outputs": [],
   "source": [
    "distances = np.empty((mushroom_data_kmeans_train.shape[0], k))\n",
    "cluster_cat = np.empty((mushroom_data_kmeans_train.shape[0],1))"
   ]
  },
  {
   "cell_type": "code",
   "execution_count": 21,
   "id": "97ff0b42-0535-406c-a33b-a4dbcf2b108a",
   "metadata": {},
   "outputs": [],
   "source": [
    "n=0\n",
    "while n<=iterations:\n",
    "    #computation of weights\n",
    "    for cluster in range(k):\n",
    "        for i in range(mushroom_data_kmeans_train.shape[0]):\n",
    "            distances[i,cluster] = generalized_euclidian_dist_sq(x=mushroom_data_kmeans_train[i,:],\n",
    "                                                                 y=centroids[cluster,:])\n",
    "    #defining to which centroid each point is the closest\n",
    "    for i in range((mushroom_data_kmeans_train.shape[0])):\n",
    "        cluster_cat[i,0] = np.where(distances[i,:] == np.min(distances[i,:]))[0][0]\n",
    "    mushroom_data_df_algo['cluster'] = cluster_cat\n",
    "    centroids = mushroom_data_df_algo.groupby('cluster').mean().to_numpy()\n",
    "    n += 1"
   ]
  },
  {
   "cell_type": "code",
   "execution_count": 22,
   "id": "b113af9c-aa39-45dc-806d-749375a6e8fc",
   "metadata": {},
   "outputs": [],
   "source": [
    "distances_inter_clusters = np.empty((4,4))\n",
    "\n",
    "for i in range(4):\n",
    "    for j in range(4):\n",
    "        distances_inter_clusters[i,j] = generalized_euclidian_dist_sq(x=centroids[i,:],\n",
    "                                                                      y=centroids[j,:])\n",
    "\n"
   ]
  },
  {
   "cell_type": "code",
   "execution_count": 23,
   "id": "f475eb8a-e458-424a-a315-cd6b7287a026",
   "metadata": {},
   "outputs": [],
   "source": [
    "distances_inter_clusters_df = pd.DataFrame(distances_inter_clusters)"
   ]
  },
  {
   "cell_type": "code",
   "execution_count": 24,
   "id": "626f01b2-cc6a-4e5d-8527-bf9a610b588e",
   "metadata": {},
   "outputs": [
    {
     "data": {
      "text/html": [
       "<div>\n",
       "<style scoped>\n",
       "    .dataframe tbody tr th:only-of-type {\n",
       "        vertical-align: middle;\n",
       "    }\n",
       "\n",
       "    .dataframe tbody tr th {\n",
       "        vertical-align: top;\n",
       "    }\n",
       "\n",
       "    .dataframe thead th {\n",
       "        text-align: right;\n",
       "    }\n",
       "</style>\n",
       "<table border=\"1\" class=\"dataframe\">\n",
       "  <thead>\n",
       "    <tr style=\"text-align: right;\">\n",
       "      <th></th>\n",
       "      <th>0</th>\n",
       "      <th>1</th>\n",
       "      <th>2</th>\n",
       "      <th>3</th>\n",
       "    </tr>\n",
       "  </thead>\n",
       "  <tbody>\n",
       "    <tr>\n",
       "      <th>0</th>\n",
       "      <td>0.000000e+00</td>\n",
       "      <td>1.063587e+06</td>\n",
       "      <td>2.995154e+06</td>\n",
       "      <td>6.171473e+06</td>\n",
       "    </tr>\n",
       "    <tr>\n",
       "      <th>1</th>\n",
       "      <td>1.063587e+06</td>\n",
       "      <td>0.000000e+00</td>\n",
       "      <td>4.993770e+05</td>\n",
       "      <td>2.147180e+06</td>\n",
       "    </tr>\n",
       "    <tr>\n",
       "      <th>2</th>\n",
       "      <td>2.995154e+06</td>\n",
       "      <td>4.993770e+05</td>\n",
       "      <td>0.000000e+00</td>\n",
       "      <td>5.758150e+05</td>\n",
       "    </tr>\n",
       "    <tr>\n",
       "      <th>3</th>\n",
       "      <td>6.171473e+06</td>\n",
       "      <td>2.147180e+06</td>\n",
       "      <td>5.758150e+05</td>\n",
       "      <td>0.000000e+00</td>\n",
       "    </tr>\n",
       "  </tbody>\n",
       "</table>\n",
       "</div>"
      ],
      "text/plain": [
       "              0             1             2             3\n",
       "0  0.000000e+00  1.063587e+06  2.995154e+06  6.171473e+06\n",
       "1  1.063587e+06  0.000000e+00  4.993770e+05  2.147180e+06\n",
       "2  2.995154e+06  4.993770e+05  0.000000e+00  5.758150e+05\n",
       "3  6.171473e+06  2.147180e+06  5.758150e+05  0.000000e+00"
      ]
     },
     "execution_count": 24,
     "metadata": {},
     "output_type": "execute_result"
    }
   ],
   "source": [
    "distances_inter_clusters_df"
   ]
  },
  {
   "cell_type": "code",
   "execution_count": 25,
   "id": "c2756600-f0a4-41d6-8eef-5302773c68d7",
   "metadata": {},
   "outputs": [],
   "source": [
    "mushroom_data_df_kmeans = mushroom_data_df"
   ]
  },
  {
   "cell_type": "code",
   "execution_count": 26,
   "id": "8646596e-8cd3-4a1c-965c-e21cc0b894f7",
   "metadata": {},
   "outputs": [],
   "source": [
    "mushroom_data_df_kmeans['cluster'] = mushroom_data_df_algo['cluster']"
   ]
  },
  {
   "cell_type": "code",
   "execution_count": 27,
   "id": "c36194f2-2352-4521-824a-9c0864fb575a",
   "metadata": {},
   "outputs": [],
   "source": [
    "mean_per_cluster = mushroom_data_df_kmeans[['class','cluster']].groupby('cluster').mean().to_numpy()"
   ]
  },
  {
   "cell_type": "code",
   "execution_count": 28,
   "id": "b9e14b6e-e55e-49f4-a7df-61084f8efd04",
   "metadata": {},
   "outputs": [
    {
     "data": {
      "text/plain": [
       "array([[0.48402778],\n",
       "       [0.41116707],\n",
       "       [0.49086845],\n",
       "       [0.68557752]])"
      ]
     },
     "execution_count": 28,
     "metadata": {},
     "output_type": "execute_result"
    }
   ],
   "source": [
    "mean_per_cluster"
   ]
  },
  {
   "cell_type": "code",
   "execution_count": 29,
   "id": "ec067a15-2351-4cd2-9891-dc1ab424e838",
   "metadata": {},
   "outputs": [],
   "source": [
    "positive_cluster = np.where(mean_per_cluster == np.max(mean_per_cluster))[0][0]"
   ]
  },
  {
   "cell_type": "code",
   "execution_count": 30,
   "id": "82b768e3-2706-4b69-b0c6-c02afb97a848",
   "metadata": {},
   "outputs": [
    {
     "data": {
      "text/plain": [
       "3"
      ]
     },
     "execution_count": 30,
     "metadata": {},
     "output_type": "execute_result"
    }
   ],
   "source": [
    "positive_cluster"
   ]
  },
  {
   "cell_type": "code",
   "execution_count": 31,
   "id": "d5028fc4-85fc-4241-b668-b3912674d973",
   "metadata": {},
   "outputs": [
    {
     "data": {
      "text/plain": [
       "'we now know that the cluster that has the most probable true positive points is cluster 3'"
      ]
     },
     "execution_count": 31,
     "metadata": {},
     "output_type": "execute_result"
    }
   ],
   "source": [
    "f'we now know that the cluster that has the most probable true positive points is cluster {positive_cluster}'"
   ]
  },
  {
   "cell_type": "code",
   "execution_count": 32,
   "id": "4d3b4f10-af9d-45c9-ae8b-a0f2347e2d85",
   "metadata": {},
   "outputs": [],
   "source": [
    "true_negatives = np.where(distances_inter_clusters_df.to_numpy()[:,positive_cluster] == np.max(distances_inter_clusters_df.to_numpy()[:,3]))[0][0]"
   ]
  },
  {
   "cell_type": "code",
   "execution_count": 33,
   "id": "4cc7b9e7-95c4-4a06-a3d2-c3a28d4e5679",
   "metadata": {},
   "outputs": [
    {
     "data": {
      "text/plain": [
       "0"
      ]
     },
     "execution_count": 33,
     "metadata": {},
     "output_type": "execute_result"
    }
   ],
   "source": [
    "true_negatives"
   ]
  },
  {
   "cell_type": "code",
   "execution_count": 34,
   "id": "3bb57f4b-bc9a-4efa-961e-d020e562cdf0",
   "metadata": {},
   "outputs": [],
   "source": [
    "mushroom_data_iterative_svm = pd.DataFrame(mushroom_data_kmeans)\n",
    "mushroom_data_iterative_svm.columns = columns_to_use\n",
    "mushroom_data_iterative_svm['cluster'] = mushroom_data_df_algo['cluster']\n"
   ]
  },
  {
   "cell_type": "code",
   "execution_count": 35,
   "id": "73d295f6-4f16-435c-9a1e-e788737a1829",
   "metadata": {},
   "outputs": [],
   "source": [
    "mushroom_data_iterative_svm['class'] = np.zeros((mushroom_data_iterative_svm.shape[0]))\n",
    "for i in range(mushroom_data_iterative_svm.shape[0]):\n",
    "    if mushroom_data_df_kmeans.loc[i,'cluster'] == true_negatives :\n",
    "        mushroom_data_iterative_svm.loc[i,'class'] = 0\n",
    "    elif mushroom_data_iterative_svm.loc[i,'cluster'] == positive_cluster:\n",
    "        mushroom_data_iterative_svm.loc[i,'class'] = 1\n",
    "    elif mushroom_data_iterative_svm.loc[i,'label'] == 0:\n",
    "        mushroom_data_iterative_svm.loc[i,'class'] = 99"
   ]
  },
  {
   "cell_type": "code",
   "execution_count": 36,
   "id": "e210fd39-9c43-4c7b-b159-ed70bdf32549",
   "metadata": {},
   "outputs": [],
   "source": [
    "X_train = mushroom_data_iterative_svm[mushroom_data_iterative_svm[\"class\"].isin([1,0])].drop(['label','cluster','class'],axis = 1).to_numpy()\n",
    "y_train = mushroom_data_iterative_svm[mushroom_data_iterative_svm[\"class\"].isin([1,0])]['class'].to_numpy()\n",
    "\n",
    "\n",
    "#class_23 = titanic[titanic[\"Pclass\"].isin([2, 3])]"
   ]
  },
  {
   "cell_type": "code",
   "execution_count": 37,
   "id": "1911187f-aeec-42f2-886a-0c4ccdc430e1",
   "metadata": {},
   "outputs": [
    {
     "data": {
      "text/html": [
       "<div>\n",
       "<style scoped>\n",
       "    .dataframe tbody tr th:only-of-type {\n",
       "        vertical-align: middle;\n",
       "    }\n",
       "\n",
       "    .dataframe tbody tr th {\n",
       "        vertical-align: top;\n",
       "    }\n",
       "\n",
       "    .dataframe thead tr th {\n",
       "        text-align: left;\n",
       "    }\n",
       "\n",
       "    .dataframe thead tr:last-of-type th {\n",
       "        text-align: right;\n",
       "    }\n",
       "</style>\n",
       "<table border=\"1\" class=\"dataframe\">\n",
       "  <thead>\n",
       "    <tr>\n",
       "      <th></th>\n",
       "      <th colspan=\"8\" halign=\"left\">cap-diameter</th>\n",
       "      <th colspan=\"2\" halign=\"left\">cap-shape</th>\n",
       "      <th>...</th>\n",
       "      <th colspan=\"2\" halign=\"left\">label</th>\n",
       "      <th colspan=\"8\" halign=\"left\">cluster</th>\n",
       "    </tr>\n",
       "    <tr>\n",
       "      <th></th>\n",
       "      <th>count</th>\n",
       "      <th>mean</th>\n",
       "      <th>std</th>\n",
       "      <th>min</th>\n",
       "      <th>25%</th>\n",
       "      <th>50%</th>\n",
       "      <th>75%</th>\n",
       "      <th>max</th>\n",
       "      <th>count</th>\n",
       "      <th>mean</th>\n",
       "      <th>...</th>\n",
       "      <th>75%</th>\n",
       "      <th>max</th>\n",
       "      <th>count</th>\n",
       "      <th>mean</th>\n",
       "      <th>std</th>\n",
       "      <th>min</th>\n",
       "      <th>25%</th>\n",
       "      <th>50%</th>\n",
       "      <th>75%</th>\n",
       "      <th>max</th>\n",
       "    </tr>\n",
       "    <tr>\n",
       "      <th>class</th>\n",
       "      <th></th>\n",
       "      <th></th>\n",
       "      <th></th>\n",
       "      <th></th>\n",
       "      <th></th>\n",
       "      <th></th>\n",
       "      <th></th>\n",
       "      <th></th>\n",
       "      <th></th>\n",
       "      <th></th>\n",
       "      <th></th>\n",
       "      <th></th>\n",
       "      <th></th>\n",
       "      <th></th>\n",
       "      <th></th>\n",
       "      <th></th>\n",
       "      <th></th>\n",
       "      <th></th>\n",
       "      <th></th>\n",
       "      <th></th>\n",
       "      <th></th>\n",
       "    </tr>\n",
       "  </thead>\n",
       "  <tbody>\n",
       "    <tr>\n",
       "      <th>0.0</th>\n",
       "      <td>18182.0</td>\n",
       "      <td>821.349142</td>\n",
       "      <td>327.724063</td>\n",
       "      <td>158.423777</td>\n",
       "      <td>599.423777</td>\n",
       "      <td>756.423777</td>\n",
       "      <td>998.423777</td>\n",
       "      <td>1889.423777</td>\n",
       "      <td>18182.0</td>\n",
       "      <td>2.460668</td>\n",
       "      <td>...</td>\n",
       "      <td>1.0</td>\n",
       "      <td>1.0</td>\n",
       "      <td>18182.0</td>\n",
       "      <td>1.105984</td>\n",
       "      <td>0.853455</td>\n",
       "      <td>0.0</td>\n",
       "      <td>0.0</td>\n",
       "      <td>1.0</td>\n",
       "      <td>2.0</td>\n",
       "      <td>2.0</td>\n",
       "    </tr>\n",
       "    <tr>\n",
       "      <th>1.0</th>\n",
       "      <td>21099.0</td>\n",
       "      <td>244.824507</td>\n",
       "      <td>136.282968</td>\n",
       "      <td>-1.576223</td>\n",
       "      <td>120.423777</td>\n",
       "      <td>252.423777</td>\n",
       "      <td>339.423777</td>\n",
       "      <td>699.423777</td>\n",
       "      <td>21099.0</td>\n",
       "      <td>1.461341</td>\n",
       "      <td>...</td>\n",
       "      <td>1.0</td>\n",
       "      <td>1.0</td>\n",
       "      <td>21099.0</td>\n",
       "      <td>3.000000</td>\n",
       "      <td>0.000000</td>\n",
       "      <td>3.0</td>\n",
       "      <td>3.0</td>\n",
       "      <td>3.0</td>\n",
       "      <td>3.0</td>\n",
       "      <td>3.0</td>\n",
       "    </tr>\n",
       "    <tr>\n",
       "      <th>99.0</th>\n",
       "      <td>14754.0</td>\n",
       "      <td>709.451633</td>\n",
       "      <td>258.805979</td>\n",
       "      <td>170.423777</td>\n",
       "      <td>529.423777</td>\n",
       "      <td>675.423777</td>\n",
       "      <td>854.423777</td>\n",
       "      <td>1802.423777</td>\n",
       "      <td>14754.0</td>\n",
       "      <td>2.747392</td>\n",
       "      <td>...</td>\n",
       "      <td>0.0</td>\n",
       "      <td>0.0</td>\n",
       "      <td>14754.0</td>\n",
       "      <td>1.540396</td>\n",
       "      <td>0.498382</td>\n",
       "      <td>1.0</td>\n",
       "      <td>1.0</td>\n",
       "      <td>2.0</td>\n",
       "      <td>2.0</td>\n",
       "      <td>2.0</td>\n",
       "    </tr>\n",
       "  </tbody>\n",
       "</table>\n",
       "<p>3 rows × 80 columns</p>\n",
       "</div>"
      ],
      "text/plain": [
       "      cap-diameter                                                  \\\n",
       "             count        mean         std         min         25%   \n",
       "class                                                                \n",
       "0.0        18182.0  821.349142  327.724063  158.423777  599.423777   \n",
       "1.0        21099.0  244.824507  136.282968   -1.576223  120.423777   \n",
       "99.0       14754.0  709.451633  258.805979  170.423777  529.423777   \n",
       "\n",
       "                                           cap-shape            ... label  \\\n",
       "              50%         75%          max     count      mean  ...   75%   \n",
       "class                                                           ...         \n",
       "0.0    756.423777  998.423777  1889.423777   18182.0  2.460668  ...   1.0   \n",
       "1.0    252.423777  339.423777   699.423777   21099.0  1.461341  ...   1.0   \n",
       "99.0   675.423777  854.423777  1802.423777   14754.0  2.747392  ...   0.0   \n",
       "\n",
       "            cluster                                               \n",
       "       max    count      mean       std  min  25%  50%  75%  max  \n",
       "class                                                             \n",
       "0.0    1.0  18182.0  1.105984  0.853455  0.0  0.0  1.0  2.0  2.0  \n",
       "1.0    1.0  21099.0  3.000000  0.000000  3.0  3.0  3.0  3.0  3.0  \n",
       "99.0   0.0  14754.0  1.540396  0.498382  1.0  1.0  2.0  2.0  2.0  \n",
       "\n",
       "[3 rows x 80 columns]"
      ]
     },
     "execution_count": 37,
     "metadata": {},
     "output_type": "execute_result"
    }
   ],
   "source": [
    "mushroom_data_iterative_svm.groupby('class').describe()"
   ]
  },
  {
   "cell_type": "code",
   "execution_count": 38,
   "id": "5e63ae7c-359f-4fc5-b1f7-27da831fb110",
   "metadata": {},
   "outputs": [],
   "source": [
    "first_svc = LinearSVC().fit(X=X_train,y=y_train)"
   ]
  },
  {
   "cell_type": "code",
   "execution_count": 39,
   "id": "75713131-038c-4bf3-8ba7-bff8d84fec87",
   "metadata": {},
   "outputs": [
    {
     "data": {
      "text/html": [
       "<div>\n",
       "<style scoped>\n",
       "    .dataframe tbody tr th:only-of-type {\n",
       "        vertical-align: middle;\n",
       "    }\n",
       "\n",
       "    .dataframe tbody tr th {\n",
       "        vertical-align: top;\n",
       "    }\n",
       "\n",
       "    .dataframe thead th {\n",
       "        text-align: right;\n",
       "    }\n",
       "</style>\n",
       "<table border=\"1\" class=\"dataframe\">\n",
       "  <thead>\n",
       "    <tr style=\"text-align: right;\">\n",
       "      <th></th>\n",
       "      <th>cap-diameter</th>\n",
       "      <th>cap-shape</th>\n",
       "      <th>gill-attachment</th>\n",
       "      <th>gill-color</th>\n",
       "      <th>stem-height</th>\n",
       "      <th>stem-width</th>\n",
       "      <th>stem-color</th>\n",
       "      <th>season</th>\n",
       "      <th>class</th>\n",
       "    </tr>\n",
       "  </thead>\n",
       "  <tbody>\n",
       "    <tr>\n",
       "      <th>0</th>\n",
       "      <td>1372</td>\n",
       "      <td>2</td>\n",
       "      <td>2</td>\n",
       "      <td>10</td>\n",
       "      <td>3.807467</td>\n",
       "      <td>1545</td>\n",
       "      <td>11</td>\n",
       "      <td>1.804273</td>\n",
       "      <td>1</td>\n",
       "    </tr>\n",
       "    <tr>\n",
       "      <th>1</th>\n",
       "      <td>1461</td>\n",
       "      <td>2</td>\n",
       "      <td>2</td>\n",
       "      <td>10</td>\n",
       "      <td>3.807467</td>\n",
       "      <td>1557</td>\n",
       "      <td>11</td>\n",
       "      <td>1.804273</td>\n",
       "      <td>1</td>\n",
       "    </tr>\n",
       "    <tr>\n",
       "      <th>2</th>\n",
       "      <td>1371</td>\n",
       "      <td>2</td>\n",
       "      <td>2</td>\n",
       "      <td>10</td>\n",
       "      <td>3.612496</td>\n",
       "      <td>1566</td>\n",
       "      <td>11</td>\n",
       "      <td>1.804273</td>\n",
       "      <td>1</td>\n",
       "    </tr>\n",
       "    <tr>\n",
       "      <th>3</th>\n",
       "      <td>1261</td>\n",
       "      <td>6</td>\n",
       "      <td>2</td>\n",
       "      <td>10</td>\n",
       "      <td>3.787572</td>\n",
       "      <td>1566</td>\n",
       "      <td>11</td>\n",
       "      <td>1.804273</td>\n",
       "      <td>1</td>\n",
       "    </tr>\n",
       "    <tr>\n",
       "      <th>4</th>\n",
       "      <td>1305</td>\n",
       "      <td>6</td>\n",
       "      <td>2</td>\n",
       "      <td>10</td>\n",
       "      <td>3.711971</td>\n",
       "      <td>1464</td>\n",
       "      <td>11</td>\n",
       "      <td>0.943195</td>\n",
       "      <td>1</td>\n",
       "    </tr>\n",
       "    <tr>\n",
       "      <th>...</th>\n",
       "      <td>...</td>\n",
       "      <td>...</td>\n",
       "      <td>...</td>\n",
       "      <td>...</td>\n",
       "      <td>...</td>\n",
       "      <td>...</td>\n",
       "      <td>...</td>\n",
       "      <td>...</td>\n",
       "      <td>...</td>\n",
       "    </tr>\n",
       "    <tr>\n",
       "      <th>54030</th>\n",
       "      <td>73</td>\n",
       "      <td>5</td>\n",
       "      <td>3</td>\n",
       "      <td>2</td>\n",
       "      <td>0.887740</td>\n",
       "      <td>569</td>\n",
       "      <td>12</td>\n",
       "      <td>0.943195</td>\n",
       "      <td>1</td>\n",
       "    </tr>\n",
       "    <tr>\n",
       "      <th>54031</th>\n",
       "      <td>82</td>\n",
       "      <td>2</td>\n",
       "      <td>3</td>\n",
       "      <td>2</td>\n",
       "      <td>1.186164</td>\n",
       "      <td>490</td>\n",
       "      <td>12</td>\n",
       "      <td>0.943195</td>\n",
       "      <td>1</td>\n",
       "    </tr>\n",
       "    <tr>\n",
       "      <th>54032</th>\n",
       "      <td>82</td>\n",
       "      <td>5</td>\n",
       "      <td>3</td>\n",
       "      <td>2</td>\n",
       "      <td>0.915593</td>\n",
       "      <td>584</td>\n",
       "      <td>12</td>\n",
       "      <td>0.888450</td>\n",
       "      <td>1</td>\n",
       "    </tr>\n",
       "    <tr>\n",
       "      <th>54033</th>\n",
       "      <td>79</td>\n",
       "      <td>2</td>\n",
       "      <td>3</td>\n",
       "      <td>2</td>\n",
       "      <td>1.034963</td>\n",
       "      <td>491</td>\n",
       "      <td>12</td>\n",
       "      <td>0.888450</td>\n",
       "      <td>1</td>\n",
       "    </tr>\n",
       "    <tr>\n",
       "      <th>54034</th>\n",
       "      <td>72</td>\n",
       "      <td>5</td>\n",
       "      <td>3</td>\n",
       "      <td>2</td>\n",
       "      <td>1.158311</td>\n",
       "      <td>492</td>\n",
       "      <td>12</td>\n",
       "      <td>0.888450</td>\n",
       "      <td>1</td>\n",
       "    </tr>\n",
       "  </tbody>\n",
       "</table>\n",
       "<p>54035 rows × 9 columns</p>\n",
       "</div>"
      ],
      "text/plain": [
       "       cap-diameter  cap-shape  gill-attachment  gill-color  stem-height  \\\n",
       "0              1372          2                2          10     3.807467   \n",
       "1              1461          2                2          10     3.807467   \n",
       "2              1371          2                2          10     3.612496   \n",
       "3              1261          6                2          10     3.787572   \n",
       "4              1305          6                2          10     3.711971   \n",
       "...             ...        ...              ...         ...          ...   \n",
       "54030            73          5                3           2     0.887740   \n",
       "54031            82          2                3           2     1.186164   \n",
       "54032            82          5                3           2     0.915593   \n",
       "54033            79          2                3           2     1.034963   \n",
       "54034            72          5                3           2     1.158311   \n",
       "\n",
       "       stem-width  stem-color    season  class  \n",
       "0            1545          11  1.804273      1  \n",
       "1            1557          11  1.804273      1  \n",
       "2            1566          11  1.804273      1  \n",
       "3            1566          11  1.804273      1  \n",
       "4            1464          11  0.943195      1  \n",
       "...           ...         ...       ...    ...  \n",
       "54030         569          12  0.943195      1  \n",
       "54031         490          12  0.943195      1  \n",
       "54032         584          12  0.888450      1  \n",
       "54033         491          12  0.888450      1  \n",
       "54034         492          12  0.888450      1  \n",
       "\n",
       "[54035 rows x 9 columns]"
      ]
     },
     "execution_count": 39,
     "metadata": {},
     "output_type": "execute_result"
    }
   ],
   "source": [
    "true_mushroom_data"
   ]
  },
  {
   "cell_type": "code",
   "execution_count": 40,
   "id": "7f918656-80cb-406e-ad55-55107a0f396f",
   "metadata": {},
   "outputs": [],
   "source": [
    "prediction_1 = first_svc.predict(mushroom_data_df.drop(['class','label', 'cluster'], axis=1).to_numpy()) "
   ]
  },
  {
   "cell_type": "code",
   "execution_count": 41,
   "id": "0a7685a1-5037-4c6a-9c92-6d9de5d20605",
   "metadata": {},
   "outputs": [
    {
     "name": "stdout",
     "output_type": "stream",
     "text": [
      "the accurate predictions represent : 60.15360414546127 \n",
      " the error rate is : 39.84639585453873\n"
     ]
    }
   ],
   "source": [
    "well_classified = 0\n",
    "error = 0\n",
    "for i in range(mushroom_data_df.shape[0]):\n",
    "    if mushroom_data_df.loc[i,'label'] == prediction_1[i]:\n",
    "        well_classified+=1\n",
    "    else:\n",
    "        error+=1\n",
    "print('the accurate predictions represent :', (well_classified*100)/mushroom_data_df.shape[0], '\\n',\n",
    "      'the error rate is :', (error*100)/mushroom_data_df.shape[0])"
   ]
  },
  {
   "cell_type": "markdown",
   "id": "feda85d6-7a31-4aeb-b29f-03217172f6bb",
   "metadata": {},
   "source": [
    "There is still a certain imprecision, but now let's try to implement the iterative aspect of the two step technique with the svm."
   ]
  },
  {
   "cell_type": "code",
   "execution_count": 42,
   "id": "9499ba6b-4b7c-4719-b230-cc906217ed31",
   "metadata": {},
   "outputs": [],
   "source": [
    "iterations_svm = 100"
   ]
  },
  {
   "cell_type": "code",
   "execution_count": 43,
   "id": "9bde5c6d-e741-4eff-945b-5033d14d4c25",
   "metadata": {},
   "outputs": [],
   "source": [
    "count_svm = 0\n",
    "X_svm = X_train\n",
    "y_svm = y_train\n",
    "while count_svm<=iterations_svm:\n",
    "    count_svm+=1\n",
    "    svm = LinearSVC().fit(X=X_svm,y=y_svm)\n",
    "    predictions_svm = svm.predict(mushroom_data_df.drop(['class','label', 'cluster'], axis=1).to_numpy())\n",
    "    for i in range(mushroom_data_iterative_svm.shape[0]):\n",
    "        if predictions_svm[i] == 0:\n",
    "            mushroom_data_iterative_svm.loc[i,'class'] = 0\n",
    "        elif predictions_svm[i] == 1:\n",
    "            mushroom_data_iterative_svm.loc[i,'class'] = 1\n",
    "    X_svm = mushroom_data_iterative_svm[mushroom_data_iterative_svm[\"class\"].isin([1,0])].drop(['label','cluster','class'],axis = 1).to_numpy()\n",
    "    y_svm = mushroom_data_iterative_svm[mushroom_data_iterative_svm[\"class\"].isin([1,0])]['class'].to_numpy()\n",
    "\n",
    "\n",
    "\n",
    "\n"
   ]
  },
  {
   "cell_type": "code",
   "execution_count": 44,
   "id": "98cb6032-a0b9-43a7-afd0-a6e4379b7e0b",
   "metadata": {},
   "outputs": [
    {
     "name": "stdout",
     "output_type": "stream",
     "text": [
      "the accurate predictions represent : 58.917368372351255 \n",
      " the error rate is : 41.082631627648745\n"
     ]
    }
   ],
   "source": [
    "well_classified_svm_final = 0\n",
    "error_svm_final = 0\n",
    "for i in range(mushroom_data_df.shape[0]):\n",
    "    if mushroom_data_df.loc[i,'label'] == predictions_svm[i]:\n",
    "        well_classified_svm_final+=1\n",
    "    else:\n",
    "        error_svm_final+=1\n",
    "print('the accurate predictions represent :', (well_classified_svm_final*100)/mushroom_data_df.shape[0], '\\n',\n",
    "      'the error rate is :', (error_svm_final*100)/mushroom_data_df.shape[0])"
   ]
  },
  {
   "cell_type": "markdown",
   "id": "0a950dbc-ce7d-496d-b90f-6bd36a39ed89",
   "metadata": {},
   "source": [
    "It's problematic that it worsens with the number of iterations.\n",
    "\n",
    "Maybe try another clustering technique and better adaptation of the predictions because this is verry strange (i probably made a mistake somewhere)."
   ]
  },
  {
   "cell_type": "code",
   "execution_count": null,
   "id": "8199be24-cb23-4c2f-adea-5f5124c159cf",
   "metadata": {},
   "outputs": [],
   "source": []
  }
 ],
 "metadata": {
  "kernelspec": {
   "display_name": "Python 3 (ipykernel)",
   "language": "python",
   "name": "python3"
  },
  "language_info": {
   "codemirror_mode": {
    "name": "ipython",
    "version": 3
   },
   "file_extension": ".py",
   "mimetype": "text/x-python",
   "name": "python",
   "nbconvert_exporter": "python",
   "pygments_lexer": "ipython3",
   "version": "3.12.3"
  }
 },
 "nbformat": 4,
 "nbformat_minor": 5
}
