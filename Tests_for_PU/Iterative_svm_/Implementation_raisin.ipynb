{
 "cells": [
  {
   "cell_type": "code",
   "execution_count": 1,
   "id": "f933ccea-9437-4fdd-984b-02d19fe371fb",
   "metadata": {},
   "outputs": [],
   "source": [
    "import numpy as np\n",
    "import pandas as pd\n",
    "import matplotlib.pyplot as plt\n",
    "from scipy.stats import bernoulli\n",
    "from sklearn.cluster import KMeans\n",
    "from sklearn.preprocessing import StandardScaler\n",
    "from tqdm import tqdm\n",
    "from sklearn.svm import SVC"
   ]
  },
  {
   "cell_type": "code",
   "execution_count": 2,
   "id": "74266e5a-3c72-44c8-9d0a-d3a98b925cf1",
   "metadata": {},
   "outputs": [],
   "source": [
    "def rbf(x,y,l=1):\n",
    "    \"\"\"Gaussian kernel\n",
    "\n",
    "    Parameters\n",
    "    -------------------------------\n",
    "    x : float\n",
    "    a real number\n",
    "\n",
    "    y : float\n",
    "    a real number\n",
    "\n",
    "    l: float, non zero\n",
    "    a scale parameter\n",
    "    -------------------------------\n",
    "    \"\"\"\n",
    "    dim = x.shape[0]\n",
    "    vect = np.empty(dim)\n",
    "    if dim == y.shape[0]  :\n",
    "        d = np.exp(-((np.linalg.norm(x-y)))/(2*(l**2)))\n",
    "        return d\n",
    "    else :\n",
    "        for i in range(dim):\n",
    "            vect[i] = np.exp(-((np.linalg.norm(x[i] - y)))/(2*(l**2)))\n",
    "        return vect"
   ]
  },
  {
   "cell_type": "code",
   "execution_count": 3,
   "id": "16d99a1a-d474-4de6-a804-9e6ac30487a2",
   "metadata": {},
   "outputs": [],
   "source": [
    "raisin_whole = pd.read_csv('raisin.csv')\n",
    "raisin = raisin_whole.sample(frac=0.8)\n",
    "list_train = raisin.index.copy()\n",
    "list_test = []\n",
    "for i in raisin_whole.index:\n",
    "    if i not in list_train:\n",
    "        list_test.append(i)\n",
    "raisin_test = raisin_whole.filter(items=list_test, axis=0)\n",
    "\n",
    "raisin = raisin.reset_index(drop=True)\n",
    "raisin_test = raisin_test.reset_index(drop=True)"
   ]
  },
  {
   "cell_type": "code",
   "execution_count": 4,
   "id": "cd98ecb2-4add-4199-bc21-2c93200502ba",
   "metadata": {},
   "outputs": [
    {
     "name": "stderr",
     "output_type": "stream",
     "text": [
      "/tmp/ipykernel_2366/1824890800.py:3: FutureWarning: Downcasting behavior in `replace` is deprecated and will be removed in a future version. To retain the old behavior, explicitly call `result.infer_objects(copy=False)`. To opt-in to the future behavior, set `pd.set_option('future.no_silent_downcasting', True)`\n",
      "  raisin = raisin.replace('Besni', -1)\n"
     ]
    }
   ],
   "source": [
    "n_samples = raisin.shape[0]\n",
    "raisin = raisin.replace('Kecimen', 1)\n",
    "raisin = raisin.replace('Besni', -1)"
   ]
  },
  {
   "cell_type": "code",
   "execution_count": 5,
   "id": "e35a2299-f77d-41ca-8e3b-9dddccc52cf2",
   "metadata": {},
   "outputs": [],
   "source": [
    "raisin.columns = ['area', 'maj_length','min_length', 'eccentricity','convex','extent',\n",
    "                  'perimeter','class']\n",
    "class_kept = raisin['class']"
   ]
  },
  {
   "cell_type": "code",
   "execution_count": 6,
   "id": "1ce77618-7361-44b4-abfc-271f73af027c",
   "metadata": {},
   "outputs": [],
   "source": [
    "raisin_positive = raisin[raisin['class'] == 1]\n",
    "raisin_negative = raisin[raisin['class'] == -1]\n",
    "#First, the cluster step, to 'initialize' the labels, and the creation of unlabeled data\n",
    "raisin_copy = raisin.drop(['class'], axis=1)\n",
    "raisin_copy = StandardScaler().fit_transform(X=raisin_copy)\n",
    "n_samples = raisin.shape[0]\n",
    "raisin = pd.DataFrame(raisin_copy)\n",
    "raisin.columns = ['area', 'maj_length','min_length', 'eccentricity','convex','extent',\n",
    "                  'perimeter']\n",
    "raisin['class'] = class_kept \n",
    "raisin['label'] = np.ones(n_samples)*(-1)\n",
    "\n",
    "for i in range(n_samples):\n",
    "    random = bernoulli.rvs(p=3/4)\n",
    "    if raisin.loc[i,'class'] == 1 and random == 0:\n",
    "        raisin.loc[i,'label'] = 1\n",
    "    else:\n",
    "        raisin.loc[i,'label'] = -1\n",
    "\n",
    "labels_ref = raisin['label'].copy().to_numpy()\n",
    "\n",
    "mean_positive_labels = raisin.drop(['class'], axis=1)[raisin['label'] == 1].to_numpy()[:,:7].mean(axis=0)\n",
    "centroid_2 = -mean_positive_labels\n",
    "centroid_3 = np.zeros(7)\n",
    "centroid_4 = np.ones(7)\n",
    "initial_points = np.vstack((mean_positive_labels,centroid_2,centroid_3,centroid_4))\n",
    "\n",
    "n_cluster = 4\n",
    "clusterized_data = KMeans(n_clusters=n_cluster, init=initial_points).fit(raisin_copy)\n",
    "raisin['cluster'] = clusterized_data.labels_\n",
    "\n",
    "\n",
    "for i in range(n_samples):\n",
    "    if raisin.loc[i,'label'] == 1:\n",
    "        raisin.loc[i,'label'] = 1\n",
    "    else:\n",
    "        raisin.loc[i,'label'] = 0\n",
    "positive_cluster = np.argmax(raisin[['label','cluster']].groupby('cluster').sum().to_numpy())\n",
    "\n",
    "list_dist = np.zeros(n_cluster)\n",
    "for i in range(n_cluster):\n",
    "    list_dist[i] = np.linalg.norm(positive_cluster-clusterized_data.cluster_centers_[i,:])\n",
    "negative_cluster = np.argmax(list_dist)\n",
    "\n",
    "raisin['label'] = labels_ref\n",
    "reliable_positives = raisin[raisin['cluster'] == positive_cluster]\n",
    "reliable_positives = reliable_positives[reliable_positives['label'] == 1]\n",
    "reliable_negatives = raisin[raisin['cluster'] == negative_cluster]\n",
    "reliable_negatives = reliable_negatives[reliable_negatives['label'] == -1]"
   ]
  },
  {
   "cell_type": "code",
   "execution_count": 7,
   "id": "cabb0c72-6a1a-4e1d-92a3-ee589e2f4be0",
   "metadata": {},
   "outputs": [
    {
     "name": "stderr",
     "output_type": "stream",
     "text": [
      "100%|██████████| 720/720 [00:00<00:00, 1583.40it/s]\n"
     ]
    }
   ],
   "source": [
    "#first svm part\n",
    "gamma = 1\n",
    "positives_array = reliable_positives.drop(['class','cluster'], axis=1)\n",
    "negatives_array = reliable_negatives.drop(['class', 'cluster'], axis=1)\n",
    "data_svm = np.vstack((positives_array,negatives_array))\n",
    "n_reliable = data_svm.shape[0]\n",
    "outcome = data_svm[:,7]\n",
    "data_svm = data_svm[:,:7]\n",
    "omega = np.zeros((n_reliable,n_reliable))\n",
    "for k in range(n_reliable):\n",
    "    for i in range(k,n_reliable):\n",
    "        omega[k,i] = outcome[k]*outcome[i]*rbf(x=data_svm[k,:],y=data_svm[i,:])\n",
    "omega_t = np.transpose(omega)\n",
    "omega = omega_t + omega\n",
    "for i in range(n_reliable):\n",
    "    omega[i,i] = 1\n",
    "\n",
    "\n",
    "#now, computation of the rest of the matrix\n",
    "first_row = np.hstack((0,-np.transpose(outcome)))\n",
    "first_row = first_row.reshape(1,first_row.shape[0])\n",
    "bot_of_mat_right = omega + (1/gamma)*np.eye(n_reliable)\n",
    "bot_of_mat = np.hstack((outcome.reshape(n_reliable,1), bot_of_mat_right))\n",
    "whole_mat = np.vstack((first_row, bot_of_mat))\n",
    "right_hand = np.ones(n_reliable+1)\n",
    "right_hand[0] = 0\n",
    "\n",
    "#we get the coefficients\n",
    "coeffs = np.linalg.solve(a=whole_mat,b=right_hand)\n",
    "b = coeffs[0]\n",
    "alpha = coeffs[1:coeffs.shape[0]]\n",
    "\n",
    "#now we compute the wt \\phi(x) and then we order them \n",
    "test_data = raisin.drop(['class','label','cluster'], axis=1).to_numpy()\n",
    "results = np.empty(n_samples)\n",
    "for i in tqdm(range(n_samples)):\n",
    "    results[i] = np.sum(alpha*outcome*rbf(x=data_svm,y=test_data[i,:]))\n",
    "sorted_results = np.sort(results)\n",
    "good_ratio = int(n_samples/2)\n",
    "b = sorted_results[good_ratio]\n",
    "\n",
    "last_results = np.empty(n_samples)\n",
    "for i in range(n_samples):\n",
    "    last_results[i] = np.sign(results[i] - b)\n",
    "\n",
    "raisin['it_results'] = last_results\n",
    "correct_with_b = 0\n",
    "for i in range(reliable_positives.shape[0]):\n",
    "    if raisin.loc[reliable_positives.index[i],'it_results'] == 1:\n",
    "        correct_with_b += 1\n",
    "missclass = reliable_positives.shape[0] - correct_with_b"
   ]
  },
  {
   "cell_type": "code",
   "execution_count": 8,
   "id": "66ffba6d-081e-46c0-a256-3167e0189321",
   "metadata": {},
   "outputs": [
    {
     "name": "stdout",
     "output_type": "stream",
     "text": [
      "0.8272980501392758 359\n"
     ]
    }
   ],
   "source": [
    "positive = 0\n",
    "true_positive = 0\n",
    "for i in range(n_samples):\n",
    "    if last_results[i] == 1 and raisin.loc[raisin.index[i],'class'] == 1:\n",
    "        true_positive += 1\n",
    "for i in range(n_samples):\n",
    "    if last_results[i] == 1:\n",
    "        positive += 1\n",
    "print(true_positive/positive, positive)"
   ]
  },
  {
   "cell_type": "code",
   "execution_count": 9,
   "id": "b24da073-992d-404c-b704-af3d6e729a88",
   "metadata": {},
   "outputs": [],
   "source": [
    "data_sklearn = raisin.to_numpy()[:,:7]\n",
    "labels_sklearn = np.zeros(n_samples)\n",
    "for i in range(n_samples):\n",
    "    if raisin.to_numpy()[i,7] == 1:\n",
    "        labels_sklearn[i] = 1\n",
    "svc_sklearn = SVC().fit(X=data_sklearn,y=labels_sklearn)"
   ]
  },
  {
   "cell_type": "code",
   "execution_count": 10,
   "id": "2763e0b3-7869-4e2c-817d-0b7a65d72fb7",
   "metadata": {},
   "outputs": [],
   "source": [
    "predictions_sklearn = svc_sklearn.predict(data_sklearn)"
   ]
  },
  {
   "cell_type": "code",
   "execution_count": 11,
   "id": "ce8c491f-1328-4bc1-9257-496ce72dc4c9",
   "metadata": {},
   "outputs": [],
   "source": [
    "true_positives_sklearn = 0\n",
    "positives_sklearn = np.sum(predictions_sklearn)\n",
    "for i in range(n_samples):\n",
    "    if raisin.loc[i,'class'] == 1 and predictions_sklearn[i] == 1:\n",
    "        true_positives_sklearn += 1"
   ]
  },
  {
   "cell_type": "code",
   "execution_count": 12,
   "id": "2738c383-bbd8-4b7b-8176-4dbcfb80c74c",
   "metadata": {},
   "outputs": [
    {
     "name": "stdout",
     "output_type": "stream",
     "text": [
      "0.8389610389610389\n"
     ]
    }
   ],
   "source": [
    "print(true_positives_sklearn/positives_sklearn)"
   ]
  },
  {
   "cell_type": "code",
   "execution_count": 13,
   "id": "ca0f56c1-bf50-4989-9477-f27caad6a3ab",
   "metadata": {},
   "outputs": [],
   "source": [
    "#the performance is very close to the unlabeled case"
   ]
  },
  {
   "cell_type": "code",
   "execution_count": 14,
   "id": "3f23aa7b-5fcc-4528-b097-ecdbb12cbd75",
   "metadata": {},
   "outputs": [],
   "source": [
    "compteur = 0\n",
    "max_iter = 500\n",
    "while missclass!=0 and compteur<max_iter:\n",
    "    compteur += 1\n",
    "    b = (1+0.05)*b\n",
    "    last_results = np.empty(n_samples)\n",
    "    for i in range(n_samples):\n",
    "        last_results[i] = np.sign(results[i] - b)\n",
    "\n",
    "    raisin['it_results'] = last_results\n",
    "    correct_with_b = 0\n",
    "    for i in range(reliable_positives.shape[0]):\n",
    "        if raisin.loc[reliable_positives.index[i],'it_results'] == 1:\n",
    "            correct_with_b += 1\n",
    "    missclass = reliable_positives.shape[0] - correct_with_b"
   ]
  },
  {
   "cell_type": "code",
   "execution_count": 15,
   "id": "c8e9b01b-72ac-427f-a3f8-acb26fe3b80a",
   "metadata": {},
   "outputs": [],
   "source": [
    "raisin_it = raisin"
   ]
  },
  {
   "cell_type": "code",
   "execution_count": 16,
   "id": "ca4bf607-a2f3-413e-b0fd-981b981d103f",
   "metadata": {},
   "outputs": [],
   "source": [
    "compteur=0\n",
    "max_iter=10\n",
    "good_ratio = int(n_samples/2)\n",
    "while True and compteur<max_iter:\n",
    "    compteur+=1\n",
    "    for i in range(n_samples):\n",
    "        if raisin_it.loc[raisin.index[i],'it_results'] == 0:\n",
    "            raisin_it.loc[raisin.index[i],'it_results'] = -1\n",
    "    positives_new = raisin_it[raisin_it['it_results'] == 1]\n",
    "    positives_new = positives_new[positives_new['label'] == 1]\n",
    "    negatives_new = raisin_it[raisin_it['it_results'] == -1]\n",
    "    negatives_new = negatives_new[negatives_new['label'] == -1]\n",
    "    negatives_new = negatives_new.sample(n=positives_new.shape[0])\n",
    "    #first svm part\n",
    "    gamma = 1\n",
    "    positives_array_new = positives_new.drop(['class','cluster','label'], axis=1)\n",
    "    negatives_array_new = negatives_new.drop(['class', 'cluster','label'], axis=1)\n",
    "    data_svm_it = np.vstack((positives_array_new,negatives_array_new))\n",
    "    n_reliable = data_svm_it.shape[0]\n",
    "    outcome_it = data_svm_it[:,7].copy()\n",
    "    data_svm_it = data_svm_it[:,:7].copy()\n",
    "    #compute omega\n",
    "    omega_it = np.zeros((n_reliable,n_reliable))\n",
    "    for k in range(n_reliable):\n",
    "        for i in range(k,n_reliable):\n",
    "            omega_it[k,i] = outcome_it[k]*outcome_it[i]*rbf(x=data_svm_it[k,:],y=data_svm_it[i,:])\n",
    "    omega_it_t = np.transpose(omega_it)\n",
    "    omega_it = omega_it+omega_it_t\n",
    "    for i in range(n_reliable):\n",
    "        omega_it[i,i] = 1\n",
    "    \n",
    "    first_row_it = np.hstack((0,-np.transpose(outcome_it)))\n",
    "    first_row_it = first_row_it.reshape(1,first_row_it.shape[0])\n",
    "    bot_of_mat_right_it = omega_it + (1/gamma)*np.eye(n_reliable)\n",
    "    bot_of_mat_it = np.hstack((outcome_it.reshape(n_reliable,1), bot_of_mat_right_it))\n",
    "    whole_mat_it = np.vstack((first_row_it, bot_of_mat_it))\n",
    "    right_hand_it = np.ones(n_reliable+1)\n",
    "    right_hand_it[0] = 0\n",
    "    coeffs_it = np.linalg.solve(a=whole_mat_it,b=right_hand_it)\n",
    "    b_it = coeffs_it[0]\n",
    "    alpha_it = coeffs_it[1:coeffs_it.shape[0]]\n",
    "    test_data_it = raisin_it.drop(['class','label','cluster','it_results'], axis=1).to_numpy()\n",
    "    results_new = np.empty(n_samples)\n",
    "    #the results in the previous algo is now 'new_results'\n",
    "\n",
    "    \n",
    "    for i in range(n_samples):\n",
    "        results_new[i] = np.sum(alpha_it*outcome_it*rbf(x=data_svm_it,y=test_data_it[i,:]))\n",
    "    sorted_results_it = np.sort(results_new)\n",
    "    b_it = sorted_results_it[good_ratio]\n",
    "    last_results_it = np.empty(n_samples)\n",
    "    for i in range(n_samples):\n",
    "        last_results_it[i] = np.sign(results_new[i] - b)\n",
    "    correct_with_b_it = 0 \n",
    "    for i in range(raisin_it[raisin['label'] == 1].shape[0]):\n",
    "        if last_results_it[i] == 1:\n",
    "            correct_with_b_it += 1\n",
    "    missclass_it = positives_new.shape[0] - correct_with_b_it\n",
    "    compteur_bis = 0\n",
    "    max_iter_bis = 200\n",
    "    while missclass_it!=0 and compteur_bis<max_iter_bis:\n",
    "        compteur_bis += 1\n",
    "        b_it = (1-0.05)*b_it\n",
    "        last_results_bis = np.empty(n_samples)\n",
    "        for i in range(n_samples):\n",
    "            last_results_bis[i] = np.sign(results_new[i] - b_it)\n",
    "        correct_with_b_bis = 0\n",
    "\n",
    "        for i in range(raisin_it[raisin['label'] == 1].shape[0]):\n",
    "            if last_results_bis[i] == 1:\n",
    "                correct_with_b_bis += 1\n",
    "        missclass_it = positives_new.shape[0] - correct_with_b_bis\n",
    "    stop_counter = 0\n",
    "    for i in range(n_samples):\n",
    "        if raisin_it.loc[raisin.index[i],'it_results'] != last_results_bis[i]:\n",
    "            stop_counter += 1\n",
    "    if stop_counter == 0:\n",
    "        break\n",
    "        compteur = max_iter\n",
    "    else:\n",
    "        raisin_it['it_results'] = last_results_bis"
   ]
  },
  {
   "cell_type": "code",
   "execution_count": 17,
   "id": "1c2684bb-6b3d-451e-8efb-91d7ddbf9834",
   "metadata": {},
   "outputs": [],
   "source": [
    "raisin_test_class = raisin_test['Class'].copy()\n",
    "for i in range(raisin_test.shape[0]):\n",
    "    if raisin_test_class[i] == 'Kecimen':\n",
    "        raisin_test_class[i] = 1\n",
    "    else:\n",
    "        raisin_test_class[i] = -1\n",
    "raisin_test_class = np.array(raisin_test_class)\n",
    "raisin_test = raisin_test.to_numpy()[:,:-1]\n",
    "raisin_test = StandardScaler().fit_transform(X=raisin_test)\n",
    "data_svm_test = raisin_test"
   ]
  },
  {
   "cell_type": "code",
   "execution_count": 18,
   "id": "7a91358c-b630-457f-afdd-a2481f3b5b1a",
   "metadata": {},
   "outputs": [],
   "source": [
    "results_test = np.empty(raisin_test.shape[0])\n",
    "for i in range(raisin_test.shape[0]):\n",
    "        results_test[i] = np.sign(np.sum(alpha_it*outcome_it*rbf(x=data_svm_it,y=data_svm_test[i,:],l=10))-b_it)\n",
    "positive_test = 0\n",
    "true_positive_test = 0\n",
    "for i in range(raisin_test.shape[0]):\n",
    "    if results_test[i] == 1:\n",
    "        positive_test += 1\n",
    "        if raisin_test_class[i] == 1:\n",
    "            true_positive_test += 1"
   ]
  },
  {
   "cell_type": "code",
   "execution_count": 19,
   "id": "60cfbe50-f3ac-4b62-8e42-f3f786e6e6b5",
   "metadata": {},
   "outputs": [],
   "source": [
    "precision_it_svm_test = true_positive_test/positive_test\n",
    "number_of_positive = 0\n",
    "for i in range(raisin_test.shape[0]):\n",
    "    if raisin_test_class[i] == 1:\n",
    "        number_of_positive += 1\n",
    "recall_it_svm_test = true_positive_test/number_of_positive\n",
    "f_1_score_test = (2*precision_it_svm_test*recall_it_svm_test)/(precision_it_svm_test+recall_it_svm_test)\n",
    "weird_estim_it_svm_test = (recall_it_svm_test**2)/(positive_test/number_of_positive)"
   ]
  },
  {
   "cell_type": "code",
   "execution_count": 21,
   "id": "82bfe42b-69ef-44c1-8c03-e2ea1c4775ef",
   "metadata": {},
   "outputs": [
    {
     "name": "stdout",
     "output_type": "stream",
     "text": [
      "the precision on the test data is :  0.7058823529411765 \n",
      " the recall on the test data is :  1.0 \n",
      " the f_1 score on the test data is : 0.8275862068965517 \n",
      " the weird metric on the test data is :  0.7058823529411764\n"
     ]
    }
   ],
   "source": [
    "print('the precision on the test data is : ', precision_it_svm_test,'\\n',\n",
    "      'the recall on the test data is : ', recall_it_svm_test, '\\n', \n",
    "      'the f_1 score on the test data is :', f_1_score_test, '\\n', \n",
    "      'the weird metric on the test data is : ', weird_estim_it_svm_test)"
   ]
  },
  {
   "cell_type": "code",
   "execution_count": 22,
   "id": "2b8359d3-65ed-43e9-bec6-918a8b7a5b22",
   "metadata": {},
   "outputs": [],
   "source": [
    "#it is actually not bad at all"
   ]
  },
  {
   "cell_type": "code",
   "execution_count": 23,
   "id": "25ba045b-b723-4eac-9e70-74d3e1c1ff3c",
   "metadata": {},
   "outputs": [],
   "source": [
    "predictions_test_sklearn = svc_sklearn.predict(raisin_test)"
   ]
  },
  {
   "cell_type": "code",
   "execution_count": 24,
   "id": "644934f7-8ba9-4e67-845d-c37255b1ad18",
   "metadata": {},
   "outputs": [],
   "source": [
    "positive_last = 0\n",
    "true_positive_last = 0\n",
    "for i in range(raisin_test.shape[0]):\n",
    "    if predictions_test_sklearn[i] == 1:\n",
    "        positive_last += 1\n",
    "        if raisin_test_class[i] == 1:\n",
    "            true_positive_last += 1\n",
    "\n",
    "precision_oracle = true_positive_last/positive_last\n",
    "recall_oracle = true_positive_last/number_of_positive\n",
    "f_1_score_oracle = (2*precision_oracle*recall_oracle)/(precision_oracle+recall_oracle)\n",
    "weird_estim_oracle = (recall_oracle**2)/(positive_last/number_of_positive)"
   ]
  },
  {
   "cell_type": "code",
   "execution_count": 25,
   "id": "598960b7-5f14-494e-ba47-00c2ef3c0c9c",
   "metadata": {},
   "outputs": [
    {
     "name": "stdout",
     "output_type": "stream",
     "text": [
      "precision of sklearn svm on test data :  0.8725490196078431 \n",
      " recall of sklearn svm on test data :  0.9270833333333334 \n",
      " f_1 score of sklearn svm on test data :  0.898989898989899 \n",
      " weird metric of sklearn svm on test data :  0.8089256535947713\n"
     ]
    }
   ],
   "source": [
    "print('precision of sklearn svm on test data : ', precision_oracle, '\\n', \n",
    "      'recall of sklearn svm on test data : ', recall_oracle, '\\n', \n",
    "      'f_1 score of sklearn svm on test data : ', f_1_score_oracle, '\\n', \n",
    "      'weird metric of sklearn svm on test data : ', weird_estim_oracle)"
   ]
  },
  {
   "cell_type": "code",
   "execution_count": 26,
   "id": "29a4032c-9d62-438a-ad89-f54f1ddbe2e9",
   "metadata": {},
   "outputs": [],
   "source": [
    "#a svm trained on a fully labeled dataset only has 8% more precision than the iterative ls-svm on unlabeled\n",
    "#data, which is not bad knowing that the data is not fully separable"
   ]
  }
 ],
 "metadata": {
  "kernelspec": {
   "display_name": "Python 3 (ipykernel)",
   "language": "python",
   "name": "python3"
  },
  "language_info": {
   "codemirror_mode": {
    "name": "ipython",
    "version": 3
   },
   "file_extension": ".py",
   "mimetype": "text/x-python",
   "name": "python",
   "nbconvert_exporter": "python",
   "pygments_lexer": "ipython3",
   "version": "3.12.4"
  }
 },
 "nbformat": 4,
 "nbformat_minor": 5
}
