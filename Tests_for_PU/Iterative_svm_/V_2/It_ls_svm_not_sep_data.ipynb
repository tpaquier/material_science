{
 "cells": [
  {
   "cell_type": "code",
   "execution_count": 1,
   "id": "005e1211-f3e9-488d-abc4-ef506375646b",
   "metadata": {},
   "outputs": [
    {
     "name": "stderr",
     "output_type": "stream",
     "text": [
      "\n",
      "KeyboardInterrupt\n",
      "\n"
     ]
    }
   ],
   "source": [
    "import pandas as pd\n",
    "import numpy as np\n",
    "import matplotlib.pyplot as plt\n",
    "from sklearn.cluster import KMeans\n",
    "from scipy.stats import bernoulli\n",
    "from sklearn.model_selection import train_test_split\n",
    "from sklearn.svm import SVC\n",
    "from sklearn.utils import shuffle\n",
    "from tqdm import tqdm"
   ]
  },
  {
   "cell_type": "code",
   "execution_count": null,
   "id": "b6073c54-2948-4434-a71d-dc4d472ec882",
   "metadata": {},
   "outputs": [],
   "source": [
    "def rbf(x,y,l_squared=1):\n",
    "    \"\"\"Gaussian kernel\n",
    "\n",
    "    Parameters\n",
    "    -------------------------------\n",
    "    x : float\n",
    "    a real number\n",
    "\n",
    "    y : float\n",
    "    a real number\n",
    "\n",
    "    l: float, non zero\n",
    "    a scale parameter\n",
    "    -------------------------------\n",
    "    \"\"\"\n",
    "    dim = x.shape[0]\n",
    "    vect = np.zeros(dim)\n",
    "    type_x = x.shape\n",
    "    type_y = y.shape\n",
    "    if len(type_x) == len(type_y):\n",
    "        d = np.exp(-((np.linalg.norm(x-y))**2)/(2*l_squared))\n",
    "        return d\n",
    "    else :\n",
    "        for i in range(dim):\n",
    "            vect[i] = np.exp(-((np.linalg.norm(x[i] - y))**2)/(2*l_squared))\n",
    "        return vect"
   ]
  },
  {
   "cell_type": "code",
   "execution_count": null,
   "id": "57f92971-4052-40e8-89d4-be1c7ea43732",
   "metadata": {},
   "outputs": [],
   "source": [
    "np.random.seed(1457065)\n",
    "n_gen = 50\n",
    "n_samples = 4*n_gen\n",
    "data_red_1 = np.random.multivariate_normal(mean=np.array([0.5,0.5]),\n",
    "                                             cov=np.array(([2,-0.5],[-0.5,2])),\n",
    "                                             size=n_gen)\n",
    "data_red_2 = np.random.uniform(low=0.5, high=2, size=(n_gen,2))\n",
    "\n",
    "data_blue_1 = np.random.multivariate_normal(mean=np.array([-1,-1]),\n",
    "                                            cov=np.eye(2),\n",
    "                                            size=n_gen)\n",
    "data_blue_2 = np.random.uniform(low=-1, high=0., size=(n_gen,2))\n",
    "\n",
    "data_red = np.vstack((data_red_1,data_red_2))\n",
    "labels_red = (np.ones(2*n_gen)*-1).reshape(2*n_gen,1)\n",
    "data_red = np.hstack((data_red,labels_red))\n",
    "\n",
    "data_blue = np.vstack((data_blue_1, data_blue_2))\n",
    "labels_blue = (np.ones(2*n_gen)).reshape(2*n_gen,1)\n",
    "data_blue = np.hstack((data_blue,labels_blue))\n",
    "\n",
    "whole_data = np.vstack((data_blue, data_red))"
   ]
  },
  {
   "cell_type": "code",
   "execution_count": null,
   "id": "463ffd88-e824-403e-942d-dba6208516be",
   "metadata": {},
   "outputs": [],
   "source": [
    "for i in range(2*n_gen):\n",
    "    random = bernoulli.rvs(p=3/4)\n",
    "    if random == 1:\n",
    "        whole_data[i,2] = -1\n",
    "positive_data = np.zeros((1,3))\n",
    "unlabeled_data = np.zeros((1,3))\n",
    "for i in range(n_samples):\n",
    "    if whole_data[i,2] == 1:\n",
    "        positive_data = np.vstack((positive_data, whole_data[i,:]))\n",
    "    else:\n",
    "        unlabeled_data = np.vstack((unlabeled_data, whole_data[i,:]))\n",
    "\n",
    "positive_data = np.delete(positive_data,0,0)\n",
    "unlabeled_data = np.delete(unlabeled_data,0,0)\n",
    "pu_data = np.vstack((positive_data,unlabeled_data))"
   ]
  },
  {
   "cell_type": "code",
   "execution_count": null,
   "id": "217d9ac6-e2af-4955-b3c5-01c0eab261b3",
   "metadata": {},
   "outputs": [],
   "source": [
    "output_train = pu_data[:,2]"
   ]
  },
  {
   "cell_type": "code",
   "execution_count": null,
   "id": "910981f9-e0e2-4454-bdb9-a3274a1483d5",
   "metadata": {},
   "outputs": [],
   "source": [
    "pu_df = pd.DataFrame(pu_data)\n",
    "pu_df.columns = ['x1','x2','label']\n",
    "for i in range(pu_df.shape[0]):\n",
    "    if output_train[i] == -1:\n",
    "        output_train[i] = 0\n",
    "pu_df['label'] = output_train\n",
    "\n",
    "n_cluster = 3\n",
    "clustering = KMeans(n_clusters=n_cluster).fit(X=pu_df.to_numpy()[:,:-1])\n",
    "pu_df['cluster'] = clustering.labels_\n",
    "\n",
    "list_of_ratio = np.zeros(n_cluster)\n",
    "for i in range(n_cluster):\n",
    "    list_of_ratio[i] = pu_df[pu_df['cluster'] == i]['label'].sum()/pu_df[pu_df['cluster'] == i].shape[0]\n",
    "\n",
    "positive_cluster = np.argmax(list_of_ratio)\n",
    "    \n",
    "#we cannot exactly compute the ratios because the classes are so unbalanced that in any cases the number of positive\n",
    "#instances will be very small compared to the ones of unlabelled instances\n",
    "\n",
    "list_of_dist = np.zeros(n_cluster)\n",
    "for i in range(n_cluster):\n",
    "    list_of_dist[i] = np.linalg.norm(clustering.cluster_centers_[positive_cluster,:] - clustering.cluster_centers_[i,:])\n",
    "\n",
    "negative_cluster = np.argmax(list_of_dist)"
   ]
  },
  {
   "cell_type": "code",
   "execution_count": null,
   "id": "ff6625c4-96e3-4ff8-9701-35cf2e76cb06",
   "metadata": {},
   "outputs": [],
   "source": [
    "n_samples = pu_df.shape[0]\n",
    "for i in range(n_samples):\n",
    "    if pu_df.loc[i,'label'] == 0:\n",
    "        pu_df.loc[i,'label'] = -1\n",
    "\n",
    "df_unlab_pop = pu_df[pu_df['label'] == -1]\n",
    "list_of_pop = pd.DataFrame(df_unlab_pop.groupby('cluster')['label'].count())\n",
    "list_of_pop.columns = ['pop']\n",
    "list_of_pop['dist'] = list_of_dist #distance to the positive cluster\n",
    "list_of_pop = list_of_pop.sort_values('dist',ascending=False)\n",
    "list_of_pop['cumsum'] = np.cumsum(list_of_pop['pop'])"
   ]
  },
  {
   "cell_type": "code",
   "execution_count": null,
   "id": "ccb1bfe4-fb1d-4d1e-919b-86ef6e21d929",
   "metadata": {},
   "outputs": [],
   "source": [
    "reliable_positives = pu_df[pu_df['label'] == 1]\n",
    "n_positives = reliable_positives.shape[0]\n",
    "last_step = np.where(np.array(list_of_pop['cumsum'])>n_positives)[0][0]\n",
    "index_ordered_distance = list(list_of_pop.index)\n",
    "if last_step == 0:\n",
    "    reliable_negatives = pu_df[pu_df['cluster'] == negative_cluster]\n",
    "    reliable_negatives = reliable_negatives[reliable_negatives['label'] == -1]\n",
    "else:\n",
    "    compteur=0\n",
    "    reliable_negatives = pu_df[pu_df['cluster'] == negative_cluster]\n",
    "    reliable_negatives = reliable_negatives[reliable_negatives['label'] == -1]\n",
    "    while compteur<last_step:\n",
    "        interm_negatives = pu_df[pu_df['cluster'] == index_ordered_distance[compteur+1]]\n",
    "        interm_negatives = interm_negatives[interm_negatives['label'] == -1]\n",
    "        reliable_negatives = pd.concat([reliable_negatives,interm_negatives])\n",
    "        compteur += 1\n",
    "    del interm_negatives, compteur"
   ]
  },
  {
   "cell_type": "code",
   "execution_count": null,
   "id": "719d6e6f-a127-4b7f-b7d0-77750b82649b",
   "metadata": {},
   "outputs": [],
   "source": [
    "reliable_negatives = reliable_negatives.head(n=n_positives)"
   ]
  },
  {
   "cell_type": "code",
   "execution_count": null,
   "id": "b348cf45-f3cd-429a-a274-69c2930c5209",
   "metadata": {},
   "outputs": [],
   "source": [
    "train_clf_data = pd.concat([reliable_positives,reliable_negatives])\n",
    "index_of_labels = list(train_clf_data.index)\n",
    "unlabelled_data = pu_df.drop(labels=index_of_labels,axis=0)\n",
    "index_of_unlabelled = list(unlabelled_data.index)\n",
    "first_step_clf = SVC(gamma=1/8).fit(X=train_clf_data.drop(['label','cluster'],axis=1).to_numpy(),\n",
    "                          y=train_clf_data['label'].to_numpy())\n",
    "unlabelled_data['relab'] = first_step_clf.predict(unlabelled_data.drop(['label','cluster'],axis=1).to_numpy())"
   ]
  },
  {
   "cell_type": "code",
   "execution_count": null,
   "id": "1ae1fa4b-b2ed-4120-974c-29765c1938f2",
   "metadata": {},
   "outputs": [],
   "source": [
    "gamma = 1\n",
    "good_ratio = 1/2\n",
    "max_iter = 1\n",
    "compteur = 0\n",
    "train_clf_data['relab'] = train_clf_data['label'].copy()\n",
    "updated_data = pd.concat([train_clf_data,unlabelled_data]) #the whole data with positive labels and relabelled\n",
    "#instances\n",
    "up_data_np = updated_data.to_numpy()[:,:-3]"
   ]
  },
  {
   "cell_type": "code",
   "execution_count": null,
   "id": "60bd184c-cab9-4ea3-a49e-a86e9f171436",
   "metadata": {},
   "outputs": [],
   "source": [
    "gamma = 1\n",
    "good_ratio = 1/2\n",
    "max_iter = 15\n",
    "compteur = 0\n",
    "train_clf_data['relab'] = train_clf_data['label'].copy()\n",
    "updated_data = pd.concat([train_clf_data,unlabelled_data]) #the whole data with positive labels and relabelled\n",
    "#instances\n",
    "updated_data = updated_data.sort_index()\n",
    "up_data_np = updated_data.to_numpy()[:,:-3]\n",
    "while compteur<max_iter:\n",
    "    compteur += 1\n",
    "    labels = updated_data['relab'].to_numpy().reshape(1,-1)\n",
    "    first_row = np.hstack((np.array(0).reshape(1,1),labels))\n",
    "    \n",
    "    #computation of omega and the coefficients\n",
    "    omega = np.zeros((n_samples,n_samples))\n",
    "    for i in range(n_samples):\n",
    "        for k in range(i,n_samples):\n",
    "            omega[i,k] = rbf(x=up_data_np[i,:],y=up_data_np[k,:],l_squared=4)*labels[0,i]*labels[0,k]\n",
    "        omega[i,i] = 1\n",
    "\n",
    "    bot_right = omega + gamma*np.eye(n_samples)\n",
    "    bot = np.hstack((labels.reshape(n_samples,1), bot_right))\n",
    "    whole_mat = np.vstack((first_row, bot))\n",
    "    \n",
    "    del bot_right, bot, first_row\n",
    "\n",
    "    right_side = np.vstack((np.zeros(1).reshape(1,1),np.ones(n_samples).reshape(n_samples,1)))\n",
    "\n",
    "    coeffs = np.linalg.solve(a=whole_mat,b=right_side)\n",
    "\n",
    "\n",
    "    alpha = coeffs[1:]\n",
    "\n",
    "    #once we have the coefficients, we can compute the labels of the unlabelled instances\n",
    "\n",
    "    to_det_b = np.zeros(n_samples)\n",
    "    for i in range(n_samples):\n",
    "        to_det_b[i] = np.sum(alpha*labels*rbf(x=up_data_np,y=up_data_np[i,:],l_squared=4))\n",
    "\n",
    "    b = np.sort(to_det_b)[int(good_ratio*n_samples)]\n",
    "    \n",
    "    check_array = np.zeros(n_samples)\n",
    "    count_diff = 0\n",
    "    \n",
    "    for i in range(n_samples):\n",
    "        if i in index_of_labels:\n",
    "            check_array[i] = 1\n",
    "        else:\n",
    "            check_array[i] = np.sign(to_det_b[i]+b)\n",
    "            if check_array[i] != updated_data.loc[i,'relab']:\n",
    "                count_diff += 1\n",
    "\n",
    "    if count_diff == 0:\n",
    "        break\n",
    "    else:\n",
    "        updated_data['relab'] = check_array "
   ]
  },
  {
   "cell_type": "code",
   "execution_count": null,
   "id": "87c81674-50e9-4a1c-aee4-9d359ad22801",
   "metadata": {},
   "outputs": [],
   "source": [
    "xx, yy = np.meshgrid(np.linspace(-4,5,200), np.linspace(-5,5,200))\n",
    "results_plot = np.zeros(200**2)\n",
    "for i in tqdm(range(200**2)):\n",
    "    results_plot[i] = np.sum(alpha*check_array*rbf(x=pu_data[:,:-1],y=np.c_[xx.ravel(), yy.ravel()][i,:],l_squared=4))-b\n",
    "Z = results_plot\n",
    "Z = Z.reshape(xx.shape)"
   ]
  },
  {
   "cell_type": "code",
   "execution_count": null,
   "id": "52392068-19c6-4560-ac8e-0570a9a72a47",
   "metadata": {},
   "outputs": [],
   "source": [
    "plt.contourf(xx, yy, Z, alpha=0.75, cmap=plt.cm.Pastel1)\n",
    "plt.plot(unlabeled_data[:,0],unlabeled_data[:,1],'or', alpha=0.5, label='negative or unlabeled')\n",
    "plt.plot(positive_data[:,0],positive_data[:,1],'ob',alpha=0.5, label='true positive')\n",
    "plt.legend()\n",
    "plt.colorbar()"
   ]
  },
  {
   "cell_type": "code",
   "execution_count": null,
   "id": "b11f4627-7dbd-40ed-89ff-e9c2e6868feb",
   "metadata": {},
   "outputs": [],
   "source": [
    "Z_bis = np.sign(Z)\n",
    "plt.contourf(xx, yy, Z_bis, alpha=0.75, cmap=plt.cm.Pastel1)\n",
    "plt.plot(unlabeled_data[:,0],unlabeled_data[:,1],'or', alpha=0.5, label='negative or unlabeled')\n",
    "plt.plot(positive_data[:,0],positive_data[:,1],'ob',alpha=0.5, label='true positive')\n",
    "plt.legend()\n",
    "plt.colorbar()"
   ]
  },
  {
   "cell_type": "code",
   "execution_count": null,
   "id": "cfe1410c-95d6-4db2-866e-5c0cb6c693f3",
   "metadata": {},
   "outputs": [],
   "source": [
    "plt.plot(np.sort(to_det_b))"
   ]
  },
  {
   "cell_type": "code",
   "execution_count": null,
   "id": "d331b23a-45ff-4457-aef4-887803fc4582",
   "metadata": {},
   "outputs": [],
   "source": [
    "omega"
   ]
  },
  {
   "cell_type": "code",
   "execution_count": null,
   "id": "43ad956f-3fc6-40e8-8463-2ee6c70c0bb5",
   "metadata": {},
   "outputs": [],
   "source": [
    "rbf(x=up_data_np[1,:],y=up_data_np[0,:],l_squared=4)*labels[0,1]*labels[0,0]"
   ]
  },
  {
   "cell_type": "code",
   "execution_count": null,
   "id": "62d054e4-b216-4ca0-a828-0957f6a97f22",
   "metadata": {},
   "outputs": [],
   "source": []
  }
 ],
 "metadata": {
  "kernelspec": {
   "display_name": "Python 3 (ipykernel)",
   "language": "python",
   "name": "python3"
  },
  "language_info": {
   "codemirror_mode": {
    "name": "ipython",
    "version": 3
   },
   "file_extension": ".py",
   "mimetype": "text/x-python",
   "name": "python",
   "nbconvert_exporter": "python",
   "pygments_lexer": "ipython3",
   "version": "3.12.4"
  }
 },
 "nbformat": 4,
 "nbformat_minor": 5
}
