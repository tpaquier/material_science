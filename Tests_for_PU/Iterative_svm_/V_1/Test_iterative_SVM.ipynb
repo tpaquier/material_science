{
 "cells": [
  {
   "cell_type": "code",
   "execution_count": 93,
   "id": "33230202-30dd-4a1c-b3d3-9fe68fefd2b2",
   "metadata": {},
   "outputs": [],
   "source": [
    "import numpy as np\n",
    "import pandas as pd\n",
    "from scipy.stats import multivariate_normal\n",
    "import matplotlib.pyplot as plt\n",
    "from sklearn.cluster import KMeans\n",
    "from sklearn.svm import SVC"
   ]
  },
  {
   "cell_type": "code",
   "execution_count": 48,
   "id": "b3952325-c046-4840-b376-5f73f09dd594",
   "metadata": {},
   "outputs": [],
   "source": [
    "gaussian_blue = np.random.multivariate_normal(mean = np.array((0,0)), \n",
    "                                      cov = np.eye(2), size=100)\n",
    "gaussian_red = np.random.multivariate_normal(mean = np.array((3/2,3/2)), \n",
    "                                      cov = np.eye(2), size=100)"
   ]
  },
  {
   "cell_type": "code",
   "execution_count": 49,
   "id": "db818939-75fc-478d-b1f3-4a80c2331208",
   "metadata": {},
   "outputs": [
    {
     "name": "stderr",
     "output_type": "stream",
     "text": [
      "/tmp/ipykernel_1878/3148587984.py:1: UserWarning: marker is redundantly defined by the 'marker' keyword argument and the fmt string \"bo\" (-> marker='o'). The keyword argument will take precedence.\n",
      "  plt.plot(gaussian_blue[:,0], gaussian_blue[:,1],'bo', marker='.', color='b')\n",
      "/tmp/ipykernel_1878/3148587984.py:1: UserWarning: color is redundantly defined by the 'color' keyword argument and the fmt string \"bo\" (-> color='b'). The keyword argument will take precedence.\n",
      "  plt.plot(gaussian_blue[:,0], gaussian_blue[:,1],'bo', marker='.', color='b')\n",
      "/tmp/ipykernel_1878/3148587984.py:2: UserWarning: marker is redundantly defined by the 'marker' keyword argument and the fmt string \"bo\" (-> marker='o'). The keyword argument will take precedence.\n",
      "  plt.plot(gaussian_red[:,0], gaussian_red[:,1], 'bo', marker='.', color='r')\n",
      "/tmp/ipykernel_1878/3148587984.py:2: UserWarning: color is redundantly defined by the 'color' keyword argument and the fmt string \"bo\" (-> color='b'). The keyword argument will take precedence.\n",
      "  plt.plot(gaussian_red[:,0], gaussian_red[:,1], 'bo', marker='.', color='r')\n"
     ]
    },
    {
     "data": {
      "text/plain": [
       "[<matplotlib.lines.Line2D at 0x7fe423fbc380>]"
      ]
     },
     "execution_count": 49,
     "metadata": {},
     "output_type": "execute_result"
    },
    {
     "data": {
      "image/png": "[encoded data removed]",
      "text/plain": [
       "<Figure size 640x480 with 1 Axes>"
      ]
     },
     "metadata": {},
     "output_type": "display_data"
    }
   ],
   "source": [
    "plt.plot(gaussian_blue[:,0], gaussian_blue[:,1],'bo', marker='.', color='b')\n",
    "plt.plot(gaussian_red[:,0], gaussian_red[:,1], 'bo', marker='.', color='r')"
   ]
  },
  {
   "cell_type": "code",
   "execution_count": 50,
   "id": "18bcb8c8-42a7-4940-b22a-3e739062800e",
   "metadata": {},
   "outputs": [],
   "source": [
    "whole_data = np.vstack((gaussian_blue, gaussian_red))"
   ]
  },
  {
   "cell_type": "code",
   "execution_count": 51,
   "id": "f8b059d7-12c2-40f3-afcb-09ac5563b162",
   "metadata": {},
   "outputs": [],
   "source": [
    "labels = np.ones((200))*99\n",
    "for i in range(20):\n",
    "    labels[i] = 1"
   ]
  },
  {
   "cell_type": "code",
   "execution_count": 52,
   "id": "d0c0867b-61f3-4052-a6b0-4a924ca4a715",
   "metadata": {},
   "outputs": [],
   "source": [
    "whole_data_df = pd.DataFrame(whole_data)"
   ]
  },
  {
   "cell_type": "code",
   "execution_count": 53,
   "id": "979b7c33-b292-4f62-bc2d-bbb7f9639e9b",
   "metadata": {},
   "outputs": [],
   "source": [
    "whole_data_df.columns = ['x1','x2']\n",
    "whole_data_df['labels'] = labels"
   ]
  },
  {
   "cell_type": "code",
   "execution_count": 54,
   "id": "36c3dc98-5d00-442b-b55c-8bdcfd63fcb8",
   "metadata": {},
   "outputs": [
    {
     "data": {
      "text/html": [
       "<div>\n",
       "<style scoped>\n",
       "    .dataframe tbody tr th:only-of-type {\n",
       "        vertical-align: middle;\n",
       "    }\n",
       "\n",
       "    .dataframe tbody tr th {\n",
       "        vertical-align: top;\n",
       "    }\n",
       "\n",
       "    .dataframe thead th {\n",
       "        text-align: right;\n",
       "    }\n",
       "</style>\n",
       "<table border=\"1\" class=\"dataframe\">\n",
       "  <thead>\n",
       "    <tr style=\"text-align: right;\">\n",
       "      <th></th>\n",
       "      <th>x1</th>\n",
       "      <th>x2</th>\n",
       "      <th>labels</th>\n",
       "    </tr>\n",
       "  </thead>\n",
       "  <tbody>\n",
       "    <tr>\n",
       "      <th>0</th>\n",
       "      <td>-0.728062</td>\n",
       "      <td>-1.812862</td>\n",
       "      <td>1.0</td>\n",
       "    </tr>\n",
       "    <tr>\n",
       "      <th>1</th>\n",
       "      <td>-0.909575</td>\n",
       "      <td>-0.202967</td>\n",
       "      <td>1.0</td>\n",
       "    </tr>\n",
       "    <tr>\n",
       "      <th>2</th>\n",
       "      <td>-0.634736</td>\n",
       "      <td>0.057286</td>\n",
       "      <td>1.0</td>\n",
       "    </tr>\n",
       "    <tr>\n",
       "      <th>3</th>\n",
       "      <td>0.477112</td>\n",
       "      <td>-0.010788</td>\n",
       "      <td>1.0</td>\n",
       "    </tr>\n",
       "    <tr>\n",
       "      <th>4</th>\n",
       "      <td>0.982977</td>\n",
       "      <td>0.713569</td>\n",
       "      <td>1.0</td>\n",
       "    </tr>\n",
       "    <tr>\n",
       "      <th>...</th>\n",
       "      <td>...</td>\n",
       "      <td>...</td>\n",
       "      <td>...</td>\n",
       "    </tr>\n",
       "    <tr>\n",
       "      <th>195</th>\n",
       "      <td>0.676706</td>\n",
       "      <td>1.763239</td>\n",
       "      <td>99.0</td>\n",
       "    </tr>\n",
       "    <tr>\n",
       "      <th>196</th>\n",
       "      <td>2.059322</td>\n",
       "      <td>2.088054</td>\n",
       "      <td>99.0</td>\n",
       "    </tr>\n",
       "    <tr>\n",
       "      <th>197</th>\n",
       "      <td>1.476769</td>\n",
       "      <td>0.464411</td>\n",
       "      <td>99.0</td>\n",
       "    </tr>\n",
       "    <tr>\n",
       "      <th>198</th>\n",
       "      <td>0.933479</td>\n",
       "      <td>-0.175779</td>\n",
       "      <td>99.0</td>\n",
       "    </tr>\n",
       "    <tr>\n",
       "      <th>199</th>\n",
       "      <td>0.309815</td>\n",
       "      <td>0.352377</td>\n",
       "      <td>99.0</td>\n",
       "    </tr>\n",
       "  </tbody>\n",
       "</table>\n",
       "<p>200 rows × 3 columns</p>\n",
       "</div>"
      ],
      "text/plain": [
       "           x1        x2  labels\n",
       "0   -0.728062 -1.812862     1.0\n",
       "1   -0.909575 -0.202967     1.0\n",
       "2   -0.634736  0.057286     1.0\n",
       "3    0.477112 -0.010788     1.0\n",
       "4    0.982977  0.713569     1.0\n",
       "..        ...       ...     ...\n",
       "195  0.676706  1.763239    99.0\n",
       "196  2.059322  2.088054    99.0\n",
       "197  1.476769  0.464411    99.0\n",
       "198  0.933479 -0.175779    99.0\n",
       "199  0.309815  0.352377    99.0\n",
       "\n",
       "[200 rows x 3 columns]"
      ]
     },
     "execution_count": 54,
     "metadata": {},
     "output_type": "execute_result"
    }
   ],
   "source": [
    "whole_data_df"
   ]
  },
  {
   "cell_type": "code",
   "execution_count": 59,
   "id": "6eda80ce-5f83-437f-8155-bafa9bc771c2",
   "metadata": {},
   "outputs": [],
   "source": [
    "clusters = KMeans(n_clusters=3).fit(X=whole_data)"
   ]
  },
  {
   "cell_type": "code",
   "execution_count": 60,
   "id": "310b4af9-0c3e-4d6b-98fb-bdd271fce6d9",
   "metadata": {},
   "outputs": [],
   "source": [
    "list_inertia = []\n",
    "for i in range(1,7):\n",
    "    list_inertia.append(KMeans(n_clusters=i).fit(X=whole_data).inertia_)"
   ]
  },
  {
   "cell_type": "code",
   "execution_count": 61,
   "id": "f3144024-e9d2-4945-ba03-a5b3c9b3d175",
   "metadata": {},
   "outputs": [
    {
     "data": {
      "text/plain": [
       "[<matplotlib.lines.Line2D at 0x7fe4257e7dd0>]"
      ]
     },
     "execution_count": 61,
     "metadata": {},
     "output_type": "execute_result"
    },
    {
     "data": {
      "image/png": "[encoded data removed]",
      "text/plain": [
       "<Figure size 640x480 with 1 Axes>"
      ]
     },
     "metadata": {},
     "output_type": "display_data"
    }
   ],
   "source": [
    "plt.plot(list_inertia)"
   ]
  },
  {
   "cell_type": "code",
   "execution_count": 62,
   "id": "389eb0c6-eee2-4dcb-991c-acd4df6163a4",
   "metadata": {},
   "outputs": [
    {
     "data": {
      "text/plain": [
       "array([[ 1.51879361,  2.36861987],\n",
       "       [-0.63066548, -0.06561066],\n",
       "       [ 1.40922504,  0.36886183]])"
      ]
     },
     "execution_count": 62,
     "metadata": {},
     "output_type": "execute_result"
    }
   ],
   "source": [
    "clusters.cluster_centers_"
   ]
  },
  {
   "cell_type": "code",
   "execution_count": 63,
   "id": "713503f4-dd84-408a-9018-a47878e00c8a",
   "metadata": {},
   "outputs": [],
   "source": [
    "whole_data_df['cluster'] = clusters.labels_"
   ]
  },
  {
   "cell_type": "code",
   "execution_count": 65,
   "id": "3d6e57d4-cdc4-4f30-a0f9-724f1e552bc4",
   "metadata": {},
   "outputs": [
    {
     "data": {
      "image/png": "[encoded data removed]",
      "text/plain": [
       "<Figure size 640x480 with 1 Axes>"
      ]
     },
     "metadata": {},
     "output_type": "display_data"
    }
   ],
   "source": [
    "colors = {0:'blue', 1:'red', 2:'grey'}\n",
    "color_list = [colors[group] for group in whole_data_df['cluster']]\n",
    "ax = whole_data_df.plot.scatter('x1','x2', c=color_list)"
   ]
  },
  {
   "cell_type": "code",
   "execution_count": 74,
   "id": "a17fbeb0-47d6-46bb-a62d-012f827e62cf",
   "metadata": {},
   "outputs": [
    {
     "data": {
      "text/html": [
       "<div>\n",
       "<style scoped>\n",
       "    .dataframe tbody tr th:only-of-type {\n",
       "        vertical-align: middle;\n",
       "    }\n",
       "\n",
       "    .dataframe tbody tr th {\n",
       "        vertical-align: top;\n",
       "    }\n",
       "\n",
       "    .dataframe thead th {\n",
       "        text-align: right;\n",
       "    }\n",
       "</style>\n",
       "<table border=\"1\" class=\"dataframe\">\n",
       "  <thead>\n",
       "    <tr style=\"text-align: right;\">\n",
       "      <th></th>\n",
       "      <th>labels</th>\n",
       "    </tr>\n",
       "    <tr>\n",
       "      <th>cluster</th>\n",
       "      <th></th>\n",
       "    </tr>\n",
       "  </thead>\n",
       "  <tbody>\n",
       "    <tr>\n",
       "      <th>0</th>\n",
       "      <td>2.0</td>\n",
       "    </tr>\n",
       "    <tr>\n",
       "      <th>1</th>\n",
       "      <td>12.0</td>\n",
       "    </tr>\n",
       "    <tr>\n",
       "      <th>2</th>\n",
       "      <td>6.0</td>\n",
       "    </tr>\n",
       "  </tbody>\n",
       "</table>\n",
       "</div>"
      ],
      "text/plain": [
       "         labels\n",
       "cluster        \n",
       "0           2.0\n",
       "1          12.0\n",
       "2           6.0"
      ]
     },
     "execution_count": 74,
     "metadata": {},
     "output_type": "execute_result"
    }
   ],
   "source": [
    "whole_data_df[whole_data_df['labels']==1][['labels','cluster']].groupby('cluster').sum()"
   ]
  },
  {
   "cell_type": "code",
   "execution_count": 79,
   "id": "495613bf-789f-4377-b8d4-41ed6bf8c6fe",
   "metadata": {},
   "outputs": [],
   "source": [
    "positive_cluster = np.where(whole_data_df[whole_data_df['labels']==1][['labels','cluster']].groupby('cluster').sum().to_numpy() == np.max(whole_data_df[whole_data_df['labels']==1][['labels','cluster']].groupby('cluster').sum().to_numpy()))[0][0]"
   ]
  },
  {
   "cell_type": "code",
   "execution_count": 84,
   "id": "f1ad26f9-9b21-418c-b5ae-6826403f1556",
   "metadata": {},
   "outputs": [],
   "source": [
    "distances = np.zeros((3))\n",
    "for i in range(3):\n",
    "    distances[i] = np.linalg.norm(clusters.cluster_centers_[positive_cluster] - clusters.cluster_centers_[i])"
   ]
  },
  {
   "cell_type": "code",
   "execution_count": 85,
   "id": "a921a2b5-a95b-4825-870f-d469a37192b7",
   "metadata": {},
   "outputs": [],
   "source": [
    "negative_cluster = np.where(distances == np.max(distances))"
   ]
  },
  {
   "cell_type": "code",
   "execution_count": 87,
   "id": "54b7397c-76bf-487d-8220-507b852d40e5",
   "metadata": {},
   "outputs": [],
   "source": [
    "cluster_labeled_init = np.ones((200))*99\n",
    "for i in range(200):\n",
    "    if whole_data_df.loc[i,'cluster'] == negative_cluster:\n",
    "        cluster_labeled_init[i] = 0\n",
    "    elif whole_data_df.loc[i,'labels'] == 1:\n",
    "        cluster_labeled_init[i] = 1"
   ]
  },
  {
   "cell_type": "code",
   "execution_count": 88,
   "id": "106b280b-d4db-4c50-ad02-92ecf74d73a1",
   "metadata": {},
   "outputs": [],
   "source": [
    "whole_data_df['init_'] = cluster_labeled_init"
   ]
  },
  {
   "cell_type": "code",
   "execution_count": 91,
   "id": "191eef6f-8380-4c8d-92b4-d52deafc43d4",
   "metadata": {},
   "outputs": [
    {
     "data": {
      "text/html": [
       "<div>\n",
       "<style scoped>\n",
       "    .dataframe tbody tr th:only-of-type {\n",
       "        vertical-align: middle;\n",
       "    }\n",
       "\n",
       "    .dataframe tbody tr th {\n",
       "        vertical-align: top;\n",
       "    }\n",
       "\n",
       "    .dataframe thead th {\n",
       "        text-align: right;\n",
       "    }\n",
       "</style>\n",
       "<table border=\"1\" class=\"dataframe\">\n",
       "  <thead>\n",
       "    <tr style=\"text-align: right;\">\n",
       "      <th></th>\n",
       "      <th>x1</th>\n",
       "      <th>x2</th>\n",
       "      <th>labels</th>\n",
       "      <th>cluster</th>\n",
       "    </tr>\n",
       "    <tr>\n",
       "      <th>init_</th>\n",
       "      <th></th>\n",
       "      <th></th>\n",
       "      <th></th>\n",
       "      <th></th>\n",
       "    </tr>\n",
       "  </thead>\n",
       "  <tbody>\n",
       "    <tr>\n",
       "      <th>0.0</th>\n",
       "      <td>52</td>\n",
       "      <td>52</td>\n",
       "      <td>52</td>\n",
       "      <td>52</td>\n",
       "    </tr>\n",
       "    <tr>\n",
       "      <th>1.0</th>\n",
       "      <td>18</td>\n",
       "      <td>18</td>\n",
       "      <td>18</td>\n",
       "      <td>18</td>\n",
       "    </tr>\n",
       "    <tr>\n",
       "      <th>99.0</th>\n",
       "      <td>130</td>\n",
       "      <td>130</td>\n",
       "      <td>130</td>\n",
       "      <td>130</td>\n",
       "    </tr>\n",
       "  </tbody>\n",
       "</table>\n",
       "</div>"
      ],
      "text/plain": [
       "        x1   x2  labels  cluster\n",
       "init_                           \n",
       "0.0     52   52      52       52\n",
       "1.0     18   18      18       18\n",
       "99.0   130  130     130      130"
      ]
     },
     "execution_count": 91,
     "metadata": {},
     "output_type": "execute_result"
    }
   ],
   "source": [
    "whole_data_df.groupby('init_').count()"
   ]
  },
  {
   "cell_type": "code",
   "execution_count": null,
   "id": "8fc50c1b-37c2-4105-a52d-3199a200312f",
   "metadata": {},
   "outputs": [],
   "source": []
  }
 ],
 "metadata": {
  "kernelspec": {
   "display_name": "Python 3 (ipykernel)",
   "language": "python",
   "name": "python3"
  },
  "language_info": {
   "codemirror_mode": {
    "name": "ipython",
    "version": 3
   },
   "file_extension": ".py",
   "mimetype": "text/x-python",
   "name": "python",
   "nbconvert_exporter": "python",
   "pygments_lexer": "ipython3",
   "version": "3.12.3"
  }
 },
 "nbformat": 4,
 "nbformat_minor": 5
}
