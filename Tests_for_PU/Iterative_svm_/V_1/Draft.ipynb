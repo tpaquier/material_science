{
 "cells": [
  {
   "cell_type": "code",
   "execution_count": 1,
   "id": "d8e58caa-50a7-436c-a70b-165b54545c78",
   "metadata": {},
   "outputs": [],
   "source": [
    "import numpy as np\n",
    "import pandas as pd\n",
    "import matplotlib.pyplot as plt\n",
    "from scipy.stats import bernoulli\n",
    "from sklearn.cluster import KMeans\n",
    "from sklearn.preprocessing import StandardScaler\n",
    "from tqdm import tqdm"
   ]
  },
  {
   "cell_type": "code",
   "execution_count": 2,
   "id": "59881002-9a10-48c8-9439-451c0eb5696e",
   "metadata": {},
   "outputs": [],
   "source": [
    "mushrooms = pd.read_csv('mushroom.csv')"
   ]
  },
  {
   "cell_type": "markdown",
   "id": "2f6a8daa-30e5-4aae-8df8-72684cd40c58",
   "metadata": {},
   "source": [
    "### I. Test with an 'intuitive approach'"
   ]
  },
  {
   "cell_type": "code",
   "execution_count": 3,
   "id": "bc1e6ff9-f04c-4a11-bf2b-9acb17fa98b1",
   "metadata": {},
   "outputs": [],
   "source": [
    "def rbf(x,y,l=1):\n",
    "    \"\"\"Gaussian kernel\n",
    "\n",
    "    Parameters\n",
    "    -------------------------------\n",
    "    x : float\n",
    "    a real number\n",
    "\n",
    "    y : float\n",
    "    a real number\n",
    "\n",
    "    l: float, non zero\n",
    "    a scale parameter\n",
    "    -------------------------------\n",
    "    \"\"\"\n",
    "    dim = x.shape[0]\n",
    "    vect = np.empty(dim)\n",
    "    if dim == y.shape[0]  :\n",
    "        d = np.exp(-((np.linalg.norm(x-y))**2)/(2*(l**2)))\n",
    "        return d\n",
    "    else :\n",
    "        for i in range(dim):\n",
    "            vect[i] = np.exp(-((np.linalg.norm(x[i] - y))**2)/(2*(l**2)))\n",
    "        return vect"
   ]
  },
  {
   "cell_type": "code",
   "execution_count": 4,
   "id": "e06bf251-f6e9-4317-9f36-10a865842b37",
   "metadata": {},
   "outputs": [],
   "source": [
    "#normalize the data\n",
    "#class_shrooms = mushrooms['class']\n",
    "mushrooms_copy = mushrooms.drop(['class'], axis=1)\n",
    "#list_of_cols = mushrooms.columns\n",
    "mushrooms_copy = StandardScaler().fit_transform(X=mushrooms)"
   ]
  },
  {
   "cell_type": "code",
   "execution_count": 5,
   "id": "5a4464c8-7354-4eb4-91ad-9c32b5898107",
   "metadata": {},
   "outputs": [],
   "source": [
    "#mushrooms = pd.DataFrame(mushrooms)\n",
    "#mushrooms.columns = list_of_cols\n",
    "#mushrooms['class'] = class_shrooms"
   ]
  },
  {
   "cell_type": "code",
   "execution_count": 6,
   "id": "488e15a6-0f47-4182-abd3-cd256a2aaf5b",
   "metadata": {},
   "outputs": [
    {
     "data": {
      "text/html": [
       "<div>\n",
       "<style scoped>\n",
       "    .dataframe tbody tr th:only-of-type {\n",
       "        vertical-align: middle;\n",
       "    }\n",
       "\n",
       "    .dataframe tbody tr th {\n",
       "        vertical-align: top;\n",
       "    }\n",
       "\n",
       "    .dataframe thead th {\n",
       "        text-align: right;\n",
       "    }\n",
       "</style>\n",
       "<table border=\"1\" class=\"dataframe\">\n",
       "  <thead>\n",
       "    <tr style=\"text-align: right;\">\n",
       "      <th></th>\n",
       "      <th>cap-diameter</th>\n",
       "      <th>cap-shape</th>\n",
       "      <th>gill-attachment</th>\n",
       "      <th>gill-color</th>\n",
       "      <th>stem-height</th>\n",
       "      <th>stem-width</th>\n",
       "      <th>stem-color</th>\n",
       "      <th>season</th>\n",
       "      <th>class</th>\n",
       "    </tr>\n",
       "    <tr>\n",
       "      <th>label</th>\n",
       "      <th></th>\n",
       "      <th></th>\n",
       "      <th></th>\n",
       "      <th></th>\n",
       "      <th></th>\n",
       "      <th></th>\n",
       "      <th></th>\n",
       "      <th></th>\n",
       "      <th></th>\n",
       "    </tr>\n",
       "  </thead>\n",
       "  <tbody>\n",
       "    <tr>\n",
       "      <th>-1.0</th>\n",
       "      <td>46661</td>\n",
       "      <td>46661</td>\n",
       "      <td>46661</td>\n",
       "      <td>46661</td>\n",
       "      <td>46661</td>\n",
       "      <td>46661</td>\n",
       "      <td>46661</td>\n",
       "      <td>46661</td>\n",
       "      <td>46661</td>\n",
       "    </tr>\n",
       "    <tr>\n",
       "      <th>1.0</th>\n",
       "      <td>7374</td>\n",
       "      <td>7374</td>\n",
       "      <td>7374</td>\n",
       "      <td>7374</td>\n",
       "      <td>7374</td>\n",
       "      <td>7374</td>\n",
       "      <td>7374</td>\n",
       "      <td>7374</td>\n",
       "      <td>7374</td>\n",
       "    </tr>\n",
       "  </tbody>\n",
       "</table>\n",
       "</div>"
      ],
      "text/plain": [
       "       cap-diameter  cap-shape  gill-attachment  gill-color  stem-height  \\\n",
       "label                                                                      \n",
       "-1.0          46661      46661            46661       46661        46661   \n",
       " 1.0           7374       7374             7374        7374         7374   \n",
       "\n",
       "       stem-width  stem-color  season  class  \n",
       "label                                         \n",
       "-1.0        46661       46661   46661  46661  \n",
       " 1.0         7374        7374    7374   7374  "
      ]
     },
     "execution_count": 6,
     "metadata": {},
     "output_type": "execute_result"
    }
   ],
   "source": [
    "#creation of unlabeled data\n",
    "n_samples = mushrooms.shape[0]\n",
    "mushrooms['label'] = np.ones(n_samples)*(-1)\n",
    "for i in range(n_samples):\n",
    "    random = bernoulli.rvs(p=3/4)\n",
    "    if mushrooms.loc[i,'class'] == 1 and random == 0:\n",
    "        mushrooms.loc[i,'label'] = 1\n",
    "    else:\n",
    "        mushrooms.loc[i,'label'] = -1\n",
    "mushrooms.groupby('label').count()"
   ]
  },
  {
   "cell_type": "code",
   "execution_count": 7,
   "id": "ec7da1bb-e8bc-4170-8486-2b9bc7d00dc4",
   "metadata": {},
   "outputs": [
    {
     "data": {
      "text/html": [
       "<div>\n",
       "<style scoped>\n",
       "    .dataframe tbody tr th:only-of-type {\n",
       "        vertical-align: middle;\n",
       "    }\n",
       "\n",
       "    .dataframe tbody tr th {\n",
       "        vertical-align: top;\n",
       "    }\n",
       "\n",
       "    .dataframe thead th {\n",
       "        text-align: right;\n",
       "    }\n",
       "</style>\n",
       "<table border=\"1\" class=\"dataframe\">\n",
       "  <thead>\n",
       "    <tr style=\"text-align: right;\">\n",
       "      <th></th>\n",
       "      <th>class</th>\n",
       "      <th>label</th>\n",
       "    </tr>\n",
       "    <tr>\n",
       "      <th>cluster</th>\n",
       "      <th></th>\n",
       "      <th></th>\n",
       "    </tr>\n",
       "  </thead>\n",
       "  <tbody>\n",
       "    <tr>\n",
       "      <th>0</th>\n",
       "      <td>4803</td>\n",
       "      <td>-6121.0</td>\n",
       "    </tr>\n",
       "    <tr>\n",
       "      <th>1</th>\n",
       "      <td>6693</td>\n",
       "      <td>-3482.0</td>\n",
       "    </tr>\n",
       "    <tr>\n",
       "      <th>2</th>\n",
       "      <td>6473</td>\n",
       "      <td>-4113.0</td>\n",
       "    </tr>\n",
       "    <tr>\n",
       "      <th>3</th>\n",
       "      <td>4531</td>\n",
       "      <td>-6754.0</td>\n",
       "    </tr>\n",
       "    <tr>\n",
       "      <th>4</th>\n",
       "      <td>14</td>\n",
       "      <td>-6744.0</td>\n",
       "    </tr>\n",
       "    <tr>\n",
       "      <th>5</th>\n",
       "      <td>3664</td>\n",
       "      <td>-6034.0</td>\n",
       "    </tr>\n",
       "    <tr>\n",
       "      <th>6</th>\n",
       "      <td>2528</td>\n",
       "      <td>-2704.0</td>\n",
       "    </tr>\n",
       "    <tr>\n",
       "      <th>7</th>\n",
       "      <td>969</td>\n",
       "      <td>-3335.0</td>\n",
       "    </tr>\n",
       "  </tbody>\n",
       "</table>\n",
       "</div>"
      ],
      "text/plain": [
       "         class   label\n",
       "cluster               \n",
       "0         4803 -6121.0\n",
       "1         6693 -3482.0\n",
       "2         6473 -4113.0\n",
       "3         4531 -6754.0\n",
       "4           14 -6744.0\n",
       "5         3664 -6034.0\n",
       "6         2528 -2704.0\n",
       "7          969 -3335.0"
      ]
     },
     "execution_count": 7,
     "metadata": {},
     "output_type": "execute_result"
    }
   ],
   "source": [
    "n_cluster = 8\n",
    "clusterized_data = KMeans(n_clusters=n_cluster, init='random').fit(mushrooms_copy)\n",
    "mushrooms['cluster'] = clusterized_data.labels_\n",
    "mushrooms[['class','label','cluster']].groupby('cluster').sum()"
   ]
  },
  {
   "cell_type": "code",
   "execution_count": 8,
   "id": "704c7a6d-025c-4df1-a40c-1966e5de647c",
   "metadata": {},
   "outputs": [
    {
     "name": "stdout",
     "output_type": "stream",
     "text": [
      "the cluster containing positive values is :  1 \n",
      " the one containing negative exampels is :  4\n"
     ]
    }
   ],
   "source": [
    "list_of_ratio = []\n",
    "for i in range(n_cluster):\n",
    "    list_of_ratio.append(mushrooms[mushrooms['cluster'] == i]['label'].sum()/mushrooms[mushrooms['cluster'] == i]['class'].shape[0])\n",
    "list_of_ratio = np.array(list_of_ratio)\n",
    "positive_cluster = np.argmax(list_of_ratio)\n",
    "negative_cluster = np.argmin(list_of_ratio)\n",
    "print('the cluster containing positive values is : ', positive_cluster, '\\n', \n",
    "      'the one containing negative exampels is : ', negative_cluster)\n"
   ]
  },
  {
   "cell_type": "code",
   "execution_count": 9,
   "id": "69c31b42-0845-4a30-8a03-fc122f969805",
   "metadata": {},
   "outputs": [],
   "source": [
    "reliable_positives = mushrooms[mushrooms['cluster'] == positive_cluster]\n",
    "reliable_positives = reliable_positives[reliable_positives['label'] == 1]\n",
    "reliable_negatives = mushrooms[mushrooms['cluster'] == negative_cluster]\n",
    "reliable_negatives = reliable_negatives[reliable_negatives['label'] == -1]"
   ]
  },
  {
   "cell_type": "code",
   "execution_count": 10,
   "id": "34e54693-38f9-4d4b-8518-eebceef1a276",
   "metadata": {},
   "outputs": [
    {
     "name": "stdout",
     "output_type": "stream",
     "text": [
      "1617 6750\n"
     ]
    }
   ],
   "source": [
    "print(reliable_positives.shape[0], reliable_negatives.shape[0])"
   ]
  },
  {
   "cell_type": "code",
   "execution_count": 11,
   "id": "0cacae56-f15e-4ac8-98c2-c51fc55df46f",
   "metadata": {},
   "outputs": [],
   "source": [
    "reliable_negatives = reliable_negatives.sample(n=reliable_positives.shape[0])"
   ]
  },
  {
   "cell_type": "code",
   "execution_count": 12,
   "id": "af4ca534-d3f4-42fd-b5aa-7fd1be487229",
   "metadata": {},
   "outputs": [],
   "source": [
    "#we suppose (it is true but for the test) that the ratio of correctly labeled example \n",
    "#is 1/2"
   ]
  },
  {
   "cell_type": "code",
   "execution_count": 13,
   "id": "cd4d5bc3-f2ef-4603-8e60-c7d8299d049d",
   "metadata": {},
   "outputs": [],
   "source": [
    "#r = 3/8 with our procedure of unlabelisation"
   ]
  },
  {
   "cell_type": "code",
   "execution_count": 14,
   "id": "4730998b-86ac-4d41-bed7-03fb408401e7",
   "metadata": {},
   "outputs": [],
   "source": [
    "#df = df[['col3', 'col2', 'col1']]"
   ]
  },
  {
   "cell_type": "code",
   "execution_count": 15,
   "id": "87ca1443-6d75-4eda-8a16-e98930fd9589",
   "metadata": {},
   "outputs": [],
   "source": [
    "gamma = 1\n",
    "positives_array = reliable_positives.drop(['class','cluster'], axis=1)\n",
    "negatives_array = reliable_negatives.drop(['class', 'cluster'], axis=1)\n",
    "data_svm = np.vstack((positives_array,negatives_array))\n",
    "n_reliable = data_svm.shape[0]\n",
    "outcome = data_svm[:,8]\n",
    "data_svm = data_svm[:,:8]\n",
    "omega = np.empty((n_reliable,n_reliable))\n",
    "for k in range(n_reliable):\n",
    "    for i in range(n_reliable):\n",
    "        omega[k,i] = outcome[k]*outcome[i]*rbf(x=data_svm[k,:],y=data_svm[i,:],l=10)\n",
    "#now, computation of the rest of the matrix\n",
    "first_row = np.hstack((0,-np.transpose(outcome)))\n",
    "first_row = first_row.reshape(1,first_row.shape[0])\n",
    "bot_of_mat_right = omega + (1/gamma)*np.eye(n_reliable)\n",
    "bot_of_mat = np.hstack((outcome.reshape(n_reliable,1), bot_of_mat_right))\n",
    "whole_mat = np.vstack((first_row, bot_of_mat))\n",
    "right_hand = np.ones(n_reliable+1)\n",
    "right_hand[0] = 0"
   ]
  },
  {
   "cell_type": "code",
   "execution_count": 16,
   "id": "a1406773-4624-45f8-b4d9-8bd40b41afde",
   "metadata": {},
   "outputs": [],
   "source": [
    "coeffs = np.linalg.solve(a=whole_mat,b=right_hand)\n",
    "b = coeffs[0]\n",
    "alpha = coeffs[1:coeffs.shape[0]]"
   ]
  },
  {
   "cell_type": "code",
   "execution_count": 17,
   "id": "5564d818-5aa6-4c56-b641-fb1dce135f8d",
   "metadata": {},
   "outputs": [
    {
     "name": "stderr",
     "output_type": "stream",
     "text": [
      "100%|██████████| 54035/54035 [14:08<00:00, 63.65it/s]\n"
     ]
    }
   ],
   "source": [
    "test_data = mushrooms.drop(['class','label','cluster'], axis=1).to_numpy()\n",
    "results = np.empty(n_samples)\n",
    "for i in tqdm(range(n_samples)):\n",
    "    results[i] = np.sum(alpha*outcome*rbf(x=data_svm,y=test_data[i,:],l=10))"
   ]
  },
  {
   "cell_type": "code",
   "execution_count": 18,
   "id": "ce09da8e-2c0c-44ee-be38-88815b5559e9",
   "metadata": {},
   "outputs": [],
   "source": [
    "sorted_results = np.sort(results)"
   ]
  },
  {
   "cell_type": "code",
   "execution_count": 19,
   "id": "01facb06-4443-4593-99ec-f1e2563289b3",
   "metadata": {},
   "outputs": [],
   "source": [
    "good_ratio = int(n_samples/2)"
   ]
  },
  {
   "cell_type": "code",
   "execution_count": 20,
   "id": "87b8dfda-7cdf-4246-a219-9413b27a0ac6",
   "metadata": {},
   "outputs": [],
   "source": [
    "b = sorted_results[good_ratio]"
   ]
  },
  {
   "cell_type": "code",
   "execution_count": 21,
   "id": "a5866f9a-2208-4c1d-8bf9-a0321017693e",
   "metadata": {},
   "outputs": [],
   "source": [
    "last_results = np.empty(n_samples)\n",
    "for i in range(n_samples):\n",
    "    last_results[i] = np.sign(results[i] - b)"
   ]
  },
  {
   "cell_type": "code",
   "execution_count": null,
   "id": "d73be933-07ed-4627-87f7-d9c4a51ea87d",
   "metadata": {},
   "outputs": [],
   "source": [
    "np.sum(last_results)"
   ]
  },
  {
   "cell_type": "code",
   "execution_count": null,
   "id": "c471e799-513f-4525-abaf-ff4a3fb98b63",
   "metadata": {
    "scrolled": true
   },
   "outputs": [],
   "source": [
    "plt.plot(sorted_results)"
   ]
  },
  {
   "cell_type": "code",
   "execution_count": 24,
   "id": "4a43f24e-97e1-4582-af0a-f8c9ac0b97cf",
   "metadata": {},
   "outputs": [
    {
     "data": {
      "text/plain": [
       "array([1., 1., 1., ..., 1., 1., 1.])"
      ]
     },
     "execution_count": 24,
     "metadata": {},
     "output_type": "execute_result"
    }
   ],
   "source": [
    "last_results"
   ]
  },
  {
   "cell_type": "code",
   "execution_count": 25,
   "id": "90bcead6-ed2d-4380-bdef-9ffe84b55c35",
   "metadata": {},
   "outputs": [
    {
     "data": {
      "text/plain": [
       "array([-1.,  0.,  1.])"
      ]
     },
     "execution_count": 25,
     "metadata": {},
     "output_type": "execute_result"
    }
   ],
   "source": [
    "np.unique(last_results)"
   ]
  },
  {
   "cell_type": "markdown",
   "id": "bef471ff-de45-4838-9e4b-c0182d66899a",
   "metadata": {},
   "source": [
    "## The algorithm, finally"
   ]
  },
  {
   "cell_type": "code",
   "execution_count": 33,
   "id": "07685306-f9fe-4ece-a5f5-79ad1477eabe",
   "metadata": {},
   "outputs": [
    {
     "name": "stdout",
     "output_type": "stream",
     "text": [
      "number of positive examples not well labeled :  10\n"
     ]
    }
   ],
   "source": [
    "mushrooms['it_results'] = last_results\n",
    "correct_with_b = 0\n",
    "for i in range(reliable_positives.shape[0]):\n",
    "    if mushrooms.loc[reliable_positives.index[i],'it_results'] == 1:\n",
    "        correct_with_b += 1\n",
    "print('number of positive examples not well labeled : ', reliable_positives.shape[0] - correct_with_b)"
   ]
  },
  {
   "cell_type": "code",
   "execution_count": null,
   "id": "1e6cccad-c8f7-4248-9784-7f249dd4f12a",
   "metadata": {},
   "outputs": [],
   "source": [
    "#First, the cluster step, to 'initialize' the labels, and the creation of unlabeled data\n",
    "mushrooms = pd.read_csv('mushroom.csv')\n",
    "mushrooms_copy = mushrooms.drop(['class'], axis=1)\n",
    "mushrooms_copy = StandardScaler().fit_transform(X=mushrooms)\n",
    "n_samples = mushrooms.shape[0]\n",
    "mushrooms['label'] = np.ones(n_samples)*(-1)\n",
    "\n",
    "for i in range(n_samples):\n",
    "    random = bernoulli.rvs(p=3/4)\n",
    "    if mushrooms.loc[i,'class'] == 1 and random == 0:\n",
    "        mushrooms.loc[i,'label'] = 1\n",
    "    else:\n",
    "        mushrooms.loc[i,'label'] = -1\n",
    "\n",
    "n_cluster = 8\n",
    "clusterized_data = KMeans(n_clusters=n_cluster, init='random').fit(mushrooms_copy)\n",
    "mushrooms['cluster'] = clusterized_data.labels_\n",
    "\n",
    "list_of_ratio = []\n",
    "for i in range(n_cluster):\n",
    "    list_of_ratio.append(mushrooms[mushrooms['cluster'] == i]['label'].sum()/mushrooms[mushrooms['cluster'] == i]['class'].shape[0])\n",
    "list_of_ratio = np.array(list_of_ratio)\n",
    "positive_cluster = np.argmax(list_of_ratio)\n",
    "negative_cluster = np.argmin(list_of_ratio)\n",
    "print('the cluster containing positive values is : ', positive_cluster, '\\n', \n",
    "      'the one containing negative exampels is : ', negative_cluster)\n",
    "\n",
    "reliable_positives = mushrooms[mushrooms['cluster'] == positive_cluster]\n",
    "reliable_positives = reliable_positives[reliable_positives['label'] == 1]\n",
    "reliable_negatives = mushrooms[mushrooms['cluster'] == negative_cluster]\n",
    "reliable_negatives = reliable_negatives[reliable_negatives['label'] == -1]\n",
    "reliable_negatives = reliable_negatives.sample(n=reliable_positives.shape[0]) #to adjust the class balance ratio\n"
   ]
  },
  {
   "cell_type": "code",
   "execution_count": 2,
   "id": "51ec8e45-c26a-40cf-8af9-9c3471c7f2d0",
   "metadata": {
    "collapsed": true,
    "jupyter": {
     "outputs_hidden": true
    }
   },
   "outputs": [
    {
     "ename": "NameError",
     "evalue": "name 'reliable_positives' is not defined",
     "output_type": "error",
     "traceback": [
      "\u001b[0;31m---------------------------------------------------------------------------\u001b[0m",
      "\u001b[0;31mNameError\u001b[0m                                 Traceback (most recent call last)",
      "Cell \u001b[0;32mIn[2], line 3\u001b[0m\n\u001b[1;32m      1\u001b[0m \u001b[38;5;66;03m#first svm part\u001b[39;00m\n\u001b[1;32m      2\u001b[0m gamma \u001b[38;5;241m=\u001b[39m \u001b[38;5;241m1\u001b[39m\n\u001b[0;32m----> 3\u001b[0m positives_array \u001b[38;5;241m=\u001b[39m \u001b[43mreliable_positives\u001b[49m\u001b[38;5;241m.\u001b[39mdrop([\u001b[38;5;124m'\u001b[39m\u001b[38;5;124mclass\u001b[39m\u001b[38;5;124m'\u001b[39m,\u001b[38;5;124m'\u001b[39m\u001b[38;5;124mcluster\u001b[39m\u001b[38;5;124m'\u001b[39m], axis\u001b[38;5;241m=\u001b[39m\u001b[38;5;241m1\u001b[39m)\n\u001b[1;32m      4\u001b[0m negatives_array \u001b[38;5;241m=\u001b[39m reliable_negatives\u001b[38;5;241m.\u001b[39mdrop([\u001b[38;5;124m'\u001b[39m\u001b[38;5;124mclass\u001b[39m\u001b[38;5;124m'\u001b[39m, \u001b[38;5;124m'\u001b[39m\u001b[38;5;124mcluster\u001b[39m\u001b[38;5;124m'\u001b[39m], axis\u001b[38;5;241m=\u001b[39m\u001b[38;5;241m1\u001b[39m)\n\u001b[1;32m      5\u001b[0m data_svm \u001b[38;5;241m=\u001b[39m np\u001b[38;5;241m.\u001b[39mvstack((positives_array,negatives_array))\n",
      "\u001b[0;31mNameError\u001b[0m: name 'reliable_positives' is not defined"
     ]
    }
   ],
   "source": [
    "#first svm part\n",
    "gamma = 1\n",
    "positives_array = reliable_positives.drop(['class','cluster'], axis=1)\n",
    "negatives_array = reliable_negatives.drop(['class', 'cluster'], axis=1)\n",
    "data_svm = np.vstack((positives_array,negatives_array))\n",
    "n_reliable = data_svm.shape[0]\n",
    "outcome = data_svm[:,8]\n",
    "data_svm = data_svm[:,:8]\n",
    "omega = np.empty((n_reliable,n_reliable))\n",
    "for k in range(n_reliable):\n",
    "    for i in range(n_reliable):\n",
    "        omega[k,i] = outcome[k]*outcome[i]*rbf(x=data_svm[k,:],y=data_svm[i,:],l=10)\n",
    "\n",
    "\n",
    "#now, computation of the rest of the matrix\n",
    "first_row = np.hstack((0,-np.transpose(outcome)))\n",
    "first_row = first_row.reshape(1,first_row.shape[0])\n",
    "bot_of_mat_right = omega + (1/gamma)*np.eye(n_reliable)\n",
    "bot_of_mat = np.hstack((outcome.reshape(n_reliable,1), bot_of_mat_right))\n",
    "whole_mat = np.vstack((first_row, bot_of_mat))\n",
    "right_hand = np.ones(n_reliable+1)\n",
    "right_hand[0] = 0\n",
    "\n",
    "#we get the coefficients\n",
    "coeffs = np.linalg.solve(a=whole_mat,b=right_hand)\n",
    "b = coeffs[0]\n",
    "alpha = coeffs[1:coeffs.shape[0]]\n",
    "\n",
    "#now we compute the wt \\phi(x) and then we order them \n",
    "test_data = mushrooms.drop(['class','label','cluster'], axis=1).to_numpy()\n",
    "results = np.empty(n_samples)\n",
    "for i in tqdm(range(n_samples)):\n",
    "    results[i] = np.sum(alpha*outcome*rbf(x=data_svm,y=test_data[i,:],l=10))\n",
    "sorted_results = np.sort(results)\n",
    "good_ratio = int(n_samples/2)\n",
    "b = sorted_results[good_ratio]\n",
    "\n",
    "last_results = np.empty(n_samples)\n",
    "for i in range(n_samples):\n",
    "    last_results[i] = np.sign(results[i] - b)\n",
    "\n",
    "mushrooms['it_results'] = last_results\n",
    "correct_with_b = 0\n",
    "for i in range(reliable_positives.shape[0]):\n",
    "    if mushrooms.loc[reliable_positives.index[i],'it_results'] == 1:\n",
    "        correct_with_b += 1\n",
    "missclass = reliable_positives.shape[0] - correct_with_b\n",
    "#should do smthg to control the variation of b\n"
   ]
  },
  {
   "cell_type": "code",
   "execution_count": null,
   "id": "44a2b79f-e822-4c5f-b6c9-0ab694e202f9",
   "metadata": {},
   "outputs": [],
   "source": []
  }
 ],
 "metadata": {
  "kernelspec": {
   "display_name": "Python 3 (ipykernel)",
   "language": "python",
   "name": "python3"
  },
  "language_info": {
   "codemirror_mode": {
    "name": "ipython",
    "version": 3
   },
   "file_extension": ".py",
   "mimetype": "text/x-python",
   "name": "python",
   "nbconvert_exporter": "python",
   "pygments_lexer": "ipython3",
   "version": "3.12.3"
  }
 },
 "nbformat": 4,
 "nbformat_minor": 5
}
