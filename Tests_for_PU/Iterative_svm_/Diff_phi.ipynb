{
 "cells": [
  {
   "cell_type": "code",
   "execution_count": 1,
   "id": "d8e58caa-50a7-436c-a70b-165b54545c78",
   "metadata": {},
   "outputs": [],
   "source": [
    "import numpy as np\n",
    "import pandas as pd\n",
    "import matplotlib.pyplot as plt\n",
    "from scipy.stats import bernoulli\n",
    "from sklearn.cluster import KMeans\n",
    "from sklearn.preprocessing import StandardScaler\n",
    "from tqdm import tqdm"
   ]
  },
  {
   "cell_type": "code",
   "execution_count": 2,
   "id": "59881002-9a10-48c8-9439-451c0eb5696e",
   "metadata": {},
   "outputs": [],
   "source": [
    "mushrooms = pd.read_csv('mushroom.csv')"
   ]
  },
  {
   "cell_type": "markdown",
   "id": "2f6a8daa-30e5-4aae-8df8-72684cd40c58",
   "metadata": {},
   "source": [
    "### I. Test with an 'intuitive approach'"
   ]
  },
  {
   "cell_type": "code",
   "execution_count": 3,
   "id": "bc1e6ff9-f04c-4a11-bf2b-9acb17fa98b1",
   "metadata": {},
   "outputs": [],
   "source": [
    "def rbf(x,y,l=1):\n",
    "    \"\"\"Gaussian kernel\n",
    "\n",
    "    Parameters\n",
    "    -------------------------------\n",
    "    x : float\n",
    "    a real number\n",
    "\n",
    "    y : float\n",
    "    a real number\n",
    "\n",
    "    l: float, non zero\n",
    "    a scale parameter\n",
    "    -------------------------------\n",
    "    \"\"\"\n",
    "    dim = x.shape[0]\n",
    "    vect = np.empty(dim)\n",
    "    if dim == y.shape[0]  :\n",
    "        d = np.exp(-((np.linalg.norm(x-y))**2)/(2*(l**2)))\n",
    "        return d\n",
    "    else :\n",
    "        for i in range(dim):\n",
    "            vect[i] = np.exp(-((np.linalg.norm(x[i] - y))**2)/(2*(l**2)))\n",
    "        return vect"
   ]
  },
  {
   "cell_type": "code",
   "execution_count": 4,
   "id": "e06bf251-f6e9-4317-9f36-10a865842b37",
   "metadata": {},
   "outputs": [],
   "source": [
    "#normalize the data\n",
    "#class_shrooms = mushrooms['class']\n",
    "mushrooms_copy = mushrooms.drop(['class'], axis=1)\n",
    "#list_of_cols = mushrooms.columns\n",
    "mushrooms_copy = StandardScaler().fit_transform(X=mushrooms)"
   ]
  },
  {
   "cell_type": "code",
   "execution_count": 5,
   "id": "5a4464c8-7354-4eb4-91ad-9c32b5898107",
   "metadata": {},
   "outputs": [],
   "source": [
    "#mushrooms = pd.DataFrame(mushrooms)\n",
    "#mushrooms.columns = list_of_cols\n",
    "#mushrooms['class'] = class_shrooms"
   ]
  },
  {
   "cell_type": "code",
   "execution_count": 6,
   "id": "488e15a6-0f47-4182-abd3-cd256a2aaf5b",
   "metadata": {},
   "outputs": [
    {
     "data": {
      "text/html": [
       "<div>\n",
       "<style scoped>\n",
       "    .dataframe tbody tr th:only-of-type {\n",
       "        vertical-align: middle;\n",
       "    }\n",
       "\n",
       "    .dataframe tbody tr th {\n",
       "        vertical-align: top;\n",
       "    }\n",
       "\n",
       "    .dataframe thead th {\n",
       "        text-align: right;\n",
       "    }\n",
       "</style>\n",
       "<table border=\"1\" class=\"dataframe\">\n",
       "  <thead>\n",
       "    <tr style=\"text-align: right;\">\n",
       "      <th></th>\n",
       "      <th>cap-diameter</th>\n",
       "      <th>cap-shape</th>\n",
       "      <th>gill-attachment</th>\n",
       "      <th>gill-color</th>\n",
       "      <th>stem-height</th>\n",
       "      <th>stem-width</th>\n",
       "      <th>stem-color</th>\n",
       "      <th>season</th>\n",
       "      <th>class</th>\n",
       "    </tr>\n",
       "    <tr>\n",
       "      <th>label</th>\n",
       "      <th></th>\n",
       "      <th></th>\n",
       "      <th></th>\n",
       "      <th></th>\n",
       "      <th></th>\n",
       "      <th></th>\n",
       "      <th></th>\n",
       "      <th></th>\n",
       "      <th></th>\n",
       "    </tr>\n",
       "  </thead>\n",
       "  <tbody>\n",
       "    <tr>\n",
       "      <th>-1.0</th>\n",
       "      <td>46640</td>\n",
       "      <td>46640</td>\n",
       "      <td>46640</td>\n",
       "      <td>46640</td>\n",
       "      <td>46640</td>\n",
       "      <td>46640</td>\n",
       "      <td>46640</td>\n",
       "      <td>46640</td>\n",
       "      <td>46640</td>\n",
       "    </tr>\n",
       "    <tr>\n",
       "      <th>1.0</th>\n",
       "      <td>7395</td>\n",
       "      <td>7395</td>\n",
       "      <td>7395</td>\n",
       "      <td>7395</td>\n",
       "      <td>7395</td>\n",
       "      <td>7395</td>\n",
       "      <td>7395</td>\n",
       "      <td>7395</td>\n",
       "      <td>7395</td>\n",
       "    </tr>\n",
       "  </tbody>\n",
       "</table>\n",
       "</div>"
      ],
      "text/plain": [
       "       cap-diameter  cap-shape  gill-attachment  gill-color  stem-height  \\\n",
       "label                                                                      \n",
       "-1.0          46640      46640            46640       46640        46640   \n",
       " 1.0           7395       7395             7395        7395         7395   \n",
       "\n",
       "       stem-width  stem-color  season  class  \n",
       "label                                         \n",
       "-1.0        46640       46640   46640  46640  \n",
       " 1.0         7395        7395    7395   7395  "
      ]
     },
     "execution_count": 6,
     "metadata": {},
     "output_type": "execute_result"
    }
   ],
   "source": [
    "#creation of unlabeled data\n",
    "n_samples = mushrooms.shape[0]\n",
    "mushrooms['label'] = np.ones(n_samples)*(-1)\n",
    "for i in range(n_samples):\n",
    "    random = bernoulli.rvs(p=3/4)\n",
    "    if mushrooms.loc[i,'class'] == 1 and random == 0:\n",
    "        mushrooms.loc[i,'label'] = 1\n",
    "    else:\n",
    "        mushrooms.loc[i,'label'] = -1\n",
    "mushrooms.groupby('label').count()"
   ]
  },
  {
   "cell_type": "code",
   "execution_count": 7,
   "id": "ec7da1bb-e8bc-4170-8486-2b9bc7d00dc4",
   "metadata": {},
   "outputs": [
    {
     "data": {
      "text/html": [
       "<div>\n",
       "<style scoped>\n",
       "    .dataframe tbody tr th:only-of-type {\n",
       "        vertical-align: middle;\n",
       "    }\n",
       "\n",
       "    .dataframe tbody tr th {\n",
       "        vertical-align: top;\n",
       "    }\n",
       "\n",
       "    .dataframe thead th {\n",
       "        text-align: right;\n",
       "    }\n",
       "</style>\n",
       "<table border=\"1\" class=\"dataframe\">\n",
       "  <thead>\n",
       "    <tr style=\"text-align: right;\">\n",
       "      <th></th>\n",
       "      <th>class</th>\n",
       "      <th>label</th>\n",
       "    </tr>\n",
       "    <tr>\n",
       "      <th>cluster</th>\n",
       "      <th></th>\n",
       "      <th></th>\n",
       "    </tr>\n",
       "  </thead>\n",
       "  <tbody>\n",
       "    <tr>\n",
       "      <th>0</th>\n",
       "      <td>2518</td>\n",
       "      <td>-3049.0</td>\n",
       "    </tr>\n",
       "    <tr>\n",
       "      <th>1</th>\n",
       "      <td>3920</td>\n",
       "      <td>-4762.0</td>\n",
       "    </tr>\n",
       "    <tr>\n",
       "      <th>2</th>\n",
       "      <td>0</td>\n",
       "      <td>-9934.0</td>\n",
       "    </tr>\n",
       "    <tr>\n",
       "      <th>3</th>\n",
       "      <td>922</td>\n",
       "      <td>-3326.0</td>\n",
       "    </tr>\n",
       "    <tr>\n",
       "      <th>4</th>\n",
       "      <td>6163</td>\n",
       "      <td>-5395.0</td>\n",
       "    </tr>\n",
       "    <tr>\n",
       "      <th>5</th>\n",
       "      <td>5435</td>\n",
       "      <td>-3322.0</td>\n",
       "    </tr>\n",
       "    <tr>\n",
       "      <th>6</th>\n",
       "      <td>4695</td>\n",
       "      <td>-5959.0</td>\n",
       "    </tr>\n",
       "    <tr>\n",
       "      <th>7</th>\n",
       "      <td>6022</td>\n",
       "      <td>-3498.0</td>\n",
       "    </tr>\n",
       "  </tbody>\n",
       "</table>\n",
       "</div>"
      ],
      "text/plain": [
       "         class   label\n",
       "cluster               \n",
       "0         2518 -3049.0\n",
       "1         3920 -4762.0\n",
       "2            0 -9934.0\n",
       "3          922 -3326.0\n",
       "4         6163 -5395.0\n",
       "5         5435 -3322.0\n",
       "6         4695 -5959.0\n",
       "7         6022 -3498.0"
      ]
     },
     "execution_count": 7,
     "metadata": {},
     "output_type": "execute_result"
    }
   ],
   "source": [
    "n_cluster = 8\n",
    "clusterized_data = KMeans(n_clusters=n_cluster, init='random').fit(mushrooms_copy)\n",
    "mushrooms['cluster'] = clusterized_data.labels_\n",
    "mushrooms[['class','label','cluster']].groupby('cluster').sum()"
   ]
  },
  {
   "cell_type": "code",
   "execution_count": 8,
   "id": "704c7a6d-025c-4df1-a40c-1966e5de647c",
   "metadata": {},
   "outputs": [
    {
     "name": "stdout",
     "output_type": "stream",
     "text": [
      "the cluster containing positive values is :  7 \n",
      " the one containing negative exampels is :  2\n"
     ]
    }
   ],
   "source": [
    "list_of_ratio = []\n",
    "for i in range(n_cluster):\n",
    "    list_of_ratio.append(mushrooms[mushrooms['cluster'] == i]['label'].sum()/mushrooms[mushrooms['cluster'] == i]['class'].shape[0])\n",
    "list_of_ratio = np.array(list_of_ratio)\n",
    "positive_cluster = np.argmax(list_of_ratio)\n",
    "negative_cluster = np.argmin(list_of_ratio)\n",
    "print('the cluster containing positive values is : ', positive_cluster, '\\n', \n",
    "      'the one containing negative exampels is : ', negative_cluster)\n"
   ]
  },
  {
   "cell_type": "code",
   "execution_count": 9,
   "id": "69c31b42-0845-4a30-8a03-fc122f969805",
   "metadata": {},
   "outputs": [],
   "source": [
    "reliable_positives = mushrooms[mushrooms['cluster'] == positive_cluster]\n",
    "reliable_positives = reliable_positives[reliable_positives['label'] == 1]\n",
    "reliable_negatives = mushrooms[mushrooms['cluster'] == negative_cluster]\n",
    "reliable_negatives = reliable_negatives[reliable_negatives['label'] == -1]"
   ]
  },
  {
   "cell_type": "code",
   "execution_count": 10,
   "id": "34e54693-38f9-4d4b-8518-eebceef1a276",
   "metadata": {},
   "outputs": [
    {
     "name": "stdout",
     "output_type": "stream",
     "text": [
      "1487 9934\n"
     ]
    }
   ],
   "source": [
    "print(reliable_positives.shape[0], reliable_negatives.shape[0])"
   ]
  },
  {
   "cell_type": "code",
   "execution_count": 11,
   "id": "0cacae56-f15e-4ac8-98c2-c51fc55df46f",
   "metadata": {},
   "outputs": [],
   "source": [
    "reliable_negatives = reliable_negatives.sample(n=reliable_positives.shape[0])"
   ]
  },
  {
   "cell_type": "code",
   "execution_count": 12,
   "id": "af4ca534-d3f4-42fd-b5aa-7fd1be487229",
   "metadata": {},
   "outputs": [],
   "source": [
    "#we suppose (it is true but for the test) that the ratio of correctly labeled example \n",
    "#is 1/2"
   ]
  },
  {
   "cell_type": "code",
   "execution_count": 13,
   "id": "cd4d5bc3-f2ef-4603-8e60-c7d8299d049d",
   "metadata": {},
   "outputs": [],
   "source": [
    "#r = 3/8 with our procedure of unlabelisation"
   ]
  },
  {
   "cell_type": "code",
   "execution_count": 14,
   "id": "4730998b-86ac-4d41-bed7-03fb408401e7",
   "metadata": {},
   "outputs": [],
   "source": [
    "#df = df[['col3', 'col2', 'col1']]"
   ]
  },
  {
   "cell_type": "code",
   "execution_count": 15,
   "id": "87ca1443-6d75-4eda-8a16-e98930fd9589",
   "metadata": {},
   "outputs": [],
   "source": [
    "gamma = 1\n",
    "positives_array = reliable_positives.drop(['class','cluster'], axis=1)\n",
    "negatives_array = reliable_negatives.drop(['class', 'cluster'], axis=1)\n",
    "data_svm = np.vstack((positives_array,negatives_array))\n",
    "n_reliable = data_svm.shape[0]\n",
    "outcome = data_svm[:,8]\n",
    "data_svm = data_svm[:,:8]\n",
    "omega = np.empty((n_reliable,n_reliable))\n",
    "for k in range(n_reliable):\n",
    "    for i in range(n_reliable):\n",
    "        omega[k,i] = outcome[k]*outcome[i]*rbf(x=data_svm[k,:],y=data_svm[i,:],l=10)\n",
    "#now, computation of the rest of the matrix\n",
    "first_row = np.hstack((0,-np.transpose(outcome)))\n",
    "first_row = first_row.reshape(1,first_row.shape[0])\n",
    "bot_of_mat_right = omega + (1/gamma)*np.eye(n_reliable)\n",
    "bot_of_mat = np.hstack((outcome.reshape(n_reliable,1), bot_of_mat_right))\n",
    "whole_mat = np.vstack((first_row, bot_of_mat))\n",
    "right_hand = np.ones(n_reliable+1)\n",
    "right_hand[0] = 0"
   ]
  },
  {
   "cell_type": "code",
   "execution_count": 16,
   "id": "a1406773-4624-45f8-b4d9-8bd40b41afde",
   "metadata": {},
   "outputs": [],
   "source": [
    "coeffs = np.linalg.solve(a=whole_mat,b=right_hand)\n",
    "b = coeffs[0]\n",
    "alpha = coeffs[1:coeffs.shape[0]]"
   ]
  },
  {
   "cell_type": "code",
   "execution_count": 17,
   "id": "5564d818-5aa6-4c56-b641-fb1dce135f8d",
   "metadata": {},
   "outputs": [
    {
     "name": "stderr",
     "output_type": "stream",
     "text": [
      "100%|██████████| 54035/54035 [08:11<00:00, 109.99it/s]\n"
     ]
    }
   ],
   "source": [
    "test_data = mushrooms.drop(['class','label','cluster'], axis=1).to_numpy()\n",
    "results = np.empty(n_samples)\n",
    "for i in tqdm(range(n_samples)):\n",
    "    results[i] = np.sum(alpha*outcome*rbf(x=data_svm,y=test_data[i,:],l=10))"
   ]
  },
  {
   "cell_type": "code",
   "execution_count": 37,
   "id": "ce09da8e-2c0c-44ee-be38-88815b5559e9",
   "metadata": {},
   "outputs": [],
   "source": [
    "sorted_results = np.sort(results)"
   ]
  },
  {
   "cell_type": "code",
   "execution_count": 38,
   "id": "01facb06-4443-4593-99ec-f1e2563289b3",
   "metadata": {},
   "outputs": [],
   "source": [
    "good_ratio = int(n_samples/2)"
   ]
  },
  {
   "cell_type": "code",
   "execution_count": 39,
   "id": "87b8dfda-7cdf-4246-a219-9413b27a0ac6",
   "metadata": {},
   "outputs": [],
   "source": [
    "b = sorted_results[good_ratio]"
   ]
  },
  {
   "cell_type": "code",
   "execution_count": 40,
   "id": "a5866f9a-2208-4c1d-8bf9-a0321017693e",
   "metadata": {},
   "outputs": [],
   "source": [
    "last_results = np.empty(n_samples)\n",
    "for i in range(n_samples):\n",
    "    last_results[i] = np.sign(results[i] - b)"
   ]
  },
  {
   "cell_type": "code",
   "execution_count": 41,
   "id": "7712b574-c3af-4e42-9ac1-539d993428c1",
   "metadata": {},
   "outputs": [
    {
     "data": {
      "text/plain": [
       "0.0"
      ]
     },
     "execution_count": 41,
     "metadata": {},
     "output_type": "execute_result"
    }
   ],
   "source": [
    "np.sum(last_results)"
   ]
  },
  {
   "cell_type": "code",
   "execution_count": 48,
   "id": "8384d57d-cea5-438e-85ca-29c6b7814707",
   "metadata": {},
   "outputs": [
    {
     "data": {
      "text/plain": [
       "[<matplotlib.lines.Line2D at 0x7ff690935b80>]"
      ]
     },
     "execution_count": 48,
     "metadata": {},
     "output_type": "execute_result"
    },
    {
     "data": {
      "image/png": "[encoded data removed]",
      "text/plain": [
       "<Figure size 640x480 with 1 Axes>"
      ]
     },
     "metadata": {},
     "output_type": "display_data"
    }
   ],
   "source": [
    "plt.plot(sorted_results)"
   ]
  },
  {
   "cell_type": "code",
   "execution_count": 50,
   "id": "4a43f24e-97e1-4582-af0a-f8c9ac0b97cf",
   "metadata": {},
   "outputs": [
    {
     "data": {
      "text/plain": [
       "array([1., 1., 1., ..., 1., 1., 1.])"
      ]
     },
     "execution_count": 50,
     "metadata": {},
     "output_type": "execute_result"
    }
   ],
   "source": [
    "last_results"
   ]
  },
  {
   "cell_type": "code",
   "execution_count": 52,
   "id": "90bcead6-ed2d-4380-bdef-9ffe84b55c35",
   "metadata": {},
   "outputs": [
    {
     "data": {
      "text/plain": [
       "array([-1.,  0.,  1.])"
      ]
     },
     "execution_count": 52,
     "metadata": {},
     "output_type": "execute_result"
    }
   ],
   "source": [
    "np.unique(last_results)"
   ]
  },
  {
   "cell_type": "code",
   "execution_count": null,
   "id": "81109dae-4b23-4859-9f7f-adf3ea21e148",
   "metadata": {},
   "outputs": [],
   "source": []
  }
 ],
 "metadata": {
  "kernelspec": {
   "display_name": "Python 3 (ipykernel)",
   "language": "python",
   "name": "python3"
  },
  "language_info": {
   "codemirror_mode": {
    "name": "ipython",
    "version": 3
   },
   "file_extension": ".py",
   "mimetype": "text/x-python",
   "name": "python",
   "nbconvert_exporter": "python",
   "pygments_lexer": "ipython3",
   "version": "3.12.3"
  }
 },
 "nbformat": 4,
 "nbformat_minor": 5
}
