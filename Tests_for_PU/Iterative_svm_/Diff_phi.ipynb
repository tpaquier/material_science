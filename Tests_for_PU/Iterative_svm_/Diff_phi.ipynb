{
 "cells": [
  {
   "cell_type": "code",
   "execution_count": 1,
   "id": "d8e58caa-50a7-436c-a70b-165b54545c78",
   "metadata": {},
   "outputs": [],
   "source": [
    "import numpy as np\n",
    "import pandas as pd\n",
    "import matplotlib.pyplot as plt\n",
    "from scipy.stats import bernoulli\n",
    "from sklearn.cluster import KMeans\n",
    "from sklearn.preprocessing import StandardScaler"
   ]
  },
  {
   "cell_type": "code",
   "execution_count": 2,
   "id": "59881002-9a10-48c8-9439-451c0eb5696e",
   "metadata": {},
   "outputs": [],
   "source": [
    "mushrooms = pd.read_csv('mushroom.csv')"
   ]
  },
  {
   "cell_type": "markdown",
   "id": "2f6a8daa-30e5-4aae-8df8-72684cd40c58",
   "metadata": {},
   "source": [
    "### I.   $\\phi(x) = x$"
   ]
  },
  {
   "cell_type": "code",
   "execution_count": 3,
   "id": "e06bf251-f6e9-4317-9f36-10a865842b37",
   "metadata": {},
   "outputs": [],
   "source": [
    "class_shrooms = mushrooms['class']\n",
    "mushrooms = mushrooms.drop(['class'], axis=1)\n",
    "list_of_cols = mushrooms.columns\n",
    "mushrooms = StandardScaler().fit_transform(X=mushrooms)"
   ]
  },
  {
   "cell_type": "code",
   "execution_count": 4,
   "id": "5a4464c8-7354-4eb4-91ad-9c32b5898107",
   "metadata": {},
   "outputs": [],
   "source": [
    "mushrooms = pd.DataFrame(mushrooms)\n",
    "mushrooms.columns = list_of_cols\n",
    "mushrooms['class'] = class_shrooms"
   ]
  },
  {
   "cell_type": "code",
   "execution_count": 5,
   "id": "488e15a6-0f47-4182-abd3-cd256a2aaf5b",
   "metadata": {},
   "outputs": [
    {
     "data": {
      "text/html": [
       "<div>\n",
       "<style scoped>\n",
       "    .dataframe tbody tr th:only-of-type {\n",
       "        vertical-align: middle;\n",
       "    }\n",
       "\n",
       "    .dataframe tbody tr th {\n",
       "        vertical-align: top;\n",
       "    }\n",
       "\n",
       "    .dataframe thead th {\n",
       "        text-align: right;\n",
       "    }\n",
       "</style>\n",
       "<table border=\"1\" class=\"dataframe\">\n",
       "  <thead>\n",
       "    <tr style=\"text-align: right;\">\n",
       "      <th></th>\n",
       "      <th>cap-diameter</th>\n",
       "      <th>cap-shape</th>\n",
       "      <th>gill-attachment</th>\n",
       "      <th>gill-color</th>\n",
       "      <th>stem-height</th>\n",
       "      <th>stem-width</th>\n",
       "      <th>stem-color</th>\n",
       "      <th>season</th>\n",
       "      <th>class</th>\n",
       "    </tr>\n",
       "    <tr>\n",
       "      <th>label</th>\n",
       "      <th></th>\n",
       "      <th></th>\n",
       "      <th></th>\n",
       "      <th></th>\n",
       "      <th></th>\n",
       "      <th></th>\n",
       "      <th></th>\n",
       "      <th></th>\n",
       "      <th></th>\n",
       "    </tr>\n",
       "  </thead>\n",
       "  <tbody>\n",
       "    <tr>\n",
       "      <th>-1.0</th>\n",
       "      <td>46747</td>\n",
       "      <td>46747</td>\n",
       "      <td>46747</td>\n",
       "      <td>46747</td>\n",
       "      <td>46747</td>\n",
       "      <td>46747</td>\n",
       "      <td>46747</td>\n",
       "      <td>46747</td>\n",
       "      <td>46747</td>\n",
       "    </tr>\n",
       "    <tr>\n",
       "      <th>1.0</th>\n",
       "      <td>7288</td>\n",
       "      <td>7288</td>\n",
       "      <td>7288</td>\n",
       "      <td>7288</td>\n",
       "      <td>7288</td>\n",
       "      <td>7288</td>\n",
       "      <td>7288</td>\n",
       "      <td>7288</td>\n",
       "      <td>7288</td>\n",
       "    </tr>\n",
       "  </tbody>\n",
       "</table>\n",
       "</div>"
      ],
      "text/plain": [
       "       cap-diameter  cap-shape  gill-attachment  gill-color  stem-height  \\\n",
       "label                                                                      \n",
       "-1.0          46747      46747            46747       46747        46747   \n",
       " 1.0           7288       7288             7288        7288         7288   \n",
       "\n",
       "       stem-width  stem-color  season  class  \n",
       "label                                         \n",
       "-1.0        46747       46747   46747  46747  \n",
       " 1.0         7288        7288    7288   7288  "
      ]
     },
     "execution_count": 5,
     "metadata": {},
     "output_type": "execute_result"
    }
   ],
   "source": [
    "n_samples = mushrooms.shape[0]\n",
    "mushrooms['label'] = np.ones(n_samples)*(-1)\n",
    "for i in range(n_samples):\n",
    "    random = bernoulli.rvs(p=3/4)\n",
    "    if mushrooms.loc[i,'class'] == 1 and random == 0:\n",
    "        mushrooms.loc[i,'label'] = 1\n",
    "    else:\n",
    "        mushrooms.loc[i,'label'] = -1\n",
    "mushrooms.groupby('label').count()"
   ]
  },
  {
   "cell_type": "code",
   "execution_count": 6,
   "id": "ec7da1bb-e8bc-4170-8486-2b9bc7d00dc4",
   "metadata": {},
   "outputs": [
    {
     "data": {
      "text/html": [
       "<div>\n",
       "<style scoped>\n",
       "    .dataframe tbody tr th:only-of-type {\n",
       "        vertical-align: middle;\n",
       "    }\n",
       "\n",
       "    .dataframe tbody tr th {\n",
       "        vertical-align: top;\n",
       "    }\n",
       "\n",
       "    .dataframe thead th {\n",
       "        text-align: right;\n",
       "    }\n",
       "</style>\n",
       "<table border=\"1\" class=\"dataframe\">\n",
       "  <thead>\n",
       "    <tr style=\"text-align: right;\">\n",
       "      <th></th>\n",
       "      <th>class</th>\n",
       "      <th>label</th>\n",
       "    </tr>\n",
       "    <tr>\n",
       "      <th>cluster</th>\n",
       "      <th></th>\n",
       "      <th></th>\n",
       "    </tr>\n",
       "  </thead>\n",
       "  <tbody>\n",
       "    <tr>\n",
       "      <th>0</th>\n",
       "      <td>5990</td>\n",
       "      <td>-5621.0</td>\n",
       "    </tr>\n",
       "    <tr>\n",
       "      <th>1</th>\n",
       "      <td>3300</td>\n",
       "      <td>-5571.0</td>\n",
       "    </tr>\n",
       "    <tr>\n",
       "      <th>2</th>\n",
       "      <td>3752</td>\n",
       "      <td>-4067.0</td>\n",
       "    </tr>\n",
       "    <tr>\n",
       "      <th>3</th>\n",
       "      <td>2660</td>\n",
       "      <td>-3314.0</td>\n",
       "    </tr>\n",
       "    <tr>\n",
       "      <th>4</th>\n",
       "      <td>5017</td>\n",
       "      <td>-7120.0</td>\n",
       "    </tr>\n",
       "    <tr>\n",
       "      <th>5</th>\n",
       "      <td>2362</td>\n",
       "      <td>-5089.0</td>\n",
       "    </tr>\n",
       "    <tr>\n",
       "      <th>6</th>\n",
       "      <td>5371</td>\n",
       "      <td>-5269.0</td>\n",
       "    </tr>\n",
       "    <tr>\n",
       "      <th>7</th>\n",
       "      <td>1223</td>\n",
       "      <td>-3408.0</td>\n",
       "    </tr>\n",
       "  </tbody>\n",
       "</table>\n",
       "</div>"
      ],
      "text/plain": [
       "         class   label\n",
       "cluster               \n",
       "0         5990 -5621.0\n",
       "1         3300 -5571.0\n",
       "2         3752 -4067.0\n",
       "3         2660 -3314.0\n",
       "4         5017 -7120.0\n",
       "5         2362 -5089.0\n",
       "6         5371 -5269.0\n",
       "7         1223 -3408.0"
      ]
     },
     "execution_count": 6,
     "metadata": {},
     "output_type": "execute_result"
    }
   ],
   "source": [
    "n_cluster = 8\n",
    "clusterized_data = KMeans(n_clusters=n_cluster, init='random').fit(mushrooms.drop(['label', 'class'], axis=1).to_numpy())\n",
    "mushrooms['cluster'] = clusterized_data.labels_\n",
    "mushrooms[['class','label','cluster']].groupby('cluster').sum()"
   ]
  },
  {
   "cell_type": "code",
   "execution_count": 7,
   "id": "704c7a6d-025c-4df1-a40c-1966e5de647c",
   "metadata": {},
   "outputs": [
    {
     "name": "stdout",
     "output_type": "stream",
     "text": [
      "the cluster containing positive values is :  0 \n",
      " the one containing negative exampels is :  7\n"
     ]
    }
   ],
   "source": [
    "list_of_ratio = []\n",
    "for i in range(n_cluster):\n",
    "    list_of_ratio.append(mushrooms[mushrooms['cluster'] == i]['label'].sum()/mushrooms[mushrooms['cluster'] == i]['class'].shape[0])\n",
    "list_of_ratio = np.array(list_of_ratio)\n",
    "positive_cluster = np.argmax(list_of_ratio)\n",
    "negative_cluster = np.argmin(list_of_ratio)\n",
    "print('the cluster containing positive values is : ', positive_cluster, '\\n', \n",
    "      'the one containing negative exampels is : ', negative_cluster)\n"
   ]
  },
  {
   "cell_type": "code",
   "execution_count": 8,
   "id": "69c31b42-0845-4a30-8a03-fc122f969805",
   "metadata": {},
   "outputs": [],
   "source": [
    "reliable_positives = mushrooms[mushrooms['cluster'] == positive_cluster]\n",
    "reliable_positives = reliable_positives[reliable_positives['label'] == 1]\n",
    "reliable_negatives = mushrooms[mushrooms['cluster'] == negative_cluster]\n",
    "reliable_negatives = reliable_negatives[reliable_negatives['label'] == -1]"
   ]
  },
  {
   "cell_type": "code",
   "execution_count": 9,
   "id": "34e54693-38f9-4d4b-8518-eebceef1a276",
   "metadata": {},
   "outputs": [
    {
     "name": "stdout",
     "output_type": "stream",
     "text": [
      "1446 3743\n"
     ]
    }
   ],
   "source": [
    "print(reliable_positives.shape[0], reliable_negatives.shape[0])"
   ]
  },
  {
   "cell_type": "code",
   "execution_count": 10,
   "id": "0cacae56-f15e-4ac8-98c2-c51fc55df46f",
   "metadata": {},
   "outputs": [],
   "source": [
    "reliable_negatives = reliable_negatives.sample(n=reliable_positives.shape[0])"
   ]
  },
  {
   "cell_type": "code",
   "execution_count": 11,
   "id": "af4ca534-d3f4-42fd-b5aa-7fd1be487229",
   "metadata": {},
   "outputs": [],
   "source": [
    "#we suppose (it is true but for the test) that the ratio of correctly labeled example \n",
    "#is 1/2"
   ]
  },
  {
   "cell_type": "code",
   "execution_count": null,
   "id": "0cc15a85-bfe0-40b9-9437-8c986087bbf3",
   "metadata": {},
   "outputs": [],
   "source": []
  }
 ],
 "metadata": {
  "kernelspec": {
   "display_name": "Python 3 (ipykernel)",
   "language": "python",
   "name": "python3"
  },
  "language_info": {
   "codemirror_mode": {
    "name": "ipython",
    "version": 3
   },
   "file_extension": ".py",
   "mimetype": "text/x-python",
   "name": "python",
   "nbconvert_exporter": "python",
   "pygments_lexer": "ipython3",
   "version": "3.12.3"
  }
 },
 "nbformat": 4,
 "nbformat_minor": 5
}
