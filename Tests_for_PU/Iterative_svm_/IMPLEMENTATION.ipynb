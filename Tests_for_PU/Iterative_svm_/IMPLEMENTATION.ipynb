{
 "cells": [
  {
   "cell_type": "code",
   "execution_count": 1,
   "id": "a5f50394-de2c-4d67-baad-b407fc4aef99",
   "metadata": {},
   "outputs": [],
   "source": [
    "import numpy as np\n",
    "import pandas as pd\n",
    "import matplotlib.pyplot as plt\n",
    "from scipy.stats import bernoulli\n",
    "from sklearn.cluster import KMeans\n",
    "from sklearn.preprocessing import StandardScaler\n",
    "from tqdm import tqdm\n",
    "from sklearn.svm import SVC"
   ]
  },
  {
   "cell_type": "code",
   "execution_count": 2,
   "id": "580a5f5e-bbca-46bf-998a-f29764612af8",
   "metadata": {},
   "outputs": [],
   "source": [
    "mushrooms = pd.read_csv('mushroom.csv')\n",
    "mushrooms_train = mushrooms.sample(frac=0.8)\n",
    "list_train = mushrooms_train.index\n",
    "list_test = []\n",
    "for i in mushrooms.index:\n",
    "    if i not in list_train:\n",
    "        list_test.append(i)\n",
    "mushroom_test = mushrooms.filter(items=list_test,axis=0)\n",
    "\n",
    "mushrooms = mushrooms_train.copy().reset_index(drop=True)\n",
    "mushroom_test = mushroom_test.reset_index(drop=True)"
   ]
  },
  {
   "cell_type": "code",
   "execution_count": 3,
   "id": "1f5a3dd9-2fdf-4a37-9102-9e6cd366aeb3",
   "metadata": {},
   "outputs": [],
   "source": [
    "def rbf(x,y,l=1):\n",
    "    \"\"\"Gaussian kernel\n",
    "\n",
    "    Parameters\n",
    "    -------------------------------\n",
    "    x : float\n",
    "    a real number\n",
    "\n",
    "    y : float\n",
    "    a real number\n",
    "\n",
    "    l: float, non zero\n",
    "    a scale parameter\n",
    "    -------------------------------\n",
    "    \"\"\"\n",
    "    dim = x.shape[0]\n",
    "    vect = np.empty(dim)\n",
    "    if dim == y.shape[0]  :\n",
    "        d = np.exp(-((np.linalg.norm(x-y))**2)/(2*(l**2)))\n",
    "        return d\n",
    "    else :\n",
    "        for i in range(dim):\n",
    "            vect[i] = np.exp(-((np.linalg.norm(x[i] - y))**2)/(2*(l**2)))\n",
    "        return vect"
   ]
  },
  {
   "cell_type": "code",
   "execution_count": 4,
   "id": "ef0408fa-5c66-415f-92c9-3f15969057c7",
   "metadata": {},
   "outputs": [
    {
     "name": "stdout",
     "output_type": "stream",
     "text": [
      "the cluster containing positive values is :  7 \n",
      " the one containing negative exampels is :  2\n"
     ]
    }
   ],
   "source": [
    "#First, the cluster step, to 'initialize' the labels, and the creation of unlabeled data\n",
    "mushrooms_copy = mushrooms.drop(['class'], axis=1)\n",
    "mushrooms_copy = StandardScaler().fit_transform(X=mushrooms_copy)\n",
    "n_samples = mushrooms.shape[0]\n",
    "mushrooms['label'] = np.ones(n_samples)*(-1)\n",
    "\n",
    "for i in mushrooms.index:\n",
    "    random = bernoulli.rvs(p=3/4)\n",
    "    if mushrooms.loc[i,'class'] == 1 and random == 0:\n",
    "        mushrooms.loc[i,'label'] = 1\n",
    "    else:\n",
    "        mushrooms.loc[i,'label'] = -1\n",
    "\n",
    "n_cluster = 8\n",
    "clusterized_data = KMeans(n_clusters=n_cluster, init='random').fit(mushrooms_copy)\n",
    "mushrooms['cluster'] = clusterized_data.labels_\n",
    "\n",
    "list_of_ratio = []\n",
    "for i in range(n_cluster):\n",
    "    list_of_ratio.append(mushrooms[mushrooms['cluster'] == i]['label'].sum()/mushrooms[mushrooms['cluster'] == i]['class'].shape[0])\n",
    "list_of_ratio = np.array(list_of_ratio)\n",
    "positive_cluster = np.argmax(list_of_ratio)\n",
    "negative_cluster = np.argmin(list_of_ratio)\n",
    "print('the cluster containing positive values is : ', positive_cluster, '\\n', \n",
    "      'the one containing negative exampels is : ', negative_cluster)\n",
    "\n",
    "reliable_positives = mushrooms[mushrooms['cluster'] == positive_cluster]\n",
    "reliable_positives = reliable_positives[reliable_positives['label'] == 1]\n",
    "reliable_negatives = mushrooms[mushrooms['cluster'] == negative_cluster]\n",
    "reliable_negatives = reliable_negatives[reliable_negatives['label'] == -1]\n",
    "reliable_negatives = reliable_negatives.sample(n=reliable_positives.shape[0]) #to adjust the class balance ratio"
   ]
  },
  {
   "cell_type": "code",
   "execution_count": 5,
   "id": "a2a104fe-9f6c-4808-b10a-433532d41ba9",
   "metadata": {},
   "outputs": [
    {
     "name": "stderr",
     "output_type": "stream",
     "text": [
      "100%|██████████| 43228/43228 [07:55<00:00, 90.82it/s] \n"
     ]
    }
   ],
   "source": [
    "#first svm part\n",
    "gamma = 1\n",
    "positives_array = reliable_positives.drop(['class','cluster'], axis=1)\n",
    "negatives_array = reliable_negatives.drop(['class', 'cluster'], axis=1)\n",
    "data_svm = np.vstack((positives_array,negatives_array))\n",
    "n_reliable = data_svm.shape[0]\n",
    "outcome = data_svm[:,8]\n",
    "data_svm = data_svm[:,:8]\n",
    "omega = np.empty((n_reliable,n_reliable))\n",
    "for k in range(n_reliable):\n",
    "    for i in range(k,n_reliable):\n",
    "        omega[k,i] = outcome[k]*outcome[i]*rbf(x=data_svm[k,:],y=data_svm[i,:],l=10)\n",
    "omega_t = np.transpose(omega)\n",
    "omega = omega_t + omega\n",
    "for i in range(n_reliable):\n",
    "    omega[i,i] = 1\n",
    "\n",
    "\n",
    "#now, computation of the rest of the matrix\n",
    "first_row = np.hstack((0,-np.transpose(outcome)))\n",
    "first_row = first_row.reshape(1,first_row.shape[0])\n",
    "bot_of_mat_right = omega + (1/gamma)*np.eye(n_reliable)\n",
    "bot_of_mat = np.hstack((outcome.reshape(n_reliable,1), bot_of_mat_right))\n",
    "whole_mat = np.vstack((first_row, bot_of_mat))\n",
    "right_hand = np.ones(n_reliable+1)\n",
    "right_hand[0] = 0\n",
    "\n",
    "#we get the coefficients\n",
    "coeffs = np.linalg.solve(a=whole_mat,b=right_hand)\n",
    "b = coeffs[0]\n",
    "alpha = coeffs[1:coeffs.shape[0]]\n",
    "\n",
    "#now we compute the wt \\phi(x) and then we order them \n",
    "test_data = mushrooms.drop(['class','label','cluster'], axis=1).to_numpy()\n",
    "results = np.empty(n_samples)\n",
    "for i in tqdm(range(n_samples)):\n",
    "    results[i] = np.sum(alpha*outcome*rbf(x=data_svm,y=test_data[i,:],l=10))\n",
    "sorted_results = np.sort(results)\n",
    "good_ratio = int(n_samples/2)\n",
    "b = sorted_results[good_ratio]\n",
    "\n",
    "last_results = np.empty(n_samples)\n",
    "for i in range(n_samples):\n",
    "    last_results[i] = np.sign(results[i] - b)\n",
    "\n",
    "mushrooms['it_results'] = last_results\n",
    "correct_with_b = 0\n",
    "for i in range(reliable_positives.shape[0]):\n",
    "    if mushrooms.loc[reliable_positives.index[i],'it_results'] == 1:\n",
    "        correct_with_b += 1\n",
    "missclass = reliable_positives.shape[0] - correct_with_b"
   ]
  },
  {
   "cell_type": "code",
   "execution_count": 6,
   "id": "c5d533d6-fc93-40dd-b837-3997aba91a26",
   "metadata": {},
   "outputs": [
    {
     "name": "stdout",
     "output_type": "stream",
     "text": [
      "0.6345255170499237 21613\n"
     ]
    }
   ],
   "source": [
    "positive = 0\n",
    "true_positive = 0\n",
    "for i in range(n_samples):\n",
    "    if last_results[i] == 1 and mushrooms.loc[mushrooms.index[i],'class'] == 1:\n",
    "        true_positive += 1\n",
    "for i in range(n_samples):\n",
    "    if last_results[i] == 1:\n",
    "        positive += 1\n",
    "print(true_positive/positive, positive)"
   ]
  },
  {
   "cell_type": "code",
   "execution_count": 7,
   "id": "ca02f4e0-b24b-4d70-8090-7e0ffbe51423",
   "metadata": {},
   "outputs": [],
   "source": [
    "compteur = 0\n",
    "max_iter = 500\n",
    "while missclass!=0 and compteur<max_iter:\n",
    "    compteur += 1\n",
    "    b = (1+0.05)*b\n",
    "    last_results = np.empty(n_samples)\n",
    "    for i in range(n_samples):\n",
    "        last_results[i] = np.sign(results[i] - b)\n",
    "\n",
    "    mushrooms['it_results'] = last_results\n",
    "    correct_with_b = 0\n",
    "    for i in range(reliable_positives.shape[0]):\n",
    "        if mushrooms.loc[reliable_positives.index[i],'it_results'] == 1:\n",
    "            correct_with_b += 1\n",
    "    missclass = reliable_positives.shape[0] - correct_with_b"
   ]
  },
  {
   "cell_type": "code",
   "execution_count": 8,
   "id": "05244561-ccf8-489d-8723-b630d15fcc35",
   "metadata": {},
   "outputs": [],
   "source": [
    "mushrooms_it = mushrooms"
   ]
  },
  {
   "cell_type": "code",
   "execution_count": 9,
   "id": "2d2becda-5b6e-4bc9-bafb-1ab386031f11",
   "metadata": {},
   "outputs": [
    {
     "name": "stdout",
     "output_type": "stream",
     "text": [
      "0.6344961598963634\n"
     ]
    }
   ],
   "source": [
    "positive = int(n_samples/2)\n",
    "true_positive = 0\n",
    "for i in range(n_samples):\n",
    "    if mushrooms_it.loc[mushrooms.index[i],'it_results'] == 1 and mushrooms_it.loc[mushrooms.index[i],'class'] == 1:\n",
    "        true_positive += 1\n",
    "\n",
    "precision = true_positive/positive\n",
    "print(precision)"
   ]
  },
  {
   "cell_type": "code",
   "execution_count": 10,
   "id": "d067d482-97df-4579-a83f-6d7bf58775af",
   "metadata": {},
   "outputs": [
    {
     "data": {
      "text/plain": [
       "13714"
      ]
     },
     "execution_count": 10,
     "metadata": {},
     "output_type": "execute_result"
    }
   ],
   "source": [
    "true_positive"
   ]
  },
  {
   "cell_type": "code",
   "execution_count": 11,
   "id": "413a2353-5b7c-4744-beee-5a4d594ec269",
   "metadata": {},
   "outputs": [],
   "source": [
    "compteur=0\n",
    "max_iter=10\n",
    "good_ratio = int(n_samples/2)\n",
    "while True and compteur<max_iter:\n",
    "    compteur+=1\n",
    "    for i in range(n_samples):\n",
    "        if mushrooms_it.loc[mushrooms.index[i],'it_results'] == 0:\n",
    "            mushrooms_it.loc[mushrooms.index[i],'it_results'] = -1\n",
    "    positives_new = mushrooms_it[mushrooms_it['it_results'] == 1]\n",
    "    positives_new = positives_new[positives_new['label'] == 1]\n",
    "    negatives_new = mushrooms_it[mushrooms_it['it_results'] == -1]\n",
    "    negatives_new = negatives_new[negatives_new['label'] == -1]\n",
    "    negatives_new = negatives_new.sample(n=positives_new.shape[0])\n",
    "    #first svm part\n",
    "    gamma = 1\n",
    "    positives_array_new = positives_new.drop(['class','cluster','label'], axis=1)\n",
    "    negatives_array_new = negatives_new.drop(['class', 'cluster','label'], axis=1)\n",
    "    data_svm_it = np.vstack((positives_array_new,negatives_array_new))\n",
    "    n_reliable = data_svm_it.shape[0]\n",
    "    outcome_it = data_svm_it[:,8].copy()\n",
    "    data_svm_it = data_svm_it[:,:8].copy()\n",
    "    #compute omega\n",
    "    omega_it = np.zeros((n_reliable,n_reliable))\n",
    "    for k in range(n_reliable):\n",
    "        for i in range(k,n_reliable):\n",
    "            omega_it[k,i] = outcome_it[k]*outcome_it[i]*rbf(x=data_svm_it[k,:],y=data_svm_it[i,:],l=10)\n",
    "    omega_it_t = np.transpose(omega_it)\n",
    "    omega_it = omega_it+omega_it_t\n",
    "    for i in range(n_reliable):\n",
    "        omega_it[i,i] = 1\n",
    "    \n",
    "    first_row_it = np.hstack((0,-np.transpose(outcome_it)))\n",
    "    first_row_it = first_row_it.reshape(1,first_row_it.shape[0])\n",
    "    bot_of_mat_right_it = omega_it + (1/gamma)*np.eye(n_reliable)\n",
    "    bot_of_mat_it = np.hstack((outcome_it.reshape(n_reliable,1), bot_of_mat_right_it))\n",
    "    whole_mat_it = np.vstack((first_row_it, bot_of_mat_it))\n",
    "    right_hand_it = np.ones(n_reliable+1)\n",
    "    right_hand_it[0] = 0\n",
    "    coeffs_it = np.linalg.solve(a=whole_mat_it,b=right_hand_it)\n",
    "    b_it = coeffs_it[0]\n",
    "    alpha_it = coeffs_it[1:coeffs_it.shape[0]]\n",
    "    test_data_it = mushrooms_it.drop(['class','label','cluster','it_results'], axis=1).to_numpy()\n",
    "    results_new = np.empty(n_samples)\n",
    "    #the results in the previous algo is now 'new_results'\n",
    "\n",
    "    \n",
    "    for i in range(n_samples):\n",
    "        results_new[i] = np.sum(alpha_it*outcome_it*rbf(x=data_svm_it,y=test_data_it[i,:],l=10))\n",
    "    sorted_results_it = np.sort(results_new)\n",
    "    b_it = sorted_results_it[good_ratio]\n",
    "    last_results_it = np.empty(n_samples)\n",
    "    for i in range(n_samples):\n",
    "        last_results_it[i] = np.sign(results_new[i] - b)\n",
    "    correct_with_b_it = 0 \n",
    "    for i in range(mushrooms_it[mushrooms['label'] == 1].shape[0]):\n",
    "        if last_results_it[i] == 1:\n",
    "            correct_with_b_it += 1\n",
    "    missclass_it = positives_new.shape[0] - correct_with_b_it\n",
    "    compteur_bis = 0\n",
    "    max_iter_bis = 200\n",
    "    while missclass_it!=0 and compteur_bis<max_iter_bis:\n",
    "        compteur_bis += 1\n",
    "        b_it = (1-0.05)*b_it\n",
    "        last_results_bis = np.empty(n_samples)\n",
    "        for i in range(n_samples):\n",
    "            last_results_bis[i] = np.sign(results_new[i] - b_it)\n",
    "        correct_with_b_bis = 0\n",
    "\n",
    "        for i in range(mushrooms_it[mushrooms['label'] == 1].shape[0]):\n",
    "            if last_results_bis[i] == 1:\n",
    "                correct_with_b_bis += 1\n",
    "        missclass_it = positives_new.shape[0] - correct_with_b_bis\n",
    "    stop_counter = 0\n",
    "    for i in range(n_samples):\n",
    "        if mushrooms_it.loc[mushrooms.index[i],'it_results'] != last_results_bis[i]:\n",
    "            stop_counter += 1\n",
    "    if stop_counter == 0:\n",
    "        break\n",
    "        compteur = max_iter\n",
    "    else:\n",
    "        mushrooms_it['it_results'] = last_results_bis\n",
    "alpha_it_final = alpha_it.copy()\n",
    "outcome_it_final = outcome_it.copy()"
   ]
  },
  {
   "cell_type": "code",
   "execution_count": 12,
   "id": "83c07eb4-b2c3-488a-996d-02205b961362",
   "metadata": {},
   "outputs": [],
   "source": [
    "positives = 0\n",
    "true_positives = 0\n",
    "for i in range(n_samples):\n",
    "    if last_results_bis[i] == 1:\n",
    "        positives += 1\n",
    "        if mushrooms_it.loc[mushrooms.index[i],'class'] == 1:\n",
    "            true_positives += 1\n",
    "\n",
    "precision_train = true_positives/positives\n",
    "recall_train = true_positives/mushrooms[mushrooms['class'] == 1].shape[0]\n",
    "f_1_score_train = (2*recall_train*precision_train)/(precision_train+recall_train)\n",
    "weird_thing_train = (recall_train**2)/(positives/n_samples)"
   ]
  },
  {
   "cell_type": "code",
   "execution_count": 13,
   "id": "ce665204-6f9f-445b-a5b6-109326fe1b08",
   "metadata": {},
   "outputs": [
    {
     "name": "stdout",
     "output_type": "stream",
     "text": [
      "the precision on the training data is : 0.6828688416325452 \n",
      " the recall on the training data is : 0.652036826838189 \n",
      " the f1 score on the training data is : 0.6670967741935484 \n",
      " the weird estimator is : 0.8091609067123828\n"
     ]
    }
   ],
   "source": [
    "print('the precision on the training data is :', precision_train, '\\n',\n",
    "      'the recall on the training data is :', recall_train, '\\n',\n",
    "      'the f1 score on the training data is :', f_1_score_train, '\\n',\n",
    "      'the weird estimator is :', weird_thing_train)"
   ]
  },
  {
   "cell_type": "code",
   "execution_count": 14,
   "id": "42413c21-37b3-4d93-b1ae-886f265543f8",
   "metadata": {},
   "outputs": [
    {
     "data": {
      "text/plain": [
       "15510"
      ]
     },
     "execution_count": 14,
     "metadata": {},
     "output_type": "execute_result"
    }
   ],
   "source": [
    "true_positives"
   ]
  },
  {
   "cell_type": "code",
   "execution_count": 15,
   "id": "23fb7872-97df-4d26-9691-ad12b6aae6ad",
   "metadata": {},
   "outputs": [
    {
     "data": {
      "text/plain": [
       "22713"
      ]
     },
     "execution_count": 15,
     "metadata": {},
     "output_type": "execute_result"
    }
   ],
   "source": [
    "positives"
   ]
  },
  {
   "cell_type": "code",
   "execution_count": 16,
   "id": "e089ef30-cd03-4cfd-993e-e0c85fab0250",
   "metadata": {},
   "outputs": [
    {
     "name": "stdout",
     "output_type": "stream",
     "text": [
      "7203\n"
     ]
    }
   ],
   "source": [
    "false_positive = positives - true_positives\n",
    "print(false_positive)"
   ]
  },
  {
   "cell_type": "code",
   "execution_count": 17,
   "id": "aaae491c-cb4b-4993-b220-632f1550f0be",
   "metadata": {},
   "outputs": [],
   "source": [
    "svc_sklearn = SVC().fit(X=mushrooms.to_numpy()[:,:8],y=mushrooms.to_numpy()[:,8])"
   ]
  },
  {
   "cell_type": "code",
   "execution_count": 18,
   "id": "333778ff-7ff5-4774-93ea-2a9df2c3f7ae",
   "metadata": {},
   "outputs": [],
   "source": [
    "labels_sklearn = svc_sklearn.predict(X=mushrooms.to_numpy()[:,:8])"
   ]
  },
  {
   "cell_type": "code",
   "execution_count": 19,
   "id": "f5519023-7e39-4fd9-831f-fb474ee05d4d",
   "metadata": {},
   "outputs": [],
   "source": [
    "positives_sklearn = 0\n",
    "true_positives_sklearn = 0\n",
    "for i in range(labels_sklearn.shape[0]):\n",
    "    if labels_sklearn[i] == 1:\n",
    "        positives_sklearn += 1\n",
    "        if mushrooms.to_numpy()[i,8] == 1:\n",
    "            true_positives_sklearn += 1\n",
    "\n",
    "precision_sk_train = true_positives_sklearn/positives_sklearn\n",
    "recall_sk_train = true_positives_sklearn/mushrooms[mushrooms['class'] == 1].shape[0]\n",
    "f_1_score_sk_train = (2*precision_sk_train*recall_sk_train)/(precision_sk_train+recall_sk_train)\n",
    "weird_estim_sk = (recall_sk_train**2)/(positives_sklearn/n_samples)"
   ]
  },
  {
   "cell_type": "code",
   "execution_count": 20,
   "id": "a9b8872d-4845-4cdb-81e8-ec5df1460166",
   "metadata": {},
   "outputs": [
    {
     "name": "stdout",
     "output_type": "stream",
     "text": [
      "precision of sklearn svm on training set :  0.6716285806243966 \n",
      " recall of sklearn svm on training set :  0.7018119140707109 \n",
      " f_1 score sklearn svm on training set :  0.68638858623029 \n",
      " weird thing sklearn score on training set : 0.8565946857483658\n"
     ]
    }
   ],
   "source": [
    "print('precision of sklearn svm on training set : ',precision_sk_train, '\\n',\n",
    "     'recall of sklearn svm on training set : ', recall_sk_train, '\\n', \n",
    "      'f_1 score sklearn svm on training set : ', f_1_score_sk_train, '\\n',\n",
    "      'weird thing sklearn score on training set :', weird_estim_sk)"
   ]
  },
  {
   "cell_type": "code",
   "execution_count": 21,
   "id": "14fafdda-062b-435a-8ed8-61dcda364a10",
   "metadata": {},
   "outputs": [
    {
     "data": {
      "text/plain": [
       "16694"
      ]
     },
     "execution_count": 21,
     "metadata": {},
     "output_type": "execute_result"
    }
   ],
   "source": [
    "true_positives_sklearn"
   ]
  },
  {
   "cell_type": "code",
   "execution_count": 22,
   "id": "082c4c2b-8980-4f97-bf26-d273f78f77c6",
   "metadata": {},
   "outputs": [
    {
     "data": {
      "text/plain": [
       "24856"
      ]
     },
     "execution_count": 22,
     "metadata": {},
     "output_type": "execute_result"
    }
   ],
   "source": [
    "positives_sklearn"
   ]
  },
  {
   "cell_type": "code",
   "execution_count": 23,
   "id": "ec712e81-87a3-415d-8ac3-65790683d6ac",
   "metadata": {},
   "outputs": [],
   "source": [
    "#So, we got a better result than the svm on the fully labelled data (but reduced by half).\n",
    "#The method works, however, very slow on large datasets (took 10 hours to run on the full dataset and the kernel\n",
    "#died before it could end). And the thing is that, the svm on the whole dataset had better performances."
   ]
  },
  {
   "cell_type": "code",
   "execution_count": 24,
   "id": "c1400f73-41a0-4ab9-96eb-1149be28c706",
   "metadata": {},
   "outputs": [],
   "source": [
    "data_svm_test = mushroom_test.to_numpy()[:,:8]\n",
    "n_samples_test = data_svm_test.shape[0]"
   ]
  },
  {
   "cell_type": "code",
   "execution_count": 25,
   "id": "3f2dcff5-7983-4883-9952-7b49e3a3b8b8",
   "metadata": {},
   "outputs": [],
   "source": [
    "results_test = np.empty(n_samples_test)\n",
    "for i in range(n_samples_test):\n",
    "        results_test[i] = np.sign(np.sum(alpha_it_final*outcome_it_final*rbf(x=data_svm_it,y=data_svm_test[i,:],l=10))-b_it)\n",
    "positive_test = 0\n",
    "true_positive_test = 0\n",
    "for i in range(n_samples_test):\n",
    "    if results_test[i] == 1:\n",
    "        positive_test += 1\n",
    "        if mushroom_test.loc[i,'class'] == 1:\n",
    "            true_positive_test += 1\n",
    "\n",
    "\n",
    "precision_test = true_positive_test/positive_test\n",
    "recall_test = true_positive_test/mushroom_test[mushroom_test['class'] == 1].shape[0]\n",
    "f_1_score_test = (2*precision_test*recall_test)/(precision_test+recall_test)\n",
    "weird_estimation_test = (recall_test**2)/(positive_test/n_samples_test)"
   ]
  },
  {
   "cell_type": "code",
   "execution_count": 26,
   "id": "7cac7680-340e-498c-bcaf-c78e0bff3d29",
   "metadata": {},
   "outputs": [
    {
     "name": "stdout",
     "output_type": "stream",
     "text": [
      "the precision on the test data is : 0.6688187052870355 \n",
      " the recall on the test data is : 0.650985054347826 \n",
      " the f1 score on the test data is : 0.6597813925466908 \n",
      " the weird estimator is : 0.7991287931280237\n"
     ]
    }
   ],
   "source": [
    "print('the precision on the test data is :', precision_test, '\\n',\n",
    "      'the recall on the test data is :', recall_test, '\\n',\n",
    "      'the f1 score on the test data is :', f_1_score_test, '\\n',\n",
    "      'the weird estimator is :', weird_estimation_test)"
   ]
  },
  {
   "cell_type": "code",
   "execution_count": 27,
   "id": "6d39d361-1f68-4de1-b4c4-7a01b4b41b51",
   "metadata": {},
   "outputs": [],
   "source": [
    "#doesn't perform so bad on the test data"
   ]
  },
  {
   "cell_type": "code",
   "execution_count": 28,
   "id": "095cc109-e0b8-4028-aa4c-353f279779fc",
   "metadata": {},
   "outputs": [],
   "source": [
    "labels_sklearn_test = svc_sklearn.predict(data_svm_test)\n",
    "positives_sk_test = 0\n",
    "true_positives_sk_test = 0\n",
    "for i in range(n_samples_test):\n",
    "    if labels_sklearn_test[i] == 1:\n",
    "        positives_sk_test += 1\n",
    "        if mushroom_test.loc[i,'class'] == 1:\n",
    "            true_positives_sk_test += 1\n",
    "\n",
    "precision_sk_test = true_positives_sk_test/positives_sk_test\n",
    "recall_sk_test = true_positives_sk_test/mushroom_test[mushroom_test['class'] == 1].shape[0]\n",
    "f_1_score_sk_test = (2*precision_sk_test*recall_sk_test)/(recall_sk_test+precision_sk_test)\n",
    "weird_estim_sk_test = (recall_sk_test**2)/(positives_sk_test/n_samples_test)"
   ]
  },
  {
   "cell_type": "code",
   "execution_count": 29,
   "id": "8d33e208-3a5a-48e4-b433-ccf42fd07346",
   "metadata": {},
   "outputs": [
    {
     "name": "stdout",
     "output_type": "stream",
     "text": [
      "precision on the test set by sklearn svm :  0.6652699435938759 \n",
      " recall on the test set by sklearn svm :  0.7010869565217391 \n",
      " f1 score on test set by sklearn svm : 0.6827090052096254 \n",
      " weird metric on test set by sklearn svm :  \n",
      " 0.8560657861365536\n"
     ]
    }
   ],
   "source": [
    "print('precision on the test set by sklearn svm : ', precision_sk_test, '\\n',\n",
    "      'recall on the test set by sklearn svm : ', recall_sk_test, '\\n', \n",
    "      'f1 score on test set by sklearn svm :', f_1_score_sk_test, '\\n',\n",
    "      'weird metric on test set by sklearn svm : ', '\\n', weird_estim_sk_test)"
   ]
  },
  {
   "cell_type": "code",
   "execution_count": 30,
   "id": "8c5ee2da-bce0-40c1-bf5e-7c041047e839",
   "metadata": {},
   "outputs": [
    {
     "data": {
      "text/plain": [
       "array([[1., 0.],\n",
       "       [0., 1.]])"
      ]
     },
     "execution_count": 30,
     "metadata": {},
     "output_type": "execute_result"
    }
   ],
   "source": [
    "omega[omega.shape[0]-2:,omega.shape[0]-2:]"
   ]
  },
  {
   "cell_type": "code",
   "execution_count": null,
   "id": "34d8a182-6ba7-4f92-9c35-f5b68e7faf41",
   "metadata": {},
   "outputs": [],
   "source": []
  }
 ],
 "metadata": {
  "kernelspec": {
   "display_name": "Python 3 (ipykernel)",
   "language": "python",
   "name": "python3"
  },
  "language_info": {
   "codemirror_mode": {
    "name": "ipython",
    "version": 3
   },
   "file_extension": ".py",
   "mimetype": "text/x-python",
   "name": "python",
   "nbconvert_exporter": "python",
   "pygments_lexer": "ipython3",
   "version": "3.12.4"
  }
 },
 "nbformat": 4,
 "nbformat_minor": 5
}
