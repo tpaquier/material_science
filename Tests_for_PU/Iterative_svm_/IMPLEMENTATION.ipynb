{
 "cells": [
  {
   "cell_type": "code",
   "execution_count": 1,
   "id": "a5f50394-de2c-4d67-baad-b407fc4aef99",
   "metadata": {},
   "outputs": [],
   "source": [
    "import numpy as np\n",
    "import pandas as pd\n",
    "import matplotlib.pyplot as plt\n",
    "from scipy.stats import bernoulli\n",
    "from sklearn.cluster import KMeans\n",
    "from sklearn.preprocessing import StandardScaler\n",
    "from tqdm import tqdm\n",
    "from sklearn.svm import SVC"
   ]
  },
  {
   "cell_type": "code",
   "execution_count": 2,
   "id": "580a5f5e-bbca-46bf-998a-f29764612af8",
   "metadata": {},
   "outputs": [
    {
     "data": {
      "text/html": [
       "<div>\n",
       "<style scoped>\n",
       "    .dataframe tbody tr th:only-of-type {\n",
       "        vertical-align: middle;\n",
       "    }\n",
       "\n",
       "    .dataframe tbody tr th {\n",
       "        vertical-align: top;\n",
       "    }\n",
       "\n",
       "    .dataframe thead th {\n",
       "        text-align: right;\n",
       "    }\n",
       "</style>\n",
       "<table border=\"1\" class=\"dataframe\">\n",
       "  <thead>\n",
       "    <tr style=\"text-align: right;\">\n",
       "      <th></th>\n",
       "      <th>cap-diameter</th>\n",
       "      <th>cap-shape</th>\n",
       "      <th>gill-attachment</th>\n",
       "      <th>gill-color</th>\n",
       "      <th>stem-height</th>\n",
       "      <th>stem-width</th>\n",
       "      <th>stem-color</th>\n",
       "      <th>season</th>\n",
       "    </tr>\n",
       "    <tr>\n",
       "      <th>class</th>\n",
       "      <th></th>\n",
       "      <th></th>\n",
       "      <th></th>\n",
       "      <th></th>\n",
       "      <th></th>\n",
       "      <th></th>\n",
       "      <th></th>\n",
       "      <th></th>\n",
       "    </tr>\n",
       "  </thead>\n",
       "  <tbody>\n",
       "    <tr>\n",
       "      <th>0</th>\n",
       "      <td>12180</td>\n",
       "      <td>12180</td>\n",
       "      <td>12180</td>\n",
       "      <td>12180</td>\n",
       "      <td>12180</td>\n",
       "      <td>12180</td>\n",
       "      <td>12180</td>\n",
       "      <td>12180</td>\n",
       "    </tr>\n",
       "    <tr>\n",
       "      <th>1</th>\n",
       "      <td>14837</td>\n",
       "      <td>14837</td>\n",
       "      <td>14837</td>\n",
       "      <td>14837</td>\n",
       "      <td>14837</td>\n",
       "      <td>14837</td>\n",
       "      <td>14837</td>\n",
       "      <td>14837</td>\n",
       "    </tr>\n",
       "  </tbody>\n",
       "</table>\n",
       "</div>"
      ],
      "text/plain": [
       "       cap-diameter  cap-shape  gill-attachment  gill-color  stem-height  \\\n",
       "class                                                                      \n",
       "0             12180      12180            12180       12180        12180   \n",
       "1             14837      14837            14837       14837        14837   \n",
       "\n",
       "       stem-width  stem-color  season  \n",
       "class                                  \n",
       "0           12180       12180   12180  \n",
       "1           14837       14837   14837  "
      ]
     },
     "execution_count": 2,
     "metadata": {},
     "output_type": "execute_result"
    }
   ],
   "source": [
    "mushrooms = pd.read_csv('mushroom.csv')\n",
    "mushrooms_positive = mushrooms[mushrooms['class'] == 1]\n",
    "mushrooms_negative = mushrooms[mushrooms['class'] == 0]\n",
    "mushrooms_positive = mushrooms_positive.sample(n=int(mushrooms_positive.shape[0]/2))\n",
    "mushrooms_negative = mushrooms_negative.sample(n=int(mushrooms_negative.shape[0]/2))\n",
    "mushrooms = pd.concat([mushrooms_positive,mushrooms_negative])\n",
    "mushrooms.groupby('class').count()"
   ]
  },
  {
   "cell_type": "code",
   "execution_count": 3,
   "id": "1f5a3dd9-2fdf-4a37-9102-9e6cd366aeb3",
   "metadata": {},
   "outputs": [],
   "source": [
    "def rbf(x,y,l=1):\n",
    "    \"\"\"Gaussian kernel\n",
    "\n",
    "    Parameters\n",
    "    -------------------------------\n",
    "    x : float\n",
    "    a real number\n",
    "\n",
    "    y : float\n",
    "    a real number\n",
    "\n",
    "    l: float, non zero\n",
    "    a scale parameter\n",
    "    -------------------------------\n",
    "    \"\"\"\n",
    "    dim = x.shape[0]\n",
    "    vect = np.empty(dim)\n",
    "    if dim == y.shape[0]  :\n",
    "        d = np.exp(-((np.linalg.norm(x-y))**2)/(2*(l**2)))\n",
    "        return d\n",
    "    else :\n",
    "        for i in range(dim):\n",
    "            vect[i] = np.exp(-((np.linalg.norm(x[i] - y))**2)/(2*(l**2)))\n",
    "        return vect"
   ]
  },
  {
   "cell_type": "code",
   "execution_count": 4,
   "id": "ef0408fa-5c66-415f-92c9-3f15969057c7",
   "metadata": {},
   "outputs": [
    {
     "name": "stdout",
     "output_type": "stream",
     "text": [
      "the cluster containing positive values is :  5 \n",
      " the one containing negative exampels is :  2\n"
     ]
    }
   ],
   "source": [
    "#First, the cluster step, to 'initialize' the labels, and the creation of unlabeled data\n",
    "mushrooms_copy = mushrooms.drop(['class'], axis=1)\n",
    "mushrooms_copy = StandardScaler().fit_transform(X=mushrooms_copy)\n",
    "n_samples = mushrooms.shape[0]\n",
    "mushrooms['label'] = np.ones(n_samples)*(-1)\n",
    "\n",
    "for i in mushrooms.index:\n",
    "    random = bernoulli.rvs(p=3/4)\n",
    "    if mushrooms.loc[i,'class'] == 1 and random == 0:\n",
    "        mushrooms.loc[i,'label'] = 1\n",
    "    else:\n",
    "        mushrooms.loc[i,'label'] = -1\n",
    "\n",
    "n_cluster = 8\n",
    "clusterized_data = KMeans(n_clusters=n_cluster, init='random').fit(mushrooms_copy)\n",
    "mushrooms['cluster'] = clusterized_data.labels_\n",
    "\n",
    "list_of_ratio = []\n",
    "for i in range(n_cluster):\n",
    "    list_of_ratio.append(mushrooms[mushrooms['cluster'] == i]['label'].sum()/mushrooms[mushrooms['cluster'] == i]['class'].shape[0])\n",
    "list_of_ratio = np.array(list_of_ratio)\n",
    "positive_cluster = np.argmax(list_of_ratio)\n",
    "negative_cluster = np.argmin(list_of_ratio)\n",
    "print('the cluster containing positive values is : ', positive_cluster, '\\n', \n",
    "      'the one containing negative exampels is : ', negative_cluster)\n",
    "\n",
    "reliable_positives = mushrooms[mushrooms['cluster'] == positive_cluster]\n",
    "reliable_positives = reliable_positives[reliable_positives['label'] == 1]\n",
    "reliable_negatives = mushrooms[mushrooms['cluster'] == negative_cluster]\n",
    "reliable_negatives = reliable_negatives[reliable_negatives['label'] == -1]\n",
    "reliable_negatives = reliable_negatives.sample(n=reliable_positives.shape[0]) #to adjust the class balance ratio"
   ]
  },
  {
   "cell_type": "code",
   "execution_count": 5,
   "id": "a2a104fe-9f6c-4808-b10a-433532d41ba9",
   "metadata": {},
   "outputs": [
    {
     "name": "stderr",
     "output_type": "stream",
     "text": [
      "100%|██████████| 27017/27017 [01:54<00:00, 235.17it/s]\n"
     ]
    }
   ],
   "source": [
    "#first svm part\n",
    "gamma = 1\n",
    "positives_array = reliable_positives.drop(['class','cluster'], axis=1)\n",
    "negatives_array = reliable_negatives.drop(['class', 'cluster'], axis=1)\n",
    "data_svm = np.vstack((positives_array,negatives_array))\n",
    "n_reliable = data_svm.shape[0]\n",
    "outcome = data_svm[:,8]\n",
    "data_svm = data_svm[:,:8]\n",
    "omega = np.empty((n_reliable,n_reliable))\n",
    "for k in range(n_reliable):\n",
    "    for i in range(k,n_reliable):\n",
    "        omega[k,i] = outcome[k]*outcome[i]*rbf(x=data_svm[k,:],y=data_svm[i,:],l=10)\n",
    "omega_t = np.transpose(omega)\n",
    "omega = omega_t + omega\n",
    "for i in range(n_reliable):\n",
    "    omega[i,i] = 1\n",
    "\n",
    "\n",
    "#now, computation of the rest of the matrix\n",
    "first_row = np.hstack((0,-np.transpose(outcome)))\n",
    "first_row = first_row.reshape(1,first_row.shape[0])\n",
    "bot_of_mat_right = omega + (1/gamma)*np.eye(n_reliable)\n",
    "bot_of_mat = np.hstack((outcome.reshape(n_reliable,1), bot_of_mat_right))\n",
    "whole_mat = np.vstack((first_row, bot_of_mat))\n",
    "right_hand = np.ones(n_reliable+1)\n",
    "right_hand[0] = 0\n",
    "\n",
    "#we get the coefficients\n",
    "coeffs = np.linalg.solve(a=whole_mat,b=right_hand)\n",
    "b = coeffs[0]\n",
    "alpha = coeffs[1:coeffs.shape[0]]\n",
    "\n",
    "#now we compute the wt \\phi(x) and then we order them \n",
    "test_data = mushrooms.drop(['class','label','cluster'], axis=1).to_numpy()\n",
    "results = np.empty(n_samples)\n",
    "for i in tqdm(range(n_samples)):\n",
    "    results[i] = np.sum(alpha*outcome*rbf(x=data_svm,y=test_data[i,:],l=10))\n",
    "sorted_results = np.sort(results)\n",
    "good_ratio = int(n_samples/2)\n",
    "b = sorted_results[good_ratio]\n",
    "\n",
    "last_results = np.empty(n_samples)\n",
    "for i in range(n_samples):\n",
    "    last_results[i] = np.sign(results[i] - b)\n",
    "\n",
    "mushrooms['it_results'] = last_results\n",
    "correct_with_b = 0\n",
    "for i in range(reliable_positives.shape[0]):\n",
    "    if mushrooms.loc[reliable_positives.index[i],'it_results'] == 1:\n",
    "        correct_with_b += 1\n",
    "missclass = reliable_positives.shape[0] - correct_with_b"
   ]
  },
  {
   "cell_type": "code",
   "execution_count": 6,
   "id": "c5d533d6-fc93-40dd-b837-3997aba91a26",
   "metadata": {},
   "outputs": [
    {
     "name": "stdout",
     "output_type": "stream",
     "text": [
      "0.6453953212910868 13508\n"
     ]
    }
   ],
   "source": [
    "positive = 0\n",
    "true_positive = 0\n",
    "for i in range(n_samples):\n",
    "    if last_results[i] == 1 and mushrooms.loc[mushrooms.index[i],'class'] == 1:\n",
    "        true_positive += 1\n",
    "for i in range(n_samples):\n",
    "    if last_results[i] == 1:\n",
    "        positive += 1\n",
    "print(true_positive/positive, positive)"
   ]
  },
  {
   "cell_type": "code",
   "execution_count": 7,
   "id": "ca02f4e0-b24b-4d70-8090-7e0ffbe51423",
   "metadata": {},
   "outputs": [],
   "source": [
    "compteur = 0\n",
    "max_iter = 500\n",
    "while missclass!=0 and compteur<max_iter:\n",
    "    compteur += 1\n",
    "    b = (1+0.05)*b\n",
    "    last_results = np.empty(n_samples)\n",
    "    for i in range(n_samples):\n",
    "        last_results[i] = np.sign(results[i] - b)\n",
    "\n",
    "    mushrooms['it_results'] = last_results\n",
    "    correct_with_b = 0\n",
    "    for i in range(reliable_positives.shape[0]):\n",
    "        if mushrooms.loc[reliable_positives.index[i],'it_results'] == 1:\n",
    "            correct_with_b += 1\n",
    "    missclass = reliable_positives.shape[0] - correct_with_b"
   ]
  },
  {
   "cell_type": "code",
   "execution_count": 8,
   "id": "05244561-ccf8-489d-8723-b630d15fcc35",
   "metadata": {},
   "outputs": [],
   "source": [
    "mushrooms_it = mushrooms"
   ]
  },
  {
   "cell_type": "code",
   "execution_count": 9,
   "id": "2d2becda-5b6e-4bc9-bafb-1ab386031f11",
   "metadata": {},
   "outputs": [
    {
     "name": "stdout",
     "output_type": "stream",
     "text": [
      "0.7612525910571514\n"
     ]
    }
   ],
   "source": [
    "positive = int(n_samples/2)\n",
    "true_positive = 0\n",
    "for i in range(n_samples):\n",
    "    if mushrooms_it.loc[mushrooms.index[i],'it_results'] == 1 and mushrooms_it.loc[mushrooms.index[i],'class'] == 1:\n",
    "        true_positive += 1\n",
    "\n",
    "precision = true_positive/positive\n",
    "print(precision)"
   ]
  },
  {
   "cell_type": "code",
   "execution_count": 10,
   "id": "d067d482-97df-4579-a83f-6d7bf58775af",
   "metadata": {},
   "outputs": [
    {
     "data": {
      "text/plain": [
       "10283"
      ]
     },
     "execution_count": 10,
     "metadata": {},
     "output_type": "execute_result"
    }
   ],
   "source": [
    "true_positive"
   ]
  },
  {
   "cell_type": "code",
   "execution_count": 11,
   "id": "bdd50110-d619-4a54-9d27-a20498fea9df",
   "metadata": {},
   "outputs": [
    {
     "data": {
      "text/html": [
       "<div>\n",
       "<style scoped>\n",
       "    .dataframe tbody tr th:only-of-type {\n",
       "        vertical-align: middle;\n",
       "    }\n",
       "\n",
       "    .dataframe tbody tr th {\n",
       "        vertical-align: top;\n",
       "    }\n",
       "\n",
       "    .dataframe thead th {\n",
       "        text-align: right;\n",
       "    }\n",
       "</style>\n",
       "<table border=\"1\" class=\"dataframe\">\n",
       "  <thead>\n",
       "    <tr style=\"text-align: right;\">\n",
       "      <th></th>\n",
       "      <th>cap-diameter</th>\n",
       "      <th>cap-shape</th>\n",
       "      <th>gill-attachment</th>\n",
       "      <th>gill-color</th>\n",
       "      <th>stem-height</th>\n",
       "      <th>stem-width</th>\n",
       "      <th>stem-color</th>\n",
       "      <th>season</th>\n",
       "      <th>label</th>\n",
       "      <th>cluster</th>\n",
       "      <th>it_results</th>\n",
       "    </tr>\n",
       "    <tr>\n",
       "      <th>class</th>\n",
       "      <th></th>\n",
       "      <th></th>\n",
       "      <th></th>\n",
       "      <th></th>\n",
       "      <th></th>\n",
       "      <th></th>\n",
       "      <th></th>\n",
       "      <th></th>\n",
       "      <th></th>\n",
       "      <th></th>\n",
       "      <th></th>\n",
       "    </tr>\n",
       "  </thead>\n",
       "  <tbody>\n",
       "    <tr>\n",
       "      <th>0</th>\n",
       "      <td>12180</td>\n",
       "      <td>12180</td>\n",
       "      <td>12180</td>\n",
       "      <td>12180</td>\n",
       "      <td>12180</td>\n",
       "      <td>12180</td>\n",
       "      <td>12180</td>\n",
       "      <td>12180</td>\n",
       "      <td>12180</td>\n",
       "      <td>12180</td>\n",
       "      <td>12180</td>\n",
       "    </tr>\n",
       "    <tr>\n",
       "      <th>1</th>\n",
       "      <td>14837</td>\n",
       "      <td>14837</td>\n",
       "      <td>14837</td>\n",
       "      <td>14837</td>\n",
       "      <td>14837</td>\n",
       "      <td>14837</td>\n",
       "      <td>14837</td>\n",
       "      <td>14837</td>\n",
       "      <td>14837</td>\n",
       "      <td>14837</td>\n",
       "      <td>14837</td>\n",
       "    </tr>\n",
       "  </tbody>\n",
       "</table>\n",
       "</div>"
      ],
      "text/plain": [
       "       cap-diameter  cap-shape  gill-attachment  gill-color  stem-height  \\\n",
       "class                                                                      \n",
       "0             12180      12180            12180       12180        12180   \n",
       "1             14837      14837            14837       14837        14837   \n",
       "\n",
       "       stem-width  stem-color  season  label  cluster  it_results  \n",
       "class                                                              \n",
       "0           12180       12180   12180  12180    12180       12180  \n",
       "1           14837       14837   14837  14837    14837       14837  "
      ]
     },
     "execution_count": 11,
     "metadata": {},
     "output_type": "execute_result"
    }
   ],
   "source": [
    "mushrooms_it.groupby('class').count()"
   ]
  },
  {
   "cell_type": "code",
   "execution_count": 12,
   "id": "413a2353-5b7c-4744-beee-5a4d594ec269",
   "metadata": {},
   "outputs": [
    {
     "name": "stdout",
     "output_type": "stream",
     "text": [
      "1\n",
      "2\n",
      "3\n",
      "4\n",
      "5\n",
      "6\n",
      "7\n",
      "8\n",
      "9\n",
      "10\n"
     ]
    }
   ],
   "source": [
    "compteur=0\n",
    "max_iter=10\n",
    "good_ratio = int(n_samples/2)\n",
    "while True and compteur<max_iter:\n",
    "    compteur+=1\n",
    "    print(compteur)\n",
    "    for i in range(n_samples):\n",
    "        if mushrooms_it.loc[mushrooms.index[i],'it_results'] == 0:\n",
    "            mushrooms_it.loc[mushrooms.index[i],'it_results'] = -1\n",
    "    positives_new = mushrooms_it[mushrooms_it['it_results'] == 1]\n",
    "    positives_new = positives_new[positives_new['label'] == 1]\n",
    "    negatives_new = mushrooms_it[mushrooms_it['it_results'] == -1]\n",
    "    negatives_new = negatives_new[negatives_new['label'] == -1]\n",
    "    negatives_new = negatives_new.sample(n=positives_new.shape[0])\n",
    "    #first svm part\n",
    "    gamma = 1\n",
    "    positives_array_new = positives_new.drop(['class','cluster','label'], axis=1)\n",
    "    negatives_array_new = negatives_new.drop(['class', 'cluster','label'], axis=1)\n",
    "    data_svm_it = np.vstack((positives_array_new,negatives_array_new))\n",
    "    n_reliable = data_svm_it.shape[0]\n",
    "    outcome_it = data_svm_it[:,8]\n",
    "    data_svm_it = data_svm_it[:,:8]\n",
    "    #compute omega\n",
    "    omega_it = np.empty((n_reliable,n_reliable))\n",
    "    for k in range(n_reliable):\n",
    "        for i in range(k,n_reliable):\n",
    "            omega_it[k,i] = outcome_it[k]*outcome_it[i]*rbf(x=data_svm_it[k,:],y=data_svm_it[i,:],l=10)\n",
    "    omega_it_t = np.transpose(omega_it)\n",
    "    omega_it = omega_it+omega_it_t\n",
    "    for i in range(n_reliable):\n",
    "        omega_it[i,i] = 1\n",
    "    \n",
    "    first_row_it = np.hstack((0,-np.transpose(outcome_it)))\n",
    "    first_row_it = first_row_it.reshape(1,first_row_it.shape[0])\n",
    "    bot_of_mat_right_it = omega_it + (1/gamma)*np.eye(n_reliable)\n",
    "    bot_of_mat_it = np.hstack((outcome_it.reshape(n_reliable,1), bot_of_mat_right_it))\n",
    "    whole_mat_it = np.vstack((first_row_it, bot_of_mat_it))\n",
    "    right_hand_it = np.ones(n_reliable+1)\n",
    "    right_hand_it[0] = 0\n",
    "    coeffs_it = np.linalg.solve(a=whole_mat_it,b=right_hand_it)\n",
    "    b_it = coeffs_it[0]\n",
    "    alpha_it = coeffs_it[1:coeffs_it.shape[0]]\n",
    "    test_data_it = mushrooms_it.drop(['class','label','cluster','it_results'], axis=1).to_numpy()\n",
    "    results_new = np.empty(n_samples)\n",
    "    #the results in the previous algo is now 'new_results'\n",
    "\n",
    "    \n",
    "    for i in range(n_samples):\n",
    "        results_new[i] = np.sum(alpha_it*outcome_it*rbf(x=data_svm_it,y=test_data_it[i,:],l=10))\n",
    "    sorted_results_it = np.sort(results_new)\n",
    "    b_it = sorted_results_it[good_ratio]\n",
    "    last_results_it = np.empty(n_samples)\n",
    "    for i in range(n_samples):\n",
    "        last_results_it[i] = np.sign(results_new[i] - b)\n",
    "    correct_with_b_it = 0 \n",
    "    for i in range(mushrooms_it[mushrooms['label'] == 1].shape[0]):\n",
    "        if last_results_it[i] == 1:\n",
    "            correct_with_b_it += 1\n",
    "    missclass_it = positives_new.shape[0] - correct_with_b_it\n",
    "    compteur_bis = 0\n",
    "    max_iter_bis = 200\n",
    "    while missclass_it!=0 and compteur_bis<max_iter_bis:\n",
    "        compteur_bis += 1\n",
    "        b_it = (1-0.05)*b_it\n",
    "        last_results_bis = np.empty(n_samples)\n",
    "        for i in range(n_samples):\n",
    "            last_results_bis[i] = np.sign(results_new[i] - b_it)\n",
    "        correct_with_b_bis = 0\n",
    "\n",
    "        for i in range(mushrooms_it[mushrooms['label'] == 1].shape[0]):\n",
    "            if last_results_bis[i] == 1:\n",
    "                correct_with_b_bis += 1\n",
    "        missclass_it = positives_new.shape[0] - correct_with_b_bis\n",
    "    stop_counter = 0\n",
    "    for i in range(n_samples):\n",
    "        if mushrooms_it.loc[mushrooms.index[i],'it_results'] != last_results_bis[i]:\n",
    "            stop_counter += 1\n",
    "    if stop_counter == 0:\n",
    "        break\n",
    "        compteur = max_iter\n",
    "    else:\n",
    "        mushrooms_it['it_results'] = last_results_bis"
   ]
  },
  {
   "cell_type": "code",
   "execution_count": 13,
   "id": "9916c5d5-d9c7-4cf0-8da2-0490ad616ae9",
   "metadata": {
    "scrolled": true
   },
   "outputs": [],
   "source": [
    "for i in mushrooms_it.index:\n",
    "    if mushrooms_it.loc[i,'it_results'] == 0:\n",
    "        mushrooms_it.loc[i,'it_results'] = -1\n",
    "positives_new = mushrooms_it[mushrooms_it['it_results'] == 1]\n",
    "positives_new = positives_new[positives_new['label'] == 1]\n",
    "negatives_new = mushrooms_it[mushrooms_it['it_results'] == -1]\n",
    "negatives_new = negatives_new[negatives_new['label'] == -1]\n",
    "negatives_new = negatives_new.sample(n=positives_new.shape[0])\n",
    "#first svm part\n",
    "gamma = 1\n",
    "positives_array_new = positives_new.drop(['class','cluster','label'], axis=1)\n",
    "negatives_array_new = negatives_new.drop(['class', 'cluster','label'], axis=1)\n",
    "data_svm_it = np.vstack((positives_array_new,negatives_array_new))\n",
    "n_reliable = data_svm_it.shape[0]\n",
    "outcome_it = data_svm_it[:,8]\n",
    "data_svm_it = data_svm_it[:,:8]\n",
    "omega_it = np.zeros((n_reliable,n_reliable))"
   ]
  },
  {
   "cell_type": "markdown",
   "id": "1ddbc994-3088-4183-a54a-1e4708d511f3",
   "metadata": {},
   "source": [
    "for k in tqdm(range(n_reliable)):\n",
    "        for i in range(k,n_reliable):\n",
    "            omega_it[k,i] = outcome_it[k]*outcome_it[i]*rbf(x=data_svm_it[k,:],y=data_svm_it[i,:],l=10)\n",
    "\n",
    "omega_it_t = np.transpose(omega_it)\n",
    "omega_it = omega_it+omega_it_t\n",
    "for i in range(n_reliable):\n",
    "    omega_it[i,i] = 1"
   ]
  },
  {
   "cell_type": "markdown",
   "id": "e4f3730c-0cdc-40dd-96cf-11ddfdb11182",
   "metadata": {},
   "source": [
    "first_row_it = np.hstack((0,-np.transpose(outcome_it)))\n",
    "first_row_it = first_row_it.reshape(1,first_row_it.shape[0])\n",
    "bot_of_mat_right_it = omega_it + (1/gamma)*np.eye(n_reliable)\n",
    "bot_of_mat_it = np.hstack((outcome_it.reshape(n_reliable,1), bot_of_mat_right_it))\n",
    "whole_mat_it = np.vstack((first_row_it, bot_of_mat_it))\n",
    "right_hand_it = np.ones(n_reliable+1)\n",
    "right_hand_it[0] = 0\n",
    "coeffs_it = np.linalg.solve(a=whole_mat_it,b=right_hand_it)\n",
    "b_it = coeffs_it[0]\n",
    "alpha_it = coeffs_it[1:coeffs_it.shape[0]]\n",
    "test_data_it = mushrooms_it.drop(['class','label','cluster','it_results'], axis=1).to_numpy()\n",
    "results_new = np.empty(n_samples)"
   ]
  },
  {
   "cell_type": "markdown",
   "id": "4fd67ee5-f50f-4089-9bce-c51761eeb277",
   "metadata": {},
   "source": [
    "for i in tqdm(range(n_samples)):\n",
    "    results_new[i] = np.sum(alpha_it*outcome_it*rbf(x=data_svm_it,y=test_data_it[i,:],l=10))\n",
    "sorted_results_it = np.sort(results_new)\n",
    "b_it = sorted_results_it[good_ratio]\n",
    "last_results_it = np.empty(n_samples)\n",
    "for i in range(n_samples):\n",
    "    last_results_it[i] = np.sign(results_new[i] - b)\n",
    "mushrooms['it_next_step'] = last_results_it\n",
    "correct_with_b_it = 0\n",
    "for i in range(positives_new.shape[0]):\n",
    "    if mushrooms_it.loc[positives_new.index[i],'it_next_step'] == 1:\n",
    "        correct_with_b_it += 1\n",
    "missclass_it = positives_new.shape[0] - correct_with_b_it"
   ]
  },
  {
   "cell_type": "markdown",
   "id": "4497f692-b50b-49ae-950c-373152946914",
   "metadata": {
    "scrolled": true
   },
   "source": [
    "compteur_bis = 0\n",
    "max_iter_bis = 200\n",
    "while missclass_it!=0 and compteur_bis<max_iter_bis:\n",
    "    if compteur_bis%25 == 0:\n",
    "        print(compteur_bis)\n",
    "    compteur_bis += 1\n",
    "    b_it = (1-0.05)*b_it\n",
    "    last_results_bis = np.empty(n_samples)\n",
    "    for i in range(n_samples):\n",
    "        last_results_bis[i] = np.sign(results_new[i] - b_it)\n",
    "        \n",
    "    mushrooms_it['it_next_step'] = last_results_bis\n",
    "    correct_with_b_bis = 0\n",
    "\n",
    "    for i in mushrooms_it[mushrooms['label'] == 1].index:\n",
    "        if last_results_bis[i] == 1:\n",
    "            correct_with_b_bis += 1\n",
    "    missclass_it = positives_new.shape[0] - correct_with_b_bis\n",
    "stop_counter = 0\n",
    "for i in range(n_samples):\n",
    "    if mushrooms_it.loc[i,'it_results'] != mushrooms_it.loc[i,'it_next_step']:\n",
    "        stop_counter += 1"
   ]
  },
  {
   "cell_type": "markdown",
   "id": "473e4f91-450a-4b2e-ae15-019314b8f353",
   "metadata": {},
   "source": [
    "positives = 0\n",
    "true_positive = 0\n",
    "for i in range(n_samples):\n",
    "    if mushrooms_it.loc[i,'it_next_step'] == 1:\n",
    "        positives+=1\n",
    "        if mushrooms_it.loc[i,'class'] == 1:\n",
    "            true_positive += 1"
   ]
  },
  {
   "cell_type": "code",
   "execution_count": 14,
   "id": "4a41ce68-a3e2-4038-a611-662b7715de72",
   "metadata": {},
   "outputs": [
    {
     "data": {
      "text/plain": [
       "437"
      ]
     },
     "execution_count": 14,
     "metadata": {},
     "output_type": "execute_result"
    }
   ],
   "source": [
    "missclass_it"
   ]
  },
  {
   "cell_type": "code",
   "execution_count": 15,
   "id": "83c07eb4-b2c3-488a-996d-02205b961362",
   "metadata": {},
   "outputs": [],
   "source": [
    "positives = 0\n",
    "true_positives = 0\n",
    "for i in range(n_samples):\n",
    "    if last_results_bis[i] == 1:\n",
    "        positives += 1\n",
    "        if mushrooms_it.loc[mushrooms.index[i],'class'] == 1:\n",
    "            true_positives += 1"
   ]
  },
  {
   "cell_type": "code",
   "execution_count": 16,
   "id": "ce665204-6f9f-445b-a5b6-109326fe1b08",
   "metadata": {},
   "outputs": [
    {
     "name": "stdout",
     "output_type": "stream",
     "text": [
      "0.6954364386050738\n"
     ]
    }
   ],
   "source": [
    "print(true_positives/positives)"
   ]
  },
  {
   "cell_type": "code",
   "execution_count": 17,
   "id": "42413c21-37b3-4d93-b1ae-886f265543f8",
   "metadata": {},
   "outputs": [
    {
     "data": {
      "text/plain": [
       "9951"
      ]
     },
     "execution_count": 17,
     "metadata": {},
     "output_type": "execute_result"
    }
   ],
   "source": [
    "true_positives"
   ]
  },
  {
   "cell_type": "code",
   "execution_count": 18,
   "id": "23fb7872-97df-4d26-9691-ad12b6aae6ad",
   "metadata": {},
   "outputs": [
    {
     "data": {
      "text/plain": [
       "14309"
      ]
     },
     "execution_count": 18,
     "metadata": {},
     "output_type": "execute_result"
    }
   ],
   "source": [
    "positives"
   ]
  },
  {
   "cell_type": "code",
   "execution_count": 19,
   "id": "e089ef30-cd03-4cfd-993e-e0c85fab0250",
   "metadata": {},
   "outputs": [
    {
     "name": "stdout",
     "output_type": "stream",
     "text": [
      "4358\n"
     ]
    }
   ],
   "source": [
    "false_positive = positives - true_positives\n",
    "print(false_positive)"
   ]
  },
  {
   "cell_type": "code",
   "execution_count": 20,
   "id": "aaae491c-cb4b-4993-b220-632f1550f0be",
   "metadata": {},
   "outputs": [],
   "source": [
    "svc_sklearn = SVC().fit(X=mushrooms.to_numpy()[:,:8],y=mushrooms.to_numpy()[:,8])"
   ]
  },
  {
   "cell_type": "code",
   "execution_count": 21,
   "id": "333778ff-7ff5-4774-93ea-2a9df2c3f7ae",
   "metadata": {},
   "outputs": [],
   "source": [
    "labels_sklearn = svc_sklearn.predict(X=mushrooms.to_numpy()[:,:8])"
   ]
  },
  {
   "cell_type": "code",
   "execution_count": 22,
   "id": "f5519023-7e39-4fd9-831f-fb474ee05d4d",
   "metadata": {},
   "outputs": [],
   "source": [
    "positives_sklearn = 0\n",
    "true_positives_sklearn = 0\n",
    "for i in range(labels_sklearn.shape[0]):\n",
    "    if labels_sklearn[i] == 1:\n",
    "        positives_sklearn += 1\n",
    "        if mushrooms.to_numpy()[i,8] == 1:\n",
    "            true_positives_sklearn += 1"
   ]
  },
  {
   "cell_type": "code",
   "execution_count": 23,
   "id": "a9b8872d-4845-4cdb-81e8-ec5df1460166",
   "metadata": {},
   "outputs": [
    {
     "name": "stdout",
     "output_type": "stream",
     "text": [
      "precision of sklearn svm :  0.6627654131491431\n"
     ]
    }
   ],
   "source": [
    "print('precision of sklearn svm : ',true_positives_sklearn/positives_sklearn)"
   ]
  },
  {
   "cell_type": "code",
   "execution_count": 24,
   "id": "14fafdda-062b-435a-8ed8-61dcda364a10",
   "metadata": {},
   "outputs": [
    {
     "data": {
      "text/plain": [
       "10363"
      ]
     },
     "execution_count": 24,
     "metadata": {},
     "output_type": "execute_result"
    }
   ],
   "source": [
    "true_positives_sklearn"
   ]
  },
  {
   "cell_type": "code",
   "execution_count": 25,
   "id": "082c4c2b-8980-4f97-bf26-d273f78f77c6",
   "metadata": {},
   "outputs": [
    {
     "data": {
      "text/plain": [
       "15636"
      ]
     },
     "execution_count": 25,
     "metadata": {},
     "output_type": "execute_result"
    }
   ],
   "source": [
    "positives_sklearn"
   ]
  },
  {
   "cell_type": "code",
   "execution_count": 26,
   "id": "ec712e81-87a3-415d-8ac3-65790683d6ac",
   "metadata": {},
   "outputs": [],
   "source": [
    "#So, we got a better result than the svm on the fully labelled data (but reduced by half).\n",
    "#The method works, however, very slow on large datasets (took 10 hours to run on the full dataset and the kernel\n",
    "#died before it could end). And the thing is that, the svm on the whole dataset had better performances."
   ]
  },
  {
   "cell_type": "code",
   "execution_count": 27,
   "id": "ec82902c-f685-4f1f-a720-aa8e0c41d893",
   "metadata": {},
   "outputs": [],
   "source": [
    "list_to_keep = []\n",
    "for i in range(mushrooms.shape[0]):\n",
    "    if i not in mushrooms.index:\n",
    "        list_to_keep.append(i)"
   ]
  },
  {
   "cell_type": "code",
   "execution_count": 28,
   "id": "06e08455-9e15-43c5-8f55-c5dd1c8c3bd6",
   "metadata": {},
   "outputs": [],
   "source": [
    "mushroom_test = pd.read_csv('mushroom.csv')"
   ]
  },
  {
   "cell_type": "code",
   "execution_count": 29,
   "id": "21f5a033-94ab-43fd-83c9-45c66c84d627",
   "metadata": {},
   "outputs": [],
   "source": [
    "mushroom_test = mushroom_test.filter(items=list_to_keep,axis=0)\n",
    "mushroom_test = mushroom_test.reset_index()"
   ]
  },
  {
   "cell_type": "code",
   "execution_count": 30,
   "id": "5ea02b87-6eb6-419c-bdc8-f8abae4bc486",
   "metadata": {},
   "outputs": [
    {
     "data": {
      "text/html": [
       "<div>\n",
       "<style scoped>\n",
       "    .dataframe tbody tr th:only-of-type {\n",
       "        vertical-align: middle;\n",
       "    }\n",
       "\n",
       "    .dataframe tbody tr th {\n",
       "        vertical-align: top;\n",
       "    }\n",
       "\n",
       "    .dataframe thead th {\n",
       "        text-align: right;\n",
       "    }\n",
       "</style>\n",
       "<table border=\"1\" class=\"dataframe\">\n",
       "  <thead>\n",
       "    <tr style=\"text-align: right;\">\n",
       "      <th></th>\n",
       "      <th>index</th>\n",
       "      <th>cap-diameter</th>\n",
       "      <th>cap-shape</th>\n",
       "      <th>gill-attachment</th>\n",
       "      <th>gill-color</th>\n",
       "      <th>stem-height</th>\n",
       "      <th>stem-width</th>\n",
       "      <th>stem-color</th>\n",
       "      <th>season</th>\n",
       "      <th>class</th>\n",
       "    </tr>\n",
       "  </thead>\n",
       "  <tbody>\n",
       "    <tr>\n",
       "      <th>0</th>\n",
       "      <td>0</td>\n",
       "      <td>1372</td>\n",
       "      <td>2</td>\n",
       "      <td>2</td>\n",
       "      <td>10</td>\n",
       "      <td>3.807467</td>\n",
       "      <td>1545</td>\n",
       "      <td>11</td>\n",
       "      <td>1.804273</td>\n",
       "      <td>1</td>\n",
       "    </tr>\n",
       "    <tr>\n",
       "      <th>1</th>\n",
       "      <td>2</td>\n",
       "      <td>1371</td>\n",
       "      <td>2</td>\n",
       "      <td>2</td>\n",
       "      <td>10</td>\n",
       "      <td>3.612496</td>\n",
       "      <td>1566</td>\n",
       "      <td>11</td>\n",
       "      <td>1.804273</td>\n",
       "      <td>1</td>\n",
       "    </tr>\n",
       "    <tr>\n",
       "      <th>2</th>\n",
       "      <td>4</td>\n",
       "      <td>1305</td>\n",
       "      <td>6</td>\n",
       "      <td>2</td>\n",
       "      <td>10</td>\n",
       "      <td>3.711971</td>\n",
       "      <td>1464</td>\n",
       "      <td>11</td>\n",
       "      <td>0.943195</td>\n",
       "      <td>1</td>\n",
       "    </tr>\n",
       "    <tr>\n",
       "      <th>3</th>\n",
       "      <td>5</td>\n",
       "      <td>1337</td>\n",
       "      <td>6</td>\n",
       "      <td>2</td>\n",
       "      <td>10</td>\n",
       "      <td>3.775635</td>\n",
       "      <td>1520</td>\n",
       "      <td>11</td>\n",
       "      <td>0.943195</td>\n",
       "      <td>1</td>\n",
       "    </tr>\n",
       "    <tr>\n",
       "      <th>4</th>\n",
       "      <td>6</td>\n",
       "      <td>1300</td>\n",
       "      <td>2</td>\n",
       "      <td>2</td>\n",
       "      <td>10</td>\n",
       "      <td>3.835320</td>\n",
       "      <td>1563</td>\n",
       "      <td>11</td>\n",
       "      <td>1.804273</td>\n",
       "      <td>1</td>\n",
       "    </tr>\n",
       "    <tr>\n",
       "      <th>...</th>\n",
       "      <td>...</td>\n",
       "      <td>...</td>\n",
       "      <td>...</td>\n",
       "      <td>...</td>\n",
       "      <td>...</td>\n",
       "      <td>...</td>\n",
       "      <td>...</td>\n",
       "      <td>...</td>\n",
       "      <td>...</td>\n",
       "      <td>...</td>\n",
       "    </tr>\n",
       "    <tr>\n",
       "      <th>13424</th>\n",
       "      <td>27009</td>\n",
       "      <td>1084</td>\n",
       "      <td>6</td>\n",
       "      <td>1</td>\n",
       "      <td>0</td>\n",
       "      <td>0.270997</td>\n",
       "      <td>2710</td>\n",
       "      <td>3</td>\n",
       "      <td>0.888450</td>\n",
       "      <td>1</td>\n",
       "    </tr>\n",
       "    <tr>\n",
       "      <th>13425</th>\n",
       "      <td>27012</td>\n",
       "      <td>1684</td>\n",
       "      <td>5</td>\n",
       "      <td>1</td>\n",
       "      <td>0</td>\n",
       "      <td>0.477904</td>\n",
       "      <td>2713</td>\n",
       "      <td>9</td>\n",
       "      <td>0.888450</td>\n",
       "      <td>1</td>\n",
       "    </tr>\n",
       "    <tr>\n",
       "      <th>13426</th>\n",
       "      <td>27013</td>\n",
       "      <td>1024</td>\n",
       "      <td>6</td>\n",
       "      <td>1</td>\n",
       "      <td>0</td>\n",
       "      <td>0.609211</td>\n",
       "      <td>2116</td>\n",
       "      <td>9</td>\n",
       "      <td>0.888450</td>\n",
       "      <td>1</td>\n",
       "    </tr>\n",
       "    <tr>\n",
       "      <th>13427</th>\n",
       "      <td>27014</td>\n",
       "      <td>1144</td>\n",
       "      <td>5</td>\n",
       "      <td>1</td>\n",
       "      <td>5</td>\n",
       "      <td>0.270997</td>\n",
       "      <td>2893</td>\n",
       "      <td>9</td>\n",
       "      <td>0.888450</td>\n",
       "      <td>1</td>\n",
       "    </tr>\n",
       "    <tr>\n",
       "      <th>13428</th>\n",
       "      <td>27015</td>\n",
       "      <td>1263</td>\n",
       "      <td>5</td>\n",
       "      <td>1</td>\n",
       "      <td>10</td>\n",
       "      <td>0.358535</td>\n",
       "      <td>2683</td>\n",
       "      <td>3</td>\n",
       "      <td>0.943195</td>\n",
       "      <td>1</td>\n",
       "    </tr>\n",
       "  </tbody>\n",
       "</table>\n",
       "<p>13429 rows × 10 columns</p>\n",
       "</div>"
      ],
      "text/plain": [
       "       index  cap-diameter  cap-shape  gill-attachment  gill-color  \\\n",
       "0          0          1372          2                2          10   \n",
       "1          2          1371          2                2          10   \n",
       "2          4          1305          6                2          10   \n",
       "3          5          1337          6                2          10   \n",
       "4          6          1300          2                2          10   \n",
       "...      ...           ...        ...              ...         ...   \n",
       "13424  27009          1084          6                1           0   \n",
       "13425  27012          1684          5                1           0   \n",
       "13426  27013          1024          6                1           0   \n",
       "13427  27014          1144          5                1           5   \n",
       "13428  27015          1263          5                1          10   \n",
       "\n",
       "       stem-height  stem-width  stem-color    season  class  \n",
       "0         3.807467        1545          11  1.804273      1  \n",
       "1         3.612496        1566          11  1.804273      1  \n",
       "2         3.711971        1464          11  0.943195      1  \n",
       "3         3.775635        1520          11  0.943195      1  \n",
       "4         3.835320        1563          11  1.804273      1  \n",
       "...            ...         ...         ...       ...    ...  \n",
       "13424     0.270997        2710           3  0.888450      1  \n",
       "13425     0.477904        2713           9  0.888450      1  \n",
       "13426     0.609211        2116           9  0.888450      1  \n",
       "13427     0.270997        2893           9  0.888450      1  \n",
       "13428     0.358535        2683           3  0.943195      1  \n",
       "\n",
       "[13429 rows x 10 columns]"
      ]
     },
     "execution_count": 30,
     "metadata": {},
     "output_type": "execute_result"
    }
   ],
   "source": [
    "mushroom_test"
   ]
  },
  {
   "cell_type": "code",
   "execution_count": 31,
   "id": "c1400f73-41a0-4ab9-96eb-1149be28c706",
   "metadata": {},
   "outputs": [],
   "source": [
    "data_svm_test = mushroom_test.to_numpy()[:,:8]\n",
    "n_samples_test = data_svm_test.shape[0]"
   ]
  },
  {
   "cell_type": "code",
   "execution_count": 32,
   "id": "3f2dcff5-7983-4883-9952-7b49e3a3b8b8",
   "metadata": {},
   "outputs": [
    {
     "ename": "ValueError",
     "evalue": "operands could not be broadcast together with shapes (5858,) (5872,) ",
     "output_type": "error",
     "traceback": [
      "\u001b[0;31m---------------------------------------------------------------------------\u001b[0m",
      "\u001b[0;31mValueError\u001b[0m                                Traceback (most recent call last)",
      "Cell \u001b[0;32mIn[32], line 3\u001b[0m\n\u001b[1;32m      1\u001b[0m results_test \u001b[38;5;241m=\u001b[39m np\u001b[38;5;241m.\u001b[39mempty(n_samples_test)\n\u001b[1;32m      2\u001b[0m \u001b[38;5;28;01mfor\u001b[39;00m i \u001b[38;5;129;01min\u001b[39;00m \u001b[38;5;28mrange\u001b[39m(n_samples_test):\n\u001b[0;32m----> 3\u001b[0m         results_test[i] \u001b[38;5;241m=\u001b[39m np\u001b[38;5;241m.\u001b[39msign(np\u001b[38;5;241m.\u001b[39msum(\u001b[43malpha_it\u001b[49m\u001b[38;5;241;43m*\u001b[39;49m\u001b[43moutcome_it\u001b[49m\u001b[38;5;241m*\u001b[39mrbf(x\u001b[38;5;241m=\u001b[39mdata_svm_it,y\u001b[38;5;241m=\u001b[39mdata_svm_test[i,:],l\u001b[38;5;241m=\u001b[39m\u001b[38;5;241m10\u001b[39m))\u001b[38;5;241m-\u001b[39mb)\n\u001b[1;32m      4\u001b[0m positive_test \u001b[38;5;241m=\u001b[39m \u001b[38;5;241m0\u001b[39m\n\u001b[1;32m      5\u001b[0m true_positive_test \u001b[38;5;241m=\u001b[39m \u001b[38;5;241m0\u001b[39m\n",
      "\u001b[0;31mValueError\u001b[0m: operands could not be broadcast together with shapes (5858,) (5872,) "
     ]
    }
   ],
   "source": [
    "results_test = np.empty(n_samples_test)\n",
    "for i in range(n_samples_test):\n",
    "        results_test[i] = np.sign(np.sum(alpha_it*outcome_it*rbf(x=data_svm_it,y=data_svm_test[i,:],l=10))-b)\n",
    "positive_test = 0\n",
    "true_positive_test = 0\n",
    "for i in range(n_samples_test):\n",
    "    if results_test[i] == 1:\n",
    "        positive_test += 1\n",
    "        if mushroom_test.loc[i,'class'] == 1:\n",
    "            true_positive_test += 1"
   ]
  },
  {
   "cell_type": "code",
   "execution_count": 33,
   "id": "ae45250e-6315-4f7e-b8ee-007e30e767f4",
   "metadata": {},
   "outputs": [],
   "source": [
    "#error and i have no clue why so check later"
   ]
  },
  {
   "cell_type": "code",
   "execution_count": null,
   "id": "7cac7680-340e-498c-bcaf-c78e0bff3d29",
   "metadata": {},
   "outputs": [],
   "source": []
  }
 ],
 "metadata": {
  "kernelspec": {
   "display_name": "Python 3 (ipykernel)",
   "language": "python",
   "name": "python3"
  },
  "language_info": {
   "codemirror_mode": {
    "name": "ipython",
    "version": 3
   },
   "file_extension": ".py",
   "mimetype": "text/x-python",
   "name": "python",
   "nbconvert_exporter": "python",
   "pygments_lexer": "ipython3",
   "version": "3.12.3"
  }
 },
 "nbformat": 4,
 "nbformat_minor": 5
}
