{
 "cells": [
  {
   "cell_type": "code",
   "execution_count": 1,
   "id": "a5f50394-de2c-4d67-baad-b407fc4aef99",
   "metadata": {},
   "outputs": [],
   "source": [
    "import numpy as np\n",
    "import pandas as pd\n",
    "import matplotlib.pyplot as plt\n",
    "from scipy.stats import bernoulli\n",
    "from sklearn.cluster import KMeans\n",
    "from sklearn.preprocessing import StandardScaler\n",
    "from tqdm import tqdm\n",
    "from sklearn.svm import SVC"
   ]
  },
  {
   "cell_type": "code",
   "execution_count": 2,
   "id": "580a5f5e-bbca-46bf-998a-f29764612af8",
   "metadata": {},
   "outputs": [],
   "source": [
    "mushrooms = pd.read_csv('mushroom.csv')\n",
    "mushrooms_positive = mushrooms[mushrooms['class'] == 1]\n",
    "mushrooms_negative = mushrooms[mushrooms['class'] == 0]\n",
    "mushrooms_positive = mushrooms_positive.sample(n=int(mushrooms_positive.shape[0]/2))\n",
    "mushrooms_negative = mushrooms_negative.sample(n=int(mushrooms_negative.shape[0]/2))\n",
    "mushrooms = pd.concat([mushrooms_positive,mushrooms_negative])"
   ]
  },
  {
   "cell_type": "code",
   "execution_count": 3,
   "id": "1f5a3dd9-2fdf-4a37-9102-9e6cd366aeb3",
   "metadata": {},
   "outputs": [],
   "source": [
    "def rbf(x,y,l=1):\n",
    "    \"\"\"Gaussian kernel\n",
    "\n",
    "    Parameters\n",
    "    -------------------------------\n",
    "    x : float\n",
    "    a real number\n",
    "\n",
    "    y : float\n",
    "    a real number\n",
    "\n",
    "    l: float, non zero\n",
    "    a scale parameter\n",
    "    -------------------------------\n",
    "    \"\"\"\n",
    "    dim = x.shape[0]\n",
    "    vect = np.empty(dim)\n",
    "    if dim == y.shape[0]  :\n",
    "        d = np.exp(-((np.linalg.norm(x-y))**2)/(2*(l**2)))\n",
    "        return d\n",
    "    else :\n",
    "        for i in range(dim):\n",
    "            vect[i] = np.exp(-((np.linalg.norm(x[i] - y))**2)/(2*(l**2)))\n",
    "        return vect"
   ]
  },
  {
   "cell_type": "code",
   "execution_count": 4,
   "id": "ef0408fa-5c66-415f-92c9-3f15969057c7",
   "metadata": {},
   "outputs": [
    {
     "name": "stdout",
     "output_type": "stream",
     "text": [
      "the cluster containing positive values is :  5 \n",
      " the one containing negative exampels is :  6\n"
     ]
    }
   ],
   "source": [
    "#First, the cluster step, to 'initialize' the labels, and the creation of unlabeled data\n",
    "mushrooms_copy = mushrooms.drop(['class'], axis=1)\n",
    "mushrooms_copy = StandardScaler().fit_transform(X=mushrooms_copy)\n",
    "n_samples = mushrooms.shape[0]\n",
    "mushrooms['label'] = np.ones(n_samples)*(-1)\n",
    "\n",
    "for i in mushrooms.index:\n",
    "    random = bernoulli.rvs(p=3/4)\n",
    "    if mushrooms.loc[i,'class'] == 1 and random == 0:\n",
    "        mushrooms.loc[i,'label'] = 1\n",
    "    else:\n",
    "        mushrooms.loc[i,'label'] = -1\n",
    "\n",
    "n_cluster = 8\n",
    "clusterized_data = KMeans(n_clusters=n_cluster, init='random').fit(mushrooms_copy)\n",
    "mushrooms['cluster'] = clusterized_data.labels_\n",
    "\n",
    "list_of_ratio = []\n",
    "for i in range(n_cluster):\n",
    "    list_of_ratio.append(mushrooms[mushrooms['cluster'] == i]['label'].sum()/mushrooms[mushrooms['cluster'] == i]['class'].shape[0])\n",
    "list_of_ratio = np.array(list_of_ratio)\n",
    "positive_cluster = np.argmax(list_of_ratio)\n",
    "negative_cluster = np.argmin(list_of_ratio)\n",
    "print('the cluster containing positive values is : ', positive_cluster, '\\n', \n",
    "      'the one containing negative exampels is : ', negative_cluster)\n",
    "\n",
    "reliable_positives = mushrooms[mushrooms['cluster'] == positive_cluster]\n",
    "reliable_positives = reliable_positives[reliable_positives['label'] == 1]\n",
    "reliable_negatives = mushrooms[mushrooms['cluster'] == negative_cluster]\n",
    "reliable_negatives = reliable_negatives[reliable_negatives['label'] == -1]\n",
    "reliable_negatives = reliable_negatives.sample(n=reliable_positives.shape[0]) #to adjust the class balance ratio"
   ]
  },
  {
   "cell_type": "code",
   "execution_count": 5,
   "id": "a2a104fe-9f6c-4808-b10a-433532d41ba9",
   "metadata": {},
   "outputs": [
    {
     "name": "stderr",
     "output_type": "stream",
     "text": [
      "100%|██████████| 27017/27017 [02:35<00:00, 173.42it/s]\n"
     ]
    }
   ],
   "source": [
    "#first svm part\n",
    "gamma = 1\n",
    "positives_array = reliable_positives.drop(['class','cluster'], axis=1)\n",
    "negatives_array = reliable_negatives.drop(['class', 'cluster'], axis=1)\n",
    "data_svm = np.vstack((positives_array,negatives_array))\n",
    "n_reliable = data_svm.shape[0]\n",
    "outcome = data_svm[:,8]\n",
    "data_svm = data_svm[:,:8]\n",
    "omega = np.empty((n_reliable,n_reliable))\n",
    "for k in range(n_reliable):\n",
    "    for i in range(k,n_reliable):\n",
    "        omega[k,i] = outcome[k]*outcome[i]*rbf(x=data_svm[k,:],y=data_svm[i,:],l=10)\n",
    "omega_t = np.transpose(omega)\n",
    "omega = omega_t + omega\n",
    "for i in range(n_reliable):\n",
    "    omega[i,i] = 1\n",
    "\n",
    "\n",
    "#now, computation of the rest of the matrix\n",
    "first_row = np.hstack((0,-np.transpose(outcome)))\n",
    "first_row = first_row.reshape(1,first_row.shape[0])\n",
    "bot_of_mat_right = omega + (1/gamma)*np.eye(n_reliable)\n",
    "bot_of_mat = np.hstack((outcome.reshape(n_reliable,1), bot_of_mat_right))\n",
    "whole_mat = np.vstack((first_row, bot_of_mat))\n",
    "right_hand = np.ones(n_reliable+1)\n",
    "right_hand[0] = 0\n",
    "\n",
    "#we get the coefficients\n",
    "coeffs = np.linalg.solve(a=whole_mat,b=right_hand)\n",
    "b = coeffs[0]\n",
    "alpha = coeffs[1:coeffs.shape[0]]\n",
    "\n",
    "#now we compute the wt \\phi(x) and then we order them \n",
    "test_data = mushrooms.drop(['class','label','cluster'], axis=1).to_numpy()\n",
    "results = np.empty(n_samples)\n",
    "for i in tqdm(range(n_samples)):\n",
    "    results[i] = np.sum(alpha*outcome*rbf(x=data_svm,y=test_data[i,:],l=10))\n",
    "sorted_results = np.sort(results)\n",
    "good_ratio = int(n_samples/2)\n",
    "b = sorted_results[good_ratio]\n",
    "\n",
    "last_results = np.empty(n_samples)\n",
    "for i in range(n_samples):\n",
    "    last_results[i] = np.sign(results[i] - b)\n",
    "\n",
    "mushrooms['it_results'] = last_results\n",
    "correct_with_b = 0\n",
    "for i in range(reliable_positives.shape[0]):\n",
    "    if mushrooms.loc[reliable_positives.index[i],'it_results'] == 1:\n",
    "        correct_with_b += 1\n",
    "missclass = reliable_positives.shape[0] - correct_with_b"
   ]
  },
  {
   "cell_type": "code",
   "execution_count": 6,
   "id": "c5d533d6-fc93-40dd-b837-3997aba91a26",
   "metadata": {},
   "outputs": [
    {
     "name": "stdout",
     "output_type": "stream",
     "text": [
      "0.6271098608232158 13508\n"
     ]
    }
   ],
   "source": [
    "positive = 0\n",
    "true_positive = 0\n",
    "for i in range(n_samples):\n",
    "    if last_results[i] == 1 and mushrooms.loc[mushrooms.index[i],'class'] == 1:\n",
    "        true_positive += 1\n",
    "for i in range(n_samples):\n",
    "    if last_results[i] == 1:\n",
    "        positive += 1\n",
    "print(true_positive/positive, positive)"
   ]
  },
  {
   "cell_type": "code",
   "execution_count": 7,
   "id": "ca02f4e0-b24b-4d70-8090-7e0ffbe51423",
   "metadata": {},
   "outputs": [],
   "source": [
    "compteur = 0\n",
    "max_iter = 500\n",
    "while missclass!=0 and compteur<max_iter:\n",
    "    compteur += 1\n",
    "    b = (1+0.05)*b\n",
    "    last_results = np.empty(n_samples)\n",
    "    for i in range(n_samples):\n",
    "        last_results[i] = np.sign(results[i] - b)\n",
    "\n",
    "    mushrooms['it_results'] = last_results\n",
    "    correct_with_b = 0\n",
    "    for i in range(reliable_positives.shape[0]):\n",
    "        if mushrooms.loc[reliable_positives.index[i],'it_results'] == 1:\n",
    "            correct_with_b += 1\n",
    "    missclass = reliable_positives.shape[0] - correct_with_b"
   ]
  },
  {
   "cell_type": "code",
   "execution_count": 8,
   "id": "05244561-ccf8-489d-8723-b630d15fcc35",
   "metadata": {},
   "outputs": [],
   "source": [
    "mushrooms_it = mushrooms"
   ]
  },
  {
   "cell_type": "code",
   "execution_count": 9,
   "id": "2d2becda-5b6e-4bc9-bafb-1ab386031f11",
   "metadata": {},
   "outputs": [
    {
     "name": "stdout",
     "output_type": "stream",
     "text": [
      "0.6271098608232158\n"
     ]
    }
   ],
   "source": [
    "positive = int(n_samples/2)\n",
    "true_positive = 0\n",
    "for i in range(n_samples):\n",
    "    if mushrooms_it.loc[mushrooms.index[i],'it_results'] == 1 and mushrooms_it.loc[mushrooms.index[i],'class'] == 1:\n",
    "        true_positive += 1\n",
    "\n",
    "precision = true_positive/positive\n",
    "print(precision)"
   ]
  },
  {
   "cell_type": "code",
   "execution_count": 10,
   "id": "d067d482-97df-4579-a83f-6d7bf58775af",
   "metadata": {},
   "outputs": [
    {
     "data": {
      "text/plain": [
       "8471"
      ]
     },
     "execution_count": 10,
     "metadata": {},
     "output_type": "execute_result"
    }
   ],
   "source": [
    "true_positive"
   ]
  },
  {
   "cell_type": "code",
   "execution_count": 11,
   "id": "bdd50110-d619-4a54-9d27-a20498fea9df",
   "metadata": {},
   "outputs": [
    {
     "data": {
      "text/html": [
       "<div>\n",
       "<style scoped>\n",
       "    .dataframe tbody tr th:only-of-type {\n",
       "        vertical-align: middle;\n",
       "    }\n",
       "\n",
       "    .dataframe tbody tr th {\n",
       "        vertical-align: top;\n",
       "    }\n",
       "\n",
       "    .dataframe thead th {\n",
       "        text-align: right;\n",
       "    }\n",
       "</style>\n",
       "<table border=\"1\" class=\"dataframe\">\n",
       "  <thead>\n",
       "    <tr style=\"text-align: right;\">\n",
       "      <th></th>\n",
       "      <th>cap-diameter</th>\n",
       "      <th>cap-shape</th>\n",
       "      <th>gill-attachment</th>\n",
       "      <th>gill-color</th>\n",
       "      <th>stem-height</th>\n",
       "      <th>stem-width</th>\n",
       "      <th>stem-color</th>\n",
       "      <th>season</th>\n",
       "      <th>label</th>\n",
       "      <th>cluster</th>\n",
       "      <th>it_results</th>\n",
       "    </tr>\n",
       "    <tr>\n",
       "      <th>class</th>\n",
       "      <th></th>\n",
       "      <th></th>\n",
       "      <th></th>\n",
       "      <th></th>\n",
       "      <th></th>\n",
       "      <th></th>\n",
       "      <th></th>\n",
       "      <th></th>\n",
       "      <th></th>\n",
       "      <th></th>\n",
       "      <th></th>\n",
       "    </tr>\n",
       "  </thead>\n",
       "  <tbody>\n",
       "    <tr>\n",
       "      <th>0</th>\n",
       "      <td>12180</td>\n",
       "      <td>12180</td>\n",
       "      <td>12180</td>\n",
       "      <td>12180</td>\n",
       "      <td>12180</td>\n",
       "      <td>12180</td>\n",
       "      <td>12180</td>\n",
       "      <td>12180</td>\n",
       "      <td>12180</td>\n",
       "      <td>12180</td>\n",
       "      <td>12180</td>\n",
       "    </tr>\n",
       "    <tr>\n",
       "      <th>1</th>\n",
       "      <td>14837</td>\n",
       "      <td>14837</td>\n",
       "      <td>14837</td>\n",
       "      <td>14837</td>\n",
       "      <td>14837</td>\n",
       "      <td>14837</td>\n",
       "      <td>14837</td>\n",
       "      <td>14837</td>\n",
       "      <td>14837</td>\n",
       "      <td>14837</td>\n",
       "      <td>14837</td>\n",
       "    </tr>\n",
       "  </tbody>\n",
       "</table>\n",
       "</div>"
      ],
      "text/plain": [
       "       cap-diameter  cap-shape  gill-attachment  gill-color  stem-height  \\\n",
       "class                                                                      \n",
       "0             12180      12180            12180       12180        12180   \n",
       "1             14837      14837            14837       14837        14837   \n",
       "\n",
       "       stem-width  stem-color  season  label  cluster  it_results  \n",
       "class                                                              \n",
       "0           12180       12180   12180  12180    12180       12180  \n",
       "1           14837       14837   14837  14837    14837       14837  "
      ]
     },
     "execution_count": 11,
     "metadata": {},
     "output_type": "execute_result"
    }
   ],
   "source": [
    "mushrooms_it.groupby('class').count()"
   ]
  },
  {
   "cell_type": "code",
   "execution_count": 12,
   "id": "413a2353-5b7c-4744-beee-5a4d594ec269",
   "metadata": {
    "scrolled": true
   },
   "outputs": [
    {
     "name": "stdout",
     "output_type": "stream",
     "text": [
      "1\n"
     ]
    },
    {
     "name": "stderr",
     "output_type": "stream",
     "text": [
      "100%|██████████| 4248/4248 [00:49<00:00, 85.02it/s] \n",
      "100%|██████████| 27017/27017 [06:39<00:00, 67.69it/s]\n"
     ]
    },
    {
     "name": "stdout",
     "output_type": "stream",
     "text": [
      "w step done\n",
      "first result done\n",
      "correct with b done\n",
      "0\n",
      "50\n",
      "100\n",
      "150\n",
      "correction of b done\n",
      "2\n"
     ]
    },
    {
     "name": "stderr",
     "output_type": "stream",
     "text": [
      "100%|██████████| 4514/4514 [00:47<00:00, 94.54it/s] \n",
      "100%|██████████| 27017/27017 [07:14<00:00, 62.19it/s]\n"
     ]
    },
    {
     "name": "stdout",
     "output_type": "stream",
     "text": [
      "w step done\n",
      "first result done\n",
      "correct with b done\n",
      "0\n",
      "50\n",
      "100\n",
      "150\n",
      "correction of b done\n",
      "3\n"
     ]
    },
    {
     "name": "stderr",
     "output_type": "stream",
     "text": [
      "100%|██████████| 4660/4660 [00:50<00:00, 92.71it/s] \n",
      "100%|██████████| 27017/27017 [07:34<00:00, 59.42it/s]\n"
     ]
    },
    {
     "name": "stdout",
     "output_type": "stream",
     "text": [
      "w step done\n",
      "first result done\n",
      "correct with b done\n",
      "0\n",
      "50\n",
      "100\n",
      "150\n",
      "correction of b done\n",
      "4\n"
     ]
    },
    {
     "name": "stderr",
     "output_type": "stream",
     "text": [
      "100%|██████████| 4792/4792 [00:54<00:00, 87.88it/s]  \n",
      "100%|██████████| 27017/27017 [07:27<00:00, 60.40it/s]\n"
     ]
    },
    {
     "name": "stdout",
     "output_type": "stream",
     "text": [
      "w step done\n",
      "first result done\n",
      "correct with b done\n",
      "0\n",
      "50\n",
      "100\n",
      "150\n",
      "correction of b done\n",
      "5\n"
     ]
    },
    {
     "name": "stderr",
     "output_type": "stream",
     "text": [
      "100%|██████████| 4906/4906 [00:57<00:00, 84.81it/s] \n",
      "100%|██████████| 27017/27017 [08:07<00:00, 55.37it/s]\n"
     ]
    },
    {
     "name": "stdout",
     "output_type": "stream",
     "text": [
      "w step done\n",
      "first result done\n",
      "correct with b done\n",
      "0\n",
      "50\n",
      "100\n",
      "150\n",
      "correction of b done\n",
      "6\n"
     ]
    },
    {
     "name": "stderr",
     "output_type": "stream",
     "text": [
      "100%|██████████| 5014/5014 [01:03<00:00, 78.84it/s] \n",
      "100%|██████████| 27017/27017 [08:13<00:00, 54.72it/s]\n"
     ]
    },
    {
     "name": "stdout",
     "output_type": "stream",
     "text": [
      "w step done\n",
      "first result done\n",
      "correct with b done\n",
      "0\n",
      "50\n",
      "100\n",
      "150\n",
      "correction of b done\n",
      "7\n"
     ]
    },
    {
     "name": "stderr",
     "output_type": "stream",
     "text": [
      "100%|██████████| 5078/5078 [01:00<00:00, 83.42it/s] \n",
      "100%|██████████| 27017/27017 [08:27<00:00, 53.27it/s]\n"
     ]
    },
    {
     "name": "stdout",
     "output_type": "stream",
     "text": [
      "w step done\n",
      "first result done\n",
      "correct with b done\n",
      "0\n",
      "50\n",
      "100\n",
      "150\n",
      "correction of b done\n",
      "8\n"
     ]
    },
    {
     "name": "stderr",
     "output_type": "stream",
     "text": [
      "100%|██████████| 5110/5110 [01:04<00:00, 79.10it/s] \n",
      "100%|██████████| 27017/27017 [08:14<00:00, 54.64it/s]\n"
     ]
    },
    {
     "name": "stdout",
     "output_type": "stream",
     "text": [
      "w step done\n",
      "first result done\n",
      "correct with b done\n",
      "0\n",
      "50\n",
      "100\n",
      "150\n",
      "correction of b done\n",
      "9\n"
     ]
    },
    {
     "name": "stderr",
     "output_type": "stream",
     "text": [
      "100%|██████████| 5176/5176 [01:01<00:00, 84.01it/s] \n",
      "100%|██████████| 27017/27017 [08:40<00:00, 51.87it/s]\n"
     ]
    },
    {
     "name": "stdout",
     "output_type": "stream",
     "text": [
      "w step done\n",
      "first result done\n",
      "correct with b done\n",
      "0\n",
      "50\n",
      "100\n",
      "150\n",
      "correction of b done\n",
      "10\n"
     ]
    },
    {
     "name": "stderr",
     "output_type": "stream",
     "text": [
      "100%|██████████| 5226/5226 [01:05<00:00, 79.51it/s] \n",
      "100%|██████████| 27017/27017 [08:28<00:00, 53.17it/s]\n"
     ]
    },
    {
     "name": "stdout",
     "output_type": "stream",
     "text": [
      "w step done\n",
      "first result done\n",
      "correct with b done\n",
      "0\n",
      "50\n",
      "100\n",
      "150\n",
      "correction of b done\n"
     ]
    }
   ],
   "source": [
    "compteur=0\n",
    "max_iter=10\n",
    "good_ratio = int(n_samples/2)\n",
    "while True and compteur<max_iter:\n",
    "    compteur+=1\n",
    "    print(compteur)\n",
    "    for i in range(n_samples):\n",
    "        if mushrooms_it.loc[mushrooms.index[i],'it_results'] == 0:\n",
    "            mushrooms_it.loc[mushrooms.index[i],'it_results'] = -1\n",
    "    positives_new = mushrooms_it[mushrooms_it['it_results'] == 1]\n",
    "    positives_new = positives_new[positives_new['label'] == 1]\n",
    "    negatives_new = mushrooms_it[mushrooms_it['it_results'] == -1]\n",
    "    negatives_new = negatives_new[negatives_new['label'] == -1]\n",
    "    negatives_new = negatives_new.sample(n=positives_new.shape[0])\n",
    "    #first svm part\n",
    "    gamma = 1\n",
    "    positives_array_new = positives_new.drop(['class','cluster','label'], axis=1)\n",
    "    negatives_array_new = negatives_new.drop(['class', 'cluster','label'], axis=1)\n",
    "    data_svm_it = np.vstack((positives_array_new,negatives_array_new))\n",
    "    n_reliable = data_svm_it.shape[0]\n",
    "    outcome_it = data_svm_it[:,8]\n",
    "    data_svm_it = data_svm_it[:,:8]\n",
    "    #compute omega\n",
    "    omega_it = np.empty((n_reliable,n_reliable))\n",
    "    for k in tqdm(range(n_reliable)):\n",
    "        for i in range(k,n_reliable):\n",
    "            omega_it[k,i] = outcome_it[k]*outcome_it[i]*rbf(x=data_svm_it[k,:],y=data_svm_it[i,:],l=10)\n",
    "    omega_it_t = np.transpose(omega_it)\n",
    "    omega_it = omega_it+omega_it_t\n",
    "    for i in range(n_reliable):\n",
    "        omega_it[i,i] = 1\n",
    "    \n",
    "    first_row_it = np.hstack((0,-np.transpose(outcome_it)))\n",
    "    first_row_it = first_row_it.reshape(1,first_row_it.shape[0])\n",
    "    bot_of_mat_right_it = omega_it + (1/gamma)*np.eye(n_reliable)\n",
    "    bot_of_mat_it = np.hstack((outcome_it.reshape(n_reliable,1), bot_of_mat_right_it))\n",
    "    whole_mat_it = np.vstack((first_row_it, bot_of_mat_it))\n",
    "    right_hand_it = np.ones(n_reliable+1)\n",
    "    right_hand_it[0] = 0\n",
    "    coeffs_it = np.linalg.solve(a=whole_mat_it,b=right_hand_it)\n",
    "    b_it = coeffs_it[0]\n",
    "    alpha_it = coeffs_it[1:coeffs_it.shape[0]]\n",
    "    test_data_it = mushrooms_it.drop(['class','label','cluster','it_results'], axis=1).to_numpy()\n",
    "    results_new = np.empty(n_samples)\n",
    "    #the results in the previous algo is now 'new_results'\n",
    "\n",
    "    \n",
    "    for i in tqdm(range(n_samples)):\n",
    "        results_new[i] = np.sum(alpha_it*outcome_it*rbf(x=data_svm_it,y=test_data_it[i,:],l=10))\n",
    "\n",
    "    print('w step done')\n",
    "    sorted_results_it = np.sort(results_new)\n",
    "    b_it = sorted_results_it[good_ratio]\n",
    "    last_results_it = np.empty(n_samples)\n",
    "    for i in range(n_samples):\n",
    "        last_results_it[i] = np.sign(results_new[i] - b)\n",
    "    print('first result done')\n",
    "    correct_with_b_it = 0 \n",
    "    for i in range(mushrooms_it[mushrooms['label'] == 1].shape[0]):\n",
    "        if last_results_it[i] == 1:\n",
    "            correct_with_b_it += 1\n",
    "    missclass_it = positives_new.shape[0] - correct_with_b_it\n",
    "    print('correct with b done')\n",
    "    compteur_bis = 0\n",
    "    max_iter_bis = 200\n",
    "    while missclass_it!=0 and compteur_bis<max_iter_bis:\n",
    "        if compteur_bis%50 == 0:\n",
    "            print(compteur_bis)\n",
    "        compteur_bis += 1\n",
    "        b_it = (1-0.05)*b_it\n",
    "        last_results_bis = np.empty(n_samples)\n",
    "        for i in range(n_samples):\n",
    "            last_results_bis[i] = np.sign(results_new[i] - b_it)\n",
    "        correct_with_b_bis = 0\n",
    "\n",
    "        for i in range(mushrooms_it[mushrooms['label'] == 1].shape[0]):\n",
    "            if last_results_bis[i] == 1:\n",
    "                correct_with_b_bis += 1\n",
    "        missclass_it = positives_new.shape[0] - correct_with_b_bis\n",
    "    print('correction of b done')\n",
    "    stop_counter = 0\n",
    "    for i in range(n_samples):\n",
    "        if mushrooms_it.loc[mushrooms.index[i],'it_results'] != last_results_bis[i]:\n",
    "            stop_counter += 1\n",
    "    if stop_counter == 0:\n",
    "        break\n",
    "        compteur = max_iter\n",
    "    else:\n",
    "        mushrooms_it['it_results'] = last_results_bis"
   ]
  },
  {
   "cell_type": "code",
   "execution_count": 13,
   "id": "70553539-231c-4edb-821e-ce522c36d81b",
   "metadata": {},
   "outputs": [
    {
     "name": "stdout",
     "output_type": "stream",
     "text": [
      "10 200\n"
     ]
    }
   ],
   "source": [
    "print(compteur, compteur_bis)"
   ]
  },
  {
   "cell_type": "code",
   "execution_count": null,
   "id": "9916c5d5-d9c7-4cf0-8da2-0490ad616ae9",
   "metadata": {},
   "outputs": [],
   "source": [
    "for i in range(n_samples):\n",
    "    if mushrooms_it.loc[i,'it_results'] == 0:\n",
    "        mushrooms_it.loc[i,'it_results'] = -1\n",
    "positives_new = mushrooms_it[mushrooms_it['it_results'] == 1]\n",
    "positives_new = positives_new[positives_new['label'] == 1]\n",
    "negatives_new = mushrooms_it[mushrooms_it['it_results'] == -1]\n",
    "negatives_new = negatives_new[negatives_new['label'] == -1]\n",
    "negatives_new = negatives_new.sample(n=positives_new.shape[0])\n",
    "#first svm part\n",
    "gamma = 1\n",
    "positives_array_new = positives_new.drop(['class','cluster','label'], axis=1)\n",
    "negatives_array_new = negatives_new.drop(['class', 'cluster','label'], axis=1)\n",
    "data_svm_it = np.vstack((positives_array_new,negatives_array_new))\n",
    "n_reliable = data_svm_it.shape[0]\n",
    "outcome_it = data_svm_it[:,8]\n",
    "data_svm_it = data_svm_it[:,:8]\n",
    "omega_it = np.zeros((n_reliable,n_reliable))"
   ]
  },
  {
   "cell_type": "markdown",
   "id": "1ddbc994-3088-4183-a54a-1e4708d511f3",
   "metadata": {},
   "source": [
    "for k in tqdm(range(n_reliable)):\n",
    "        for i in range(k,n_reliable):\n",
    "            omega_it[k,i] = outcome_it[k]*outcome_it[i]*rbf(x=data_svm_it[k,:],y=data_svm_it[i,:],l=10)\n",
    "\n",
    "omega_it_t = np.transpose(omega_it)\n",
    "omega_it = omega_it+omega_it_t\n",
    "for i in range(n_reliable):\n",
    "    omega_it[i,i] = 1"
   ]
  },
  {
   "cell_type": "markdown",
   "id": "e4f3730c-0cdc-40dd-96cf-11ddfdb11182",
   "metadata": {},
   "source": [
    "first_row_it = np.hstack((0,-np.transpose(outcome_it)))\n",
    "first_row_it = first_row_it.reshape(1,first_row_it.shape[0])\n",
    "bot_of_mat_right_it = omega_it + (1/gamma)*np.eye(n_reliable)\n",
    "bot_of_mat_it = np.hstack((outcome_it.reshape(n_reliable,1), bot_of_mat_right_it))\n",
    "whole_mat_it = np.vstack((first_row_it, bot_of_mat_it))\n",
    "right_hand_it = np.ones(n_reliable+1)\n",
    "right_hand_it[0] = 0\n",
    "coeffs_it = np.linalg.solve(a=whole_mat_it,b=right_hand_it)\n",
    "b_it = coeffs_it[0]\n",
    "alpha_it = coeffs_it[1:coeffs_it.shape[0]]\n",
    "test_data_it = mushrooms_it.drop(['class','label','cluster','it_results'], axis=1).to_numpy()\n",
    "results_new = np.empty(n_samples)"
   ]
  },
  {
   "cell_type": "markdown",
   "id": "4fd67ee5-f50f-4089-9bce-c51761eeb277",
   "metadata": {},
   "source": [
    "for i in tqdm(range(n_samples)):\n",
    "    results_new[i] = np.sum(alpha_it*outcome_it*rbf(x=data_svm_it,y=test_data_it[i,:],l=10))\n",
    "sorted_results_it = np.sort(results_new)\n",
    "b_it = sorted_results_it[good_ratio]\n",
    "last_results_it = np.empty(n_samples)\n",
    "for i in range(n_samples):\n",
    "    last_results_it[i] = np.sign(results_new[i] - b)\n",
    "mushrooms['it_next_step'] = last_results_it\n",
    "correct_with_b_it = 0\n",
    "for i in range(positives_new.shape[0]):\n",
    "    if mushrooms_it.loc[positives_new.index[i],'it_next_step'] == 1:\n",
    "        correct_with_b_it += 1\n",
    "missclass_it = positives_new.shape[0] - correct_with_b_it"
   ]
  },
  {
   "cell_type": "markdown",
   "id": "4497f692-b50b-49ae-950c-373152946914",
   "metadata": {
    "scrolled": true
   },
   "source": [
    "compteur_bis = 0\n",
    "max_iter_bis = 200\n",
    "while missclass_it!=0 and compteur_bis<max_iter_bis:\n",
    "    if compteur_bis%25 == 0:\n",
    "        print(compteur_bis)\n",
    "    compteur_bis += 1\n",
    "    b_it = (1-0.05)*b_it\n",
    "    last_results_bis = np.empty(n_samples)\n",
    "    for i in range(n_samples):\n",
    "        last_results_bis[i] = np.sign(results_new[i] - b_it)\n",
    "        \n",
    "    mushrooms_it['it_next_step'] = last_results_bis\n",
    "    correct_with_b_bis = 0\n",
    "\n",
    "    for i in mushrooms_it[mushrooms['label'] == 1].index:\n",
    "        if last_results_bis[i] == 1:\n",
    "            correct_with_b_bis += 1\n",
    "    missclass_it = positives_new.shape[0] - correct_with_b_bis\n",
    "stop_counter = 0\n",
    "for i in range(n_samples):\n",
    "    if mushrooms_it.loc[i,'it_results'] != mushrooms_it.loc[i,'it_next_step']:\n",
    "        stop_counter += 1"
   ]
  },
  {
   "cell_type": "markdown",
   "id": "473e4f91-450a-4b2e-ae15-019314b8f353",
   "metadata": {},
   "source": [
    "positives = 0\n",
    "true_positive = 0\n",
    "for i in range(n_samples):\n",
    "    if mushrooms_it.loc[i,'it_next_step'] == 1:\n",
    "        positives+=1\n",
    "        if mushrooms_it.loc[i,'class'] == 1:\n",
    "            true_positive += 1"
   ]
  },
  {
   "cell_type": "code",
   "execution_count": 14,
   "id": "a30960bb-56b2-483f-b1bb-0b33ec0aea30",
   "metadata": {},
   "outputs": [
    {
     "name": "stdout",
     "output_type": "stream",
     "text": [
      "0.6271098608232158\n"
     ]
    }
   ],
   "source": [
    "print(precision)"
   ]
  },
  {
   "cell_type": "code",
   "execution_count": 15,
   "id": "4a41ce68-a3e2-4038-a611-662b7715de72",
   "metadata": {},
   "outputs": [
    {
     "data": {
      "text/plain": [
       "342"
      ]
     },
     "execution_count": 15,
     "metadata": {},
     "output_type": "execute_result"
    }
   ],
   "source": [
    "missclass_it"
   ]
  },
  {
   "cell_type": "code",
   "execution_count": 16,
   "id": "6d288004-52e9-425d-bae7-d26f39f874d5",
   "metadata": {},
   "outputs": [
    {
     "name": "stdout",
     "output_type": "stream",
     "text": [
      "gamberge\n"
     ]
    }
   ],
   "source": [
    "print('gamberge')"
   ]
  },
  {
   "cell_type": "code",
   "execution_count": 17,
   "id": "83c07eb4-b2c3-488a-996d-02205b961362",
   "metadata": {},
   "outputs": [],
   "source": [
    "positives = 0\n",
    "true_positives = 0\n",
    "for i in range(n_samples):\n",
    "    if last_results_bis[i] == 1:\n",
    "        positives += 1\n",
    "        if mushrooms_it.loc[mushrooms.index[i],'class'] == 1:\n",
    "            true_positives += 1"
   ]
  },
  {
   "cell_type": "code",
   "execution_count": 18,
   "id": "ce665204-6f9f-445b-a5b6-109326fe1b08",
   "metadata": {},
   "outputs": [
    {
     "name": "stdout",
     "output_type": "stream",
     "text": [
      "0.6779443254817987\n"
     ]
    }
   ],
   "source": [
    "print(true_positives/positives)"
   ]
  },
  {
   "cell_type": "code",
   "execution_count": 19,
   "id": "42413c21-37b3-4d93-b1ae-886f265543f8",
   "metadata": {},
   "outputs": [
    {
     "data": {
      "text/plain": [
       "8471"
      ]
     },
     "execution_count": 19,
     "metadata": {},
     "output_type": "execute_result"
    }
   ],
   "source": [
    "true_positive"
   ]
  },
  {
   "cell_type": "code",
   "execution_count": 20,
   "id": "23fb7872-97df-4d26-9691-ad12b6aae6ad",
   "metadata": {},
   "outputs": [
    {
     "data": {
      "text/plain": [
       "14010"
      ]
     },
     "execution_count": 20,
     "metadata": {},
     "output_type": "execute_result"
    }
   ],
   "source": [
    "positives"
   ]
  },
  {
   "cell_type": "code",
   "execution_count": 21,
   "id": "e089ef30-cd03-4cfd-993e-e0c85fab0250",
   "metadata": {},
   "outputs": [
    {
     "name": "stdout",
     "output_type": "stream",
     "text": [
      "5539\n"
     ]
    }
   ],
   "source": [
    "false_positive = positives - true_positive\n",
    "print(false_positive)"
   ]
  },
  {
   "cell_type": "code",
   "execution_count": 22,
   "id": "aaae491c-cb4b-4993-b220-632f1550f0be",
   "metadata": {},
   "outputs": [],
   "source": [
    "svc_sklearn = SVC().fit(X=mushrooms.to_numpy()[:,:8],y=mushrooms.to_numpy()[:,8])"
   ]
  },
  {
   "cell_type": "code",
   "execution_count": 23,
   "id": "333778ff-7ff5-4774-93ea-2a9df2c3f7ae",
   "metadata": {},
   "outputs": [],
   "source": [
    "labels_sklearn = svc_sklearn.predict(X=mushrooms.to_numpy()[:,:8])"
   ]
  },
  {
   "cell_type": "code",
   "execution_count": 24,
   "id": "f5519023-7e39-4fd9-831f-fb474ee05d4d",
   "metadata": {},
   "outputs": [],
   "source": [
    "positives_sklearn = 0\n",
    "true_positives_sklearn = 0\n",
    "for i in range(labels_sklearn.shape[0]):\n",
    "    if labels_sklearn[i] == 1:\n",
    "        positives_sklearn += 1\n",
    "        if mushrooms.to_numpy()[i,8] == 1:\n",
    "            true_positives_sklearn += 1"
   ]
  },
  {
   "cell_type": "code",
   "execution_count": 25,
   "id": "a9b8872d-4845-4cdb-81e8-ec5df1460166",
   "metadata": {},
   "outputs": [
    {
     "name": "stdout",
     "output_type": "stream",
     "text": [
      "0.6614197722889318\n"
     ]
    }
   ],
   "source": [
    "print(true_positives_sklearn/positives_sklearn)"
   ]
  },
  {
   "cell_type": "code",
   "execution_count": 26,
   "id": "14fafdda-062b-435a-8ed8-61dcda364a10",
   "metadata": {},
   "outputs": [
    {
     "data": {
      "text/plain": [
       "10631"
      ]
     },
     "execution_count": 26,
     "metadata": {},
     "output_type": "execute_result"
    }
   ],
   "source": [
    "true_positives_sklearn"
   ]
  },
  {
   "cell_type": "code",
   "execution_count": 27,
   "id": "082c4c2b-8980-4f97-bf26-d273f78f77c6",
   "metadata": {},
   "outputs": [
    {
     "data": {
      "text/plain": [
       "16073"
      ]
     },
     "execution_count": 27,
     "metadata": {},
     "output_type": "execute_result"
    }
   ],
   "source": [
    "positives_sklearn"
   ]
  },
  {
   "cell_type": "code",
   "execution_count": 28,
   "id": "ec712e81-87a3-415d-8ac3-65790683d6ac",
   "metadata": {},
   "outputs": [],
   "source": [
    "#So, we got a better result than the svm on the fully labelled data (but reduced by half).\n",
    "#The method works, however, very slow on large datasets (took 10 hours to run on the full dataset and the kernel\n",
    "#died before it could end). And the thing is that, the svm on the whole dataset had better performances."
   ]
  },
  {
   "cell_type": "code",
   "execution_count": null,
   "id": "09ad3338-1006-4086-9b39-ed5551118223",
   "metadata": {},
   "outputs": [],
   "source": []
  }
 ],
 "metadata": {
  "kernelspec": {
   "display_name": "Python 3 (ipykernel)",
   "language": "python",
   "name": "python3"
  },
  "language_info": {
   "codemirror_mode": {
    "name": "ipython",
    "version": 3
   },
   "file_extension": ".py",
   "mimetype": "text/x-python",
   "name": "python",
   "nbconvert_exporter": "python",
   "pygments_lexer": "ipython3",
   "version": "3.12.3"
  }
 },
 "nbformat": 4,
 "nbformat_minor": 5
}
