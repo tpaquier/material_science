{
 "cells": [
  {
   "cell_type": "code",
   "execution_count": 1,
   "id": "3881cf7f-3cce-45f9-a7ff-1b3e08f9061d",
   "metadata": {},
   "outputs": [],
   "source": [
    "import numpy as np\n",
    "import pandas as pd\n",
    "import matplotlib.pyplot as plt\n",
    "from scipy.stats import bernoulli\n",
    "from sklearn.cluster import KMeans\n",
    "from sklearn.preprocessing import StandardScaler\n",
    "from tqdm import tqdm\n",
    "from sklearn.svm import SVC"
   ]
  },
  {
   "cell_type": "code",
   "execution_count": 2,
   "id": "3631d0d9-107f-44c2-9625-9dcc03294659",
   "metadata": {},
   "outputs": [],
   "source": [
    "mushrooms_whole = pd.read_csv('mushroom.csv')\n",
    "classes = mushrooms_whole['class'].copy()\n",
    "colnames = mushrooms_whole.drop(['class'], axis=1).columns\n",
    "mushrooms_whole = StandardScaler().fit_transform(X=mushrooms_whole.drop(['class'],axis=1).to_numpy())\n",
    "mushrooms_whole = pd.DataFrame(mushrooms_whole)\n",
    "mushrooms_whole.columns = colnames\n",
    "mushrooms_whole['class'] = classes\n",
    "mushrooms = mushrooms_whole.sample(frac=0.1)\n",
    "indexes_to_drop_imp = list(mushrooms.index)\n",
    "mushroom_test = mushrooms_whole.drop(labels=indexes_to_drop_imp)\n",
    "mushrooms = mushrooms.reset_index(drop=True)\n",
    "mushroom_test = mushroom_test.reset_index(drop=True)\n",
    "#mushrooms\n",
    "#mushroom_test"
   ]
  },
  {
   "cell_type": "code",
   "execution_count": 3,
   "id": "cdc682fc-4b7b-4a64-8abb-6b256681899d",
   "metadata": {},
   "outputs": [],
   "source": [
    "def rbf(x,y,l=1):\n",
    "    \"\"\"Gaussian kernel\n",
    "\n",
    "    Parameters\n",
    "    -------------------------------\n",
    "    x : float\n",
    "    a real number\n",
    "\n",
    "    y : float\n",
    "    a real number\n",
    "\n",
    "    l: float, non zero\n",
    "    a scale parameter\n",
    "    -------------------------------\n",
    "    \"\"\"\n",
    "    dim = x.shape[0]\n",
    "    vect = np.empty(dim)\n",
    "    if dim == y.shape[0]  :\n",
    "        d = np.exp(-((np.linalg.norm(x-y))**2)/(2*(l**2)))\n",
    "        return d\n",
    "    else :\n",
    "        for i in range(dim):\n",
    "            vect[i] = np.exp(-((np.linalg.norm(x[i] - y))**2)/(2*(l**2)))\n",
    "        return vect"
   ]
  },
  {
   "cell_type": "code",
   "execution_count": 4,
   "id": "67dab3e2-5c47-4e65-baf3-34645a6683fc",
   "metadata": {},
   "outputs": [
    {
     "name": "stdout",
     "output_type": "stream",
     "text": [
      "the cluster containing positive values is :  0 \n",
      " the one containing negative exampels is :  1\n"
     ]
    }
   ],
   "source": [
    "#First, the cluster step, to 'initialize' the labels, and the creation of unlabeled data\n",
    "n_samples = mushrooms.shape[0]\n",
    "mushrooms['label'] = np.ones(n_samples)*(-1)\n",
    "\n",
    "for i in mushrooms.index:\n",
    "    random = bernoulli.rvs(p=3/4)\n",
    "    if mushrooms.loc[i,'class'] == 1 and random == 0:\n",
    "        mushrooms.loc[i,'label'] = 1\n",
    "    else:\n",
    "        mushrooms.loc[i,'label'] = -1\n",
    "\n",
    "n_cluster = 5\n",
    "clusterized_data = KMeans(n_clusters=n_cluster, init='random').fit(mushrooms.drop(['class','label'],axis=1))\n",
    "mushrooms['cluster'] = clusterized_data.labels_\n",
    "\n",
    "list_of_ratio = []\n",
    "for i in range(n_cluster):\n",
    "    list_of_ratio.append(mushrooms[mushrooms['cluster'] == i]['label'].sum()/mushrooms[mushrooms['cluster'] == i]['class'].shape[0])\n",
    "list_of_ratio = np.array(list_of_ratio)\n",
    "positive_cluster = np.argmax(list_of_ratio)\n",
    "negative_cluster = np.argmin(list_of_ratio)\n",
    "print('the cluster containing positive values is : ', positive_cluster, '\\n', \n",
    "      'the one containing negative exampels is : ', negative_cluster)\n",
    "\n",
    "reliable_positives = mushrooms[mushrooms['cluster'] == positive_cluster]\n",
    "reliable_positives = reliable_positives[reliable_positives['label'] == 1]\n",
    "reliable_negatives = mushrooms[mushrooms['cluster'] == negative_cluster]\n",
    "reliable_negatives = reliable_negatives[reliable_negatives['label'] == -1]\n",
    "reliable_negatives = reliable_negatives.sample(n=reliable_positives.shape[0]) #to adjust the class balance ratio"
   ]
  },
  {
   "cell_type": "code",
   "execution_count": 5,
   "id": "fb44e494-bf8d-408c-860a-d078a200cf9c",
   "metadata": {},
   "outputs": [
    {
     "name": "stderr",
     "output_type": "stream",
     "text": [
      "100%|██████████| 5404/5404 [00:22<00:00, 238.07it/s]\n"
     ]
    }
   ],
   "source": [
    "#first svm part\n",
    "gamma = 1\n",
    "positives_array = reliable_positives.drop(['class','cluster'], axis=1)\n",
    "negatives_array = reliable_negatives.drop(['class', 'cluster'], axis=1)\n",
    "data_svm = np.vstack((positives_array,negatives_array))\n",
    "n_reliable = data_svm.shape[0]\n",
    "outcome = data_svm[:,8]\n",
    "data_svm = data_svm[:,:8]\n",
    "omega = np.zeros((n_reliable,n_reliable))\n",
    "for k in range(n_reliable):\n",
    "    for i in range(k,n_reliable):\n",
    "        omega[k,i] = outcome[k]*outcome[i]*rbf(x=data_svm[k,:],y=data_svm[i,:],l=10)\n",
    "omega_t = np.transpose(omega)\n",
    "omega = omega_t + omega\n",
    "for i in range(n_reliable):\n",
    "    omega[i,i] = 1\n",
    "\n",
    "\n",
    "#now, computation of the rest of the matrix\n",
    "first_row = np.hstack((0,-np.transpose(outcome)))\n",
    "first_row = first_row.reshape(1,first_row.shape[0])\n",
    "bot_of_mat_right = omega + (1/gamma)*np.eye(n_reliable)\n",
    "bot_of_mat = np.hstack((outcome.reshape(n_reliable,1), bot_of_mat_right))\n",
    "whole_mat = np.vstack((first_row, bot_of_mat))\n",
    "right_hand = np.ones(n_reliable+1)\n",
    "right_hand[0] = 0\n",
    "\n",
    "#we get the coefficients\n",
    "coeffs = np.linalg.solve(a=whole_mat,b=right_hand)\n",
    "b = coeffs[0]\n",
    "alpha = coeffs[1:coeffs.shape[0]]\n",
    "\n",
    "#now we compute the wt \\phi(x) and then we order them \n",
    "test_data = mushrooms.drop(['class','label','cluster'], axis=1).to_numpy()\n",
    "results = np.empty(n_samples)\n",
    "for i in tqdm(range(n_samples)):\n",
    "    results[i] = np.sum(alpha*outcome*rbf(x=data_svm,y=test_data[i,:],l=10))\n",
    "sorted_results = np.sort(results)\n",
    "good_ratio = int(n_samples/2)\n",
    "b = sorted_results[good_ratio]\n",
    "\n",
    "last_results = np.empty(n_samples)\n",
    "for i in range(n_samples):\n",
    "    last_results[i] = np.sign(results[i] - b)\n",
    "\n",
    "mushrooms['it_results'] = last_results\n",
    "correct_with_b = 0\n",
    "for i in range(reliable_positives.shape[0]):\n",
    "    if mushrooms.loc[reliable_positives.index[i],'it_results'] == 1:\n",
    "        correct_with_b += 1\n",
    "missclass = reliable_positives.shape[0] - correct_with_b"
   ]
  },
  {
   "cell_type": "code",
   "execution_count": 6,
   "id": "09a426cc-eefe-45df-8c81-189e3f213f44",
   "metadata": {},
   "outputs": [
    {
     "data": {
      "text/plain": [
       "-0.07594471234942546"
      ]
     },
     "execution_count": 6,
     "metadata": {},
     "output_type": "execute_result"
    }
   ],
   "source": [
    "b"
   ]
  },
  {
   "cell_type": "code",
   "execution_count": 7,
   "id": "ef6309a4-391f-47e3-ba77-b90556fe11cb",
   "metadata": {},
   "outputs": [
    {
     "name": "stdout",
     "output_type": "stream",
     "text": [
      "pos =  2701  and negatives =  2703\n"
     ]
    }
   ],
   "source": [
    "compt_pos = 0\n",
    "for i in range(len(last_results)):\n",
    "    if last_results[i] == 1:\n",
    "        compt_pos += 1\n",
    "\n",
    "print('pos = ', compt_pos, ' and negatives = ', len(last_results) - compt_pos)"
   ]
  },
  {
   "cell_type": "code",
   "execution_count": 8,
   "id": "aa0b654a-7c66-449f-9edb-2e0b21d367a3",
   "metadata": {},
   "outputs": [],
   "source": [
    "compteur = 0\n",
    "max_iter = 500\n",
    "while missclass!=0 and compteur<max_iter:\n",
    "    compteur += 1\n",
    "    if np.sign(b) == 1:\n",
    "        b = (1+0.005)*b\n",
    "    else:\n",
    "        b = (1-0.005)*b\n",
    "    last_results = np.zeros(n_samples)\n",
    "    for i in range(n_samples):\n",
    "        last_results[i] = np.sign(results[i] - b)\n",
    "\n",
    "    mushrooms['it_results'] = last_results\n",
    "    correct_with_b = 0\n",
    "    for i in range(reliable_positives.shape[0]):\n",
    "        if mushrooms.loc[reliable_positives.index[i],'it_results'] == 1:\n",
    "            correct_with_b += 1\n",
    "    missclass = reliable_positives.shape[0] - correct_with_b"
   ]
  },
  {
   "cell_type": "code",
   "execution_count": 9,
   "id": "1ec26e6b-2372-4338-8a9c-11c2658fc413",
   "metadata": {},
   "outputs": [
    {
     "data": {
      "text/plain": [
       "-0.006194951552889135"
      ]
     },
     "execution_count": 9,
     "metadata": {},
     "output_type": "execute_result"
    }
   ],
   "source": [
    "b"
   ]
  },
  {
   "cell_type": "code",
   "execution_count": null,
   "id": "42803c09-526f-4890-9534-3b2de814c362",
   "metadata": {},
   "outputs": [],
   "source": []
  },
  {
   "cell_type": "code",
   "execution_count": 10,
   "id": "7089cc94-854f-4bb0-a513-8c967ab0e21b",
   "metadata": {},
   "outputs": [],
   "source": [
    "mushrooms_it = mushrooms.copy()"
   ]
  },
  {
   "cell_type": "code",
   "execution_count": 11,
   "id": "0d7b4ef9-91c2-4b17-8f6d-fcf97dac4443",
   "metadata": {},
   "outputs": [],
   "source": [
    "good_ratio = int(n_samples/2)"
   ]
  },
  {
   "cell_type": "code",
   "execution_count": 12,
   "id": "3d16cf40-244e-4c46-ba03-b6b060b30b28",
   "metadata": {},
   "outputs": [],
   "source": [
    "for i in range(n_samples):\n",
    "    if mushrooms_it.loc[mushrooms.index[i],'it_results'] == 0:\n",
    "        mushrooms_it.loc[mushrooms.index[i],'it_results'] = -1\n",
    "positives_new = mushrooms_it[mushrooms_it['it_results'] == 1]\n",
    "positives_new = positives_new[positives_new['label'] == 1]\n",
    "negatives_new = mushrooms_it[mushrooms_it['it_results'] == -1]\n",
    "negatives_new = negatives_new[negatives_new['label'] == -1]\n",
    "negatives_new = negatives_new.sample(n=positives_new.shape[0])"
   ]
  },
  {
   "cell_type": "code",
   "execution_count": 13,
   "id": "beeb231e-3181-491e-8b50-c443087ea511",
   "metadata": {},
   "outputs": [],
   "source": [
    "gamma = 1\n",
    "positives_array_new = positives_new.drop(['class','cluster','label'], axis=1)\n",
    "negatives_array_new = negatives_new.drop(['class', 'cluster','label'], axis=1)\n",
    "data_svm_it = np.vstack((positives_array_new,negatives_array_new))\n",
    "n_reliable = data_svm_it.shape[0]\n",
    "outcome_it = data_svm_it[:,8].copy()\n",
    "data_svm_it = data_svm_it[:,:8].copy()"
   ]
  },
  {
   "cell_type": "code",
   "execution_count": 14,
   "id": "cf23525b-115a-4bbd-bf62-440186eedd0d",
   "metadata": {},
   "outputs": [],
   "source": [
    "omega_it = np.zeros((n_reliable,n_reliable))\n",
    "for k in range(n_reliable):\n",
    "    for i in range(k,n_reliable):\n",
    "        omega_it[k,i] = outcome_it[k]*outcome_it[i]*rbf(x=data_svm_it[k,:],y=data_svm_it[i,:],l=10)\n",
    "omega_it_t = np.transpose(omega_it)\n",
    "omega_it = omega_it+omega_it_t\n",
    "for i in range(n_reliable):\n",
    "    omega_it[i,i] = 1"
   ]
  },
  {
   "cell_type": "code",
   "execution_count": 15,
   "id": "49fd4269-6c40-451a-b8e2-1d90ea271249",
   "metadata": {},
   "outputs": [],
   "source": [
    "first_row_it = np.hstack((0,-np.transpose(outcome_it)))\n",
    "first_row_it = first_row_it.reshape(1,first_row_it.shape[0])\n",
    "bot_of_mat_right_it = omega_it + (1/gamma)*np.eye(n_reliable)\n",
    "bot_of_mat_it = np.hstack((outcome_it.reshape(n_reliable,1), bot_of_mat_right_it))\n",
    "whole_mat_it = np.vstack((first_row_it, bot_of_mat_it))\n",
    "right_hand_it = np.ones(n_reliable+1)\n",
    "right_hand_it[0] = 0\n",
    "coeffs_it = np.linalg.solve(a=whole_mat_it,b=right_hand_it)\n",
    "b_it = coeffs_it[0]\n",
    "alpha_it = coeffs_it[1:coeffs_it.shape[0]]\n",
    "test_data_it = mushrooms_it.drop(['class','label','cluster','it_results'], axis=1).to_numpy()\n",
    "results_new = np.zeros(n_samples)"
   ]
  },
  {
   "cell_type": "code",
   "execution_count": 16,
   "id": "e77a51c1-0307-45fd-ab45-428cbdfbe98b",
   "metadata": {},
   "outputs": [],
   "source": [
    "for i in range(n_samples):\n",
    "    results_new[i] = np.sum(alpha_it*outcome_it*rbf(x=data_svm_it,y=test_data_it[i,:],l=10))\n",
    "sorted_results_it = np.sort(results_new)\n",
    "b_it = sorted_results_it[good_ratio]\n",
    "last_results_it = np.zeros(n_samples)"
   ]
  },
  {
   "cell_type": "code",
   "execution_count": 17,
   "id": "e167af31-4a12-4933-806e-4c794bbafdb7",
   "metadata": {},
   "outputs": [
    {
     "data": {
      "text/plain": [
       "-0.6413173859808126"
      ]
     },
     "execution_count": 17,
     "metadata": {},
     "output_type": "execute_result"
    }
   ],
   "source": [
    "b_it"
   ]
  },
  {
   "cell_type": "code",
   "execution_count": 18,
   "id": "e0aff2cb-4b6e-4c46-b7aa-e57888cbe5d9",
   "metadata": {},
   "outputs": [],
   "source": [
    "for i in range(n_samples):\n",
    "    last_results_it[i] = np.sign(results_new[i] - b_it)"
   ]
  },
  {
   "cell_type": "code",
   "execution_count": 19,
   "id": "68871ffd-1d14-4232-a263-6ac52d21409e",
   "metadata": {},
   "outputs": [
    {
     "name": "stdout",
     "output_type": "stream",
     "text": [
      "pos = 2701 negatives = 2703\n"
     ]
    }
   ],
   "source": [
    "compt_pos_bis = 0\n",
    "for i in range(len(last_results_it)):\n",
    "    if last_results_it[i] == 1:\n",
    "        compt_pos_bis += 1\n",
    "\n",
    "print('pos =', compt_pos_bis, 'negatives =', len(last_results_it) - compt_pos_bis)"
   ]
  },
  {
   "cell_type": "code",
   "execution_count": 20,
   "id": "d6384e92-62ba-40f5-9ff6-fea192c1dfbb",
   "metadata": {},
   "outputs": [
    {
     "data": {
      "text/plain": [
       "[<matplotlib.lines.Line2D at 0x7f93f3a440e0>]"
      ]
     },
     "execution_count": 20,
     "metadata": {},
     "output_type": "execute_result"
    },
    {
     "data": {
      "image/png": "[encoded data removed]",
      "text/plain": [
       "<Figure size 640x480 with 1 Axes>"
      ]
     },
     "metadata": {},
     "output_type": "display_data"
    }
   ],
   "source": [
    "plt.plot(sorted_results_it)"
   ]
  },
  {
   "cell_type": "code",
   "execution_count": null,
   "id": "f99fa553-f86f-4179-b853-035370731891",
   "metadata": {},
   "outputs": [],
   "source": []
  }
 ],
 "metadata": {
  "kernelspec": {
   "display_name": "Python 3 (ipykernel)",
   "language": "python",
   "name": "python3"
  },
  "language_info": {
   "codemirror_mode": {
    "name": "ipython",
    "version": 3
   },
   "file_extension": ".py",
   "mimetype": "text/x-python",
   "name": "python",
   "nbconvert_exporter": "python",
   "pygments_lexer": "ipython3",
   "version": "3.12.4"
  }
 },
 "nbformat": 4,
 "nbformat_minor": 5
}
