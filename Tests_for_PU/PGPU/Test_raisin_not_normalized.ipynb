{
 "cells": [
  {
   "cell_type": "code",
   "execution_count": 1,
   "id": "ccfa9784-5b7d-4252-82d1-532bb06fa974",
   "metadata": {},
   "outputs": [],
   "source": [
    "%%capture\n",
    "import pandas as pd\n",
    "import numpy as np\n",
    "from scipy.stats import bernoulli\n",
    "import matplotlib.pyplot as plt\n",
    "from sklearn.preprocessing import StandardScaler\n",
    "from sklearn.svm import SVC\n",
    "!pip install qpsolvers\n",
    "import qpsolvers\n",
    "!pip install qpsolvers[cvxopt]\n",
    "!pip install qpsolvers[open_source_solvers]\n",
    "!pip install qpsolvers[clarabel]\n",
    "from qpsolvers import solve_qp"
   ]
  },
  {
   "cell_type": "code",
   "execution_count": 2,
   "id": "111e2c80-7f5a-4467-b3c8-a3f5f15bcd44",
   "metadata": {},
   "outputs": [
    {
     "name": "stderr",
     "output_type": "stream",
     "text": [
      "/tmp/ipykernel_2921/3655503080.py:6: FutureWarning: Downcasting behavior in `replace` is deprecated and will be removed in a future version. To retain the old behavior, explicitly call `result.infer_objects(copy=False)`. To opt-in to the future behavior, set `pd.set_option('future.no_silent_downcasting', True)`\n",
      "  raisin_whole_data = raisin_whole_data.replace('Kecimen',1)\n"
     ]
    }
   ],
   "source": [
    "raisin_whole_data = pd.read_csv('raisin.csv')\n",
    "raisin_whole_data.columns = ['area','majlength','minlength','eccentric','cvx',\n",
    "                             'extent','perimeter','class']\n",
    "\n",
    "raisin_whole_data = raisin_whole_data.replace('Besni',-1)\n",
    "raisin_whole_data = raisin_whole_data.replace('Kecimen',1)\n",
    "raisin = raisin_whole_data.sample(frac=0.8)\n",
    "list_index_test = []\n",
    "for i in raisin_whole_data.index:\n",
    "    if i not in raisin.index:\n",
    "        list_index_test.append(i)\n",
    "raisin_test = raisin_whole_data.filter(items=list_index_test, axis=0)\n",
    "\n",
    "\n",
    "\n",
    "n_samples = raisin.shape[0]\n",
    "n_samples_test = raisin_test.shape[0]\n",
    "\n",
    "raisin = raisin.reset_index(drop=True)\n",
    "raisin_test = raisin_test.reset_index(drop=True)"
   ]
  },
  {
   "cell_type": "code",
   "execution_count": 3,
   "id": "4df1ff1d-2c90-4b1c-aa83-9387c867b5dc",
   "metadata": {},
   "outputs": [],
   "source": [
    "def rbf(x,y,l=1):\n",
    "    \"\"\"Gaussian kernel\n",
    "\n",
    "    Parameters\n",
    "    -------------------------------\n",
    "    x : float\n",
    "    a real number\n",
    "\n",
    "    y : float\n",
    "    a real number\n",
    "\n",
    "    l: float, non zero\n",
    "    a scale parameter\n",
    "    -------------------------------\n",
    "    \"\"\"\n",
    "    dim = x.shape[0]\n",
    "    vect = np.empty(dim)\n",
    "    if dim == y.shape[0]  :\n",
    "        d = np.exp((-1)*((np.linalg.norm(x-y))/(2*(l**2))))\n",
    "        return d\n",
    "    else :\n",
    "        for i in range(dim):\n",
    "            vect[i] = np.exp((-1)*(np.linalg.norm(x[i] - y))/(2*(l**2)))\n",
    "        return vect"
   ]
  },
  {
   "cell_type": "code",
   "execution_count": 4,
   "id": "a20e8ab2-12ca-4ada-a31a-13b452d4ce60",
   "metadata": {},
   "outputs": [],
   "source": [
    "np.random.seed(1452234)\n",
    "label = np.zeros(n_samples)\n",
    "for i in range(n_samples):\n",
    "    random = bernoulli.rvs(p=3/4)\n",
    "    if raisin.loc[i,'class'] == 1 and random == 0:\n",
    "        label[i] = 1\n",
    "    else:\n",
    "        label[i] = -1\n",
    "raisin['label'] = label\n",
    "\n",
    "\n",
    "\n",
    "svm_train = SVC(kernel='sigmoid', probability = True,\n",
    "               gamma = 0.025).fit(X=raisin.to_numpy()[:,:-2], y=raisin.to_numpy()[:,-1])\n",
    "probas = svm_train.predict_proba(raisin.to_numpy()[:,:-2])"
   ]
  },
  {
   "cell_type": "code",
   "execution_count": 5,
   "id": "08f15e77-a77c-4c5e-9e0e-058edef922fa",
   "metadata": {},
   "outputs": [],
   "source": [
    "proba_gap = np.zeros(n_samples)\n",
    "for i in range(n_samples):\n",
    "    proba_gap[i] = probas[i,1] - probas[i,0]\n",
    "\n",
    "\n",
    "raisin['proba_gap'] = proba_gap\n",
    "\n",
    "n_min = 3 #as in the article\n",
    "\n",
    "l_boundary = np.mean(np.sort(raisin[raisin['label'] == 1]['proba_gap'])[:n_min])\n",
    "\n",
    "\n",
    "relab = np.empty(n_samples)\n",
    "for i in range(n_samples):\n",
    "    if raisin.loc[i,'proba_gap'] < l_boundary:\n",
    "        relab[i] = -1\n",
    "    elif raisin.loc[i,'label'] == 1 or raisin.loc[i,'proba_gap'] >= 0:\n",
    "        relab[i] = 1\n",
    "    else:\n",
    "        relab[i] = 0\n",
    "raisin['relab'] = relab"
   ]
  },
  {
   "cell_type": "code",
   "execution_count": 6,
   "id": "dc5b8a17-5e7a-47c4-a39f-12705061cb89",
   "metadata": {},
   "outputs": [
    {
     "ename": "ValueError",
     "evalue": "The number of classes has to be greater than one; got 1 class",
     "output_type": "error",
     "traceback": [
      "\u001b[0;31m---------------------------------------------------------------------------\u001b[0m",
      "\u001b[0;31mValueError\u001b[0m                                Traceback (most recent call last)",
      "Cell \u001b[0;32mIn[6], line 52\u001b[0m\n\u001b[1;32m     43\u001b[0m ub_mat \u001b[38;5;241m=\u001b[39m np\u001b[38;5;241m.\u001b[39mvstack((n_labels\u001b[38;5;241m*\u001b[39m(\u001b[38;5;241m1\u001b[39m\u001b[38;5;241m+\u001b[39mepsilon),n_labels\u001b[38;5;241m*\u001b[39m(epsilon\u001b[38;5;241m-\u001b[39m\u001b[38;5;241m1\u001b[39m),\n\u001b[1;32m     44\u001b[0m                     np\u001b[38;5;241m.\u001b[39mones(n_labels)\u001b[38;5;241m.\u001b[39mreshape(n_labels,\u001b[38;5;241m1\u001b[39m)\u001b[38;5;241m*\u001b[39mB,\n\u001b[1;32m     45\u001b[0m                     np\u001b[38;5;241m.\u001b[39mzeros(n_labels)\u001b[38;5;241m.\u001b[39mreshape(n_labels,\u001b[38;5;241m1\u001b[39m)))\n\u001b[1;32m     49\u001b[0m beta_opti \u001b[38;5;241m=\u001b[39m solve_qp(P\u001b[38;5;241m=\u001b[39mcapital_k,q\u001b[38;5;241m=\u001b[39mkappa,G\u001b[38;5;241m=\u001b[39ma_mat,h\u001b[38;5;241m=\u001b[39mub_mat,solver\u001b[38;5;241m=\u001b[39m\u001b[38;5;124m'\u001b[39m\u001b[38;5;124mcvxopt\u001b[39m\u001b[38;5;124m'\u001b[39m)\n\u001b[0;32m---> 52\u001b[0m svm_weighted \u001b[38;5;241m=\u001b[39m \u001b[43mSVC\u001b[49m\u001b[43m(\u001b[49m\u001b[43m)\u001b[49m\u001b[38;5;241;43m.\u001b[39;49m\u001b[43mfit\u001b[49m\u001b[43m(\u001b[49m\u001b[43mX\u001b[49m\u001b[38;5;241;43m=\u001b[39;49m\u001b[43mlabeled_data\u001b[49m\u001b[43m,\u001b[49m\u001b[43my\u001b[49m\u001b[38;5;241;43m=\u001b[39;49m\u001b[43moutput_labeled\u001b[49m\u001b[43m,\u001b[49m\u001b[43msample_weight\u001b[49m\u001b[38;5;241;43m=\u001b[39;49m\u001b[43mbeta_opti\u001b[49m\u001b[43m)\u001b[49m\n\u001b[1;32m     54\u001b[0m predictions_weighted \u001b[38;5;241m=\u001b[39m svm_weighted\u001b[38;5;241m.\u001b[39mpredict(raisin_test\u001b[38;5;241m.\u001b[39mto_numpy()[:,:\u001b[38;5;241m-\u001b[39m\u001b[38;5;241m1\u001b[39m])\n\u001b[1;32m     56\u001b[0m positive \u001b[38;5;241m=\u001b[39m \u001b[38;5;241m0\u001b[39m\n",
      "File \u001b[0;32m/opt/conda/lib/python3.12/site-packages/sklearn/base.py:1473\u001b[0m, in \u001b[0;36m_fit_context.<locals>.decorator.<locals>.wrapper\u001b[0;34m(estimator, *args, **kwargs)\u001b[0m\n\u001b[1;32m   1466\u001b[0m     estimator\u001b[38;5;241m.\u001b[39m_validate_params()\n\u001b[1;32m   1468\u001b[0m \u001b[38;5;28;01mwith\u001b[39;00m config_context(\n\u001b[1;32m   1469\u001b[0m     skip_parameter_validation\u001b[38;5;241m=\u001b[39m(\n\u001b[1;32m   1470\u001b[0m         prefer_skip_nested_validation \u001b[38;5;129;01mor\u001b[39;00m global_skip_validation\n\u001b[1;32m   1471\u001b[0m     )\n\u001b[1;32m   1472\u001b[0m ):\n\u001b[0;32m-> 1473\u001b[0m     \u001b[38;5;28;01mreturn\u001b[39;00m \u001b[43mfit_method\u001b[49m\u001b[43m(\u001b[49m\u001b[43mestimator\u001b[49m\u001b[43m,\u001b[49m\u001b[43m \u001b[49m\u001b[38;5;241;43m*\u001b[39;49m\u001b[43margs\u001b[49m\u001b[43m,\u001b[49m\u001b[43m \u001b[49m\u001b[38;5;241;43m*\u001b[39;49m\u001b[38;5;241;43m*\u001b[39;49m\u001b[43mkwargs\u001b[49m\u001b[43m)\u001b[49m\n",
      "File \u001b[0;32m/opt/conda/lib/python3.12/site-packages/sklearn/svm/_base.py:199\u001b[0m, in \u001b[0;36mBaseLibSVM.fit\u001b[0;34m(self, X, y, sample_weight)\u001b[0m\n\u001b[1;32m    189\u001b[0m \u001b[38;5;28;01melse\u001b[39;00m:\n\u001b[1;32m    190\u001b[0m     X, y \u001b[38;5;241m=\u001b[39m \u001b[38;5;28mself\u001b[39m\u001b[38;5;241m.\u001b[39m_validate_data(\n\u001b[1;32m    191\u001b[0m         X,\n\u001b[1;32m    192\u001b[0m         y,\n\u001b[0;32m   (...)\u001b[0m\n\u001b[1;32m    196\u001b[0m         accept_large_sparse\u001b[38;5;241m=\u001b[39m\u001b[38;5;28;01mFalse\u001b[39;00m,\n\u001b[1;32m    197\u001b[0m     )\n\u001b[0;32m--> 199\u001b[0m y \u001b[38;5;241m=\u001b[39m \u001b[38;5;28;43mself\u001b[39;49m\u001b[38;5;241;43m.\u001b[39;49m\u001b[43m_validate_targets\u001b[49m\u001b[43m(\u001b[49m\u001b[43my\u001b[49m\u001b[43m)\u001b[49m\n\u001b[1;32m    201\u001b[0m sample_weight \u001b[38;5;241m=\u001b[39m np\u001b[38;5;241m.\u001b[39masarray(\n\u001b[1;32m    202\u001b[0m     [] \u001b[38;5;28;01mif\u001b[39;00m sample_weight \u001b[38;5;129;01mis\u001b[39;00m \u001b[38;5;28;01mNone\u001b[39;00m \u001b[38;5;28;01melse\u001b[39;00m sample_weight, dtype\u001b[38;5;241m=\u001b[39mnp\u001b[38;5;241m.\u001b[39mfloat64\n\u001b[1;32m    203\u001b[0m )\n\u001b[1;32m    204\u001b[0m solver_type \u001b[38;5;241m=\u001b[39m LIBSVM_IMPL\u001b[38;5;241m.\u001b[39mindex(\u001b[38;5;28mself\u001b[39m\u001b[38;5;241m.\u001b[39m_impl)\n",
      "File \u001b[0;32m/opt/conda/lib/python3.12/site-packages/sklearn/svm/_base.py:742\u001b[0m, in \u001b[0;36mBaseSVC._validate_targets\u001b[0;34m(self, y)\u001b[0m\n\u001b[1;32m    740\u001b[0m \u001b[38;5;28mself\u001b[39m\u001b[38;5;241m.\u001b[39mclass_weight_ \u001b[38;5;241m=\u001b[39m compute_class_weight(\u001b[38;5;28mself\u001b[39m\u001b[38;5;241m.\u001b[39mclass_weight, classes\u001b[38;5;241m=\u001b[39m\u001b[38;5;28mcls\u001b[39m, y\u001b[38;5;241m=\u001b[39my_)\n\u001b[1;32m    741\u001b[0m \u001b[38;5;28;01mif\u001b[39;00m \u001b[38;5;28mlen\u001b[39m(\u001b[38;5;28mcls\u001b[39m) \u001b[38;5;241m<\u001b[39m \u001b[38;5;241m2\u001b[39m:\n\u001b[0;32m--> 742\u001b[0m     \u001b[38;5;28;01mraise\u001b[39;00m \u001b[38;5;167;01mValueError\u001b[39;00m(\n\u001b[1;32m    743\u001b[0m         \u001b[38;5;124m\"\u001b[39m\u001b[38;5;124mThe number of classes has to be greater than one; got \u001b[39m\u001b[38;5;132;01m%d\u001b[39;00m\u001b[38;5;124m class\u001b[39m\u001b[38;5;124m\"\u001b[39m\n\u001b[1;32m    744\u001b[0m         \u001b[38;5;241m%\u001b[39m \u001b[38;5;28mlen\u001b[39m(\u001b[38;5;28mcls\u001b[39m)\n\u001b[1;32m    745\u001b[0m     )\n\u001b[1;32m    747\u001b[0m \u001b[38;5;28mself\u001b[39m\u001b[38;5;241m.\u001b[39mclasses_ \u001b[38;5;241m=\u001b[39m \u001b[38;5;28mcls\u001b[39m\n\u001b[1;32m    749\u001b[0m \u001b[38;5;28;01mreturn\u001b[39;00m np\u001b[38;5;241m.\u001b[39masarray(y, dtype\u001b[38;5;241m=\u001b[39mnp\u001b[38;5;241m.\u001b[39mfloat64, order\u001b[38;5;241m=\u001b[39m\u001b[38;5;124m\"\u001b[39m\u001b[38;5;124mC\u001b[39m\u001b[38;5;124m\"\u001b[39m)\n",
      "\u001b[0;31mValueError\u001b[0m: The number of classes has to be greater than one; got 1 class"
     ]
    }
   ],
   "source": [
    "B=2\n",
    "labeled_data = raisin[raisin['relab'] != 0].copy()\n",
    "output_labeled = labeled_data['relab'].to_numpy()\n",
    "list_of_index = labeled_data.index\n",
    "labeled_data = labeled_data.reset_index(drop=True)\n",
    "labeled_data = labeled_data.to_numpy()[:,:-4]\n",
    "unlabeled_data = raisin.drop(index=list_of_index,axis=0)\n",
    "unlabeled_data = unlabeled_data.to_numpy()[:,:-4]\n",
    "n_unlabeled = unlabeled_data.shape[0]\n",
    "n_labels = labeled_data.shape[0]\n",
    "capital_k = np.zeros((n_labels,n_labels))\n",
    "kappa = np.zeros(n_labels)\n",
    "\n",
    "\n",
    "#construction of capital_k\n",
    "for i in range(n_labels):\n",
    "    for j in range(i,n_labels):\n",
    "        capital_k[i,j] = rbf(x=labeled_data[i,:],y=labeled_data[j,:])\n",
    "\n",
    "capital_k = capital_k + capital_k.T\n",
    "for i in range(n_labels):\n",
    "    capital_k[i,i] = 1\n",
    "\n",
    "capital_k[np.where(np.isnan(capital_k) == True)] = 0\n",
    "\n",
    "#construction of kappa\n",
    "ratio_lab_unlab = n_labels/n_unlabeled\n",
    "\n",
    "for i in range(n_labels):\n",
    "    vector = np.empty(n_unlabeled)\n",
    "    for k in range(n_unlabeled):\n",
    "        vector[k] = rbf(x=labeled_data[i,:],y=unlabeled_data[k,:])    \n",
    "    kappa[i] = ratio_lab_unlab*np.sum(vector)\n",
    "\n",
    "kappa = -kappa\n",
    "\n",
    "\n",
    "\n",
    "ones_transposed = np.ones(n_labels).reshape(1,n_labels)\n",
    "a_mat = np.vstack((ones_transposed,ones_transposed*-1,\n",
    "                   np.eye(n_labels),np.eye(n_labels)*-1))\n",
    "epsilon = (np.sqrt(n_labels)-1)/np.sqrt(n_labels)\n",
    "ub_mat = np.vstack((n_labels*(1+epsilon),n_labels*(epsilon-1),\n",
    "                    np.ones(n_labels).reshape(n_labels,1)*B,\n",
    "                    np.zeros(n_labels).reshape(n_labels,1)))\n",
    "\n",
    "\n",
    "\n",
    "beta_opti = solve_qp(P=capital_k,q=kappa,G=a_mat,h=ub_mat,solver='cvxopt')\n",
    "\n",
    "\n",
    "svm_weighted = SVC().fit(X=labeled_data,y=output_labeled,sample_weight=beta_opti)\n",
    "\n",
    "predictions_weighted = svm_weighted.predict(raisin_test.to_numpy()[:,:-1])\n",
    "\n",
    "positive = 0\n",
    "true_positive = 0\n",
    "for i in range(n_samples_test):\n",
    "    if predictions_weighted[i] == 1:\n",
    "        positive += 1\n",
    "        if raisin.loc[i,'class'] == 1:\n",
    "            true_positive += 1\n",
    "\n",
    "precision_pgpu = true_positive/positive\n",
    "recall_pgpu = true_positive/raisin_test[raisin_test['class'] == 1].shape[0]\n",
    "f_1_pgpu = (2*precision_pgpu*recall_pgpu)/(precision_pgpu+recall_pgpu)\n",
    "weird_estim_pgpu = (recall_pgpu**2)/(positive/raisin_test.shape[0])\n",
    "print('the precision of pgpu on test set is :', precision_pgpu, '\\n',\n",
    "      'the recall of pgpu on test set is :', recall_pgpu, '\\n', \n",
    "      'the f_1 score of pgpu on test set is :', f_1_pgpu, '\\n', \n",
    "      'the weird metric of pgpu on test set is :', weird_estim_pgpu)"
   ]
  },
  {
   "cell_type": "code",
   "execution_count": null,
   "id": "d30b0bde-ca7e-4137-b450-4204de1499be",
   "metadata": {},
   "outputs": [],
   "source": [
    "full_data = pd.read_csv('raisin.csv')\n",
    "full_data = full_data.replace('Besni',-1)\n",
    "full_data = full_data.replace('Kecimen',1)\n",
    "full_data_output = full_data['Class'].to_numpy()\n",
    "full_data = full_data.to_numpy()[:,:-1]\n",
    "svm_full = SVC(kernel = 'rbf').fit(X=full_data,y=full_data_output)\n",
    "predictions_full = svm_full.predict(full_data)\n",
    "positive_full = 0\n",
    "true_positive_full = 0\n",
    "for i in range(full_data.shape[0]):\n",
    "    if predictions_full[i] == 1:\n",
    "        positive_full += 1\n",
    "        if full_data_output[i] == 1:\n",
    "            true_positive_full += 1\n",
    "precision_whole = true_positive_full/positive_full\n",
    "print(precision_whole)"
   ]
  },
  {
   "cell_type": "code",
   "execution_count": null,
   "id": "29cef800-012a-40ab-96d7-958d2927d7ee",
   "metadata": {},
   "outputs": [],
   "source": [
    "#so the data is not fully separable\n",
    "#so now let's see what happens with training and test"
   ]
  },
  {
   "cell_type": "code",
   "execution_count": null,
   "id": "f38e87d6-c9ed-4ba7-93e7-20ea3f4cd699",
   "metadata": {},
   "outputs": [],
   "source": [
    "svm_train = SVC().fit(X=raisin.to_numpy()[:,:-4],y=raisin.to_numpy()[:,-4])"
   ]
  },
  {
   "cell_type": "code",
   "execution_count": null,
   "id": "5bd7dcd4-784c-4a63-a091-94c4e484645f",
   "metadata": {},
   "outputs": [],
   "source": [
    "predictions_test = svm_train.predict(raisin_test.to_numpy()[:,:-1])"
   ]
  },
  {
   "cell_type": "code",
   "execution_count": null,
   "id": "96bcd52c-e9b0-4c1a-8a9d-4b8545b6797f",
   "metadata": {},
   "outputs": [],
   "source": [
    "positive_test_full = 0\n",
    "true_positive_test_full = 0\n",
    "for i in range(raisin_test.shape[0]):\n",
    "    if predictions_test[i] == 1:\n",
    "        positive_test_full += 1\n",
    "        if raisin_test.loc[i,'class'] == 1:\n",
    "            true_positive_test_full += 1\n",
    "\n",
    "precision_test_labeled = true_positive_test_full/positive_test_full\n",
    "recall_test = true_positive_test_full/raisin_test[raisin_test['class'] == 1].shape[0]\n",
    "f_1_test = (2*precision_test_labeled*recall_test)/(precision_test_labeled+recall_test)\n",
    "weird_metric_test = (recall_test**2)/(positive_test_full/raisin_test[raisin_test['class'] == 1].shape[0])\n",
    "print('precision : ', precision_test_labeled, '\\n', \n",
    "      'recall : ', recall_test, '\\n', \n",
    "      'f_1 score on test : ', f_1_test, '\\n',\n",
    "      'weird metric on test : ', weird_metric_test)"
   ]
  },
  {
   "cell_type": "code",
   "execution_count": null,
   "id": "b88cac14-7792-4583-982d-e87192535dcd",
   "metadata": {},
   "outputs": [],
   "source": [
    "print(true_positive, '\\n', true_positive_test_full)"
   ]
  },
  {
   "cell_type": "code",
   "execution_count": null,
   "id": "d4fcf748-e30d-4c10-ab09-f02d697b39b1",
   "metadata": {},
   "outputs": [],
   "source": [
    "print(positive, '\\n', positive_test_full)"
   ]
  },
  {
   "cell_type": "code",
   "execution_count": null,
   "id": "e2a66a97-2cfb-4c1c-9db4-7a0c70aeb095",
   "metadata": {},
   "outputs": [],
   "source": [
    "print('precision for the pgpu method : ', precision_pgpu, '\\n',\n",
    "      'precision on the whole data : ', precision_whole, '\\n',\n",
    "      'test precision : ', precision_test_labeled)"
   ]
  },
  {
   "cell_type": "code",
   "execution_count": null,
   "id": "bce38cf1-7dd4-4881-8d0c-abfe1f125560",
   "metadata": {},
   "outputs": [],
   "source": [
    "#so the precision is actually quite bad on the test data"
   ]
  },
  {
   "cell_type": "code",
   "execution_count": null,
   "id": "0c7b9767-a304-4c31-b0f7-f6d732cb40bb",
   "metadata": {},
   "outputs": [],
   "source": [
    "positive"
   ]
  },
  {
   "cell_type": "code",
   "execution_count": null,
   "id": "509ca1a3-6f40-4546-a734-3e1effb93700",
   "metadata": {},
   "outputs": [],
   "source": [
    "raisin_test.shape[0]"
   ]
  },
  {
   "cell_type": "code",
   "execution_count": 12,
   "id": "9220682a-8913-44d6-923a-04207ca7b6c5",
   "metadata": {},
   "outputs": [
    {
     "data": {
      "text/html": [
       "<div>\n",
       "<style scoped>\n",
       "    .dataframe tbody tr th:only-of-type {\n",
       "        vertical-align: middle;\n",
       "    }\n",
       "\n",
       "    .dataframe tbody tr th {\n",
       "        vertical-align: top;\n",
       "    }\n",
       "\n",
       "    .dataframe thead th {\n",
       "        text-align: right;\n",
       "    }\n",
       "</style>\n",
       "<table border=\"1\" class=\"dataframe\">\n",
       "  <thead>\n",
       "    <tr style=\"text-align: right;\">\n",
       "      <th></th>\n",
       "      <th>area</th>\n",
       "      <th>majlength</th>\n",
       "      <th>minlength</th>\n",
       "      <th>eccentric</th>\n",
       "      <th>cvx</th>\n",
       "      <th>extent</th>\n",
       "      <th>perimeter</th>\n",
       "      <th>class</th>\n",
       "      <th>label</th>\n",
       "      <th>proba_gap</th>\n",
       "    </tr>\n",
       "    <tr>\n",
       "      <th>relab</th>\n",
       "      <th></th>\n",
       "      <th></th>\n",
       "      <th></th>\n",
       "      <th></th>\n",
       "      <th></th>\n",
       "      <th></th>\n",
       "      <th></th>\n",
       "      <th></th>\n",
       "      <th></th>\n",
       "      <th></th>\n",
       "    </tr>\n",
       "  </thead>\n",
       "  <tbody>\n",
       "    <tr>\n",
       "      <th>0.0</th>\n",
       "      <td>632</td>\n",
       "      <td>632</td>\n",
       "      <td>632</td>\n",
       "      <td>632</td>\n",
       "      <td>632</td>\n",
       "      <td>632</td>\n",
       "      <td>632</td>\n",
       "      <td>632</td>\n",
       "      <td>632</td>\n",
       "      <td>632</td>\n",
       "    </tr>\n",
       "    <tr>\n",
       "      <th>1.0</th>\n",
       "      <td>88</td>\n",
       "      <td>88</td>\n",
       "      <td>88</td>\n",
       "      <td>88</td>\n",
       "      <td>88</td>\n",
       "      <td>88</td>\n",
       "      <td>88</td>\n",
       "      <td>88</td>\n",
       "      <td>88</td>\n",
       "      <td>88</td>\n",
       "    </tr>\n",
       "  </tbody>\n",
       "</table>\n",
       "</div>"
      ],
      "text/plain": [
       "       area  majlength  minlength  eccentric  cvx  extent  perimeter  class  \\\n",
       "relab                                                                         \n",
       "0.0     632        632        632        632  632     632        632    632   \n",
       "1.0      88         88         88         88   88      88         88     88   \n",
       "\n",
       "       label  proba_gap  \n",
       "relab                    \n",
       "0.0      632        632  \n",
       "1.0       88         88  "
      ]
     },
     "execution_count": 12,
     "metadata": {},
     "output_type": "execute_result"
    }
   ],
   "source": [
    "raisin.groupby('relab').count()"
   ]
  },
  {
   "cell_type": "code",
   "execution_count": null,
   "id": "824bec7e-c186-4691-a4ed-eb61d1fe53fb",
   "metadata": {},
   "outputs": [],
   "source": []
  }
 ],
 "metadata": {
  "kernelspec": {
   "display_name": "Python 3 (ipykernel)",
   "language": "python",
   "name": "python3"
  },
  "language_info": {
   "codemirror_mode": {
    "name": "ipython",
    "version": 3
   },
   "file_extension": ".py",
   "mimetype": "text/x-python",
   "name": "python",
   "nbconvert_exporter": "python",
   "pygments_lexer": "ipython3",
   "version": "3.12.4"
  }
 },
 "nbformat": 4,
 "nbformat_minor": 5
}
