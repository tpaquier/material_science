{
 "cells": [
  {
   "cell_type": "code",
   "execution_count": 1,
   "id": "8a1f3313-2428-4b90-9ffb-bc43bbb42bf8",
   "metadata": {},
   "outputs": [],
   "source": [
    "%%capture\n",
    "import pandas as pd\n",
    "import numpy as np\n",
    "from scipy.stats import bernoulli\n",
    "import matplotlib.pyplot as plt\n",
    "from sklearn.preprocessing import StandardScaler\n",
    "from sklearn.svm import SVC\n",
    "!pip install qpsolvers\n",
    "import qpsolvers\n",
    "!pip install qpsolvers[cvxopt]\n",
    "!pip install qpsolvers[open_source_solvers]\n",
    "!pip install qpsolvers[clarabel]\n",
    "from qpsolvers import solve_qp"
   ]
  },
  {
   "cell_type": "code",
   "execution_count": 2,
   "id": "2da60763-826c-4ea6-ab51-0a49012951ae",
   "metadata": {},
   "outputs": [],
   "source": [
    "mushroom_whole = pd.read_csv('mushroom.csv')\n",
    "classes_to_keep = mushroom_whole['class'].copy()\n",
    "mushroom_whole = mushroom_whole.drop(['class'], axis=1)\n",
    "cols = mushroom_whole.columns.copy()\n",
    "mushroom_whole = StandardScaler().fit_transform(X=mushroom_whole.to_numpy())\n",
    "mushroom_whole = pd.DataFrame(mushroom_whole)\n",
    "mushroom_whole.columns = cols\n",
    "mushroom_whole['class'] = classes_to_keep\n",
    "mushroom_data = mushroom_whole.sample(frac=0.8)\n",
    "list_train = mushroom_data.index\n",
    "list_test = []\n",
    "for i in mushroom_whole.index:\n",
    "    if i not in list_train:\n",
    "        list_test.append(i)\n",
    "mushroom_test = mushroom_whole.filter(items=list_test, axis=0)\n",
    "\n",
    "mushroom_test = mushroom_test.reset_index(drop=True)\n",
    "mushroom_data = mushroom_data.reset_index(drop=True)\n",
    "n_samples = mushroom_data.shape[0]\n",
    "n_samples_test = mushroom_test.shape[0]"
   ]
  },
  {
   "cell_type": "code",
   "execution_count": 3,
   "id": "27a76ed0-a4e8-4470-b572-a30603510986",
   "metadata": {},
   "outputs": [],
   "source": [
    "def rbf(x,y,l=1):\n",
    "    \"\"\"Gaussian kernel\n",
    "\n",
    "    Parameters\n",
    "    -------------------------------\n",
    "    x : float\n",
    "    a real number\n",
    "\n",
    "    y : float\n",
    "    a real number\n",
    "\n",
    "    l: float, non zero\n",
    "    a scale parameter\n",
    "    -------------------------------\n",
    "    \"\"\"\n",
    "    dim = x.shape[0]\n",
    "    vect = np.empty(dim)\n",
    "    if dim == y.shape[0]  :\n",
    "        d = np.exp((-1)*((np.linalg.norm(x-y))/(2*(l**2))))\n",
    "        return d\n",
    "    else :\n",
    "        for i in range(dim):\n",
    "            vect[i] = np.exp((-1)*(np.linalg.norm(x[i] - y))/(2*(l**2)))\n",
    "        return vect"
   ]
  },
  {
   "cell_type": "code",
   "execution_count": 4,
   "id": "67e23cbc-6ce5-4dd0-8db9-7136b3d8a9ba",
   "metadata": {},
   "outputs": [],
   "source": [
    "np.random.seed(1452234)\n",
    "label = np.zeros(n_samples)\n",
    "for i in range(n_samples):\n",
    "    random = bernoulli.rvs(p=3/4)\n",
    "    if mushroom_data.loc[i,'class'] == 1 and random == 0:\n",
    "        label[i] = 1\n",
    "    else:\n",
    "        label[i] = -1\n",
    "mushroom_data['label'] = label\n",
    "\n",
    "svm_train = SVC(kernel='sigmoid', probability = True).fit(X=mushroom_data.to_numpy()[:,:-2],\n",
    "                                                          y=mushroom_data.to_numpy()[:,-1])\n",
    "probas = svm_train.predict_proba(mushroom_data.to_numpy()[:,:-2])"
   ]
  },
  {
   "cell_type": "code",
   "execution_count": 5,
   "id": "7cf99c2c-796e-424f-a9fe-8af13c3b0124",
   "metadata": {},
   "outputs": [],
   "source": [
    "proba_gap = np.zeros(n_samples)\n",
    "for i in range(n_samples):\n",
    "    proba_gap[i] = probas[i,1] - probas[i,0]\n",
    "\n",
    "\n",
    "mushroom_data['proba_gap'] = proba_gap\n",
    "\n",
    "n_min = 3 #as in the article\n",
    "\n",
    "l_boundary = np.mean(np.sort(mushroom_data[mushroom_data['label'] == 1]['proba_gap'])[:n_min])\n",
    "\n",
    "\n",
    "relab = np.empty(n_samples)\n",
    "for i in range(n_samples):\n",
    "    if mushroom_data.loc[i,'proba_gap'] < l_boundary:\n",
    "        relab[i] = -1\n",
    "    elif mushroom_data.loc[i,'label'] == 1 or mushroom_data.loc[i,'proba_gap'] >= 0:\n",
    "        relab[i] = 1\n",
    "    else:\n",
    "        relab[i] = 0\n",
    "mushroom_data['relab'] = relab"
   ]
  },
  {
   "cell_type": "code",
   "execution_count": 6,
   "id": "c201ebfe-f395-4b34-896d-25ee41115cc5",
   "metadata": {},
   "outputs": [
    {
     "name": "stdout",
     "output_type": "stream",
     "text": [
      "the precision of pgpu on test set is : 0.5612013600302229 \n",
      " the recall of pgpu on test set is : 0.9973145350788856 \n",
      " the f_1 score of pgpu on test set is : 0.7182400580200652 \n",
      " the weird metric of pgpu on test set is : 1.0152091328176223\n"
     ]
    }
   ],
   "source": [
    "B=1000\n",
    "labeled_data = mushroom_data[mushroom_data['relab'] != 0].copy()\n",
    "output_labeled = labeled_data['relab'].to_numpy()\n",
    "list_of_index = labeled_data.index\n",
    "labeled_data = labeled_data.reset_index(drop=True)\n",
    "labeled_data = labeled_data.to_numpy()[:,:-4]\n",
    "unlabeled_data = mushroom_data.drop(index=list_of_index,axis=0)\n",
    "unlabeled_data = unlabeled_data.to_numpy()[:,:-4]\n",
    "n_unlabeled = unlabeled_data.shape[0]\n",
    "n_labels = labeled_data.shape[0]\n",
    "capital_k = np.zeros((n_labels,n_labels))\n",
    "kappa = np.zeros(n_labels)\n",
    "\n",
    "\n",
    "#construction of capital_k\n",
    "for i in range(n_labels):\n",
    "    for j in range(i,n_labels):\n",
    "        capital_k[i,j] = rbf(x=labeled_data[i,:],y=labeled_data[j,:])\n",
    "\n",
    "capital_k = capital_k + capital_k.T\n",
    "for i in range(n_labels):\n",
    "    capital_k[i,i] = 1\n",
    "\n",
    "capital_k[np.where(np.isnan(capital_k) == True)] = 0\n",
    "\n",
    "#construction of kappa\n",
    "ratio_lab_unlab = n_labels/n_unlabeled\n",
    "\n",
    "for i in range(n_labels):\n",
    "    vector = np.empty(n_unlabeled)\n",
    "    for k in range(n_unlabeled):\n",
    "        vector[k] = rbf(x=labeled_data[i,:],y=unlabeled_data[k,:])    \n",
    "    kappa[i] = ratio_lab_unlab*np.sum(vector)\n",
    "\n",
    "kappa = -kappa\n",
    "\n",
    "\n",
    "\n",
    "ones_transposed = np.ones(n_labels).reshape(1,n_labels)\n",
    "a_mat = np.vstack((ones_transposed,ones_transposed*-1,\n",
    "                   np.eye(n_labels),np.eye(n_labels)*-1))\n",
    "epsilon = (np.sqrt(n_labels)-1)/np.sqrt(n_labels)\n",
    "ub_mat = np.vstack((n_labels*(1+epsilon),n_labels*(epsilon-1),\n",
    "                    np.ones(n_labels).reshape(n_labels,1)*B,\n",
    "                    np.zeros(n_labels).reshape(n_labels,1)))\n",
    "\n",
    "\n",
    "\n",
    "beta_opti = solve_qp(P=capital_k,q=kappa,G=a_mat,h=ub_mat,solver='cvxopt')\n",
    "\n",
    "\n",
    "svm_weighted = SVC().fit(X=labeled_data,y=output_labeled,sample_weight=beta_opti)\n",
    "\n",
    "predictions_weighted = svm_weighted.predict(mushroom_test.to_numpy()[:,:-1])\n",
    "\n",
    "positive = 0\n",
    "true_positive = 0\n",
    "for i in range(n_samples_test):\n",
    "    if predictions_weighted[i] == 1:\n",
    "        positive += 1\n",
    "        if mushroom_test.loc[i,'class'] == 1:\n",
    "            true_positive += 1\n",
    "\n",
    "precision_pgpu = true_positive/positive\n",
    "recall_pgpu = true_positive/mushroom_test[mushroom_test['class'] == 1].shape[0]\n",
    "f_1_pgpu = (2*precision_pgpu*recall_pgpu)/(precision_pgpu+recall_pgpu)\n",
    "weird_estim_pgpu = (recall_pgpu**2)/(positive/mushroom_test.shape[0])\n",
    "print('the precision of pgpu on test set is :', precision_pgpu, '\\n',\n",
    "      'the recall of pgpu on test set is :', recall_pgpu, '\\n', \n",
    "      'the f_1 score of pgpu on test set is :', f_1_pgpu, '\\n', \n",
    "      'the weird metric of pgpu on test set is :', weird_estim_pgpu)"
   ]
  },
  {
   "cell_type": "code",
   "execution_count": 7,
   "id": "b46047bf-68d8-4da7-92ba-e1ced8039da7",
   "metadata": {},
   "outputs": [
    {
     "data": {
      "text/plain": [
       "10588"
      ]
     },
     "execution_count": 7,
     "metadata": {},
     "output_type": "execute_result"
    }
   ],
   "source": [
    "positive"
   ]
  },
  {
   "cell_type": "code",
   "execution_count": 8,
   "id": "7a766116-6ad7-4964-8335-eb660dd361d3",
   "metadata": {},
   "outputs": [
    {
     "data": {
      "text/plain": [
       "10807"
      ]
     },
     "execution_count": 8,
     "metadata": {},
     "output_type": "execute_result"
    }
   ],
   "source": [
    "mushroom_test.shape[0]"
   ]
  },
  {
   "cell_type": "code",
   "execution_count": null,
   "id": "20a14689-171d-43cb-bff0-67f7384a10e5",
   "metadata": {},
   "outputs": [],
   "source": []
  }
 ],
 "metadata": {
  "kernelspec": {
   "display_name": "Python 3 (ipykernel)",
   "language": "python",
   "name": "python3"
  },
  "language_info": {
   "codemirror_mode": {
    "name": "ipython",
    "version": 3
   },
   "file_extension": ".py",
   "mimetype": "text/x-python",
   "name": "python",
   "nbconvert_exporter": "python",
   "pygments_lexer": "ipython3",
   "version": "3.12.4"
  }
 },
 "nbformat": 4,
 "nbformat_minor": 5
}
