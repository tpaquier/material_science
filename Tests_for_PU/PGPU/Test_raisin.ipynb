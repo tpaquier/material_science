{
 "cells": [
  {
   "cell_type": "code",
   "execution_count": 1,
   "id": "ccfa9784-5b7d-4252-82d1-532bb06fa974",
   "metadata": {},
   "outputs": [],
   "source": [
    "%%capture\n",
    "import pandas as pd\n",
    "import numpy as np\n",
    "from scipy.stats import bernoulli\n",
    "import matplotlib.pyplot as plt\n",
    "from sklearn.preprocessing import StandardScaler\n",
    "from sklearn.svm import SVC\n",
    "!pip install qpsolvers\n",
    "import qpsolvers\n",
    "!pip install qpsolvers[cvxopt]\n",
    "!pip install qpsolvers[open_source_solvers]\n",
    "!pip install qpsolvers[clarabel]\n",
    "from qpsolvers import solve_qp"
   ]
  },
  {
   "cell_type": "code",
   "execution_count": 2,
   "id": "111e2c80-7f5a-4467-b3c8-a3f5f15bcd44",
   "metadata": {},
   "outputs": [
    {
     "name": "stderr",
     "output_type": "stream",
     "text": [
      "/tmp/ipykernel_2430/3993696460.py:14: FutureWarning: Downcasting behavior in `replace` is deprecated and will be removed in a future version. To retain the old behavior, explicitly call `result.infer_objects(copy=False)`. To opt-in to the future behavior, set `pd.set_option('future.no_silent_downcasting', True)`\n",
      "  raisin_whole_data = raisin_whole_data.replace('Kecimen',1)\n"
     ]
    }
   ],
   "source": [
    "raisin_whole_data = pd.read_csv('raisin.csv')\n",
    "raisin_whole_data.columns = ['area','majlength','minlength','eccentric','cvx',\n",
    "                             'extent','perimeter','class']\n",
    "class_to_keep = raisin_whole_data['class'].copy()\n",
    "\n",
    "raisin_whole_data = raisin_whole_data.drop(['class'], axis=1)\n",
    "raisin_whole_data = StandardScaler().fit_transform(X=raisin_whole_data)\n",
    "\n",
    "raisin_whole_data = pd.DataFrame(raisin_whole_data)\n",
    "raisin_whole_data['class'] = class_to_keep\n",
    "raisin_whole_data.columns = ['area','majlength','minlength','eccentric','cvx',\n",
    "                             'extent','perimeter','class']\n",
    "raisin_whole_data = raisin_whole_data.replace('Besni',-1)\n",
    "raisin_whole_data = raisin_whole_data.replace('Kecimen',1)\n",
    "raisin = raisin_whole_data.sample(frac=0.8)\n",
    "list_index_test = []\n",
    "for i in raisin_whole_data.index:\n",
    "    if i not in raisin.index:\n",
    "        list_index_test.append(i)\n",
    "raisin_test = raisin_whole_data.filter(items=list_index_test, axis=0)\n",
    "\n",
    "\n",
    "\n",
    "n_samples = raisin.shape[0]\n",
    "n_samples_test = raisin_test.shape[0]\n",
    "\n",
    "raisin = raisin.reset_index(drop=True)\n",
    "raisin_test = raisin_test.reset_index(drop=True)"
   ]
  },
  {
   "cell_type": "code",
   "execution_count": 3,
   "id": "4df1ff1d-2c90-4b1c-aa83-9387c867b5dc",
   "metadata": {},
   "outputs": [],
   "source": [
    "def rbf(x,y,l=1):\n",
    "    \"\"\"Gaussian kernel\n",
    "\n",
    "    Parameters\n",
    "    -------------------------------\n",
    "    x : float\n",
    "    a real number\n",
    "\n",
    "    y : float\n",
    "    a real number\n",
    "\n",
    "    l: float, non zero\n",
    "    a scale parameter\n",
    "    -------------------------------\n",
    "    \"\"\"\n",
    "    dim = x.shape[0]\n",
    "    vect = np.empty(dim)\n",
    "    if dim == y.shape[0]  :\n",
    "        d = np.exp((-1)*((np.linalg.norm(x-y))/(2*(l**2))))\n",
    "        return d\n",
    "    else :\n",
    "        for i in range(dim):\n",
    "            vect[i] = np.exp((-1)*(np.linalg.norm(x[i] - y))/(2*(l**2)))\n",
    "        return vect"
   ]
  },
  {
   "cell_type": "code",
   "execution_count": 4,
   "id": "a20e8ab2-12ca-4ada-a31a-13b452d4ce60",
   "metadata": {},
   "outputs": [],
   "source": [
    "np.random.seed(1452234)\n",
    "label = np.zeros(n_samples)\n",
    "for i in range(n_samples):\n",
    "    random = bernoulli.rvs(p=3/4)\n",
    "    if raisin.loc[i,'class'] == 1 and random == 0:\n",
    "        label[i] = 1\n",
    "    else:\n",
    "        label[i] = -1\n",
    "raisin['label'] = label\n",
    "\n",
    "\n",
    "\n",
    "svm_train = SVC(kernel='sigmoid', probability = True,\n",
    "               gamma = 0.025).fit(X=raisin.to_numpy()[:,:-2], y=raisin.to_numpy()[:,-1])\n",
    "probas = svm_train.predict_proba(raisin.to_numpy()[:,:-2])"
   ]
  },
  {
   "cell_type": "code",
   "execution_count": 5,
   "id": "08f15e77-a77c-4c5e-9e0e-058edef922fa",
   "metadata": {},
   "outputs": [],
   "source": [
    "proba_gap = np.zeros(n_samples)\n",
    "for i in range(n_samples):\n",
    "    proba_gap[i] = probas[i,1] - probas[i,0]\n",
    "\n",
    "\n",
    "raisin['proba_gap'] = proba_gap\n",
    "\n",
    "n_min = 3 #as in the article\n",
    "\n",
    "l_boundary = np.mean(np.sort(raisin[raisin['label'] == 1]['proba_gap'])[:n_min])\n",
    "\n",
    "\n",
    "relab = np.empty(n_samples)\n",
    "for i in range(n_samples):\n",
    "    if raisin.loc[i,'proba_gap'] < l_boundary:\n",
    "        relab[i] = -1\n",
    "    elif raisin.loc[i,'label'] == 1 or raisin.loc[i,'proba_gap'] >= 0:\n",
    "        relab[i] = 1\n",
    "    else:\n",
    "        relab[i] = 0\n",
    "raisin['relab'] = relab"
   ]
  },
  {
   "cell_type": "code",
   "execution_count": 6,
   "id": "dc5b8a17-5e7a-47c4-a39f-12705061cb89",
   "metadata": {},
   "outputs": [
    {
     "name": "stdout",
     "output_type": "stream",
     "text": [
      "the precision of pgpu on test set is : 0.5242718446601942 \n",
      " the recall of pgpu on test set is : 0.6136363636363636 \n",
      " the f_1 score of pgpu on test set is : 0.5654450261780105 \n",
      " the weird metric of pgpu on test set is : 0.6580478215517933\n"
     ]
    }
   ],
   "source": [
    "B=2\n",
    "labeled_data = raisin[raisin['relab'] != 0].copy()\n",
    "output_labeled = labeled_data['relab'].to_numpy()\n",
    "list_of_index = labeled_data.index\n",
    "labeled_data = labeled_data.reset_index(drop=True)\n",
    "labeled_data = labeled_data.to_numpy()[:,:-4]\n",
    "unlabeled_data = raisin.drop(index=list_of_index,axis=0)\n",
    "unlabeled_data = unlabeled_data.to_numpy()[:,:-4]\n",
    "n_unlabeled = unlabeled_data.shape[0]\n",
    "n_labels = labeled_data.shape[0]\n",
    "capital_k = np.zeros((n_labels,n_labels))\n",
    "kappa = np.zeros(n_labels)\n",
    "\n",
    "\n",
    "#construction of capital_k\n",
    "for i in range(n_labels):\n",
    "    for j in range(i,n_labels):\n",
    "        capital_k[i,j] = rbf(x=labeled_data[i,:],y=labeled_data[j,:])\n",
    "\n",
    "capital_k = capital_k + capital_k.T\n",
    "for i in range(n_labels):\n",
    "    capital_k[i,i] = 1\n",
    "\n",
    "capital_k[np.where(np.isnan(capital_k) == True)] = 0\n",
    "\n",
    "#construction of kappa\n",
    "ratio_lab_unlab = n_labels/n_unlabeled\n",
    "\n",
    "for i in range(n_labels):\n",
    "    vector = np.empty(n_unlabeled)\n",
    "    for k in range(n_unlabeled):\n",
    "        vector[k] = rbf(x=labeled_data[i,:],y=unlabeled_data[k,:])    \n",
    "    kappa[i] = ratio_lab_unlab*np.sum(vector)\n",
    "\n",
    "kappa = -kappa\n",
    "\n",
    "\n",
    "\n",
    "ones_transposed = np.ones(n_labels).reshape(1,n_labels)\n",
    "a_mat = np.vstack((ones_transposed,ones_transposed*-1,\n",
    "                   np.eye(n_labels),np.eye(n_labels)*-1))\n",
    "epsilon = (np.sqrt(n_labels)-1)/np.sqrt(n_labels)\n",
    "ub_mat = np.vstack((n_labels*(1+epsilon),n_labels*(epsilon-1),\n",
    "                    np.ones(n_labels).reshape(n_labels,1)*B,\n",
    "                    np.zeros(n_labels).reshape(n_labels,1)))\n",
    "\n",
    "\n",
    "\n",
    "beta_opti = solve_qp(P=capital_k,q=kappa,G=a_mat,h=ub_mat,solver='cvxopt')\n",
    "\n",
    "\n",
    "svm_weighted = SVC().fit(X=labeled_data,y=output_labeled,sample_weight=beta_opti)\n",
    "\n",
    "predictions_weighted = svm_weighted.predict(raisin_test.to_numpy()[:,:-1])\n",
    "\n",
    "positive = 0\n",
    "true_positive = 0\n",
    "for i in range(n_samples_test):\n",
    "    if predictions_weighted[i] == 1:\n",
    "        positive += 1\n",
    "        if raisin.loc[i,'class'] == 1:\n",
    "            true_positive += 1\n",
    "\n",
    "precision_pgpu = true_positive/positive\n",
    "recall_pgpu = true_positive/raisin_test[raisin_test['class'] == 1].shape[0]\n",
    "f_1_pgpu = (2*precision_pgpu*recall_pgpu)/(precision_pgpu+recall_pgpu)\n",
    "weird_estim_pgpu = (recall_pgpu**2)/(positive/raisin_test.shape[0])\n",
    "print('the precision of pgpu on test set is :', precision_pgpu, '\\n',\n",
    "      'the recall of pgpu on test set is :', recall_pgpu, '\\n', \n",
    "      'the f_1 score of pgpu on test set is :', f_1_pgpu, '\\n', \n",
    "      'the weird metric of pgpu on test set is :', weird_estim_pgpu)"
   ]
  },
  {
   "cell_type": "code",
   "execution_count": 7,
   "id": "d30b0bde-ca7e-4137-b450-4204de1499be",
   "metadata": {},
   "outputs": [
    {
     "name": "stdout",
     "output_type": "stream",
     "text": [
      "0.7808219178082192\n"
     ]
    },
    {
     "name": "stderr",
     "output_type": "stream",
     "text": [
      "/tmp/ipykernel_2430/922544677.py:3: FutureWarning: Downcasting behavior in `replace` is deprecated and will be removed in a future version. To retain the old behavior, explicitly call `result.infer_objects(copy=False)`. To opt-in to the future behavior, set `pd.set_option('future.no_silent_downcasting', True)`\n",
      "  full_data = full_data.replace('Kecimen',1)\n"
     ]
    }
   ],
   "source": [
    "full_data = pd.read_csv('raisin.csv')\n",
    "full_data = full_data.replace('Besni',-1)\n",
    "full_data = full_data.replace('Kecimen',1)\n",
    "full_data_output = full_data['Class'].to_numpy()\n",
    "full_data = full_data.to_numpy()[:,:-1]\n",
    "svm_full = SVC(kernel = 'rbf').fit(X=full_data,y=full_data_output)\n",
    "predictions_full = svm_full.predict(full_data)\n",
    "positive_full = 0\n",
    "true_positive_full = 0\n",
    "for i in range(full_data.shape[0]):\n",
    "    if predictions_full[i] == 1:\n",
    "        positive_full += 1\n",
    "        if full_data_output[i] == 1:\n",
    "            true_positive_full += 1\n",
    "precision_whole = true_positive_full/positive_full\n",
    "print(precision_whole)"
   ]
  },
  {
   "cell_type": "code",
   "execution_count": 8,
   "id": "29cef800-012a-40ab-96d7-958d2927d7ee",
   "metadata": {},
   "outputs": [],
   "source": [
    "#so the data is not fully separable\n",
    "#so now let's see what happens with training and test"
   ]
  },
  {
   "cell_type": "code",
   "execution_count": 9,
   "id": "f38e87d6-c9ed-4ba7-93e7-20ea3f4cd699",
   "metadata": {},
   "outputs": [],
   "source": [
    "svm_train = SVC().fit(X=raisin.to_numpy()[:,:-4],y=raisin.to_numpy()[:,-4])"
   ]
  },
  {
   "cell_type": "code",
   "execution_count": 10,
   "id": "5bd7dcd4-784c-4a63-a091-94c4e484645f",
   "metadata": {},
   "outputs": [],
   "source": [
    "predictions_test = svm_train.predict(raisin_test.to_numpy()[:,:-1])"
   ]
  },
  {
   "cell_type": "code",
   "execution_count": 11,
   "id": "96bcd52c-e9b0-4c1a-8a9d-4b8545b6797f",
   "metadata": {},
   "outputs": [
    {
     "name": "stdout",
     "output_type": "stream",
     "text": [
      "precision :  0.8913043478260869 \n",
      " recall :  0.9318181818181818 \n",
      " f_1 score on test :  0.9111111111111111 \n",
      " weird metric on test :  0.8305335968379446\n"
     ]
    }
   ],
   "source": [
    "positive_test_full = 0\n",
    "true_positive_test_full = 0\n",
    "for i in range(raisin_test.shape[0]):\n",
    "    if predictions_test[i] == 1:\n",
    "        positive_test_full += 1\n",
    "        if raisin_test.loc[i,'class'] == 1:\n",
    "            true_positive_test_full += 1\n",
    "\n",
    "precision_test_labeled = true_positive_test_full/positive_test_full\n",
    "recall_test = true_positive_test_full/raisin_test[raisin_test['class'] == 1].shape[0]\n",
    "f_1_test = (2*precision_test_labeled*recall_test)/(precision_test_labeled+recall_test)\n",
    "weird_metric_test = (recall_test**2)/(positive_test_full/raisin_test[raisin_test['class'] == 1].shape[0])\n",
    "print('precision : ', precision_test_labeled, '\\n', \n",
    "      'recall : ', recall_test, '\\n', \n",
    "      'f_1 score on test : ', f_1_test, '\\n',\n",
    "      'weird metric on test : ', weird_metric_test)"
   ]
  },
  {
   "cell_type": "code",
   "execution_count": 12,
   "id": "b88cac14-7792-4583-982d-e87192535dcd",
   "metadata": {},
   "outputs": [
    {
     "name": "stdout",
     "output_type": "stream",
     "text": [
      "54 \n",
      " 82\n"
     ]
    }
   ],
   "source": [
    "print(true_positive, '\\n', true_positive_test_full)"
   ]
  },
  {
   "cell_type": "code",
   "execution_count": 13,
   "id": "d4fcf748-e30d-4c10-ab09-f02d697b39b1",
   "metadata": {},
   "outputs": [
    {
     "name": "stdout",
     "output_type": "stream",
     "text": [
      "103 \n",
      " 92\n"
     ]
    }
   ],
   "source": [
    "print(positive, '\\n', positive_test_full)"
   ]
  },
  {
   "cell_type": "code",
   "execution_count": 14,
   "id": "e2a66a97-2cfb-4c1c-9db4-7a0c70aeb095",
   "metadata": {},
   "outputs": [
    {
     "name": "stdout",
     "output_type": "stream",
     "text": [
      "precision for the pgpu method :  0.5242718446601942 \n",
      " precision on the whole data :  0.7808219178082192 \n",
      " test precision :  0.8913043478260869\n"
     ]
    }
   ],
   "source": [
    "print('precision for the pgpu method : ', precision_pgpu, '\\n',\n",
    "      'precision on the whole data : ', precision_whole, '\\n',\n",
    "      'test precision : ', precision_test_labeled)"
   ]
  },
  {
   "cell_type": "code",
   "execution_count": 15,
   "id": "bce38cf1-7dd4-4881-8d0c-abfe1f125560",
   "metadata": {},
   "outputs": [],
   "source": [
    "#so the precision is actually quite bad on the test data"
   ]
  },
  {
   "cell_type": "code",
   "execution_count": 16,
   "id": "0c7b9767-a304-4c31-b0f7-f6d732cb40bb",
   "metadata": {},
   "outputs": [
    {
     "data": {
      "text/plain": [
       "103"
      ]
     },
     "execution_count": 16,
     "metadata": {},
     "output_type": "execute_result"
    }
   ],
   "source": [
    "positive"
   ]
  },
  {
   "cell_type": "code",
   "execution_count": 17,
   "id": "509ca1a3-6f40-4546-a734-3e1effb93700",
   "metadata": {},
   "outputs": [
    {
     "data": {
      "text/plain": [
       "180"
      ]
     },
     "execution_count": 17,
     "metadata": {},
     "output_type": "execute_result"
    }
   ],
   "source": [
    "raisin_test.shape[0]"
   ]
  },
  {
   "cell_type": "code",
   "execution_count": null,
   "id": "dcfe4e0a-d34f-4e7a-9a24-f57dc66da624",
   "metadata": {},
   "outputs": [],
   "source": []
  }
 ],
 "metadata": {
  "kernelspec": {
   "display_name": "Python 3 (ipykernel)",
   "language": "python",
   "name": "python3"
  },
  "language_info": {
   "codemirror_mode": {
    "name": "ipython",
    "version": 3
   },
   "file_extension": ".py",
   "mimetype": "text/x-python",
   "name": "python",
   "nbconvert_exporter": "python",
   "pygments_lexer": "ipython3",
   "version": "3.12.4"
  }
 },
 "nbformat": 4,
 "nbformat_minor": 5
}
