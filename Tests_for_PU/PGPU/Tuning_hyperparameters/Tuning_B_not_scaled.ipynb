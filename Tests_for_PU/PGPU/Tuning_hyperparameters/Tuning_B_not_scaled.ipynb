{
 "cells": [
  {
   "cell_type": "code",
   "execution_count": 1,
   "id": "1acec4db-7ff4-4260-b823-33955da4e717",
   "metadata": {},
   "outputs": [],
   "source": [
    "%%capture\n",
    "import pandas as pd\n",
    "import numpy as np\n",
    "from scipy.stats import bernoulli\n",
    "import matplotlib.pyplot as plt\n",
    "from sklearn.preprocessing import StandardScaler\n",
    "from sklearn.svm import SVC\n",
    "!pip install qpsolvers\n",
    "import qpsolvers\n",
    "!pip install qpsolvers[cvxopt]\n",
    "!pip install qpsolvers[open_source_solvers]\n",
    "!pip install qpsolvers[clarabel]\n",
    "from qpsolvers import solve_qp"
   ]
  },
  {
   "cell_type": "code",
   "execution_count": 2,
   "id": "d21a0f7e-813f-41c1-8e2e-7d2b241953d2",
   "metadata": {},
   "outputs": [
    {
     "name": "stderr",
     "output_type": "stream",
     "text": [
      "/tmp/ipykernel_3833/3601769595.py:3: FutureWarning: Downcasting behavior in `replace` is deprecated and will be removed in a future version. To retain the old behavior, explicitly call `result.infer_objects(copy=False)`. To opt-in to the future behavior, set `pd.set_option('future.no_silent_downcasting', True)`\n",
      "  raisin_whole = raisin_whole.replace('Besni', -1)\n"
     ]
    }
   ],
   "source": [
    "raisin_whole = pd.read_csv('raisin.csv')\n",
    "raisin_whole = raisin_whole.replace('Kecimen', 1)\n",
    "raisin_whole = raisin_whole.replace('Besni', -1)\n",
    "raisin_data = raisin_whole.sample(frac=0.8)\n",
    "list_train = raisin_data.index\n",
    "list_test = []\n",
    "for i in raisin_whole.index:\n",
    "    if i not in list_train:\n",
    "        list_test.append(i)\n",
    "raisin_test = raisin_whole.filter(items=list_test, axis=0)\n",
    "\n",
    "raisin_test = raisin_test.reset_index(drop=True)\n",
    "raisin_data = raisin_data.reset_index(drop=True)\n",
    "n_samples = raisin_data.shape[0]\n",
    "n_samples_test = raisin_test.shape[0]"
   ]
  },
  {
   "cell_type": "code",
   "execution_count": 3,
   "id": "9614d022-2a85-46fb-b06f-a50308837972",
   "metadata": {},
   "outputs": [],
   "source": [
    "def rbf(x,y,l=1):\n",
    "    \"\"\"Gaussian kernel\n",
    "\n",
    "    Parameters\n",
    "    -------------------------------\n",
    "    x : float\n",
    "    a real number\n",
    "\n",
    "    y : float\n",
    "    a real number\n",
    "\n",
    "    l: float, non zero\n",
    "    a scale parameter\n",
    "    -------------------------------\n",
    "    \"\"\"\n",
    "    dim = x.shape[0]\n",
    "    vect = np.empty(dim)\n",
    "    if dim == y.shape[0]  :\n",
    "        d = np.exp((-1)*((np.linalg.norm(x-y))/(2*(l**2))))\n",
    "        return d\n",
    "    else :\n",
    "        for i in range(dim):\n",
    "            vect[i] = np.exp((-1)*(np.linalg.norm(x[i] - y))/(2*(l**2)))\n",
    "        return vect"
   ]
  },
  {
   "cell_type": "code",
   "execution_count": 4,
   "id": "7944830a-27d1-4620-bed6-70db02a79113",
   "metadata": {},
   "outputs": [],
   "source": [
    "np.random.seed(1452234)\n",
    "label = np.zeros(n_samples)\n",
    "for i in range(n_samples):\n",
    "    random = bernoulli.rvs(p=3/4)\n",
    "    if raisin_data.loc[i,'Class'] == 1 and random == 0:\n",
    "        label[i] = 1\n",
    "    else:\n",
    "        label[i] = -1\n",
    "raisin_data['label'] = label\n",
    "\n",
    "svm_train = SVC(kernel='sigmoid', probability = True).fit(X=raisin_data.to_numpy()[:,:-2],\n",
    "                                  y=raisin_data.to_numpy()[:,-1])\n",
    "probas = svm_train.predict_proba(raisin_data.to_numpy()[:,:-2])"
   ]
  },
  {
   "cell_type": "code",
   "execution_count": 5,
   "id": "65ae95d6-eeeb-4dbc-ad9e-4df8adb31d8b",
   "metadata": {},
   "outputs": [],
   "source": [
    "proba_gap = probas[:,1] - probas[:,0]\n",
    "\n",
    "\n",
    "raisin_data['proba_gap'] = proba_gap\n",
    "\n",
    "n_min = 20\n",
    "\n",
    "#in the article they fix n_min = 3\n",
    "\n",
    "l_boundary = np.mean(np.sort(raisin_data[raisin_data['label'] == 1]['proba_gap'])[:n_min])\n",
    "\n",
    "\n",
    "relab = np.empty(n_samples)\n",
    "for i in range(n_samples):\n",
    "    if raisin_data.loc[i,'proba_gap'] < l_boundary:\n",
    "        relab[i] = -1\n",
    "    elif raisin_data.loc[i,'label'] == 1 or raisin_data.loc[i,'proba_gap'] >= 0:\n",
    "        relab[i] = 1\n",
    "    else:\n",
    "        relab[i] = 0\n",
    "raisin_data['relab'] = relab"
   ]
  },
  {
   "cell_type": "code",
   "execution_count": 6,
   "id": "1aec5b2f-9801-49fe-8e54-6ae2ee49a7d9",
   "metadata": {},
   "outputs": [],
   "source": [
    "list_of_B = np.hstack((np.linspace(1,10,10,endpoint=True), np.linspace(20,100,9,endpoint=True),\n",
    "                      np.linspace(200,1000,9,endpoint=True), np.linspace(2000,10000,9,endpoint=True)))\n",
    "performances = {}\n",
    "for i in list_of_B:\n",
    "    B = i\n",
    "    labeled_data = raisin_data[raisin_data['relab'] != 0].copy()\n",
    "    output_labeled = labeled_data['relab'].to_numpy()\n",
    "    list_of_index = labeled_data.index\n",
    "    labeled_data = labeled_data.reset_index(drop=True)\n",
    "    labeled_data = labeled_data.to_numpy()[:,:-4]\n",
    "    unlabeled_data = raisin_data.drop(index=list_of_index,axis=0)\n",
    "    unlabeled_data = unlabeled_data.to_numpy()[:,:-4]\n",
    "    n_unlabeled = unlabeled_data.shape[0]\n",
    "    n_labels = labeled_data.shape[0]\n",
    "    capital_k = np.zeros((n_labels,n_labels))\n",
    "    kappa = np.zeros(n_labels)\n",
    "    \n",
    "    \n",
    "    #construction of capital_k\n",
    "    for i in range(n_labels):\n",
    "        for j in range(i,n_labels):\n",
    "            capital_k[i,j] = rbf(x=labeled_data[i,:],y=labeled_data[j,:])\n",
    "    \n",
    "    capital_k = capital_k + capital_k.T\n",
    "    for i in range(n_labels):\n",
    "        capital_k[i,i] = 1\n",
    "    \n",
    "    capital_k[np.where(np.isnan(capital_k) == True)] = 0\n",
    "    \n",
    "    #construction of kappa\n",
    "    ratio_lab_unlab = n_labels/n_unlabeled\n",
    "    \n",
    "    for i in range(n_labels):\n",
    "        vector = np.empty(n_unlabeled)\n",
    "        for k in range(n_unlabeled):\n",
    "            vector[k] = rbf(x=labeled_data[i,:],y=unlabeled_data[k,:])    \n",
    "        kappa[i] = ratio_lab_unlab*np.sum(vector)\n",
    "    \n",
    "    kappa = -kappa\n",
    "    \n",
    "    \n",
    "    \n",
    "    ones_transposed = np.ones(n_labels).reshape(1,n_labels)\n",
    "    a_mat = np.vstack((ones_transposed,ones_transposed*-1,\n",
    "                       np.eye(n_labels),np.eye(n_labels)*-1))\n",
    "    epsilon = (np.sqrt(n_labels)-1)/np.sqrt(n_labels)\n",
    "    ub_mat = np.vstack((n_labels*(1+epsilon),n_labels*(epsilon-1),\n",
    "                        np.ones(n_labels).reshape(n_labels,1)*B,\n",
    "                        np.zeros(n_labels).reshape(n_labels,1)))\n",
    "    \n",
    "    \n",
    "    \n",
    "    beta_opti = solve_qp(P=capital_k,q=kappa,G=a_mat,h=ub_mat,solver='cvxopt')\n",
    "    \n",
    "    \n",
    "    svm_weighted = SVC().fit(X=labeled_data,y=output_labeled,sample_weight=beta_opti)\n",
    "    \n",
    "    predictions_weighted = svm_weighted.predict(raisin_test.to_numpy()[:,:-1])\n",
    "    \n",
    "    positive = 0\n",
    "    true_positive = 0\n",
    "    for i in range(n_samples_test):\n",
    "        if predictions_weighted[i] == 1:\n",
    "            positive += 1\n",
    "            if raisin_test.loc[i,'Class'] == 1:\n",
    "                true_positive += 1\n",
    "    \n",
    "    precision_pgpu = true_positive/positive\n",
    "    recall_pgpu = true_positive/raisin_test[raisin_test['Class'] == 1].shape[0]\n",
    "    f_1_pgpu = (2*precision_pgpu*recall_pgpu)/(precision_pgpu+recall_pgpu)\n",
    "    weird_estim_pgpu = (recall_pgpu**2)/(positive/raisin_test.shape[0])\n",
    "    performances[f'{B}'] = [precision_pgpu, recall_pgpu,\n",
    "                           f_1_pgpu, weird_estim_pgpu]"
   ]
  },
  {
   "cell_type": "code",
   "execution_count": 7,
   "id": "4c9a1857-c967-46bc-a2ba-159f7d174f41",
   "metadata": {},
   "outputs": [],
   "source": [
    "performances_df = pd.DataFrame(performances)"
   ]
  },
  {
   "cell_type": "code",
   "execution_count": 8,
   "id": "4fe562b9-9ecf-4216-804f-51db71883a9e",
   "metadata": {},
   "outputs": [],
   "source": [
    "performances_df = performances_df.T"
   ]
  },
  {
   "cell_type": "code",
   "execution_count": 9,
   "id": "6787a6e4-0e1a-458b-89f0-258190fd24ee",
   "metadata": {},
   "outputs": [],
   "source": [
    "performances_df.columns = ['precision','recall','f_1','weird_estim']"
   ]
  },
  {
   "cell_type": "code",
   "execution_count": 10,
   "id": "fdc99140-4bf3-4c35-adad-e1e95331aa42",
   "metadata": {},
   "outputs": [
    {
     "data": {
      "text/plain": [
       "Text(0.5, 1.0, 'weird_estim')"
      ]
     },
     "execution_count": 10,
     "metadata": {},
     "output_type": "execute_result"
    },
    {
     "data": {
      "image/png": "[encoded data removed]",
      "text/plain": [
       "<Figure size 640x480 with 4 Axes>"
      ]
     },
     "metadata": {},
     "output_type": "display_data"
    }
   ],
   "source": [
    "fig, axs = plt.subplots(2,2)\n",
    "axs[0,0].plot(list_of_B,performances_df['precision'])\n",
    "axs[0,0].set_title('precision')\n",
    "axs[0,1].plot(list_of_B,performances_df['recall'])\n",
    "axs[0,1].set_title('recall')\n",
    "axs[1,0].plot(list_of_B,performances_df['f_1'])\n",
    "axs[1,0].set_title('f_1')\n",
    "axs[1,1].plot(list_of_B,performances_df['weird_estim'])\n",
    "axs[1,1].set_title('weird_estim')"
   ]
  },
  {
   "cell_type": "code",
   "execution_count": 11,
   "id": "d3507fa9-f423-4edc-82b9-3b7189356007",
   "metadata": {},
   "outputs": [
    {
     "data": {
      "text/plain": [
       "[<matplotlib.lines.Line2D at 0x7f64230219d0>]"
      ]
     },
     "execution_count": 11,
     "metadata": {},
     "output_type": "execute_result"
    },
    {
     "data": {
      "image/png": "[encoded data removed]",
      "text/plain": [
       "<Figure size 640x480 with 1 Axes>"
      ]
     },
     "metadata": {},
     "output_type": "display_data"
    }
   ],
   "source": [
    "plt.plot(list_of_B,performances_df['recall'])"
   ]
  },
  {
   "cell_type": "code",
   "execution_count": null,
   "id": "cfb95d60-241c-4324-b880-b50eca0caccf",
   "metadata": {},
   "outputs": [],
   "source": []
  }
 ],
 "metadata": {
  "kernelspec": {
   "display_name": "Python 3 (ipykernel)",
   "language": "python",
   "name": "python3"
  },
  "language_info": {
   "codemirror_mode": {
    "name": "ipython",
    "version": 3
   },
   "file_extension": ".py",
   "mimetype": "text/x-python",
   "name": "python",
   "nbconvert_exporter": "python",
   "pygments_lexer": "ipython3",
   "version": "3.12.4"
  }
 },
 "nbformat": 4,
 "nbformat_minor": 5
}
