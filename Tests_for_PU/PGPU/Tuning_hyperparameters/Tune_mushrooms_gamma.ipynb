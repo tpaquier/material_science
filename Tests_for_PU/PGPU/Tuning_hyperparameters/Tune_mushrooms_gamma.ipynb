{
 "cells": [
  {
   "cell_type": "code",
   "execution_count": 1,
   "id": "de2eab76-4aa6-4c5e-8816-64d6b22f6e41",
   "metadata": {},
   "outputs": [],
   "source": [
    "%%capture\n",
    "import pandas as pd\n",
    "import numpy as np\n",
    "from scipy.stats import bernoulli\n",
    "import matplotlib.pyplot as plt\n",
    "from sklearn.preprocessing import StandardScaler\n",
    "from sklearn.svm import SVC\n",
    "!pip install qpsolvers\n",
    "import qpsolvers\n",
    "!pip install qpsolvers[cvxopt]\n",
    "!pip install qpsolvers[open_source_solvers]\n",
    "!pip install qpsolvers[clarabel]\n",
    "from qpsolvers import solve_qp"
   ]
  },
  {
   "cell_type": "code",
   "execution_count": 2,
   "id": "74eebb75-5fbd-47f8-a3c7-58db445b7ade",
   "metadata": {},
   "outputs": [],
   "source": [
    "mushroom_whole = pd.read_csv('mushroom.csv')\n",
    "classes_to_keep = mushroom_whole['class'].copy()\n",
    "mushroom_whole = mushroom_whole.drop(['class'], axis=1)\n",
    "cols = mushroom_whole.columns.copy()\n",
    "mushroom_whole = StandardScaler().fit_transform(X=mushroom_whole.to_numpy())\n",
    "mushroom_whole = pd.DataFrame(mushroom_whole)\n",
    "mushroom_whole.columns = cols\n",
    "mushroom_whole['class'] = classes_to_keep\n",
    "mushroom_data = mushroom_whole.sample(frac=0.5)\n",
    "list_train = mushroom_data.index\n",
    "list_test = []\n",
    "for i in mushroom_whole.index:\n",
    "    if i not in list_train:\n",
    "        list_test.append(i)\n",
    "mushroom_test = mushroom_whole.filter(items=list_test, axis=0)\n",
    "\n",
    "mushroom_test = mushroom_test.reset_index(drop=True)\n",
    "mushroom_data = mushroom_data.reset_index(drop=True)\n",
    "n_samples = mushroom_data.shape[0]\n",
    "n_samples_test = mushroom_test.shape[0]"
   ]
  },
  {
   "cell_type": "code",
   "execution_count": null,
   "id": "5198ab93-9f14-4035-aab2-39d97c94204b",
   "metadata": {},
   "outputs": [],
   "source": [
    "np.random.seed(1452234)\n",
    "label = np.zeros(n_samples)\n",
    "for i in range(n_samples):\n",
    "    random = bernoulli.rvs(p=3/4)\n",
    "    if mushroom_data.loc[i,'class'] == 1 and random == 0:\n",
    "        label[i] = 1\n",
    "    else:\n",
    "        label[i] = -1\n",
    "mushroom_data['label'] = label\n",
    "\n",
    "list_of_gamma = np.linspace(0.0001,1,10)\n",
    "\n",
    "dico_of_diff = {}\n",
    "for the_gamma in list_of_gamma:\n",
    "\n",
    "    svm_train = SVC(kernel='sigmoid', probability = True,\n",
    "                    gamma=the_gamma).fit(X=mushroom_data.to_numpy()[:,:-2],\n",
    "                                      y=mushroom_data.to_numpy()[:,-1])\n",
    "    probas = svm_train.predict_proba(mushroom_data.to_numpy()[:,:-2])\n",
    "    \n",
    "    proba_gap = probas[:,1] - probas[:,0]\n",
    "    \n",
    "    biggest_diff = np.max(proba_gap) - np.min(proba_gap)\n",
    "\n",
    "    dico_of_diff[str(the_gamma)] = biggest_diff\n"
   ]
  },
  {
   "cell_type": "code",
   "execution_count": null,
   "id": "2b8fff67-ec19-4193-b92b-6d88dbdbf9a8",
   "metadata": {},
   "outputs": [],
   "source": [
    "dico_of_diff"
   ]
  }
 ],
 "metadata": {
  "kernelspec": {
   "display_name": "Python 3 (ipykernel)",
   "language": "python",
   "name": "python3"
  },
  "language_info": {
   "codemirror_mode": {
    "name": "ipython",
    "version": 3
   },
   "file_extension": ".py",
   "mimetype": "text/x-python",
   "name": "python",
   "nbconvert_exporter": "python",
   "pygments_lexer": "ipython3",
   "version": "3.12.4"
  }
 },
 "nbformat": 4,
 "nbformat_minor": 5
}
