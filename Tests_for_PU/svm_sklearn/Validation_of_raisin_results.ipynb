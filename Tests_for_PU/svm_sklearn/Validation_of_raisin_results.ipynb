{
 "cells": [
  {
   "cell_type": "code",
   "execution_count": 1,
   "id": "6f546025-fcd9-4f22-9c39-f7f7ff9f3180",
   "metadata": {},
   "outputs": [],
   "source": [
    "import pandas as pd\n",
    "import numpy as np\n",
    "from sklearn.svm import SVC\n",
    "from sklearn.cluster import KMeans\n",
    "from sklearn.model_selection import train_test_split\n",
    "from sklearn.preprocessing import StandardScaler\n",
    "from scipy.stats import bernoulli"
   ]
  },
  {
   "cell_type": "code",
   "execution_count": 2,
   "id": "14b39f9c-54d9-41da-b749-6ddf440fb9b1",
   "metadata": {},
   "outputs": [
    {
     "name": "stderr",
     "output_type": "stream",
     "text": [
      "/tmp/ipykernel_7170/1718470726.py:3: FutureWarning: Downcasting behavior in `replace` is deprecated and will be removed in a future version. To retain the old behavior, explicitly call `result.infer_objects(copy=False)`. To opt-in to the future behavior, set `pd.set_option('future.no_silent_downcasting', True)`\n",
      "  raisin_whole = raisin_whole.replace('Besni', -1)\n"
     ]
    }
   ],
   "source": [
    "raisin_whole = pd.read_csv('raisin.csv')\n",
    "raisin_whole = raisin_whole.replace('Kecimen', 1)\n",
    "raisin_whole = raisin_whole.replace('Besni', -1)\n",
    "classes_to_keep = raisin_whole['Class'].copy()\n",
    "raisin_whole = raisin_whole.drop(['Class'],axis=1)\n",
    "colnames = raisin_whole.columns \n",
    "raisin_whole = StandardScaler().fit_transform(X=raisin_whole.to_numpy())\n",
    "raisin_whole = pd.DataFrame(raisin_whole)\n",
    "raisin_whole.columns = colnames\n",
    "raisin_whole['Class'] = classes_to_keep\n",
    "raisin, raisin_test = train_test_split(raisin_whole,train_size=0.8)\n",
    "raisin = raisin.reset_index(drop=True)\n",
    "raisin_test = raisin_test.reset_index(drop=True)"
   ]
  },
  {
   "cell_type": "code",
   "execution_count": 3,
   "id": "9780210a-440b-4d04-87b8-6d0c02318fd6",
   "metadata": {},
   "outputs": [],
   "source": [
    "clf_lab = SVC().fit(X=raisin.drop(['Class'],axis=1).to_numpy(),\n",
    "                   y=raisin['Class'].to_numpy())"
   ]
  },
  {
   "cell_type": "code",
   "execution_count": 4,
   "id": "46858265-0341-49a8-bcb2-de5a857618fe",
   "metadata": {},
   "outputs": [],
   "source": [
    "predictions = clf_lab.predict(raisin_test.drop(['Class'],axis=1).to_numpy())"
   ]
  },
  {
   "cell_type": "code",
   "execution_count": 5,
   "id": "ea312e94-84cc-45c9-8ad2-94c44c8409c2",
   "metadata": {},
   "outputs": [],
   "source": [
    "n_samples_test = raisin_test.shape[0]"
   ]
  },
  {
   "cell_type": "code",
   "execution_count": 6,
   "id": "f83b992d-d5bd-4e42-b3c9-82d4216a97b9",
   "metadata": {},
   "outputs": [],
   "source": [
    "positives = 0\n",
    "true_positives = 0\n",
    "for i in range(n_samples_test):\n",
    "    if predictions[i] == 1:\n",
    "        positives += 1\n",
    "        if raisin_test.loc[i,'Class'] == 1:\n",
    "            true_positives += 1"
   ]
  },
  {
   "cell_type": "code",
   "execution_count": 7,
   "id": "692cb74e-d7e4-48cc-9ab7-da46865f6e19",
   "metadata": {},
   "outputs": [],
   "source": [
    "precision = true_positives/positives\n",
    "recall = true_positives/raisin_test[raisin_test['Class']==1].shape[0]\n",
    "f_1 = (2*precision*recall)/(precision+recall)\n",
    "ll = (recall**2)/(positives/n_samples_test)"
   ]
  },
  {
   "cell_type": "code",
   "execution_count": 8,
   "id": "e6376237-44e6-4cf7-a12d-f10b2bf6b3db",
   "metadata": {},
   "outputs": [
    {
     "name": "stdout",
     "output_type": "stream",
     "text": [
      "precision on test :  0.86 \n",
      " recall on test :  0.9247311827956989 \n",
      " f_1 on test :  0.8911917098445595 \n",
      " ll on test :  1.539229968782518\n"
     ]
    }
   ],
   "source": [
    "print('precision on test : ', precision, '\\n',\n",
    "      'recall on test : ', recall, '\\n', \n",
    "      'f_1 on test : ', f_1, '\\n',\n",
    "      'll on test : ', ll)"
   ]
  }
 ],
 "metadata": {
  "kernelspec": {
   "display_name": "Python 3 (ipykernel)",
   "language": "python",
   "name": "python3"
  },
  "language_info": {
   "codemirror_mode": {
    "name": "ipython",
    "version": 3
   },
   "file_extension": ".py",
   "mimetype": "text/x-python",
   "name": "python",
   "nbconvert_exporter": "python",
   "pygments_lexer": "ipython3",
   "version": "3.12.4"
  }
 },
 "nbformat": 4,
 "nbformat_minor": 5
}
