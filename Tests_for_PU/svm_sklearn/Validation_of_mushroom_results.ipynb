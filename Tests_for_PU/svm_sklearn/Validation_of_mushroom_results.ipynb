{
 "cells": [
  {
   "cell_type": "code",
   "execution_count": 1,
   "id": "09323c9a-f666-4bad-9096-0be9082c2496",
   "metadata": {},
   "outputs": [],
   "source": [
    "import pandas as pd\n",
    "import numpy as np\n",
    "from sklearn.svm import SVC\n",
    "from sklearn.cluster import KMeans\n",
    "from sklearn.model_selection import train_test_split\n",
    "from sklearn.preprocessing import StandardScaler\n",
    "from scipy.stats import bernoulli"
   ]
  },
  {
   "cell_type": "code",
   "execution_count": 2,
   "id": "127a495c-257f-4f01-b57f-756a4fe4839e",
   "metadata": {},
   "outputs": [],
   "source": [
    "mushrooms_whole = pd.read_csv('mushroom.csv')\n",
    "classes_to_keep = mushrooms_whole['class'].copy()\n",
    "mushrooms_whole = mushrooms_whole.drop(['class'],axis=1)\n",
    "colnames = mushrooms_whole.columns \n",
    "mushrooms_whole = StandardScaler().fit_transform(X=mushrooms_whole.to_numpy())\n",
    "mushrooms_whole = pd.DataFrame(mushrooms_whole)\n",
    "mushrooms_whole.columns = colnames\n",
    "mushrooms_whole['class'] = classes_to_keep\n",
    "mushrooms, mushrooms_test = train_test_split(mushrooms_whole,train_size=0.8)\n",
    "mushrooms = mushrooms.reset_index(drop=True)\n",
    "mushrooms_test = mushrooms_test.reset_index(drop=True)"
   ]
  },
  {
   "cell_type": "code",
   "execution_count": 3,
   "id": "30fb70a5-6398-48a3-bfa0-da7778620e3d",
   "metadata": {},
   "outputs": [],
   "source": [
    "n_samples = mushrooms.shape[0]"
   ]
  },
  {
   "cell_type": "code",
   "execution_count": 4,
   "id": "eb0ae8ad-658c-45ba-afba-77466d2a192a",
   "metadata": {},
   "outputs": [],
   "source": [
    "clf_lab = SVC().fit(X=mushrooms.drop(['class'],axis=1).to_numpy(),\n",
    "                   y=mushrooms['class'].to_numpy())"
   ]
  },
  {
   "cell_type": "code",
   "execution_count": 5,
   "id": "1232c772-8eac-4c37-9232-3e99910c486a",
   "metadata": {},
   "outputs": [],
   "source": [
    "predictions = clf_lab.predict(mushrooms_test.drop(['class'],axis=1).to_numpy())"
   ]
  },
  {
   "cell_type": "code",
   "execution_count": 6,
   "id": "7f913d2a-cc54-4bbe-a81a-971bddfada94",
   "metadata": {},
   "outputs": [],
   "source": [
    "n_samples_test = mushrooms_test.shape[0]"
   ]
  },
  {
   "cell_type": "code",
   "execution_count": 7,
   "id": "003e5aad-21f7-4f3a-8e67-7f4326fc4a77",
   "metadata": {},
   "outputs": [],
   "source": [
    "positives = 0\n",
    "true_positives = 0\n",
    "for i in range(n_samples_test):\n",
    "    if predictions[i] == 1:\n",
    "        positives += 1\n",
    "        if mushrooms_test.loc[i,'class'] == 1:\n",
    "            true_positives += 1"
   ]
  },
  {
   "cell_type": "code",
   "execution_count": 9,
   "id": "85b55699-af12-4ac4-b7fb-93e476b1386f",
   "metadata": {},
   "outputs": [],
   "source": [
    "precision = true_positives/positives\n",
    "recall = true_positives/mushrooms_test[mushrooms_test['class']==1].shape[0]\n",
    "f_1 = (2*precision*recall)/(precision+recall)\n",
    "ll = (recall**2)/(positives/n_samples_test)"
   ]
  },
  {
   "cell_type": "code",
   "execution_count": 10,
   "id": "d974dc23-68ce-442b-bc9d-e49bf0761709",
   "metadata": {},
   "outputs": [
    {
     "name": "stdout",
     "output_type": "stream",
     "text": [
      "precision on test :  0.9128736413043478 \n",
      " recall on test :  0.9067139001349528 \n",
      " f_1 on test :  0.9097833446174678 \n",
      " ll on test :  1.5089605901859047\n"
     ]
    }
   ],
   "source": [
    "print('precision on test : ', precision, '\\n',\n",
    "      'recall on test : ', recall, '\\n', \n",
    "      'f_1 on test : ', f_1, '\\n',\n",
    "      'll on test : ', ll)"
   ]
  },
  {
   "cell_type": "code",
   "execution_count": null,
   "id": "b6b8151b-3be3-4ba2-ac19-7085d54e2c09",
   "metadata": {},
   "outputs": [],
   "source": []
  }
 ],
 "metadata": {
  "kernelspec": {
   "display_name": "Python 3 (ipykernel)",
   "language": "python",
   "name": "python3"
  },
  "language_info": {
   "codemirror_mode": {
    "name": "ipython",
    "version": 3
   },
   "file_extension": ".py",
   "mimetype": "text/x-python",
   "name": "python",
   "nbconvert_exporter": "python",
   "pygments_lexer": "ipython3",
   "version": "3.12.4"
  }
 },
 "nbformat": 4,
 "nbformat_minor": 5
}
