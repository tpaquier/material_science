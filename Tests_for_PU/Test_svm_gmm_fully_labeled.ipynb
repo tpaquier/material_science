{
 "cells": [
  {
   "cell_type": "code",
   "execution_count": 4,
   "id": "a5ce684d-26cd-4416-9422-9ddf73bcdfbc",
   "metadata": {},
   "outputs": [],
   "source": [
    "import pandas as pd\n",
    "import numpy as np\n",
    "from sklearn.cluster import KMeans\n",
    "from sklearn.svm import SVC\n",
    "import matplotlib.pyplot as plt\n",
    "from scipy.stats import multivariate_normal\n",
    "from scipy.stats import bernoulli"
   ]
  },
  {
   "cell_type": "markdown",
   "id": "a85d0fbc-e8dd-40e6-b4df-5909bda77701",
   "metadata": {},
   "source": [
    "## Without split on the data about training or testing"
   ]
  },
  {
   "cell_type": "markdown",
   "id": "97c22016-a211-420c-96e8-4ade36d4a32e",
   "metadata": {},
   "source": [
    "#### First, let's try a svm on the fully labeled data"
   ]
  },
  {
   "cell_type": "code",
   "execution_count": 12,
   "id": "c49b0709-1f37-432d-8be4-27ba6c16cc89",
   "metadata": {},
   "outputs": [],
   "source": [
    "mushroom_data = pd.read_csv('mushroom.csv')"
   ]
  },
  {
   "cell_type": "code",
   "execution_count": 13,
   "id": "c3949fdb-bf0b-4a7b-a0af-76d42161ffac",
   "metadata": {},
   "outputs": [],
   "source": [
    "n_samples = mushroom_data.shape[0]"
   ]
  },
  {
   "cell_type": "code",
   "execution_count": 14,
   "id": "994bdd31-f2fd-498e-a231-1c7c5eb459ab",
   "metadata": {},
   "outputs": [
    {
     "data": {
      "text/html": [
       "<div>\n",
       "<style scoped>\n",
       "    .dataframe tbody tr th:only-of-type {\n",
       "        vertical-align: middle;\n",
       "    }\n",
       "\n",
       "    .dataframe tbody tr th {\n",
       "        vertical-align: top;\n",
       "    }\n",
       "\n",
       "    .dataframe thead th {\n",
       "        text-align: right;\n",
       "    }\n",
       "</style>\n",
       "<table border=\"1\" class=\"dataframe\">\n",
       "  <thead>\n",
       "    <tr style=\"text-align: right;\">\n",
       "      <th></th>\n",
       "      <th>cap-diameter</th>\n",
       "      <th>cap-shape</th>\n",
       "      <th>gill-attachment</th>\n",
       "      <th>gill-color</th>\n",
       "      <th>stem-height</th>\n",
       "      <th>stem-width</th>\n",
       "      <th>stem-color</th>\n",
       "      <th>season</th>\n",
       "      <th>class</th>\n",
       "    </tr>\n",
       "  </thead>\n",
       "  <tbody>\n",
       "    <tr>\n",
       "      <th>0</th>\n",
       "      <td>1372</td>\n",
       "      <td>2</td>\n",
       "      <td>2</td>\n",
       "      <td>10</td>\n",
       "      <td>3.807467</td>\n",
       "      <td>1545</td>\n",
       "      <td>11</td>\n",
       "      <td>1.804273</td>\n",
       "      <td>1</td>\n",
       "    </tr>\n",
       "    <tr>\n",
       "      <th>1</th>\n",
       "      <td>1461</td>\n",
       "      <td>2</td>\n",
       "      <td>2</td>\n",
       "      <td>10</td>\n",
       "      <td>3.807467</td>\n",
       "      <td>1557</td>\n",
       "      <td>11</td>\n",
       "      <td>1.804273</td>\n",
       "      <td>1</td>\n",
       "    </tr>\n",
       "    <tr>\n",
       "      <th>2</th>\n",
       "      <td>1371</td>\n",
       "      <td>2</td>\n",
       "      <td>2</td>\n",
       "      <td>10</td>\n",
       "      <td>3.612496</td>\n",
       "      <td>1566</td>\n",
       "      <td>11</td>\n",
       "      <td>1.804273</td>\n",
       "      <td>1</td>\n",
       "    </tr>\n",
       "    <tr>\n",
       "      <th>3</th>\n",
       "      <td>1261</td>\n",
       "      <td>6</td>\n",
       "      <td>2</td>\n",
       "      <td>10</td>\n",
       "      <td>3.787572</td>\n",
       "      <td>1566</td>\n",
       "      <td>11</td>\n",
       "      <td>1.804273</td>\n",
       "      <td>1</td>\n",
       "    </tr>\n",
       "    <tr>\n",
       "      <th>4</th>\n",
       "      <td>1305</td>\n",
       "      <td>6</td>\n",
       "      <td>2</td>\n",
       "      <td>10</td>\n",
       "      <td>3.711971</td>\n",
       "      <td>1464</td>\n",
       "      <td>11</td>\n",
       "      <td>0.943195</td>\n",
       "      <td>1</td>\n",
       "    </tr>\n",
       "    <tr>\n",
       "      <th>...</th>\n",
       "      <td>...</td>\n",
       "      <td>...</td>\n",
       "      <td>...</td>\n",
       "      <td>...</td>\n",
       "      <td>...</td>\n",
       "      <td>...</td>\n",
       "      <td>...</td>\n",
       "      <td>...</td>\n",
       "      <td>...</td>\n",
       "    </tr>\n",
       "    <tr>\n",
       "      <th>54030</th>\n",
       "      <td>73</td>\n",
       "      <td>5</td>\n",
       "      <td>3</td>\n",
       "      <td>2</td>\n",
       "      <td>0.887740</td>\n",
       "      <td>569</td>\n",
       "      <td>12</td>\n",
       "      <td>0.943195</td>\n",
       "      <td>1</td>\n",
       "    </tr>\n",
       "    <tr>\n",
       "      <th>54031</th>\n",
       "      <td>82</td>\n",
       "      <td>2</td>\n",
       "      <td>3</td>\n",
       "      <td>2</td>\n",
       "      <td>1.186164</td>\n",
       "      <td>490</td>\n",
       "      <td>12</td>\n",
       "      <td>0.943195</td>\n",
       "      <td>1</td>\n",
       "    </tr>\n",
       "    <tr>\n",
       "      <th>54032</th>\n",
       "      <td>82</td>\n",
       "      <td>5</td>\n",
       "      <td>3</td>\n",
       "      <td>2</td>\n",
       "      <td>0.915593</td>\n",
       "      <td>584</td>\n",
       "      <td>12</td>\n",
       "      <td>0.888450</td>\n",
       "      <td>1</td>\n",
       "    </tr>\n",
       "    <tr>\n",
       "      <th>54033</th>\n",
       "      <td>79</td>\n",
       "      <td>2</td>\n",
       "      <td>3</td>\n",
       "      <td>2</td>\n",
       "      <td>1.034963</td>\n",
       "      <td>491</td>\n",
       "      <td>12</td>\n",
       "      <td>0.888450</td>\n",
       "      <td>1</td>\n",
       "    </tr>\n",
       "    <tr>\n",
       "      <th>54034</th>\n",
       "      <td>72</td>\n",
       "      <td>5</td>\n",
       "      <td>3</td>\n",
       "      <td>2</td>\n",
       "      <td>1.158311</td>\n",
       "      <td>492</td>\n",
       "      <td>12</td>\n",
       "      <td>0.888450</td>\n",
       "      <td>1</td>\n",
       "    </tr>\n",
       "  </tbody>\n",
       "</table>\n",
       "<p>54035 rows × 9 columns</p>\n",
       "</div>"
      ],
      "text/plain": [
       "       cap-diameter  cap-shape  gill-attachment  gill-color  stem-height  \\\n",
       "0              1372          2                2          10     3.807467   \n",
       "1              1461          2                2          10     3.807467   \n",
       "2              1371          2                2          10     3.612496   \n",
       "3              1261          6                2          10     3.787572   \n",
       "4              1305          6                2          10     3.711971   \n",
       "...             ...        ...              ...         ...          ...   \n",
       "54030            73          5                3           2     0.887740   \n",
       "54031            82          2                3           2     1.186164   \n",
       "54032            82          5                3           2     0.915593   \n",
       "54033            79          2                3           2     1.034963   \n",
       "54034            72          5                3           2     1.158311   \n",
       "\n",
       "       stem-width  stem-color    season  class  \n",
       "0            1545          11  1.804273      1  \n",
       "1            1557          11  1.804273      1  \n",
       "2            1566          11  1.804273      1  \n",
       "3            1566          11  1.804273      1  \n",
       "4            1464          11  0.943195      1  \n",
       "...           ...         ...       ...    ...  \n",
       "54030         569          12  0.943195      1  \n",
       "54031         490          12  0.943195      1  \n",
       "54032         584          12  0.888450      1  \n",
       "54033         491          12  0.888450      1  \n",
       "54034         492          12  0.888450      1  \n",
       "\n",
       "[54035 rows x 9 columns]"
      ]
     },
     "execution_count": 14,
     "metadata": {},
     "output_type": "execute_result"
    }
   ],
   "source": [
    "mushroom_data"
   ]
  },
  {
   "cell_type": "code",
   "execution_count": 15,
   "id": "db5779d6-1def-47f1-998d-f2c805a9d522",
   "metadata": {},
   "outputs": [],
   "source": [
    "classifier = SVC(kernel='rbf',gamma='auto').fit(X=mushroom_data.drop(['class'], axis=1).to_numpy(),\n",
    "                                                y=np.array(mushroom_data['class']))"
   ]
  },
  {
   "cell_type": "code",
   "execution_count": 19,
   "id": "8f4464a0-76bc-4a9b-a5bc-2a4957f35dc9",
   "metadata": {},
   "outputs": [],
   "source": [
    "predictions = classifier.predict(X=mushroom_data.drop(['class'], axis=1).to_numpy())"
   ]
  },
  {
   "cell_type": "code",
   "execution_count": 22,
   "id": "42567e9e-1add-4fe6-8e80-6bf6180d6aa9",
   "metadata": {},
   "outputs": [
    {
     "name": "stdout",
     "output_type": "stream",
     "text": [
      "the precision of the svm without any supplementary treatment is : 0.9992252762058744\n"
     ]
    }
   ],
   "source": [
    "positives = 0\n",
    "true_positives = 0\n",
    "for i in range(n_samples):\n",
    "    if predictions[i] == 1:\n",
    "        positives += 1\n",
    "        if mushroom_data.loc[i,'class'] == 1:\n",
    "            true_positives += 1\n",
    "precision_svm = true_positives/positives\n",
    "print('the precision of the svm without any supplementary treatment is :', precision_svm)"
   ]
  },
  {
   "cell_type": "markdown",
   "id": "d699fbac-17ce-48d3-bb77-d6974e7452e0",
   "metadata": {},
   "source": [
    "So it's quite hight but we didn't split the dataset into training and test so probably overfitting."
   ]
  },
  {
   "cell_type": "markdown",
   "id": "2c00b5cb-d0de-4072-bad6-5fd12a749dae",
   "metadata": {},
   "source": [
    "#### Now, let's try a fully labelled gmm"
   ]
  },
  {
   "cell_type": "code",
   "execution_count": 30,
   "id": "ad0702c9-b9cf-4041-9f4d-2092d8aa6ab0",
   "metadata": {},
   "outputs": [],
   "source": [
    "#we compute the \\hat{pi_i}\n",
    "number_of_positives = 0\n",
    "number_of_negatives = 0\n",
    "for i in range(n_samples):\n",
    "    if mushroom_data.loc[i,'class'] == 1:\n",
    "        number_of_positives += 1\n",
    "    else:\n",
    "        number_of_negatives += 1\n",
    "pi_0 = number_of_negatives\n",
    "pi_1 = number_of_positives\n",
    "#we now compute the estimated mean and estimated covariance for each group\n",
    "mean_0 = mushroom_data.groupby('class').mean().to_numpy()[0,:]\n",
    "mean_1 = mushroom_data.groupby('class').mean().to_numpy()[1,:]\n",
    "cov_0 = np.cov(mushroom_data[mushroom_data['class'] == 0].drop(['class'],axis=1).to_numpy(), rowvar=False)\n",
    "cov_1 = np.cov(mushroom_data[mushroom_data['class'] == 1].drop(['class'],axis=1).to_numpy(), rowvar=False)\n",
    "dict_mean = {'mean_0':mean_0, 'mean_1':mean_1}\n",
    "dict_cov = {'cov_0':cov_0, 'cov_1':cov_1}\n",
    "dict_pi = {'pi_0':pi_0, 'pi_1':pi_1}"
   ]
  },
  {
   "cell_type": "code",
   "execution_count": 38,
   "id": "f4c5e9d2-ca90-4d63-bd2d-5a25a9b04794",
   "metadata": {},
   "outputs": [],
   "source": [
    "y_hat = np.empty((n_samples,2))"
   ]
  },
  {
   "cell_type": "code",
   "execution_count": 39,
   "id": "b17cb91f-2d7d-43bc-ac58-a1e31f76e0d4",
   "metadata": {},
   "outputs": [],
   "source": [
    "#we now check for each point which category maximizes the likelihood\n",
    "for group in range(2):\n",
    "    for i in range(n_samples):\n",
    "        x_test = np.array(mushroom_data.loc[i,])[:8]\n",
    "        y_hat[i,group] = np.log(dict_pi['pi_{0}'.format(group)]) + multivariate_normal.logpdf(x=x_test,\n",
    "                                                                                              mean=dict_mean['mean_{0}'.format(group)],\n",
    "                                                                                              cov=dict_cov['cov_{0}'.format(group)])\n",
    "\n"
   ]
  },
  {
   "cell_type": "code",
   "execution_count": 40,
   "id": "5afade64-444c-429d-8db2-6fa8f059e2a5",
   "metadata": {},
   "outputs": [],
   "source": [
    "decision = np.empty(n_samples)"
   ]
  },
  {
   "cell_type": "code",
   "execution_count": 42,
   "id": "e9c0ab99-680f-45e2-a655-05fbe8d41cf8",
   "metadata": {},
   "outputs": [],
   "source": [
    "for i in range(n_samples):\n",
    "    if y_hat[i,1]>=y_hat[i,0]:\n",
    "        decision[i] = 1\n",
    "    else:\n",
    "        decision[i] = 0"
   ]
  },
  {
   "cell_type": "code",
   "execution_count": 43,
   "id": "6099c5e3-ef1a-49d7-8600-5a40c9500323",
   "metadata": {},
   "outputs": [
    {
     "name": "stdout",
     "output_type": "stream",
     "text": [
      "the precision is : 0.6721133908953053\n"
     ]
    }
   ],
   "source": [
    "positives = 0\n",
    "true_positives = 0\n",
    "for i in range(n_samples):\n",
    "    if decision[i] == 1:\n",
    "        positives += 1\n",
    "        if mushroom_data.loc[i,'class'] == 1:\n",
    "            true_positives += 1\n",
    "\n",
    "precision_gmm = true_positives/positives\n",
    "print('the precision is :', precision_gmm)"
   ]
  },
  {
   "cell_type": "markdown",
   "id": "6bffa87a-efd5-4a4d-8d3f-611c6e6aa9c2",
   "metadata": {},
   "source": [
    "So, the data is apparently separable by a svm but is not generated by a gaussian mixture model as the precisions worsens a lot if we try to fit a gmm on it. "
   ]
  },
  {
   "cell_type": "code",
   "execution_count": null,
   "id": "a6ed3095-9c0c-4059-8dea-86b07ce06674",
   "metadata": {},
   "outputs": [],
   "source": []
  }
 ],
 "metadata": {
  "kernelspec": {
   "display_name": "Python 3 (ipykernel)",
   "language": "python",
   "name": "python3"
  },
  "language_info": {
   "codemirror_mode": {
    "name": "ipython",
    "version": 3
   },
   "file_extension": ".py",
   "mimetype": "text/x-python",
   "name": "python",
   "nbconvert_exporter": "python",
   "pygments_lexer": "ipython3",
   "version": "3.12.3"
  }
 },
 "nbformat": 4,
 "nbformat_minor": 5
}
