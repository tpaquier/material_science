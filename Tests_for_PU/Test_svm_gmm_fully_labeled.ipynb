{
 "cells": [
  {
   "cell_type": "code",
   "execution_count": 1,
   "id": "a5ce684d-26cd-4416-9422-9ddf73bcdfbc",
   "metadata": {},
   "outputs": [],
   "source": [
    "import pandas as pd\n",
    "import numpy as np\n",
    "from sklearn.cluster import KMeans\n",
    "from sklearn.svm import SVC\n",
    "import matplotlib.pyplot as plt\n",
    "from scipy.stats import multivariate_normal\n",
    "from scipy.stats import bernoulli"
   ]
  },
  {
   "cell_type": "markdown",
   "id": "a85d0fbc-e8dd-40e6-b4df-5909bda77701",
   "metadata": {},
   "source": [
    "## Without split on the data about training or testing"
   ]
  },
  {
   "cell_type": "markdown",
   "id": "97c22016-a211-420c-96e8-4ade36d4a32e",
   "metadata": {},
   "source": [
    "#### First, let's try a svm on the fully labeled data"
   ]
  },
  {
   "cell_type": "code",
   "execution_count": 2,
   "id": "c49b0709-1f37-432d-8be4-27ba6c16cc89",
   "metadata": {},
   "outputs": [],
   "source": [
    "mushroom_data = pd.read_csv('mushroom.csv')"
   ]
  },
  {
   "cell_type": "code",
   "execution_count": 3,
   "id": "aa5d2885-cb9f-429a-ab49-8aa03856f609",
   "metadata": {},
   "outputs": [],
   "source": [
    "mushroom_data = mushroom_data.sample(n=int(0.8*mushroom_data.shape[0]))\n",
    "training_indexes = mushroom_data.index"
   ]
  },
  {
   "cell_type": "code",
   "execution_count": 4,
   "id": "c3949fdb-bf0b-4a7b-a0af-76d42161ffac",
   "metadata": {},
   "outputs": [],
   "source": [
    "n_samples = mushroom_data.shape[0]"
   ]
  },
  {
   "cell_type": "code",
   "execution_count": 5,
   "id": "994bdd31-f2fd-498e-a231-1c7c5eb459ab",
   "metadata": {},
   "outputs": [],
   "source": [
    "mushroom_data = mushroom_data.reset_index(drop=True)"
   ]
  },
  {
   "cell_type": "code",
   "execution_count": 6,
   "id": "db5779d6-1def-47f1-998d-f2c805a9d522",
   "metadata": {},
   "outputs": [],
   "source": [
    "classifier = SVC(kernel='rbf',gamma='auto').fit(X=mushroom_data.drop(['class'], axis=1).to_numpy(),\n",
    "                                                y=np.array(mushroom_data['class']))"
   ]
  },
  {
   "cell_type": "code",
   "execution_count": 7,
   "id": "8f4464a0-76bc-4a9b-a5bc-2a4957f35dc9",
   "metadata": {},
   "outputs": [],
   "source": [
    "predictions = classifier.predict(X=mushroom_data.drop(['class'], axis=1).to_numpy())"
   ]
  },
  {
   "cell_type": "code",
   "execution_count": 8,
   "id": "4d933ee4-2a17-437b-9e42-94ae5a38b503",
   "metadata": {},
   "outputs": [
    {
     "data": {
      "text/html": [
       "<div>\n",
       "<style scoped>\n",
       "    .dataframe tbody tr th:only-of-type {\n",
       "        vertical-align: middle;\n",
       "    }\n",
       "\n",
       "    .dataframe tbody tr th {\n",
       "        vertical-align: top;\n",
       "    }\n",
       "\n",
       "    .dataframe thead th {\n",
       "        text-align: right;\n",
       "    }\n",
       "</style>\n",
       "<table border=\"1\" class=\"dataframe\">\n",
       "  <thead>\n",
       "    <tr style=\"text-align: right;\">\n",
       "      <th></th>\n",
       "      <th>cap-diameter</th>\n",
       "      <th>cap-shape</th>\n",
       "      <th>gill-attachment</th>\n",
       "      <th>gill-color</th>\n",
       "      <th>stem-height</th>\n",
       "      <th>stem-width</th>\n",
       "      <th>stem-color</th>\n",
       "      <th>season</th>\n",
       "      <th>class</th>\n",
       "    </tr>\n",
       "  </thead>\n",
       "  <tbody>\n",
       "    <tr>\n",
       "      <th>0</th>\n",
       "      <td>520</td>\n",
       "      <td>6</td>\n",
       "      <td>5</td>\n",
       "      <td>8</td>\n",
       "      <td>0.863866</td>\n",
       "      <td>1073</td>\n",
       "      <td>11</td>\n",
       "      <td>0.943195</td>\n",
       "      <td>1</td>\n",
       "    </tr>\n",
       "    <tr>\n",
       "      <th>1</th>\n",
       "      <td>653</td>\n",
       "      <td>6</td>\n",
       "      <td>0</td>\n",
       "      <td>10</td>\n",
       "      <td>0.230356</td>\n",
       "      <td>1567</td>\n",
       "      <td>11</td>\n",
       "      <td>0.888450</td>\n",
       "      <td>0</td>\n",
       "    </tr>\n",
       "    <tr>\n",
       "      <th>2</th>\n",
       "      <td>384</td>\n",
       "      <td>2</td>\n",
       "      <td>6</td>\n",
       "      <td>7</td>\n",
       "      <td>1.248977</td>\n",
       "      <td>435</td>\n",
       "      <td>8</td>\n",
       "      <td>0.943195</td>\n",
       "      <td>1</td>\n",
       "    </tr>\n",
       "    <tr>\n",
       "      <th>3</th>\n",
       "      <td>282</td>\n",
       "      <td>6</td>\n",
       "      <td>0</td>\n",
       "      <td>5</td>\n",
       "      <td>0.179480</td>\n",
       "      <td>605</td>\n",
       "      <td>11</td>\n",
       "      <td>0.888450</td>\n",
       "      <td>0</td>\n",
       "    </tr>\n",
       "    <tr>\n",
       "      <th>4</th>\n",
       "      <td>107</td>\n",
       "      <td>6</td>\n",
       "      <td>0</td>\n",
       "      <td>10</td>\n",
       "      <td>0.290892</td>\n",
       "      <td>124</td>\n",
       "      <td>12</td>\n",
       "      <td>0.943195</td>\n",
       "      <td>0</td>\n",
       "    </tr>\n",
       "    <tr>\n",
       "      <th>...</th>\n",
       "      <td>...</td>\n",
       "      <td>...</td>\n",
       "      <td>...</td>\n",
       "      <td>...</td>\n",
       "      <td>...</td>\n",
       "      <td>...</td>\n",
       "      <td>...</td>\n",
       "      <td>...</td>\n",
       "      <td>...</td>\n",
       "    </tr>\n",
       "    <tr>\n",
       "      <th>43223</th>\n",
       "      <td>630</td>\n",
       "      <td>5</td>\n",
       "      <td>1</td>\n",
       "      <td>7</td>\n",
       "      <td>0.095070</td>\n",
       "      <td>668</td>\n",
       "      <td>1</td>\n",
       "      <td>0.943195</td>\n",
       "      <td>1</td>\n",
       "    </tr>\n",
       "    <tr>\n",
       "      <th>43224</th>\n",
       "      <td>549</td>\n",
       "      <td>2</td>\n",
       "      <td>6</td>\n",
       "      <td>11</td>\n",
       "      <td>0.365641</td>\n",
       "      <td>1955</td>\n",
       "      <td>12</td>\n",
       "      <td>0.943195</td>\n",
       "      <td>1</td>\n",
       "    </tr>\n",
       "    <tr>\n",
       "      <th>43225</th>\n",
       "      <td>416</td>\n",
       "      <td>6</td>\n",
       "      <td>0</td>\n",
       "      <td>1</td>\n",
       "      <td>0.358535</td>\n",
       "      <td>688</td>\n",
       "      <td>1</td>\n",
       "      <td>0.888450</td>\n",
       "      <td>0</td>\n",
       "    </tr>\n",
       "    <tr>\n",
       "      <th>43226</th>\n",
       "      <td>245</td>\n",
       "      <td>6</td>\n",
       "      <td>0</td>\n",
       "      <td>1</td>\n",
       "      <td>0.895698</td>\n",
       "      <td>492</td>\n",
       "      <td>1</td>\n",
       "      <td>0.943195</td>\n",
       "      <td>1</td>\n",
       "    </tr>\n",
       "    <tr>\n",
       "      <th>43227</th>\n",
       "      <td>483</td>\n",
       "      <td>2</td>\n",
       "      <td>5</td>\n",
       "      <td>11</td>\n",
       "      <td>0.048174</td>\n",
       "      <td>1487</td>\n",
       "      <td>10</td>\n",
       "      <td>0.943195</td>\n",
       "      <td>1</td>\n",
       "    </tr>\n",
       "  </tbody>\n",
       "</table>\n",
       "<p>43228 rows × 9 columns</p>\n",
       "</div>"
      ],
      "text/plain": [
       "       cap-diameter  cap-shape  gill-attachment  gill-color  stem-height  \\\n",
       "0               520          6                5           8     0.863866   \n",
       "1               653          6                0          10     0.230356   \n",
       "2               384          2                6           7     1.248977   \n",
       "3               282          6                0           5     0.179480   \n",
       "4               107          6                0          10     0.290892   \n",
       "...             ...        ...              ...         ...          ...   \n",
       "43223           630          5                1           7     0.095070   \n",
       "43224           549          2                6          11     0.365641   \n",
       "43225           416          6                0           1     0.358535   \n",
       "43226           245          6                0           1     0.895698   \n",
       "43227           483          2                5          11     0.048174   \n",
       "\n",
       "       stem-width  stem-color    season  class  \n",
       "0            1073          11  0.943195      1  \n",
       "1            1567          11  0.888450      0  \n",
       "2             435           8  0.943195      1  \n",
       "3             605          11  0.888450      0  \n",
       "4             124          12  0.943195      0  \n",
       "...           ...         ...       ...    ...  \n",
       "43223         668           1  0.943195      1  \n",
       "43224        1955          12  0.943195      1  \n",
       "43225         688           1  0.888450      0  \n",
       "43226         492           1  0.943195      1  \n",
       "43227        1487          10  0.943195      1  \n",
       "\n",
       "[43228 rows x 9 columns]"
      ]
     },
     "execution_count": 8,
     "metadata": {},
     "output_type": "execute_result"
    }
   ],
   "source": [
    "mushroom_data"
   ]
  },
  {
   "cell_type": "code",
   "execution_count": 9,
   "id": "42567e9e-1add-4fe6-8e80-6bf6180d6aa9",
   "metadata": {},
   "outputs": [
    {
     "name": "stdout",
     "output_type": "stream",
     "text": [
      "the precision of the svm without any supplementary treatment is : 0.9995372902031716\n"
     ]
    }
   ],
   "source": [
    "positives = 0\n",
    "true_positives = 0\n",
    "for i in range(n_samples):\n",
    "    if predictions[i] == 1:\n",
    "        positives += 1\n",
    "        if mushroom_data.loc[i,'class'] == 1:\n",
    "            true_positives += 1\n",
    "precision_svm = true_positives/positives\n",
    "print('the precision of the svm without any supplementary treatment is :', precision_svm)"
   ]
  },
  {
   "cell_type": "code",
   "execution_count": null,
   "id": "be18ec1e-3129-4875-977b-4a450e100205",
   "metadata": {},
   "outputs": [],
   "source": []
  },
  {
   "cell_type": "code",
   "execution_count": 11,
   "id": "c40dff1b-5aaa-40e4-a2b8-16f7887de4db",
   "metadata": {},
   "outputs": [
    {
     "name": "stdout",
     "output_type": "stream",
     "text": [
      "the test precision is :  0.6036142001710864\n"
     ]
    }
   ],
   "source": [
    "mushroom_test = pd.read_csv('mushroom.csv')\n",
    "list_to_keep = []\n",
    "for i in range(mushroom_test.shape[0]):\n",
    "    if i not in training_indexes:\n",
    "        list_to_keep.append(i)\n",
    "\n",
    "mushroom_test = mushroom_test.filter(items=list_to_keep,axis=0)\n",
    "predictions_test = classifier.predict(X=mushroom_test.drop(['class'], axis=1).to_numpy())\n",
    "mushroom_test = mushroom_test.reset_index(drop=True)\n",
    "\n",
    "positive_test = 0\n",
    "true_positive_test = 0\n",
    "for i in range(mushroom_test.shape[0]):\n",
    "    if predictions_test[i] == 1:\n",
    "        positive_test += 1\n",
    "        if mushroom_test.loc[i,'class'] == 1:\n",
    "            true_positive_test += 1\n",
    "print('the test precision is : ',true_positive_test/positive_test)"
   ]
  },
  {
   "cell_type": "code",
   "execution_count": null,
   "id": "e795aa5c-36d0-4e1a-afd7-81cef8a9e206",
   "metadata": {},
   "outputs": [],
   "source": []
  },
  {
   "cell_type": "code",
   "execution_count": null,
   "id": "b384fe6c-14d7-4bec-ab6e-46cf7ccc229d",
   "metadata": {},
   "outputs": [],
   "source": []
  },
  {
   "cell_type": "code",
   "execution_count": 12,
   "id": "15e471ac-e7e2-4f03-a54b-07d6c7af8a79",
   "metadata": {},
   "outputs": [],
   "source": [
    "#it clearly overfits quite a lot"
   ]
  },
  {
   "cell_type": "markdown",
   "id": "2c00b5cb-d0de-4072-bad6-5fd12a749dae",
   "metadata": {},
   "source": [
    "#### Now, let's try a fully labelled gmm"
   ]
  },
  {
   "cell_type": "code",
   "execution_count": 13,
   "id": "ad0702c9-b9cf-4041-9f4d-2092d8aa6ab0",
   "metadata": {},
   "outputs": [],
   "source": [
    "#we compute the \\hat{pi_i}\n",
    "number_of_positives = 0\n",
    "number_of_negatives = 0\n",
    "for i in range(n_samples):\n",
    "    if mushroom_data.loc[i,'class'] == 1:\n",
    "        number_of_positives += 1\n",
    "    else:\n",
    "        number_of_negatives += 1\n",
    "pi_0 = number_of_negatives\n",
    "pi_1 = number_of_positives\n",
    "#we now compute the estimated mean and estimated covariance for each group\n",
    "mean_0 = mushroom_data.groupby('class').mean().to_numpy()[0,:]\n",
    "mean_1 = mushroom_data.groupby('class').mean().to_numpy()[1,:]\n",
    "cov_0 = np.cov(mushroom_data[mushroom_data['class'] == 0].drop(['class'],axis=1).to_numpy(), rowvar=False)\n",
    "cov_1 = np.cov(mushroom_data[mushroom_data['class'] == 1].drop(['class'],axis=1).to_numpy(), rowvar=False)\n",
    "dict_mean = {'mean_0':mean_0, 'mean_1':mean_1}\n",
    "dict_cov = {'cov_0':cov_0, 'cov_1':cov_1}\n",
    "dict_pi = {'pi_0':pi_0, 'pi_1':pi_1}"
   ]
  },
  {
   "cell_type": "code",
   "execution_count": 14,
   "id": "f4c5e9d2-ca90-4d63-bd2d-5a25a9b04794",
   "metadata": {},
   "outputs": [],
   "source": [
    "y_hat = np.empty((n_samples,2))"
   ]
  },
  {
   "cell_type": "code",
   "execution_count": 15,
   "id": "b17cb91f-2d7d-43bc-ac58-a1e31f76e0d4",
   "metadata": {},
   "outputs": [],
   "source": [
    "#we now check for each point which category maximizes the likelihood\n",
    "for group in range(2):\n",
    "    for i in range(n_samples):\n",
    "        x_test = np.array(mushroom_data.loc[i,])[:8]\n",
    "        y_hat[i,group] = np.log(dict_pi['pi_{0}'.format(group)]) + multivariate_normal.logpdf(x=x_test,\n",
    "                                                                                              mean=dict_mean['mean_{0}'.format(group)],\n",
    "                                                                                              cov=dict_cov['cov_{0}'.format(group)])\n",
    "\n"
   ]
  },
  {
   "cell_type": "code",
   "execution_count": 16,
   "id": "5afade64-444c-429d-8db2-6fa8f059e2a5",
   "metadata": {},
   "outputs": [],
   "source": [
    "decision = np.empty(n_samples)"
   ]
  },
  {
   "cell_type": "code",
   "execution_count": 17,
   "id": "e9c0ab99-680f-45e2-a655-05fbe8d41cf8",
   "metadata": {},
   "outputs": [],
   "source": [
    "for i in range(n_samples):\n",
    "    if y_hat[i,1]>=y_hat[i,0]:\n",
    "        decision[i] = 1\n",
    "    else:\n",
    "        decision[i] = 0"
   ]
  },
  {
   "cell_type": "code",
   "execution_count": 18,
   "id": "6099c5e3-ef1a-49d7-8600-5a40c9500323",
   "metadata": {},
   "outputs": [
    {
     "name": "stdout",
     "output_type": "stream",
     "text": [
      "the precision is : 0.6700038505968425\n"
     ]
    }
   ],
   "source": [
    "positives = 0\n",
    "true_positives = 0\n",
    "for i in range(n_samples):\n",
    "    if decision[i] == 1:\n",
    "        positives += 1\n",
    "        if mushroom_data.loc[i,'class'] == 1:\n",
    "            true_positives += 1\n",
    "\n",
    "precision_gmm = true_positives/positives\n",
    "print('the precision is :', precision_gmm)"
   ]
  },
  {
   "cell_type": "markdown",
   "id": "6bffa87a-efd5-4a4d-8d3f-611c6e6aa9c2",
   "metadata": {},
   "source": [
    "So, the data is apparently separable by a svm but is not generated by a gaussian mixture model as the precisions worsens a lot if we try to fit a gmm on it. "
   ]
  }
 ],
 "metadata": {
  "kernelspec": {
   "display_name": "Python 3 (ipykernel)",
   "language": "python",
   "name": "python3"
  },
  "language_info": {
   "codemirror_mode": {
    "name": "ipython",
    "version": 3
   },
   "file_extension": ".py",
   "mimetype": "text/x-python",
   "name": "python",
   "nbconvert_exporter": "python",
   "pygments_lexer": "ipython3",
   "version": "3.12.3"
  }
 },
 "nbformat": 4,
 "nbformat_minor": 5
}
