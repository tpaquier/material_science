{
 "cells": [
  {
   "cell_type": "code",
   "execution_count": 1,
   "id": "595d77b3-cda0-49c6-8015-281437876e65",
   "metadata": {},
   "outputs": [],
   "source": [
    "import numpy as np\n",
    "import pandas as pd\n",
    "import matplotlib.pyplot as plt\n",
    "from scipy.stats import bernoulli\n",
    "from sklearn.cluster import KMeans\n",
    "from scipy.stats import multivariate_normal\n",
    "from sklearn.preprocessing import StandardScaler"
   ]
  },
  {
   "cell_type": "code",
   "execution_count": 2,
   "id": "5e06ec0d-7de6-4a3f-987e-0283303cf821",
   "metadata": {},
   "outputs": [],
   "source": [
    "mushroom_whole = pd.read_csv('mushroom.csv')"
   ]
  },
  {
   "cell_type": "code",
   "execution_count": 3,
   "id": "6efc8380-ab33-4d41-a563-863a920a7d27",
   "metadata": {},
   "outputs": [],
   "source": [
    "def update_cov(X,mean,weights,group):\n",
    "    \"\"\"a function to estimate the covariance with a new mean\n",
    "    Parameter\n",
    "    -------------------------------\n",
    "    X : array-like\n",
    "    the data with which we want to estimate the new covariance\n",
    "\n",
    "    mean : array-like\n",
    "    the new mean that doesn't correspond to the 'true mean'\n",
    "\n",
    "    weights : arrar-like \n",
    "    the matrix of weights of the whole data\n",
    "\n",
    "    group : int\n",
    "    the group in which we want to update\n",
    "    --------------------------------\n",
    "    \"\"\"\n",
    "    sum_of_mat = np.zeros((X.shape[1],X.shape[1]))\n",
    "    for i in range(X.shape[0]):\n",
    "        temporal_cov = weights[i,group]*np.matmul((X[i,:]-mean).reshape((X.shape[1],1)),\n",
    "                                                      (X[i,:]-mean).reshape((1,X.shape[1])))\n",
    "        sum_of_mat += temporal_cov\n",
    "    sum_of_weights = np.sum(weights[:,group])\n",
    "    weighted_sigma = sum_of_mat/sum_of_weights\n",
    "    return weighted_sigma"
   ]
  },
  {
   "cell_type": "code",
   "execution_count": 4,
   "id": "774c272b-8c53-4178-a5b5-d5c5654a9e9a",
   "metadata": {},
   "outputs": [],
   "source": [
    "mushroom_whole_class = mushroom_whole['class'].copy()\n",
    "mushroom_whole = StandardScaler().fit_transform(X=mushroom_whole.to_numpy()[:,:-1])\n",
    "mushroom_whole = pd.DataFrame(mushroom_whole)\n",
    "mushroom_whole['class'] = mushroom_whole_class\n",
    "mushroom_data = mushroom_whole.sample(frac=0.8)\n",
    "list_train = mushroom_data.index.copy()\n",
    "list_test = []\n",
    "for i in mushroom_whole.index:\n",
    "    if i not in list_train:\n",
    "        list_test.append(i)\n",
    "mushroom_test = mushroom_whole.filter(items=list_test, axis=0)\n",
    "mushroom_data = mushroom_data.reset_index(drop=True)\n",
    "mushroom_test = mushroom_test.reset_index(drop=True)\n",
    "n_samples = mushroom_data.shape[0]\n",
    "n_samples_test = mushroom_test.shape[0]"
   ]
  },
  {
   "cell_type": "code",
   "execution_count": 5,
   "id": "2710d40c-925b-45b3-82f9-7182cfb0e8bb",
   "metadata": {},
   "outputs": [],
   "source": [
    "mushroom_data['label'] = np.ones((n_samples))*99\n",
    "for i in range(n_samples):\n",
    "    random = bernoulli.rvs(p=3/4)\n",
    "    if mushroom_data.loc[i,'class'] == 1 and random == 0:\n",
    "        mushroom_data.loc[i,'label'] = 1"
   ]
  },
  {
   "cell_type": "code",
   "execution_count": 6,
   "id": "f585b6ee-43a6-40ce-ba0b-84fbae5d6b4e",
   "metadata": {},
   "outputs": [],
   "source": [
    "list_of_inertia = []\n",
    "for i in range(1,7):\n",
    "    list_of_inertia.append(KMeans(n_clusters=i).fit(X=mushroom_data.drop(['class','label'], axis=1).to_numpy()).inertia_)"
   ]
  },
  {
   "cell_type": "code",
   "execution_count": 7,
   "id": "62d62d22-4ef8-42c2-b01e-b940781fcf14",
   "metadata": {},
   "outputs": [
    {
     "data": {
      "text/plain": [
       "[<matplotlib.lines.Line2D at 0x7efdec3f3230>]"
      ]
     },
     "execution_count": 7,
     "metadata": {},
     "output_type": "execute_result"
    },
    {
     "data": {
      "image/png": "[encoded data removed]",
      "text/plain": [
       "<Figure size 640x480 with 1 Axes>"
      ]
     },
     "metadata": {},
     "output_type": "display_data"
    }
   ],
   "source": [
    "plt.plot(list_of_inertia)"
   ]
  },
  {
   "cell_type": "code",
   "execution_count": 8,
   "id": "d14b5a87-e801-4e76-bfa5-f2699d598c7e",
   "metadata": {},
   "outputs": [],
   "source": [
    "mushroom_data['cluster_lab'] = KMeans(n_clusters=3).fit(X=mushroom_data.drop(['class','label'], axis=1).to_numpy()).labels_"
   ]
  },
  {
   "cell_type": "code",
   "execution_count": 9,
   "id": "1ee953ae-d724-4959-b874-596472b9c7c9",
   "metadata": {},
   "outputs": [],
   "source": [
    "fit_cluster = KMeans(n_clusters=3).fit(X=mushroom_data.drop(['class','label'], axis=1).to_numpy())"
   ]
  },
  {
   "cell_type": "code",
   "execution_count": 10,
   "id": "38318c9f-c5e7-493b-a4cd-76ee6110798b",
   "metadata": {},
   "outputs": [
    {
     "data": {
      "text/plain": [
       "cluster_lab\n",
       "0    2094\n",
       "1    2430\n",
       "2    1420\n",
       "Name: label, dtype: int64"
      ]
     },
     "execution_count": 10,
     "metadata": {},
     "output_type": "execute_result"
    }
   ],
   "source": [
    "mushroom_data[mushroom_data['label']==1].groupby('cluster_lab').count()['label']"
   ]
  },
  {
   "cell_type": "code",
   "execution_count": 11,
   "id": "773bd370-d6c4-42aa-929e-4da0bb600826",
   "metadata": {},
   "outputs": [],
   "source": [
    "positive_cluster = np.where(np.array(mushroom_data[mushroom_data['label']==1].groupby('cluster_lab').count()['label']) == \n",
    "                            np.max(np.array(mushroom_data[mushroom_data['label']==1].groupby('cluster_lab').count()['label'])))[0][0]"
   ]
  },
  {
   "cell_type": "code",
   "execution_count": 12,
   "id": "7fd19795-f325-4d2e-b9c1-ebf2eeab0e96",
   "metadata": {},
   "outputs": [
    {
     "data": {
      "text/plain": [
       "1"
      ]
     },
     "execution_count": 12,
     "metadata": {},
     "output_type": "execute_result"
    }
   ],
   "source": [
    "positive_cluster"
   ]
  },
  {
   "cell_type": "code",
   "execution_count": 13,
   "id": "31f59ae9-760a-40e8-8094-2d6a402aa066",
   "metadata": {},
   "outputs": [],
   "source": [
    "negative_cluster=np.where(np.array(mushroom_data[mushroom_data['label']==1].groupby('cluster_lab').count()['label']) == \n",
    "                            np.min(np.array(mushroom_data[mushroom_data['label']==1].groupby('cluster_lab').count()['label'])))[0][0]"
   ]
  },
  {
   "cell_type": "code",
   "execution_count": 14,
   "id": "391fb4ab-1abd-4212-b20f-9d3762d2f146",
   "metadata": {},
   "outputs": [
    {
     "data": {
      "text/plain": [
       "2"
      ]
     },
     "execution_count": 14,
     "metadata": {},
     "output_type": "execute_result"
    }
   ],
   "source": [
    "negative_cluster"
   ]
  },
  {
   "cell_type": "code",
   "execution_count": 15,
   "id": "ec72c2f9-ac6f-48bf-856f-1b8222a03a2f",
   "metadata": {},
   "outputs": [],
   "source": [
    "positive_data = mushroom_data[mushroom_data['label'] == 1]\n",
    "reliable_negative = mushroom_data[mushroom_data['cluster_lab'] == negative_cluster]"
   ]
  },
  {
   "cell_type": "code",
   "execution_count": 18,
   "id": "b257c93a-9a29-44f6-9bbf-81cc1d092a04",
   "metadata": {},
   "outputs": [],
   "source": [
    "label_1 = positive_data.drop(['class','label','cluster_lab'], axis=1).to_numpy()\n",
    "label_0 = reliable_negative.drop(['class','label','cluster_lab'], axis=1).to_numpy()"
   ]
  },
  {
   "cell_type": "code",
   "execution_count": 19,
   "id": "03358b64-d12f-4cd6-bfe7-34e4ba07cadd",
   "metadata": {},
   "outputs": [],
   "source": [
    "mean_1 = np.mean(label_1,axis=0)\n",
    "mean_0 = np.mean(label_0, axis=0)"
   ]
  },
  {
   "cell_type": "code",
   "execution_count": 20,
   "id": "bbe50a9a-3198-47f8-b859-adbfefe0bf99",
   "metadata": {},
   "outputs": [],
   "source": [
    "cov_1 = np.cov(label_1, rowvar=False)\n",
    "cov_0 = np.cov(label_0, rowvar=False)"
   ]
  },
  {
   "cell_type": "code",
   "execution_count": 21,
   "id": "8aa88afd-c3a1-491b-a9e1-9655c0be96bf",
   "metadata": {},
   "outputs": [],
   "source": [
    "weights = np.zeros((n_samples,2))"
   ]
  },
  {
   "cell_type": "code",
   "execution_count": 23,
   "id": "10c05288-aa76-447d-9e36-5ef880729697",
   "metadata": {},
   "outputs": [],
   "source": [
    "for i in range(n_samples):\n",
    "    if mushroom_data.loc[i,'cluster_lab'] == negative_cluster:\n",
    "        mushroom_data.loc[i,'label'] = 0"
   ]
  },
  {
   "cell_type": "code",
   "execution_count": 24,
   "id": "a16fe270-7a04-4451-ac97-4b677e82d8c3",
   "metadata": {},
   "outputs": [],
   "source": [
    "for group in range(2):\n",
    "    for i in range(n_samples):\n",
    "        if mushroom_data.loc[i,'label'] == group:\n",
    "            weights[i,group] = 1"
   ]
  },
  {
   "cell_type": "code",
   "execution_count": 25,
   "id": "4d527748-e933-4c94-bb1b-15f1784fd486",
   "metadata": {},
   "outputs": [
    {
     "data": {
      "text/plain": [
       "array([11674.,  4524.])"
      ]
     },
     "execution_count": 25,
     "metadata": {},
     "output_type": "execute_result"
    }
   ],
   "source": [
    "np.sum(weights,axis=0)"
   ]
  },
  {
   "cell_type": "code",
   "execution_count": 26,
   "id": "8279c40c-0a70-429e-bc5d-f30c9dd68ea1",
   "metadata": {},
   "outputs": [],
   "source": [
    "pi_0 = 1/2\n",
    "pi_1 = 1/2"
   ]
  },
  {
   "cell_type": "code",
   "execution_count": 27,
   "id": "6524239f-dd83-484a-97bf-4b7932775ccc",
   "metadata": {},
   "outputs": [],
   "source": [
    "dict_pi = {'pi_0':pi_0,'pi_1':pi_1}"
   ]
  },
  {
   "cell_type": "code",
   "execution_count": 28,
   "id": "5c3c629d-4168-4bfb-88d1-098a7ff4b7ff",
   "metadata": {},
   "outputs": [],
   "source": [
    "dict_mean = {'mean_0':mean_0,'mean_1':mean_1}\n",
    "dict_cov = {'cov_0':cov_0,'cov_1':cov_1}"
   ]
  },
  {
   "cell_type": "code",
   "execution_count": 29,
   "id": "0f296bdf-84bf-4225-bf46-b27dc5cac87e",
   "metadata": {},
   "outputs": [],
   "source": [
    "data_gmm = mushroom_data.to_numpy()[:,:8]\n",
    "iterations = 10\n",
    "count = 0\n",
    "\n",
    "#to opti : put the weights to O/1 before so only one condition in the loop\n",
    "\n",
    "while count<=iterations:\n",
    "    count+=1\n",
    "    for group in range(2):\n",
    "        for i in range(n_samples):\n",
    "            if mushroom_data.loc[i,'label'] == 99:\n",
    "                x_test = data_gmm[i,:]\n",
    "                numerator = dict_pi['pi_{0}'.format(group)]*multivariate_normal.pdf(x=x_test,\n",
    "                                                                                    mean=dict_mean['mean_{0}'.format(group)],\n",
    "                                                                                    cov=dict_cov['cov_{0}'.format(group)],allow_singular=True)\n",
    "                denom = pi_0*multivariate_normal.pdf(x=x_test,mean=mean_0,cov=cov_0,allow_singular=True)+pi_1*multivariate_normal.pdf(x=x_test,mean=mean_1,cov=cov_1,allow_singular=True)\n",
    "                result = numerator/denom\n",
    "                weights[i,group] = result           \n",
    "            elif mushroom_data.loc[i,'label'] == group:\n",
    "                weights[i,group] = 1\n",
    "            else:\n",
    "                weights[i,group] = 0\n",
    "        sum_of_weights = np.sum(weights[:,group])\n",
    "        dict_pi['pi_{0}'.format(group)] = np.mean(weights[:,group])\n",
    "        dict_mean['mean_{0}'.format(group)] = np.sum((data_gmm*(weights[:,group].reshape(n_samples,1))),axis=0)/sum_of_weights\n",
    "        dict_cov['cov_{0}'.format(group)] = update_cov(X=data_gmm,group=group,\n",
    "                                                       mean=dict_mean['mean_{0}'.format(group)],weights=weights)           \n",
    "        "
   ]
  },
  {
   "cell_type": "code",
   "execution_count": 30,
   "id": "ff60e32a-b93a-491e-a865-c754323ed714",
   "metadata": {},
   "outputs": [
    {
     "name": "stdout",
     "output_type": "stream",
     "text": [
      "precision of gmm on training data is : 0.5761294630082981 \n",
      " recall of gmm on training data is :  0.7636647140629609 \n",
      " f_1 score of gmm on training data is : 0.6567721358413977 \n",
      " weird estim of gmm on training data is : 0.8015092077730026\n"
     ]
    }
   ],
   "source": [
    "for i in range(n_samples):\n",
    "    if weights[i,1] >= weights[i,0]:\n",
    "        mushroom_data.loc[i,'label'] = 1\n",
    "    else:\n",
    "        mushroom_data.loc[i,'label'] = 0\n",
    "\n",
    "positives = 0\n",
    "true_positives = 0 \n",
    "for i in range(n_samples):\n",
    "    if mushroom_data.loc[i,'label'] == 1:\n",
    "        positives += 1\n",
    "        if mushroom_data.loc[i,'class'] == 1:\n",
    "            true_positives += 1\n",
    "precision_train = true_positives/positives\n",
    "recall_train = true_positives/mushroom_data[mushroom_data['class'] == 1].shape[0]\n",
    "f_1_train = (2*precision_train*recall_train)/(precision_train+recall_train)\n",
    "weird_thing = (recall_train**2)/(positives/n_samples)\n",
    "\n",
    "print('precision of gmm on training data is :', precision_train, '\\n',\n",
    "      'recall of gmm on training data is : ', recall_train, '\\n', \n",
    "      'f_1 score of gmm on training data is :', f_1_train, '\\n', \n",
    "      'weird estim of gmm on training data is :', weird_thing)"
   ]
  },
  {
   "cell_type": "code",
   "execution_count": 31,
   "id": "35858db5-2901-4fdb-bfaf-2c41e990ad8f",
   "metadata": {},
   "outputs": [
    {
     "name": "stdout",
     "output_type": "stream",
     "text": [
      "the correct labeled points represent : 56.185805496437496\n"
     ]
    }
   ],
   "source": [
    "correct_label = 0\n",
    "for i in range(n_samples):\n",
    "    if mushroom_data.loc[i,'class'] == mushroom_data.loc[i,'label']:\n",
    "        correct_label += 1\n",
    "print('the correct labeled points represent :', (correct_label*100)/n_samples)"
   ]
  },
  {
   "cell_type": "markdown",
   "id": "32fb3773-6b55-4dcc-b6eb-61d3dab13168",
   "metadata": {},
   "source": [
    "#### The precision is still a bit approximative but I haven't tried a 'simple' SVM or GMM on the data fully labeled "
   ]
  },
  {
   "cell_type": "code",
   "execution_count": 35,
   "id": "6da0f15b-4d7b-42ae-8b52-3238713c1566",
   "metadata": {},
   "outputs": [],
   "source": [
    "weights_test = np.zeros((n_samples_test,2))\n",
    "data_test = mushroom_test.to_numpy()[:,:-1]\n",
    "count_test = 0\n",
    "iterations_test = 0\n",
    "while count_test<=iterations_test:\n",
    "    count_test+=1\n",
    "    for group in range(2):\n",
    "        for i in range(n_samples_test):\n",
    "            x_test = data_test[i,:]\n",
    "            numerator = dict_pi['pi_{0}'.format(group)]*multivariate_normal.pdf(x=x_test,\n",
    "                                                                                mean=dict_mean['mean_{0}'.format(group)],\n",
    "                                                                                cov=dict_cov['cov_{0}'.format(group)],allow_singular=True)\n",
    "            denom = pi_0*multivariate_normal.pdf(x=x_test,mean=mean_0,cov=cov_0,allow_singular=True)+pi_1*multivariate_normal.pdf(x=x_test,mean=mean_1,cov=cov_1,allow_singular=True)\n",
    "            result = numerator/denom\n",
    "            weights_test[i,group] = result \n"
   ]
  },
  {
   "cell_type": "code",
   "execution_count": 36,
   "id": "a8f4f974-92fd-42dd-bfe2-2033aeb35ed5",
   "metadata": {},
   "outputs": [
    {
     "name": "stdout",
     "output_type": "stream",
     "text": [
      "precision of gmm on the training set is :  0.5531431456702853 \n",
      " recall of gmm on the training set is :  0.7369660275815675 \n",
      " f_1 score of gmm on the training set is :  0.6319584655321604 \n",
      " weird metric of gmm on the training set is :  0.7409096479704251\n"
     ]
    }
   ],
   "source": [
    "predicted_labels = np.zeros(n_samples_test)\n",
    "for i in range(n_samples_test):\n",
    "    if weights_test[i,1]>=weights[i,0]:\n",
    "        predicted_labels[i] = 1\n",
    "    else:\n",
    "        predicted_labels[i] = 0\n",
    "\n",
    "positives_test = 0\n",
    "true_positives_test = 0\n",
    "for i in range(n_samples_test):\n",
    "    if predicted_labels[i] == 1:\n",
    "        positives_test += 1\n",
    "        if mushroom_test.loc[i,'class'] == 1:\n",
    "            true_positives_test += 1\n",
    "\n",
    "\n",
    "precision_test = true_positives_test/positives_test\n",
    "recall_test = true_positives_test/mushroom_test[mushroom_test['class'] == 1].shape[0]\n",
    "f_1_score_test = (2*precision_test*recall_test)/(precision_test+recall_test)\n",
    "weird_estim_test = (recall_test**2)/(positives_test/n_samples_test)\n",
    "print('precision of gmm on the training set is : ', precision_test, '\\n', \n",
    "      'recall of gmm on the training set is : ', recall_test, '\\n', \n",
    "      'f_1 score of gmm on the training set is : ', f_1_score_test, '\\n',\n",
    "      'weird metric of gmm on the training set is : ', weird_estim_test )\n"
   ]
  },
  {
   "cell_type": "code",
   "execution_count": null,
   "id": "1b9741f1-4361-4323-8665-78890573b727",
   "metadata": {},
   "outputs": [],
   "source": []
  }
 ],
 "metadata": {
  "kernelspec": {
   "display_name": "Python 3 (ipykernel)",
   "language": "python",
   "name": "python3"
  },
  "language_info": {
   "codemirror_mode": {
    "name": "ipython",
    "version": 3
   },
   "file_extension": ".py",
   "mimetype": "text/x-python",
   "name": "python",
   "nbconvert_exporter": "python",
   "pygments_lexer": "ipython3",
   "version": "3.12.4"
  }
 },
 "nbformat": 4,
 "nbformat_minor": 5
}
