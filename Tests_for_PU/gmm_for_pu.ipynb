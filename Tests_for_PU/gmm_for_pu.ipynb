{
 "cells": [
  {
   "cell_type": "code",
   "execution_count": 1,
   "id": "595d77b3-cda0-49c6-8015-281437876e65",
   "metadata": {},
   "outputs": [],
   "source": [
    "import numpy as np\n",
    "import pandas as pd\n",
    "import matplotlib.pyplot as plt\n",
    "from scipy.stats import bernoulli\n",
    "from sklearn.cluster import KMeans\n",
    "from scipy.stats import multivariate_normal"
   ]
  },
  {
   "cell_type": "code",
   "execution_count": 2,
   "id": "5e06ec0d-7de6-4a3f-987e-0283303cf821",
   "metadata": {},
   "outputs": [],
   "source": [
    "mushroom_data = pd.read_csv('mushroom.csv')"
   ]
  },
  {
   "cell_type": "code",
   "execution_count": 3,
   "id": "6efc8380-ab33-4d41-a563-863a920a7d27",
   "metadata": {},
   "outputs": [],
   "source": [
    "def update_cov(X,mean,weights,group):\n",
    "    \"\"\"a function to estimate the covariance with a new mean\n",
    "    Parameter\n",
    "    -------------------------------\n",
    "    X : array-like\n",
    "    the data with which we want to estimate the new covariance\n",
    "\n",
    "    mean : array-like\n",
    "    the new mean that doesn't correspond to the 'true mean'\n",
    "\n",
    "    weights : arrar-like \n",
    "    the matrix of weights of the whole data\n",
    "\n",
    "    group : int\n",
    "    the group in which we want to update\n",
    "    --------------------------------\n",
    "    \"\"\"\n",
    "    sum_of_mat = np.zeros((X.shape[1],X.shape[1]))\n",
    "    for i in range(X.shape[0]):\n",
    "        temporal_cov = weights[i,group]*np.matmul((X[i,:]-mean).reshape((X.shape[1],1)),\n",
    "                                                      (X[i,:]-mean).reshape((1,X.shape[1])))\n",
    "        sum_of_mat += temporal_cov\n",
    "    sum_of_weights = np.sum(weights[:,group])\n",
    "    weighted_sigma = sum_of_mat/sum_of_weights\n",
    "    return weighted_sigma"
   ]
  },
  {
   "cell_type": "code",
   "execution_count": 4,
   "id": "b230b64a-dc2d-4893-995f-9b6f1d9349ac",
   "metadata": {},
   "outputs": [
    {
     "data": {
      "text/html": [
       "<div>\n",
       "<style scoped>\n",
       "    .dataframe tbody tr th:only-of-type {\n",
       "        vertical-align: middle;\n",
       "    }\n",
       "\n",
       "    .dataframe tbody tr th {\n",
       "        vertical-align: top;\n",
       "    }\n",
       "\n",
       "    .dataframe thead th {\n",
       "        text-align: right;\n",
       "    }\n",
       "</style>\n",
       "<table border=\"1\" class=\"dataframe\">\n",
       "  <thead>\n",
       "    <tr style=\"text-align: right;\">\n",
       "      <th></th>\n",
       "      <th>cap-diameter</th>\n",
       "      <th>cap-shape</th>\n",
       "      <th>gill-attachment</th>\n",
       "      <th>gill-color</th>\n",
       "      <th>stem-height</th>\n",
       "      <th>stem-width</th>\n",
       "      <th>stem-color</th>\n",
       "      <th>season</th>\n",
       "      <th>class</th>\n",
       "    </tr>\n",
       "  </thead>\n",
       "  <tbody>\n",
       "    <tr>\n",
       "      <th>0</th>\n",
       "      <td>1372</td>\n",
       "      <td>2</td>\n",
       "      <td>2</td>\n",
       "      <td>10</td>\n",
       "      <td>3.807467</td>\n",
       "      <td>1545</td>\n",
       "      <td>11</td>\n",
       "      <td>1.804273</td>\n",
       "      <td>1</td>\n",
       "    </tr>\n",
       "    <tr>\n",
       "      <th>1</th>\n",
       "      <td>1461</td>\n",
       "      <td>2</td>\n",
       "      <td>2</td>\n",
       "      <td>10</td>\n",
       "      <td>3.807467</td>\n",
       "      <td>1557</td>\n",
       "      <td>11</td>\n",
       "      <td>1.804273</td>\n",
       "      <td>1</td>\n",
       "    </tr>\n",
       "    <tr>\n",
       "      <th>2</th>\n",
       "      <td>1371</td>\n",
       "      <td>2</td>\n",
       "      <td>2</td>\n",
       "      <td>10</td>\n",
       "      <td>3.612496</td>\n",
       "      <td>1566</td>\n",
       "      <td>11</td>\n",
       "      <td>1.804273</td>\n",
       "      <td>1</td>\n",
       "    </tr>\n",
       "    <tr>\n",
       "      <th>3</th>\n",
       "      <td>1261</td>\n",
       "      <td>6</td>\n",
       "      <td>2</td>\n",
       "      <td>10</td>\n",
       "      <td>3.787572</td>\n",
       "      <td>1566</td>\n",
       "      <td>11</td>\n",
       "      <td>1.804273</td>\n",
       "      <td>1</td>\n",
       "    </tr>\n",
       "    <tr>\n",
       "      <th>4</th>\n",
       "      <td>1305</td>\n",
       "      <td>6</td>\n",
       "      <td>2</td>\n",
       "      <td>10</td>\n",
       "      <td>3.711971</td>\n",
       "      <td>1464</td>\n",
       "      <td>11</td>\n",
       "      <td>0.943195</td>\n",
       "      <td>1</td>\n",
       "    </tr>\n",
       "    <tr>\n",
       "      <th>...</th>\n",
       "      <td>...</td>\n",
       "      <td>...</td>\n",
       "      <td>...</td>\n",
       "      <td>...</td>\n",
       "      <td>...</td>\n",
       "      <td>...</td>\n",
       "      <td>...</td>\n",
       "      <td>...</td>\n",
       "      <td>...</td>\n",
       "    </tr>\n",
       "    <tr>\n",
       "      <th>54030</th>\n",
       "      <td>73</td>\n",
       "      <td>5</td>\n",
       "      <td>3</td>\n",
       "      <td>2</td>\n",
       "      <td>0.887740</td>\n",
       "      <td>569</td>\n",
       "      <td>12</td>\n",
       "      <td>0.943195</td>\n",
       "      <td>1</td>\n",
       "    </tr>\n",
       "    <tr>\n",
       "      <th>54031</th>\n",
       "      <td>82</td>\n",
       "      <td>2</td>\n",
       "      <td>3</td>\n",
       "      <td>2</td>\n",
       "      <td>1.186164</td>\n",
       "      <td>490</td>\n",
       "      <td>12</td>\n",
       "      <td>0.943195</td>\n",
       "      <td>1</td>\n",
       "    </tr>\n",
       "    <tr>\n",
       "      <th>54032</th>\n",
       "      <td>82</td>\n",
       "      <td>5</td>\n",
       "      <td>3</td>\n",
       "      <td>2</td>\n",
       "      <td>0.915593</td>\n",
       "      <td>584</td>\n",
       "      <td>12</td>\n",
       "      <td>0.888450</td>\n",
       "      <td>1</td>\n",
       "    </tr>\n",
       "    <tr>\n",
       "      <th>54033</th>\n",
       "      <td>79</td>\n",
       "      <td>2</td>\n",
       "      <td>3</td>\n",
       "      <td>2</td>\n",
       "      <td>1.034963</td>\n",
       "      <td>491</td>\n",
       "      <td>12</td>\n",
       "      <td>0.888450</td>\n",
       "      <td>1</td>\n",
       "    </tr>\n",
       "    <tr>\n",
       "      <th>54034</th>\n",
       "      <td>72</td>\n",
       "      <td>5</td>\n",
       "      <td>3</td>\n",
       "      <td>2</td>\n",
       "      <td>1.158311</td>\n",
       "      <td>492</td>\n",
       "      <td>12</td>\n",
       "      <td>0.888450</td>\n",
       "      <td>1</td>\n",
       "    </tr>\n",
       "  </tbody>\n",
       "</table>\n",
       "<p>54035 rows × 9 columns</p>\n",
       "</div>"
      ],
      "text/plain": [
       "       cap-diameter  cap-shape  gill-attachment  gill-color  stem-height  \\\n",
       "0              1372          2                2          10     3.807467   \n",
       "1              1461          2                2          10     3.807467   \n",
       "2              1371          2                2          10     3.612496   \n",
       "3              1261          6                2          10     3.787572   \n",
       "4              1305          6                2          10     3.711971   \n",
       "...             ...        ...              ...         ...          ...   \n",
       "54030            73          5                3           2     0.887740   \n",
       "54031            82          2                3           2     1.186164   \n",
       "54032            82          5                3           2     0.915593   \n",
       "54033            79          2                3           2     1.034963   \n",
       "54034            72          5                3           2     1.158311   \n",
       "\n",
       "       stem-width  stem-color    season  class  \n",
       "0            1545          11  1.804273      1  \n",
       "1            1557          11  1.804273      1  \n",
       "2            1566          11  1.804273      1  \n",
       "3            1566          11  1.804273      1  \n",
       "4            1464          11  0.943195      1  \n",
       "...           ...         ...       ...    ...  \n",
       "54030         569          12  0.943195      1  \n",
       "54031         490          12  0.943195      1  \n",
       "54032         584          12  0.888450      1  \n",
       "54033         491          12  0.888450      1  \n",
       "54034         492          12  0.888450      1  \n",
       "\n",
       "[54035 rows x 9 columns]"
      ]
     },
     "execution_count": 4,
     "metadata": {},
     "output_type": "execute_result"
    }
   ],
   "source": [
    "mushroom_data"
   ]
  },
  {
   "cell_type": "code",
   "execution_count": 5,
   "id": "774c272b-8c53-4178-a5b5-d5c5654a9e9a",
   "metadata": {},
   "outputs": [],
   "source": [
    "n_samples = mushroom_data.shape[0]"
   ]
  },
  {
   "cell_type": "code",
   "execution_count": 6,
   "id": "2710d40c-925b-45b3-82f9-7182cfb0e8bb",
   "metadata": {},
   "outputs": [],
   "source": [
    "mushroom_data['label'] = np.zeros((n_samples))\n",
    "for i in range(n_samples):\n",
    "    random = bernoulli.rvs(p=3/4)\n",
    "    if mushroom_data.loc[i,'class'] == 1 and random == 0:\n",
    "        mushroom_data.loc[i,'label'] = 1\n",
    "    else:\n",
    "        mushroom_data.loc[i,'label'] = 99"
   ]
  },
  {
   "cell_type": "code",
   "execution_count": 7,
   "id": "aca4c3fd-1f8a-4d4d-a05d-7e2790f7604b",
   "metadata": {},
   "outputs": [
    {
     "data": {
      "text/html": [
       "<div>\n",
       "<style scoped>\n",
       "    .dataframe tbody tr th:only-of-type {\n",
       "        vertical-align: middle;\n",
       "    }\n",
       "\n",
       "    .dataframe tbody tr th {\n",
       "        vertical-align: top;\n",
       "    }\n",
       "\n",
       "    .dataframe thead th {\n",
       "        text-align: right;\n",
       "    }\n",
       "</style>\n",
       "<table border=\"1\" class=\"dataframe\">\n",
       "  <thead>\n",
       "    <tr style=\"text-align: right;\">\n",
       "      <th></th>\n",
       "      <th>cap-diameter</th>\n",
       "      <th>cap-shape</th>\n",
       "      <th>gill-attachment</th>\n",
       "      <th>gill-color</th>\n",
       "      <th>stem-height</th>\n",
       "      <th>stem-width</th>\n",
       "      <th>stem-color</th>\n",
       "      <th>season</th>\n",
       "      <th>class</th>\n",
       "      <th>label</th>\n",
       "    </tr>\n",
       "  </thead>\n",
       "  <tbody>\n",
       "    <tr>\n",
       "      <th>0</th>\n",
       "      <td>1372</td>\n",
       "      <td>2</td>\n",
       "      <td>2</td>\n",
       "      <td>10</td>\n",
       "      <td>3.807467</td>\n",
       "      <td>1545</td>\n",
       "      <td>11</td>\n",
       "      <td>1.804273</td>\n",
       "      <td>1</td>\n",
       "      <td>99.0</td>\n",
       "    </tr>\n",
       "    <tr>\n",
       "      <th>1</th>\n",
       "      <td>1461</td>\n",
       "      <td>2</td>\n",
       "      <td>2</td>\n",
       "      <td>10</td>\n",
       "      <td>3.807467</td>\n",
       "      <td>1557</td>\n",
       "      <td>11</td>\n",
       "      <td>1.804273</td>\n",
       "      <td>1</td>\n",
       "      <td>99.0</td>\n",
       "    </tr>\n",
       "    <tr>\n",
       "      <th>2</th>\n",
       "      <td>1371</td>\n",
       "      <td>2</td>\n",
       "      <td>2</td>\n",
       "      <td>10</td>\n",
       "      <td>3.612496</td>\n",
       "      <td>1566</td>\n",
       "      <td>11</td>\n",
       "      <td>1.804273</td>\n",
       "      <td>1</td>\n",
       "      <td>1.0</td>\n",
       "    </tr>\n",
       "    <tr>\n",
       "      <th>3</th>\n",
       "      <td>1261</td>\n",
       "      <td>6</td>\n",
       "      <td>2</td>\n",
       "      <td>10</td>\n",
       "      <td>3.787572</td>\n",
       "      <td>1566</td>\n",
       "      <td>11</td>\n",
       "      <td>1.804273</td>\n",
       "      <td>1</td>\n",
       "      <td>99.0</td>\n",
       "    </tr>\n",
       "    <tr>\n",
       "      <th>4</th>\n",
       "      <td>1305</td>\n",
       "      <td>6</td>\n",
       "      <td>2</td>\n",
       "      <td>10</td>\n",
       "      <td>3.711971</td>\n",
       "      <td>1464</td>\n",
       "      <td>11</td>\n",
       "      <td>0.943195</td>\n",
       "      <td>1</td>\n",
       "      <td>99.0</td>\n",
       "    </tr>\n",
       "    <tr>\n",
       "      <th>...</th>\n",
       "      <td>...</td>\n",
       "      <td>...</td>\n",
       "      <td>...</td>\n",
       "      <td>...</td>\n",
       "      <td>...</td>\n",
       "      <td>...</td>\n",
       "      <td>...</td>\n",
       "      <td>...</td>\n",
       "      <td>...</td>\n",
       "      <td>...</td>\n",
       "    </tr>\n",
       "    <tr>\n",
       "      <th>54030</th>\n",
       "      <td>73</td>\n",
       "      <td>5</td>\n",
       "      <td>3</td>\n",
       "      <td>2</td>\n",
       "      <td>0.887740</td>\n",
       "      <td>569</td>\n",
       "      <td>12</td>\n",
       "      <td>0.943195</td>\n",
       "      <td>1</td>\n",
       "      <td>1.0</td>\n",
       "    </tr>\n",
       "    <tr>\n",
       "      <th>54031</th>\n",
       "      <td>82</td>\n",
       "      <td>2</td>\n",
       "      <td>3</td>\n",
       "      <td>2</td>\n",
       "      <td>1.186164</td>\n",
       "      <td>490</td>\n",
       "      <td>12</td>\n",
       "      <td>0.943195</td>\n",
       "      <td>1</td>\n",
       "      <td>99.0</td>\n",
       "    </tr>\n",
       "    <tr>\n",
       "      <th>54032</th>\n",
       "      <td>82</td>\n",
       "      <td>5</td>\n",
       "      <td>3</td>\n",
       "      <td>2</td>\n",
       "      <td>0.915593</td>\n",
       "      <td>584</td>\n",
       "      <td>12</td>\n",
       "      <td>0.888450</td>\n",
       "      <td>1</td>\n",
       "      <td>99.0</td>\n",
       "    </tr>\n",
       "    <tr>\n",
       "      <th>54033</th>\n",
       "      <td>79</td>\n",
       "      <td>2</td>\n",
       "      <td>3</td>\n",
       "      <td>2</td>\n",
       "      <td>1.034963</td>\n",
       "      <td>491</td>\n",
       "      <td>12</td>\n",
       "      <td>0.888450</td>\n",
       "      <td>1</td>\n",
       "      <td>99.0</td>\n",
       "    </tr>\n",
       "    <tr>\n",
       "      <th>54034</th>\n",
       "      <td>72</td>\n",
       "      <td>5</td>\n",
       "      <td>3</td>\n",
       "      <td>2</td>\n",
       "      <td>1.158311</td>\n",
       "      <td>492</td>\n",
       "      <td>12</td>\n",
       "      <td>0.888450</td>\n",
       "      <td>1</td>\n",
       "      <td>1.0</td>\n",
       "    </tr>\n",
       "  </tbody>\n",
       "</table>\n",
       "<p>54035 rows × 10 columns</p>\n",
       "</div>"
      ],
      "text/plain": [
       "       cap-diameter  cap-shape  gill-attachment  gill-color  stem-height  \\\n",
       "0              1372          2                2          10     3.807467   \n",
       "1              1461          2                2          10     3.807467   \n",
       "2              1371          2                2          10     3.612496   \n",
       "3              1261          6                2          10     3.787572   \n",
       "4              1305          6                2          10     3.711971   \n",
       "...             ...        ...              ...         ...          ...   \n",
       "54030            73          5                3           2     0.887740   \n",
       "54031            82          2                3           2     1.186164   \n",
       "54032            82          5                3           2     0.915593   \n",
       "54033            79          2                3           2     1.034963   \n",
       "54034            72          5                3           2     1.158311   \n",
       "\n",
       "       stem-width  stem-color    season  class  label  \n",
       "0            1545          11  1.804273      1   99.0  \n",
       "1            1557          11  1.804273      1   99.0  \n",
       "2            1566          11  1.804273      1    1.0  \n",
       "3            1566          11  1.804273      1   99.0  \n",
       "4            1464          11  0.943195      1   99.0  \n",
       "...           ...         ...       ...    ...    ...  \n",
       "54030         569          12  0.943195      1    1.0  \n",
       "54031         490          12  0.943195      1   99.0  \n",
       "54032         584          12  0.888450      1   99.0  \n",
       "54033         491          12  0.888450      1   99.0  \n",
       "54034         492          12  0.888450      1    1.0  \n",
       "\n",
       "[54035 rows x 10 columns]"
      ]
     },
     "execution_count": 7,
     "metadata": {},
     "output_type": "execute_result"
    }
   ],
   "source": [
    "mushroom_data"
   ]
  },
  {
   "cell_type": "code",
   "execution_count": 8,
   "id": "f585b6ee-43a6-40ce-ba0b-84fbae5d6b4e",
   "metadata": {},
   "outputs": [],
   "source": [
    "list_of_inertia = []\n",
    "for i in range(1,7):\n",
    "    list_of_inertia.append(KMeans(n_clusters=i).fit(X=mushroom_data.drop(['class','label'], axis=1).to_numpy()).inertia_)"
   ]
  },
  {
   "cell_type": "code",
   "execution_count": 9,
   "id": "62d62d22-4ef8-42c2-b01e-b940781fcf14",
   "metadata": {},
   "outputs": [
    {
     "data": {
      "text/plain": [
       "[<matplotlib.lines.Line2D at 0x7f216e74e480>]"
      ]
     },
     "execution_count": 9,
     "metadata": {},
     "output_type": "execute_result"
    },
    {
     "data": {
      "image/png": "[encoded data removed]",
      "text/plain": [
       "<Figure size 640x480 with 1 Axes>"
      ]
     },
     "metadata": {},
     "output_type": "display_data"
    }
   ],
   "source": [
    "plt.plot(list_of_inertia)"
   ]
  },
  {
   "cell_type": "code",
   "execution_count": 10,
   "id": "d14b5a87-e801-4e76-bfa5-f2699d598c7e",
   "metadata": {},
   "outputs": [],
   "source": [
    "mushroom_data['cluster_lab'] = KMeans(n_clusters=3).fit(X=mushroom_data.drop(['class','label'], axis=1).to_numpy()).labels_"
   ]
  },
  {
   "cell_type": "code",
   "execution_count": 11,
   "id": "1ee953ae-d724-4959-b874-596472b9c7c9",
   "metadata": {},
   "outputs": [],
   "source": [
    "fit_cluster = KMeans(n_clusters=3).fit(X=mushroom_data.drop(['class','label'], axis=1).to_numpy())"
   ]
  },
  {
   "cell_type": "code",
   "execution_count": 12,
   "id": "38318c9f-c5e7-493b-a4cd-76ee6110798b",
   "metadata": {},
   "outputs": [
    {
     "data": {
      "text/plain": [
       "cluster_lab\n",
       "0    4159\n",
       "1     774\n",
       "2    2334\n",
       "Name: label, dtype: int64"
      ]
     },
     "execution_count": 12,
     "metadata": {},
     "output_type": "execute_result"
    }
   ],
   "source": [
    "mushroom_data[mushroom_data['label']==1].groupby('cluster_lab').count()['label']"
   ]
  },
  {
   "cell_type": "code",
   "execution_count": 13,
   "id": "773bd370-d6c4-42aa-929e-4da0bb600826",
   "metadata": {},
   "outputs": [],
   "source": [
    "positive_cluster = np.where(np.array(mushroom_data[mushroom_data['label']==1].groupby('cluster_lab').count()['label']) == \n",
    "                            np.max(np.array(mushroom_data[mushroom_data['label']==1].groupby('cluster_lab').count()['label'])))[0][0]"
   ]
  },
  {
   "cell_type": "code",
   "execution_count": 14,
   "id": "31f59ae9-760a-40e8-8094-2d6a402aa066",
   "metadata": {},
   "outputs": [],
   "source": [
    "distances = np.ones((3))\n",
    "for i in range(3):\n",
    "    distances[i] = np.linalg.norm(fit_cluster.cluster_centers_[1,:]-fit_cluster.cluster_centers_[i,:])\n",
    "negative_cluster = np.where(distances == np.max(distances))[0][0]"
   ]
  },
  {
   "cell_type": "code",
   "execution_count": 15,
   "id": "ec72c2f9-ac6f-48bf-856f-1b8222a03a2f",
   "metadata": {},
   "outputs": [],
   "source": [
    "positive_data = mushroom_data[mushroom_data['label'] == 1]\n",
    "reliable_negative = mushroom_data[mushroom_data['cluster_lab'] == negative_cluster]"
   ]
  },
  {
   "cell_type": "code",
   "execution_count": 16,
   "id": "b257c93a-9a29-44f6-9bbf-81cc1d092a04",
   "metadata": {},
   "outputs": [],
   "source": [
    "label_1 = positive_data.drop(['class','label','cluster_lab'], axis=1).to_numpy()\n",
    "label_0 = reliable_negative.drop(['class','label','cluster_lab'], axis=1).to_numpy()"
   ]
  },
  {
   "cell_type": "code",
   "execution_count": 58,
   "id": "03358b64-d12f-4cd6-bfe7-34e4ba07cadd",
   "metadata": {},
   "outputs": [],
   "source": [
    "mean_1 = np.mean(label_1,axis=0)\n",
    "mean_0 = np.mean(label_0, axis=0)"
   ]
  },
  {
   "cell_type": "code",
   "execution_count": 59,
   "id": "bbe50a9a-3198-47f8-b859-adbfefe0bf99",
   "metadata": {},
   "outputs": [],
   "source": [
    "cov_1 = np.cov(label_1, rowvar=False)\n",
    "cov_0 = np.cov(label_0, rowvar=False)"
   ]
  },
  {
   "cell_type": "code",
   "execution_count": 60,
   "id": "8aa88afd-c3a1-491b-a9e1-9655c0be96bf",
   "metadata": {},
   "outputs": [],
   "source": [
    "weights = np.zeros((n_samples,2))"
   ]
  },
  {
   "cell_type": "code",
   "execution_count": 61,
   "id": "963752fb-d016-4aa9-86e6-2d8de7a2c159",
   "metadata": {},
   "outputs": [
    {
     "data": {
      "text/plain": [
       "array([[0., 0.],\n",
       "       [0., 0.],\n",
       "       [0., 0.],\n",
       "       ...,\n",
       "       [0., 0.],\n",
       "       [0., 0.],\n",
       "       [0., 0.]])"
      ]
     },
     "execution_count": 61,
     "metadata": {},
     "output_type": "execute_result"
    }
   ],
   "source": [
    "weights"
   ]
  },
  {
   "cell_type": "code",
   "execution_count": 62,
   "id": "10c05288-aa76-447d-9e36-5ef880729697",
   "metadata": {},
   "outputs": [],
   "source": [
    "for i in range(n_samples):\n",
    "    if mushroom_data.loc[i,'cluster_lab'] == negative_cluster:\n",
    "        mushroom_data.loc[i,'label'] = 0"
   ]
  },
  {
   "cell_type": "code",
   "execution_count": 63,
   "id": "8279c40c-0a70-429e-bc5d-f30c9dd68ea1",
   "metadata": {},
   "outputs": [],
   "source": [
    "pi_0 = 1/2\n",
    "pi_1 = 1/2"
   ]
  },
  {
   "cell_type": "code",
   "execution_count": 64,
   "id": "6524239f-dd83-484a-97bf-4b7932775ccc",
   "metadata": {},
   "outputs": [],
   "source": [
    "dict_pi = {'pi_0':pi_0,'pi_1':pi_1}"
   ]
  },
  {
   "cell_type": "code",
   "execution_count": 65,
   "id": "5c3c629d-4168-4bfb-88d1-098a7ff4b7ff",
   "metadata": {},
   "outputs": [],
   "source": [
    "dict_mean = {'mean_0':mean_0,'mean_1':mean_1}\n",
    "dict_cov = {'cov_0':cov_0,'cov_1':cov_1}"
   ]
  },
  {
   "cell_type": "code",
   "execution_count": 66,
   "id": "0f296bdf-84bf-4225-bf46-b27dc5cac87e",
   "metadata": {},
   "outputs": [
    {
     "name": "stderr",
     "output_type": "stream",
     "text": [
      "/tmp/ipykernel_4464/1789460998.py:13: RuntimeWarning: overflow encountered in scalar multiply\n",
      "  numerator = dict_pi['pi_{0}'.format(group)]*multivariate_normal.pdf(x=x_test,\n",
      "/tmp/ipykernel_4464/1789460998.py:25: RuntimeWarning: invalid value encountered in divide\n",
      "  dict_mean['mean_{0}'.format(group)] = np.sum((data_gmm*(weights[:,group].reshape(n_samples,1))),axis=0)/sum_of_weights\n"
     ]
    },
    {
     "ename": "ValueError",
     "evalue": "array must not contain infs or NaNs",
     "output_type": "error",
     "traceback": [
      "\u001b[0;31m---------------------------------------------------------------------------\u001b[0m",
      "\u001b[0;31mValueError\u001b[0m                                Traceback (most recent call last)",
      "Cell \u001b[0;32mIn[66], line 13\u001b[0m\n\u001b[1;32m     11\u001b[0m \u001b[38;5;28;01mif\u001b[39;00m mushroom_data\u001b[38;5;241m.\u001b[39mloc[i,\u001b[38;5;124m'\u001b[39m\u001b[38;5;124mlabel\u001b[39m\u001b[38;5;124m'\u001b[39m] \u001b[38;5;241m==\u001b[39m \u001b[38;5;241m99\u001b[39m:\n\u001b[1;32m     12\u001b[0m     x_test \u001b[38;5;241m=\u001b[39m data_gmm[i,:]\n\u001b[0;32m---> 13\u001b[0m     numerator \u001b[38;5;241m=\u001b[39m dict_pi[\u001b[38;5;124m'\u001b[39m\u001b[38;5;124mpi_\u001b[39m\u001b[38;5;132;01m{0}\u001b[39;00m\u001b[38;5;124m'\u001b[39m\u001b[38;5;241m.\u001b[39mformat(group)]\u001b[38;5;241m*\u001b[39m\u001b[43mmultivariate_normal\u001b[49m\u001b[38;5;241;43m.\u001b[39;49m\u001b[43mpdf\u001b[49m\u001b[43m(\u001b[49m\u001b[43mx\u001b[49m\u001b[38;5;241;43m=\u001b[39;49m\u001b[43mx_test\u001b[49m\u001b[43m,\u001b[49m\n\u001b[1;32m     14\u001b[0m \u001b[43m                                                                        \u001b[49m\u001b[43mmean\u001b[49m\u001b[38;5;241;43m=\u001b[39;49m\u001b[43mdict_mean\u001b[49m\u001b[43m[\u001b[49m\u001b[38;5;124;43m'\u001b[39;49m\u001b[38;5;124;43mmean_\u001b[39;49m\u001b[38;5;132;43;01m{0}\u001b[39;49;00m\u001b[38;5;124;43m'\u001b[39;49m\u001b[38;5;241;43m.\u001b[39;49m\u001b[43mformat\u001b[49m\u001b[43m(\u001b[49m\u001b[43mgroup\u001b[49m\u001b[43m)\u001b[49m\u001b[43m]\u001b[49m\u001b[43m,\u001b[49m\n\u001b[1;32m     15\u001b[0m \u001b[43m                                                                        \u001b[49m\u001b[43mcov\u001b[49m\u001b[38;5;241;43m=\u001b[39;49m\u001b[43mdict_cov\u001b[49m\u001b[43m[\u001b[49m\u001b[38;5;124;43m'\u001b[39;49m\u001b[38;5;124;43mcov_\u001b[39;49m\u001b[38;5;132;43;01m{0}\u001b[39;49;00m\u001b[38;5;124;43m'\u001b[39;49m\u001b[38;5;241;43m.\u001b[39;49m\u001b[43mformat\u001b[49m\u001b[43m(\u001b[49m\u001b[43mgroup\u001b[49m\u001b[43m)\u001b[49m\u001b[43m]\u001b[49m\u001b[43m,\u001b[49m\u001b[43mallow_singular\u001b[49m\u001b[38;5;241;43m=\u001b[39;49m\u001b[38;5;28;43;01mTrue\u001b[39;49;00m\u001b[43m)\u001b[49m\n\u001b[1;32m     16\u001b[0m     denom \u001b[38;5;241m=\u001b[39m pi_0\u001b[38;5;241m*\u001b[39mmultivariate_normal\u001b[38;5;241m.\u001b[39mpdf(x\u001b[38;5;241m=\u001b[39mx_test,mean\u001b[38;5;241m=\u001b[39mmean_0,cov\u001b[38;5;241m=\u001b[39mcov_0,allow_singular\u001b[38;5;241m=\u001b[39m\u001b[38;5;28;01mTrue\u001b[39;00m)\u001b[38;5;241m+\u001b[39mpi_1\u001b[38;5;241m*\u001b[39mmultivariate_normal\u001b[38;5;241m.\u001b[39mpdf(x\u001b[38;5;241m=\u001b[39mx_test,mean\u001b[38;5;241m=\u001b[39mmean_1,cov\u001b[38;5;241m=\u001b[39mcov_1,allow_singular\u001b[38;5;241m=\u001b[39m\u001b[38;5;28;01mTrue\u001b[39;00m)\n\u001b[1;32m     17\u001b[0m     result \u001b[38;5;241m=\u001b[39m numerator\u001b[38;5;241m/\u001b[39mdenom\n",
      "File \u001b[0;32m/opt/mamba/lib/python3.12/site-packages/scipy/stats/_multivariate.py:584\u001b[0m, in \u001b[0;36mmultivariate_normal_gen.pdf\u001b[0;34m(self, x, mean, cov, allow_singular)\u001b[0m\n\u001b[1;32m    565\u001b[0m \u001b[38;5;28;01mdef\u001b[39;00m \u001b[38;5;21mpdf\u001b[39m(\u001b[38;5;28mself\u001b[39m, x, mean\u001b[38;5;241m=\u001b[39m\u001b[38;5;28;01mNone\u001b[39;00m, cov\u001b[38;5;241m=\u001b[39m\u001b[38;5;241m1\u001b[39m, allow_singular\u001b[38;5;241m=\u001b[39m\u001b[38;5;28;01mFalse\u001b[39;00m):\n\u001b[1;32m    566\u001b[0m \u001b[38;5;250m    \u001b[39m\u001b[38;5;124;03m\"\"\"Multivariate normal probability density function.\u001b[39;00m\n\u001b[1;32m    567\u001b[0m \n\u001b[1;32m    568\u001b[0m \u001b[38;5;124;03m    Parameters\u001b[39;00m\n\u001b[0;32m   (...)\u001b[0m\n\u001b[1;32m    582\u001b[0m \n\u001b[1;32m    583\u001b[0m \u001b[38;5;124;03m    \"\"\"\u001b[39;00m\n\u001b[0;32m--> 584\u001b[0m     params \u001b[38;5;241m=\u001b[39m \u001b[38;5;28;43mself\u001b[39;49m\u001b[38;5;241;43m.\u001b[39;49m\u001b[43m_process_parameters\u001b[49m\u001b[43m(\u001b[49m\u001b[43mmean\u001b[49m\u001b[43m,\u001b[49m\u001b[43m \u001b[49m\u001b[43mcov\u001b[49m\u001b[43m,\u001b[49m\u001b[43m \u001b[49m\u001b[43mallow_singular\u001b[49m\u001b[43m)\u001b[49m\n\u001b[1;32m    585\u001b[0m     dim, mean, cov_object \u001b[38;5;241m=\u001b[39m params\n\u001b[1;32m    586\u001b[0m     x \u001b[38;5;241m=\u001b[39m \u001b[38;5;28mself\u001b[39m\u001b[38;5;241m.\u001b[39m_process_quantiles(x, dim)\n",
      "File \u001b[0;32m/opt/mamba/lib/python3.12/site-packages/scipy/stats/_multivariate.py:421\u001b[0m, in \u001b[0;36mmultivariate_normal_gen._process_parameters\u001b[0;34m(self, mean, cov, allow_singular)\u001b[0m\n\u001b[1;32m    414\u001b[0m dim, mean, cov \u001b[38;5;241m=\u001b[39m \u001b[38;5;28mself\u001b[39m\u001b[38;5;241m.\u001b[39m_process_parameters_psd(\u001b[38;5;28;01mNone\u001b[39;00m, mean, cov)\n\u001b[1;32m    415\u001b[0m \u001b[38;5;66;03m# After input validation, some methods then processed the arrays\u001b[39;00m\n\u001b[1;32m    416\u001b[0m \u001b[38;5;66;03m# with a `_PSD` object and used that to perform computation.\u001b[39;00m\n\u001b[1;32m    417\u001b[0m \u001b[38;5;66;03m# To avoid branching statements in each method depending on whether\u001b[39;00m\n\u001b[1;32m    418\u001b[0m \u001b[38;5;66;03m# `cov` is an array or `Covariance` object, we always process the\u001b[39;00m\n\u001b[1;32m    419\u001b[0m \u001b[38;5;66;03m# array with `_PSD`, and then use wrapper that satisfies the\u001b[39;00m\n\u001b[1;32m    420\u001b[0m \u001b[38;5;66;03m# `Covariance` interface, `CovViaPSD`.\u001b[39;00m\n\u001b[0;32m--> 421\u001b[0m psd \u001b[38;5;241m=\u001b[39m \u001b[43m_PSD\u001b[49m\u001b[43m(\u001b[49m\u001b[43mcov\u001b[49m\u001b[43m,\u001b[49m\u001b[43m \u001b[49m\u001b[43mallow_singular\u001b[49m\u001b[38;5;241;43m=\u001b[39;49m\u001b[43mallow_singular\u001b[49m\u001b[43m)\u001b[49m\n\u001b[1;32m    422\u001b[0m cov_object \u001b[38;5;241m=\u001b[39m _covariance\u001b[38;5;241m.\u001b[39mCovViaPSD(psd)\n\u001b[1;32m    423\u001b[0m \u001b[38;5;28;01mreturn\u001b[39;00m dim, mean, cov_object\n",
      "File \u001b[0;32m/opt/mamba/lib/python3.12/site-packages/scipy/stats/_multivariate.py:164\u001b[0m, in \u001b[0;36m_PSD.__init__\u001b[0;34m(self, M, cond, rcond, lower, check_finite, allow_singular)\u001b[0m\n\u001b[1;32m    159\u001b[0m \u001b[38;5;28mself\u001b[39m\u001b[38;5;241m.\u001b[39m_M \u001b[38;5;241m=\u001b[39m np\u001b[38;5;241m.\u001b[39masarray(M)\n\u001b[1;32m    161\u001b[0m \u001b[38;5;66;03m# Compute the symmetric eigendecomposition.\u001b[39;00m\n\u001b[1;32m    162\u001b[0m \u001b[38;5;66;03m# Note that eigh takes care of array conversion, chkfinite,\u001b[39;00m\n\u001b[1;32m    163\u001b[0m \u001b[38;5;66;03m# and assertion that the matrix is square.\u001b[39;00m\n\u001b[0;32m--> 164\u001b[0m s, u \u001b[38;5;241m=\u001b[39m \u001b[43mscipy\u001b[49m\u001b[38;5;241;43m.\u001b[39;49m\u001b[43mlinalg\u001b[49m\u001b[38;5;241;43m.\u001b[39;49m\u001b[43meigh\u001b[49m\u001b[43m(\u001b[49m\u001b[43mM\u001b[49m\u001b[43m,\u001b[49m\u001b[43m \u001b[49m\u001b[43mlower\u001b[49m\u001b[38;5;241;43m=\u001b[39;49m\u001b[43mlower\u001b[49m\u001b[43m,\u001b[49m\u001b[43m \u001b[49m\u001b[43mcheck_finite\u001b[49m\u001b[38;5;241;43m=\u001b[39;49m\u001b[43mcheck_finite\u001b[49m\u001b[43m)\u001b[49m\n\u001b[1;32m    166\u001b[0m eps \u001b[38;5;241m=\u001b[39m _eigvalsh_to_eps(s, cond, rcond)\n\u001b[1;32m    167\u001b[0m \u001b[38;5;28;01mif\u001b[39;00m np\u001b[38;5;241m.\u001b[39mmin(s) \u001b[38;5;241m<\u001b[39m \u001b[38;5;241m-\u001b[39meps:\n",
      "File \u001b[0;32m/opt/mamba/lib/python3.12/site-packages/scipy/_lib/deprecation.py:213\u001b[0m, in \u001b[0;36m_deprecate_positional_args.<locals>._inner_deprecate_positional_args.<locals>.inner_f\u001b[0;34m(*args, **kwargs)\u001b[0m\n\u001b[1;32m    211\u001b[0m extra_args \u001b[38;5;241m=\u001b[39m \u001b[38;5;28mlen\u001b[39m(args) \u001b[38;5;241m-\u001b[39m \u001b[38;5;28mlen\u001b[39m(all_args)\n\u001b[1;32m    212\u001b[0m \u001b[38;5;28;01mif\u001b[39;00m extra_args \u001b[38;5;241m<\u001b[39m\u001b[38;5;241m=\u001b[39m \u001b[38;5;241m0\u001b[39m:\n\u001b[0;32m--> 213\u001b[0m     \u001b[38;5;28;01mreturn\u001b[39;00m \u001b[43mf\u001b[49m\u001b[43m(\u001b[49m\u001b[38;5;241;43m*\u001b[39;49m\u001b[43margs\u001b[49m\u001b[43m,\u001b[49m\u001b[43m \u001b[49m\u001b[38;5;241;43m*\u001b[39;49m\u001b[38;5;241;43m*\u001b[39;49m\u001b[43mkwargs\u001b[49m\u001b[43m)\u001b[49m\n\u001b[1;32m    215\u001b[0m \u001b[38;5;66;03m# extra_args > 0\u001b[39;00m\n\u001b[1;32m    216\u001b[0m args_msg \u001b[38;5;241m=\u001b[39m [\n\u001b[1;32m    217\u001b[0m     \u001b[38;5;124mf\u001b[39m\u001b[38;5;124m\"\u001b[39m\u001b[38;5;132;01m{\u001b[39;00mname\u001b[38;5;132;01m}\u001b[39;00m\u001b[38;5;124m=\u001b[39m\u001b[38;5;132;01m{\u001b[39;00marg\u001b[38;5;132;01m}\u001b[39;00m\u001b[38;5;124m\"\u001b[39m\n\u001b[1;32m    218\u001b[0m     \u001b[38;5;28;01mfor\u001b[39;00m name, arg \u001b[38;5;129;01min\u001b[39;00m \u001b[38;5;28mzip\u001b[39m(kwonly_args[:extra_args], args[\u001b[38;5;241m-\u001b[39mextra_args:])\n\u001b[1;32m    219\u001b[0m ]\n",
      "File \u001b[0;32m/opt/mamba/lib/python3.12/site-packages/scipy/linalg/_decomp.py:464\u001b[0m, in \u001b[0;36meigh\u001b[0;34m(a, b, lower, eigvals_only, overwrite_a, overwrite_b, turbo, eigvals, type, check_finite, subset_by_index, subset_by_value, driver)\u001b[0m\n\u001b[1;32m    460\u001b[0m \u001b[38;5;28;01mif\u001b[39;00m driver \u001b[38;5;129;01mnot\u001b[39;00m \u001b[38;5;129;01min\u001b[39;00m drv_str:\n\u001b[1;32m    461\u001b[0m     \u001b[38;5;28;01mraise\u001b[39;00m \u001b[38;5;167;01mValueError\u001b[39;00m(\u001b[38;5;124m'\u001b[39m\u001b[38;5;124m\"\u001b[39m\u001b[38;5;132;01m{}\u001b[39;00m\u001b[38;5;124m\"\u001b[39m\u001b[38;5;124m is unknown. Possible values are \u001b[39m\u001b[38;5;124m\"\u001b[39m\u001b[38;5;124mNone\u001b[39m\u001b[38;5;124m\"\u001b[39m\u001b[38;5;124m, \u001b[39m\u001b[38;5;124m\"\u001b[39m\u001b[38;5;132;01m{}\u001b[39;00m\u001b[38;5;124m\"\u001b[39m\u001b[38;5;124m.\u001b[39m\u001b[38;5;124m'\u001b[39m\n\u001b[1;32m    462\u001b[0m                      \u001b[38;5;124m'\u001b[39m\u001b[38;5;124m'\u001b[39m\u001b[38;5;241m.\u001b[39mformat(driver, \u001b[38;5;124m'\u001b[39m\u001b[38;5;124m\"\u001b[39m\u001b[38;5;124m, \u001b[39m\u001b[38;5;124m\"\u001b[39m\u001b[38;5;124m'\u001b[39m\u001b[38;5;241m.\u001b[39mjoin(drv_str[\u001b[38;5;241m1\u001b[39m:])))\n\u001b[0;32m--> 464\u001b[0m a1 \u001b[38;5;241m=\u001b[39m \u001b[43m_asarray_validated\u001b[49m\u001b[43m(\u001b[49m\u001b[43ma\u001b[49m\u001b[43m,\u001b[49m\u001b[43m \u001b[49m\u001b[43mcheck_finite\u001b[49m\u001b[38;5;241;43m=\u001b[39;49m\u001b[43mcheck_finite\u001b[49m\u001b[43m)\u001b[49m\n\u001b[1;32m    465\u001b[0m \u001b[38;5;28;01mif\u001b[39;00m \u001b[38;5;28mlen\u001b[39m(a1\u001b[38;5;241m.\u001b[39mshape) \u001b[38;5;241m!=\u001b[39m \u001b[38;5;241m2\u001b[39m \u001b[38;5;129;01mor\u001b[39;00m a1\u001b[38;5;241m.\u001b[39mshape[\u001b[38;5;241m0\u001b[39m] \u001b[38;5;241m!=\u001b[39m a1\u001b[38;5;241m.\u001b[39mshape[\u001b[38;5;241m1\u001b[39m]:\n\u001b[1;32m    466\u001b[0m     \u001b[38;5;28;01mraise\u001b[39;00m \u001b[38;5;167;01mValueError\u001b[39;00m(\u001b[38;5;124m'\u001b[39m\u001b[38;5;124mexpected square \u001b[39m\u001b[38;5;124m\"\u001b[39m\u001b[38;5;124ma\u001b[39m\u001b[38;5;124m\"\u001b[39m\u001b[38;5;124m matrix\u001b[39m\u001b[38;5;124m'\u001b[39m)\n",
      "File \u001b[0;32m/opt/mamba/lib/python3.12/site-packages/scipy/_lib/_util.py:321\u001b[0m, in \u001b[0;36m_asarray_validated\u001b[0;34m(a, check_finite, sparse_ok, objects_ok, mask_ok, as_inexact)\u001b[0m\n\u001b[1;32m    319\u001b[0m         \u001b[38;5;28;01mraise\u001b[39;00m \u001b[38;5;167;01mValueError\u001b[39;00m(\u001b[38;5;124m'\u001b[39m\u001b[38;5;124mmasked arrays are not supported\u001b[39m\u001b[38;5;124m'\u001b[39m)\n\u001b[1;32m    320\u001b[0m toarray \u001b[38;5;241m=\u001b[39m np\u001b[38;5;241m.\u001b[39masarray_chkfinite \u001b[38;5;28;01mif\u001b[39;00m check_finite \u001b[38;5;28;01melse\u001b[39;00m np\u001b[38;5;241m.\u001b[39masarray\n\u001b[0;32m--> 321\u001b[0m a \u001b[38;5;241m=\u001b[39m \u001b[43mtoarray\u001b[49m\u001b[43m(\u001b[49m\u001b[43ma\u001b[49m\u001b[43m)\u001b[49m\n\u001b[1;32m    322\u001b[0m \u001b[38;5;28;01mif\u001b[39;00m \u001b[38;5;129;01mnot\u001b[39;00m objects_ok:\n\u001b[1;32m    323\u001b[0m     \u001b[38;5;28;01mif\u001b[39;00m a\u001b[38;5;241m.\u001b[39mdtype \u001b[38;5;129;01mis\u001b[39;00m np\u001b[38;5;241m.\u001b[39mdtype(\u001b[38;5;124m'\u001b[39m\u001b[38;5;124mO\u001b[39m\u001b[38;5;124m'\u001b[39m):\n",
      "File \u001b[0;32m/opt/mamba/lib/python3.12/site-packages/numpy/lib/function_base.py:630\u001b[0m, in \u001b[0;36masarray_chkfinite\u001b[0;34m(a, dtype, order)\u001b[0m\n\u001b[1;32m    628\u001b[0m a \u001b[38;5;241m=\u001b[39m asarray(a, dtype\u001b[38;5;241m=\u001b[39mdtype, order\u001b[38;5;241m=\u001b[39morder)\n\u001b[1;32m    629\u001b[0m \u001b[38;5;28;01mif\u001b[39;00m a\u001b[38;5;241m.\u001b[39mdtype\u001b[38;5;241m.\u001b[39mchar \u001b[38;5;129;01min\u001b[39;00m typecodes[\u001b[38;5;124m'\u001b[39m\u001b[38;5;124mAllFloat\u001b[39m\u001b[38;5;124m'\u001b[39m] \u001b[38;5;129;01mand\u001b[39;00m \u001b[38;5;129;01mnot\u001b[39;00m np\u001b[38;5;241m.\u001b[39misfinite(a)\u001b[38;5;241m.\u001b[39mall():\n\u001b[0;32m--> 630\u001b[0m     \u001b[38;5;28;01mraise\u001b[39;00m \u001b[38;5;167;01mValueError\u001b[39;00m(\n\u001b[1;32m    631\u001b[0m         \u001b[38;5;124m\"\u001b[39m\u001b[38;5;124marray must not contain infs or NaNs\u001b[39m\u001b[38;5;124m\"\u001b[39m)\n\u001b[1;32m    632\u001b[0m \u001b[38;5;28;01mreturn\u001b[39;00m a\n",
      "\u001b[0;31mValueError\u001b[0m: array must not contain infs or NaNs"
     ]
    }
   ],
   "source": [
    "data_gmm = mushroom_data.to_numpy()[:,:8]\n",
    "iterations = 100\n",
    "count = 0\n",
    "\n",
    "#to opti : put the weights to O/1 before so only one condition in the loop\n",
    "\n",
    "while count<=iterations:\n",
    "    count+=1\n",
    "    for group in range(2):\n",
    "        for i in range(n_samples):\n",
    "            if mushroom_data.loc[i,'label'] == 99:\n",
    "                x_test = data_gmm[i,:]\n",
    "                numerator = dict_pi['pi_{0}'.format(group)]*multivariate_normal.pdf(x=x_test,\n",
    "                                                                                    mean=dict_mean['mean_{0}'.format(group)],\n",
    "                                                                                    cov=dict_cov['cov_{0}'.format(group)],allow_singular=True)\n",
    "                denom = pi_0*multivariate_normal.pdf(x=x_test,mean=mean_0,cov=cov_0,allow_singular=True)+pi_1*multivariate_normal.pdf(x=x_test,mean=mean_1,cov=cov_1,allow_singular=True)\n",
    "                result = numerator/denom\n",
    "                weights[i,group] = result           \n",
    "            elif mushroom_data.loc[i,'label'] == group:\n",
    "                weights[i,group] = 1\n",
    "            else:\n",
    "                weights[i,group] = 0\n",
    "        sum_of_weights = np.sum(weights[:,group])\n",
    "        dict_pi['pi_{0}'.format(group)] = np.mean(weights[:,group])\n",
    "        dict_mean['mean_{0}'.format(group)] = np.sum((data_gmm*(weights[:,group].reshape(n_samples,1))),axis=0)/sum_of_weights\n",
    "        dict_cov['cov_{0}'.format(group)] = update_cov(X=data_gmm,group=group,\n",
    "                                                       mean=dict_mean['mean_{0}'.format(group)],weights=weights)\n",
    "        \n",
    "                \n",
    "                \n",
    "        "
   ]
  },
  {
   "cell_type": "code",
   "execution_count": null,
   "id": "ff60e32a-b93a-491e-a865-c754323ed714",
   "metadata": {},
   "outputs": [],
   "source": [
    "mushroom_data.head()"
   ]
  },
  {
   "cell_type": "code",
   "execution_count": null,
   "id": "d862f1e9-aede-4e87-8a67-1a4dd3834140",
   "metadata": {},
   "outputs": [],
   "source": [
    "mushroom_data.to_numpy()[1,:8].shape"
   ]
  },
  {
   "cell_type": "code",
   "execution_count": 27,
   "id": "35858db5-2901-4fdb-bfaf-2c41e990ad8f",
   "metadata": {},
   "outputs": [
    {
     "data": {
      "text/plain": [
       "(8, 8)"
      ]
     },
     "execution_count": 27,
     "metadata": {},
     "output_type": "execute_result"
    }
   ],
   "source": [
    "dict_cov['cov_1'].shape"
   ]
  },
  {
   "cell_type": "code",
   "execution_count": 28,
   "id": "3ea1547e-a9e5-4250-b5f9-99e75c0e4b12",
   "metadata": {},
   "outputs": [
    {
     "data": {
      "text/plain": [
       "(8, 8)"
      ]
     },
     "execution_count": 28,
     "metadata": {},
     "output_type": "execute_result"
    }
   ],
   "source": [
    "dict_cov['cov_0'].shape"
   ]
  },
  {
   "cell_type": "code",
   "execution_count": 38,
   "id": "898518c6-cf7a-4c43-a523-ea7e3e178e6c",
   "metadata": {},
   "outputs": [
    {
     "data": {
      "text/plain": [
       "749.7653515618318"
      ]
     },
     "execution_count": 38,
     "metadata": {},
     "output_type": "execute_result"
    }
   ],
   "source": [
    "dict_mean['mean_0']"
   ]
  },
  {
   "cell_type": "code",
   "execution_count": 48,
   "id": "d012c576-3804-41b9-a0c9-ff0860e24a9e",
   "metadata": {},
   "outputs": [
    {
     "data": {
      "text/plain": [
       "(8,)"
      ]
     },
     "execution_count": 48,
     "metadata": {},
     "output_type": "execute_result"
    }
   ],
   "source": [
    "np.sum((data_gmm*(weights[:,0].reshape(n_samples,1))),axis=0).shape"
   ]
  },
  {
   "cell_type": "code",
   "execution_count": null,
   "id": "ddf9bc32-e9f1-4852-a74d-80c8ea4134b9",
   "metadata": {},
   "outputs": [],
   "source": []
  }
 ],
 "metadata": {
  "kernelspec": {
   "display_name": "Python 3 (ipykernel)",
   "language": "python",
   "name": "python3"
  },
  "language_info": {
   "codemirror_mode": {
    "name": "ipython",
    "version": 3
   },
   "file_extension": ".py",
   "mimetype": "text/x-python",
   "name": "python",
   "nbconvert_exporter": "python",
   "pygments_lexer": "ipython3",
   "version": "3.12.3"
  }
 },
 "nbformat": 4,
 "nbformat_minor": 5
}
