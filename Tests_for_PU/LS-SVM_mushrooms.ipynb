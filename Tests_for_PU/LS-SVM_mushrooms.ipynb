{
 "cells": [
  {
   "cell_type": "code",
   "execution_count": 1,
   "id": "e55b4d69-5e52-477f-905f-ac58252af378",
   "metadata": {},
   "outputs": [],
   "source": [
    "import numpy as np\n",
    "import pandas as pd\n",
    "from scipy.stats import bernoulli\n",
    "from sklearn.cluster import KMeans\n",
    "import matplotlib.pyplot as plt\n",
    "from tqdm import tqdm\n",
    "from sklearn.svm import SVC"
   ]
  },
  {
   "cell_type": "code",
   "execution_count": 2,
   "id": "db8b3e30-fe0a-4fb5-b7a2-ab3d4571b306",
   "metadata": {},
   "outputs": [],
   "source": [
    "mushrooms = pd.read_csv('mushroom.csv')"
   ]
  },
  {
   "cell_type": "code",
   "execution_count": 3,
   "id": "cd9ca152-cacf-46c8-9ee7-ccce1e990e77",
   "metadata": {},
   "outputs": [
    {
     "data": {
      "text/html": [
       "<div>\n",
       "<style scoped>\n",
       "    .dataframe tbody tr th:only-of-type {\n",
       "        vertical-align: middle;\n",
       "    }\n",
       "\n",
       "    .dataframe tbody tr th {\n",
       "        vertical-align: top;\n",
       "    }\n",
       "\n",
       "    .dataframe thead th {\n",
       "        text-align: right;\n",
       "    }\n",
       "</style>\n",
       "<table border=\"1\" class=\"dataframe\">\n",
       "  <thead>\n",
       "    <tr style=\"text-align: right;\">\n",
       "      <th></th>\n",
       "      <th>cap-diameter</th>\n",
       "      <th>cap-shape</th>\n",
       "      <th>gill-attachment</th>\n",
       "      <th>gill-color</th>\n",
       "      <th>stem-height</th>\n",
       "      <th>stem-width</th>\n",
       "      <th>stem-color</th>\n",
       "      <th>season</th>\n",
       "      <th>class</th>\n",
       "    </tr>\n",
       "  </thead>\n",
       "  <tbody>\n",
       "    <tr>\n",
       "      <th>0</th>\n",
       "      <td>1372</td>\n",
       "      <td>2</td>\n",
       "      <td>2</td>\n",
       "      <td>10</td>\n",
       "      <td>3.807467</td>\n",
       "      <td>1545</td>\n",
       "      <td>11</td>\n",
       "      <td>1.804273</td>\n",
       "      <td>1</td>\n",
       "    </tr>\n",
       "    <tr>\n",
       "      <th>1</th>\n",
       "      <td>1461</td>\n",
       "      <td>2</td>\n",
       "      <td>2</td>\n",
       "      <td>10</td>\n",
       "      <td>3.807467</td>\n",
       "      <td>1557</td>\n",
       "      <td>11</td>\n",
       "      <td>1.804273</td>\n",
       "      <td>1</td>\n",
       "    </tr>\n",
       "    <tr>\n",
       "      <th>2</th>\n",
       "      <td>1371</td>\n",
       "      <td>2</td>\n",
       "      <td>2</td>\n",
       "      <td>10</td>\n",
       "      <td>3.612496</td>\n",
       "      <td>1566</td>\n",
       "      <td>11</td>\n",
       "      <td>1.804273</td>\n",
       "      <td>1</td>\n",
       "    </tr>\n",
       "    <tr>\n",
       "      <th>3</th>\n",
       "      <td>1261</td>\n",
       "      <td>6</td>\n",
       "      <td>2</td>\n",
       "      <td>10</td>\n",
       "      <td>3.787572</td>\n",
       "      <td>1566</td>\n",
       "      <td>11</td>\n",
       "      <td>1.804273</td>\n",
       "      <td>1</td>\n",
       "    </tr>\n",
       "    <tr>\n",
       "      <th>4</th>\n",
       "      <td>1305</td>\n",
       "      <td>6</td>\n",
       "      <td>2</td>\n",
       "      <td>10</td>\n",
       "      <td>3.711971</td>\n",
       "      <td>1464</td>\n",
       "      <td>11</td>\n",
       "      <td>0.943195</td>\n",
       "      <td>1</td>\n",
       "    </tr>\n",
       "  </tbody>\n",
       "</table>\n",
       "</div>"
      ],
      "text/plain": [
       "   cap-diameter  cap-shape  gill-attachment  gill-color  stem-height  \\\n",
       "0          1372          2                2          10     3.807467   \n",
       "1          1461          2                2          10     3.807467   \n",
       "2          1371          2                2          10     3.612496   \n",
       "3          1261          6                2          10     3.787572   \n",
       "4          1305          6                2          10     3.711971   \n",
       "\n",
       "   stem-width  stem-color    season  class  \n",
       "0        1545          11  1.804273      1  \n",
       "1        1557          11  1.804273      1  \n",
       "2        1566          11  1.804273      1  \n",
       "3        1566          11  1.804273      1  \n",
       "4        1464          11  0.943195      1  "
      ]
     },
     "execution_count": 3,
     "metadata": {},
     "output_type": "execute_result"
    }
   ],
   "source": [
    "mushrooms.head()"
   ]
  },
  {
   "cell_type": "code",
   "execution_count": 4,
   "id": "64678b8e-a2a6-4496-8431-c7f25115bbb0",
   "metadata": {},
   "outputs": [],
   "source": [
    "n_samples = mushrooms.shape[0]"
   ]
  },
  {
   "cell_type": "code",
   "execution_count": 5,
   "id": "cf90e9a2-f651-48f8-97b1-f718d7445a8d",
   "metadata": {},
   "outputs": [],
   "source": [
    "mushrooms['label'] = np.ones(n_samples)*(-1)\n",
    "for i in range(n_samples):\n",
    "    random = bernoulli.rvs(p=3/4)\n",
    "    if mushrooms.loc[i,'class'] == 1 and random == 0:\n",
    "        mushrooms.loc[i,'label'] = 1\n",
    "    else:\n",
    "        mushrooms.loc[i,'label'] = -1"
   ]
  },
  {
   "cell_type": "code",
   "execution_count": 6,
   "id": "89c0701c-c7d2-4e15-9215-6647b222e9c0",
   "metadata": {},
   "outputs": [
    {
     "data": {
      "text/html": [
       "<div>\n",
       "<style scoped>\n",
       "    .dataframe tbody tr th:only-of-type {\n",
       "        vertical-align: middle;\n",
       "    }\n",
       "\n",
       "    .dataframe tbody tr th {\n",
       "        vertical-align: top;\n",
       "    }\n",
       "\n",
       "    .dataframe thead th {\n",
       "        text-align: right;\n",
       "    }\n",
       "</style>\n",
       "<table border=\"1\" class=\"dataframe\">\n",
       "  <thead>\n",
       "    <tr style=\"text-align: right;\">\n",
       "      <th></th>\n",
       "      <th>cap-diameter</th>\n",
       "      <th>cap-shape</th>\n",
       "      <th>gill-attachment</th>\n",
       "      <th>gill-color</th>\n",
       "      <th>stem-height</th>\n",
       "      <th>stem-width</th>\n",
       "      <th>stem-color</th>\n",
       "      <th>season</th>\n",
       "      <th>class</th>\n",
       "    </tr>\n",
       "    <tr>\n",
       "      <th>label</th>\n",
       "      <th></th>\n",
       "      <th></th>\n",
       "      <th></th>\n",
       "      <th></th>\n",
       "      <th></th>\n",
       "      <th></th>\n",
       "      <th></th>\n",
       "      <th></th>\n",
       "      <th></th>\n",
       "    </tr>\n",
       "  </thead>\n",
       "  <tbody>\n",
       "    <tr>\n",
       "      <th>-1.0</th>\n",
       "      <td>46789</td>\n",
       "      <td>46789</td>\n",
       "      <td>46789</td>\n",
       "      <td>46789</td>\n",
       "      <td>46789</td>\n",
       "      <td>46789</td>\n",
       "      <td>46789</td>\n",
       "      <td>46789</td>\n",
       "      <td>46789</td>\n",
       "    </tr>\n",
       "    <tr>\n",
       "      <th>1.0</th>\n",
       "      <td>7246</td>\n",
       "      <td>7246</td>\n",
       "      <td>7246</td>\n",
       "      <td>7246</td>\n",
       "      <td>7246</td>\n",
       "      <td>7246</td>\n",
       "      <td>7246</td>\n",
       "      <td>7246</td>\n",
       "      <td>7246</td>\n",
       "    </tr>\n",
       "  </tbody>\n",
       "</table>\n",
       "</div>"
      ],
      "text/plain": [
       "       cap-diameter  cap-shape  gill-attachment  gill-color  stem-height  \\\n",
       "label                                                                      \n",
       "-1.0          46789      46789            46789       46789        46789   \n",
       " 1.0           7246       7246             7246        7246         7246   \n",
       "\n",
       "       stem-width  stem-color  season  class  \n",
       "label                                         \n",
       "-1.0        46789       46789   46789  46789  \n",
       " 1.0         7246        7246    7246   7246  "
      ]
     },
     "execution_count": 6,
     "metadata": {},
     "output_type": "execute_result"
    }
   ],
   "source": [
    "mushrooms.groupby('label').count()"
   ]
  },
  {
   "cell_type": "code",
   "execution_count": 7,
   "id": "57ba2117-63e9-4046-8bd2-8a70d9ba003d",
   "metadata": {},
   "outputs": [],
   "source": [
    "list_of_inertia = np.empty(10)\n",
    "for i in range(1,11):\n",
    "    list_of_inertia[i-1] = KMeans(n_clusters=i,init = 'random').fit(mushrooms.drop(['label', 'class'], axis=1).to_numpy()).inertia_"
   ]
  },
  {
   "cell_type": "code",
   "execution_count": 8,
   "id": "b4996c0a-0c4c-4a04-8211-4a48dd3ea3f4",
   "metadata": {},
   "outputs": [],
   "source": [
    "n_cluster = 10"
   ]
  },
  {
   "cell_type": "code",
   "execution_count": 9,
   "id": "ee2b5a2a-d3ac-4493-ad72-840eab536e43",
   "metadata": {},
   "outputs": [],
   "source": [
    "clusterized_data = KMeans(n_clusters=n_cluster, init='random').fit(mushrooms.drop(['label', 'class'], axis=1).to_numpy())"
   ]
  },
  {
   "cell_type": "code",
   "execution_count": 10,
   "id": "dc4241a1-0f8d-4d1f-ad78-d05c15beb193",
   "metadata": {},
   "outputs": [],
   "source": [
    "mushrooms['cluster'] = clusterized_data.labels_"
   ]
  },
  {
   "cell_type": "code",
   "execution_count": 11,
   "id": "5d541226-574e-489d-b34b-ec9688ba0f8c",
   "metadata": {},
   "outputs": [
    {
     "data": {
      "text/html": [
       "<div>\n",
       "<style scoped>\n",
       "    .dataframe tbody tr th:only-of-type {\n",
       "        vertical-align: middle;\n",
       "    }\n",
       "\n",
       "    .dataframe tbody tr th {\n",
       "        vertical-align: top;\n",
       "    }\n",
       "\n",
       "    .dataframe thead th {\n",
       "        text-align: right;\n",
       "    }\n",
       "</style>\n",
       "<table border=\"1\" class=\"dataframe\">\n",
       "  <thead>\n",
       "    <tr style=\"text-align: right;\">\n",
       "      <th></th>\n",
       "      <th>class</th>\n",
       "      <th>label</th>\n",
       "    </tr>\n",
       "    <tr>\n",
       "      <th>cluster</th>\n",
       "      <th></th>\n",
       "      <th></th>\n",
       "    </tr>\n",
       "  </thead>\n",
       "  <tbody>\n",
       "    <tr>\n",
       "      <th>0</th>\n",
       "      <td>1270</td>\n",
       "      <td>-1114.0</td>\n",
       "    </tr>\n",
       "    <tr>\n",
       "      <th>1</th>\n",
       "      <td>1964</td>\n",
       "      <td>-3939.0</td>\n",
       "    </tr>\n",
       "    <tr>\n",
       "      <th>2</th>\n",
       "      <td>3095</td>\n",
       "      <td>-5421.0</td>\n",
       "    </tr>\n",
       "    <tr>\n",
       "      <th>3</th>\n",
       "      <td>926</td>\n",
       "      <td>-1987.0</td>\n",
       "    </tr>\n",
       "    <tr>\n",
       "      <th>4</th>\n",
       "      <td>7523</td>\n",
       "      <td>-6229.0</td>\n",
       "    </tr>\n",
       "    <tr>\n",
       "      <th>5</th>\n",
       "      <td>4348</td>\n",
       "      <td>-5561.0</td>\n",
       "    </tr>\n",
       "    <tr>\n",
       "      <th>6</th>\n",
       "      <td>962</td>\n",
       "      <td>-2837.0</td>\n",
       "    </tr>\n",
       "    <tr>\n",
       "      <th>7</th>\n",
       "      <td>720</td>\n",
       "      <td>-1243.0</td>\n",
       "    </tr>\n",
       "    <tr>\n",
       "      <th>8</th>\n",
       "      <td>5023</td>\n",
       "      <td>-5585.0</td>\n",
       "    </tr>\n",
       "    <tr>\n",
       "      <th>9</th>\n",
       "      <td>3844</td>\n",
       "      <td>-5627.0</td>\n",
       "    </tr>\n",
       "  </tbody>\n",
       "</table>\n",
       "</div>"
      ],
      "text/plain": [
       "         class   label\n",
       "cluster               \n",
       "0         1270 -1114.0\n",
       "1         1964 -3939.0\n",
       "2         3095 -5421.0\n",
       "3          926 -1987.0\n",
       "4         7523 -6229.0\n",
       "5         4348 -5561.0\n",
       "6          962 -2837.0\n",
       "7          720 -1243.0\n",
       "8         5023 -5585.0\n",
       "9         3844 -5627.0"
      ]
     },
     "execution_count": 11,
     "metadata": {},
     "output_type": "execute_result"
    }
   ],
   "source": [
    "mushrooms[['class','label','cluster']].groupby('cluster').sum()"
   ]
  },
  {
   "cell_type": "code",
   "execution_count": 12,
   "id": "671dccc0-cd76-40af-b5ac-facd7f5d7fd8",
   "metadata": {},
   "outputs": [],
   "source": [
    "positive_cluster = np.where(mushrooms[['class','label','cluster']].groupby('cluster').sum().to_numpy()[:,0] == \n",
    "                            np.max(mushrooms[['class','label','cluster']].groupby('cluster').sum().to_numpy()[:,0]))[0][0]"
   ]
  },
  {
   "cell_type": "code",
   "execution_count": 13,
   "id": "c704aa46-db45-4ab3-a69e-21ac868d3261",
   "metadata": {},
   "outputs": [],
   "source": [
    "positive_centroid = clusterized_data.cluster_centers_[positive_cluster]"
   ]
  },
  {
   "cell_type": "code",
   "execution_count": 14,
   "id": "99c7a59c-3e50-4c54-bc14-dc711bf3d48c",
   "metadata": {},
   "outputs": [],
   "source": [
    "dist_to_positive = np.empty(n_cluster)\n",
    "for i in range(n_cluster):\n",
    "    dist_to_positive[i] = np.linalg.norm(positive_centroid - clusterized_data.cluster_centers_[i])"
   ]
  },
  {
   "cell_type": "code",
   "execution_count": 15,
   "id": "f02863a4-e6e7-4729-8854-f62d056820ea",
   "metadata": {},
   "outputs": [],
   "source": [
    "negative_cluster = np.where(dist_to_positive == np.max(dist_to_positive))[0][0]"
   ]
  },
  {
   "cell_type": "code",
   "execution_count": 16,
   "id": "9ff973da-f41b-4046-81c1-f54da6717289",
   "metadata": {},
   "outputs": [
    {
     "name": "stdout",
     "output_type": "stream",
     "text": [
      "the cluster containing positive values is :  4 \n",
      " the one containing negative exampels is :  0\n"
     ]
    }
   ],
   "source": [
    "print('the cluster containing positive values is : ', positive_cluster, '\\n', \n",
    "      'the one containing negative exampels is : ', negative_cluster)"
   ]
  },
  {
   "cell_type": "code",
   "execution_count": 17,
   "id": "251389bb-16b6-454d-8da2-9172b18d4574",
   "metadata": {},
   "outputs": [],
   "source": [
    "reliable_negatives = mushrooms[mushrooms['cluster'] == negative_cluster]"
   ]
  },
  {
   "cell_type": "code",
   "execution_count": 18,
   "id": "abd10a4f-85cc-4731-8e09-8e46659497e2",
   "metadata": {},
   "outputs": [],
   "source": [
    "reliable_negatives = reliable_negatives[reliable_negatives['label'] == -1]"
   ]
  },
  {
   "cell_type": "code",
   "execution_count": 104,
   "id": "1282780c-1f31-45db-9fd1-1655872031d9",
   "metadata": {},
   "outputs": [],
   "source": [
    "def sigmoid(x,y,a=1,b=-1):\n",
    "    \"\"\"a function to compute the sigmoid kernel with the hyperbolic tangent\n",
    "\n",
    "    Parameters\n",
    "    ----------------------------\n",
    "    x : array-like or float\n",
    "    input vector or real number\n",
    "\n",
    "    y : array-like or float\n",
    "    second input vector or float\n",
    "\n",
    "    a : strictly positive float\n",
    "    a tuning parameter\n",
    "\n",
    "    b : strictly negativ float\n",
    "    a tuning parameter\n",
    "    ----------------------------\n",
    "    \"\"\"\n",
    "    dim = x.shape[0]\n",
    "    vect = np.empty(dim)\n",
    "    if dim == y.shape[0]:\n",
    "        transfo = a*np.sum(x*y) + b\n",
    "        d = np.tanh(transfo)\n",
    "        return d\n",
    "    else:\n",
    "        for i in range(dim):\n",
    "            transfo = a*np.sum(x[i]*y) + b\n",
    "            vect[i] = np.tanh(transfo)\n",
    "            return vect"
   ]
  },
  {
   "cell_type": "code",
   "execution_count": 20,
   "id": "c2ccb7b7-4b9e-42b9-9d25-369ceb194487",
   "metadata": {},
   "outputs": [],
   "source": [
    "def rbf(x,y,l=1):\n",
    "    \"\"\"Gaussian kernel\n",
    "\n",
    "    Parameters\n",
    "    -------------------------------\n",
    "    x : float\n",
    "    a real number\n",
    "\n",
    "    y : float\n",
    "    a real number\n",
    "\n",
    "    l: float, non zero\n",
    "    a scale parameter\n",
    "    -------------------------------\n",
    "    \"\"\"\n",
    "    dim = x.shape[0]\n",
    "    vect = np.empty(dim)\n",
    "    if dim == y.shape[0]  :\n",
    "        d = np.exp(-((np.linalg.norm(x-y))**2)/(2*(l**2)))\n",
    "        return d\n",
    "    else :\n",
    "        for i in range(dim):\n",
    "            vect[i] = np.exp(-((np.linalg.norm(x[i] - y))**2)/(2*(l**2)))\n",
    "        return vect"
   ]
  },
  {
   "cell_type": "code",
   "execution_count": 21,
   "id": "40e6f8e5-1e7b-4b8d-9884-bfea8bb78d47",
   "metadata": {},
   "outputs": [],
   "source": [
    "gamma = 1"
   ]
  },
  {
   "cell_type": "code",
   "execution_count": 22,
   "id": "63187ef4-39a3-4561-ad1f-21112a064ed7",
   "metadata": {},
   "outputs": [],
   "source": [
    "positives = mushrooms[mushrooms['cluster'] == positive_cluster]\n",
    "positives = positives[positives['label'] == 1]"
   ]
  },
  {
   "cell_type": "code",
   "execution_count": 23,
   "id": "2922976a-1adb-4362-b6ae-9805c47227cb",
   "metadata": {},
   "outputs": [
    {
     "data": {
      "text/html": [
       "<div>\n",
       "<style scoped>\n",
       "    .dataframe tbody tr th:only-of-type {\n",
       "        vertical-align: middle;\n",
       "    }\n",
       "\n",
       "    .dataframe tbody tr th {\n",
       "        vertical-align: top;\n",
       "    }\n",
       "\n",
       "    .dataframe thead th {\n",
       "        text-align: right;\n",
       "    }\n",
       "</style>\n",
       "<table border=\"1\" class=\"dataframe\">\n",
       "  <thead>\n",
       "    <tr style=\"text-align: right;\">\n",
       "      <th></th>\n",
       "      <th>cap-diameter</th>\n",
       "      <th>cap-shape</th>\n",
       "      <th>gill-attachment</th>\n",
       "      <th>gill-color</th>\n",
       "      <th>stem-height</th>\n",
       "      <th>stem-width</th>\n",
       "      <th>stem-color</th>\n",
       "      <th>season</th>\n",
       "      <th>class</th>\n",
       "      <th>label</th>\n",
       "      <th>cluster</th>\n",
       "    </tr>\n",
       "  </thead>\n",
       "  <tbody>\n",
       "    <tr>\n",
       "      <th>2853</th>\n",
       "      <td>232</td>\n",
       "      <td>2</td>\n",
       "      <td>2</td>\n",
       "      <td>5</td>\n",
       "      <td>0.959362</td>\n",
       "      <td>269</td>\n",
       "      <td>11</td>\n",
       "      <td>0.943195</td>\n",
       "      <td>1</td>\n",
       "      <td>1.0</td>\n",
       "      <td>4</td>\n",
       "    </tr>\n",
       "    <tr>\n",
       "      <th>2861</th>\n",
       "      <td>176</td>\n",
       "      <td>0</td>\n",
       "      <td>2</td>\n",
       "      <td>5</td>\n",
       "      <td>1.345324</td>\n",
       "      <td>277</td>\n",
       "      <td>11</td>\n",
       "      <td>0.943195</td>\n",
       "      <td>1</td>\n",
       "      <td>1.0</td>\n",
       "      <td>4</td>\n",
       "    </tr>\n",
       "    <tr>\n",
       "      <th>2940</th>\n",
       "      <td>197</td>\n",
       "      <td>2</td>\n",
       "      <td>2</td>\n",
       "      <td>5</td>\n",
       "      <td>0.744497</td>\n",
       "      <td>289</td>\n",
       "      <td>11</td>\n",
       "      <td>0.888450</td>\n",
       "      <td>1</td>\n",
       "      <td>1.0</td>\n",
       "      <td>4</td>\n",
       "    </tr>\n",
       "    <tr>\n",
       "      <th>2977</th>\n",
       "      <td>216</td>\n",
       "      <td>2</td>\n",
       "      <td>2</td>\n",
       "      <td>5</td>\n",
       "      <td>0.911614</td>\n",
       "      <td>272</td>\n",
       "      <td>11</td>\n",
       "      <td>0.888450</td>\n",
       "      <td>1</td>\n",
       "      <td>1.0</td>\n",
       "      <td>4</td>\n",
       "    </tr>\n",
       "    <tr>\n",
       "      <th>3015</th>\n",
       "      <td>179</td>\n",
       "      <td>2</td>\n",
       "      <td>2</td>\n",
       "      <td>5</td>\n",
       "      <td>0.955383</td>\n",
       "      <td>276</td>\n",
       "      <td>11</td>\n",
       "      <td>0.888450</td>\n",
       "      <td>1</td>\n",
       "      <td>1.0</td>\n",
       "      <td>4</td>\n",
       "    </tr>\n",
       "    <tr>\n",
       "      <th>...</th>\n",
       "      <td>...</td>\n",
       "      <td>...</td>\n",
       "      <td>...</td>\n",
       "      <td>...</td>\n",
       "      <td>...</td>\n",
       "      <td>...</td>\n",
       "      <td>...</td>\n",
       "      <td>...</td>\n",
       "      <td>...</td>\n",
       "      <td>...</td>\n",
       "      <td>...</td>\n",
       "    </tr>\n",
       "    <tr>\n",
       "      <th>51993</th>\n",
       "      <td>286</td>\n",
       "      <td>3</td>\n",
       "      <td>3</td>\n",
       "      <td>2</td>\n",
       "      <td>2.013794</td>\n",
       "      <td>0</td>\n",
       "      <td>2</td>\n",
       "      <td>1.804273</td>\n",
       "      <td>1</td>\n",
       "      <td>1.0</td>\n",
       "      <td>4</td>\n",
       "    </tr>\n",
       "    <tr>\n",
       "      <th>51998</th>\n",
       "      <td>176</td>\n",
       "      <td>3</td>\n",
       "      <td>3</td>\n",
       "      <td>2</td>\n",
       "      <td>2.013794</td>\n",
       "      <td>0</td>\n",
       "      <td>2</td>\n",
       "      <td>1.804273</td>\n",
       "      <td>1</td>\n",
       "      <td>1.0</td>\n",
       "      <td>4</td>\n",
       "    </tr>\n",
       "    <tr>\n",
       "      <th>52000</th>\n",
       "      <td>261</td>\n",
       "      <td>3</td>\n",
       "      <td>3</td>\n",
       "      <td>2</td>\n",
       "      <td>2.013794</td>\n",
       "      <td>0</td>\n",
       "      <td>2</td>\n",
       "      <td>0.027372</td>\n",
       "      <td>1</td>\n",
       "      <td>1.0</td>\n",
       "      <td>4</td>\n",
       "    </tr>\n",
       "    <tr>\n",
       "      <th>52006</th>\n",
       "      <td>238</td>\n",
       "      <td>3</td>\n",
       "      <td>3</td>\n",
       "      <td>2</td>\n",
       "      <td>2.013794</td>\n",
       "      <td>0</td>\n",
       "      <td>2</td>\n",
       "      <td>0.888450</td>\n",
       "      <td>1</td>\n",
       "      <td>1.0</td>\n",
       "      <td>4</td>\n",
       "    </tr>\n",
       "    <tr>\n",
       "      <th>53779</th>\n",
       "      <td>66</td>\n",
       "      <td>6</td>\n",
       "      <td>3</td>\n",
       "      <td>2</td>\n",
       "      <td>1.373177</td>\n",
       "      <td>370</td>\n",
       "      <td>12</td>\n",
       "      <td>0.943195</td>\n",
       "      <td>1</td>\n",
       "      <td>1.0</td>\n",
       "      <td>4</td>\n",
       "    </tr>\n",
       "  </tbody>\n",
       "</table>\n",
       "<p>1888 rows × 11 columns</p>\n",
       "</div>"
      ],
      "text/plain": [
       "       cap-diameter  cap-shape  gill-attachment  gill-color  stem-height  \\\n",
       "2853            232          2                2           5     0.959362   \n",
       "2861            176          0                2           5     1.345324   \n",
       "2940            197          2                2           5     0.744497   \n",
       "2977            216          2                2           5     0.911614   \n",
       "3015            179          2                2           5     0.955383   \n",
       "...             ...        ...              ...         ...          ...   \n",
       "51993           286          3                3           2     2.013794   \n",
       "51998           176          3                3           2     2.013794   \n",
       "52000           261          3                3           2     2.013794   \n",
       "52006           238          3                3           2     2.013794   \n",
       "53779            66          6                3           2     1.373177   \n",
       "\n",
       "       stem-width  stem-color    season  class  label  cluster  \n",
       "2853          269          11  0.943195      1    1.0        4  \n",
       "2861          277          11  0.943195      1    1.0        4  \n",
       "2940          289          11  0.888450      1    1.0        4  \n",
       "2977          272          11  0.888450      1    1.0        4  \n",
       "3015          276          11  0.888450      1    1.0        4  \n",
       "...           ...         ...       ...    ...    ...      ...  \n",
       "51993           0           2  1.804273      1    1.0        4  \n",
       "51998           0           2  1.804273      1    1.0        4  \n",
       "52000           0           2  0.027372      1    1.0        4  \n",
       "52006           0           2  0.888450      1    1.0        4  \n",
       "53779         370          12  0.943195      1    1.0        4  \n",
       "\n",
       "[1888 rows x 11 columns]"
      ]
     },
     "execution_count": 23,
     "metadata": {},
     "output_type": "execute_result"
    }
   ],
   "source": [
    "positives"
   ]
  },
  {
   "cell_type": "code",
   "execution_count": 24,
   "id": "b12aaee6-6a13-4416-94a0-dbf1000048e9",
   "metadata": {},
   "outputs": [
    {
     "data": {
      "text/html": [
       "<div>\n",
       "<style scoped>\n",
       "    .dataframe tbody tr th:only-of-type {\n",
       "        vertical-align: middle;\n",
       "    }\n",
       "\n",
       "    .dataframe tbody tr th {\n",
       "        vertical-align: top;\n",
       "    }\n",
       "\n",
       "    .dataframe thead th {\n",
       "        text-align: right;\n",
       "    }\n",
       "</style>\n",
       "<table border=\"1\" class=\"dataframe\">\n",
       "  <thead>\n",
       "    <tr style=\"text-align: right;\">\n",
       "      <th></th>\n",
       "      <th>cap-diameter</th>\n",
       "      <th>cap-shape</th>\n",
       "      <th>gill-attachment</th>\n",
       "      <th>gill-color</th>\n",
       "      <th>stem-height</th>\n",
       "      <th>stem-width</th>\n",
       "      <th>stem-color</th>\n",
       "      <th>season</th>\n",
       "      <th>class</th>\n",
       "      <th>label</th>\n",
       "      <th>cluster</th>\n",
       "    </tr>\n",
       "  </thead>\n",
       "  <tbody>\n",
       "    <tr>\n",
       "      <th>4707</th>\n",
       "      <td>1440</td>\n",
       "      <td>6</td>\n",
       "      <td>1</td>\n",
       "      <td>10</td>\n",
       "      <td>1.949279</td>\n",
       "      <td>2884</td>\n",
       "      <td>11</td>\n",
       "      <td>1.804273</td>\n",
       "      <td>0</td>\n",
       "      <td>-1.0</td>\n",
       "      <td>0</td>\n",
       "    </tr>\n",
       "    <tr>\n",
       "      <th>4952</th>\n",
       "      <td>1281</td>\n",
       "      <td>6</td>\n",
       "      <td>0</td>\n",
       "      <td>10</td>\n",
       "      <td>1.439968</td>\n",
       "      <td>2826</td>\n",
       "      <td>11</td>\n",
       "      <td>1.804273</td>\n",
       "      <td>0</td>\n",
       "      <td>-1.0</td>\n",
       "      <td>0</td>\n",
       "    </tr>\n",
       "    <tr>\n",
       "      <th>14089</th>\n",
       "      <td>946</td>\n",
       "      <td>2</td>\n",
       "      <td>0</td>\n",
       "      <td>10</td>\n",
       "      <td>1.077880</td>\n",
       "      <td>2791</td>\n",
       "      <td>6</td>\n",
       "      <td>1.804273</td>\n",
       "      <td>0</td>\n",
       "      <td>-1.0</td>\n",
       "      <td>0</td>\n",
       "    </tr>\n",
       "    <tr>\n",
       "      <th>14107</th>\n",
       "      <td>884</td>\n",
       "      <td>6</td>\n",
       "      <td>0</td>\n",
       "      <td>10</td>\n",
       "      <td>0.592444</td>\n",
       "      <td>2815</td>\n",
       "      <td>6</td>\n",
       "      <td>1.804273</td>\n",
       "      <td>0</td>\n",
       "      <td>-1.0</td>\n",
       "      <td>0</td>\n",
       "    </tr>\n",
       "    <tr>\n",
       "      <th>14126</th>\n",
       "      <td>1224</td>\n",
       "      <td>2</td>\n",
       "      <td>0</td>\n",
       "      <td>10</td>\n",
       "      <td>0.707834</td>\n",
       "      <td>2918</td>\n",
       "      <td>6</td>\n",
       "      <td>0.943195</td>\n",
       "      <td>0</td>\n",
       "      <td>-1.0</td>\n",
       "      <td>0</td>\n",
       "    </tr>\n",
       "    <tr>\n",
       "      <th>...</th>\n",
       "      <td>...</td>\n",
       "      <td>...</td>\n",
       "      <td>...</td>\n",
       "      <td>...</td>\n",
       "      <td>...</td>\n",
       "      <td>...</td>\n",
       "      <td>...</td>\n",
       "      <td>...</td>\n",
       "      <td>...</td>\n",
       "      <td>...</td>\n",
       "      <td>...</td>\n",
       "    </tr>\n",
       "    <tr>\n",
       "      <th>53214</th>\n",
       "      <td>1121</td>\n",
       "      <td>3</td>\n",
       "      <td>3</td>\n",
       "      <td>2</td>\n",
       "      <td>0.784287</td>\n",
       "      <td>2813</td>\n",
       "      <td>6</td>\n",
       "      <td>0.888450</td>\n",
       "      <td>1</td>\n",
       "      <td>-1.0</td>\n",
       "      <td>0</td>\n",
       "    </tr>\n",
       "    <tr>\n",
       "      <th>53261</th>\n",
       "      <td>1067</td>\n",
       "      <td>3</td>\n",
       "      <td>3</td>\n",
       "      <td>2</td>\n",
       "      <td>0.533610</td>\n",
       "      <td>2761</td>\n",
       "      <td>6</td>\n",
       "      <td>0.888450</td>\n",
       "      <td>1</td>\n",
       "      <td>-1.0</td>\n",
       "      <td>0</td>\n",
       "    </tr>\n",
       "    <tr>\n",
       "      <th>53285</th>\n",
       "      <td>1111</td>\n",
       "      <td>3</td>\n",
       "      <td>3</td>\n",
       "      <td>2</td>\n",
       "      <td>0.533610</td>\n",
       "      <td>2773</td>\n",
       "      <td>6</td>\n",
       "      <td>0.027372</td>\n",
       "      <td>1</td>\n",
       "      <td>-1.0</td>\n",
       "      <td>0</td>\n",
       "    </tr>\n",
       "    <tr>\n",
       "      <th>53320</th>\n",
       "      <td>1009</td>\n",
       "      <td>3</td>\n",
       "      <td>3</td>\n",
       "      <td>2</td>\n",
       "      <td>1.007110</td>\n",
       "      <td>2739</td>\n",
       "      <td>6</td>\n",
       "      <td>0.888450</td>\n",
       "      <td>1</td>\n",
       "      <td>-1.0</td>\n",
       "      <td>0</td>\n",
       "    </tr>\n",
       "    <tr>\n",
       "      <th>53324</th>\n",
       "      <td>1131</td>\n",
       "      <td>3</td>\n",
       "      <td>3</td>\n",
       "      <td>2</td>\n",
       "      <td>0.501778</td>\n",
       "      <td>2780</td>\n",
       "      <td>6</td>\n",
       "      <td>0.888450</td>\n",
       "      <td>1</td>\n",
       "      <td>-1.0</td>\n",
       "      <td>0</td>\n",
       "    </tr>\n",
       "  </tbody>\n",
       "</table>\n",
       "<p>1405 rows × 11 columns</p>\n",
       "</div>"
      ],
      "text/plain": [
       "       cap-diameter  cap-shape  gill-attachment  gill-color  stem-height  \\\n",
       "4707           1440          6                1          10     1.949279   \n",
       "4952           1281          6                0          10     1.439968   \n",
       "14089           946          2                0          10     1.077880   \n",
       "14107           884          6                0          10     0.592444   \n",
       "14126          1224          2                0          10     0.707834   \n",
       "...             ...        ...              ...         ...          ...   \n",
       "53214          1121          3                3           2     0.784287   \n",
       "53261          1067          3                3           2     0.533610   \n",
       "53285          1111          3                3           2     0.533610   \n",
       "53320          1009          3                3           2     1.007110   \n",
       "53324          1131          3                3           2     0.501778   \n",
       "\n",
       "       stem-width  stem-color    season  class  label  cluster  \n",
       "4707         2884          11  1.804273      0   -1.0        0  \n",
       "4952         2826          11  1.804273      0   -1.0        0  \n",
       "14089        2791           6  1.804273      0   -1.0        0  \n",
       "14107        2815           6  1.804273      0   -1.0        0  \n",
       "14126        2918           6  0.943195      0   -1.0        0  \n",
       "...           ...         ...       ...    ...    ...      ...  \n",
       "53214        2813           6  0.888450      1   -1.0        0  \n",
       "53261        2761           6  0.888450      1   -1.0        0  \n",
       "53285        2773           6  0.027372      1   -1.0        0  \n",
       "53320        2739           6  0.888450      1   -1.0        0  \n",
       "53324        2780           6  0.888450      1   -1.0        0  \n",
       "\n",
       "[1405 rows x 11 columns]"
      ]
     },
     "execution_count": 24,
     "metadata": {},
     "output_type": "execute_result"
    }
   ],
   "source": [
    "reliable_negatives"
   ]
  },
  {
   "cell_type": "code",
   "execution_count": 25,
   "id": "0943f847-9d4b-495d-a6fb-381fa487c486",
   "metadata": {},
   "outputs": [],
   "source": [
    "positives_array = positives.drop(['class','cluster'], axis=1)\n",
    "negatives_array = reliable_negatives.drop(['class', 'cluster'], axis=1)"
   ]
  },
  {
   "cell_type": "code",
   "execution_count": 26,
   "id": "a68894e5-c870-41ab-8914-486636102d34",
   "metadata": {},
   "outputs": [],
   "source": [
    "data_svm = np.vstack((positives_array,negatives_array))"
   ]
  },
  {
   "cell_type": "code",
   "execution_count": 27,
   "id": "6930ef1c-8e2d-4178-a866-0a9adfad1583",
   "metadata": {},
   "outputs": [],
   "source": [
    "n_reliable = data_svm.shape[0]"
   ]
  },
  {
   "cell_type": "code",
   "execution_count": 28,
   "id": "04b79621-aaed-4857-aa85-a7fe98a6f57a",
   "metadata": {},
   "outputs": [],
   "source": [
    "outcome = data_svm[:,8]"
   ]
  },
  {
   "cell_type": "code",
   "execution_count": 29,
   "id": "086a4bb3-35f8-48f9-856b-a51507d5ca89",
   "metadata": {},
   "outputs": [],
   "source": [
    "data_svm = data_svm[:,:8]"
   ]
  },
  {
   "cell_type": "code",
   "execution_count": 112,
   "id": "e334a5f1-65a8-46a8-aa6f-73c9ea30c616",
   "metadata": {},
   "outputs": [],
   "source": [
    "omega = np.empty((n_reliable,n_reliable))\n",
    "for k in range(n_reliable):\n",
    "    for i in range(n_reliable):\n",
    "        omega[k,i] = outcome[k]*outcome[i]*rbf(x=data_svm[k,:],y=data_svm[i,:],l=1)"
   ]
  },
  {
   "cell_type": "code",
   "execution_count": 31,
   "id": "56d3356b-6936-4569-a056-191f9201c0c2",
   "metadata": {},
   "outputs": [],
   "source": [
    "first_row = np.hstack((0,-np.transpose(outcome)))\n",
    "first_row = first_row.reshape(1,first_row.shape[0])\n",
    "bot_of_mat_right = omega + (1/gamma)*np.eye(n_reliable)\n",
    "bot_of_mat = np.hstack((outcome.reshape(n_reliable,1), bot_of_mat_right))\n",
    "whole_mat = np.vstack((first_row, bot_of_mat))\n",
    "right_hand = np.ones(n_reliable+1)\n",
    "right_hand[0] = 0"
   ]
  },
  {
   "cell_type": "code",
   "execution_count": 32,
   "id": "a695becb-7123-4ba0-85e6-89b0507d23df",
   "metadata": {},
   "outputs": [],
   "source": [
    "coeffs = np.linalg.solve(a=whole_mat,b=right_hand)"
   ]
  },
  {
   "cell_type": "code",
   "execution_count": 33,
   "id": "77164dfe-32d7-46f0-96fe-a6f25012d857",
   "metadata": {},
   "outputs": [],
   "source": [
    "b = coeffs[0]\n",
    "alpha = coeffs[1:coeffs.shape[0]]"
   ]
  },
  {
   "cell_type": "code",
   "execution_count": 34,
   "id": "800fd9ba-85c7-404f-85f4-08f235142401",
   "metadata": {},
   "outputs": [],
   "source": [
    "test_data = mushrooms.drop(['class','label','cluster'], axis=1).to_numpy()\n",
    "results = np.empty(n_samples)"
   ]
  },
  {
   "cell_type": "code",
   "execution_count": 35,
   "id": "904d23e9-535d-4b15-9e11-6be7f3f4e8d7",
   "metadata": {},
   "outputs": [
    {
     "name": "stderr",
     "output_type": "stream",
     "text": [
      "100%|██████████| 54035/54035 [16:00<00:00, 56.26it/s]\n"
     ]
    }
   ],
   "source": [
    "for i in tqdm(range(n_samples)):\n",
    "    results[i] = np.sign(np.sum(alpha*outcome*rbf(x=data_svm,y=test_data[i,:],l=1))+b)"
   ]
  },
  {
   "cell_type": "code",
   "execution_count": 36,
   "id": "bde3a73a-d004-473a-8baa-1884295c904f",
   "metadata": {},
   "outputs": [],
   "source": [
    "results_bis = results"
   ]
  },
  {
   "cell_type": "code",
   "execution_count": 37,
   "id": "8d4e18f0-73ff-4fc4-b8a6-b01b3e43eda8",
   "metadata": {},
   "outputs": [],
   "source": [
    "for i in range(n_samples):\n",
    "    if results[i] == -1:\n",
    "        results[i] = 0"
   ]
  },
  {
   "cell_type": "code",
   "execution_count": 38,
   "id": "30469824-f162-4bdb-ade7-b8bee40efe7e",
   "metadata": {},
   "outputs": [],
   "source": [
    "positives = np.sum(results)\n",
    "true_positives = 0\n",
    "mushrooms['result'] = results\n",
    "for i in range(n_samples):\n",
    "    if mushrooms.loc[i,'class'] == 1 and results[i] == 1:\n",
    "        true_positives += 1"
   ]
  },
  {
   "cell_type": "code",
   "execution_count": 39,
   "id": "508025bc-c047-4470-97b7-6c2c6142ba02",
   "metadata": {},
   "outputs": [],
   "source": [
    "precision = true_positives/positives"
   ]
  },
  {
   "cell_type": "code",
   "execution_count": 40,
   "id": "37478386-5f1c-4374-a73a-3c63f58c2f47",
   "metadata": {},
   "outputs": [
    {
     "data": {
      "text/plain": [
       "0.5452403572107163"
      ]
     },
     "execution_count": 40,
     "metadata": {},
     "output_type": "execute_result"
    }
   ],
   "source": [
    "precision"
   ]
  },
  {
   "cell_type": "markdown",
   "id": "9f5d5e16-992e-417e-94a1-bd7866c41748",
   "metadata": {},
   "source": [
    "So, a simple LS-SVM applied on a PU dataset has a precision of 0.54, which is not very good as we know that if we do a simple SVM on the fully labelled data, we obtain a precision of 0.99."
   ]
  },
  {
   "cell_type": "code",
   "execution_count": 105,
   "id": "25316ac1-38c4-4d94-8f68-f840144a1004",
   "metadata": {},
   "outputs": [],
   "source": [
    "omega = np.empty((n_reliable,n_reliable))\n",
    "for k in range(n_reliable):\n",
    "    for i in range(n_reliable):\n",
    "        omega[k,i] = outcome[k]*outcome[i]*sigmoid(x=data_svm[k,:],y=data_svm[i,:])"
   ]
  },
  {
   "cell_type": "code",
   "execution_count": 106,
   "id": "36e19ddc-89f5-4a59-94c5-7d38de4639ad",
   "metadata": {},
   "outputs": [],
   "source": [
    "for i in range(n_reliable):\n",
    "    for j in range(n_reliable):\n",
    "        if np.isnan(omega[i,j]):\n",
    "            omega[i,j] = 0"
   ]
  },
  {
   "cell_type": "code",
   "execution_count": 107,
   "id": "7a380315-3177-4a8e-a6ab-f272e2d84973",
   "metadata": {},
   "outputs": [],
   "source": [
    "first_row = np.hstack((0,-np.transpose(outcome)))\n",
    "first_row = first_row.reshape(1,first_row.shape[0])\n",
    "bot_of_mat_right = omega + (1/gamma)*np.eye(n_reliable)\n",
    "bot_of_mat = np.hstack((outcome.reshape(n_reliable,1), bot_of_mat_right))\n",
    "whole_mat = np.vstack((first_row, bot_of_mat))\n",
    "right_hand = np.ones(n_reliable+1)\n",
    "right_hand[0] = 0"
   ]
  },
  {
   "cell_type": "code",
   "execution_count": 108,
   "id": "9957d57b-72ba-4840-a564-f59dbb325249",
   "metadata": {},
   "outputs": [],
   "source": [
    "coeffs = np.linalg.solve(a=whole_mat,b=right_hand)"
   ]
  },
  {
   "cell_type": "code",
   "execution_count": 109,
   "id": "52b73c1c-4f36-4f4b-b72d-2320fef2e31e",
   "metadata": {},
   "outputs": [],
   "source": [
    "b = coeffs[0]\n",
    "alpha = coeffs[1:coeffs.shape[0]]"
   ]
  },
  {
   "cell_type": "code",
   "execution_count": 110,
   "id": "3a2bf39e-ed73-4db4-8daa-d6a21d00de3e",
   "metadata": {},
   "outputs": [],
   "source": [
    "test_data = mushrooms.drop(['class','label','cluster','result'], axis=1).to_numpy()\n",
    "results = np.empty(n_samples)"
   ]
  },
  {
   "cell_type": "code",
   "execution_count": 111,
   "id": "56c1539e-2791-43a3-be9d-0ac34d51d911",
   "metadata": {},
   "outputs": [
    {
     "name": "stderr",
     "output_type": "stream",
     "text": [
      "100%|██████████| 54035/54035 [00:02<00:00, 19494.47it/s]\n"
     ]
    },
    {
     "name": "stdout",
     "output_type": "stream",
     "text": [
      "0.5491810863329324\n"
     ]
    }
   ],
   "source": [
    "for i in tqdm(range(n_samples)):\n",
    "    results[i] = np.sign(np.sum(alpha*outcome*sigmoid(x=data_svm,y=test_data[i,:]))+b)\n",
    "    \n",
    "results_bis = results\n",
    "for i in range(n_samples):\n",
    "    if results[i] == -1:\n",
    "        results[i] = 0\n",
    "positives = np.sum(results)\n",
    "true_positives = 0\n",
    "mushrooms['result'] = results\n",
    "for i in range(n_samples):\n",
    "    if mushrooms.loc[i,'class'] == 1 and results[i] == 1:\n",
    "        true_positives += 1\n",
    "precision = true_positives/positives\n",
    "print(precision)"
   ]
  },
  {
   "cell_type": "code",
   "execution_count": null,
   "id": "c4bc4f06-4bef-4fe6-a750-00111eab6281",
   "metadata": {},
   "outputs": [],
   "source": []
  },
  {
   "cell_type": "code",
   "execution_count": 86,
   "id": "184f4919-374e-41f4-a5ab-2dffee20d2cb",
   "metadata": {},
   "outputs": [],
   "source": [
    "#with a=1,b=-1 the values seem soo small to be computed..."
   ]
  },
  {
   "cell_type": "code",
   "execution_count": 87,
   "id": "032214e2-43e4-4f9e-9f04-65f1853c7847",
   "metadata": {},
   "outputs": [],
   "source": [
    "### Now with the sklearn library"
   ]
  },
  {
   "cell_type": "code",
   "execution_count": 88,
   "id": "693c2490-d641-4bb5-9232-901f1acc390e",
   "metadata": {},
   "outputs": [],
   "source": [
    "sklearn_classif = SVC(kernel='rbf').fit(X=data_svm,y=outcome)"
   ]
  },
  {
   "cell_type": "code",
   "execution_count": 89,
   "id": "9abc1bb9-94ee-4fe9-ac69-6eb08fa85278",
   "metadata": {},
   "outputs": [],
   "source": [
    "results_sklearn = sklearn_classif.predict(test_data)"
   ]
  },
  {
   "cell_type": "code",
   "execution_count": 90,
   "id": "871dedb5-118a-4560-8ba0-513c1b6bb94d",
   "metadata": {},
   "outputs": [],
   "source": [
    "for i in range(n_samples):\n",
    "    if results_sklearn[i] == -1:\n",
    "        results_sklearn[i] = 0"
   ]
  },
  {
   "cell_type": "code",
   "execution_count": 91,
   "id": "d36726e8-6596-4810-b954-c0abc577d8d1",
   "metadata": {},
   "outputs": [
    {
     "name": "stdout",
     "output_type": "stream",
     "text": [
      "the precision with a rbf kernel is :  0.5953205816336489\n"
     ]
    }
   ],
   "source": [
    "positives_sklearn = np.sum(results_sklearn)\n",
    "true_positives_sklearn = 0\n",
    "for i in range(n_samples):\n",
    "    if mushrooms.loc[i,'class'] == 1 and results_sklearn[i] == 1:\n",
    "        true_positives_sklearn += 1\n",
    "precision = true_positives_sklearn/positives_sklearn\n",
    "print('the precision with a rbf kernel is : ', precision)"
   ]
  },
  {
   "cell_type": "markdown",
   "id": "a0aa4eff-186c-411f-9d25-f12298cfa80f",
   "metadata": {},
   "source": [
    "The one from sklearn is a bit more precise. It is done with an rbf kernel."
   ]
  },
  {
   "cell_type": "code",
   "execution_count": 92,
   "id": "7cfd5e07-bc58-4a43-a0e1-c0d139bbc4c6",
   "metadata": {},
   "outputs": [
    {
     "name": "stdout",
     "output_type": "stream",
     "text": [
      "the precision with a sigmoid kernel is :  0.7022766078542971\n"
     ]
    }
   ],
   "source": [
    "sklearn_classif = SVC(kernel='sigmoid').fit(X=data_svm,y=outcome)\n",
    "results_sklearn = sklearn_classif.predict(test_data)\n",
    "for i in range(n_samples):\n",
    "    if results_sklearn[i] == -1:\n",
    "        results_sklearn[i] = 0\n",
    "positives_sklearn = np.sum(results_sklearn)\n",
    "true_positives_sklearn = 0\n",
    "for i in range(n_samples):\n",
    "    if mushrooms.loc[i,'class'] == 1 and results_sklearn[i] == 1:\n",
    "        true_positives_sklearn += 1\n",
    "precision = true_positives_sklearn/positives_sklearn\n",
    "print('the precision with a sigmoid kernel is : ', precision)"
   ]
  },
  {
   "cell_type": "markdown",
   "id": "53ab73a9-1c33-4ff7-86b0-cfd61abbb57f",
   "metadata": {},
   "source": [
    "Done with a sigmoid kernel the precision is a lot higher."
   ]
  },
  {
   "cell_type": "code",
   "execution_count": 100,
   "id": "50cb9fc0-dd1c-4dae-9f2f-0b24379e497a",
   "metadata": {},
   "outputs": [
    {
     "name": "stderr",
     "output_type": "stream",
     "text": [
      "/tmp/ipykernel_349/1034725712.py:23: RuntimeWarning: overflow encountered in exp\n",
      "  d = (np.exp(transfo)-np.exp(-transfo))/(np.exp(transfo)+np.exp(-transfo))\n",
      "/tmp/ipykernel_349/1034725712.py:23: RuntimeWarning: invalid value encountered in scalar divide\n",
      "  d = (np.exp(transfo)-np.exp(-transfo))/(np.exp(transfo)+np.exp(-transfo))\n"
     ]
    },
    {
     "data": {
      "text/plain": [
       "nan"
      ]
     },
     "execution_count": 100,
     "metadata": {},
     "output_type": "execute_result"
    }
   ],
   "source": [
    "sigmoid(x=test_1,y=test_4)"
   ]
  },
  {
   "cell_type": "code",
   "execution_count": null,
   "id": "d828b763-410f-40bc-b868-f7eeabef2d01",
   "metadata": {},
   "outputs": [],
   "source": []
  }
 ],
 "metadata": {
  "kernelspec": {
   "display_name": "Python 3 (ipykernel)",
   "language": "python",
   "name": "python3"
  },
  "language_info": {
   "codemirror_mode": {
    "name": "ipython",
    "version": 3
   },
   "file_extension": ".py",
   "mimetype": "text/x-python",
   "name": "python",
   "nbconvert_exporter": "python",
   "pygments_lexer": "ipython3",
   "version": "3.12.3"
  }
 },
 "nbformat": 4,
 "nbformat_minor": 5
}
