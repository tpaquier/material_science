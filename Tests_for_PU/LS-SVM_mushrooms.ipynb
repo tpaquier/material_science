{
 "cells": [
  {
   "cell_type": "code",
   "execution_count": 118,
   "id": "e55b4d69-5e52-477f-905f-ac58252af378",
   "metadata": {},
   "outputs": [],
   "source": [
    "import numpy as np\n",
    "import pandas as pd\n",
    "from scipy.stats import bernoulli\n",
    "from sklearn.cluster import KMeans\n",
    "import matplotlib.pyplot as plt\n",
    "from tqdm import tqdm\n",
    "from sklearn.svm import SVC"
   ]
  },
  {
   "cell_type": "code",
   "execution_count": 14,
   "id": "db8b3e30-fe0a-4fb5-b7a2-ab3d4571b306",
   "metadata": {},
   "outputs": [],
   "source": [
    "mushrooms = pd.read_csv('mushroom.csv')"
   ]
  },
  {
   "cell_type": "code",
   "execution_count": 15,
   "id": "cd9ca152-cacf-46c8-9ee7-ccce1e990e77",
   "metadata": {},
   "outputs": [
    {
     "data": {
      "text/html": [
       "<div>\n",
       "<style scoped>\n",
       "    .dataframe tbody tr th:only-of-type {\n",
       "        vertical-align: middle;\n",
       "    }\n",
       "\n",
       "    .dataframe tbody tr th {\n",
       "        vertical-align: top;\n",
       "    }\n",
       "\n",
       "    .dataframe thead th {\n",
       "        text-align: right;\n",
       "    }\n",
       "</style>\n",
       "<table border=\"1\" class=\"dataframe\">\n",
       "  <thead>\n",
       "    <tr style=\"text-align: right;\">\n",
       "      <th></th>\n",
       "      <th>cap-diameter</th>\n",
       "      <th>cap-shape</th>\n",
       "      <th>gill-attachment</th>\n",
       "      <th>gill-color</th>\n",
       "      <th>stem-height</th>\n",
       "      <th>stem-width</th>\n",
       "      <th>stem-color</th>\n",
       "      <th>season</th>\n",
       "      <th>class</th>\n",
       "    </tr>\n",
       "  </thead>\n",
       "  <tbody>\n",
       "    <tr>\n",
       "      <th>0</th>\n",
       "      <td>1372</td>\n",
       "      <td>2</td>\n",
       "      <td>2</td>\n",
       "      <td>10</td>\n",
       "      <td>3.807467</td>\n",
       "      <td>1545</td>\n",
       "      <td>11</td>\n",
       "      <td>1.804273</td>\n",
       "      <td>1</td>\n",
       "    </tr>\n",
       "    <tr>\n",
       "      <th>1</th>\n",
       "      <td>1461</td>\n",
       "      <td>2</td>\n",
       "      <td>2</td>\n",
       "      <td>10</td>\n",
       "      <td>3.807467</td>\n",
       "      <td>1557</td>\n",
       "      <td>11</td>\n",
       "      <td>1.804273</td>\n",
       "      <td>1</td>\n",
       "    </tr>\n",
       "    <tr>\n",
       "      <th>2</th>\n",
       "      <td>1371</td>\n",
       "      <td>2</td>\n",
       "      <td>2</td>\n",
       "      <td>10</td>\n",
       "      <td>3.612496</td>\n",
       "      <td>1566</td>\n",
       "      <td>11</td>\n",
       "      <td>1.804273</td>\n",
       "      <td>1</td>\n",
       "    </tr>\n",
       "    <tr>\n",
       "      <th>3</th>\n",
       "      <td>1261</td>\n",
       "      <td>6</td>\n",
       "      <td>2</td>\n",
       "      <td>10</td>\n",
       "      <td>3.787572</td>\n",
       "      <td>1566</td>\n",
       "      <td>11</td>\n",
       "      <td>1.804273</td>\n",
       "      <td>1</td>\n",
       "    </tr>\n",
       "    <tr>\n",
       "      <th>4</th>\n",
       "      <td>1305</td>\n",
       "      <td>6</td>\n",
       "      <td>2</td>\n",
       "      <td>10</td>\n",
       "      <td>3.711971</td>\n",
       "      <td>1464</td>\n",
       "      <td>11</td>\n",
       "      <td>0.943195</td>\n",
       "      <td>1</td>\n",
       "    </tr>\n",
       "  </tbody>\n",
       "</table>\n",
       "</div>"
      ],
      "text/plain": [
       "   cap-diameter  cap-shape  gill-attachment  gill-color  stem-height  \\\n",
       "0          1372          2                2          10     3.807467   \n",
       "1          1461          2                2          10     3.807467   \n",
       "2          1371          2                2          10     3.612496   \n",
       "3          1261          6                2          10     3.787572   \n",
       "4          1305          6                2          10     3.711971   \n",
       "\n",
       "   stem-width  stem-color    season  class  \n",
       "0        1545          11  1.804273      1  \n",
       "1        1557          11  1.804273      1  \n",
       "2        1566          11  1.804273      1  \n",
       "3        1566          11  1.804273      1  \n",
       "4        1464          11  0.943195      1  "
      ]
     },
     "execution_count": 15,
     "metadata": {},
     "output_type": "execute_result"
    }
   ],
   "source": [
    "mushrooms.head()"
   ]
  },
  {
   "cell_type": "code",
   "execution_count": 16,
   "id": "64678b8e-a2a6-4496-8431-c7f25115bbb0",
   "metadata": {},
   "outputs": [],
   "source": [
    "n_samples = mushrooms.shape[0]"
   ]
  },
  {
   "cell_type": "code",
   "execution_count": 17,
   "id": "cf90e9a2-f651-48f8-97b1-f718d7445a8d",
   "metadata": {},
   "outputs": [],
   "source": [
    "mushrooms['label'] = np.ones(n_samples)*(-1)\n",
    "for i in range(n_samples):\n",
    "    random = bernoulli.rvs(p=3/4)\n",
    "    if mushrooms.loc[i,'class'] == 1 and random == 0:\n",
    "        mushrooms.loc[i,'label'] = 1\n",
    "    else:\n",
    "        mushrooms.loc[i,'label'] = -1"
   ]
  },
  {
   "cell_type": "code",
   "execution_count": 18,
   "id": "89c0701c-c7d2-4e15-9215-6647b222e9c0",
   "metadata": {},
   "outputs": [
    {
     "data": {
      "text/html": [
       "<div>\n",
       "<style scoped>\n",
       "    .dataframe tbody tr th:only-of-type {\n",
       "        vertical-align: middle;\n",
       "    }\n",
       "\n",
       "    .dataframe tbody tr th {\n",
       "        vertical-align: top;\n",
       "    }\n",
       "\n",
       "    .dataframe thead th {\n",
       "        text-align: right;\n",
       "    }\n",
       "</style>\n",
       "<table border=\"1\" class=\"dataframe\">\n",
       "  <thead>\n",
       "    <tr style=\"text-align: right;\">\n",
       "      <th></th>\n",
       "      <th>cap-diameter</th>\n",
       "      <th>cap-shape</th>\n",
       "      <th>gill-attachment</th>\n",
       "      <th>gill-color</th>\n",
       "      <th>stem-height</th>\n",
       "      <th>stem-width</th>\n",
       "      <th>stem-color</th>\n",
       "      <th>season</th>\n",
       "      <th>class</th>\n",
       "    </tr>\n",
       "    <tr>\n",
       "      <th>label</th>\n",
       "      <th></th>\n",
       "      <th></th>\n",
       "      <th></th>\n",
       "      <th></th>\n",
       "      <th></th>\n",
       "      <th></th>\n",
       "      <th></th>\n",
       "      <th></th>\n",
       "      <th></th>\n",
       "    </tr>\n",
       "  </thead>\n",
       "  <tbody>\n",
       "    <tr>\n",
       "      <th>-1.0</th>\n",
       "      <td>46613</td>\n",
       "      <td>46613</td>\n",
       "      <td>46613</td>\n",
       "      <td>46613</td>\n",
       "      <td>46613</td>\n",
       "      <td>46613</td>\n",
       "      <td>46613</td>\n",
       "      <td>46613</td>\n",
       "      <td>46613</td>\n",
       "    </tr>\n",
       "    <tr>\n",
       "      <th>1.0</th>\n",
       "      <td>7422</td>\n",
       "      <td>7422</td>\n",
       "      <td>7422</td>\n",
       "      <td>7422</td>\n",
       "      <td>7422</td>\n",
       "      <td>7422</td>\n",
       "      <td>7422</td>\n",
       "      <td>7422</td>\n",
       "      <td>7422</td>\n",
       "    </tr>\n",
       "  </tbody>\n",
       "</table>\n",
       "</div>"
      ],
      "text/plain": [
       "       cap-diameter  cap-shape  gill-attachment  gill-color  stem-height  \\\n",
       "label                                                                      \n",
       "-1.0          46613      46613            46613       46613        46613   \n",
       " 1.0           7422       7422             7422        7422         7422   \n",
       "\n",
       "       stem-width  stem-color  season  class  \n",
       "label                                         \n",
       "-1.0        46613       46613   46613  46613  \n",
       " 1.0         7422        7422    7422   7422  "
      ]
     },
     "execution_count": 18,
     "metadata": {},
     "output_type": "execute_result"
    }
   ],
   "source": [
    "mushrooms.groupby('label').count()"
   ]
  },
  {
   "cell_type": "code",
   "execution_count": 21,
   "id": "57ba2117-63e9-4046-8bd2-8a70d9ba003d",
   "metadata": {},
   "outputs": [],
   "source": [
    "list_of_inertia = np.empty(10)\n",
    "for i in range(1,11):\n",
    "    list_of_inertia[i-1] = KMeans(n_clusters=i,init = 'random').fit(mushrooms.drop(['label', 'class'], axis=1).to_numpy()).inertia_"
   ]
  },
  {
   "cell_type": "code",
   "execution_count": 42,
   "id": "b4996c0a-0c4c-4a04-8211-4a48dd3ea3f4",
   "metadata": {},
   "outputs": [],
   "source": [
    "n_cluster = 10"
   ]
  },
  {
   "cell_type": "code",
   "execution_count": 43,
   "id": "ee2b5a2a-d3ac-4493-ad72-840eab536e43",
   "metadata": {},
   "outputs": [],
   "source": [
    "clusterized_data = KMeans(n_clusters=n_cluster, init='random').fit(mushrooms.drop(['label', 'class'], axis=1).to_numpy())"
   ]
  },
  {
   "cell_type": "code",
   "execution_count": 44,
   "id": "dc4241a1-0f8d-4d1f-ad78-d05c15beb193",
   "metadata": {},
   "outputs": [],
   "source": [
    "mushrooms['cluster'] = clusterized_data.labels_"
   ]
  },
  {
   "cell_type": "code",
   "execution_count": 45,
   "id": "5d541226-574e-489d-b34b-ec9688ba0f8c",
   "metadata": {},
   "outputs": [
    {
     "data": {
      "text/html": [
       "<div>\n",
       "<style scoped>\n",
       "    .dataframe tbody tr th:only-of-type {\n",
       "        vertical-align: middle;\n",
       "    }\n",
       "\n",
       "    .dataframe tbody tr th {\n",
       "        vertical-align: top;\n",
       "    }\n",
       "\n",
       "    .dataframe thead th {\n",
       "        text-align: right;\n",
       "    }\n",
       "</style>\n",
       "<table border=\"1\" class=\"dataframe\">\n",
       "  <thead>\n",
       "    <tr style=\"text-align: right;\">\n",
       "      <th></th>\n",
       "      <th>class</th>\n",
       "      <th>label</th>\n",
       "    </tr>\n",
       "    <tr>\n",
       "      <th>cluster</th>\n",
       "      <th></th>\n",
       "      <th></th>\n",
       "    </tr>\n",
       "  </thead>\n",
       "  <tbody>\n",
       "    <tr>\n",
       "      <th>0</th>\n",
       "      <td>812</td>\n",
       "      <td>-1678.0</td>\n",
       "    </tr>\n",
       "    <tr>\n",
       "      <th>1</th>\n",
       "      <td>896</td>\n",
       "      <td>-932.0</td>\n",
       "    </tr>\n",
       "    <tr>\n",
       "      <th>2</th>\n",
       "      <td>738</td>\n",
       "      <td>-2820.0</td>\n",
       "    </tr>\n",
       "    <tr>\n",
       "      <th>3</th>\n",
       "      <td>8241</td>\n",
       "      <td>-7043.0</td>\n",
       "    </tr>\n",
       "    <tr>\n",
       "      <th>4</th>\n",
       "      <td>3564</td>\n",
       "      <td>-5527.0</td>\n",
       "    </tr>\n",
       "    <tr>\n",
       "      <th>5</th>\n",
       "      <td>6345</td>\n",
       "      <td>-7017.0</td>\n",
       "    </tr>\n",
       "    <tr>\n",
       "      <th>6</th>\n",
       "      <td>736</td>\n",
       "      <td>-515.0</td>\n",
       "    </tr>\n",
       "    <tr>\n",
       "      <th>7</th>\n",
       "      <td>2767</td>\n",
       "      <td>-4392.0</td>\n",
       "    </tr>\n",
       "    <tr>\n",
       "      <th>8</th>\n",
       "      <td>4510</td>\n",
       "      <td>-6913.0</td>\n",
       "    </tr>\n",
       "    <tr>\n",
       "      <th>9</th>\n",
       "      <td>1066</td>\n",
       "      <td>-2354.0</td>\n",
       "    </tr>\n",
       "  </tbody>\n",
       "</table>\n",
       "</div>"
      ],
      "text/plain": [
       "         class   label\n",
       "cluster               \n",
       "0          812 -1678.0\n",
       "1          896  -932.0\n",
       "2          738 -2820.0\n",
       "3         8241 -7043.0\n",
       "4         3564 -5527.0\n",
       "5         6345 -7017.0\n",
       "6          736  -515.0\n",
       "7         2767 -4392.0\n",
       "8         4510 -6913.0\n",
       "9         1066 -2354.0"
      ]
     },
     "execution_count": 45,
     "metadata": {},
     "output_type": "execute_result"
    }
   ],
   "source": [
    "mushrooms[['class','label','cluster']].groupby('cluster').sum()"
   ]
  },
  {
   "cell_type": "code",
   "execution_count": 46,
   "id": "671dccc0-cd76-40af-b5ac-facd7f5d7fd8",
   "metadata": {},
   "outputs": [],
   "source": [
    "positive_cluster = np.where(mushrooms[['class','label','cluster']].groupby('cluster').sum().to_numpy()[:,0] == \n",
    "                            np.max(mushrooms[['class','label','cluster']].groupby('cluster').sum().to_numpy()[:,0]))[0][0]"
   ]
  },
  {
   "cell_type": "code",
   "execution_count": 50,
   "id": "c704aa46-db45-4ab3-a69e-21ac868d3261",
   "metadata": {},
   "outputs": [],
   "source": [
    "positive_centroid = clusterized_data.cluster_centers_[positive_cluster]"
   ]
  },
  {
   "cell_type": "code",
   "execution_count": 53,
   "id": "99c7a59c-3e50-4c54-bc14-dc711bf3d48c",
   "metadata": {},
   "outputs": [],
   "source": [
    "dist_to_positive = np.empty(n_cluster)\n",
    "for i in range(n_cluster):\n",
    "    dist_to_positive[i] = np.linalg.norm(positive_centroid - clusterized_data.cluster_centers_[i])"
   ]
  },
  {
   "cell_type": "code",
   "execution_count": 54,
   "id": "f02863a4-e6e7-4729-8854-f62d056820ea",
   "metadata": {},
   "outputs": [],
   "source": [
    "negative_cluster = np.where(dist_to_positive == np.max(dist_to_positive))[0][0]"
   ]
  },
  {
   "cell_type": "code",
   "execution_count": 68,
   "id": "9ff973da-f41b-4046-81c1-f54da6717289",
   "metadata": {},
   "outputs": [
    {
     "name": "stdout",
     "output_type": "stream",
     "text": [
      "the cluster containing positive values is :  3 \n",
      " the one containing negative exampels is :  6\n"
     ]
    }
   ],
   "source": [
    "print('the cluster containing positive values is : ', positive_cluster, '\\n', \n",
    "      'the one containing negative exampels is : ', negative_cluster)"
   ]
  },
  {
   "cell_type": "code",
   "execution_count": 63,
   "id": "251389bb-16b6-454d-8da2-9172b18d4574",
   "metadata": {},
   "outputs": [],
   "source": [
    "reliable_negatives = mushrooms[mushrooms['cluster'] == negative_cluster]"
   ]
  },
  {
   "cell_type": "code",
   "execution_count": 64,
   "id": "abd10a4f-85cc-4731-8e09-8e46659497e2",
   "metadata": {},
   "outputs": [],
   "source": [
    "reliable_negatives = reliable_negatives[reliable_negatives['label'] == -1]"
   ]
  },
  {
   "cell_type": "code",
   "execution_count": 1,
   "id": "1282780c-1f31-45db-9fd1-1655872031d9",
   "metadata": {},
   "outputs": [],
   "source": [
    "def sigmoid(x,y,a=1,b=-1):\n",
    "    \"\"\"a function to compute the sigmoid kernel with the hyperbolic tangent\n",
    "\n",
    "    Parameters\n",
    "    ----------------------------\n",
    "    x : array-like or float\n",
    "    input vector or real number\n",
    "\n",
    "    y : array-like or float\n",
    "    second input vector or float\n",
    "\n",
    "    a : strictly positive float\n",
    "    a tuning parameter\n",
    "\n",
    "    b : strictly negativ float\n",
    "    a tuning parameter\n",
    "    ----------------------------\n",
    "    \"\"\"\n",
    "    dim = x.shape[0]\n",
    "    vect = np.empty(dim)\n",
    "    if dim == y.shape[0]:\n",
    "        transfo = a*np.sum(x*y) + b\n",
    "        d = (np.exp(transfo)-np.exp(-transfo))/(np.exp(transfo)+np.exp(-transfo))\n",
    "        return d\n",
    "    else:\n",
    "        for i in range(dim):\n",
    "            transfo = a*np.sum(x[i]*y) + b\n",
    "            vect[i] = (np.exp(transfo)-np.exp(-transfo))/(np.exp(transfo)+np.exp(-transfo))\n",
    "            return vect"
   ]
  },
  {
   "cell_type": "code",
   "execution_count": 152,
   "id": "c2ccb7b7-4b9e-42b9-9d25-369ceb194487",
   "metadata": {},
   "outputs": [],
   "source": [
    "def rbf(x,y,l=1):\n",
    "    \"\"\"Gaussian kernel\n",
    "\n",
    "    Parameters\n",
    "    -------------------------------\n",
    "    x : float\n",
    "    a real number\n",
    "\n",
    "    y : float\n",
    "    a real number\n",
    "\n",
    "    l: float, non zero\n",
    "    a scale parameter\n",
    "    -------------------------------\n",
    "    \"\"\"\n",
    "    dim = x.shape[0]\n",
    "    vect = np.empty(dim)\n",
    "    if dim == y.shape[0]  :\n",
    "        d = np.exp(-((np.linalg.norm(x-y))**2)/(2*(l**2)))\n",
    "        return d\n",
    "    else :\n",
    "        for i in range(dim):\n",
    "            vect[i] = np.exp(-((np.linalg.norm(x[i] - y))**2)/(2*(l**2)))\n",
    "        return vect"
   ]
  },
  {
   "cell_type": "code",
   "execution_count": 67,
   "id": "40e6f8e5-1e7b-4b8d-9884-bfea8bb78d47",
   "metadata": {},
   "outputs": [],
   "source": [
    "gamma = 1"
   ]
  },
  {
   "cell_type": "code",
   "execution_count": 69,
   "id": "63187ef4-39a3-4561-ad1f-21112a064ed7",
   "metadata": {},
   "outputs": [],
   "source": [
    "positives = mushrooms[mushrooms['cluster'] == positive_cluster]\n",
    "positives = positives[positives['label'] == 1]"
   ]
  },
  {
   "cell_type": "code",
   "execution_count": 70,
   "id": "2922976a-1adb-4362-b6ae-9805c47227cb",
   "metadata": {},
   "outputs": [
    {
     "data": {
      "text/html": [
       "<div>\n",
       "<style scoped>\n",
       "    .dataframe tbody tr th:only-of-type {\n",
       "        vertical-align: middle;\n",
       "    }\n",
       "\n",
       "    .dataframe tbody tr th {\n",
       "        vertical-align: top;\n",
       "    }\n",
       "\n",
       "    .dataframe thead th {\n",
       "        text-align: right;\n",
       "    }\n",
       "</style>\n",
       "<table border=\"1\" class=\"dataframe\">\n",
       "  <thead>\n",
       "    <tr style=\"text-align: right;\">\n",
       "      <th></th>\n",
       "      <th>cap-diameter</th>\n",
       "      <th>cap-shape</th>\n",
       "      <th>gill-attachment</th>\n",
       "      <th>gill-color</th>\n",
       "      <th>stem-height</th>\n",
       "      <th>stem-width</th>\n",
       "      <th>stem-color</th>\n",
       "      <th>season</th>\n",
       "      <th>class</th>\n",
       "      <th>label</th>\n",
       "      <th>cluster</th>\n",
       "    </tr>\n",
       "  </thead>\n",
       "  <tbody>\n",
       "    <tr>\n",
       "      <th>2852</th>\n",
       "      <td>321</td>\n",
       "      <td>0</td>\n",
       "      <td>2</td>\n",
       "      <td>10</td>\n",
       "      <td>0.836013</td>\n",
       "      <td>299</td>\n",
       "      <td>11</td>\n",
       "      <td>0.888450</td>\n",
       "      <td>1</td>\n",
       "      <td>1.0</td>\n",
       "      <td>3</td>\n",
       "    </tr>\n",
       "    <tr>\n",
       "      <th>2853</th>\n",
       "      <td>232</td>\n",
       "      <td>2</td>\n",
       "      <td>2</td>\n",
       "      <td>5</td>\n",
       "      <td>0.959362</td>\n",
       "      <td>269</td>\n",
       "      <td>11</td>\n",
       "      <td>0.943195</td>\n",
       "      <td>1</td>\n",
       "      <td>1.0</td>\n",
       "      <td>3</td>\n",
       "    </tr>\n",
       "    <tr>\n",
       "      <th>2861</th>\n",
       "      <td>176</td>\n",
       "      <td>0</td>\n",
       "      <td>2</td>\n",
       "      <td>5</td>\n",
       "      <td>1.345324</td>\n",
       "      <td>277</td>\n",
       "      <td>11</td>\n",
       "      <td>0.943195</td>\n",
       "      <td>1</td>\n",
       "      <td>1.0</td>\n",
       "      <td>3</td>\n",
       "    </tr>\n",
       "    <tr>\n",
       "      <th>2863</th>\n",
       "      <td>291</td>\n",
       "      <td>2</td>\n",
       "      <td>2</td>\n",
       "      <td>5</td>\n",
       "      <td>0.748476</td>\n",
       "      <td>283</td>\n",
       "      <td>11</td>\n",
       "      <td>0.888450</td>\n",
       "      <td>1</td>\n",
       "      <td>1.0</td>\n",
       "      <td>3</td>\n",
       "    </tr>\n",
       "    <tr>\n",
       "      <th>2864</th>\n",
       "      <td>273</td>\n",
       "      <td>2</td>\n",
       "      <td>2</td>\n",
       "      <td>5</td>\n",
       "      <td>0.577379</td>\n",
       "      <td>306</td>\n",
       "      <td>11</td>\n",
       "      <td>0.888450</td>\n",
       "      <td>1</td>\n",
       "      <td>1.0</td>\n",
       "      <td>3</td>\n",
       "    </tr>\n",
       "    <tr>\n",
       "      <th>...</th>\n",
       "      <td>...</td>\n",
       "      <td>...</td>\n",
       "      <td>...</td>\n",
       "      <td>...</td>\n",
       "      <td>...</td>\n",
       "      <td>...</td>\n",
       "      <td>...</td>\n",
       "      <td>...</td>\n",
       "      <td>...</td>\n",
       "      <td>...</td>\n",
       "      <td>...</td>\n",
       "    </tr>\n",
       "    <tr>\n",
       "      <th>53869</th>\n",
       "      <td>67</td>\n",
       "      <td>6</td>\n",
       "      <td>3</td>\n",
       "      <td>2</td>\n",
       "      <td>1.393072</td>\n",
       "      <td>405</td>\n",
       "      <td>12</td>\n",
       "      <td>0.888450</td>\n",
       "      <td>1</td>\n",
       "      <td>1.0</td>\n",
       "      <td>3</td>\n",
       "    </tr>\n",
       "    <tr>\n",
       "      <th>53878</th>\n",
       "      <td>64</td>\n",
       "      <td>2</td>\n",
       "      <td>3</td>\n",
       "      <td>2</td>\n",
       "      <td>1.420925</td>\n",
       "      <td>404</td>\n",
       "      <td>12</td>\n",
       "      <td>0.943195</td>\n",
       "      <td>1</td>\n",
       "      <td>1.0</td>\n",
       "      <td>3</td>\n",
       "    </tr>\n",
       "    <tr>\n",
       "      <th>53893</th>\n",
       "      <td>85</td>\n",
       "      <td>6</td>\n",
       "      <td>3</td>\n",
       "      <td>2</td>\n",
       "      <td>1.150354</td>\n",
       "      <td>389</td>\n",
       "      <td>12</td>\n",
       "      <td>0.888450</td>\n",
       "      <td>1</td>\n",
       "      <td>1.0</td>\n",
       "      <td>3</td>\n",
       "    </tr>\n",
       "    <tr>\n",
       "      <th>53949</th>\n",
       "      <td>63</td>\n",
       "      <td>2</td>\n",
       "      <td>3</td>\n",
       "      <td>2</td>\n",
       "      <td>1.428883</td>\n",
       "      <td>407</td>\n",
       "      <td>12</td>\n",
       "      <td>0.943195</td>\n",
       "      <td>1</td>\n",
       "      <td>1.0</td>\n",
       "      <td>3</td>\n",
       "    </tr>\n",
       "    <tr>\n",
       "      <th>53955</th>\n",
       "      <td>64</td>\n",
       "      <td>2</td>\n",
       "      <td>3</td>\n",
       "      <td>2</td>\n",
       "      <td>1.249828</td>\n",
       "      <td>415</td>\n",
       "      <td>12</td>\n",
       "      <td>0.943195</td>\n",
       "      <td>1</td>\n",
       "      <td>1.0</td>\n",
       "      <td>3</td>\n",
       "    </tr>\n",
       "  </tbody>\n",
       "</table>\n",
       "<p>2087 rows × 11 columns</p>\n",
       "</div>"
      ],
      "text/plain": [
       "       cap-diameter  cap-shape  gill-attachment  gill-color  stem-height  \\\n",
       "2852            321          0                2          10     0.836013   \n",
       "2853            232          2                2           5     0.959362   \n",
       "2861            176          0                2           5     1.345324   \n",
       "2863            291          2                2           5     0.748476   \n",
       "2864            273          2                2           5     0.577379   \n",
       "...             ...        ...              ...         ...          ...   \n",
       "53869            67          6                3           2     1.393072   \n",
       "53878            64          2                3           2     1.420925   \n",
       "53893            85          6                3           2     1.150354   \n",
       "53949            63          2                3           2     1.428883   \n",
       "53955            64          2                3           2     1.249828   \n",
       "\n",
       "       stem-width  stem-color    season  class  label  cluster  \n",
       "2852          299          11  0.888450      1    1.0        3  \n",
       "2853          269          11  0.943195      1    1.0        3  \n",
       "2861          277          11  0.943195      1    1.0        3  \n",
       "2863          283          11  0.888450      1    1.0        3  \n",
       "2864          306          11  0.888450      1    1.0        3  \n",
       "...           ...         ...       ...    ...    ...      ...  \n",
       "53869         405          12  0.888450      1    1.0        3  \n",
       "53878         404          12  0.943195      1    1.0        3  \n",
       "53893         389          12  0.888450      1    1.0        3  \n",
       "53949         407          12  0.943195      1    1.0        3  \n",
       "53955         415          12  0.943195      1    1.0        3  \n",
       "\n",
       "[2087 rows x 11 columns]"
      ]
     },
     "execution_count": 70,
     "metadata": {},
     "output_type": "execute_result"
    }
   ],
   "source": [
    "positives"
   ]
  },
  {
   "cell_type": "code",
   "execution_count": 72,
   "id": "b12aaee6-6a13-4416-94a0-dbf1000048e9",
   "metadata": {},
   "outputs": [
    {
     "data": {
      "text/html": [
       "<div>\n",
       "<style scoped>\n",
       "    .dataframe tbody tr th:only-of-type {\n",
       "        vertical-align: middle;\n",
       "    }\n",
       "\n",
       "    .dataframe tbody tr th {\n",
       "        vertical-align: top;\n",
       "    }\n",
       "\n",
       "    .dataframe thead th {\n",
       "        text-align: right;\n",
       "    }\n",
       "</style>\n",
       "<table border=\"1\" class=\"dataframe\">\n",
       "  <thead>\n",
       "    <tr style=\"text-align: right;\">\n",
       "      <th></th>\n",
       "      <th>cap-diameter</th>\n",
       "      <th>cap-shape</th>\n",
       "      <th>gill-attachment</th>\n",
       "      <th>gill-color</th>\n",
       "      <th>stem-height</th>\n",
       "      <th>stem-width</th>\n",
       "      <th>stem-color</th>\n",
       "      <th>season</th>\n",
       "      <th>class</th>\n",
       "      <th>label</th>\n",
       "      <th>cluster</th>\n",
       "    </tr>\n",
       "  </thead>\n",
       "  <tbody>\n",
       "    <tr>\n",
       "      <th>4624</th>\n",
       "      <td>1592</td>\n",
       "      <td>5</td>\n",
       "      <td>1</td>\n",
       "      <td>10</td>\n",
       "      <td>1.551380</td>\n",
       "      <td>2783</td>\n",
       "      <td>11</td>\n",
       "      <td>0.943195</td>\n",
       "      <td>0</td>\n",
       "      <td>-1.0</td>\n",
       "      <td>6</td>\n",
       "    </tr>\n",
       "    <tr>\n",
       "      <th>4674</th>\n",
       "      <td>1396</td>\n",
       "      <td>2</td>\n",
       "      <td>1</td>\n",
       "      <td>10</td>\n",
       "      <td>1.511590</td>\n",
       "      <td>2846</td>\n",
       "      <td>11</td>\n",
       "      <td>0.943195</td>\n",
       "      <td>0</td>\n",
       "      <td>-1.0</td>\n",
       "      <td>6</td>\n",
       "    </tr>\n",
       "    <tr>\n",
       "      <th>4703</th>\n",
       "      <td>1522</td>\n",
       "      <td>5</td>\n",
       "      <td>0</td>\n",
       "      <td>10</td>\n",
       "      <td>1.925405</td>\n",
       "      <td>2823</td>\n",
       "      <td>11</td>\n",
       "      <td>0.943195</td>\n",
       "      <td>0</td>\n",
       "      <td>-1.0</td>\n",
       "      <td>6</td>\n",
       "    </tr>\n",
       "    <tr>\n",
       "      <th>4707</th>\n",
       "      <td>1440</td>\n",
       "      <td>6</td>\n",
       "      <td>1</td>\n",
       "      <td>10</td>\n",
       "      <td>1.949279</td>\n",
       "      <td>2884</td>\n",
       "      <td>11</td>\n",
       "      <td>1.804273</td>\n",
       "      <td>0</td>\n",
       "      <td>-1.0</td>\n",
       "      <td>6</td>\n",
       "    </tr>\n",
       "    <tr>\n",
       "      <th>4714</th>\n",
       "      <td>1844</td>\n",
       "      <td>5</td>\n",
       "      <td>1</td>\n",
       "      <td>10</td>\n",
       "      <td>1.193271</td>\n",
       "      <td>2727</td>\n",
       "      <td>11</td>\n",
       "      <td>0.943195</td>\n",
       "      <td>0</td>\n",
       "      <td>-1.0</td>\n",
       "      <td>6</td>\n",
       "    </tr>\n",
       "    <tr>\n",
       "      <th>...</th>\n",
       "      <td>...</td>\n",
       "      <td>...</td>\n",
       "      <td>...</td>\n",
       "      <td>...</td>\n",
       "      <td>...</td>\n",
       "      <td>...</td>\n",
       "      <td>...</td>\n",
       "      <td>...</td>\n",
       "      <td>...</td>\n",
       "      <td>...</td>\n",
       "      <td>...</td>\n",
       "    </tr>\n",
       "    <tr>\n",
       "      <th>52090</th>\n",
       "      <td>1849</td>\n",
       "      <td>2</td>\n",
       "      <td>4</td>\n",
       "      <td>11</td>\n",
       "      <td>0.155606</td>\n",
       "      <td>3346</td>\n",
       "      <td>6</td>\n",
       "      <td>1.804273</td>\n",
       "      <td>1</td>\n",
       "      <td>-1.0</td>\n",
       "      <td>6</td>\n",
       "    </tr>\n",
       "    <tr>\n",
       "      <th>52091</th>\n",
       "      <td>1691</td>\n",
       "      <td>2</td>\n",
       "      <td>4</td>\n",
       "      <td>11</td>\n",
       "      <td>0.374451</td>\n",
       "      <td>3086</td>\n",
       "      <td>6</td>\n",
       "      <td>0.943195</td>\n",
       "      <td>1</td>\n",
       "      <td>-1.0</td>\n",
       "      <td>6</td>\n",
       "    </tr>\n",
       "    <tr>\n",
       "      <th>52092</th>\n",
       "      <td>1510</td>\n",
       "      <td>6</td>\n",
       "      <td>4</td>\n",
       "      <td>11</td>\n",
       "      <td>0.298850</td>\n",
       "      <td>3360</td>\n",
       "      <td>6</td>\n",
       "      <td>0.943195</td>\n",
       "      <td>1</td>\n",
       "      <td>-1.0</td>\n",
       "      <td>6</td>\n",
       "    </tr>\n",
       "    <tr>\n",
       "      <th>52093</th>\n",
       "      <td>1699</td>\n",
       "      <td>6</td>\n",
       "      <td>4</td>\n",
       "      <td>11</td>\n",
       "      <td>0.418220</td>\n",
       "      <td>3445</td>\n",
       "      <td>6</td>\n",
       "      <td>0.943195</td>\n",
       "      <td>1</td>\n",
       "      <td>-1.0</td>\n",
       "      <td>6</td>\n",
       "    </tr>\n",
       "    <tr>\n",
       "      <th>52094</th>\n",
       "      <td>1392</td>\n",
       "      <td>2</td>\n",
       "      <td>4</td>\n",
       "      <td>11</td>\n",
       "      <td>0.493820</td>\n",
       "      <td>3273</td>\n",
       "      <td>6</td>\n",
       "      <td>1.804273</td>\n",
       "      <td>1</td>\n",
       "      <td>-1.0</td>\n",
       "      <td>6</td>\n",
       "    </tr>\n",
       "  </tbody>\n",
       "</table>\n",
       "<p>705 rows × 11 columns</p>\n",
       "</div>"
      ],
      "text/plain": [
       "       cap-diameter  cap-shape  gill-attachment  gill-color  stem-height  \\\n",
       "4624           1592          5                1          10     1.551380   \n",
       "4674           1396          2                1          10     1.511590   \n",
       "4703           1522          5                0          10     1.925405   \n",
       "4707           1440          6                1          10     1.949279   \n",
       "4714           1844          5                1          10     1.193271   \n",
       "...             ...        ...              ...         ...          ...   \n",
       "52090          1849          2                4          11     0.155606   \n",
       "52091          1691          2                4          11     0.374451   \n",
       "52092          1510          6                4          11     0.298850   \n",
       "52093          1699          6                4          11     0.418220   \n",
       "52094          1392          2                4          11     0.493820   \n",
       "\n",
       "       stem-width  stem-color    season  class  label  cluster  \n",
       "4624         2783          11  0.943195      0   -1.0        6  \n",
       "4674         2846          11  0.943195      0   -1.0        6  \n",
       "4703         2823          11  0.943195      0   -1.0        6  \n",
       "4707         2884          11  1.804273      0   -1.0        6  \n",
       "4714         2727          11  0.943195      0   -1.0        6  \n",
       "...           ...         ...       ...    ...    ...      ...  \n",
       "52090        3346           6  1.804273      1   -1.0        6  \n",
       "52091        3086           6  0.943195      1   -1.0        6  \n",
       "52092        3360           6  0.943195      1   -1.0        6  \n",
       "52093        3445           6  0.943195      1   -1.0        6  \n",
       "52094        3273           6  1.804273      1   -1.0        6  \n",
       "\n",
       "[705 rows x 11 columns]"
      ]
     },
     "execution_count": 72,
     "metadata": {},
     "output_type": "execute_result"
    }
   ],
   "source": [
    "reliable_negatives"
   ]
  },
  {
   "cell_type": "code",
   "execution_count": 73,
   "id": "0943f847-9d4b-495d-a6fb-381fa487c486",
   "metadata": {},
   "outputs": [],
   "source": [
    "positives_array = positives.drop(['class','cluster'], axis=1)\n",
    "negatives_array = reliable_negatives.drop(['class', 'cluster'], axis=1)"
   ]
  },
  {
   "cell_type": "code",
   "execution_count": 75,
   "id": "a68894e5-c870-41ab-8914-486636102d34",
   "metadata": {},
   "outputs": [],
   "source": [
    "data_svm = np.vstack((positives_array,negatives_array))"
   ]
  },
  {
   "cell_type": "code",
   "execution_count": 76,
   "id": "6930ef1c-8e2d-4178-a866-0a9adfad1583",
   "metadata": {},
   "outputs": [],
   "source": [
    "n_reliable = data_svm.shape[0]"
   ]
  },
  {
   "cell_type": "code",
   "execution_count": 86,
   "id": "04b79621-aaed-4857-aa85-a7fe98a6f57a",
   "metadata": {},
   "outputs": [],
   "source": [
    "outcome = data_svm[:,8]"
   ]
  },
  {
   "cell_type": "code",
   "execution_count": 91,
   "id": "086a4bb3-35f8-48f9-856b-a51507d5ca89",
   "metadata": {},
   "outputs": [],
   "source": [
    "data_svm = data_svm[:,:8]"
   ]
  },
  {
   "cell_type": "code",
   "execution_count": 92,
   "id": "e334a5f1-65a8-46a8-aa6f-73c9ea30c616",
   "metadata": {},
   "outputs": [],
   "source": [
    "omega = np.empty((n_reliable,n_reliable))\n",
    "for k in range(n_reliable):\n",
    "    for i in range(n_reliable):\n",
    "        omega[k,i] = outcome[k]*outcome[i]*rbf(x=data_svm[k,:],y=data_svm[i,:],l=1)"
   ]
  },
  {
   "cell_type": "code",
   "execution_count": 94,
   "id": "56d3356b-6936-4569-a056-191f9201c0c2",
   "metadata": {},
   "outputs": [],
   "source": [
    "first_row = np.hstack((0,-np.transpose(outcome)))\n",
    "first_row = first_row.reshape(1,first_row.shape[0])\n",
    "bot_of_mat_right = omega + (1/gamma)*np.eye(n_reliable)\n",
    "bot_of_mat = np.hstack((outcome.reshape(n_reliable,1), bot_of_mat_right))\n",
    "whole_mat = np.vstack((first_row, bot_of_mat))\n",
    "right_hand = np.ones(n_reliable+1)\n",
    "right_hand[0] = 0"
   ]
  },
  {
   "cell_type": "code",
   "execution_count": 95,
   "id": "a695becb-7123-4ba0-85e6-89b0507d23df",
   "metadata": {},
   "outputs": [],
   "source": [
    "coeffs = np.linalg.solve(a=whole_mat,b=right_hand)"
   ]
  },
  {
   "cell_type": "code",
   "execution_count": 99,
   "id": "77164dfe-32d7-46f0-96fe-a6f25012d857",
   "metadata": {},
   "outputs": [],
   "source": [
    "b = coeffs[0]\n",
    "alpha = coeffs[1:coeffs.shape[0]]"
   ]
  },
  {
   "cell_type": "code",
   "execution_count": 101,
   "id": "800fd9ba-85c7-404f-85f4-08f235142401",
   "metadata": {},
   "outputs": [],
   "source": [
    "test_data = mushrooms.drop(['class','label','cluster'], axis=1).to_numpy()\n",
    "results = np.empty(n_samples)"
   ]
  },
  {
   "cell_type": "code",
   "execution_count": 109,
   "id": "904d23e9-535d-4b15-9e11-6be7f3f4e8d7",
   "metadata": {},
   "outputs": [
    {
     "name": "stderr",
     "output_type": "stream",
     "text": [
      "100%|██████████| 54035/54035 [12:36<00:00, 71.38it/s]\n"
     ]
    }
   ],
   "source": [
    "for i in tqdm(range(n_samples)):\n",
    "    results[i] = np.sign(np.sum(alpha*outcome*rbf(x=data_svm,y=test_data[i,:],l=1))+b)"
   ]
  },
  {
   "cell_type": "code",
   "execution_count": 110,
   "id": "bde3a73a-d004-473a-8baa-1884295c904f",
   "metadata": {},
   "outputs": [],
   "source": [
    "results_bis = results"
   ]
  },
  {
   "cell_type": "code",
   "execution_count": 111,
   "id": "8d4e18f0-73ff-4fc4-b8a6-b01b3e43eda8",
   "metadata": {},
   "outputs": [],
   "source": [
    "for i in range(n_samples):\n",
    "    if results[i] == -1:\n",
    "        results[i] = 0"
   ]
  },
  {
   "cell_type": "code",
   "execution_count": 115,
   "id": "30469824-f162-4bdb-ade7-b8bee40efe7e",
   "metadata": {},
   "outputs": [],
   "source": [
    "positives = np.sum(results)\n",
    "true_positives = 0\n",
    "mushrooms['result'] = results\n",
    "for i in range(n_samples):\n",
    "    if mushrooms.loc[i,'class'] == 1 and results[i] == 1:\n",
    "        true_positives += 1"
   ]
  },
  {
   "cell_type": "code",
   "execution_count": 116,
   "id": "508025bc-c047-4470-97b7-6c2c6142ba02",
   "metadata": {},
   "outputs": [],
   "source": [
    "precision = true_positives/positives"
   ]
  },
  {
   "cell_type": "code",
   "execution_count": 117,
   "id": "37478386-5f1c-4374-a73a-3c63f58c2f47",
   "metadata": {},
   "outputs": [
    {
     "data": {
      "text/plain": [
       "0.54620288768048"
      ]
     },
     "execution_count": 117,
     "metadata": {},
     "output_type": "execute_result"
    }
   ],
   "source": [
    "precision"
   ]
  },
  {
   "cell_type": "markdown",
   "id": "9f5d5e16-992e-417e-94a1-bd7866c41748",
   "metadata": {},
   "source": [
    "So, a simple LS-SVM applied on a PU dataset has a precision of 0.54, which is not very good as we know that if we do a simple SVM on the fully labelled data, we obtain a precision of 0.99."
   ]
  },
  {
   "cell_type": "code",
   "execution_count": null,
   "id": "25316ac1-38c4-4d94-8f68-f840144a1004",
   "metadata": {},
   "outputs": [],
   "source": [
    "omega = np.empty((n_reliable,n_reliable))\n",
    "for k in range(n_reliable):\n",
    "    for i in range(n_reliable):\n",
    "        omega[k,i] = outcome[k]*outcome[i]*rbf(x=data_svm[k,:],y=data_svm[i,:],l=1)"
   ]
  },
  {
   "cell_type": "code",
   "execution_count": null,
   "id": "032214e2-43e4-4f9e-9f04-65f1853c7847",
   "metadata": {},
   "outputs": [],
   "source": []
  },
  {
   "cell_type": "code",
   "execution_count": 147,
   "id": "693c2490-d641-4bb5-9232-901f1acc390e",
   "metadata": {},
   "outputs": [],
   "source": [
    "sklearn_classif = SVC(kernel='rbf').fit(X=data_svm,y=outcome)"
   ]
  },
  {
   "cell_type": "code",
   "execution_count": 148,
   "id": "9abc1bb9-94ee-4fe9-ac69-6eb08fa85278",
   "metadata": {},
   "outputs": [],
   "source": [
    "results_sklearn = sklearn_classif.predict(test_data)"
   ]
  },
  {
   "cell_type": "code",
   "execution_count": 149,
   "id": "871dedb5-118a-4560-8ba0-513c1b6bb94d",
   "metadata": {},
   "outputs": [],
   "source": [
    "for i in range(n_samples):\n",
    "    if results_sklearn[i] == -1:\n",
    "        results_sklearn[i] = 0"
   ]
  },
  {
   "cell_type": "code",
   "execution_count": 150,
   "id": "d36726e8-6596-4810-b954-c0abc577d8d1",
   "metadata": {},
   "outputs": [
    {
     "name": "stdout",
     "output_type": "stream",
     "text": [
      "the precision with a rbf kernel is :  0.5918848785090823\n"
     ]
    }
   ],
   "source": [
    "positives_sklearn = np.sum(results_sklearn)\n",
    "true_positives_sklearn = 0\n",
    "for i in range(n_samples):\n",
    "    if mushrooms.loc[i,'class'] == 1 and results_sklearn[i] == 1:\n",
    "        true_positives_sklearn += 1\n",
    "precision = true_positives_sklearn/positives_sklearn\n",
    "print('the precision with a rbf kernel is : ', precision)"
   ]
  },
  {
   "cell_type": "markdown",
   "id": "a0aa4eff-186c-411f-9d25-f12298cfa80f",
   "metadata": {},
   "source": [
    "The one from sklearn is a bit more precise. It is done with an rbf kernel."
   ]
  },
  {
   "cell_type": "code",
   "execution_count": 151,
   "id": "7cfd5e07-bc58-4a43-a0e1-c0d139bbc4c6",
   "metadata": {},
   "outputs": [
    {
     "name": "stdout",
     "output_type": "stream",
     "text": [
      "the precision with a sigmoid kernel is :  0.7261417717291475\n"
     ]
    }
   ],
   "source": [
    "sklearn_classif = SVC(kernel='sigmoid').fit(X=data_svm,y=outcome)\n",
    "results_sklearn = sklearn_classif.predict(test_data)\n",
    "for i in range(n_samples):\n",
    "    if results_sklearn[i] == -1:\n",
    "        results_sklearn[i] = 0\n",
    "positives_sklearn = np.sum(results_sklearn)\n",
    "true_positives_sklearn = 0\n",
    "for i in range(n_samples):\n",
    "    if mushrooms.loc[i,'class'] == 1 and results_sklearn[i] == 1:\n",
    "        true_positives_sklearn += 1\n",
    "precision = true_positives_sklearn/positives_sklearn\n",
    "print('the precision with a sigmoid kernel is : ', precision)"
   ]
  },
  {
   "cell_type": "markdown",
   "id": "53ab73a9-1c33-4ff7-86b0-cfd61abbb57f",
   "metadata": {},
   "source": [
    "Done with a sigmoid kernel the precision is a lot higher."
   ]
  },
  {
   "cell_type": "code",
   "execution_count": null,
   "id": "9a64abb2-92f3-4add-94b8-9576d6db5634",
   "metadata": {},
   "outputs": [],
   "source": []
  }
 ],
 "metadata": {
  "kernelspec": {
   "display_name": "Python 3 (ipykernel)",
   "language": "python",
   "name": "python3"
  },
  "language_info": {
   "codemirror_mode": {
    "name": "ipython",
    "version": 3
   },
   "file_extension": ".py",
   "mimetype": "text/x-python",
   "name": "python",
   "nbconvert_exporter": "python",
   "pygments_lexer": "ipython3",
   "version": "3.12.3"
  }
 },
 "nbformat": 4,
 "nbformat_minor": 5
}
