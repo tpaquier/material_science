{
 "cells": [
  {
   "cell_type": "code",
   "execution_count": 1,
   "id": "2aed7dc4-7096-4029-b285-67e3757074d8",
   "metadata": {},
   "outputs": [],
   "source": [
    "import numpy as np\n",
    "import pandas as pd\n",
    "import matplotlib.pyplot as plt"
   ]
  },
  {
   "cell_type": "code",
   "execution_count": 76,
   "id": "ee71bd28-c597-47c3-9523-a5f4bf9e9336",
   "metadata": {},
   "outputs": [],
   "source": [
    "cars = pd.read_csv('cars.csv')"
   ]
  },
  {
   "cell_type": "markdown",
   "id": "cfcb59c3-7cf3-419d-992f-854d32ce8b89",
   "metadata": {},
   "source": [
    "for columns in cars.columns:\n",
    "    for i in range(cars.shape[0]):\n",
    "        temp = cars.loc[i,columns].split('[')\n",
    "        cars.loc[i,columns] = temp[1]\n",
    "        temp_bis = cars.loc[i,columns].split(',')\n",
    "        cars.loc[i,columns] = temp_bis[0]"
   ]
  },
  {
   "cell_type": "markdown",
   "id": "ebe47173-732b-4065-9354-a7f607d88c52",
   "metadata": {},
   "source": [
    "n_samples = cars.shape[0]"
   ]
  },
  {
   "cell_type": "markdown",
   "id": "acfdf2ce-afac-4742-8a70-d3561ae08905",
   "metadata": {},
   "source": [
    "cars['Speed'] = pd.to_numeric(cars['Speed'])\n",
    "cars['Distance'] = pd.to_numeric(cars['Distance'])\n",
    "cars.columns = ['speed','distance']"
   ]
  },
  {
   "cell_type": "code",
   "execution_count": 65,
   "id": "a68a5126-1d6d-4f35-9b2b-2050ac9aaf3e",
   "metadata": {},
   "outputs": [
    {
     "name": "stderr",
     "output_type": "stream",
     "text": [
      "/tmp/ipykernel_2226/2872619509.py:3: UserWarning: marker is redundantly defined by the 'marker' keyword argument and the fmt string \"bo\" (-> marker='o'). The keyword argument will take precedence.\n",
      "  plt.plot(gaussian_blue[:,0], gaussian_blue[:,1],'bo',marker='.',color='b')\n",
      "/tmp/ipykernel_2226/2872619509.py:3: UserWarning: color is redundantly defined by the 'color' keyword argument and the fmt string \"bo\" (-> color='b'). The keyword argument will take precedence.\n",
      "  plt.plot(gaussian_blue[:,0], gaussian_blue[:,1],'bo',marker='.',color='b')\n",
      "/tmp/ipykernel_2226/2872619509.py:4: UserWarning: marker is redundantly defined by the 'marker' keyword argument and the fmt string \"bo\" (-> marker='o'). The keyword argument will take precedence.\n",
      "  plt.plot(gaussian_red[:,0],gaussian_red[:,1],'bo',marker='.',color='r')\n",
      "/tmp/ipykernel_2226/2872619509.py:4: UserWarning: color is redundantly defined by the 'color' keyword argument and the fmt string \"bo\" (-> color='b'). The keyword argument will take precedence.\n",
      "  plt.plot(gaussian_red[:,0],gaussian_red[:,1],'bo',marker='.',color='r')\n"
     ]
    },
    {
     "data": {
      "text/plain": [
       "[<matplotlib.lines.Line2D at 0x7fad9c0a70b0>]"
      ]
     },
     "execution_count": 65,
     "metadata": {},
     "output_type": "execute_result"
    },
    {
     "data": {
      "image/png": "[encoded data removed]",
      "text/plain": [
       "<Figure size 640x480 with 1 Axes>"
      ]
     },
     "metadata": {},
     "output_type": "display_data"
    }
   ],
   "source": [
    "gaussian_blue = np.random.multivariate_normal(mean=np.array((-1,-1)),cov=np.eye(2),size=100)\n",
    "gaussian_red = np.random.multivariate_normal(mean=np.array((1,1)),cov=np.eye(2),size=100)\n",
    "plt.plot(gaussian_blue[:,0], gaussian_blue[:,1],'bo',marker='.',color='b')\n",
    "plt.plot(gaussian_red[:,0],gaussian_red[:,1],'bo',marker='.',color='r')"
   ]
  },
  {
   "cell_type": "code",
   "execution_count": 66,
   "id": "d1a92ab0-abae-480b-ae2d-dac366127e25",
   "metadata": {},
   "outputs": [],
   "source": [
    "list_of_output = np.empty(200)\n",
    "for i in range(100):\n",
    "    list_of_output[i] = 0\n",
    "    list_of_output[i+100] = 1"
   ]
  },
  {
   "cell_type": "code",
   "execution_count": 68,
   "id": "9c631aa2-658b-4f79-88d6-c6f39c12af55",
   "metadata": {},
   "outputs": [],
   "source": [
    "data = np.hstack((gaussian_blue,gaussian_red))\n",
    "outcome = list_of_output"
   ]
  },
  {
   "cell_type": "code",
   "execution_count": 70,
   "id": "3fa6f6c3-339b-4f6a-90b9-ccc238e99b94",
   "metadata": {},
   "outputs": [
    {
     "data": {
      "text/plain": [
       "numpy.float64"
      ]
     },
     "execution_count": 70,
     "metadata": {},
     "output_type": "execute_result"
    }
   ],
   "source": [
    "type(gaussian_blue[0,0])"
   ]
  },
  {
   "cell_type": "code",
   "execution_count": 69,
   "id": "458fa688-3fc4-4f76-b277-fd44efbaf482",
   "metadata": {},
   "outputs": [],
   "source": [
    "n_samples = 200"
   ]
  },
  {
   "cell_type": "code",
   "execution_count": 72,
   "id": "47ff78b5-4779-4f17-96ef-98f155e41bbd",
   "metadata": {},
   "outputs": [],
   "source": [
    "def rbf(x,y,l=1):\n",
    "    \"\"\"Gaussian kernel of dimension 1\n",
    "\n",
    "    Parameters\n",
    "    -------------------------------\n",
    "    x : float\n",
    "    a real number\n",
    "\n",
    "    y : float\n",
    "    a real number\n",
    "\n",
    "    l: float, non zero\n",
    "    a scale parameter\n",
    "    -------------------------------\n",
    "    \"\"\"\n",
    "    dim = x.shape[0]\n",
    "    vect = np.empty(dim)\n",
    "    if type(y) != float and type(y) != int and type(y) != numpy.float64 :\n",
    "        d = np.exp(-((np.linalg.norm(x-y))**2)/(2*(l**2)))\n",
    "        return d\n",
    "    else :\n",
    "        for i in range(dim):\n",
    "            vect[i] = np.exp(-((np.linalg.norm(x[i] - y))**2)/(2*(l**2)))\n",
    "        return vect"
   ]
  },
  {
   "cell_type": "code",
   "execution_count": 75,
   "id": "4558c000-82a0-4523-bc58-3b9221c9dde4",
   "metadata": {},
   "outputs": [
    {
     "ename": "ValueError",
     "evalue": "setting an array element with a sequence.",
     "output_type": "error",
     "traceback": [
      "\u001b[0;31m---------------------------------------------------------------------------\u001b[0m",
      "\u001b[0;31mTypeError\u001b[0m                                 Traceback (most recent call last)",
      "\u001b[0;31mTypeError\u001b[0m: only length-1 arrays can be converted to Python scalars",
      "\nThe above exception was the direct cause of the following exception:\n",
      "\u001b[0;31mValueError\u001b[0m                                Traceback (most recent call last)",
      "Cell \u001b[0;32mIn[75], line 4\u001b[0m\n\u001b[1;32m      2\u001b[0m \u001b[38;5;28;01mfor\u001b[39;00m k \u001b[38;5;129;01min\u001b[39;00m \u001b[38;5;28mrange\u001b[39m(n_samples):\n\u001b[1;32m      3\u001b[0m     \u001b[38;5;28;01mfor\u001b[39;00m i \u001b[38;5;129;01min\u001b[39;00m \u001b[38;5;28mrange\u001b[39m(n_samples):\n\u001b[0;32m----> 4\u001b[0m         \u001b[43momega\u001b[49m\u001b[43m[\u001b[49m\u001b[43mk\u001b[49m\u001b[43m,\u001b[49m\u001b[43mi\u001b[49m\u001b[43m]\u001b[49m \u001b[38;5;241m=\u001b[39m outcome[k]\u001b[38;5;241m*\u001b[39moutcome[i]\u001b[38;5;241m*\u001b[39mrbf_dim_1(x\u001b[38;5;241m=\u001b[39mdata[k],y\u001b[38;5;241m=\u001b[39mdata[i],l\u001b[38;5;241m=\u001b[39m\u001b[38;5;241m1\u001b[39m)\n",
      "\u001b[0;31mValueError\u001b[0m: setting an array element with a sequence."
     ]
    }
   ],
   "source": [
    "omega = np.empty((n_samples,n_samples))\n",
    "for k in range(n_samples):\n",
    "    for i in range(n_samples):\n",
    "        omega[k,i] = outcome[k]*outcome[i]*rbf_dim_1(x=data[k],y=data[i],l=1)"
   ]
  },
  {
   "cell_type": "code",
   "execution_count": 28,
   "id": "27775500-bd04-41ae-bc14-b1b7e6cbff7f",
   "metadata": {},
   "outputs": [],
   "source": [
    "first_row = np.hstack((0,-np.transpose(outcome)))"
   ]
  },
  {
   "cell_type": "code",
   "execution_count": 35,
   "id": "5b7b3eeb-6974-4148-b8dc-612fc632f37b",
   "metadata": {},
   "outputs": [],
   "source": [
    "first_row = first_row.reshape(1,first_row.shape[0])"
   ]
  },
  {
   "cell_type": "code",
   "execution_count": 39,
   "id": "a230e7a4-94e7-444a-8cb0-085255a32bbe",
   "metadata": {},
   "outputs": [],
   "source": [
    "bot_of_mat_right = omega + (1/gamma)*np.eye(n_samples)"
   ]
  },
  {
   "cell_type": "code",
   "execution_count": 41,
   "id": "49dc47b3-9d5d-46b7-abac-1a1e604907e5",
   "metadata": {},
   "outputs": [],
   "source": [
    "bot_of_mat = np.hstack((outcome.reshape(n_samples,1), bot_of_mat_right))"
   ]
  },
  {
   "cell_type": "code",
   "execution_count": 42,
   "id": "a571cc2d-099f-402d-883d-d8d2c41b4153",
   "metadata": {},
   "outputs": [],
   "source": [
    "whole_mat = np.vstack((first_row, bot_of_mat))"
   ]
  },
  {
   "cell_type": "code",
   "execution_count": 44,
   "id": "b9a53e5b-f3e9-4224-9f5f-05c118b032e1",
   "metadata": {},
   "outputs": [],
   "source": [
    "right_hand = np.ones(n_samples+1)\n",
    "right_hand[0] = 0"
   ]
  },
  {
   "cell_type": "code",
   "execution_count": 46,
   "id": "aebc4ac3-a6bc-452f-a691-a003015a11d9",
   "metadata": {},
   "outputs": [],
   "source": [
    "coeffs = np.linalg.solve(a=whole_mat,b=right_hand)"
   ]
  },
  {
   "cell_type": "code",
   "execution_count": 47,
   "id": "a0de9a61-29de-48f4-a596-3cbf19433340",
   "metadata": {},
   "outputs": [
    {
     "data": {
      "text/plain": [
       "(201,)"
      ]
     },
     "execution_count": 47,
     "metadata": {},
     "output_type": "execute_result"
    }
   ],
   "source": [
    "coeffs.shape"
   ]
  },
  {
   "cell_type": "code",
   "execution_count": 48,
   "id": "eb5cbf82-3236-498b-90f7-b923e04708d6",
   "metadata": {},
   "outputs": [],
   "source": [
    "b = coeffs[0]\n",
    "alpha = coeffs[1:201]"
   ]
  },
  {
   "cell_type": "code",
   "execution_count": 50,
   "id": "aba78ea3-1a9e-4b10-b9d9-0e5657182331",
   "metadata": {},
   "outputs": [],
   "source": [
    "test_data = np.linspace(start=-2,stop=3,num=200)"
   ]
  },
  {
   "cell_type": "code",
   "execution_count": 51,
   "id": "661ef27b-17da-4f7c-a687-d12c1dfa643a",
   "metadata": {},
   "outputs": [],
   "source": [
    "results = np.empty(200)"
   ]
  },
  {
   "cell_type": "code",
   "execution_count": 52,
   "id": "54fee9a5-6eb7-4a4a-aefd-9a74467fdbf7",
   "metadata": {},
   "outputs": [],
   "source": [
    "for i in range(200):\n",
    "    results[i] = np.sum(alpha*outcome*rbf_dim_1(x=data[i],y=data,l=1))"
   ]
  },
  {
   "cell_type": "code",
   "execution_count": 53,
   "id": "aeba5454-e91d-49b0-8091-ce45cb0f94a3",
   "metadata": {},
   "outputs": [
    {
     "data": {
      "text/plain": [
       "[<matplotlib.lines.Line2D at 0x7fad9b57c800>]"
      ]
     },
     "execution_count": 53,
     "metadata": {},
     "output_type": "execute_result"
    },
    {
     "data": {
      "image/png": "[encoded data removed]",
      "text/plain": [
       "<Figure size 640x480 with 1 Axes>"
      ]
     },
     "metadata": {},
     "output_type": "display_data"
    }
   ],
   "source": [
    "plt.plot(test_data,results)"
   ]
  },
  {
   "cell_type": "code",
   "execution_count": 60,
   "id": "37a863ef-38a8-4393-a889-e8859537b096",
   "metadata": {},
   "outputs": [
    {
     "data": {
      "text/plain": [
       "array([ 1.,  1.,  1.,  1.,  1.,  1.,  1.,  1.,  1.,  1.,  1.,  1.,  1.,\n",
       "        1.,  1.,  1.,  1.,  1.,  1.,  1.,  1.,  1.,  1.,  1.,  1.,  1.,\n",
       "        1.,  1.,  1.,  1.,  1.,  1.,  1.,  1.,  1.,  1.,  1.,  1.,  1.,\n",
       "        1.,  1.,  1.,  1.,  1.,  1.,  1.,  1.,  1.,  1.,  1.,  1.,  1.,\n",
       "        1.,  1.,  1.,  1.,  1.,  1.,  1.,  1.,  1.,  1.,  1.,  1.,  1.,\n",
       "        1.,  1.,  1.,  1.,  1.,  1.,  1.,  1.,  1.,  1.,  1.,  1.,  1.,\n",
       "        1.,  1.,  1.,  1.,  1.,  1.,  1.,  1.,  1.,  1.,  1.,  1.,  1.,\n",
       "        1.,  1.,  1.,  1.,  1.,  1.,  1.,  1.,  1., -0.,  0.,  0.,  0.,\n",
       "        0.,  0.,  0.,  0.,  0.,  0.,  0.,  0.,  0.,  0.,  0.,  0.,  0.,\n",
       "        0.,  0.,  0.,  0.,  0.,  0.,  0.,  0.,  0.,  0.,  0.,  0.,  0.,\n",
       "        0.,  0.,  0.,  0.,  0.,  0.,  0.,  0.,  0.,  0.,  0.,  0.,  0.,\n",
       "        0.,  0.,  0.,  0.,  0.,  0.,  0.,  0.,  0.,  0.,  0.,  0.,  0.,\n",
       "        0.,  0.,  0.,  0.,  0.,  0.,  0.,  0.,  0.,  0.,  0.,  0.,  0.,\n",
       "        0.,  0.,  0.,  0.,  0.,  0.,  0.,  0.,  0.,  0.,  0.,  0.,  0.,\n",
       "        0.,  0.,  0.,  0.,  0.,  0.,  0.,  0.,  0.,  0.,  0.,  0.,  0.,\n",
       "        0.,  0.,  0.,  0.,  0.])"
      ]
     },
     "execution_count": 60,
     "metadata": {},
     "output_type": "execute_result"
    }
   ],
   "source": [
    "alpha"
   ]
  },
  {
   "cell_type": "code",
   "execution_count": null,
   "id": "39487ca2-0f0b-4261-9375-f25c5fb6d836",
   "metadata": {},
   "outputs": [],
   "source": []
  }
 ],
 "metadata": {
  "kernelspec": {
   "display_name": "Python 3 (ipykernel)",
   "language": "python",
   "name": "python3"
  },
  "language_info": {
   "codemirror_mode": {
    "name": "ipython",
    "version": 3
   },
   "file_extension": ".py",
   "mimetype": "text/x-python",
   "name": "python",
   "nbconvert_exporter": "python",
   "pygments_lexer": "ipython3",
   "version": "3.12.3"
  }
 },
 "nbformat": 4,
 "nbformat_minor": 5
}
