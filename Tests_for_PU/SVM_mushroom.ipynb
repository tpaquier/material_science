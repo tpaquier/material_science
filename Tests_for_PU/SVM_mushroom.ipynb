{
 "cells": [
  {
   "cell_type": "code",
   "execution_count": 1,
   "id": "32e005c5-2b4c-42f5-b6b4-d18d894b9479",
   "metadata": {},
   "outputs": [],
   "source": [
    "import pandas as pd\n",
    "import numpy as np\n",
    "from sklearn.preprocessing import StandardScaler\n",
    "from sklearn.svm import SVC"
   ]
  },
  {
   "cell_type": "code",
   "execution_count": 6,
   "id": "79182c4b-c538-4224-a965-f3192d1a861e",
   "metadata": {},
   "outputs": [],
   "source": [
    "mushroom_whole = pd.read_csv('mushroom.csv')\n",
    "classes_to_keep = mushroom_whole['class'].copy()\n",
    "mushroom_whole = StandardScaler().fit_transform(X=mushroom_whole.to_numpy()[:,:-1])\n",
    "mushroom_whole = pd.DataFrame(mushroom_whole)\n",
    "mushroom_whole['class'] = classes_to_keep\n",
    "mushroom_data = mushroom_whole.sample(frac=0.8)\n",
    "list_train = mushroom_data.index\n",
    "list_test = []\n",
    "for i in mushroom_whole.index:\n",
    "    if i not in list_train:\n",
    "        list_test.append(i)\n",
    "mushroom_test = mushroom_whole.filter(items=list_test, axis=0)\n",
    "\n",
    "mushroom_test = mushroom_test.reset_index(drop=True)\n",
    "mushroom_data = mushroom_data.reset_index(drop=True)"
   ]
  },
  {
   "cell_type": "code",
   "execution_count": 13,
   "id": "c8425a8a-ecff-4436-bf14-326434e1fe88",
   "metadata": {},
   "outputs": [],
   "source": [
    "svm_trained = SVC().fit(X=mushroom_data.to_numpy()[:,:-1],y=np.array(mushroom_data['class']))"
   ]
  },
  {
   "cell_type": "code",
   "execution_count": 14,
   "id": "a518803e-f544-4a75-91c9-031650523ac8",
   "metadata": {},
   "outputs": [
    {
     "name": "stdout",
     "output_type": "stream",
     "text": [
      "precision :  0.915929203539823 \n",
      " recall :  0.9048419636852724 \n",
      " f_1 score :  0.9103518267929636 \n",
      " weird metric : 0.828771179127661\n"
     ]
    }
   ],
   "source": [
    "predictions_test = svm_trained.predict(mushroom_test.to_numpy()[:,:-1])\n",
    "positives = 0\n",
    "true_positives = 0\n",
    "for i in range(mushroom_test.shape[0]):\n",
    "    if predictions_test[i] == 1:\n",
    "        positives += 1\n",
    "        if mushroom_test.loc[i,'class'] == 1:\n",
    "            true_positives += 1\n",
    "\n",
    "precision = true_positives/positives\n",
    "recall = true_positives/mushroom_test[mushroom_test['class'] == 1].shape[0]\n",
    "f_1_score = (2*precision*recall)/(precision+recall)\n",
    "weird_metric = (recall**2)/(positives/mushroom_test[mushroom_test['class'] == 1].shape[0])\n",
    "print('precision : ', precision, '\\n', \n",
    "      'recall : ', recall, '\\n', \n",
    "      'f_1 score : ', f_1_score,'\\n', \n",
    "      f'weird metric : {weird_metric}')"
   ]
  },
  {
   "cell_type": "code",
   "execution_count": null,
   "id": "4af5906d-de66-4b80-8ef4-33f4b6ed16ac",
   "metadata": {},
   "outputs": [],
   "source": []
  }
 ],
 "metadata": {
  "kernelspec": {
   "display_name": "Python 3 (ipykernel)",
   "language": "python",
   "name": "python3"
  },
  "language_info": {
   "codemirror_mode": {
    "name": "ipython",
    "version": 3
   },
   "file_extension": ".py",
   "mimetype": "text/x-python",
   "name": "python",
   "nbconvert_exporter": "python",
   "pygments_lexer": "ipython3",
   "version": "3.12.4"
  }
 },
 "nbformat": 4,
 "nbformat_minor": 5
}
