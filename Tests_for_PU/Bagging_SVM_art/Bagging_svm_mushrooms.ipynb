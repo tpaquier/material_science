{
 "cells": [
  {
   "cell_type": "code",
   "execution_count": 1,
   "id": "00500404-f61a-4441-9dc1-511406a4a3e6",
   "metadata": {},
   "outputs": [],
   "source": [
    "import pandas as pd\n",
    "import numpy as np\n",
    "from sklearn.svm import SVC\n",
    "from scipy.stats import bernoulli\n",
    "import matplotlib.pyplot as plt\n",
    "from sklearn.preprocessing import StandardScaler\n",
    "from tqdm import tqdm"
   ]
  },
  {
   "cell_type": "code",
   "execution_count": 2,
   "id": "886f4a93-5924-4388-bfeb-98b8ca112e6d",
   "metadata": {},
   "outputs": [],
   "source": [
    "mushrooms_whole = pd.read_csv('mushroom.csv')\n",
    "mushrooms = mushrooms_whole.sample(frac=0.8)\n",
    "index_train = list(mushrooms.index)\n",
    "mushrooms_test = mushrooms_whole.drop(labels=index_train,axis=0)\n",
    "n_samples = mushrooms.shape[0]\n",
    "mushrooms = mushrooms.sample(frac=1)\n",
    "classes = mushrooms['class'].copy()\n",
    "colnames = mushrooms.drop(['class'],axis=1).columns.copy()\n",
    "mushrooms = StandardScaler().fit_transform(X=mushrooms.drop(['class'],axis=1).to_numpy())\n",
    "mushrooms = pd.DataFrame(mushrooms)\n",
    "mushrooms.columns = colnames\n",
    "mushrooms['class'] = classes\n",
    "mushrooms = mushrooms.reset_index(drop=True)\n",
    "mushrooms['label'] = np.ones(n_samples)*(-1)\n",
    "for i in range(n_samples):\n",
    "    random = bernoulli.rvs(p=3/4)\n",
    "    if mushrooms.loc[i,'class'] == 1 and random == 0:\n",
    "        mushrooms.loc[i,'label'] = 1"
   ]
  },
  {
   "cell_type": "code",
   "execution_count": 3,
   "id": "5eec9028-29d0-462a-a5d0-f0e1d8e81080",
   "metadata": {},
   "outputs": [],
   "source": [
    "t=15\n",
    "n_positives = mushrooms[mushrooms['label'] == 1].shape[0]\n",
    "positive_instances = mushrooms[mushrooms['label'] == 1]\n",
    "unlabelled_instances = mushrooms[mushrooms['label'] == -1]"
   ]
  },
  {
   "cell_type": "code",
   "execution_count": 4,
   "id": "4ee70373-98cc-4e05-8eb3-64fa6f117150",
   "metadata": {},
   "outputs": [
    {
     "name": "stderr",
     "output_type": "stream",
     "text": [
      "100%|██████████| 15/15 [03:54<00:00, 15.61s/it]\n"
     ]
    }
   ],
   "source": [
    "mushrooms_inter = mushrooms.copy()\n",
    "df_results = np.zeros((n_samples,1))\n",
    "df_results = pd.DataFrame(df_results)\n",
    "df_results.columns = ['init']\n",
    "for i in tqdm(range(t)):\n",
    "    u_t = unlabelled_instances.sample(n=n_positives)\n",
    "    train_set = pd.concat([positive_instances, u_t])\n",
    "    index_t = list(train_set.index)\n",
    "    f_t = SVC(decision_function_shape='ovr').fit(X=train_set.to_numpy()[:,:-2],\n",
    "                                          y=train_set['label'].to_numpy())\n",
    "    \n",
    "    to_test = mushrooms.drop(labels = index_t)\n",
    "    predictions_t = f_t.decision_function(X=to_test.to_numpy()[:,:-2])\n",
    "    to_test[f'score_{i}'] = predictions_t\n",
    "    df_pred = pd.DataFrame(to_test[f'score_{i}'])\n",
    "    mushrooms_inter = mushrooms_inter.merge(df_pred, how='left', left_index=True,\n",
    "                                           right_index=True)\n",
    "    df_results[f'score_{i}'] = mushrooms_inter[f'score_{i}']"
   ]
  },
  {
   "cell_type": "code",
   "execution_count": 6,
   "id": "a72b787b-197c-45aa-a7f7-ca6aa8252aa4",
   "metadata": {},
   "outputs": [],
   "source": [
    "df_results = df_results.drop(['init'], axis=1)\n",
    "df_results = df_results.mean(axis=1)"
   ]
  },
  {
   "cell_type": "code",
   "execution_count": 8,
   "id": "5c83d5df-645a-4719-9079-04e47a37ef3f",
   "metadata": {},
   "outputs": [
    {
     "name": "stdout",
     "output_type": "stream",
     "text": [
      "precision on train is :  0.37740984350192786 \n",
      " recall on train is :  0.3431458472959736 \n",
      " f_1 on train is :  0.359463181486782 \n",
      " weird metric on train is :  0.2886174249683622\n"
     ]
    }
   ],
   "source": [
    "df_results = df_results.to_numpy()\n",
    "for i in range(n_samples):\n",
    "    df_results[i] = np.sign(df_results[i])\n",
    "\n",
    "\n",
    "positives_train = 0\n",
    "true_positives_train = 0   \n",
    "\n",
    "for i in range(n_samples):\n",
    "    if df_results[i] == 1:\n",
    "        positives_train += 1\n",
    "        if mushrooms.loc[i,'class'] == 1:\n",
    "            true_positives_train += 1\n",
    "\n",
    "precision_train = true_positives_train/positives_train\n",
    "recall_train = true_positives_train/(mushrooms[mushrooms['class'] == 1].shape[0])\n",
    "f_1_train = (2*precision_train*recall_train)/(precision_train+recall_train)\n",
    "weird_train = (recall_train**2)/(positives_train/n_samples)\n",
    "print('precision on train is : ', precision_train, '\\n', \n",
    "      'recall on train is : ', recall_train, '\\n', \n",
    "      'f_1 on train is : ', f_1_train, '\\n', \n",
    "      'weird metric on train is : ', weird_train)"
   ]
  },
  {
   "cell_type": "code",
   "execution_count": null,
   "id": "43c0c41e-7dee-4d65-af28-594b9eb39008",
   "metadata": {},
   "outputs": [],
   "source": []
  }
 ],
 "metadata": {
  "kernelspec": {
   "display_name": "Python 3 (ipykernel)",
   "language": "python",
   "name": "python3"
  },
  "language_info": {
   "codemirror_mode": {
    "name": "ipython",
    "version": 3
   },
   "file_extension": ".py",
   "mimetype": "text/x-python",
   "name": "python",
   "nbconvert_exporter": "python",
   "pygments_lexer": "ipython3",
   "version": "3.12.4"
  }
 },
 "nbformat": 4,
 "nbformat_minor": 5
}
