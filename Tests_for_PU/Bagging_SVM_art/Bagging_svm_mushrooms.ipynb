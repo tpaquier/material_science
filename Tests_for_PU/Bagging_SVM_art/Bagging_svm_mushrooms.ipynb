{
 "cells": [
  {
   "cell_type": "code",
   "execution_count": 1,
   "id": "00500404-f61a-4441-9dc1-511406a4a3e6",
   "metadata": {},
   "outputs": [],
   "source": [
    "import pandas as pd\n",
    "import numpy as np\n",
    "from sklearn.svm import SVC\n",
    "from scipy.stats import bernoulli\n",
    "import matplotlib.pyplot as plt\n",
    "from sklearn.preprocessing import StandardScaler\n",
    "from tqdm import tqdm"
   ]
  },
  {
   "cell_type": "code",
   "execution_count": 2,
   "id": "886f4a93-5924-4388-bfeb-98b8ca112e6d",
   "metadata": {},
   "outputs": [],
   "source": [
    "mushrooms_whole = pd.read_csv('mushroom.csv')\n",
    "classes = mushrooms_whole['class'].copy()\n",
    "colnames = mushrooms_whole.drop(['class'],axis=1).columns.copy()\n",
    "mushrooms_whole = StandardScaler().fit_transform(X=mushrooms_whole.to_numpy()[:,:-1])\n",
    "mushrooms_whole = pd.DataFrame(mushrooms_whole)\n",
    "mushrooms_whole.columns = colnames\n",
    "mushrooms_whole['class'] = classes\n",
    "mushrooms = mushrooms_whole.sample(frac=0.8)\n",
    "index_train = list(mushrooms.index)\n",
    "mushrooms_test = mushrooms_whole.drop(labels=index_train,axis=0)\n",
    "mushrooms = mushrooms.reset_index(drop=True)\n",
    "n_samples = mushrooms.shape[0]\n",
    "mushrooms['label'] = np.ones(n_samples)*(-1)\n",
    "for i in range(n_samples):\n",
    "    random = bernoulli.rvs(p=3/4)\n",
    "    if mushrooms.loc[i,'class'] == 1 and random == 0:\n",
    "        mushrooms.loc[i,'label'] = 1"
   ]
  },
  {
   "cell_type": "code",
   "execution_count": 3,
   "id": "5eec9028-29d0-462a-a5d0-f0e1d8e81080",
   "metadata": {},
   "outputs": [],
   "source": [
    "t=15\n",
    "n_positives = mushrooms[mushrooms['label'] == 1].shape[0]\n",
    "positive_instances = mushrooms[mushrooms['label'] == 1]\n",
    "unlabelled_instances = mushrooms[mushrooms['label'] == -1]"
   ]
  },
  {
   "cell_type": "code",
   "execution_count": 4,
   "id": "4ee70373-98cc-4e05-8eb3-64fa6f117150",
   "metadata": {},
   "outputs": [
    {
     "name": "stderr",
     "output_type": "stream",
     "text": [
      "100%|██████████| 15/15 [03:58<00:00, 15.89s/it]\n"
     ]
    }
   ],
   "source": [
    "df_results = mushrooms.copy()\n",
    "df_results = mushrooms.drop(colnames,axis=1)\n",
    "\n",
    "for i in tqdm(range(t)):\n",
    "    u_t = unlabelled_instances.sample(n=n_positives)\n",
    "    train_set = pd.concat([positive_instances, u_t])\n",
    "    index_t = list(train_set.index)\n",
    "    f_t = SVC(decision_function_shape='ovr').fit(X=train_set.to_numpy()[:,:-2],\n",
    "                                          y=train_set['label'].to_numpy())\n",
    "    to_test = mushrooms.copy()\n",
    "    to_test = to_test.drop(labels=index_t,axis=0)\n",
    "    predictions_t = f_t.decision_function(X=to_test.to_numpy()[:,:-2])\n",
    "    to_test[f'score_{i}'] = predictions_t\n",
    "    to_test = to_test.drop(colnames, axis=1)\n",
    "    to_test = to_test.drop(['class','label'], axis=1)\n",
    "    df_results = df_results.merge(to_test, how='left',left_index=True,right_index=True)"
   ]
  },
  {
   "cell_type": "code",
   "execution_count": 5,
   "id": "e1872ce7-bb03-4d2b-82a9-6292f3abd534",
   "metadata": {},
   "outputs": [],
   "source": [
    "mushrooms_bis = mushrooms.copy()\n",
    "df_results = df_results.drop(['class','label'], axis=1)\n",
    "df_results_gen = mushrooms_bis.merge(df_results, how='left', left_index=True, right_index=True)"
   ]
  },
  {
   "cell_type": "code",
   "execution_count": 6,
   "id": "11455808-4ec3-4e59-87c7-8e54f00b6225",
   "metadata": {},
   "outputs": [],
   "source": [
    "df_results_gen['average'] = df_results.mean(axis=1)"
   ]
  },
  {
   "cell_type": "code",
   "execution_count": 7,
   "id": "44433905-cf22-4dcd-a75a-afdb0d6177a7",
   "metadata": {},
   "outputs": [],
   "source": [
    "df_results_gen = df_results_gen.drop(colnames,axis=1)"
   ]
  },
  {
   "cell_type": "code",
   "execution_count": 8,
   "id": "5022d893-17b9-426f-b8e2-523ca50a4800",
   "metadata": {},
   "outputs": [],
   "source": [
    "positives_train = 0\n",
    "true_positives_train = 0\n",
    "\n",
    "for i in df_results_gen.index:\n",
    "    df_results_gen.loc[i,'average'] = np.sign(df_results_gen.loc[i,'average'])\n",
    "\n",
    "for i in df_results_gen.index:\n",
    "    if df_results_gen.loc[i,'average'] == 1:\n",
    "        positives_train += 1\n",
    "        if mushrooms.loc[i,'class'] == 1:\n",
    "            true_positives_train += 1\n",
    "\n",
    "precision = true_positives_train/positives_train\n",
    "recall = true_positives_train/(mushrooms[mushrooms['class']==1].shape[0]-n_positives)\n",
    "f_1_train = (2*precision*recall)/(precision+recall)\n",
    "weird_thing = (recall**2)/(positives_train/(n_samples-n_positives))"
   ]
  },
  {
   "cell_type": "code",
   "execution_count": 9,
   "id": "518270a4-db3f-406d-854a-aa1f41553abc",
   "metadata": {},
   "outputs": [
    {
     "name": "stdout",
     "output_type": "stream",
     "text": [
      "the precision on train set is :  0.8423801420104454 \n",
      " recall on train set :  0.8087323943661971 \n",
      " f_1 in train set :  0.8252134172630853 \n",
      " weird on train :  1.4293028995579362\n"
     ]
    }
   ],
   "source": [
    "print('the precision on train set is : ', precision, '\\n', \n",
    "      'recall on train set : ', recall, '\\n', \n",
    "      'f_1 in train set : ', f_1_train, '\\n',\n",
    "      'weird on train : ', weird_thing)"
   ]
  },
  {
   "cell_type": "code",
   "execution_count": 10,
   "id": "cb2620bb-b1d0-46dd-892e-f1e922de7ae1",
   "metadata": {},
   "outputs": [
    {
     "name": "stderr",
     "output_type": "stream",
     "text": [
      "100%|██████████| 15/15 [01:51<00:00,  7.46s/it]\n"
     ]
    }
   ],
   "source": [
    "df_results_test = mushrooms_test.copy()\n",
    "df_results_test = df_results_test.drop(colnames,axis=1)\n",
    "df_results_test = df_results_test.drop(['class'],axis=1)\n",
    "\n",
    "for i in tqdm(range(t)):\n",
    "    u_t_t = unlabelled_instances.sample(n=n_positives)\n",
    "    train_set = pd.concat([positive_instances, u_t_t])\n",
    "    f_t_t = SVC(decision_function_shape='ovr').fit(X=train_set.to_numpy()[:,:-2],\n",
    "                                          y=train_set['label'].to_numpy())\n",
    "    to_test_t = mushrooms_test.copy()\n",
    "    predictions_t_t = f_t_t.decision_function(X=to_test_t.to_numpy()[:,:-1])\n",
    "    df_results_test[f'score_{i}'] = predictions_t_t"
   ]
  },
  {
   "cell_type": "code",
   "execution_count": 11,
   "id": "7f536852-ef28-4a46-acf1-c78dc44e207e",
   "metadata": {},
   "outputs": [],
   "source": [
    "df_results_test_avg = df_results_test.mean(axis=1)"
   ]
  },
  {
   "cell_type": "code",
   "execution_count": 12,
   "id": "35e3bc19-0fba-4769-8824-027ba58de72e",
   "metadata": {},
   "outputs": [
    {
     "data": {
      "text/plain": [
       "Index([    5,    18,    23,    24,    27,    31,    36,    46,    50,    52,\n",
       "       ...\n",
       "       54001, 54003, 54005, 54011, 54012, 54013, 54016, 54018, 54019, 54027],\n",
       "      dtype='int64', length=10807)"
      ]
     },
     "execution_count": 12,
     "metadata": {},
     "output_type": "execute_result"
    }
   ],
   "source": [
    "df_results_test_avg.index"
   ]
  },
  {
   "cell_type": "code",
   "execution_count": 13,
   "id": "02d323a0-78ac-4070-9a5e-04dca7217623",
   "metadata": {},
   "outputs": [],
   "source": [
    "positives_test = 0\n",
    "true_positives_test = 0\n",
    "n_samples_test = df_results_test.shape[0]\n",
    "for i in df_results_test_avg.index:\n",
    "    df_results_test_avg[i] = np.sign(df_results_test_avg[i])\n",
    "\n",
    "for i in df_results_test_avg.index:\n",
    "    if df_results_test_avg[i] == 1:\n",
    "        positives_test += 1\n",
    "        if mushrooms_test.loc[i, 'class'] == 1:\n",
    "            true_positives_test += 1\n",
    "\n",
    "precision_test = true_positives_test/positives_test\n",
    "recall_test = true_positives_test/(mushrooms_test[mushrooms_test['class'] == 1].shape[0])\n",
    "f_1_test = (2*precision_test*recall_test)/(precision_test+recall_test)\n",
    "weird_test = (recall_test**2)/(positives_test/n_samples_test)"
   ]
  },
  {
   "cell_type": "code",
   "execution_count": 19,
   "id": "1cf8874a-53b2-478c-9aa6-1e82c4f9b267",
   "metadata": {},
   "outputs": [
    {
     "name": "stdout",
     "output_type": "stream",
     "text": [
      "precision on test :  0.8779239766081871 \n",
      " recall on test :  0.809162876873842 \n",
      " f_1 on test :  0.8421421684634937 \n",
      " weird estim on test :  1.293096577866466\n"
     ]
    }
   ],
   "source": [
    "print('precision on test : ', precision_test, '\\n', \n",
    "      'recall on test : ', recall_test, '\\n',\n",
    "      'f_1 on test : ', f_1_test, '\\n',\n",
    "      'weird estim on test : ', weird_test)"
   ]
  },
  {
   "cell_type": "code",
   "execution_count": null,
   "id": "b2a5d2da-7454-4d59-be36-1dc89bf1c5b4",
   "metadata": {},
   "outputs": [],
   "source": []
  }
 ],
 "metadata": {
  "kernelspec": {
   "display_name": "Python 3 (ipykernel)",
   "language": "python",
   "name": "python3"
  },
  "language_info": {
   "codemirror_mode": {
    "name": "ipython",
    "version": 3
   },
   "file_extension": ".py",
   "mimetype": "text/x-python",
   "name": "python",
   "nbconvert_exporter": "python",
   "pygments_lexer": "ipython3",
   "version": "3.12.4"
  }
 },
 "nbformat": 4,
 "nbformat_minor": 5
}
