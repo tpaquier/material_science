{
 "cells": [
  {
   "cell_type": "code",
   "execution_count": 1,
   "id": "9a7095f2-b3d4-4ba0-92d3-c622dfd48805",
   "metadata": {},
   "outputs": [],
   "source": [
    "import numpy as np\n",
    "import pandas as pd\n",
    "import matplotlib.pyplot as plt\n",
    "from sklearn.preprocessing import StandardScaler\n",
    "from sklearn.decomposition import PCA\n",
    "from scipy.stats import bernoulli\n",
    "from sklearn.cluster import KMeans\n",
    "from sklearn.tree import DecisionTreeClassifier\n",
    "from sklearn.ensemble import BaggingClassifier\n",
    "from sklearn.model_selection import KFold\n",
    "from sklearn.svm import SVC"
   ]
  },
  {
   "cell_type": "code",
   "execution_count": 2,
   "id": "5e9cdd09-b430-4d75-b532-c10d7cfdd0e6",
   "metadata": {},
   "outputs": [],
   "source": [
    "np.random.seed(1457065)\n",
    "n_gen = 50\n",
    "n_samples = 4*n_gen\n",
    "data_red_1 = np.random.multivariate_normal(mean=np.array([2,2]),\n",
    "                                             cov=np.array(([1,-0.25],[-0.25,1])),\n",
    "                                             size=n_gen)\n",
    "data_red_2 = np.random.uniform(low=1.0, high=3.0, size=(n_gen,2))\n",
    "\n",
    "data_blue_1 = np.random.multivariate_normal(mean=np.array([-1,-1]),\n",
    "                                            cov=np.eye(2)*0.5,\n",
    "                                            size=n_gen)\n",
    "data_blue_2 = np.random.uniform(low=-2, high=-1, size=(n_gen,2))\n",
    "\n",
    "data_red = np.vstack((data_red_1,data_red_2))\n",
    "labels_red = (np.ones(2*n_gen)*-1).reshape(2*n_gen,1)\n",
    "data_red = np.hstack((data_red,labels_red))\n",
    "\n",
    "data_blue = np.vstack((data_blue_1, data_blue_2))\n",
    "labels_blue = (np.ones(2*n_gen)).reshape(2*n_gen,1)\n",
    "data_blue = np.hstack((data_blue,labels_blue))\n",
    "\n",
    "whole_data = np.vstack((data_blue, data_red))"
   ]
  },
  {
   "cell_type": "code",
   "execution_count": 3,
   "id": "3da187df-bab7-41c4-9124-13a37a294b53",
   "metadata": {},
   "outputs": [],
   "source": [
    "data_df = pd.DataFrame(whole_data)\n",
    "data_df.columns = ['x1','x2','class']\n",
    "data_df['label'] = np.ones(n_samples)*(-1)\n",
    "for i in range(n_samples):\n",
    "    random = bernoulli.rvs(p=3/4)\n",
    "    if data_df.loc[i,'class'] == 1 and random == 0:\n",
    "        data_df.loc[i,'label'] = 1\n",
    "n_positives = data_df[data_df['label'] == 1].shape[0]"
   ]
  },
  {
   "cell_type": "code",
   "execution_count": 4,
   "id": "9f28586a-0d09-4bb0-96a7-c8b7cc9fb579",
   "metadata": {},
   "outputs": [],
   "source": [
    "positive_instances = data_df[data_df['label'] == 1]\n",
    "unlabelled_set = data_df[data_df['label'] == -1]\n",
    "df_for_results = data_df.copy()\n",
    "t = 15\n",
    "for i in range(t):\n",
    "    u_t = unlabelled_set.sample(n=n_positives)\n",
    "    train_set = pd.concat([positive_instances,u_t])\n",
    "    indexes_to_drop = list(train_set.index)\n",
    "    f_t = SVC(decision_function_shape='ovr').fit(X=train_set.to_numpy()[:,:-1],y=train_set['label'].to_numpy())\n",
    "    to_be_pred = data_df.drop(labels=indexes_to_drop,axis=0)\n",
    "    predictions = f_t.decision_function(X=to_be_pred.to_numpy()[:,:-1])\n",
    "    to_be_pred[f'score_{i}'] = predictions\n",
    "    df_pred = pd.DataFrame(to_be_pred[f'score_{i}'])\n",
    "    df_for_results = df_for_results.merge(df_pred, how='left', left_index=True,right_index=True)"
   ]
  },
  {
   "cell_type": "code",
   "execution_count": 8,
   "id": "dec4f023-0831-44be-8a0e-50d7a476f410",
   "metadata": {},
   "outputs": [],
   "source": [
    "indexes_positive = list(df_for_results[df_for_results['label'] == 1].index)\n",
    "last_df = df_for_results.drop(labels=indexes_positive,axis=0).copy()\n",
    "last_df = last_df.drop(['x1','x2','label'],axis=1)\n",
    "classes_for_comp = last_df['class'].copy().to_numpy()\n",
    "last_df = last_df.drop(['class'], axis=1)\n",
    "average = last_df.mean(axis=1).to_numpy()\n",
    "positive = 0\n",
    "true_positive = 0\n",
    "for i in range(average.shape[0]):\n",
    "    average[i] = np.sign(average[i])\n",
    "for i in range(average.shape[0]):\n",
    "    if average[i] == 1:\n",
    "        positive += 1\n",
    "        if classes_for_comp[i] == 1:\n",
    "            true_positive += 1"
   ]
  },
  {
   "cell_type": "code",
   "execution_count": 9,
   "id": "828462d5-deef-4f4c-a322-344baad475d1",
   "metadata": {},
   "outputs": [
    {
     "data": {
      "text/plain": [
       "80"
      ]
     },
     "execution_count": 9,
     "metadata": {},
     "output_type": "execute_result"
    }
   ],
   "source": [
    "positive"
   ]
  },
  {
   "cell_type": "code",
   "execution_count": 10,
   "id": "59234937-4421-421f-90de-d92b160ea7b5",
   "metadata": {},
   "outputs": [
    {
     "data": {
      "text/plain": [
       "80"
      ]
     },
     "execution_count": 10,
     "metadata": {},
     "output_type": "execute_result"
    }
   ],
   "source": [
    "true_positive"
   ]
  },
  {
   "cell_type": "code",
   "execution_count": 11,
   "id": "1e6f21af-3fdd-4a63-b6c1-f5b966357775",
   "metadata": {},
   "outputs": [
    {
     "data": {
      "text/plain": [
       "array([ 1.,  1.,  1.,  1.,  1.,  1.,  1.,  1.,  1.,  1.,  1.,  1.,  1.,\n",
       "        1.,  1.,  1.,  1.,  1.,  1.,  1.,  1.,  1.,  1.,  1.,  1.,  1.,\n",
       "        1.,  1.,  1.,  1.,  1.,  1.,  1.,  1.,  1.,  1.,  1.,  1.,  1.,\n",
       "        1.,  1.,  1.,  1.,  1.,  1.,  1.,  1.,  1.,  1.,  1.,  1.,  1.,\n",
       "        1.,  1.,  1.,  1.,  1.,  1.,  1.,  1.,  1.,  1.,  1.,  1.,  1.,\n",
       "        1.,  1.,  1.,  1.,  1.,  1.,  1.,  1.,  1.,  1.,  1.,  1.,  1.,\n",
       "        1.,  1., -1., -1., -1., -1., -1., -1., -1., -1., -1., -1., -1.,\n",
       "       -1., -1., -1., -1., -1., -1., -1., -1., -1., -1., -1., -1., -1.,\n",
       "       -1., -1., -1., -1., -1., -1., -1., -1., -1., -1., -1., -1., -1.,\n",
       "       -1., -1., -1., -1., -1., -1., -1., -1., -1., -1., -1., -1., -1.,\n",
       "       -1., -1., -1., -1., -1., -1., -1., -1., -1., -1., -1., -1., -1.,\n",
       "       -1., -1., -1., -1., -1., -1., -1., -1., -1., -1., -1., -1., -1.,\n",
       "       -1., -1., -1., -1., -1., -1., -1., -1., -1., -1., -1., -1., -1.,\n",
       "       -1., -1., -1., -1., -1., -1., -1., -1., -1., -1., -1.])"
      ]
     },
     "execution_count": 11,
     "metadata": {},
     "output_type": "execute_result"
    }
   ],
   "source": [
    "average"
   ]
  },
  {
   "cell_type": "code",
   "execution_count": 12,
   "id": "93fa795f-13a8-4bfc-8972-e9cbe4030eff",
   "metadata": {},
   "outputs": [],
   "source": [
    "#obviously works pretty well as the data is very much separable"
   ]
  },
  {
   "cell_type": "code",
   "execution_count": null,
   "id": "dc40979e-bdc2-43ae-b9e2-2543ae60413d",
   "metadata": {},
   "outputs": [],
   "source": []
  }
 ],
 "metadata": {
  "kernelspec": {
   "display_name": "Python 3 (ipykernel)",
   "language": "python",
   "name": "python3"
  },
  "language_info": {
   "codemirror_mode": {
    "name": "ipython",
    "version": 3
   },
   "file_extension": ".py",
   "mimetype": "text/x-python",
   "name": "python",
   "nbconvert_exporter": "python",
   "pygments_lexer": "ipython3",
   "version": "3.12.4"
  }
 },
 "nbformat": 4,
 "nbformat_minor": 5
}
