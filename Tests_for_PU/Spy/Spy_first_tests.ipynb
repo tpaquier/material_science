{
 "cells": [
  {
   "cell_type": "code",
   "execution_count": 1,
   "id": "967f1eb7-01cf-4af6-a6a4-48cc23dd620d",
   "metadata": {},
   "outputs": [],
   "source": [
    "import pandas as pd\n",
    "import numpy as np\n",
    "import matplotlib.pyplot as plt\n",
    "from scipy.stats import bernoulli\n",
    "from sklearn.cluster import KMeans\n",
    "from sklearn.utils import shuffle\n",
    "from tqdm import tqdm\n",
    "from sklearn.naive_bayes import GaussianNB\n",
    "from sklearn.naive_bayes import MultinomialNB"
   ]
  },
  {
   "cell_type": "code",
   "execution_count": 2,
   "id": "19d5af61-214d-4982-8163-dcbc2a3e79dc",
   "metadata": {},
   "outputs": [],
   "source": [
    "np.random.seed(1457065)\n",
    "n_gen = 50\n",
    "n_samples = 4*n_gen\n",
    "data_red_1 = np.random.multivariate_normal(mean=np.array([2,2]),\n",
    "                                             cov=np.array(([1,-0.25],[-0.25,1])),\n",
    "                                             size=n_gen)\n",
    "data_red_2 = np.random.uniform(low=1.0, high=3.0, size=(n_gen,2))\n",
    "\n",
    "data_blue_1 = np.random.multivariate_normal(mean=np.array([-1,-1]),\n",
    "                                            cov=np.eye(2)*0.5,\n",
    "                                            size=n_gen)\n",
    "data_blue_2 = np.random.uniform(low=-2, high=-1, size=(n_gen,2))\n",
    "\n",
    "data_red = np.vstack((data_red_1,data_red_2))\n",
    "labels_red = (np.ones(2*n_gen)*-1).reshape(2*n_gen,1)\n",
    "data_red = np.hstack((data_red,labels_red))\n",
    "\n",
    "data_blue = np.vstack((data_blue_1, data_blue_2))\n",
    "labels_blue = (np.ones(2*n_gen)).reshape(2*n_gen,1)\n",
    "data_blue = np.hstack((data_blue,labels_blue))\n",
    "\n",
    "whole_data = np.vstack((data_blue, data_red))"
   ]
  },
  {
   "cell_type": "code",
   "execution_count": 3,
   "id": "66cc50f1-b6fb-473f-aebb-fb482dc58f27",
   "metadata": {},
   "outputs": [],
   "source": [
    "df = pd.DataFrame(whole_data)"
   ]
  },
  {
   "cell_type": "code",
   "execution_count": 5,
   "id": "dfe58892-417e-4aa6-ac0e-13fe92054979",
   "metadata": {},
   "outputs": [],
   "source": [
    "df.columns = ['x1','x2','class']"
   ]
  },
  {
   "cell_type": "code",
   "execution_count": 6,
   "id": "80cb4792-0508-443b-82fc-2a2d49cf3f32",
   "metadata": {},
   "outputs": [],
   "source": [
    "clf_1 = GaussianNB().fit(X=whole_data[:,:-1],y=whole_data[:,2])"
   ]
  },
  {
   "cell_type": "code",
   "execution_count": null,
   "id": "da7d5329-947e-4f36-89e6-4aa67a328b6a",
   "metadata": {},
   "outputs": [],
   "source": []
  }
 ],
 "metadata": {
  "kernelspec": {
   "display_name": "Python 3 (ipykernel)",
   "language": "python",
   "name": "python3"
  },
  "language_info": {
   "codemirror_mode": {
    "name": "ipython",
    "version": 3
   },
   "file_extension": ".py",
   "mimetype": "text/x-python",
   "name": "python",
   "nbconvert_exporter": "python",
   "pygments_lexer": "ipython3",
   "version": "3.12.4"
  }
 },
 "nbformat": 4,
 "nbformat_minor": 5
}
