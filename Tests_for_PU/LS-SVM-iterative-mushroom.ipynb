{
 "cells": [
  {
   "cell_type": "code",
   "execution_count": 1,
   "id": "03129a83-b287-42d6-a93d-e22bc21ac13a",
   "metadata": {},
   "outputs": [],
   "source": [
    "import pandas as pd\n",
    "import numpy as np\n",
    "from scipy.stats import bernoulli\n",
    "import matplotlib.pyplot as plt\n",
    "from sklearn.cluster import KMeans\n",
    "from tqdm import tqdm"
   ]
  },
  {
   "cell_type": "code",
   "execution_count": 2,
   "id": "8ffbae80-c85e-46fa-81b0-43b755a2aba2",
   "metadata": {},
   "outputs": [],
   "source": [
    "def rbf(x,y,l=1):\n",
    "    \"\"\"Gaussian kernel\n",
    "\n",
    "    Parameters\n",
    "    -------------------------------\n",
    "    x : float\n",
    "    a real number\n",
    "\n",
    "    y : float\n",
    "    a real number\n",
    "\n",
    "    l: float, non zero\n",
    "    a scale parameter\n",
    "    -------------------------------\n",
    "    \"\"\"\n",
    "    dim = x.shape[0]\n",
    "    vect = np.empty(dim)\n",
    "    if dim == y.shape[0]  :\n",
    "        d = np.exp(-((np.linalg.norm(x-y))**2)/(2*(l**2)))\n",
    "        return d\n",
    "    else :\n",
    "        for i in range(dim):\n",
    "            vect[i] = np.exp(-((np.linalg.norm(x[i] - y))**2)/(2*(l**2)))\n",
    "        return vect"
   ]
  },
  {
   "cell_type": "code",
   "execution_count": 3,
   "id": "c42e62fe-ec30-4895-a38d-e658bb27590c",
   "metadata": {},
   "outputs": [
    {
     "data": {
      "text/html": [
       "<div>\n",
       "<style scoped>\n",
       "    .dataframe tbody tr th:only-of-type {\n",
       "        vertical-align: middle;\n",
       "    }\n",
       "\n",
       "    .dataframe tbody tr th {\n",
       "        vertical-align: top;\n",
       "    }\n",
       "\n",
       "    .dataframe thead th {\n",
       "        text-align: right;\n",
       "    }\n",
       "</style>\n",
       "<table border=\"1\" class=\"dataframe\">\n",
       "  <thead>\n",
       "    <tr style=\"text-align: right;\">\n",
       "      <th></th>\n",
       "      <th>cap-diameter</th>\n",
       "      <th>cap-shape</th>\n",
       "      <th>gill-attachment</th>\n",
       "      <th>gill-color</th>\n",
       "      <th>stem-height</th>\n",
       "      <th>stem-width</th>\n",
       "      <th>stem-color</th>\n",
       "      <th>season</th>\n",
       "      <th>class</th>\n",
       "    </tr>\n",
       "    <tr>\n",
       "      <th>label</th>\n",
       "      <th></th>\n",
       "      <th></th>\n",
       "      <th></th>\n",
       "      <th></th>\n",
       "      <th></th>\n",
       "      <th></th>\n",
       "      <th></th>\n",
       "      <th></th>\n",
       "      <th></th>\n",
       "    </tr>\n",
       "  </thead>\n",
       "  <tbody>\n",
       "    <tr>\n",
       "      <th>-1.0</th>\n",
       "      <td>46601</td>\n",
       "      <td>46601</td>\n",
       "      <td>46601</td>\n",
       "      <td>46601</td>\n",
       "      <td>46601</td>\n",
       "      <td>46601</td>\n",
       "      <td>46601</td>\n",
       "      <td>46601</td>\n",
       "      <td>46601</td>\n",
       "    </tr>\n",
       "    <tr>\n",
       "      <th>1.0</th>\n",
       "      <td>7434</td>\n",
       "      <td>7434</td>\n",
       "      <td>7434</td>\n",
       "      <td>7434</td>\n",
       "      <td>7434</td>\n",
       "      <td>7434</td>\n",
       "      <td>7434</td>\n",
       "      <td>7434</td>\n",
       "      <td>7434</td>\n",
       "    </tr>\n",
       "  </tbody>\n",
       "</table>\n",
       "</div>"
      ],
      "text/plain": [
       "       cap-diameter  cap-shape  gill-attachment  gill-color  stem-height  \\\n",
       "label                                                                      \n",
       "-1.0          46601      46601            46601       46601        46601   \n",
       " 1.0           7434       7434             7434        7434         7434   \n",
       "\n",
       "       stem-width  stem-color  season  class  \n",
       "label                                         \n",
       "-1.0        46601       46601   46601  46601  \n",
       " 1.0         7434        7434    7434   7434  "
      ]
     },
     "execution_count": 3,
     "metadata": {},
     "output_type": "execute_result"
    }
   ],
   "source": [
    "#we 'create' unlabelled data\n",
    "\n",
    "mushrooms = pd.read_csv('mushroom.csv')\n",
    "n_samples = mushrooms.shape[0]\n",
    "\n",
    "mushrooms['label'] = np.ones(n_samples)*(-1)\n",
    "for i in range(n_samples):\n",
    "    random = bernoulli.rvs(p=3/4)\n",
    "    if mushrooms.loc[i,'class'] == 1 and random == 0:\n",
    "        mushrooms.loc[i,'label'] = 1\n",
    "    else:\n",
    "        mushrooms.loc[i,'label'] = -1\n",
    "\n",
    "mushrooms.groupby('label').count()"
   ]
  },
  {
   "cell_type": "code",
   "execution_count": 4,
   "id": "086fb65a-39dc-4584-a228-dbd7c3bdc6e4",
   "metadata": {},
   "outputs": [],
   "source": [
    "n_samples = mushrooms.shape[0]"
   ]
  },
  {
   "cell_type": "code",
   "execution_count": 5,
   "id": "413ab8d4-829f-4b38-827d-3dafc8d230a4",
   "metadata": {},
   "outputs": [
    {
     "data": {
      "text/html": [
       "<div>\n",
       "<style scoped>\n",
       "    .dataframe tbody tr th:only-of-type {\n",
       "        vertical-align: middle;\n",
       "    }\n",
       "\n",
       "    .dataframe tbody tr th {\n",
       "        vertical-align: top;\n",
       "    }\n",
       "\n",
       "    .dataframe thead th {\n",
       "        text-align: right;\n",
       "    }\n",
       "</style>\n",
       "<table border=\"1\" class=\"dataframe\">\n",
       "  <thead>\n",
       "    <tr style=\"text-align: right;\">\n",
       "      <th></th>\n",
       "      <th>class</th>\n",
       "      <th>label</th>\n",
       "    </tr>\n",
       "    <tr>\n",
       "      <th>cluster</th>\n",
       "      <th></th>\n",
       "      <th></th>\n",
       "    </tr>\n",
       "  </thead>\n",
       "  <tbody>\n",
       "    <tr>\n",
       "      <th>0</th>\n",
       "      <td>8523</td>\n",
       "      <td>-7440.0</td>\n",
       "    </tr>\n",
       "    <tr>\n",
       "      <th>1</th>\n",
       "      <td>1517</td>\n",
       "      <td>-1302.0</td>\n",
       "    </tr>\n",
       "    <tr>\n",
       "      <th>2</th>\n",
       "      <td>1385</td>\n",
       "      <td>-3598.0</td>\n",
       "    </tr>\n",
       "    <tr>\n",
       "      <th>3</th>\n",
       "      <td>3285</td>\n",
       "      <td>-5631.0</td>\n",
       "    </tr>\n",
       "    <tr>\n",
       "      <th>4</th>\n",
       "      <td>4749</td>\n",
       "      <td>-6994.0</td>\n",
       "    </tr>\n",
       "    <tr>\n",
       "      <th>5</th>\n",
       "      <td>7063</td>\n",
       "      <td>-7708.0</td>\n",
       "    </tr>\n",
       "    <tr>\n",
       "      <th>6</th>\n",
       "      <td>2181</td>\n",
       "      <td>-4407.0</td>\n",
       "    </tr>\n",
       "    <tr>\n",
       "      <th>7</th>\n",
       "      <td>972</td>\n",
       "      <td>-2087.0</td>\n",
       "    </tr>\n",
       "  </tbody>\n",
       "</table>\n",
       "</div>"
      ],
      "text/plain": [
       "         class   label\n",
       "cluster               \n",
       "0         8523 -7440.0\n",
       "1         1517 -1302.0\n",
       "2         1385 -3598.0\n",
       "3         3285 -5631.0\n",
       "4         4749 -6994.0\n",
       "5         7063 -7708.0\n",
       "6         2181 -4407.0\n",
       "7          972 -2087.0"
      ]
     },
     "execution_count": 5,
     "metadata": {},
     "output_type": "execute_result"
    }
   ],
   "source": [
    "#we proceed as in the article, by first making clusters. \n",
    "#the choice of 8 is not based on the usual 'plot of inertia', but more on the fact that from 8\n",
    "#and after, there appears a cluster that has less than a thousand positive examples with many unlabelled\n",
    "#one could thus interpret that it might be the 'true' negative cluster\n",
    "n_cluster = 8\n",
    "clusterized_data = KMeans(n_clusters=n_cluster, init='random').fit(mushrooms.drop(['label', 'class'], axis=1).to_numpy())\n",
    "mushrooms['cluster'] = clusterized_data.labels_\n",
    "mushrooms[['class','label','cluster']].groupby('cluster').sum()"
   ]
  },
  {
   "cell_type": "code",
   "execution_count": 6,
   "id": "74ae5f8c-ef8a-444b-b7f8-ad84f0427b44",
   "metadata": {},
   "outputs": [
    {
     "name": "stdout",
     "output_type": "stream",
     "text": [
      "the cluster containing positive values is :  0 \n",
      " the one containing negative exampels is :  2\n"
     ]
    }
   ],
   "source": [
    "#we now define positive and negative clusters\n",
    "#the positive cluster is defined by the number of positive examples it contains where the negative cluster is\n",
    "#defined as the one with the highest distance to the centroid of the positive cluster\n",
    "#but as it turns out it doesn't work very well in this setting\n",
    "\"\"\"\n",
    "positive_cluster = np.where(mushrooms[['class','label','cluster']].groupby('cluster').sum().to_numpy()[:,1] == \n",
    "                            np.max(mushrooms[['class','label','cluster']].groupby('cluster').sum().to_numpy()[:,1]))[0][0]\n",
    "positive_centroid = clusterized_data.cluster_centers_[positive_cluster]\n",
    "dist_to_positive = np.empty(n_cluster)\n",
    "for i in range(n_cluster):\n",
    "    dist_to_positive[i] = np.linalg.norm(positive_centroid - clusterized_data.cluster_centers_[i])\n",
    "negative_cluster = np.where(dist_to_positive == np.max(dist_to_positive))[0][0]\n",
    "print('the cluster containing positive values is : ', positive_cluster, '\\n', \n",
    "      'the one containing negative exampels is : ', negative_cluster)\n",
    "\"\"\"\n",
    "list_of_ratio = []\n",
    "for i in range(n_cluster):\n",
    "    list_of_ratio.append(mushrooms[mushrooms['cluster'] == i]['label'].sum()/mushrooms[mushrooms['cluster'] == i]['class'].shape[0])\n",
    "list_of_ratio = np.array(list_of_ratio)\n",
    "positive_cluster = np.argmax(list_of_ratio)\n",
    "negative_cluster = np.argmin(list_of_ratio)\n",
    "print('the cluster containing positive values is : ', positive_cluster, '\\n', \n",
    "      'the one containing negative exampels is : ', negative_cluster)"
   ]
  },
  {
   "cell_type": "code",
   "execution_count": 7,
   "id": "5cdcf481-e0ff-4b5f-9715-5487a4d20c46",
   "metadata": {},
   "outputs": [],
   "source": [
    "reliable_positives = mushrooms[mushrooms['cluster'] == positive_cluster]\n",
    "reliable_positives = reliable_positives[reliable_positives['label'] == 1]\n",
    "reliable_negatives = mushrooms[mushrooms['cluster'] == negative_cluster]\n",
    "reliable_negatives = reliable_negatives[reliable_negatives['label'] == -1]"
   ]
  },
  {
   "cell_type": "code",
   "execution_count": 8,
   "id": "198b346d-8dd6-4dca-87e6-ae818e28b852",
   "metadata": {},
   "outputs": [
    {
     "name": "stdout",
     "output_type": "stream",
     "text": [
      "2118 3960\n"
     ]
    }
   ],
   "source": [
    "print(reliable_positives.shape[0], reliable_negatives.shape[0])"
   ]
  },
  {
   "cell_type": "code",
   "execution_count": 9,
   "id": "ab755a89-6206-4cb5-9e35-02b930516922",
   "metadata": {},
   "outputs": [],
   "source": [
    "#now, we suppose (it is true here but in theory we have to suppose what ratio do we want of labeled and unlabeled\n",
    "#data) that 1/2 of the data is positive"
   ]
  },
  {
   "cell_type": "code",
   "execution_count": 10,
   "id": "acc6ea60-18a4-4f26-87bf-d66d86bbd1b3",
   "metadata": {},
   "outputs": [],
   "source": [
    "reliable_negatives = reliable_negatives.sample(n=reliable_positives.shape[0])"
   ]
  },
  {
   "cell_type": "code",
   "execution_count": 11,
   "id": "b651f1d5-4313-4c3b-9160-59e4e1baeb60",
   "metadata": {},
   "outputs": [
    {
     "name": "stdout",
     "output_type": "stream",
     "text": [
      "2118 2118\n"
     ]
    }
   ],
   "source": [
    "print(reliable_positives.shape[0], reliable_negatives.shape[0])"
   ]
  },
  {
   "cell_type": "markdown",
   "id": "6046e2b6-1c41-4863-8eec-8f5642951ca6",
   "metadata": {},
   "source": [
    "Now, comes an important choice, because as we change the kernel we use, we have to change the \n",
    "phi matrix. To begin, I start with a rbf kernel as it is standard procedure.\n",
    "In fact, we know that : $ \\omega ^T = \\hat{\\alpha}  \\Phi (\\textbf{X})$, hence, we can say that $\\textbf{for a rbf kernel}$ $\\Phi(X) = \\kappa (X,0)$. With the 0 corresponding to the 0 of $\\mathbb{R}^n$, n=number of samples."
   ]
  },
  {
   "cell_type": "markdown",
   "id": "794c2034-cd61-4264-a8d0-3792aec6dab0",
   "metadata": {},
   "source": [
    "## LS-SVM"
   ]
  },
  {
   "cell_type": "code",
   "execution_count": 12,
   "id": "f000701a-5136-4dbb-b9ec-0141da3c499b",
   "metadata": {},
   "outputs": [],
   "source": [
    "#steps to compute alpha and b\n",
    "#first, computation of the 'omega' matrix\n",
    "gamma = 1\n",
    "positives_array = reliable_positives.drop(['class','cluster'], axis=1)\n",
    "negatives_array = reliable_negatives.drop(['class', 'cluster'], axis=1)\n",
    "data_svm = np.vstack((positives_array,negatives_array))\n",
    "n_reliable = data_svm.shape[0]\n",
    "outcome = data_svm[:,8]\n",
    "data_svm = data_svm[:,:8]\n",
    "omega = np.empty((n_reliable,n_reliable))\n",
    "for k in range(n_reliable):\n",
    "    for i in range(n_reliable):\n",
    "        omega[k,i] = outcome[k]*outcome[i]*rbf(x=data_svm[k,:],y=data_svm[i,:],l=10)\n",
    "#now, computation of the rest of the matrix\n",
    "first_row = np.hstack((0,-np.transpose(outcome)))\n",
    "first_row = first_row.reshape(1,first_row.shape[0])\n",
    "bot_of_mat_right = omega + (1/gamma)*np.eye(n_reliable)\n",
    "bot_of_mat = np.hstack((outcome.reshape(n_reliable,1), bot_of_mat_right))\n",
    "whole_mat = np.vstack((first_row, bot_of_mat))\n",
    "right_hand = np.ones(n_reliable+1)\n",
    "right_hand[0] = 0"
   ]
  },
  {
   "cell_type": "code",
   "execution_count": 13,
   "id": "f4d8f9ae-9f77-4cd9-b014-f12de65692d4",
   "metadata": {},
   "outputs": [],
   "source": [
    "#now, we get the coefficients by solving the set of linear equations\n",
    "coeffs = np.linalg.solve(a=whole_mat,b=right_hand)\n",
    "b = coeffs[0]\n",
    "alpha = coeffs[1:coeffs.shape[0]]"
   ]
  },
  {
   "cell_type": "code",
   "execution_count": null,
   "id": "7b1d0352-18f2-4c57-84e3-37cd09e267c0",
   "metadata": {},
   "outputs": [
    {
     "name": "stderr",
     "output_type": "stream",
     "text": [
      " 29%|██▊       | 15436/54035 [05:46<13:14, 48.56it/s]"
     ]
    }
   ],
   "source": [
    "#first test/iteration\n",
    "test_data = mushrooms.drop(['class','label','cluster'], axis=1).to_numpy()\n",
    "results = np.empty(n_samples)\n",
    "for i in tqdm(range(n_samples)):\n",
    "    results[i] = np.sign(np.sum(alpha*outcome*rbf(x=data_svm,y=test_data[i,:],l=10))+b)\n"
   ]
  },
  {
   "cell_type": "code",
   "execution_count": null,
   "id": "dca9843b-56ec-4c9b-a597-aed7ce8b3f8b",
   "metadata": {},
   "outputs": [],
   "source": [
    "#computation of the precision\n",
    "results_bis = results\n",
    "for i in range(n_samples):\n",
    "    if results[i] == -1:\n",
    "        results[i] = 0\n",
    "positives = np.sum(results)\n",
    "true_positives = 0\n",
    "mushrooms['result'] = results\n",
    "for i in range(n_samples):\n",
    "    if mushrooms.loc[i,'class'] == 1 and results[i] == 1:\n",
    "        true_positives += 1\n",
    "precision = true_positives/positives\n",
    "print(precision)"
   ]
  },
  {
   "cell_type": "code",
   "execution_count": null,
   "id": "d922113c-447c-43b2-893f-73f1bd16b48a",
   "metadata": {},
   "outputs": [],
   "source": [
    "#compared to the simple svm and the gmm, it is a lot better"
   ]
  },
  {
   "cell_type": "code",
   "execution_count": null,
   "id": "e6d46559-f498-4e77-99d3-6a26ae3e4655",
   "metadata": {},
   "outputs": [],
   "source": [
    "#but not many points labeled positive"
   ]
  },
  {
   "cell_type": "code",
   "execution_count": null,
   "id": "f23b56f0-7a1b-415c-b24f-b14f5f0254df",
   "metadata": {},
   "outputs": [],
   "source": [
    "negative_cluster"
   ]
  },
  {
   "cell_type": "code",
   "execution_count": null,
   "id": "4e812a11-4d43-4bbc-97ed-98dfe0a09589",
   "metadata": {},
   "outputs": [],
   "source": [
    "reliable_negatives['class'].sum()/reliable_negatives.shape[0]"
   ]
  },
  {
   "cell_type": "code",
   "execution_count": null,
   "id": "ff472375-6490-4196-b139-d6b7205d3360",
   "metadata": {},
   "outputs": [],
   "source": [
    "#little pb extracting reliable negatives as the rate is not very good"
   ]
  },
  {
   "cell_type": "code",
   "execution_count": null,
   "id": "d14df522-95da-49e1-aecd-b7438044a25b",
   "metadata": {},
   "outputs": [],
   "source": [
    "true_positives/mushrooms['class'].sum()"
   ]
  },
  {
   "cell_type": "code",
   "execution_count": null,
   "id": "f0a07d7d-5f83-49ca-8967-c378762cc3e6",
   "metadata": {},
   "outputs": [],
   "source": [
    "#the true positive rate is quite low"
   ]
  },
  {
   "cell_type": "code",
   "execution_count": null,
   "id": "73951728-2885-4527-8066-dfc29508e095",
   "metadata": {},
   "outputs": [],
   "source": [
    "b"
   ]
  },
  {
   "cell_type": "code",
   "execution_count": null,
   "id": "aa8ffcbe-be83-42a0-ae09-a8033b8701fc",
   "metadata": {},
   "outputs": [],
   "source": []
  }
 ],
 "metadata": {
  "kernelspec": {
   "display_name": "Python 3 (ipykernel)",
   "language": "python",
   "name": "python3"
  },
  "language_info": {
   "codemirror_mode": {
    "name": "ipython",
    "version": 3
   },
   "file_extension": ".py",
   "mimetype": "text/x-python",
   "name": "python",
   "nbconvert_exporter": "python",
   "pygments_lexer": "ipython3",
   "version": "3.12.3"
  }
 },
 "nbformat": 4,
 "nbformat_minor": 5
}
