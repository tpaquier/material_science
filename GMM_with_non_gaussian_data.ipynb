{
 "cells": [
  {
   "cell_type": "code",
   "execution_count": 1,
   "id": "29a27862-5e51-46b5-b42e-07334165f9cc",
   "metadata": {},
   "outputs": [],
   "source": [
    "import numpy as np\n",
    "import matplotlib.pyplot as plt\n",
    "import pandas as pd\n",
    "from matplotlib.patches import Ellipse\n",
    "import jupyterlab\n",
    "from scipy.stats import multivariate_normal"
   ]
  },
  {
   "cell_type": "code",
   "execution_count": 5,
   "id": "9bf309a4-9c42-44c9-9f5a-1e9fe352f9a3",
   "metadata": {},
   "outputs": [],
   "source": [
    "goup_1 = np.random.exponential(scale=1/2, size=(100,2))\n",
    "group_2 = np.random.exponential(scale=3, size=(100,2))\n",
    "group_3 = np.random.exponential(scale=8, size=(100,2))\n",
    "group_4 = np.random.exponential(scale=1/8, size=(100,2))"
   ]
  },
  {
   "cell_type": "code",
   "execution_count": null,
   "id": "7c36362e-8b3d-47ca-b19e-ca37be4cd621",
   "metadata": {},
   "outputs": [],
   "source": []
  }
 ],
 "metadata": {
  "kernelspec": {
   "display_name": "Python 3 (ipykernel)",
   "language": "python",
   "name": "python3"
  },
  "language_info": {
   "codemirror_mode": {
    "name": "ipython",
    "version": 3
   },
   "file_extension": ".py",
   "mimetype": "text/x-python",
   "name": "python",
   "nbconvert_exporter": "python",
   "pygments_lexer": "ipython3",
   "version": "3.12.3"
  }
 },
 "nbformat": 4,
 "nbformat_minor": 5
}
